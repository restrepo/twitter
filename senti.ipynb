{
 "cells": [
  {
   "cell_type": "markdown",
   "metadata": {},
   "source": [
    "## Análisis de sentimientos de Twitter con Python\n",
    "* https://platzi.com/tutoriales/1874-python-lenguaje-natural/5654-realiza-un-analisis-de-sentimiento-en-3-pasos-con-python/\n",
    "    * Ejemplo https://twitter.com/whaleandjaguar_?lang=en\n",
    "* https://towardsdatascience.com/my-absolute-go-to-for-sentiment-analysis-textblob-3ac3a11d524\n",
    "* https://www.justintodata.com/twitter-sentiment-analysis-python/\n",
    "* https://www.pluralsight.com/guides/building-a-twitter-sentiment-analysis-in-python"
   ]
  },
  {
   "cell_type": "markdown",
   "metadata": {},
   "source": [
    "### 1) Descargar tweets"
   ]
  },
  {
   "cell_type": "code",
   "execution_count": 183,
   "metadata": {},
   "outputs": [
    {
     "name": "stdout",
     "output_type": "stream",
     "text": [
      "Populating the interactive namespace from numpy and matplotlib\n"
     ]
    },
    {
     "name": "stderr",
     "output_type": "stream",
     "text": [
      "/usr/local/lib/python3.7/dist-packages/IPython/core/magics/pylab.py:160: UserWarning: pylab import has clobbered these variables: ['f', 'test']\n",
      "`%matplotlib` prevents importing * from pylab and numpy\n",
      "  \"\\n`%matplotlib` prevents importing * from pylab and numpy\"\n"
     ]
    }
   ],
   "source": [
    "%pylab inline"
   ]
  },
  {
   "cell_type": "code",
   "execution_count": 184,
   "metadata": {},
   "outputs": [],
   "source": [
    "import pandas as pd\n",
    "pd.set_option('display.max_colwidth',500)"
   ]
  },
  {
   "cell_type": "code",
   "execution_count": 215,
   "metadata": {},
   "outputs": [],
   "source": [
    "df=pd.read_json('https://raw.githubusercontent.com/restrepo/twitter/main/tweets_df.json')"
   ]
  },
  {
   "cell_type": "markdown",
   "metadata": {},
   "source": [
    "### 2) Análisis de sentimientos"
   ]
  },
  {
   "cell_type": "code",
   "execution_count": 186,
   "metadata": {},
   "outputs": [],
   "source": [
    "from textblob import TextBlob"
   ]
  },
  {
   "cell_type": "code",
   "execution_count": 187,
   "metadata": {},
   "outputs": [
    {
     "data": {
      "text/plain": [
       "0.7000000000000001"
      ]
     },
     "execution_count": 187,
     "metadata": {},
     "output_type": "execute_result"
    }
   ],
   "source": [
    "TextBlob('the day is bright').polarity"
   ]
  },
  {
   "cell_type": "code",
   "execution_count": 188,
   "metadata": {},
   "outputs": [
    {
     "data": {
      "text/plain": [
       "0.0"
      ]
     },
     "execution_count": 188,
     "metadata": {},
     "output_type": "execute_result"
    }
   ],
   "source": [
    "TextBlob('the day is gray').polarity"
   ]
  },
  {
   "cell_type": "code",
   "execution_count": 189,
   "metadata": {},
   "outputs": [
    {
     "data": {
      "text/plain": [
       "-0.15"
      ]
     },
     "execution_count": 189,
     "metadata": {},
     "output_type": "execute_result"
    }
   ],
   "source": [
    "TextBlob('the day is dark').polarity"
   ]
  },
  {
   "cell_type": "code",
   "execution_count": 190,
   "metadata": {},
   "outputs": [
    {
     "data": {
      "text/plain": [
       "0.0"
      ]
     },
     "execution_count": 190,
     "metadata": {},
     "output_type": "execute_result"
    }
   ],
   "source": [
    "TextBlob('el día es oscuro').polarity"
   ]
  },
  {
   "cell_type": "code",
   "execution_count": null,
   "metadata": {},
   "outputs": [],
   "source": [
    "TextBlob('el día es oscuro').translate(from_lang='es',to='en')"
   ]
  },
  {
   "cell_type": "code",
   "execution_count": null,
   "metadata": {},
   "outputs": [],
   "source": [
    "TextBlob('el día es oscuro').translate(from_lang='es',to='en').polarity"
   ]
  },
  {
   "cell_type": "markdown",
   "metadata": {},
   "source": [
    "### 2. Limitar los tweet a 500 palabras"
   ]
  },
  {
   "cell_type": "code",
   "execution_count": 103,
   "metadata": {},
   "outputs": [],
   "source": [
    "data=df.sample(100).reset_index(drop=True)"
   ]
  },
  {
   "cell_type": "code",
   "execution_count": 104,
   "metadata": {},
   "outputs": [],
   "source": [
    "data['tweet']=data['text'].str.split(':').str[-1]"
   ]
  },
  {
   "cell_type": "code",
   "execution_count": 105,
   "metadata": {},
   "outputs": [
    {
     "data": {
      "text/plain": [
       "22631"
      ]
     },
     "execution_count": 105,
     "metadata": {},
     "output_type": "execute_result"
    }
   ],
   "source": [
    "len(data['tweet'].sum())"
   ]
  },
  {
   "cell_type": "code",
   "execution_count": 106,
   "metadata": {},
   "outputs": [
    {
     "data": {
      "text/html": [
       "<div>\n",
       "<style scoped>\n",
       "    .dataframe tbody tr th:only-of-type {\n",
       "        vertical-align: middle;\n",
       "    }\n",
       "\n",
       "    .dataframe tbody tr th {\n",
       "        vertical-align: top;\n",
       "    }\n",
       "\n",
       "    .dataframe thead th {\n",
       "        text-align: right;\n",
       "    }\n",
       "</style>\n",
       "<table border=\"1\" class=\"dataframe\">\n",
       "  <thead>\n",
       "    <tr style=\"text-align: right;\">\n",
       "      <th></th>\n",
       "      <th>user_name</th>\n",
       "      <th>user_location</th>\n",
       "      <th>user_description</th>\n",
       "      <th>user_verified</th>\n",
       "      <th>date</th>\n",
       "      <th>text</th>\n",
       "      <th>hashtags</th>\n",
       "      <th>source</th>\n",
       "      <th>tweet</th>\n",
       "    </tr>\n",
       "  </thead>\n",
       "  <tbody>\n",
       "    <tr>\n",
       "      <th>10</th>\n",
       "      <td>Oscar Carvajal</td>\n",
       "      <td></td>\n",
       "      <td></td>\n",
       "      <td>False</td>\n",
       "      <td>2021-05-12 03:26:44</td>\n",
       "      <td>RT @intiasprilla: Desde #Cali en compañía de @wilsonariasc y @FabianDiazPlata les cuento que a la gente la quieren confundir, quieren llama…</td>\n",
       "      <td>[Cali]</td>\n",
       "      <td>Twitter for Android</td>\n",
       "      <td>Desde #Cali en compañía de @wilsonariasc y @FabianDiazPlata les cuento que a la gente la quieren confundir, quieren llama…</td>\n",
       "    </tr>\n",
       "  </tbody>\n",
       "</table>\n",
       "</div>"
      ],
      "text/plain": [
       "         user_name user_location user_description  user_verified  \\\n",
       "10  Oscar Carvajal                                         False   \n",
       "\n",
       "                  date  \\\n",
       "10 2021-05-12 03:26:44   \n",
       "\n",
       "                                                                                                                                            text  \\\n",
       "10  RT @intiasprilla: Desde #Cali en compañía de @wilsonariasc y @FabianDiazPlata les cuento que a la gente la quieren confundir, quieren llama…   \n",
       "\n",
       "   hashtags               source  \\\n",
       "10   [Cali]  Twitter for Android   \n",
       "\n",
       "                                                                                                                          tweet  \n",
       "10   Desde #Cali en compañía de @wilsonariasc y @FabianDiazPlata les cuento que a la gente la quieren confundir, quieren llama…  "
      ]
     },
     "execution_count": 106,
     "metadata": {},
     "output_type": "execute_result"
    }
   ],
   "source": [
    "data.loc[[10]]"
   ]
  },
  {
   "cell_type": "code",
   "execution_count": 112,
   "metadata": {},
   "outputs": [],
   "source": [
    "polarity=[]\n",
    "for tweet in data['tweet']:\n",
    "    #print(tweet)\n",
    "    #try:\n",
    "    analysis=TextBlob(tweet)#.translate(from_lang='es',to='en')\n",
    "    #except:\n",
    "    #    analysis=TextBlob(tweet)\n",
    "    polarity.append(analysis.polarity)"
   ]
  },
  {
   "cell_type": "code",
   "execution_count": null,
   "metadata": {},
   "outputs": [],
   "source": [
    "TextBlob."
   ]
  },
  {
   "cell_type": "code",
   "execution_count": 113,
   "metadata": {},
   "outputs": [],
   "source": [
    "data['polarity']=polarity"
   ]
  },
  {
   "cell_type": "code",
   "execution_count": 114,
   "metadata": {},
   "outputs": [
    {
     "data": {
      "text/html": [
       "<div>\n",
       "<style scoped>\n",
       "    .dataframe tbody tr th:only-of-type {\n",
       "        vertical-align: middle;\n",
       "    }\n",
       "\n",
       "    .dataframe tbody tr th {\n",
       "        vertical-align: top;\n",
       "    }\n",
       "\n",
       "    .dataframe thead th {\n",
       "        text-align: right;\n",
       "    }\n",
       "</style>\n",
       "<table border=\"1\" class=\"dataframe\">\n",
       "  <thead>\n",
       "    <tr style=\"text-align: right;\">\n",
       "      <th></th>\n",
       "      <th>text</th>\n",
       "      <th>polarity</th>\n",
       "    </tr>\n",
       "  </thead>\n",
       "  <tbody>\n",
       "    <tr>\n",
       "      <th>0</th>\n",
       "      <td>RT @ACVCRAN: #ParoNacional \"El campesinado del Valle del Río Cimitarra paran en contra del asesinato a líderes y lideresas defensoras de lo…</td>\n",
       "      <td>0.0</td>\n",
       "    </tr>\n",
       "    <tr>\n",
       "      <th>1</th>\n",
       "      <td>RT @elespectador: Los mensajes contradictorios del Gobierno frente al #ParoNacional. \\nhttps://t.co/AfQc2fih3q https://t.co/SGd8NqzNTp</td>\n",
       "      <td>0.0</td>\n",
       "    </tr>\n",
       "    <tr>\n",
       "      <th>2</th>\n",
       "      <td>RT @CSPP_: #IMPORTANTE 🆘🗣️ Es importante que tengamos en cuenta que la defensa de los DDHH en Colombia en el marco del #ParoNacional 🇨🇴 pue…</td>\n",
       "      <td>0.0</td>\n",
       "    </tr>\n",
       "    <tr>\n",
       "      <th>3</th>\n",
       "      <td>RT @dw_espanol: En la primera línea de las protestas en #Colombia\\n\\nEste \"instagramer\" y activista grabó de primera mano lo ocurrido durante…</td>\n",
       "      <td>0.0</td>\n",
       "    </tr>\n",
       "    <tr>\n",
       "      <th>4</th>\n",
       "      <td>RT @GiovanniCelisS: Ciudadanos de #Cali aplauden a @PoliciaColombia luego de levantamiento de bloqueos ilegales y disturbios en esa ciudad…</td>\n",
       "      <td>0.0</td>\n",
       "    </tr>\n",
       "    <tr>\n",
       "      <th>...</th>\n",
       "      <td>...</td>\n",
       "      <td>...</td>\n",
       "    </tr>\n",
       "    <tr>\n",
       "      <th>195</th>\n",
       "      <td>RT @COMANDANTE_EJC: En #Cali, mi mensaje hacia ellos fue contarles que nuestro trabajo es por el bienestar, la estabilidad  y seguridad de…</td>\n",
       "      <td>0.0</td>\n",
       "    </tr>\n",
       "    <tr>\n",
       "      <th>196</th>\n",
       "      <td>RT @DanielPalam: En #Cali acompañamos al Pdte @IvanDuque en diálogo con diferentes instituciones y sectores  del #ValleDelCauca, quienes se…</td>\n",
       "      <td>0.0</td>\n",
       "    </tr>\n",
       "    <tr>\n",
       "      <th>197</th>\n",
       "      <td>RT @KevinMaOficial: Hace unos momentos en Siloé, Cali.  Protesta pacífica, sostenida, pero sobre todo en paz.  #ParoNacional11M #ParoNacion…</td>\n",
       "      <td>0.0</td>\n",
       "    </tr>\n",
       "    <tr>\n",
       "      <th>198</th>\n",
       "      <td>Art. 374 de la Constitución Política de Colombia! Es lo que hay q exigir #ParoNacionalColombia #ParoNacional12M #momentosdecambios #colombia #Cali #referendoya #nomascorruptos @CongresoCol @infopresidencia https://t.co/t9KIqrIcT5</td>\n",
       "      <td>0.0</td>\n",
       "    </tr>\n",
       "    <tr>\n",
       "      <th>199</th>\n",
       "      <td>RT @N0S3S74NM474ND0: Y los desaparecidos?\\nY los muertos?\\nQuien responde?\\n✊🇨🇴\\n #ParoNacional11M #ParoNacional #ResistenciaColombia https://t…</td>\n",
       "      <td>0.0</td>\n",
       "    </tr>\n",
       "  </tbody>\n",
       "</table>\n",
       "<p>200 rows × 2 columns</p>\n",
       "</div>"
      ],
      "text/plain": [
       "                                                                                                                                                                                                                                      text  \\\n",
       "0                                                                                             RT @ACVCRAN: #ParoNacional \"El campesinado del Valle del Río Cimitarra paran en contra del asesinato a líderes y lideresas defensoras de lo…   \n",
       "1                                                                                                   RT @elespectador: Los mensajes contradictorios del Gobierno frente al #ParoNacional. \\nhttps://t.co/AfQc2fih3q https://t.co/SGd8NqzNTp   \n",
       "2                                                                                             RT @CSPP_: #IMPORTANTE 🆘🗣️ Es importante que tengamos en cuenta que la defensa de los DDHH en Colombia en el marco del #ParoNacional 🇨🇴 pue…   \n",
       "3                                                                                           RT @dw_espanol: En la primera línea de las protestas en #Colombia\\n\\nEste \"instagramer\" y activista grabó de primera mano lo ocurrido durante…   \n",
       "4                                                                                              RT @GiovanniCelisS: Ciudadanos de #Cali aplauden a @PoliciaColombia luego de levantamiento de bloqueos ilegales y disturbios en esa ciudad…   \n",
       "..                                                                                                                                                                                                                                     ...   \n",
       "195                                                                                            RT @COMANDANTE_EJC: En #Cali, mi mensaje hacia ellos fue contarles que nuestro trabajo es por el bienestar, la estabilidad  y seguridad de…   \n",
       "196                                                                                           RT @DanielPalam: En #Cali acompañamos al Pdte @IvanDuque en diálogo con diferentes instituciones y sectores  del #ValleDelCauca, quienes se…   \n",
       "197                                                                                           RT @KevinMaOficial: Hace unos momentos en Siloé, Cali.  Protesta pacífica, sostenida, pero sobre todo en paz.  #ParoNacional11M #ParoNacion…   \n",
       "198  Art. 374 de la Constitución Política de Colombia! Es lo que hay q exigir #ParoNacionalColombia #ParoNacional12M #momentosdecambios #colombia #Cali #referendoya #nomascorruptos @CongresoCol @infopresidencia https://t.co/t9KIqrIcT5   \n",
       "199                                                                                       RT @N0S3S74NM474ND0: Y los desaparecidos?\\nY los muertos?\\nQuien responde?\\n✊🇨🇴\\n #ParoNacional11M #ParoNacional #ResistenciaColombia https://t…   \n",
       "\n",
       "     polarity  \n",
       "0         0.0  \n",
       "1         0.0  \n",
       "2         0.0  \n",
       "3         0.0  \n",
       "4         0.0  \n",
       "..        ...  \n",
       "195       0.0  \n",
       "196       0.0  \n",
       "197       0.0  \n",
       "198       0.0  \n",
       "199       0.0  \n",
       "\n",
       "[200 rows x 2 columns]"
      ]
     },
     "execution_count": 114,
     "metadata": {},
     "output_type": "execute_result"
    }
   ],
   "source": [
    "data[['text','polarity']]"
   ]
  },
  {
   "cell_type": "code",
   "execution_count": 115,
   "metadata": {},
   "outputs": [
    {
     "data": {
      "text/plain": [
       "<matplotlib.collections.PathCollection at 0x7ff9268bcef0>"
      ]
     },
     "execution_count": 115,
     "metadata": {},
     "output_type": "execute_result"
    },
    {
     "data": {
      "image/png": "[encoded data removed]",
      "text/plain": [
       "<Figure size 720x360 with 1 Axes>"
      ]
     },
     "metadata": {
      "needs_background": "light"
     },
     "output_type": "display_data"
    }
   ],
   "source": [
    "plt.figure(figsize=(10,5))\n",
    "plt.scatter(data['date'].apply(lambda d: d.hour),data['polarity'])"
   ]
  },
  {
   "cell_type": "markdown",
   "metadata": {},
   "source": [
    "### Cree un nuevo clasificador\n",
    "https://textblob.readthedocs.io/en/dev/classifiers.html#classifiers"
   ]
  },
  {
   "cell_type": "code",
   "execution_count": 192,
   "metadata": {},
   "outputs": [
    {
     "name": "stderr",
     "output_type": "stream",
     "text": [
      "[nltk_data] Downloading package stopwords to\n",
      "[nltk_data]     /home/restrepo/nltk_data...\n",
      "[nltk_data]   Package stopwords is already up-to-date!\n"
     ]
    },
    {
     "data": {
      "text/plain": [
       "True"
      ]
     },
     "execution_count": 192,
     "metadata": {},
     "output_type": "execute_result"
    }
   ],
   "source": [
    "import nltk\n",
    "from nltk.corpus import stopwords\n",
    "nltk.download('stopwords')"
   ]
  },
  {
   "cell_type": "markdown",
   "metadata": {},
   "source": [
    "See:\n",
    "* https://www.pluralsight.com/guides/building-a-twitter-sentiment-analysis-in-python"
   ]
  },
  {
   "cell_type": "code",
   "execution_count": 193,
   "metadata": {},
   "outputs": [],
   "source": [
    "import re\n",
    "stop_words=['rt',':']#+stopwords.words('spanish')\n",
    "def preprocess_tweet_text(tweet):\n",
    "    tweet=tweet.lower()\n",
    "    # Remove urls\n",
    "    tweet = re.sub(r\"http\\S+|www\\S+|https\\S+\", '', tweet, re.UNICODE ,flags=re.MULTILINE)\n",
    "    # Remove user @ references and '#' from tweet\n",
    "    tweet = re.sub(r'\\@\\w+|\\#','', tweet)\n",
    "    # Remove punctuations\n",
    "    #tweet = tweet.translate(str.maketrans('', '', string.punctuation))\n",
    "    # Remove stopwords\n",
    "    tweet_tokens = tweet.replace(\"  \",\" \").split()\n",
    "    filtered_words = [w for w in tweet_tokens if not w in stop_words]\n",
    "    \n",
    "    #ps = PorterStemmer()\n",
    "    #stemmed_words = [ps.stem(w) for w in filtered_words]\n",
    "    #lemmatizer = WordNetLemmatizer()\n",
    "    #lemma_words = [lemmatizer.lemmatize(w, pos='a') for w in stemmed_words]\n",
    "    \n",
    "    return \" \".join(filtered_words)"
   ]
  },
  {
   "cell_type": "code",
   "execution_count": 197,
   "metadata": {},
   "outputs": [
    {
     "ename": "AttributeError",
     "evalue": "'Series' object has no attribute 'lower'",
     "output_type": "error",
     "traceback": [
      "\u001b[0;31m---------------------------------------------------------------------------\u001b[0m",
      "\u001b[0;31mAttributeError\u001b[0m                            Traceback (most recent call last)",
      "\u001b[0;32m/tmp/ipykernel_10469/2352843957.py\u001b[0m in \u001b[0;36m<module>\u001b[0;34m\u001b[0m\n\u001b[0;32m----> 1\u001b[0;31m \u001b[0mpreprocess_tweet_text\u001b[0m\u001b[0;34m(\u001b[0m \u001b[0mdf\u001b[0m\u001b[0;34m[\u001b[0m\u001b[0;34m'text'\u001b[0m\u001b[0;34m]\u001b[0m \u001b[0;34m)\u001b[0m\u001b[0;34m\u001b[0m\u001b[0;34m\u001b[0m\u001b[0m\n\u001b[0m",
      "\u001b[0;32m/tmp/ipykernel_10469/4026354181.py\u001b[0m in \u001b[0;36mpreprocess_tweet_text\u001b[0;34m(tweet)\u001b[0m\n\u001b[1;32m      2\u001b[0m \u001b[0mstop_words\u001b[0m\u001b[0;34m=\u001b[0m\u001b[0;34m[\u001b[0m\u001b[0;34m'rt'\u001b[0m\u001b[0;34m,\u001b[0m\u001b[0;34m':'\u001b[0m\u001b[0;34m]\u001b[0m\u001b[0;31m#+stopwords.words('spanish')\u001b[0m\u001b[0;34m\u001b[0m\u001b[0;34m\u001b[0m\u001b[0m\n\u001b[1;32m      3\u001b[0m \u001b[0;32mdef\u001b[0m \u001b[0mpreprocess_tweet_text\u001b[0m\u001b[0;34m(\u001b[0m\u001b[0mtweet\u001b[0m\u001b[0;34m)\u001b[0m\u001b[0;34m:\u001b[0m\u001b[0;34m\u001b[0m\u001b[0;34m\u001b[0m\u001b[0m\n\u001b[0;32m----> 4\u001b[0;31m     \u001b[0mtweet\u001b[0m\u001b[0;34m=\u001b[0m\u001b[0mtweet\u001b[0m\u001b[0;34m.\u001b[0m\u001b[0mlower\u001b[0m\u001b[0;34m(\u001b[0m\u001b[0;34m)\u001b[0m\u001b[0;34m\u001b[0m\u001b[0;34m\u001b[0m\u001b[0m\n\u001b[0m\u001b[1;32m      5\u001b[0m     \u001b[0;31m# Remove urls\u001b[0m\u001b[0;34m\u001b[0m\u001b[0;34m\u001b[0m\u001b[0;34m\u001b[0m\u001b[0m\n\u001b[1;32m      6\u001b[0m     \u001b[0mtweet\u001b[0m \u001b[0;34m=\u001b[0m \u001b[0mre\u001b[0m\u001b[0;34m.\u001b[0m\u001b[0msub\u001b[0m\u001b[0;34m(\u001b[0m\u001b[0;34mr\"http\\S+|www\\S+|https\\S+\"\u001b[0m\u001b[0;34m,\u001b[0m \u001b[0;34m''\u001b[0m\u001b[0;34m,\u001b[0m \u001b[0mtweet\u001b[0m\u001b[0;34m,\u001b[0m \u001b[0mre\u001b[0m\u001b[0;34m.\u001b[0m\u001b[0mUNICODE\u001b[0m \u001b[0;34m,\u001b[0m\u001b[0mflags\u001b[0m\u001b[0;34m=\u001b[0m\u001b[0mre\u001b[0m\u001b[0;34m.\u001b[0m\u001b[0mMULTILINE\u001b[0m\u001b[0;34m)\u001b[0m\u001b[0;34m\u001b[0m\u001b[0;34m\u001b[0m\u001b[0m\n",
      "\u001b[0;32m/usr/local/lib/python3.7/dist-packages/pandas/core/generic.py\u001b[0m in \u001b[0;36m__getattr__\u001b[0;34m(self, name)\u001b[0m\n\u001b[1;32m   5137\u001b[0m             \u001b[0;32mif\u001b[0m \u001b[0mself\u001b[0m\u001b[0;34m.\u001b[0m\u001b[0m_info_axis\u001b[0m\u001b[0;34m.\u001b[0m\u001b[0m_can_hold_identifiers_and_holds_name\u001b[0m\u001b[0;34m(\u001b[0m\u001b[0mname\u001b[0m\u001b[0;34m)\u001b[0m\u001b[0;34m:\u001b[0m\u001b[0;34m\u001b[0m\u001b[0;34m\u001b[0m\u001b[0m\n\u001b[1;32m   5138\u001b[0m                 \u001b[0;32mreturn\u001b[0m \u001b[0mself\u001b[0m\u001b[0;34m[\u001b[0m\u001b[0mname\u001b[0m\u001b[0;34m]\u001b[0m\u001b[0;34m\u001b[0m\u001b[0;34m\u001b[0m\u001b[0m\n\u001b[0;32m-> 5139\u001b[0;31m             \u001b[0;32mreturn\u001b[0m \u001b[0mobject\u001b[0m\u001b[0;34m.\u001b[0m\u001b[0m__getattribute__\u001b[0m\u001b[0;34m(\u001b[0m\u001b[0mself\u001b[0m\u001b[0;34m,\u001b[0m \u001b[0mname\u001b[0m\u001b[0;34m)\u001b[0m\u001b[0;34m\u001b[0m\u001b[0;34m\u001b[0m\u001b[0m\n\u001b[0m\u001b[1;32m   5140\u001b[0m \u001b[0;34m\u001b[0m\u001b[0m\n\u001b[1;32m   5141\u001b[0m     \u001b[0;32mdef\u001b[0m \u001b[0m__setattr__\u001b[0m\u001b[0;34m(\u001b[0m\u001b[0mself\u001b[0m\u001b[0;34m,\u001b[0m \u001b[0mname\u001b[0m\u001b[0;34m:\u001b[0m \u001b[0mstr\u001b[0m\u001b[0;34m,\u001b[0m \u001b[0mvalue\u001b[0m\u001b[0;34m)\u001b[0m \u001b[0;34m->\u001b[0m \u001b[0;32mNone\u001b[0m\u001b[0;34m:\u001b[0m\u001b[0;34m\u001b[0m\u001b[0;34m\u001b[0m\u001b[0m\n",
      "\u001b[0;31mAttributeError\u001b[0m: 'Series' object has no attribute 'lower'"
     ]
    }
   ],
   "source": [
    "df['text'].apply(preprocess_tweet_text)"
   ]
  },
  {
   "cell_type": "code",
   "execution_count": 159,
   "metadata": {},
   "outputs": [
    {
     "data": {
      "text/plain": [
       "'el semanario voz recalca su apoyo a la minga indígena. nos cuida el movimiento popular, no las fuerzas militares. ✊ par…'"
      ]
     },
     "execution_count": 159,
     "metadata": {},
     "output_type": "execute_result"
    }
   ],
   "source": [
    "preprocess_tweet_text( .loc[0] "
   ]
  },
  {
   "cell_type": "markdown",
   "metadata": {},
   "source": [
    "A favor → pos\n",
    "En contra → neg"
   ]
  },
  {
   "cell_type": "code",
   "execution_count": 202,
   "metadata": {},
   "outputs": [],
   "source": [
    "from fuzzywuzzy import process\n",
    "from fuzzywuzzy import  fuzz"
   ]
  },
  {
   "cell_type": "code",
   "execution_count": 206,
   "metadata": {},
   "outputs": [
    {
     "data": {
      "text/plain": [
       "22"
      ]
     },
     "execution_count": 206,
     "metadata": {},
     "output_type": "execute_result"
    }
   ],
   "source": [
    "process.extractOne('hola',['mundo'],scorer=fuzz.ratio)[-1]"
   ]
  },
  {
   "cell_type": "code",
   "execution_count": 214,
   "metadata": {},
   "outputs": [
    {
     "data": {
      "text/html": [
       "<div>\n",
       "<style scoped>\n",
       "    .dataframe tbody tr th:only-of-type {\n",
       "        vertical-align: middle;\n",
       "    }\n",
       "\n",
       "    .dataframe tbody tr th {\n",
       "        vertical-align: top;\n",
       "    }\n",
       "\n",
       "    .dataframe thead th {\n",
       "        text-align: right;\n",
       "    }\n",
       "</style>\n",
       "<table border=\"1\" class=\"dataframe\">\n",
       "  <thead>\n",
       "    <tr style=\"text-align: right;\">\n",
       "      <th></th>\n",
       "      <th>user_name</th>\n",
       "      <th>user_location</th>\n",
       "      <th>user_description</th>\n",
       "      <th>user_verified</th>\n",
       "      <th>date</th>\n",
       "      <th>text</th>\n",
       "      <th>hashtags</th>\n",
       "      <th>source</th>\n",
       "      <th>label</th>\n",
       "    </tr>\n",
       "  </thead>\n",
       "  <tbody>\n",
       "    <tr>\n",
       "      <th>0</th>\n",
       "      <td>Aníbal Cano</td>\n",
       "      <td></td>\n",
       "      <td>Optimista alegre de esta maravillosa vida que Dios Todopoderoso nos entregó . . .</td>\n",
       "      <td>False</td>\n",
       "      <td>2021-05-18 20:35:32</td>\n",
       "      <td>RT @UnivalleU: #Movilización ✊ Gran Marcha del Millón ¡#Cali Despertó!\\n\\nMovilización familiar, artística y cultural de un millón de persona…</td>\n",
       "      <td>[Movilización, Cali]</td>\n",
       "      <td>Twitter for Android</td>\n",
       "      <td>None</td>\n",
       "    </tr>\n",
       "  </tbody>\n",
       "</table>\n",
       "</div>"
      ],
      "text/plain": [
       "     user_name user_location  \\\n",
       "0  Aníbal Cano                 \n",
       "\n",
       "                                                                    user_description  \\\n",
       "0  Optimista alegre de esta maravillosa vida que Dios Todopoderoso nos entregó . . .   \n",
       "\n",
       "   user_verified                date  \\\n",
       "0          False 2021-05-18 20:35:32   \n",
       "\n",
       "                                                                                                                                             text  \\\n",
       "0  RT @UnivalleU: #Movilización ✊ Gran Marcha del Millón ¡#Cali Despertó!\\n\\nMovilización familiar, artística y cultural de un millón de persona…   \n",
       "\n",
       "               hashtags               source label  \n",
       "0  [Movilización, Cali]  Twitter for Android  None  "
      ]
     },
     "execution_count": 214,
     "metadata": {},
     "output_type": "execute_result"
    }
   ],
   "source": [
    "df[:1]"
   ]
  },
  {
   "cell_type": "code",
   "execution_count": 255,
   "metadata": {},
   "outputs": [
    {
     "name": "stdout",
     "output_type": "stream",
     "text": [
      "================================================================================\n",
      "================================================================================\n"
     ]
    },
    {
     "name": "stdin",
     "output_type": "stream",
     "text": [
      "RT @PoloDemocratico: El #ParoNacional es la manifestación del pueblo por la inconformidad qué hay con el gobierno de @IvanDuque, queremos q…: https://twitter.com/twitter/status/1394753529844219907 → [pos]/neg p\n"
     ]
    },
    {
     "name": "stdout",
     "output_type": "stream",
     "text": [
      "================================================================================\n"
     ]
    },
    {
     "name": "stdin",
     "output_type": "stream",
     "text": [
      "RT @PrensaRural: #ParoNacional, Campesinado del Catatumbo:\n",
      "\n",
      "En alerta máxima ante orden de Duque de tierra arrasada\n",
      "\n",
      "👉https://t.co/31jO1zLD…: https://twitter.com/twitter/status/1394753517546508288 → [pos]/neg \n"
     ]
    },
    {
     "name": "stdout",
     "output_type": "stream",
     "text": [
      "================================================================================\n"
     ]
    },
    {
     "name": "stdin",
     "output_type": "stream",
     "text": [
      "RT @Tiradorsilencio: Como Ciudadano Colombiano me solidarizo y Apoyo d manera Absoluta y Total; la Carta d Ciudadanos d #Cali pidiendo d fo…: https://twitter.com/twitter/status/1394753499943079939 → [pos]/neg \n"
     ]
    },
    {
     "name": "stdout",
     "output_type": "stream",
     "text": [
      "================================================================================\n"
     ]
    },
    {
     "name": "stdin",
     "output_type": "stream",
     "text": [
      "RT @alertaroja234: @BluRadioCo Para aquellos que llaman a la guerra y al uso desproporcionado de la fuerza. Aquellos que bloquean son en la…: https://twitter.com/twitter/status/1394753497912942594 → [pos]/neg \n"
     ]
    },
    {
     "name": "stdout",
     "output_type": "stream",
     "text": [
      "================================================================================\n",
      "================================================================================\n"
     ]
    },
    {
     "name": "stdin",
     "output_type": "stream",
     "text": [
      "RT @madeleintlSUR: Un día de #ParoNacional #Medellin #Colombia de lee desde el aire anti #uribista https://t.co/cmX982EmFR: https://twitter.com/twitter/status/1394753451314253828 → [pos]/neg \n"
     ]
    },
    {
     "name": "stdout",
     "output_type": "stream",
     "text": [
      "================================================================================\n",
      "================================================================================\n",
      "================================================================================\n"
     ]
    },
    {
     "name": "stdin",
     "output_type": "stream",
     "text": [
      "Miércoles 19 de mayo Te esperamos \n",
      "A PARAR PARA AVANZAR \n",
      "#ParoNacional #Buga 🇱🇹 https://t.co/1twBnGpA0P: https://twitter.com/twitter/status/1394753400051490816 → [pos]/neg \n"
     ]
    },
    {
     "name": "stdout",
     "output_type": "stream",
     "text": [
      "================================================================================\n"
     ]
    },
    {
     "name": "stdin",
     "output_type": "stream",
     "text": [
      "RT @ClaraLopezObre: Presidente @IvanDuque se equivoca. @petrogustavo no es solo uno de 108 senadores. Representa 8 millones ciudadanos y es…: https://twitter.com/twitter/status/1394753376714362883 → [pos]/neg \n"
     ]
    },
    {
     "name": "stdout",
     "output_type": "stream",
     "text": [
      "================================================================================\n"
     ]
    },
    {
     "name": "stdin",
     "output_type": "stream",
     "text": [
      "RT @Nessnio: Me ausento un poco guerreros, pero les pido el favor de no olvidar, que mañana debemos marchar como un ejército multitudinario…: https://twitter.com/twitter/status/1394753338244091904 → [pos]/neg \n"
     ]
    },
    {
     "name": "stdout",
     "output_type": "stream",
     "text": [
      "================================================================================\n"
     ]
    },
    {
     "name": "stdin",
     "output_type": "stream",
     "text": [
      "@Emile1985 @elespectador No pues los \n",
      "much4chosdrogos y d3lincu3nt3s es lo que hay en ese #ParoNacional: https://twitter.com/twitter/status/1394753334536458242 → [pos]/neg \n"
     ]
    },
    {
     "name": "stdout",
     "output_type": "stream",
     "text": [
      "================================================================================\n",
      "================================================================================\n"
     ]
    },
    {
     "name": "stdin",
     "output_type": "stream",
     "text": [
      "RT @aciprensa: El delegado especial del @episcopadocol, Mons. Héctor Henao, pidió que se excluya todo gesto de violencia en Colombia, de ta…: https://twitter.com/twitter/status/1394753319281778688 → [pos]/neg \n"
     ]
    },
    {
     "name": "stdout",
     "output_type": "stream",
     "text": [
      "================================================================================\n"
     ]
    },
    {
     "name": "stdin",
     "output_type": "stream",
     "text": [
      "RT @PoloDemocratico: El Senador y presidente del @PoloDemocratico @AlexLopezMaya denuncia la infiltración de la fuerza pública entre los ma…: https://twitter.com/twitter/status/1394753316693946371 → [pos]/neg \n"
     ]
    },
    {
     "name": "stdout",
     "output_type": "stream",
     "text": [
      "================================================================================\n"
     ]
    },
    {
     "name": "stdin",
     "output_type": "stream",
     "text": [
      "RT @RedactoresNewsw: #redactoresinforma Por la Impunidad y la Injusticia, las Madres Colombianas 💞 siguen uniendo su voz de lucha en el #Pa…: https://twitter.com/twitter/status/1394753259156475904 → [pos]/neg \n"
     ]
    },
    {
     "name": "stdout",
     "output_type": "stream",
     "text": [
      "================================================================================\n"
     ]
    },
    {
     "name": "stdin",
     "output_type": "stream",
     "text": [
      "@RevistaSemana @VickyDavilaH Ni el asesinato de #JesusSantrich pudo ser tan fuerte, para opacar el #ParoNacional .\n",
      "\n",
      "En este Gobierno ya no sirven ni los agendamientos mediáticos, ni los espirales de silencio.\n",
      "\n",
      "#ColombiaSOS: https://twitter.com/twitter/status/1394753204328583171 → [pos]/neg \n"
     ]
    },
    {
     "name": "stdout",
     "output_type": "stream",
     "text": [
      "================================================================================\n",
      "================================================================================\n",
      "================================================================================\n"
     ]
    },
    {
     "name": "stdin",
     "output_type": "stream",
     "text": [
      "RT @WilsonP725: Pasando el tema de Petro y Nany Pardo, les recuerdo que estamos en Paro y que mañana las movilizaciones deben ser masivas.…: https://twitter.com/twitter/status/1394753123147816960 → [pos]/neg \n"
     ]
    },
    {
     "name": "stdout",
     "output_type": "stream",
     "text": [
      "================================================================================\n"
     ]
    },
    {
     "name": "stdin",
     "output_type": "stream",
     "text": [
      "Despilfarro, contratitis que en algún momento @Revista2caras denunció de la concejal. Recuerda que por eso apoyaba la alcaldía de @MauriceArmitage ? Es claro que @JorgeIvanOspina no le ha ayudado en nada y por eso insiste en atacar justo en esta coyuntura #Cali https://t.co/FJRwJcQa35: https://twitter.com/twitter/status/1394753104021577733 → [pos]/neg \n"
     ]
    },
    {
     "name": "stdout",
     "output_type": "stream",
     "text": [
      "================================================================================\n",
      "================================================================================\n",
      "================================================================================\n",
      "================================================================================\n"
     ]
    },
    {
     "name": "stdin",
     "output_type": "stream",
     "text": [
      "RT @cutcolombia: 🚶‍♂️🚶🚶‍♀️#ParoNacional \n",
      "\n",
      "El gobierno de Duque no quiere negociar, se niega a brindar garantías. Le responderemos masivamen…: https://twitter.com/twitter/status/1394753011281506309 → [pos]/neg \n"
     ]
    },
    {
     "name": "stdout",
     "output_type": "stream",
     "text": [
      "================================================================================\n"
     ]
    },
    {
     "name": "stdin",
     "output_type": "stream",
     "text": [
      "RT @JorgeOvalleB: ¿Porque el estallido social en #CALI? lejos de la idea miope de la infiltración insurgente del #ParoNacional que plantea…: https://twitter.com/twitter/status/1394753003903651841 → [pos]/neg \n"
     ]
    },
    {
     "name": "stdout",
     "output_type": "stream",
     "text": [
      "================================================================================\n"
     ]
    },
    {
     "name": "stdin",
     "output_type": "stream",
     "text": [
      "RT @NadieNa71747061: Así se resiste en Cali!!! \n",
      "Miren ese vandalismo!!!\n",
      "\n",
      "#ParoNacional #Cali #CaliResiste #MissUniverse2021 #ElParoSigue #S…: https://twitter.com/twitter/status/1394752977970376713 → [pos]/neg \n"
     ]
    },
    {
     "name": "stdout",
     "output_type": "stream",
     "text": [
      "================================================================================\n"
     ]
    },
    {
     "name": "stdin",
     "output_type": "stream",
     "text": [
      "RT @MiluBites: Acabo de leer que @MayaAlcaldePei llegó tarde ayer a la Comisión de Paz del Senado porque su perrito estaba cumpliendo años…: https://twitter.com/twitter/status/1394752972199022596 → [pos]/neg \n"
     ]
    },
    {
     "name": "stdout",
     "output_type": "stream",
     "text": [
      "================================================================================\n"
     ]
    },
    {
     "name": "stdin",
     "output_type": "stream",
     "text": [
      "El #ParoNacional me ha servido para ver la calidad de seres humanos que me rodean y para sacar del llavero a unos cuantos “ciudadanos de bien”: https://twitter.com/twitter/status/1394752957602844673 → [pos]/neg \n"
     ]
    },
    {
     "name": "stdout",
     "output_type": "stream",
     "text": [
      "================================================================================\n"
     ]
    },
    {
     "name": "stdin",
     "output_type": "stream",
     "text": [
      "VIDEO COMPLETO CAPTURA EN FLAGRANCIA POLICIA JUDICIAL 🇨🇴\n",
      "\n",
      "#Cali\n",
      "#Colombia\n",
      "#DelincuenciaCali\n",
      "#ladronescali\n",
      "#gaminescali\n",
      "#ParoNacional\n",
      "#ONUHumanRights\n",
      "@amnistiaespana\n",
      "@hrw_espanol\n",
      "@amnistia\n",
      "@ONUHumanRights\n",
      "@elmundoes\n",
      "@nbc https://t.co/J1SJUrO5N9: https://twitter.com/twitter/status/1394752956944326659 → [pos]/neg \n"
     ]
    },
    {
     "name": "stdout",
     "output_type": "stream",
     "text": [
      "================================================================================\n",
      "================================================================================\n",
      "================================================================================\n"
     ]
    },
    {
     "name": "stdin",
     "output_type": "stream",
     "text": [
      "RT @WRadioColombia: #Cali Renunció el comandante de la Policía de Cali → https://t.co/XrVUmSTVj8 https://t.co/o7hzhfTYKm: https://twitter.com/twitter/status/1394752894893690881 → [pos]/neg \n"
     ]
    },
    {
     "name": "stdout",
     "output_type": "stream",
     "text": [
      "================================================================================\n"
     ]
    },
    {
     "name": "stdin",
     "output_type": "stream",
     "text": [
      "RT @JorgeOvalleB: El índice GINI que mide la distribución de ingresos, muestra que en #CALI la desigualdad creció a nivel de 2012 al ubicar…: https://twitter.com/twitter/status/1394752892716859392 → [pos]/neg \n"
     ]
    },
    {
     "name": "stdout",
     "output_type": "stream",
     "text": [
      "================================================================================\n",
      "================================================================================\n"
     ]
    },
    {
     "name": "stdin",
     "output_type": "stream",
     "text": [
      "RT @NoticiasCartag: #Cartago La situación es crítica en un sector de la comuna uno a esta hora, decenas de personas afectadas por los gases…: https://twitter.com/twitter/status/1394752854791970825 → [pos]/neg \n"
     ]
    },
    {
     "name": "stdout",
     "output_type": "stream",
     "text": [
      "================================================================================\n",
      "================================================================================\n"
     ]
    },
    {
     "name": "stdin",
     "output_type": "stream",
     "text": [
      "RT @JorgeOvalleB: La ñapa, en Colombia estamos en una dictadura y las dictaduras se derrotan con la democracia directa, con el derecho cons…: https://twitter.com/twitter/status/1394752765025558536 → [pos]/neg \n"
     ]
    },
    {
     "name": "stdout",
     "output_type": "stream",
     "text": [
      "================================================================================\n",
      "================================================================================\n"
     ]
    },
    {
     "name": "stdin",
     "output_type": "stream",
     "text": [
      "RT @Cambiamoscol: Nuestras únicas armas son la educación y las ganas de cambiar este país. 🔥✊🏽\n",
      "#ParoNacional #ParoNacional18M #SOSColombiaD…: https://twitter.com/twitter/status/1394752757710659585 → [pos]/neg \n"
     ]
    },
    {
     "name": "stdout",
     "output_type": "stream",
     "text": [
      "================================================================================\n",
      "================================================================================\n"
     ]
    },
    {
     "name": "stdin",
     "output_type": "stream",
     "text": [
      "RT @cutcolombia: 🚶‍♂️🚶🚶‍♀️#ParoNacional \n",
      "\n",
      "El Paro continúa. Por la Vida y la Paz. Ante un gobierno que no quiere negociar y se niega a brin…: https://twitter.com/twitter/status/1394752746801278976 → [pos]/neg \n"
     ]
    },
    {
     "name": "stdout",
     "output_type": "stream",
     "text": [
      "================================================================================\n",
      "================================================================================\n"
     ]
    },
    {
     "name": "stdin",
     "output_type": "stream",
     "text": [
      "RT @JorgeOvalleB: Resultado: la más grande movilización ciudadana en #CALI contra el uribismo e @IvanDuque, según el CNC en total 1.983.053…: https://twitter.com/twitter/status/1394752735946448896 → [pos]/neg \n"
     ]
    },
    {
     "name": "stdout",
     "output_type": "stream",
     "text": [
      "================================================================================\n"
     ]
    },
    {
     "name": "stdin",
     "output_type": "stream",
     "text": [
      "RT @JorgeOvalleB: Según el @DANE_Colombia para el  trimestre diciembre - febrero de 2021 los y las jóvenes en #CALI que ni estudian ni trab…: https://twitter.com/twitter/status/1394752688294879236 → [pos]/neg \n"
     ]
    },
    {
     "name": "stdout",
     "output_type": "stream",
     "text": [
      "================================================================================\n",
      "================================================================================\n",
      "================================================================================\n"
     ]
    },
    {
     "name": "stdin",
     "output_type": "stream",
     "text": [
      "RT @JorgeOvalleB: En 2020 los ingresos de los hombres jóvenes en Cali se redujo -16,8% respecto al 2019, el ingreso laboral promedio fue de…: https://twitter.com/twitter/status/1394752632196116480 → [pos]/neg \n"
     ]
    },
    {
     "name": "stdout",
     "output_type": "stream",
     "text": [
      "================================================================================\n"
     ]
    },
    {
     "name": "stdin",
     "output_type": "stream",
     "text": [
      "¿Porqué las #negociaciones se hacen a puerta cerrada?\n",
      "Deberían ser transmitidas, en vivito y directo. Así como tenemos que ver las babosadas que habla este tipo @IvanDuque. \n",
      "\n",
      "#Colombia \n",
      "#ParoNacional: https://twitter.com/twitter/status/1394752621639053313 → [pos]/neg \n"
     ]
    },
    {
     "name": "stdout",
     "output_type": "stream",
     "text": [
      "================================================================================\n"
     ]
    },
    {
     "name": "stdin",
     "output_type": "stream",
     "text": [
      "@clarincom Estos son los del entierro del Diego?\n",
      "O más de la mentira diaria del #GobiernoDeInutiles \n",
      "\n",
      "#Covidiano🐑😷💉Evita las aglomeraciones, #VirusChino sabe cuándo sales a protestar y NO ATACA\n",
      "Aún crees que #FalsaPandemia se trata de Salud Pública?😂🤣\n",
      "#Argentina #Colombia #ParoNacional https://t.co/6jAXYRVEQ4: https://twitter.com/twitter/status/1394752616765198338 → [pos]/neg n\n"
     ]
    },
    {
     "name": "stdout",
     "output_type": "stream",
     "text": [
      "================================================================================\n"
     ]
    },
    {
     "name": "stdin",
     "output_type": "stream",
     "text": [
      "Acabo de leer que @MayaAlcaldePei llegó tarde ayer a la Comisión de Paz del Senado porque su perrito estaba cumpliendo años y le tenían que partir la torta primero a él antes de reunirse con las víctimas de la fuerza pública en el #paronacional ¿Será eso posible? #prioridades https://t.co/D1NPKKGoWn: https://twitter.com/twitter/status/1394752615670484996 → [pos]/neg \n"
     ]
    },
    {
     "name": "stdout",
     "output_type": "stream",
     "text": [
      "================================================================================\n",
      "================================================================================\n",
      "================================================================================\n"
     ]
    },
    {
     "name": "stdin",
     "output_type": "stream",
     "text": [
      "RT @JorgeOvalleB: #DesempleoJuvenil Para el 2020 el desempleo juvenil en #CALI fue de 29,1% con 112.929 jóvenes desempleados/as, con 26 mil…: https://twitter.com/twitter/status/1394752578718773256 → [pos]/neg p\n"
     ]
    },
    {
     "name": "stdout",
     "output_type": "stream",
     "text": [
      "================================================================================\n"
     ]
    },
    {
     "name": "stdin",
     "output_type": "stream",
     "text": [
      "RT @MafeCarrascal: En Antioquia, Caldas, la de anoche fue una noche de horror. Disparos en medio de la oscuridad y sin señal de internet. ¿…: https://twitter.com/twitter/status/1394752552261066762 → [pos]/neg \n"
     ]
    },
    {
     "name": "stdout",
     "output_type": "stream",
     "text": [
      "================================================================================\n"
     ]
    },
    {
     "name": "stdin",
     "output_type": "stream",
     "text": [
      "@ELTIEMPO Escucha estos sinvergüenzas, bloquean extorsionan cobrando peajes ilegales y cuando el ESMAD los rodea para impedir su avanze criminal, lloran como nenas, mirelos como dan quejas 😂😂 😂 😂 perdedores. #NoMasParo #NoMasBloqueos #NoMasBloqueos #NoMasBloqueos #NoMasBloqueos: https://twitter.com/twitter/status/1394752532430434307 → [pos]/neg n\n"
     ]
    },
    {
     "name": "stdout",
     "output_type": "stream",
     "text": [
      "================================================================================\n",
      "================================================================================\n"
     ]
    },
    {
     "name": "stdin",
     "output_type": "stream",
     "text": [
      "[IRI·Prensa·13/05/21] Diálogo sincero y constructivo ante crisis nacional. https://t.co/KvAqsgwfsS #ParoNacional #Colombia @CIDH @infopresidencia @MinInterior @faiths4forests @brasiliri  @gaiaamazonas @InstitutoSINCHI @cutcolombia: https://twitter.com/twitter/status/1394752501631660036 → [pos]/neg p\n"
     ]
    },
    {
     "name": "stdout",
     "output_type": "stream",
     "text": [
      "================================================================================\n"
     ]
    },
    {
     "name": "stdin",
     "output_type": "stream",
     "text": [
      "RT @boyacasietedias: El #Sondeo7días de hoy: Cuando ya se cumplen 21 días de #ParoNacional, a propósito de la medida anunciada por el Presi…: https://twitter.com/twitter/status/1394752478768508932 → [pos]/neg \n"
     ]
    },
    {
     "name": "stdout",
     "output_type": "stream",
     "text": [
      "================================================================================\n",
      "================================================================================\n",
      "================================================================================\n"
     ]
    },
    {
     "name": "stdin",
     "output_type": "stream",
     "text": [
      "RT @JorgeOvalleB: En #CALI para el año 2020 el 20% de hogares con menores ingresos registraron una reducción del 50,1% de sus ingresos real…: https://twitter.com/twitter/status/1394752447072067591 → [pos]/neg \n"
     ]
    },
    {
     "name": "stdout",
     "output_type": "stream",
     "text": [
      "================================================================================\n"
     ]
    },
    {
     "name": "stdin",
     "output_type": "stream",
     "text": [
      "RT @teleSURtv: Continúa el #ParoNacional en #Colombia🇨🇴, cientos de manifestantes se han congregado en las calles de #Bogotá en rechazo de…: https://twitter.com/twitter/status/1394752443636977664 → [pos]/neg \n"
     ]
    },
    {
     "name": "stdout",
     "output_type": "stream",
     "text": [
      "================================================================================\n",
      "================================================================================\n",
      "================================================================================\n"
     ]
    },
    {
     "name": "stdin",
     "output_type": "stream",
     "text": [
      "RT @JorgeOvalleB: #ClasesSociales La clase pobre y vulnerable en #CALI fue del 62,5% de la población para 2020 y registró crecimiento de 10…: https://twitter.com/twitter/status/1394752392726450182 → [pos]/neg \n"
     ]
    },
    {
     "name": "stdout",
     "output_type": "stream",
     "text": [
      "================================================================================\n",
      "================================================================================\n",
      "================================================================================\n",
      "================================================================================\n",
      "================================================================================\n"
     ]
    },
    {
     "name": "stdin",
     "output_type": "stream",
     "text": [
      "RT @teleSURtv: El alcalde de Cali, #Colombia🇨🇴, #JorgeIvánOspina, pidió la renuncia a todos los miembros de su gabinete en medio de las pro…: https://twitter.com/twitter/status/1394752345192468484 → [pos]/neg \n"
     ]
    },
    {
     "name": "stdout",
     "output_type": "stream",
     "text": [
      "================================================================================\n",
      "================================================================================\n",
      "================================================================================\n",
      "================================================================================\n",
      "================================================================================\n"
     ]
    },
    {
     "name": "stdin",
     "output_type": "stream",
     "text": [
      "RT @anabanana0nana: La verdadera razón de la #ReformaALaSalud y de porque nos están matando.  Es que esos milloncitos de don Satanás Sarmie…: https://twitter.com/twitter/status/1394752286778400771 → [pos]/neg \n"
     ]
    },
    {
     "name": "stdout",
     "output_type": "stream",
     "text": [
      "================================================================================\n"
     ]
    },
    {
     "name": "stdin",
     "output_type": "stream",
     "text": [
      "RT @NotiBAdentro: #ParoNacional #18M\n",
      "\n",
      "El sector de los trabajadores de los cárnicos, se suma al gran paro nacional. https://t.co/YcHce1Oqdt: https://twitter.com/twitter/status/1394752277253083139 → [pos]/neg \n"
     ]
    },
    {
     "name": "stdout",
     "output_type": "stream",
     "text": [
      "================================================================================\n"
     ]
    },
    {
     "name": "stdin",
     "output_type": "stream",
     "text": [
      "RT @mariomojc: @petrogustavo “Es que Colombia ya es como Venezuela\" 😎\n",
      "\n",
      "Esa visita de ayer acá en Barranquilla estuvo buena 😁\n",
      "\n",
      "#ParoNacional…: https://twitter.com/twitter/status/1394752269959184388 → [pos]/neg \n"
     ]
    },
    {
     "name": "stdout",
     "output_type": "stream",
     "text": [
      "================================================================================\n",
      "================================================================================\n",
      "================================================================================\n",
      "================================================================================\n",
      "================================================================================\n"
     ]
    },
    {
     "name": "stdin",
     "output_type": "stream",
     "text": [
      "RT @Iamthespeaker_: Atención Cali ¡La convocatoria de speakers del evento TEDxCali ‘Cali: Caminos de diálogo’ 2021 ya está abierta!. Este t…: https://twitter.com/twitter/status/1394752191991255046 → [pos]/neg \n"
     ]
    },
    {
     "name": "stdout",
     "output_type": "stream",
     "text": [
      "================================================================================\n",
      "================================================================================\n"
     ]
    },
    {
     "name": "stdin",
     "output_type": "stream",
     "text": [
      "@BluRadioCo Por supuesto  que sí, más cuando quienes bloquean, saquean y violan derechos de las grandes mayorías de Colombia #NoMasParo #NoMasBloqueos #ElParoNoMeRepresenta #AtrabajarMamertos: https://twitter.com/twitter/status/1394752145082159112 → [pos]/neg n\n"
     ]
    },
    {
     "name": "stdout",
     "output_type": "stream",
     "text": [
      "================================================================================\n"
     ]
    },
    {
     "name": "stdin",
     "output_type": "stream",
     "text": [
      "RT @teleSURtv: Los primeros grupos de la #MingaIndígena llegaron este martes a la ciudad de #Medellín, #Colombia🇨🇴, para apoyar el #ParoNac…: https://twitter.com/twitter/status/1394752112328941571 → [pos]/neg p\n"
     ]
    },
    {
     "name": "stdout",
     "output_type": "stream",
     "text": [
      "================================================================================\n",
      "================================================================================\n"
     ]
    },
    {
     "name": "stdin",
     "output_type": "stream",
     "text": [
      "La élite que ha gobernado durante décadas jamás se ocupó de manera decisiva por la Seguridad Alimentaria. Pero tras 20 días de #ParoNacional ahí se les volvió (en apariencia) su mayor prioridad ¿No será que su preocupación es por los negocios de distribución de alimentos?: https://twitter.com/twitter/status/1394752010197536768 → [pos]/neg \n"
     ]
    },
    {
     "name": "stdout",
     "output_type": "stream",
     "text": [
      "================================================================================\n",
      "================================================================================\n"
     ]
    },
    {
     "name": "stdin",
     "output_type": "stream",
     "text": [
      "RT @viktorclop: @ClaudiaLopez La que parece haciendo campaña es ud Claudia, si hablamos de oportunismo porque no menciona a su partido que…: https://twitter.com/twitter/status/1394751963674419204 → [pos]/neg \n"
     ]
    },
    {
     "name": "stdout",
     "output_type": "stream",
     "text": [
      "================================================================================\n"
     ]
    },
    {
     "name": "stdin",
     "output_type": "stream",
     "text": [
      "Mañana 19 de mayo #ParoNacional #Valledupar #Colombia https://t.co/OaB4pD52am: https://twitter.com/twitter/status/1394751959656280064 → [pos]/neg \n"
     ]
    },
    {
     "name": "stdout",
     "output_type": "stream",
     "text": [
      "================================================================================\n",
      "================================================================================\n",
      "================================================================================\n",
      "================================================================================\n",
      "================================================================================\n"
     ]
    },
    {
     "name": "stdin",
     "output_type": "stream",
     "text": [
      "@IvanDuque Deberia estar regulando a los influences del pais que ganan bastante platica en un mes de 80 a 200 millones ..y no estar detras de la gente que exige mejoras economicas. Busque la plata donde es, no en gente del comun. #ParoNacional17M #ParoNacional: https://twitter.com/twitter/status/1394751913112084485 → [pos]/neg \n"
     ]
    },
    {
     "name": "stdout",
     "output_type": "stream",
     "text": [
      "================================================================================\n"
     ]
    },
    {
     "name": "stdin",
     "output_type": "stream",
     "text": [
      "@ingrodolfohdez #ParoNacional #ColombiaResiste  ..el congreso de este país no va a dejar de ser la misma HORDA de BUITRES de siempre: propongo #NoEleccionesEnColombia2022..  el sistema será el mismo sin importar que presidente suba: propongo #NuevaConstitución de los Pobres y para los POBRES..: https://twitter.com/twitter/status/1394751890366377986 → [pos]/neg \n"
     ]
    },
    {
     "name": "stdout",
     "output_type": "stream",
     "text": [
      "================================================================================\n"
     ]
    },
    {
     "name": "stdin",
     "output_type": "stream",
     "text": [
      "RT @AisoMovimiento: Mañana 19 de mayo nos movilizamos en la GRAN MARCHA DEL MILLÓN, porque solo el pueblo salva el pueblo \n",
      "#19M #ParoNacion…: https://twitter.com/twitter/status/1394751888181108740 → [pos]/neg \n"
     ]
    },
    {
     "name": "stdout",
     "output_type": "stream",
     "text": [
      "================================================================================\n"
     ]
    },
    {
     "name": "stdin",
     "output_type": "stream",
     "text": [
      "RT @teleSURtv: #Colombia 🇨🇴 | Ciudadanos denunciaron este martes que el #Esmad de la Policía reprimió la noche del lunes a las personas que…: https://twitter.com/twitter/status/1394751887992307713 → [pos]/neg \n"
     ]
    },
    {
     "name": "stdout",
     "output_type": "stream",
     "text": [
      "================================================================================\n",
      "================================================================================\n",
      "================================================================================\n",
      "================================================================================\n"
     ]
    },
    {
     "name": "stdin",
     "output_type": "stream",
     "text": [
      "RT @JorgeOvalleB: #LuchaDeClases Durante el 2020 la clase pobre y  vulnerable en #CALI aumento con 295.540 personas, para un total de 1.6 m…: https://twitter.com/twitter/status/1394751816412405765 → [pos]/neg \n"
     ]
    },
    {
     "name": "stdout",
     "output_type": "stream",
     "text": [
      "================================================================================\n"
     ]
    },
    {
     "name": "stdin",
     "output_type": "stream",
     "text": [
      "RT @Caprietto: Algunos se molestan, pero hay que decirll:\n",
      "\n",
      "— El pueblo no salió a la calle\n",
      "— Bloqueas una calle, sos un delincuente\n",
      "— Los d…: https://twitter.com/twitter/status/1394751796913090561 → [pos]/neg n\n"
     ]
    },
    {
     "name": "stdout",
     "output_type": "stream",
     "text": [
      "================================================================================\n",
      "================================================================================\n",
      "================================================================================\n",
      "================================================================================\n",
      "================================================================================\n"
     ]
    },
    {
     "name": "stdin",
     "output_type": "stream",
     "text": [
      "RT @ElDeLosTapaboca: Buenos días! \n",
      "\n",
      "Mi admiración, mi respeto y mis oraciones para los jóvenes que siguen dejando sus ojos y sus vidas en l…: https://twitter.com/twitter/status/1394751654721904642 → [pos]/neg p\n"
     ]
    },
    {
     "name": "stdout",
     "output_type": "stream",
     "text": [
      "================================================================================\n"
     ]
    },
    {
     "name": "stdin",
     "output_type": "stream",
     "text": [
      "RT @FdoQuijano: #ParoNacional 🇨🇴😁 #NosRecuerda @HELIODOPTERO \"El paro nacional despierta emoción y simpatía en Miss Universo.\" https://t.co…: https://twitter.com/twitter/status/1394751617845637120 → [pos]/neg \n"
     ]
    },
    {
     "name": "stdout",
     "output_type": "stream",
     "text": [
      "================================================================================\n"
     ]
    },
    {
     "name": "stdin",
     "output_type": "stream",
     "text": [
      "RT @NSimpsombia: Como realmente abatieron a Jesús Santrich\n",
      "- Sr Thompson \n",
      "\n",
      "#JesusSantrich #Santrich #Farc #Colombia #paronacional https://t…: https://twitter.com/twitter/status/1394751593522868230 → [pos]/neg \n"
     ]
    },
    {
     "name": "stdout",
     "output_type": "stream",
     "text": [
      "================================================================================\n"
     ]
    },
    {
     "name": "stdin",
     "output_type": "stream",
     "text": [
      "RT @alejzuluaga: .@juanpisrules, @AlejandroRia, hicimos una breve adaptación de su maravilloso video. Escena protagonizada por el alcalde d…: https://twitter.com/twitter/status/1394751585582977025 → [pos]/neg \n"
     ]
    },
    {
     "name": "stdout",
     "output_type": "stream",
     "text": [
      "================================================================================\n",
      "================================================================================\n"
     ]
    },
    {
     "name": "stdin",
     "output_type": "stream",
     "text": [
      "RT @PBIcanada: Este es un vehículo de fabricación canadiense que fue vendido a la policía nacional de Colombia. Estamos monitoreando las pu…: https://twitter.com/twitter/status/1394751572157116423 → [pos]/neg \n"
     ]
    },
    {
     "name": "stdout",
     "output_type": "stream",
     "text": [
      "================================================================================\n"
     ]
    },
    {
     "name": "stdin",
     "output_type": "stream",
     "text": [
      "Inicia tu carrera con nosotros, sé parte de nuestras capacitaciones y déjate asesorar y guiar por nuestros expertos. \n",
      "\n",
      "Abrimos nuevos #cupos Escríbenos 322 8864081\n",
      "\n",
      "#cali #colombia #trabajoencali #trabajocali #modelaje #aumentatusingresos #martes #empleo #empleoencali #elempleo https://t.co/eXKrz5Lv2z: https://twitter.com/twitter/status/1394751568608649218 → [pos]/neg \n"
     ]
    },
    {
     "name": "stdout",
     "output_type": "stream",
     "text": [
      "================================================================================\n",
      "================================================================================\n",
      "================================================================================\n"
     ]
    },
    {
     "name": "stdin",
     "output_type": "stream",
     "text": [
      "RT @Contagioradio1: #Yumbo hace dos horas en la Estación de Policía La Mega, varios de los detenidos desde ayer fueron gaseados en medio de…: https://twitter.com/twitter/status/1394751517400387592 → [pos]/neg \n"
     ]
    },
    {
     "name": "stdout",
     "output_type": "stream",
     "text": [
      "================================================================================\n",
      "================================================================================\n",
      "================================================================================\n",
      "================================================================================\n"
     ]
    },
    {
     "name": "stdin",
     "output_type": "stream",
     "text": [
      "RT @UnivalleU: El Barón Rojo Sur se suma a la gran marcha del millón de personas en #Cali somos todo un pueblo.\n",
      "\n",
      "https://t.co/mdQlQ7pe9k: https://twitter.com/twitter/status/1394751448676712457 → [pos]/neg \n"
     ]
    },
    {
     "name": "stdout",
     "output_type": "stream",
     "text": [
      "================================================================================\n"
     ]
    },
    {
     "name": "stdin",
     "output_type": "stream",
     "text": [
      "RT @ChalecosAmarill: 🎥🛑En #Colombia así quedó registrado el bombardeo por #Venom a los manifestantes pacíficos en #Yumbo hace apenas 3 hora…: https://twitter.com/twitter/status/1394751446017626112 → [pos]/neg \n"
     ]
    },
    {
     "name": "stdout",
     "output_type": "stream",
     "text": [
      "================================================================================\n",
      "================================================================================\n"
     ]
    },
    {
     "name": "stdin",
     "output_type": "stream",
     "text": [
      "RT @wdelbar: Las #MadresContraLaImpunidad se mantienen en las calles. ¡Vamos con todas, con todos, vamos con ellas! #ParoNacional #ParoNaci…: https://twitter.com/twitter/status/1394751416565108737 → [pos]/neg \n"
     ]
    },
    {
     "name": "stdout",
     "output_type": "stream",
     "text": [
      "================================================================================\n"
     ]
    },
    {
     "name": "stdin",
     "output_type": "stream",
     "text": [
      "RT @sermeca: 📌 Mineros, barequeros, cocaleros y comunidad indígena bloquean a esta hora la glorieta de entrada al municipio de Caucasia. Se…: https://twitter.com/twitter/status/1394751392477294607 → [pos]/neg \n"
     ]
    },
    {
     "name": "stdout",
     "output_type": "stream",
     "text": [
      "================================================================================\n",
      "================================================================================\n"
     ]
    },
    {
     "name": "stdin",
     "output_type": "stream",
     "text": [
      "RT @TodosporCali_: 👉 Ella lo esperaba en casa, pero Sebastián nunca regresó.🐕😔\n",
      "\n",
      "El homenaje que le hicieron amigos y vecinos a Sebastián Qu…: https://twitter.com/twitter/status/1394751348604801024 → [pos]/neg \n"
     ]
    },
    {
     "name": "stdout",
     "output_type": "stream",
     "text": [
      "================================================================================\n",
      "================================================================================\n",
      "================================================================================\n"
     ]
    },
    {
     "name": "stdin",
     "output_type": "stream",
     "text": [
      "RT @Blg1M: #Cali vía #Jamundí y viceversa 18de MAYO2021 #VivaElParoNacional 🇦🇲✊🏼\n",
      "#fueraduque #Chaoduque #Uribeparaco #Colombia #ElParoSigue…: https://twitter.com/twitter/status/1394751251695521793 → [pos]/neg \n"
     ]
    },
    {
     "name": "stdout",
     "output_type": "stream",
     "text": [
      "================================================================================\n"
     ]
    },
    {
     "name": "stdin",
     "output_type": "stream",
     "text": [
      "RT @Lizendigital: #Cali se prepara para realizar procesos pedagógicos en todos los puntos de resistencia #UniversidadPalBarrio .\n",
      "#CaliResis…: https://twitter.com/twitter/status/1394751237195698178 → [pos]/neg \n"
     ]
    },
    {
     "name": "stdout",
     "output_type": "stream",
     "text": [
      "================================================================================\n"
     ]
    },
    {
     "name": "stdin",
     "output_type": "stream",
     "text": [
      "RT @COL_EJERCITO: Seguimos trabajando para garantizar la seguridad en el trasporte de combustibles hacia #Cali.\n",
      "           \n",
      "#MilesDeApellid…: https://twitter.com/twitter/status/1394751210314469376 → [pos]/neg \n"
     ]
    },
    {
     "name": "stdout",
     "output_type": "stream",
     "text": [
      "================================================================================\n"
     ]
    },
    {
     "name": "stdin",
     "output_type": "stream",
     "text": [
      "RT @nataliamunevar_: #AccionInternacionalPorColombia\n",
      "🖌️ Proceso de resignificación de los espacios en el marco del #ParoNacional ... en #Es…: https://twitter.com/twitter/status/1394751196003438593 → [pos]/neg \n"
     ]
    },
    {
     "name": "stdout",
     "output_type": "stream",
     "text": [
      "================================================================================\n",
      "================================================================================\n",
      "================================================================================\n",
      "================================================================================\n"
     ]
    },
    {
     "name": "stdin",
     "output_type": "stream",
     "text": [
      "RT @RolandoGonGa: La localidad de #Usme en #Bogotá tomada por los vándalos. Acabo de visitar y están los comercios cerrados en su mayoría,…: https://twitter.com/twitter/status/1394751117200920579 → [pos]/neg n\n"
     ]
    },
    {
     "name": "stdout",
     "output_type": "stream",
     "text": [
      "================================================================================\n",
      "================================================================================\n"
     ]
    },
    {
     "name": "stdin",
     "output_type": "stream",
     "text": [
      "Se necesitan propuestas más contundentes, más que un semestre gratis, es garantizar, por lo menos, la educación superior GRATUITA a 1 joven por hogar! \n",
      "#soscolombia #ParoNacional #Colombia: https://twitter.com/twitter/status/1394751105226186755 → [pos]/neg p\n"
     ]
    },
    {
     "name": "stdout",
     "output_type": "stream",
     "text": [
      "================================================================================\n"
     ]
    },
    {
     "name": "stdin",
     "output_type": "stream",
     "text": [
      "RT @YASS31547764: Se lo dijimos #ParoNacional #paroterrorista #Covidiotas el mismo PETRO se está RECORTANDO sus VOTANTES bueno allá ellos h…: https://twitter.com/twitter/status/1394751099484131331 → [pos]/neg n\n"
     ]
    },
    {
     "name": "stdout",
     "output_type": "stream",
     "text": [
      "================================================================================\n",
      "================================================================================\n"
     ]
    },
    {
     "name": "stdin",
     "output_type": "stream",
     "text": [
      "RT @jhonsuarez160: #DesbloquearEs quitar todo lo que estorba para que el país pueda avanzar. \n",
      "#NoMasParo #NoMasBloqueos #NoMásPetro  #NoMás…: https://twitter.com/twitter/status/1394751074658050057 → [pos]/neg n\n"
     ]
    },
    {
     "name": "stdout",
     "output_type": "stream",
     "text": [
      "================================================================================\n",
      "================================================================================\n"
     ]
    },
    {
     "name": "stdin",
     "output_type": "stream",
     "text": [
      "RT @izq_rev: Una nueva clase espectral: A propósito del #ParoNacional  del 28 de abril. Artículo por Víctor Manuel Moncayo\n",
      "\n",
      "https://t.co/zU…: https://twitter.com/twitter/status/1394751018831859714 → [pos]/neg \n"
     ]
    },
    {
     "name": "stdout",
     "output_type": "stream",
     "text": [
      "================================================================================\n"
     ]
    },
    {
     "name": "stdin",
     "output_type": "stream",
     "text": [
      "@santiagoangelp Qué tal estos HPTS!!! Pidiendo respeto.. tienen huevo!!! Pobre señora! No hay derecho que vengan 10 imbeciles a impedirle a toda una ciudad moverse libremente! #NoMasBloqueos #DesbloquearEs #NoMasParo: https://twitter.com/twitter/status/1394751014536978432 → [pos]/neg n\n"
     ]
    },
    {
     "name": "stdout",
     "output_type": "stream",
     "text": [
      "================================================================================\n",
      "================================================================================\n",
      "================================================================================\n"
     ]
    },
    {
     "name": "stdin",
     "output_type": "stream",
     "text": [
      "RT @SinEditarWeb: Comercio de #Ibagué asegura disminución de ventas hasta del 70% desde el inicio del #ParoNacional: https://t.co/KhP3Qp4B0…: https://twitter.com/twitter/status/1394750923545665545 → [pos]/neg n\n"
     ]
    },
    {
     "name": "stdout",
     "output_type": "stream",
     "text": [
      "================================================================================\n",
      "================================================================================\n"
     ]
    },
    {
     "name": "stdin",
     "output_type": "stream",
     "text": [
      "RT @correodelalba: Colombia bajo la represión: siete claves. Por Luis Britto García https://t.co/svkkmHXvK0 #Colombia #Cali #Bogota #18Mayo…: https://twitter.com/twitter/status/1394750886212247558 → [pos]/neg \n"
     ]
    },
    {
     "name": "stdout",
     "output_type": "stream",
     "text": [
      "================================================================================\n",
      "================================================================================\n",
      "================================================================================\n",
      "================================================================================\n"
     ]
    },
    {
     "name": "stdin",
     "output_type": "stream",
     "text": [
      "RT @superviralisimo: El comandante de la Policía de Cali, Juan Carlos Rodríguez, presentó la renuncia a su cargo este lunes, tras recibir a…: https://twitter.com/twitter/status/1394750764736786434 → [pos]/neg \n"
     ]
    },
    {
     "name": "stdout",
     "output_type": "stream",
     "text": [
      "================================================================================\n",
      "================================================================================\n",
      "================================================================================\n",
      "================================================================================\n"
     ]
    },
    {
     "name": "stdin",
     "output_type": "stream",
     "text": [
      "RT @juanadarco1: @RubenPinzonHdez @EsperanzaPrie16 @CancinoAbog @LAPacifiKA @merv59 @Pelicolombianas @Gu2Hail @Mafalda_2020_ @Lynx_581 @Aem…: https://twitter.com/twitter/status/1394750751218536450 → [pos]/neg \n"
     ]
    },
    {
     "name": "stdout",
     "output_type": "stream",
     "text": [
      "================================================================================\n"
     ]
    },
    {
     "name": "stdin",
     "output_type": "stream",
     "text": [
      "¿Alguien sabe si hoy hay marchas? #ParoNacional #ParoNacional18M: https://twitter.com/twitter/status/1394750748131577859 → [pos]/neg \n"
     ]
    },
    {
     "name": "stdout",
     "output_type": "stream",
     "text": [
      "================================================================================\n",
      "================================================================================\n"
     ]
    },
    {
     "name": "stdin",
     "output_type": "stream",
     "text": [
      "@angelamrobledo @IvanDuque Para mi ya pasó; el manejo bélico del #ParoNacional fue un (auto) golpe de Estado para dejarle claro a @IvanDuque, Alcaldes, Gobernadores y al Chacal del Uberrimo que ellos no tienen decisión sobre el país, tan solo una opinión. Las fuerzas oscuras son las que manejan las armas: https://twitter.com/twitter/status/1394750744331423747 → [pos]/neg p\n"
     ]
    },
    {
     "name": "stdout",
     "output_type": "stream",
     "text": [
      "================================================================================\n"
     ]
    },
    {
     "name": "stdin",
     "output_type": "stream",
     "text": [
      "¿Listos para las onces? ☕️😋\n",
      "\n",
      "Los invitamos a escuchar nuestro primer capitulo. Podcast: La Criticidad en el marco del Paro Nacional.\n",
      "\n",
      "https://t.co/V3psDR1LIY\n",
      "\n",
      "#aguapanelaconlengua #ParoNacional #Colombiaresiste #pensamientocrítico #podcast: https://twitter.com/twitter/status/1394750704959492097 → [pos]/neg \n"
     ]
    },
    {
     "name": "stdout",
     "output_type": "stream",
     "text": [
      "================================================================================\n"
     ]
    },
    {
     "name": "stdin",
     "output_type": "stream",
     "text": [
      "RT @UnivalleU: Mañana gran marcha del millón de personas en #CALI vamos a decir Uribismo nunca más ya se sumaron decenas de organizaciones,…: https://twitter.com/twitter/status/1394750687934828546 → [pos]/neg p\n"
     ]
    },
    {
     "name": "stdout",
     "output_type": "stream",
     "text": [
      "================================================================================\n",
      "================================================================================\n",
      "================================================================================\n"
     ]
    },
    {
     "name": "stdin",
     "output_type": "stream",
     "text": [
      "RT @JoseRadaRoldan: En #Medellín no podemos permitir que los indios con el aval de @QuinteroCalle, hagan lo mismo que en #Cali...\n",
      "#Resisten…: https://twitter.com/twitter/status/1394750644767035393 → [pos]/neg n\n"
     ]
    },
    {
     "name": "stdout",
     "output_type": "stream",
     "text": [
      "================================================================================\n"
     ]
    },
    {
     "name": "stdin",
     "output_type": "stream",
     "text": [
      "El uribista promedio cree que la gente de a pie es igual de tonta y arrodillada que él, que sale a marchar porque sus dirigentes le dicen. Por eso es que salen a buscar el culpable, el lider de las marchas y del #ParoNacional.: https://twitter.com/twitter/status/1394750637460672520 → [pos]/neg p\n"
     ]
    },
    {
     "name": "stdout",
     "output_type": "stream",
     "text": [
      "================================================================================\n"
     ]
    },
    {
     "name": "stdin",
     "output_type": "stream",
     "text": [
      "RT @ec_estu: El #ParoNacional continua y mañana no es la decepción #ParoNacional18M. https://t.co/wNqVY6WpUL: https://twitter.com/twitter/status/1394750612303122440 → [pos]/neg p\n"
     ]
    },
    {
     "name": "stdout",
     "output_type": "stream",
     "text": [
      "================================================================================\n"
     ]
    },
    {
     "name": "stdin",
     "output_type": "stream",
     "text": [
      "Me ausento un poco guerreros, pero les pido el favor de no olvidar, que mañana debemos marchar como un ejército multitudinario y pacífico sin caer en provocaciones... \n",
      "#ParoNacional: https://twitter.com/twitter/status/1394750589263880195 → [pos]/neg p\n"
     ]
    },
    {
     "name": "stdout",
     "output_type": "stream",
     "text": [
      "================================================================================\n",
      "================================================================================\n",
      "================================================================================\n",
      "================================================================================\n",
      "================================================================================\n"
     ]
    },
    {
     "name": "stdin",
     "output_type": "stream",
     "text": [
      "RT @veroana_lentini: Desde el jueves habrá un paro del campo de ocho días (cese de comercialización de hacienda) en rechazo al cierre de ex…: https://twitter.com/twitter/status/1394750490479583237 → [pos]/neg p\n"
     ]
    },
    {
     "name": "stdout",
     "output_type": "stream",
     "text": [
      "================================================================================\n",
      "================================================================================\n",
      "================================================================================\n"
     ]
    },
    {
     "name": "stdin",
     "output_type": "stream",
     "text": [
      "#ParoNacional #ParoNacional18M\n",
      "\n",
      "Colombia si no tuviera corrupción / Colombia siendo el país más corrupto del mundo. https://t.co/QOAwRAGUwo: https://twitter.com/twitter/status/1394750403326136329 → [pos]/neg \n"
     ]
    },
    {
     "name": "stdout",
     "output_type": "stream",
     "text": [
      "================================================================================\n",
      "================================================================================\n"
     ]
    },
    {
     "name": "stdin",
     "output_type": "stream",
     "text": [
      "RT @canicularb7: #ParoNacional Hoy a las 9a.m. la policía encierra en las calles de Britalia a la #PrimeraLínea. Más de una hora los retuvi…: https://twitter.com/twitter/status/1394750384976146432 → [pos]/neg \n"
     ]
    },
    {
     "name": "stdout",
     "output_type": "stream",
     "text": [
      "================================================================================\n"
     ]
    },
    {
     "name": "stdin",
     "output_type": "stream",
     "text": [
      "Sí, mataron a Santrich, una pena!\n",
      "\n",
      "Pero no perdamos el foco. Seguimos en #ParoNacional y @IvanDuque sigue adelante con su plan de dar tratamiento de guerra a la protesta social.: https://twitter.com/twitter/status/1394750355033006085 → [pos]/neg \n"
     ]
    },
    {
     "name": "stdout",
     "output_type": "stream",
     "text": [
      "================================================================================\n",
      "================================================================================\n"
     ]
    },
    {
     "name": "stdin",
     "output_type": "stream",
     "text": [
      "RT @EspanaWiphala: 🔥 #Colombia #DuqueAsesino anunció que movilizará a todo el ejército como si de una guerra se tratara para levantar por l…: https://twitter.com/twitter/status/1394750348557000707 → [pos]/neg \n"
     ]
    },
    {
     "name": "stdout",
     "output_type": "stream",
     "text": [
      "================================================================================\n",
      "================================================================================\n",
      "================================================================================\n"
     ]
    },
    {
     "name": "stdin",
     "output_type": "stream",
     "text": [
      "Así se resiste en Cali!!! \n",
      "Miren ese vandalismo!!!\n",
      "\n",
      "#ParoNacional #Cali #CaliResiste #MissUniverse2021 #ElParoSigue #SOSCali #VandalismoPuroYDuro #SOSColombiaDDHH #Colombia #PrimeraLinea #ParoNacional18M https://t.co/Wu2FkwAgZm: https://twitter.com/twitter/status/1394750292609077253 → [pos]/neg \n"
     ]
    },
    {
     "name": "stdout",
     "output_type": "stream",
     "text": [
      "================================================================================\n"
     ]
    },
    {
     "name": "stdin",
     "output_type": "stream",
     "text": [
      "RT @PaolaPteleSUR: A 21 días del #ParoNacional en #Colombia el gobierno decide desplegar a todas las fuerzas del orden y supedita la garant…: https://twitter.com/twitter/status/1394750282010173445 → [pos]/neg \n"
     ]
    },
    {
     "name": "stdout",
     "output_type": "stream",
     "text": [
      "================================================================================\n"
     ]
    },
    {
     "name": "stdin",
     "output_type": "stream",
     "text": [
      "RT @harryxemputado: “No me compare eso con la muerte de una persona” les cerraron la boca a los ineptos de caracol\n",
      "\n",
      "#ParoNacional #ParoNaci…: https://twitter.com/twitter/status/1394750280324075522 → [pos]/neg \n"
     ]
    },
    {
     "name": "stdout",
     "output_type": "stream",
     "text": [
      "================================================================================\n"
     ]
    },
    {
     "name": "stdin",
     "output_type": "stream",
     "text": [
      "RT @AntonioSanguino: Sorprende que el excandidato Vargas Lleras no haya hecho una revisión juiciosa de su afirmación. ¿O es un mensaje para…: https://twitter.com/twitter/status/1394750275219513348 → [pos]/neg \n"
     ]
    },
    {
     "name": "stdout",
     "output_type": "stream",
     "text": [
      "================================================================================\n"
     ]
    },
    {
     "name": "stdin",
     "output_type": "stream",
     "text": [
      "RT @NewellsBot: @ COLOMBIADIFUNDE:  \n",
      "#URGENTE Situación fuera de control en Yumbo - Valle , al parecer es una de las sedes de #Ecopetrol \n",
      "-…: https://twitter.com/twitter/status/1394750246744432645 → [pos]/neg \n"
     ]
    },
    {
     "name": "stdout",
     "output_type": "stream",
     "text": [
      "================================================================================\n"
     ]
    },
    {
     "name": "stdin",
     "output_type": "stream",
     "text": [
      "La administración de Duque es vergonzosa. Me recuerda aquel, que para su casa nunca tiene plata, pero para la querida montones. \n",
      "\n",
      "No en vano se escribió, la letra con  sangre entra. \n",
      "\n",
      "\"Aparecieron las llaves\"\n",
      "\n",
      "La burocracia es el mal de este país. \n",
      "\n",
      "#ParoNacional\n",
      "#PrimeraLinea https://t.co/63X0IAunte: https://twitter.com/twitter/status/1394750238196371460 → [pos]/neg \n"
     ]
    },
    {
     "name": "stdout",
     "output_type": "stream",
     "text": [
      "================================================================================\n",
      "================================================================================\n",
      "================================================================================\n",
      "================================================================================\n",
      "================================================================================\n"
     ]
    },
    {
     "name": "stdin",
     "output_type": "stream",
     "text": [
      "El #PuenteJuanchito es bloqueado este martes por un puñado de manifestantes - #Cali #18Mayo #ParoNacional  https://t.co/mY1vYuogot: https://twitter.com/twitter/status/1394750138569175040 → [pos]/neg \n"
     ]
    },
    {
     "name": "stdout",
     "output_type": "stream",
     "text": [
      "================================================================================\n"
     ]
    },
    {
     "name": "stdin",
     "output_type": "stream",
     "text": [
      "RT @Colombiavive_01: @GustavoBolivar #Cartago La situación es crítica en un sector de la comuna uno a esta hora, decenas de personas afecta…: https://twitter.com/twitter/status/1394750138053189640 → [pos]/neg \n"
     ]
    },
    {
     "name": "stdout",
     "output_type": "stream",
     "text": [
      "================================================================================\n",
      "================================================================================\n",
      "================================================================================\n",
      "================================================================================\n",
      "================================================================================\n"
     ]
    },
    {
     "name": "stdin",
     "output_type": "stream",
     "text": [
      "RT @martunel1: @santiagoangelp Lo que sí se ha comprobado con el tema de los bloqueos, es que las mujeres resultaron teniendo más huevos!!…: https://twitter.com/twitter/status/1394750108575715328 → [pos]/neg \n"
     ]
    },
    {
     "name": "stdout",
     "output_type": "stream",
     "text": [
      "================================================================================\n"
     ]
    },
    {
     "name": "stdin",
     "output_type": "stream",
     "text": [
      "RT @cerosetenta: #MAPA 📍 Geolocalizamos los puntos y recopilamos los videos que ayudan a entender cómo ocurrieron las muertes de algunas de…: https://twitter.com/twitter/status/1394750100535185419 → [pos]/neg \n"
     ]
    },
    {
     "name": "stdout",
     "output_type": "stream",
     "text": [
      "================================================================================\n",
      "================================================================================\n",
      "================================================================================\n"
     ]
    },
    {
     "name": "stdin",
     "output_type": "stream",
     "text": [
      "Somos:\n",
      "Uno de los países de Suramérica mas corrupción\n",
      "Uno de los países con mas desigualdad socio-económica.\n",
      "Uno de los países con más alto nivel de pobreza.\n",
      "Y aun así, pretende esta clase política que nos gobierna reclamar por que los #Colombianos protestan ? #ParoNacional: https://twitter.com/twitter/status/1394750073377067015 → [pos]/neg \n"
     ]
    },
    {
     "name": "stdout",
     "output_type": "stream",
     "text": [
      "================================================================================\n"
     ]
    },
    {
     "name": "stdin",
     "output_type": "stream",
     "text": [
      "RT @Dejusticia: Junto a más de 300 académicos, estudiantes y organizaciones proponemos que la ciudadanía y los  gobiernos locales de #Colom…: https://twitter.com/twitter/status/1394750067983233031 → [pos]/neg \n"
     ]
    },
    {
     "name": "stdout",
     "output_type": "stream",
     "text": [
      "================================================================================\n",
      "================================================================================\n",
      "================================================================================\n"
     ]
    },
    {
     "name": "stdin",
     "output_type": "stream",
     "text": [
      "RT @Declaracion: #Colombia🇨🇴 Estamos recibiendo reportes de ARRESTOS ARBITRARIOS (sin identificación, sin cargos, sin orden judicial, sin d…: https://twitter.com/twitter/status/1394750048160952326 → [pos]/neg \n"
     ]
    },
    {
     "name": "stdout",
     "output_type": "stream",
     "text": [
      "================================================================================\n",
      "================================================================================\n",
      "================================================================================\n",
      "================================================================================\n"
     ]
    },
    {
     "name": "stdin",
     "output_type": "stream",
     "text": [
      "RT @Tercer_Canal: 🔴 Ayúdanos a compartir la transmisión de toda la información en esta jornada 21 de #ParoNacional. \n",
      "\n",
      "Acompañamos a la ciud…: https://twitter.com/twitter/status/1394749929562771457 → [pos]/neg \n"
     ]
    },
    {
     "name": "stdout",
     "output_type": "stream",
     "text": [
      "================================================================================\n"
     ]
    },
    {
     "name": "stdin",
     "output_type": "stream",
     "text": [
      "RT @Hekatombe_: #ParoNacional | Desde Ecuador nos envían un pronunciamiento de Antropólogas y Antropólogos del país vecino. Rechazan la vio…: https://twitter.com/twitter/status/1394749897526677509 → [pos]/neg \n"
     ]
    },
    {
     "name": "stdout",
     "output_type": "stream",
     "text": [
      "================================================================================\n"
     ]
    },
    {
     "name": "stdin",
     "output_type": "stream",
     "text": [
      "RT @BogotaET: #ParoNacional 🚶‍♀️🚶| Esta es la situación en un barrio aledaño al Portal Américas en Bogotá. \n",
      "\n",
      "La Policía y el Esmad rodean a…: https://twitter.com/twitter/status/1394749869454249988 → [pos]/neg \n"
     ]
    },
    {
     "name": "stdout",
     "output_type": "stream",
     "text": [
      "================================================================================\n",
      "================================================================================\n",
      "================================================================================\n",
      "================================================================================\n"
     ]
    },
    {
     "name": "stdin",
     "output_type": "stream",
     "text": [
      "La verdadera razón de la #ReformaALaSalud y de porque nos están matando.  Es que esos milloncitos de don Satanás Sarmiento no se pueden perder! #ParoNacional #ParoNacional18M #SOSYumbo #SOSYumboValle #SosPopayan #Cali #Medellin #BogotaEnAlertaRoja #ColombiaResiste #Colombia https://t.co/i4BNpwrxak: https://twitter.com/twitter/status/1394749842598072331 → [pos]/neg \n"
     ]
    },
    {
     "name": "stdout",
     "output_type": "stream",
     "text": [
      "================================================================================\n"
     ]
    },
    {
     "name": "stdin",
     "output_type": "stream",
     "text": [
      "Rechazamos de forma enfática las órdenes del Presidente de la República de desbloquear los puntos de concentración mediante el uso de la fuerza, denunciamos que la fuerza pública ha vulnerado los derechos humanos en todas las jornadas de movilización.\n",
      "\n",
      "#ParoNacional: https://twitter.com/twitter/status/1394749812436787201 → [pos]/neg \n"
     ]
    },
    {
     "name": "stdout",
     "output_type": "stream",
     "text": [
      "================================================================================\n",
      "================================================================================\n",
      "================================================================================\n",
      "================================================================================\n",
      "================================================================================\n",
      "================================================================================\n",
      "================================================================================\n"
     ]
    },
    {
     "name": "stdin",
     "output_type": "stream",
     "text": [
      "RT @COLOMBIADIFUNDE: #Urgente 🚨📢 #SOSCARTAGO | #SOSColombiaDDHH 🇨🇴 #BrutalidadPolicial | Al parecer ocurrió en la Comuna uno, muchas person…: https://twitter.com/twitter/status/1394749738424094720 → [pos]/neg \n"
     ]
    },
    {
     "name": "stdout",
     "output_type": "stream",
     "text": [
      "================================================================================\n",
      "================================================================================\n",
      "================================================================================\n",
      "================================================================================\n",
      "================================================================================\n",
      "================================================================================\n",
      "================================================================================\n",
      "================================================================================\n"
     ]
    },
    {
     "name": "stdin",
     "output_type": "stream",
     "text": [
      "RT @pierrealee: Esta es la mejor forma de manifestación, pero aún debemos convocar multitudes como lo invita @petrogustavo, el saber, el de…: https://twitter.com/twitter/status/1394749625387655168 → [pos]/neg \n"
     ]
    },
    {
     "name": "stdout",
     "output_type": "stream",
     "text": [
      "================================================================================\n",
      "================================================================================\n"
     ]
    },
    {
     "name": "stdin",
     "output_type": "stream",
     "text": [
      "@IvanDuque ud sabr que no serán empleos de cálida y que favorecen empresas outsourcing, es decir, solo por un año máximo Plan de empleo juvenil tendrá 500.000 cupos en el primer año #ParoNacional #ParoNacional8M  https://t.co/vOIPoilxu9: https://twitter.com/twitter/status/1394749613580734464 → [pos]/neg \n"
     ]
    },
    {
     "name": "stdout",
     "output_type": "stream",
     "text": [
      "================================================================================\n",
      "================================================================================\n"
     ]
    },
    {
     "name": "stdin",
     "output_type": "stream",
     "text": [
      "RT @TodosporCali_: #ATENCIÓN #Cali 📣\n",
      "Ejército empieza patrullajes en el sector de los Chorros en Cali.\n",
      "\n",
      "#ParoNacional #ParoNacional18M http…: https://twitter.com/twitter/status/1394749592877600777 → [pos]/neg \n"
     ]
    },
    {
     "name": "stdout",
     "output_type": "stream",
     "text": [
      "================================================================================\n"
     ]
    },
    {
     "name": "stdin",
     "output_type": "stream",
     "text": [
      "RT @UTCarlo: En #SOSCaldas Antioquia se presentan apagones, no hay señal, la policía Esta disparando a la gente y ya se reportan varios her…: https://twitter.com/twitter/status/1394749592214847498 → [pos]/neg \n"
     ]
    },
    {
     "name": "stdout",
     "output_type": "stream",
     "text": [
      "================================================================================\n"
     ]
    },
    {
     "name": "stdin",
     "output_type": "stream",
     "text": [
      "#Alerta\n",
      "\n",
      "Alertamos a la comunidad y los puntos de concentración de posibles arremetidas por parte de la fuerza pública, hacemos un llamado a movilizarnos y hacer respetar el derecho constitucional a la protesta\n",
      "\n",
      "#ParoNacional #SOSColombiaDDHH #SomosColombia #ElUribismoDioLaOrden https://t.co/Idy7f0FjW3: https://twitter.com/twitter/status/1394749587106189314 → [pos]/neg \n"
     ]
    },
    {
     "name": "stdout",
     "output_type": "stream",
     "text": [
      "================================================================================\n"
     ]
    },
    {
     "name": "stdin",
     "output_type": "stream",
     "text": [
      "RT @ATLNACIONALCOL_: En Cartagena 🇬🇩\n",
      "\n",
      "Hinchas del Real Cartagena, América de Cali y Atlético Nacional juntos en el Paro Nacional 🇨🇴\n",
      "\n",
      "#ParoN…: https://twitter.com/twitter/status/1394749583973093376 → [pos]/neg \n"
     ]
    },
    {
     "name": "stdout",
     "output_type": "stream",
     "text": [
      "================================================================================\n",
      "================================================================================\n",
      "================================================================================\n",
      "================================================================================\n",
      "================================================================================\n",
      "================================================================================\n",
      "================================================================================\n"
     ]
    },
    {
     "name": "stdin",
     "output_type": "stream",
     "text": [
      "RT @AudryToro: Desde el #ConcejodeCali, defendemos y celebramos los derechos #LGBTIQ+. En el día internacional contra la homofobia, la tran…: https://twitter.com/twitter/status/1394749449700790274 → [pos]/neg \n"
     ]
    },
    {
     "name": "stdout",
     "output_type": "stream",
     "text": [
      "================================================================================\n",
      "================================================================================\n"
     ]
    },
    {
     "name": "stdin",
     "output_type": "stream",
     "text": [
      "RT @COLOMBIADIFUNDE: #URGENTE Situación fuera de control en Yumbo - Valle , al parecer es una de las sedes de #Ecopetrol \n",
      "- \n",
      "#Yumbo #ParoNa…: https://twitter.com/twitter/status/1394749377953030145 → [pos]/neg \n"
     ]
    },
    {
     "name": "stdout",
     "output_type": "stream",
     "text": [
      "================================================================================\n",
      "================================================================================\n",
      "================================================================================\n",
      "================================================================================\n",
      "================================================================================\n",
      "================================================================================\n"
     ]
    },
    {
     "name": "stdin",
     "output_type": "stream",
     "text": [
      "Aún en tiempos de guerra, vale la pena esperar un mejor mañana. ¡Que nada sea en vano! #Resistencia #Colombia #ParoNacional https://t.co/iTnUvh3H7P: https://twitter.com/twitter/status/1394749344230879238 → [pos]/neg \n"
     ]
    },
    {
     "name": "stdout",
     "output_type": "stream",
     "text": [
      "================================================================================\n",
      "================================================================================\n"
     ]
    },
    {
     "name": "stdin",
     "output_type": "stream",
     "text": [
      "RT @CriteriumDep: Panel de lujo hoy: 🔥🔥💪\n",
      "@CriteriumDep\n",
      "\n",
      "@Valerieef_, @juli_fernandez1, @lavozfemeninalo, @Fabri269, @AnaMaGarcia10,  @dani_…: https://twitter.com/twitter/status/1394749327839477765 → [pos]/neg \n"
     ]
    },
    {
     "name": "stdout",
     "output_type": "stream",
     "text": [
      "================================================================================\n",
      "================================================================================\n"
     ]
    },
    {
     "name": "stdin",
     "output_type": "stream",
     "text": [
      "#ParoNacional en CIFRAS  #18Mayo https://t.co/Neqtn6es1I: https://twitter.com/twitter/status/1394749283434369027 → [pos]/neg \n"
     ]
    },
    {
     "name": "stdout",
     "output_type": "stream",
     "text": [
      "================================================================================\n"
     ]
    },
    {
     "name": "stdin",
     "output_type": "stream",
     "text": [
      "Mañana gran marcha del millón de personas en #CALI vamos a decir Uribismo nunca más ya se sumaron decenas de organizaciones, el Barón Rojo Sur, la Asamblea de Univalle y el Punto de Resistencia de la Portada.\n",
      "\n",
      "Máxima difusión RT por favor ✊ https://t.co/ps3iUxldfI: https://twitter.com/twitter/status/1394749282264260612 → [pos]/neg \n"
     ]
    },
    {
     "name": "stdout",
     "output_type": "stream",
     "text": [
      "================================================================================\n"
     ]
    },
    {
     "name": "stdin",
     "output_type": "stream",
     "text": [
      "RT @trinimina25: En #Colombia, los supuestos \"vándalos\" son más educados que los miembros asesinos de @PoliciaColombia \n",
      "#ParoNacional \n",
      "\n",
      "@Ch…: https://twitter.com/twitter/status/1394749250815283201 → [pos]/neg \n"
     ]
    },
    {
     "name": "stdout",
     "output_type": "stream",
     "text": [
      "================================================================================\n"
     ]
    },
    {
     "name": "stdin",
     "output_type": "stream",
     "text": [
      "Mañana volvemos a salir a las calles.\n",
      "\n",
      "#ParoNacional https://t.co/pyMqu9Pl6M: https://twitter.com/twitter/status/1394749232901410822 → [pos]/neg \n"
     ]
    },
    {
     "name": "stdout",
     "output_type": "stream",
     "text": [
      "================================================================================\n",
      "================================================================================\n",
      "================================================================================\n"
     ]
    },
    {
     "name": "stdin",
     "output_type": "stream",
     "text": [
      "RT @Hekatombe_: #ReporteCiudadano | \"Desde el Colectivo Popular Esperanza Barrio remitimos imágenes del platón que se lleva a cabo frente a…: https://twitter.com/twitter/status/1394749208385687554 → [pos]/neg \n"
     ]
    },
    {
     "name": "stdout",
     "output_type": "stream",
     "text": [
      "================================================================================\n"
     ]
    },
    {
     "name": "stdin",
     "output_type": "stream",
     "text": [
      "@YosoyRicardoG Gerente de Interglobal Latam S.A.S @intergloballatam responde a la pregunta ¿Qué es innovación empresarial?\n",
      "Únete a la red más grande de Innovación tecnológica que conectará el sector Tic Del Valle del Cauca.\n",
      "https://t.co/xhpzpl04oh\n",
      "\n",
      "#Cali #Valle #Innovación https://t.co/puO96geFxu: https://twitter.com/twitter/status/1394749208020783108 → [pos]/neg \n"
     ]
    },
    {
     "name": "stdout",
     "output_type": "stream",
     "text": [
      "================================================================================\n",
      "================================================================================\n",
      "================================================================================\n"
     ]
    },
    {
     "name": "stdin",
     "output_type": "stream",
     "text": [
      "RT @GuillermoIncer: 31 un días de hostigamiento policial diario en mi casa. Mi respuesta: #fueraortega #quesevayan #vivanicaragualibre #jus…: https://twitter.com/twitter/status/1394749177054257154 → [pos]/neg \n"
     ]
    },
    {
     "name": "stdout",
     "output_type": "stream",
     "text": [
      "================================================================================\n",
      "================================================================================\n",
      "================================================================================\n",
      "================================================================================\n"
     ]
    },
    {
     "name": "stdin",
     "output_type": "stream",
     "text": [
      "RT @FIANColombia: Los mercados campesinos, una alternativa desde la Colombia rural que garantizan el Derecho a una Alimentación y Nutrición…: https://twitter.com/twitter/status/1394749127787941890 → [pos]/neg \n"
     ]
    },
    {
     "name": "stdout",
     "output_type": "stream",
     "text": [
      "================================================================================\n",
      "================================================================================\n",
      "================================================================================\n"
     ]
    },
    {
     "name": "stdin",
     "output_type": "stream",
     "text": [
      "RT @Gustavovelezt: Esto es lo que les asusta a la \"gente de bien\" de #Medellin \n",
      "Le temen a la alegria, la diversidad.\n",
      "Esto es la #MingaIndí…: https://twitter.com/twitter/status/1394749039594328069 → [pos]/neg \n"
     ]
    },
    {
     "name": "stdout",
     "output_type": "stream",
     "text": [
      "================================================================================\n"
     ]
    },
    {
     "name": "stdin",
     "output_type": "stream",
     "text": [
      "Mañana conversaré con @gomezmendeza sobre varios temas. Sobre el #ParoNacional, obvio; sobre los abusos de la fuerza pública, también; sobre política, pero claro. Y sobre el futuro de este país, que tanto nos duele. Los invito. @Perezcopio1 https://t.co/JHJcMU3Hog: https://twitter.com/twitter/status/1394749006715269123 → [pos]/neg \n"
     ]
    },
    {
     "name": "stdout",
     "output_type": "stream",
     "text": [
      "================================================================================\n"
     ]
    },
    {
     "name": "stdin",
     "output_type": "stream",
     "text": [
      "RT @lopoldowayne: Yo me pregunto dónde estaba el comité del paro cuando todo esto empezó? Yo lo que veo es un oportunismo de ver qué pueden…: https://twitter.com/twitter/status/1394749001388511232 → [pos]/neg n\n"
     ]
    },
    {
     "name": "stdout",
     "output_type": "stream",
     "text": [
      "================================================================================\n"
     ]
    },
    {
     "name": "stdin",
     "output_type": "stream",
     "text": [
      "RT @HalemangLaden: Ni el asesinato de #JesusSantrich pudo ser tan fuerte, para opacar el #ParoNacional .\n",
      "\n",
      "En este Gobierno ya no sirven ni…: https://twitter.com/twitter/status/1394748965753589769 → [pos]/neg \n"
     ]
    },
    {
     "name": "stdout",
     "output_type": "stream",
     "text": [
      "================================================================================\n",
      "================================================================================\n",
      "================================================================================\n"
     ]
    },
    {
     "name": "stdin",
     "output_type": "stream",
     "text": [
      "RT @CorpoJuridicaLi: #DóndeEstán 🔍\n",
      "Desde la Mesa de Trabajo sobre Desaparición Forzada 🇨🇴 hemos dispuesto un correo electrónico para recibi…: https://twitter.com/twitter/status/1394748937312083968 → [pos]/neg \n"
     ]
    },
    {
     "name": "stdout",
     "output_type": "stream",
     "text": [
      "================================================================================\n"
     ]
    },
    {
     "name": "stdin",
     "output_type": "stream",
     "text": [
      "¡RECUERDA! El consultorio jurídico de la #UCC Cali ha habilitado la jornada jurídica de teleconsulta. Registra tu consulta a través del siguiente formulario 👉 https://t.co/f8X2J69sOC Comparte esta info. con amigos, vecinos y/o familiares #AquíEstáTodo #ConsultorioJuridico #Cali https://t.co/Hr7tv1y4hm: https://twitter.com/twitter/status/1394748915887624195 → [pos]/neg \n"
     ]
    },
    {
     "name": "stdout",
     "output_type": "stream",
     "text": [
      "================================================================================\n"
     ]
    },
    {
     "name": "stdin",
     "output_type": "stream",
     "text": [
      "@petrogustavo Guerrillero asesino ud es la amenaza para la vida, la paz, y la constitución. #NoMasPetro #NoMasParo #NoMasBloqueos: https://twitter.com/twitter/status/1394748897369722881 → [pos]/neg n\n"
     ]
    },
    {
     "name": "stdout",
     "output_type": "stream",
     "text": [
      "================================================================================\n"
     ]
    },
    {
     "name": "stdin",
     "output_type": "stream",
     "text": [
      "En #Colombia, los supuestos \"vándalos\" son más educados que los miembros asesinos de @PoliciaColombia \n",
      "#ParoNacional \n",
      "\n",
      "@ChalecosAmarill \n",
      "\n",
      "#ParoNacional18M #ParoNacional17M #UribeGenocidaElMundoYaLoSabe #DuqueRenuncieYa #EducaciónBásica #ColombianLivesMatter #SOSColmbia #DuqueChao https://t.co/AmSFgFtWg6: https://twitter.com/twitter/status/1394748859960725507 → [pos]/neg p\n"
     ]
    },
    {
     "name": "stdout",
     "output_type": "stream",
     "text": [
      "================================================================================\n"
     ]
    },
    {
     "name": "stdin",
     "output_type": "stream",
     "text": [
      "RT @PaolaHolguin: Duele Colombia, duele la violencia, el vandalismo y el terrorismo #NoMasParo https://t.co/a7YGa7Ka3B: https://twitter.com/twitter/status/1394748857330905094 → [pos]/neg n\n"
     ]
    },
    {
     "name": "stdout",
     "output_type": "stream",
     "text": [
      "================================================================================\n"
     ]
    },
    {
     "name": "stdin",
     "output_type": "stream",
     "text": [
      "RT @ArielAnaliza: #ParoNacional \n",
      "Delicada la situación en Cartago\n",
      "Habitantes denuncian incursiones de la policía en barrios residénciales h…: https://twitter.com/twitter/status/1394748805799624707 → [pos]/neg p\n"
     ]
    },
    {
     "name": "stdout",
     "output_type": "stream",
     "text": [
      "================================================================================\n",
      "================================================================================\n"
     ]
    },
    {
     "name": "stdin",
     "output_type": "stream",
     "text": [
      "RT @laorejaroja: ¡Llegó la minga a Medellín!\n",
      "#17DeMayo #ParoNacional #FuerzaMinga\n",
      "📸 Camilo Moreno https://t.co/fFe0mfo330: https://twitter.com/twitter/status/1394748765794353160 → [pos]/neg \n"
     ]
    },
    {
     "name": "stdout",
     "output_type": "stream",
     "text": [
      "================================================================================\n",
      "================================================================================\n"
     ]
    },
    {
     "name": "stdin",
     "output_type": "stream",
     "text": [
      "RT @EnClavePolitik: ▶️#Colombia🇨🇴 @IvanDuque declara la guerra al #ParoNacional tras orden de desplegar el máximo de las fuerzas militares…: https://twitter.com/twitter/status/1394748733225590787 → [pos]/neg \n"
     ]
    },
    {
     "name": "stdout",
     "output_type": "stream",
     "text": [
      "================================================================================\n",
      "================================================================================\n",
      "================================================================================\n"
     ]
    },
    {
     "name": "stdin",
     "output_type": "stream",
     "text": [
      "@RubenPinzonHdez @EsperanzaPrie16 @CancinoAbog @LAPacifiKA @merv59 @Pelicolombianas @Gu2Hail @Mafalda_2020_ @Lynx_581 @Aemon3428 @ANNALVAREZG @Barreja @DIDASKALOSW @LeilaChujfi @Lucas89777309 @wicarni @willj84753699 @gurozu @GiordanoBrunoFi No sería posible sin la ayuda de la @FiscaliaCol \n",
      "Una Vergüenza ésta justicia.\n",
      "#ParoNacional: https://twitter.com/twitter/status/1394748668947861515 → [pos]/neg \n"
     ]
    },
    {
     "name": "stdout",
     "output_type": "stream",
     "text": [
      "================================================================================\n",
      "================================================================================\n",
      "================================================================================\n",
      "================================================================================\n",
      "================================================================================\n",
      "================================================================================\n",
      "================================================================================\n",
      "================================================================================\n",
      "================================================================================\n",
      "================================================================================\n",
      "================================================================================\n",
      "================================================================================\n",
      "================================================================================\n",
      "================================================================================\n"
     ]
    },
    {
     "name": "stdin",
     "output_type": "stream",
     "text": [
      "RT @RedVidaDHCauca: 🟠El gobierno nacional al llamar al uso de la máxima capacidad de respuesta policiva pone en riesgo la vida e integridad…: https://twitter.com/twitter/status/1394748338919071747 → [pos]/neg \n"
     ]
    },
    {
     "name": "stdout",
     "output_type": "stream",
     "text": [
      "================================================================================\n",
      "================================================================================\n",
      "================================================================================\n",
      "================================================================================\n"
     ]
    },
    {
     "name": "stdin",
     "output_type": "stream",
     "text": [
      "Correa, Evo, Lula, Mujica y otros expresidentes de la región expresaron su solidaridad “con el pueblo colombiano 🇨🇴“ ⬇️ #Colombia #ParoNacional \n",
      "\n",
      "https://t.co/ecFUzBMSv4: https://twitter.com/twitter/status/1394748282828697602 → [pos]/neg \n"
     ]
    },
    {
     "name": "stdout",
     "output_type": "stream",
     "text": [
      "================================================================================\n"
     ]
    },
    {
     "name": "stdin",
     "output_type": "stream",
     "text": [
      "RT @LeCuento__: #LeCuentoEl18M📍Medellín, Antioquia\n",
      "\n",
      "Hoy al medio día comienza la movilización de la Minga indígena de Antioquia desde Punto…: https://twitter.com/twitter/status/1394748280123314184 → [pos]/neg \n"
     ]
    },
    {
     "name": "stdout",
     "output_type": "stream",
     "text": [
      "================================================================================\n"
     ]
    },
    {
     "name": "stdin",
     "output_type": "stream",
     "text": [
      "De Colombia a Irán, de EE.UU a Palestina\n",
      "Para los oprimidos...\n",
      "El TERROR POLICIAL y el de los ejercitos reaccionarios es la NORMA.\n",
      "\n",
      "Este sistema NO PUEDE ser reformado.\n",
      "REVOLUCIÓN, ¡Y NADA MENOS!\n",
      "#Palestina \n",
      "#PalestineUnderAttack \n",
      "#ColombiaEnAlertaRoja \n",
      "#ParoNacional\n",
      "@ComRevCo https://t.co/Mgaga4vu6k: https://twitter.com/twitter/status/1394748257524461569 → [pos]/neg \n"
     ]
    },
    {
     "name": "stdout",
     "output_type": "stream",
     "text": [
      "================================================================================\n",
      "================================================================================\n"
     ]
    },
    {
     "name": "stdin",
     "output_type": "stream",
     "text": [
      "RT @NotiVzlaEEUU: #18May 🇨🇴 | En Yumbo, valle del cauca Colombia  la situación está tensa, los manifestantes en Ecopetrol dan ultimátum y a…: https://twitter.com/twitter/status/1394748156936589312 → [pos]/neg \n"
     ]
    },
    {
     "name": "stdout",
     "output_type": "stream",
     "text": [
      "================================================================================\n",
      "================================================================================\n"
     ]
    },
    {
     "name": "stdin",
     "output_type": "stream",
     "text": [
      "RT @Cambiamoscol: En el portal Américas, Bogotá. La policía nacional acorraló y requiso a jóvenes que hacen parte de primera línea. \n",
      "\n",
      "#Paro…: https://twitter.com/twitter/status/1394748130822959105 → [pos]/neg \n"
     ]
    },
    {
     "name": "stdout",
     "output_type": "stream",
     "text": [
      "================================================================================\n",
      "================================================================================\n",
      "================================================================================\n",
      "================================================================================\n"
     ]
    },
    {
     "name": "stdin",
     "output_type": "stream",
     "text": [
      "@petrogustavo “Es que Colombia ya es como Venezuela\" 😎\n",
      "\n",
      "Esa visita de ayer acá en Barranquilla estuvo buena 😁\n",
      "\n",
      "#ParoNacional18M #ParoNacional https://t.co/MfOVm7stfr: https://twitter.com/twitter/status/1394748084937281537 → [pos]/neg \n"
     ]
    },
    {
     "name": "stdout",
     "output_type": "stream",
     "text": [
      "================================================================================\n"
     ]
    },
    {
     "name": "stdin",
     "output_type": "stream",
     "text": [
      "RT @COLOMBIADIFUNDE: #Urgente 🚨 #SOSYUMBO 📢 | #SOSColombiaDDHH 🇨🇴 #DESPLIEGUEMILITAR | Ciudadanos denuncian fuerte presencia militar en Sam…: https://twitter.com/twitter/status/1394748052578131970 → [pos]/neg \n"
     ]
    },
    {
     "name": "stdout",
     "output_type": "stream",
     "text": [
      "================================================================================\n",
      "================================================================================\n",
      "================================================================================\n",
      "================================================================================\n",
      "================================================================================\n",
      "================================================================================\n",
      "================================================================================\n"
     ]
    },
    {
     "name": "stdin",
     "output_type": "stream",
     "text": [
      "RT @maytemisast: Somos granos de la misma mazorca, plurales, diversos, luchadorxs, no nos dejemos dividir, el #ParoNacional nos une, Sí la…: https://twitter.com/twitter/status/1394747939474612227 → [pos]/neg \n"
     ]
    },
    {
     "name": "stdout",
     "output_type": "stream",
     "text": [
      "================================================================================\n",
      "================================================================================\n",
      "================================================================================\n"
     ]
    },
    {
     "name": "stdin",
     "output_type": "stream",
     "text": [
      "RT @renacientes: @IvanDuque le sigue dando trato militar a la protesta social. \n",
      "Valoramos el actuar responsable del \n",
      "@GobCauca @LarrahondoE…: https://twitter.com/twitter/status/1394747913721552899 → [pos]/neg \n"
     ]
    },
    {
     "name": "stdout",
     "output_type": "stream",
     "text": [
      "================================================================================\n"
     ]
    },
    {
     "name": "stdin",
     "output_type": "stream",
     "text": [
      "#ParoNacional No se puede con un gobierno, un congreso, una rama judicial de farándula una cosa dicen en la novela y otra es la realidad. https://t.co/gHtO4BsTX3: https://twitter.com/twitter/status/1394747912039632908 → [pos]/neg \n"
     ]
    },
    {
     "name": "stdout",
     "output_type": "stream",
     "text": [
      "================================================================================\n",
      "================================================================================\n"
     ]
    },
    {
     "name": "stdin",
     "output_type": "stream",
     "text": [
      "RT @DarlyGarciaa: Se requiere presencia de Derechos Humanos en Caldas Antioquia, hay varios heridos y detenidos arbitrariamente #SOS\n",
      "Tambié…: https://twitter.com/twitter/status/1394747906360496133 → [pos]/neg \n"
     ]
    },
    {
     "name": "stdout",
     "output_type": "stream",
     "text": [
      "================================================================================\n",
      "================================================================================\n",
      "================================================================================\n",
      "================================================================================\n",
      "================================================================================\n",
      "================================================================================\n",
      "================================================================================\n"
     ]
    },
    {
     "name": "stdin",
     "output_type": "stream",
     "text": [
      "#RenuncieCamargo Ya! Colombia NO tiene Defensor del Pueblo en la @DefensoriaCol\n",
      "\n",
      "#NosEstanMantando y es el Estado\n",
      "👉 Más de 40 muertos en 20 días de #ParoNacional, y el @IvanDuque CALLA, JUSTICIA Y MATA\n",
      "\n",
      "#AyudaComunidadInternacional\n",
      "@mbachelet Colombia te necesita y @CIDH también https://t.co/gcowBej4HL: https://twitter.com/twitter/status/1394747845975085059 → [pos]/neg \n"
     ]
    },
    {
     "name": "stdout",
     "output_type": "stream",
     "text": [
      "================================================================================\n",
      "================================================================================\n",
      "================================================================================\n",
      "================================================================================\n"
     ]
    },
    {
     "name": "stdin",
     "output_type": "stream",
     "text": [
      "RT @CMILANOTICIA: Nombran nuevo comandante de la Policía Metropolitana de #Cali https://t.co/qHvrSyAIe1: https://twitter.com/twitter/status/1394747764341411846 → [pos]/neg \n"
     ]
    },
    {
     "name": "stdout",
     "output_type": "stream",
     "text": [
      "================================================================================\n",
      "================================================================================\n"
     ]
    },
    {
     "name": "stdin",
     "output_type": "stream",
     "text": [
      "Alertan por desabastecimiento de gas licuado en #Colombia \n",
      "#ParoNacional #ParoNacional18M #GLP\n",
      "\n",
      "https://t.co/nC8gQao7G7: https://twitter.com/twitter/status/1394747739322335232 → [pos]/neg \n"
     ]
    },
    {
     "name": "stdout",
     "output_type": "stream",
     "text": [
      "================================================================================\n",
      "================================================================================\n"
     ]
    },
    {
     "name": "stdin",
     "output_type": "stream",
     "text": [
      "RT @Contagioradio1: #Última Duque ordena levantar bloqueos con el uso de la fuerza, mientras desconoce una concertación de fondo, afirma Co…: https://twitter.com/twitter/status/1394747698524430344 → [pos]/neg \n"
     ]
    },
    {
     "name": "stdout",
     "output_type": "stream",
     "text": [
      "================================================================================\n"
     ]
    },
    {
     "name": "stdin",
     "output_type": "stream",
     "text": [
      "https://t.co/4Xx837dddP Así se entrena la Guardia Indígena... viva el #ParoNacional fuera @IvanDuque y su patrón @AlvaroUribeVel dejen gobernar a los que saben.. a los que viven... al pueblo...: https://twitter.com/twitter/status/1394747689200390148 → [pos]/neg \n"
     ]
    },
    {
     "name": "stdout",
     "output_type": "stream",
     "text": [
      "================================================================================\n",
      "================================================================================\n",
      "================================================================================\n",
      "================================================================================\n"
     ]
    },
    {
     "name": "stdin",
     "output_type": "stream",
     "text": [
      "Ahora es tu turno de superarte ✨💖.     Este es tu lugar perfecto, atrevete a vivir la experiencia CN&amp;A 😍✨. #model #Cali #modelwebcam https://t.co/NW4IICTXrE: https://twitter.com/twitter/status/1394747608858599425 → [pos]/neg \n"
     ]
    },
    {
     "name": "stdout",
     "output_type": "stream",
     "text": [
      "================================================================================\n",
      "================================================================================\n",
      "================================================================================\n",
      "================================================================================\n",
      "================================================================================\n"
     ]
    },
    {
     "name": "stdin",
     "output_type": "stream",
     "text": [
      "RT @MafeCarrascal: El 010, #ReformaALaSalud, no ha muerto. Exijámosle a los congresistas @JorgeEBenedetti @AngelaSanchezL @JAIROCRISTO @jho…: https://twitter.com/twitter/status/1394747562339577861 → [pos]/neg \n"
     ]
    },
    {
     "name": "stdout",
     "output_type": "stream",
     "text": [
      "================================================================================\n",
      "================================================================================\n",
      "================================================================================\n",
      "================================================================================\n"
     ]
    },
    {
     "name": "stdin",
     "output_type": "stream",
     "text": [
      "#ParoNacional18M \n",
      "#yosoyguardiaindigena \n",
      "#ParoNacionalIndefinido \n",
      "#ParoNacional no debe caer en la trampa de diálogos locales y regionales, así lo van a atomizar. Se deben nombrar representantes para una gran cabildo abierto nacional y que sea el que tome decisiones. \n",
      "¡OJO VIVO!: https://twitter.com/twitter/status/1394747464532602882 → [pos]/neg \n"
     ]
    },
    {
     "name": "stdout",
     "output_type": "stream",
     "text": [
      "================================================================================\n",
      "================================================================================\n",
      "================================================================================\n",
      "================================================================================\n",
      "================================================================================\n"
     ]
    },
    {
     "name": "stdin",
     "output_type": "stream",
     "text": [
      "#Colombia entera debiera hacer didáctico el mensaje que la vida da a través de la experiencia de Juliana Andrea Rojas. \"No desees a nadie, lo que no desees para tu mismo\". No hay que confundir las cosas. Nos podemos criticar y combatir, sin desear la muerte de nadie #ParoNacional https://t.co/wCHYM2Z1us: https://twitter.com/twitter/status/1394747249968795654 → [pos]/neg \n"
     ]
    },
    {
     "name": "stdout",
     "output_type": "stream",
     "text": [
      "================================================================================\n",
      "================================================================================\n"
     ]
    },
    {
     "name": "stdin",
     "output_type": "stream",
     "text": [
      "RT @DefenderLiberta: #ParoNacional14M 🟣 Tenemos derecho a vivir libres de violencia, tortura y otros malos tratos por razones de Género.…: https://twitter.com/twitter/status/1394747208579301377 → [pos]/neg \n"
     ]
    },
    {
     "name": "stdout",
     "output_type": "stream",
     "text": [
      "================================================================================\n",
      "================================================================================\n",
      "================================================================================\n",
      "================================================================================\n"
     ]
    },
    {
     "name": "stdin",
     "output_type": "stream",
     "text": [
      "31 un días de hostigamiento policial diario en mi casa. Mi respuesta: #fueraortega #quesevayan #vivanicaragualibre #justicia #dequesevansevan #paronacional #LibertadALxsPresxsPoliticxs \n",
      "\n",
      "Seguimos firmes y dignos 💙🤍💙 https://t.co/SG84FnyIuV: https://twitter.com/twitter/status/1394747090941710348 → [pos]/neg \n"
     ]
    },
    {
     "name": "stdout",
     "output_type": "stream",
     "text": [
      "================================================================================\n"
     ]
    },
    {
     "name": "stdin",
     "output_type": "stream",
     "text": [
      "#Cali tiene nuevo comandante de Policía. https://t.co/BBb37GiHlR: https://twitter.com/twitter/status/1394747062147821572 → [pos]/neg \n"
     ]
    },
    {
     "name": "stdout",
     "output_type": "stream",
     "text": [
      "================================================================================\n",
      "================================================================================\n"
     ]
    },
    {
     "name": "stdin",
     "output_type": "stream",
     "text": [
      "RT @dw_espanol: En la primera línea de las protestas en #Colombia\n",
      "\n",
      "Este \"instagramer\" y activista grabó de primera mano lo ocurrido durante…: https://twitter.com/twitter/status/1394746981252218884 → [pos]/neg \n"
     ]
    },
    {
     "name": "stdout",
     "output_type": "stream",
     "text": [
      "================================================================================\n",
      "================================================================================\n"
     ]
    },
    {
     "name": "stdin",
     "output_type": "stream",
     "text": [
      "#redactoresinforma Por la Impunidad y la Injusticia, las Madres Colombianas 💞 siguen uniendo su voz de lucha en el #ParoNacional e invitan apoyarlas en el Parque Nacional en Bogotá\n",
      "#MadresContraLaImpunidad porque el estado está matando a sus hijos. 👇 https://t.co/3Nu09pnjOv: https://twitter.com/twitter/status/1394746974998601736 → [pos]/neg \n"
     ]
    },
    {
     "name": "stdout",
     "output_type": "stream",
     "text": [
      "================================================================================\n"
     ]
    },
    {
     "name": "stdin",
     "output_type": "stream",
     "text": [
      "RT @SugaarMoomy: @elikitty_33 Tal vez no es una fotaza, pero ver líderes barristas de diferentes equipos hoy marchando unidos y en paz ha s…: https://twitter.com/twitter/status/1394746971114639363 → [pos]/neg \n"
     ]
    },
    {
     "name": "stdout",
     "output_type": "stream",
     "text": [
      "================================================================================\n"
     ]
    },
    {
     "name": "stdin",
     "output_type": "stream",
     "text": [
      "Nuestros abuelos No Pueden seguir viviendo en esta situación tan paupérrima.\n",
      "\n",
      "Qué clase de sociedad estamos formando?  No ... la chimba.\n",
      "\n",
      "#ParoNacional #Colombia https://t.co/FW3MJKIyv5: https://twitter.com/twitter/status/1394746968719728657 → [pos]/neg \n"
     ]
    },
    {
     "name": "stdout",
     "output_type": "stream",
     "text": [
      "================================================================================\n",
      "================================================================================\n"
     ]
    },
    {
     "name": "stdin",
     "output_type": "stream",
     "text": [
      "RT @JAlviraCruz: Mi mayor miedo sobre el #ParoNacional es que esto pare y todo siga igual.: https://twitter.com/twitter/status/1394746922318057472 → [pos]/neg \n"
     ]
    },
    {
     "name": "stdout",
     "output_type": "stream",
     "text": [
      "================================================================================\n",
      "================================================================================\n"
     ]
    },
    {
     "name": "stdin",
     "output_type": "stream",
     "text": [
      "El Pueblo se respeta Carajo!!!!!\n",
      "\n",
      "#ParoNacional #ColombiaSOS #DictaduraEnColombia #SOSColombiaDDHH #DDHH #protestasocial #marcha #manifestacion #UribeParacoHpta #UribeGenocidaElMundoYaLoSabe #ColombiaEnAlertaRoja #ColombiaSeRespeta #elpueblo https://t.co/JO8T3ntS0w: https://twitter.com/twitter/status/1394746863635546114 → [pos]/neg \n"
     ]
    },
    {
     "name": "stdout",
     "output_type": "stream",
     "text": [
      "================================================================================\n"
     ]
    },
    {
     "name": "stdin",
     "output_type": "stream",
     "text": [
      "RT @Santorrado: “La lectura optimista es que Colombia está viviendo una primavera democrática”, me dice @RodrigoUprimny en esta entrevista…: https://twitter.com/twitter/status/1394746851077799938 → [pos]/neg \n"
     ]
    },
    {
     "name": "stdout",
     "output_type": "stream",
     "text": [
      "================================================================================\n",
      "================================================================================\n"
     ]
    },
    {
     "name": "stdin",
     "output_type": "stream",
     "text": [
      "RT @ComicLab_Col: Espectacular pieza del artista @distopico_92 (IG) con motivo del #ParoNacional. Homage de la icónica portada de X-Men Day…: https://twitter.com/twitter/status/1394746790356865029 → [pos]/neg \n"
     ]
    },
    {
     "name": "stdout",
     "output_type": "stream",
     "text": [
      "================================================================================\n",
      "================================================================================\n"
     ]
    },
    {
     "name": "stdin",
     "output_type": "stream",
     "text": [
      "RT @RollingStoneCol: La protesta social es mucho más que los enfrentamientos entre manifestantes y fuerzas públicas. En ROLLING STONE quere…: https://twitter.com/twitter/status/1394746786053513221 → [pos]/neg \n"
     ]
    },
    {
     "name": "stdout",
     "output_type": "stream",
     "text": [
      "================================================================================\n",
      "================================================================================\n",
      "================================================================================\n"
     ]
    },
    {
     "name": "stdin",
     "output_type": "stream",
     "text": [
      "RT @mavatab: @PaolaHolguin #secuestradosenelCauca es como pedir permiso para entrar a nuestras casas #NoMasParo #NoMasBloqueos, ayuda 🇨🇴😢: https://twitter.com/twitter/status/1394746686912835584 → [pos]/neg n\n"
     ]
    },
    {
     "name": "stdout",
     "output_type": "stream",
     "text": [
      "================================================================================\n",
      "================================================================================\n",
      "================================================================================\n",
      "================================================================================\n"
     ]
    },
    {
     "name": "stdin",
     "output_type": "stream",
     "text": [
      "RT @Banrepcultural: ¿Conoces nuestros museos regionales?\n",
      "\n",
      "Ubicados en #SantaMarta, #Cartagena, #Pasto, #Armenia, #Cali y #Leticia, nuestros…: https://twitter.com/twitter/status/1394746627009748996 → [pos]/neg \n"
     ]
    },
    {
     "name": "stdout",
     "output_type": "stream",
     "text": [
      "================================================================================\n",
      "================================================================================\n"
     ]
    },
    {
     "name": "stdin",
     "output_type": "stream",
     "text": [
      "Atempi es Colombia 🇨🇴\n",
      "\n",
      "Tip #4\n",
      "\n",
      "Durante las jornadas de marcha, sigamos alertas, sin bajar la guardia... \n",
      "\n",
      "#seguridadprivada #seguridadyvigilancia #colombia #marchas #seguridad #riesgos #paronacional https://t.co/QONfX8yY5h: https://twitter.com/twitter/status/1394746563616980993 → [pos]/neg \n"
     ]
    },
    {
     "name": "stdout",
     "output_type": "stream",
     "text": [
      "================================================================================\n",
      "================================================================================\n"
     ]
    },
    {
     "name": "stdin",
     "output_type": "stream",
     "text": [
      "Nuestras únicas armas son la educación y las ganas de cambiar este país. 🔥✊🏽\n",
      "#ParoNacional #ParoNacional18M #SOSColombiaDDHH https://t.co/46MwKAplOn: https://twitter.com/twitter/status/1394746518859624452 → [pos]/neg p\n"
     ]
    },
    {
     "name": "stdout",
     "output_type": "stream",
     "text": [
      "================================================================================\n",
      "================================================================================\n"
     ]
    },
    {
     "name": "stdin",
     "output_type": "stream",
     "text": [
      "La localidad de #Usme en #Bogotá tomada por los vándalos. Acabo de visitar y están los comercios cerrados en su mayoría, con amenazas de grupos ilegales, y en el puente de la dignidad un grupo q solo se dedica a generar pánico y no dejar circular. #NoMasBloqueos #NoMasParo: https://twitter.com/twitter/status/1394746502875078670 → [pos]/neg n\n"
     ]
    },
    {
     "name": "stdout",
     "output_type": "stream",
     "text": [
      "================================================================================\n"
     ]
    },
    {
     "name": "stdin",
     "output_type": "stream",
     "text": [
      "@Franciscolombia @FiscaliaCol !!Que viva el #ParoNacional!!: https://twitter.com/twitter/status/1394746457807327232 → [pos]/neg \n"
     ]
    },
    {
     "name": "stdout",
     "output_type": "stream",
     "text": [
      "================================================================================\n"
     ]
    },
    {
     "name": "stdin",
     "output_type": "stream",
     "text": [
      "RT @mariomojc: El uribismo feliz al atribuirse la muerte de un guerrillero ciego que se les escapó y que la guardia venezolana dio de baja.…: https://twitter.com/twitter/status/1394746452090490886 → [pos]/neg \n"
     ]
    },
    {
     "name": "stdout",
     "output_type": "stream",
     "text": [
      "================================================================================\n",
      "================================================================================\n",
      "================================================================================\n",
      "================================================================================\n",
      "================================================================================\n"
     ]
    },
    {
     "name": "stdin",
     "output_type": "stream",
     "text": [
      "22. Bloqueos sin #ParoNacional... \"Transmilenio #BRT volvió a la normalidad... y con ella los bloqueos, pero por falta de buses\" Diciembre 2019 https://t.co/H5Je20UHoa: https://twitter.com/twitter/status/1394746411456110599 → [pos]/neg \n"
     ]
    },
    {
     "name": "stdout",
     "output_type": "stream",
     "text": [
      "================================================================================\n"
     ]
    },
    {
     "name": "stdin",
     "output_type": "stream",
     "text": [
      "RT @LasNoticiasTel: #Colombia ¿Está usted de acuerdo con el anuncio del Presidente @IvanDuque, de ordenar a la Fuerza Pública desplegar su…: https://twitter.com/twitter/status/1394746410218700800 → [pos]/neg \n"
     ]
    },
    {
     "name": "stdout",
     "output_type": "stream",
     "text": [
      "================================================================================\n"
     ]
    },
    {
     "name": "stdin",
     "output_type": "stream",
     "text": [
      "RT @LosMismosGatos: ¡Gatos! Hoy nos acompañará el empresario y político caleño @alejoeder, para hablar de la compleja situación del Valle d…: https://twitter.com/twitter/status/1394746406804590595 → [pos]/neg \n"
     ]
    },
    {
     "name": "stdout",
     "output_type": "stream",
     "text": [
      "================================================================================\n"
     ]
    },
    {
     "name": "stdin",
     "output_type": "stream",
     "text": [
      "🚨ATENCIÓN 🚨\n",
      "Ayudemos a responder esta encuesta sobre si apoyan que se levanten los bloqueos a la fuerza o no 🇨🇴\n",
      "\n",
      "Va ganando el \"SI\"\n",
      "La idea es votar NO &lt;--- 💜❤️🖤\n",
      "Por favor 🇨🇴\n",
      "#KpopersXColombia #kpopers #KPOP #ARMY #EXOL #BLINKS #kpopColombia #ParoNacional #ParoNacional18M https://t.co/IBnS2ywEVm https://t.co/LF59wVBqug: https://twitter.com/twitter/status/1394746359572570115 → [pos]/neg \n"
     ]
    },
    {
     "name": "stdout",
     "output_type": "stream",
     "text": [
      "================================================================================\n"
     ]
    },
    {
     "name": "stdin",
     "output_type": "stream",
     "text": [
      "#ParoNacional \n",
      "\n",
      "En esta ocasión, les compartimos una postal del Paro Nacional.\n",
      "\n",
      "#Colombia #MásArteMenosArmas https://t.co/0agVLQvn3t: https://twitter.com/twitter/status/1394746349048975369 → [pos]/neg \n"
     ]
    },
    {
     "name": "stdout",
     "output_type": "stream",
     "text": [
      "================================================================================\n",
      "================================================================================\n",
      "================================================================================\n"
     ]
    },
    {
     "name": "stdin",
     "output_type": "stream",
     "text": [
      "@ELINSOLENTE6 @Asumiendome @whocarenow @TwitterLatAm @petrogustavo !!Que viva el #ParoNacional!!: https://twitter.com/twitter/status/1394746281793306624 → [pos]/neg p\n"
     ]
    },
    {
     "name": "stdout",
     "output_type": "stream",
     "text": [
      "================================================================================\n",
      "================================================================================\n",
      "================================================================================\n",
      "================================================================================\n",
      "================================================================================\n",
      "================================================================================\n"
     ]
    },
    {
     "name": "stdin",
     "output_type": "stream",
     "text": [
      "RT @LiliCastanedaM: ¿No les atraviesan estas palabras tan dolorosamente que apenas pueden respirar?\n",
      "\n",
      "Merecemos garantías para vivir y para…: https://twitter.com/twitter/status/1394746145742725126 → [pos]/neg \n"
     ]
    },
    {
     "name": "stdout",
     "output_type": "stream",
     "text": [
      "================================================================================\n",
      "================================================================================\n"
     ]
    },
    {
     "name": "stdin",
     "output_type": "stream",
     "text": [
      "Esta es la mejor forma de manifestación, pero aún debemos convocar multitudes como lo invita @petrogustavo, el saber, el deporte, el arte y cultura derrotarán al fascismo.\n",
      "https://t.co/FqMAbOETVR #ParoNacional: https://twitter.com/twitter/status/1394746110019870722 → [pos]/neg \n"
     ]
    },
    {
     "name": "stdout",
     "output_type": "stream",
     "text": [
      "================================================================================\n"
     ]
    },
    {
     "name": "stdin",
     "output_type": "stream",
     "text": [
      "Por Dios, denunciemos a este político Petro incitador de violencia!\n",
      "\n",
      "#NoMasBloqueos #NoMasViolencia #NoMasParo https://t.co/Coq5auKTjm: https://twitter.com/twitter/status/1394746070039662599 → [pos]/neg n\n"
     ]
    },
    {
     "name": "stdout",
     "output_type": "stream",
     "text": [
      "================================================================================\n"
     ]
    },
    {
     "name": "stdin",
     "output_type": "stream",
     "text": [
      "RT @Cali24Horas: 🚨 | Tras finalizar el consejo de Gobierno convocado por el alcalde de #Cali, @JorgeIvanOspina, luego de anunciar que deman…: https://twitter.com/twitter/status/1394746030198071297 → [pos]/neg \n"
     ]
    },
    {
     "name": "stdout",
     "output_type": "stream",
     "text": [
      "================================================================================\n",
      "================================================================================\n",
      "================================================================================\n",
      "================================================================================\n",
      "================================================================================\n"
     ]
    },
    {
     "name": "stdin",
     "output_type": "stream",
     "text": [
      "Que increíble manera de negar el asesinato por parte de fuerzas del estado a civiles indefensos. Su único pecado. Exigir un país mejor. Que rabia la narrativa que pretenden imponer. Sin tener en cuenta que el mundo los está mirando. Que vergüenza sobre todo. #ParoNacional https://t.co/L1KuPS8vvQ: https://twitter.com/twitter/status/1394745979727929345 → [pos]/neg p\n"
     ]
    },
    {
     "name": "stdout",
     "output_type": "stream",
     "text": [
      "================================================================================\n",
      "================================================================================\n",
      "================================================================================\n"
     ]
    },
    {
     "name": "stdin",
     "output_type": "stream",
     "text": [
      "RT @MalaMMujer: #ParoNacionalIndefinido #ParoNacional Seguimos en la lucha por una panza llena y el corazón contento. https://t.co/lgR6x3vd…: https://twitter.com/twitter/status/1394745946379112454 → [pos]/neg \n"
     ]
    },
    {
     "name": "stdout",
     "output_type": "stream",
     "text": [
      "================================================================================\n",
      "================================================================================\n",
      "================================================================================\n",
      "================================================================================\n",
      "================================================================================\n",
      "================================================================================\n"
     ]
    },
    {
     "name": "stdin",
     "output_type": "stream",
     "text": [
      "RT @TPU19J: 🔥 #AHORA 🔥 Escuadrones de la muerte del dictador Iván Duque disparan a manifestantes pacíficos en Yumbo, Valle del Cauca, uno d…: https://twitter.com/twitter/status/1394745888506105859 → [pos]/neg \n"
     ]
    },
    {
     "name": "stdout",
     "output_type": "stream",
     "text": [
      "================================================================================\n"
     ]
    },
    {
     "name": "stdin",
     "output_type": "stream",
     "text": [
      "¿Conoces nuestros museos regionales?\n",
      "\n",
      "Ubicados en #SantaMarta, #Cartagena, #Pasto, #Armenia, #Cali y #Leticia, nuestros museos celebran el patrimonio y la memoria de Colombia y su gente.\n",
      "\n",
      "En el #DíaInternacionalDeLosMuseos reconocemos su labor.  \n",
      "\n",
      "👉 https://t.co/mw0c47C6Ma https://t.co/ydMQXXTxPq: https://twitter.com/twitter/status/1394745876271321093 → [pos]/neg \n"
     ]
    },
    {
     "name": "stdout",
     "output_type": "stream",
     "text": [
      "================================================================================\n",
      "================================================================================\n"
     ]
    },
    {
     "name": "stdin",
     "output_type": "stream",
     "text": [
      "Me sorprende el descargo del gobierno. Pónganse a pensar. Nunca, y digo nunca, he escuchado una noticia tipo « capturado cabecilla de las águilas negras ». No intentan ni disimular su participación en el paramilitarismo.\n",
      "#ParoNacional18M  #ParoNacional #ParoNacionalIndefinido: https://twitter.com/twitter/status/1394745798039121930 → [pos]/neg \n"
     ]
    },
    {
     "name": "stdout",
     "output_type": "stream",
     "text": [
      "================================================================================\n"
     ]
    },
    {
     "name": "stdin",
     "output_type": "stream",
     "text": [
      "RT @SINOLVIDO: #SinOlvido #JuanDavidGarcíaNaranjo era líder del #ParoNacional fue asesinado el domingo 2 de mayo en el municipio de San Lui…: https://twitter.com/twitter/status/1394745771325546501 → [pos]/neg \n"
     ]
    },
    {
     "name": "stdout",
     "output_type": "stream",
     "text": [
      "================================================================================\n",
      "================================================================================\n",
      "================================================================================\n",
      "================================================================================\n",
      "================================================================================\n",
      "================================================================================\n"
     ]
    },
    {
     "name": "stdin",
     "output_type": "stream",
     "text": [
      "RT @GaboBenavidesB: En lugar de pagar por propaganda contra el #ParoNacional el @MinAgricultura debería entregar recursos a los pequeños ag…: https://twitter.com/twitter/status/1394745664672866308 → [pos]/neg \n"
     ]
    },
    {
     "name": "stdout",
     "output_type": "stream",
     "text": [
      "================================================================================\n"
     ]
    },
    {
     "name": "stdin",
     "output_type": "stream",
     "text": [
      "Ellos mismos vandalizando para estigmatizar el paro #UribeParacoHpta #ParoNacional #ParoNacionalIndefinido #ParoNacional18M https://t.co/IdCCz0Zm7K: https://twitter.com/twitter/status/1394745663406096389 → [pos]/neg \n"
     ]
    },
    {
     "name": "stdout",
     "output_type": "stream",
     "text": [
      "================================================================================\n"
     ]
    },
    {
     "name": "stdin",
     "output_type": "stream",
     "text": [
      "Los pelaos de Cali que no les llamen vándalos #cali #paro  https://t.co/WgSBCmoKly: https://twitter.com/twitter/status/1394745643990667267 → [pos]/neg \n"
     ]
    },
    {
     "name": "stdout",
     "output_type": "stream",
     "text": [
      "================================================================================\n",
      "================================================================================\n",
      "================================================================================\n"
     ]
    },
    {
     "name": "stdin",
     "output_type": "stream",
     "text": [
      "Hoy fui invitada a la Mesa \"Rionegro Dialoga\", con el propósito de garantizar la participación de las mujeres en la construcción del manifiesto frente al #ParoNacional, como Consejera de Participación Departamental, representado a las organizaciones de mujeres solicité 🧵 https://t.co/hZNhAL3jOG: https://twitter.com/twitter/status/1394745626441682947 → [pos]/neg \n"
     ]
    },
    {
     "name": "stdout",
     "output_type": "stream",
     "text": [
      "================================================================================\n"
     ]
    },
    {
     "name": "stdin",
     "output_type": "stream",
     "text": [
      "@ClaudiaLopez ésta muy equivocada en creer que este #ParoNacional  es de @petrogustavo, somos las ciudadanías los que estamos cansados de un sistema económico machista y opresor que no permite un desarrollo en equilibrio con la vida. https://t.co/fZSZ3paACC: https://twitter.com/twitter/status/1394745620653559808 → [pos]/neg \n"
     ]
    },
    {
     "name": "stdout",
     "output_type": "stream",
     "text": [
      "================================================================================\n"
     ]
    },
    {
     "name": "stdin",
     "output_type": "stream",
     "text": [
      "@dw_espanol No más protestas por favor!\n",
      "\n",
      "Las grandes mayorías de estudiantes y trabajadores no queremos más protestas.\n",
      "\n",
      "Los guerrillos Petro-FARC nos quieren quitar movilidad en carrreteras, requerimos mover alimentos, medicamentos, estudiantes, trabajadores.\n",
      "\n",
      "#NoMasParo #NoMasBloqueos: https://twitter.com/twitter/status/1394745566622588930 → [pos]/neg n\n"
     ]
    },
    {
     "name": "stdout",
     "output_type": "stream",
     "text": [
      "================================================================================\n"
     ]
    },
    {
     "name": "stdin",
     "output_type": "stream",
     "text": [
      "Sameco, escuchar todas las voces #ParoNacional  #Working https://t.co/SjdCHIPt62: https://twitter.com/twitter/status/1394745551468601344 → [pos]/neg \n"
     ]
    },
    {
     "name": "stdout",
     "output_type": "stream",
     "text": [
      "================================================================================\n"
     ]
    },
    {
     "name": "stdin",
     "output_type": "stream",
     "text": [
      "El uribismo feliz al atribuirse la muerte de un guerrillero ciego que se les escapó y que la guardia venezolana dio de baja.\n",
      "\n",
      "#ParoNacional #ParoNacional18M: https://twitter.com/twitter/status/1394745533969977344 → [pos]/neg \n"
     ]
    },
    {
     "name": "stdout",
     "output_type": "stream",
     "text": [
      "================================================================================\n",
      "================================================================================\n",
      "================================================================================\n",
      "================================================================================\n",
      "================================================================================\n"
     ]
    },
    {
     "name": "stdin",
     "output_type": "stream",
     "text": [
      "@navarrowolff Hace debieron de haber levantado el paro !! Así que lo que siguió si. Terroriatas , VÁNDALO y HAMPONES como ustedes ! \n",
      "#YoApoyoAlEsmad  \n",
      "#NoMasParo: https://twitter.com/twitter/status/1394745454047502338 → [pos]/neg n\n"
     ]
    },
    {
     "name": "stdout",
     "output_type": "stream",
     "text": [
      "================================================================================\n"
     ]
    },
    {
     "name": "stdin",
     "output_type": "stream",
     "text": [
      "#RCNMentiroso \n",
      "#ParoNacionalIndefinido \n",
      "#DiaDelTrabajo\n",
      "#NosEstanMasacrando\n",
      "#ParoNacional\n",
      "#18deMayo\n",
      " ATENCIÓN [COLOMBIA PARO NACIONAL] – Noticias UNO, el medio de comunicación que si muestra la realidad del sufrimiento en Colombia. https://t.co/21FMUe7WL9: https://twitter.com/twitter/status/1394745421713510411 → [pos]/neg \n"
     ]
    },
    {
     "name": "stdout",
     "output_type": "stream",
     "text": [
      "================================================================================\n"
     ]
    },
    {
     "name": "stdin",
     "output_type": "stream",
     "text": [
      "En el portal Américas, Bogotá. La policía nacional acorraló y requiso a jóvenes que hacen parte de primera línea. \n",
      "\n",
      "#ParoNacional18M #ParoNacional #SOSColombiaDDHH https://t.co/ZrfaliuvRb: https://twitter.com/twitter/status/1394745379225280520 → [pos]/neg p\n"
     ]
    },
    {
     "name": "stdout",
     "output_type": "stream",
     "text": [
      "================================================================================\n"
     ]
    },
    {
     "name": "stdin",
     "output_type": "stream",
     "text": [
      "#ParoNacional18M \n",
      "#ParoIndefinido \n",
      "#ParoNacional \n",
      "#Paro18M \n",
      "#DiaDelTrabajador \n",
      "#RCNMiente \n",
      " ATENCIÓN [COLOMBIA PARO NACIONAL] – Noticias UNO, el medio de comunicación que si muestra la realidad del sufrimiento en Colombia. https://t.co/21FMUe7WL9: https://twitter.com/twitter/status/1394745378650660865 → [pos]/neg \n"
     ]
    },
    {
     "name": "stdout",
     "output_type": "stream",
     "text": [
      "================================================================================\n"
     ]
    },
    {
     "name": "stdin",
     "output_type": "stream",
     "text": [
      "@dw_espanol @CosoPolitico #NoMasBloqueos #NoMasParo #LevantenBloqueosYA  Gracias al Presidente Duque y al @COL_EJERCITO: https://twitter.com/twitter/status/1394745378545848323 → [pos]/neg n\n"
     ]
    },
    {
     "name": "stdout",
     "output_type": "stream",
     "text": [
      "================================================================================\n",
      "================================================================================\n"
     ]
    },
    {
     "name": "stdin",
     "output_type": "stream",
     "text": [
      "@IvanDuque ordenó el máximo despliegue operativo de la Fuerza Pública para desbloquear las vías en el país, en trabajo con gobernadores y alcaldes y amparados en el estricto apego a los derechos humanos y el respeto a la ley. \n",
      "#ParoNacional  #ParoNacional18M: https://twitter.com/twitter/status/1394745336409767936 → [pos]/neg n\n"
     ]
    },
    {
     "name": "stdout",
     "output_type": "stream",
     "text": [
      "================================================================================\n"
     ]
    },
    {
     "name": "stdin",
     "output_type": "stream",
     "text": [
      "Que ganarrea esa Claudia López es tan triple hijueputa que espantó a @NanyPardo y @petrogustavo que ya se pasa de madre la recibió 🤦🏽‍♂️, no me crea tan marica \n",
      "#ParoNacional #PetroPresidente2022: https://twitter.com/twitter/status/1394745335617052684 → [pos]/neg \n"
     ]
    },
    {
     "name": "stdout",
     "output_type": "stream",
     "text": [
      "================================================================================\n",
      "================================================================================\n",
      "================================================================================\n"
     ]
    },
    {
     "name": "stdin",
     "output_type": "stream",
     "text": [
      "RT @CABLENOTICIAS: #EnVideo | Centenar de cristianos llegan a esta hora a la Plaza de Bolívar para orar por la paz de Colombia en medio de…: https://twitter.com/twitter/status/1394745247884787712 → [pos]/neg n\n"
     ]
    },
    {
     "name": "stdout",
     "output_type": "stream",
     "text": [
      "================================================================================\n",
      "================================================================================\n",
      "================================================================================\n"
     ]
    },
    {
     "name": "stdin",
     "output_type": "stream",
     "text": [
      "EL PARO VA A PARAR CUANDO DEJEN DE ROBAR #IngRodolfo #ParoNacional https://t.co/9Dv393kwtV via @YouTube: https://twitter.com/twitter/status/1394745224304463882 → [pos]/neg \n"
     ]
    },
    {
     "name": "stdout",
     "output_type": "stream",
     "text": [
      "================================================================================\n",
      "================================================================================\n",
      "================================================================================\n",
      "================================================================================\n",
      "================================================================================\n",
      "================================================================================\n",
      "================================================================================\n",
      "================================================================================\n",
      "================================================================================\n",
      "================================================================================\n"
     ]
    },
    {
     "name": "stdin",
     "output_type": "stream",
     "text": [
      "En #Colombia 🇨🇴 renuncia el Comandante de la Policía de #Cali tras semanas de represión en el epicentro de las protestas del #ParoNacional https://t.co/RmKb9bm96r: https://twitter.com/twitter/status/1394745088056741891 → [pos]/neg \n"
     ]
    },
    {
     "name": "stdout",
     "output_type": "stream",
     "text": [
      "================================================================================\n",
      "================================================================================\n"
     ]
    },
    {
     "name": "stdin",
     "output_type": "stream",
     "text": [
      "Duque declaró la guerra 🤬\n",
      "Que presidente tan bajoooooooo!\n",
      "\n",
      "#19M  #ParoNacional  #SOSCALICOLOMBIA  #SOSColombiaDDHH: https://twitter.com/twitter/status/1394745061699727365 → [pos]/neg \n"
     ]
    },
    {
     "name": "stdout",
     "output_type": "stream",
     "text": [
      "================================================================================\n",
      "================================================================================\n",
      "================================================================================\n",
      "================================================================================\n"
     ]
    },
    {
     "name": "stdin",
     "output_type": "stream",
     "text": [
      "En Cartagena 🇬🇩\n",
      "\n",
      "Hinchas del Real Cartagena, América de Cali y Atlético Nacional juntos en el Paro Nacional 🇨🇴\n",
      "\n",
      "#ParoNacional #ParoNacionalColombia #ParoNacional18M\n",
      "#Colombia https://t.co/MkfG6n70FS: https://twitter.com/twitter/status/1394744944666062848 → [pos]/neg p\n"
     ]
    },
    {
     "name": "stdout",
     "output_type": "stream",
     "text": [
      "================================================================================\n"
     ]
    },
    {
     "name": "stdin",
     "output_type": "stream",
     "text": [
      "RT @PizarroMariaJo: Los Ministros del Interior y Defensa deben responderle al Congreso y al país sobre los abusos de la Policía en #ParoNac…: https://twitter.com/twitter/status/1394744938223505412 → [pos]/neg p\n"
     ]
    },
    {
     "name": "stdout",
     "output_type": "stream",
     "text": [
      "================================================================================\n"
     ]
    },
    {
     "name": "stdin",
     "output_type": "stream",
     "text": [
      "No les quiero dañar el rato pero el mismo que está prometiendo estudio gratis, prometió más salario y menos impuestos.\n",
      "#DuqueRenuncie \n",
      "#ParoNacional18M \n",
      "#Cali: https://twitter.com/twitter/status/1394744903620517888 → [pos]/neg p\n"
     ]
    },
    {
     "name": "stdout",
     "output_type": "stream",
     "text": [
      "================================================================================\n",
      "================================================================================\n",
      "================================================================================\n"
     ]
    },
    {
     "name": "stdin",
     "output_type": "stream",
     "text": [
      "@BluRadioCo @missy_Namu  miraaaaa ayudemos \n",
      "\n",
      "Va ganando el \"SI\"\n",
      "La idea es votar NO &lt;--- 💜❤️🖤 contra levantar a la fuerza los bloqueos.\n",
      "Por favor.\n",
      "#KpopersXColombia #kpopers #KPOP #ARMY #EXOL #BLINKS #kpopColombia #ParoNacional #ParoNacional18M https://t.co/labVy61YvJ https://t.co/iskYe76Uyg: https://twitter.com/twitter/status/1394744868065402884 → [pos]/neg \n"
     ]
    },
    {
     "name": "stdout",
     "output_type": "stream",
     "text": [
      "================================================================================\n"
     ]
    },
    {
     "name": "stdin",
     "output_type": "stream",
     "text": [
      "RT @natiibedoya: #Cali ¿Qué opinan de la decisión del Alcalde @JorgeIvanOspina de pedir la renuncia de todo su gabinete?: https://twitter.com/twitter/status/1394744856833048578 → [pos]/neg \n"
     ]
    },
    {
     "name": "stdout",
     "output_type": "stream",
     "text": [
      "================================================================================\n"
     ]
    },
    {
     "name": "stdin",
     "output_type": "stream",
     "text": [
      "RT @clorduy: #ParoNacional. Aquí en infografías un balance general de dolor y lagrimas, pero también de tristezas, de lo que ha ocurrido du…: https://twitter.com/twitter/status/1394744839133089799 → [pos]/neg \n"
     ]
    },
    {
     "name": "stdout",
     "output_type": "stream",
     "text": [
      "================================================================================\n"
     ]
    },
    {
     "name": "stdin",
     "output_type": "stream",
     "text": [
      "#ParoNacional18M  #Colombia #ParoNacional #ColombiaResiste #Paro18M #DuqueChao  Portal de noticias: música, arte, educación, deportes, economía, tecnología, tendencias y mucho más... https://t.co/o8iLQE8Kqm: https://twitter.com/twitter/status/1394744814487355398 → [pos]/neg \n"
     ]
    },
    {
     "name": "stdout",
     "output_type": "stream",
     "text": [
      "================================================================================\n"
     ]
    },
    {
     "name": "stdin",
     "output_type": "stream",
     "text": [
      "#ArchivenElP010 📢Una de las exigencias en medio del #ParoNacional es archivar el proyecto de ley 010 de Reforma a la Salud, les invitamos a conectarse el 19 de mayo a las 3:00pm con nuestro foro para analizar las consecuencias de esta iniciativa🩺\n",
      "\n",
      "🗣️Facebooklive @PlataformaDesc https://t.co/scwcK6Kd7v: https://twitter.com/twitter/status/1394744811069087746 → [pos]/neg \n"
     ]
    },
    {
     "name": "stdout",
     "output_type": "stream",
     "text": [
      "================================================================================\n",
      "================================================================================\n",
      "================================================================================\n",
      "================================================================================\n"
     ]
    },
    {
     "name": "stdin",
     "output_type": "stream",
     "text": [
      "RT @GConversaciones: ¡Ya está disponible nuestro más reciente episodio!\n",
      "\n",
      "Conversamos sobre la situación actual, los retos que conlleva sali…: https://twitter.com/twitter/status/1394744740764061697 → [pos]/neg \n"
     ]
    },
    {
     "name": "stdout",
     "output_type": "stream",
     "text": [
      "================================================================================\n",
      "================================================================================\n",
      "================================================================================\n"
     ]
    },
    {
     "name": "stdin",
     "output_type": "stream",
     "text": [
      "#MAPA 📍 Geolocalizamos los puntos y recopilamos los videos que ayudan a entender cómo ocurrieron las muertes de algunas de las víctimas de la brutalidad policial durante el #ParoNacional ➡ https://t.co/3YibbSt9JE https://t.co/lhjJvVWZ1l: https://twitter.com/twitter/status/1394744700872048643 → [pos]/neg \n"
     ]
    },
    {
     "name": "stdout",
     "output_type": "stream",
     "text": [
      "================================================================================\n"
     ]
    },
    {
     "name": "stdin",
     "output_type": "stream",
     "text": [
      "Mañana 19 de mayo nos movilizamos en la GRAN MARCHA DEL MILLÓN, porque solo el pueblo salva el pueblo \n",
      "#19M #ParoNacional #SOSColombiaDDHH \n",
      "#Popayan #soloelpueblosalvaelpueblo https://t.co/QhEfyWhqoc: https://twitter.com/twitter/status/1394744699072679939 → [pos]/neg \n"
     ]
    },
    {
     "name": "stdout",
     "output_type": "stream",
     "text": [
      "================================================================================\n",
      "================================================================================\n",
      "================================================================================\n",
      "================================================================================\n",
      "================================================================================\n"
     ]
    },
    {
     "name": "stdin",
     "output_type": "stream",
     "text": [
      "RT @MafeCarrascal: Mi Bogotá querida, siempre me hace sentir orgullosa 💛❤️ #ParoNacional https://t.co/FAYmWaM5je: https://twitter.com/twitter/status/1394744601060257795 → [pos]/neg \n"
     ]
    },
    {
     "name": "stdout",
     "output_type": "stream",
     "text": [
      "================================================================================\n"
     ]
    },
    {
     "name": "stdin",
     "output_type": "stream",
     "text": [
      "#Portal80 #NoApoyoAlEsmad #SOSColombia #ParoNacional #ReporteCiudadano  Portal de noticias: música, arte, educación, deportes, economía, tecnología, tendencias y mucho más... https://t.co/o8iLQE8Kqm: https://twitter.com/twitter/status/1394744592864628747 → [pos]/neg \n"
     ]
    },
    {
     "name": "stdout",
     "output_type": "stream",
     "text": [
      "================================================================================\n",
      "================================================================================\n",
      "================================================================================\n"
     ]
    },
    {
     "name": "stdin",
     "output_type": "stream",
     "text": [
      "RT @Comunes_Bogota: #DesbloquearEs el diálogo y la paz que el Gobierno no quiere realizar al No retirar a la Fuerza Pública de las calles,…: https://twitter.com/twitter/status/1394744535738093570 → [pos]/neg \n"
     ]
    },
    {
     "name": "stdout",
     "output_type": "stream",
     "text": [
      "================================================================================\n",
      "================================================================================\n",
      "================================================================================\n",
      "================================================================================\n"
     ]
    },
    {
     "name": "stdin",
     "output_type": "stream",
     "text": [
      "RT RT RT! VOLVAMOS TENDENCIA ESTO #ConmocionInteriorNO #ConstituyenteNO NOOOO, SI A  #EleccionesColombiaYA 🆘 #ParoNacional #ParoNacional18M #ColombiaEnAlertaRoja #SOSColombiaDDHH #SOSColombiaNosEstanMatando: https://twitter.com/twitter/status/1394744402292191245 → [pos]/neg \n"
     ]
    },
    {
     "name": "stdout",
     "output_type": "stream",
     "text": [
      "================================================================================\n"
     ]
    },
    {
     "name": "stdin",
     "output_type": "stream",
     "text": [
      "Tan hermosos #ParoNacional18M #ParoNacional #Medellin #MingaIndigena https://t.co/Qvy0QZGkyU: https://twitter.com/twitter/status/1394744402153779208 → [pos]/neg \n"
     ]
    },
    {
     "name": "stdout",
     "output_type": "stream",
     "text": [
      "================================================================================\n"
     ]
    },
    {
     "name": "stdin",
     "output_type": "stream",
     "text": [
      "RT @WilsonP725: Buenos días amigos mamertos. ¿Ya dijo el inútil de Duque cuándo va a renunciar y a convocar elecciones?\n",
      "#DuqueChao \n",
      "#EsmadA…: https://twitter.com/twitter/status/1394744401805692941 → [pos]/neg \n"
     ]
    },
    {
     "name": "stdout",
     "output_type": "stream",
     "text": [
      "================================================================================\n",
      "================================================================================\n"
     ]
    },
    {
     "name": "stdin",
     "output_type": "stream",
     "text": [
      "Jorge Iván Ospina, alcalde de #Cali, pidió la renuncia de todos sus secretarios de gabinete “para reconstruir y consolidar equipos”. \n",
      "#Noticias: https://twitter.com/twitter/status/1394744339331440645 → [pos]/neg \n"
     ]
    },
    {
     "name": "stdout",
     "output_type": "stream",
     "text": [
      "================================================================================\n"
     ]
    },
    {
     "name": "stdin",
     "output_type": "stream",
     "text": [
      "Escúchalo @IvanDuque  \n",
      "#ParoNacional https://t.co/XGqTS3wpC6: https://twitter.com/twitter/status/1394744317319827461 → [pos]/neg \n"
     ]
    },
    {
     "name": "stdout",
     "output_type": "stream",
     "text": [
      "================================================================================\n",
      "================================================================================\n"
     ]
    },
    {
     "name": "stdin",
     "output_type": "stream",
     "text": [
      "RT @misaknamuy: Los \"ciudadanos de bien\" de #Cali, han interpuesto una DENUNCIA PENAL en mi contra, poniendo en juicio, los mandatos colect…: https://twitter.com/twitter/status/1394744266740621314 → [pos]/neg \n"
     ]
    },
    {
     "name": "stdout",
     "output_type": "stream",
     "text": [
      "================================================================================\n"
     ]
    },
    {
     "name": "stdin",
     "output_type": "stream",
     "text": [
      "RT @pierrealee: La orden del mal gobierno de @IvanDuque es desbloquear el #ParoNacional sin diálogo.\n",
      "@petrogustavo https://t.co/VeouSn181l: https://twitter.com/twitter/status/1394744261514567682 → [pos]/neg \n"
     ]
    },
    {
     "name": "stdout",
     "output_type": "stream",
     "text": [
      "================================================================================\n",
      "================================================================================\n"
     ]
    },
    {
     "name": "stdin",
     "output_type": "stream",
     "text": [
      "Invitados a nuestro conversatorio de sobre el movimientos estudiantil de Colombia de 1971\n",
      "#MEMORIA #Historia #movimientoestudiantil #ParoNacional https://t.co/ovGTrvOvuS: https://twitter.com/twitter/status/1394744239855124484 → [pos]/neg \n"
     ]
    },
    {
     "name": "stdout",
     "output_type": "stream",
     "text": [
      "================================================================================\n",
      "================================================================================\n"
     ]
    },
    {
     "name": "stdin",
     "output_type": "stream",
     "text": [
      "Desde el jueves habrá un paro del campo de ocho días (cese de comercialización de hacienda) en rechazo al cierre de exportaciones por 30 días que decidió el Gobierno Nacional.\n",
      "\n",
      "@QuierodecirD \n",
      "\n",
      "https://t.co/SvH3nfeuCG\n",
      "#ParoNacional #ParoDelCampo #MesaDeEnlace #campo #Exportaciones https://t.co/OMMWi0KoQo: https://twitter.com/twitter/status/1394744231017787398 → [pos]/neg \n"
     ]
    },
    {
     "name": "stdout",
     "output_type": "stream",
     "text": [
      "================================================================================\n"
     ]
    },
    {
     "name": "stdin",
     "output_type": "stream",
     "text": [
      "RT @dgbernal: Un amable recordatorio para quienes están con el #ParoNacional https://t.co/LoKzNY77BY: https://twitter.com/twitter/status/1394744215347896321 → [pos]/neg \n"
     ]
    },
    {
     "name": "stdout",
     "output_type": "stream",
     "text": [
      "================================================================================\n",
      "================================================================================\n",
      "================================================================================\n",
      "================================================================================\n",
      "================================================================================\n",
      "================================================================================\n"
     ]
    },
    {
     "name": "stdin",
     "output_type": "stream",
     "text": [
      "RT @Ccajar: 📌 Exigencias de Garantías para la protesta y para las Mesas de Negociación -Comité Nacional de Paro.\n",
      "\n",
      "✅ Garantías de la vida, l…: https://twitter.com/twitter/status/1394744099195006977 → [pos]/neg \n"
     ]
    },
    {
     "name": "stdout",
     "output_type": "stream",
     "text": [
      "================================================================================\n",
      "================================================================================\n",
      "================================================================================\n",
      "================================================================================\n"
     ]
    },
    {
     "name": "stdin",
     "output_type": "stream",
     "text": [
      "El movimiento Dignidad Agropecuaria convoca a participar del #ParoNacional el día de mañana #19M donde se espera una movilización masiva y pacífica en cada ciudad y municipio en que se convoque por el Comité de #Paro.\n",
      "\n",
      "Nota completa en\n",
      "https://t.co/C3xguUHCIw https://t.co/apbs4WYtqt: https://twitter.com/twitter/status/1394744029640863744 → [pos]/neg \n"
     ]
    },
    {
     "name": "stdout",
     "output_type": "stream",
     "text": [
      "================================================================================\n"
     ]
    },
    {
     "name": "stdin",
     "output_type": "stream",
     "text": [
      "Mientras tanto, la corrupción hace magia para salir de apuras, aprovechando la gran crisis que afronta el país. #ParoNacional18M #ParoNacional #ColombiaSOS\n",
      "\n",
      "https://t.co/zDEPwN2GFs: https://twitter.com/twitter/status/1394744023823355905 → [pos]/neg \n"
     ]
    },
    {
     "name": "stdout",
     "output_type": "stream",
     "text": [
      "================================================================================\n",
      "================================================================================\n",
      "================================================================================\n",
      "================================================================================\n",
      "================================================================================\n"
     ]
    },
    {
     "name": "stdin",
     "output_type": "stream",
     "text": [
      "RT @vicpenr: @JorgeIvanOspina Los microempresarios necesitamos ayudas reales, esta ola de protestas nos afectó casi tres veces más q la pan…: https://twitter.com/twitter/status/1394743929212440580 → [pos]/neg n\n"
     ]
    },
    {
     "name": "stdout",
     "output_type": "stream",
     "text": [
      "================================================================================\n",
      "================================================================================\n"
     ]
    },
    {
     "name": "stdin",
     "output_type": "stream",
     "text": [
      "Mi mayor miedo sobre el #ParoNacional es que esto pare y todo siga igual.: https://twitter.com/twitter/status/1394743869829525505 → [pos]/neg \n"
     ]
    },
    {
     "name": "stdout",
     "output_type": "stream",
     "text": [
      "================================================================================\n"
     ]
    },
    {
     "name": "stdin",
     "output_type": "stream",
     "text": [
      "RT @Nessnio: ¿Por qué a los banqueros les condonan los impuestos y las deudas, y a los estudiantes no les condonan el ICETEX? Responda @Iva…: https://twitter.com/twitter/status/1394743862418104321 → [pos]/neg \n"
     ]
    },
    {
     "name": "stdout",
     "output_type": "stream",
     "text": [
      "================================================================================\n"
     ]
    },
    {
     "name": "stdin",
     "output_type": "stream",
     "text": [
      "El delegado especial del @episcopadocol, Mons. Héctor Henao, pidió que se excluya todo gesto de violencia en Colombia, de tal manera que se faciliten las negociaciones en medio del #ParoNacional. https://t.co/pBG2z89qiu: https://twitter.com/twitter/status/1394743851710099465 → [pos]/neg p\n"
     ]
    },
    {
     "name": "stdout",
     "output_type": "stream",
     "text": [
      "================================================================================\n",
      "================================================================================\n",
      "================================================================================\n",
      "================================================================================\n",
      "================================================================================\n",
      "================================================================================\n",
      "================================================================================\n",
      "================================================================================\n",
      "================================================================================\n"
     ]
    },
    {
     "name": "stdin",
     "output_type": "stream",
     "text": [
      "RT @Cmontoya64: Al uribismo se le desmorona la fábrica de cocaína. #ParoNacional: https://twitter.com/twitter/status/1394743749109075982 → [pos]/neg \n"
     ]
    },
    {
     "name": "stdout",
     "output_type": "stream",
     "text": [
      "================================================================================\n",
      "================================================================================\n",
      "================================================================================\n",
      "================================================================================\n",
      "================================================================================\n"
     ]
    },
    {
     "name": "stdin",
     "output_type": "stream",
     "text": [
      "Santrich era tan inocente como @AlvaroUribeVel , a él también le alegan su presunción de inocencia... pero tal como el otro era un narco y un asesino evidente, para qué negarlo, . #ParoNacional18M #ParoNacional #DuqueRenuncieYa: https://twitter.com/twitter/status/1394743702707482625 → [pos]/neg \n"
     ]
    },
    {
     "name": "stdout",
     "output_type": "stream",
     "text": [
      "================================================================================\n"
     ]
    },
    {
     "name": "stdin",
     "output_type": "stream",
     "text": [
      "Atención Cali ¡La convocatoria de speakers del evento TEDxCali ‘Cali: Caminos de diálogo’ 2021 ya está abierta!. Este tendrá como objetivo compartir las mejores ideas ‘no partidistas’ a favor del diálogo, la reconciliación y la paz. #Cali \n",
      "Más info: https://t.co/wHxEPhzmA7 https://t.co/4mRFTWVUj7: https://twitter.com/twitter/status/1394743664262459397 → [pos]/neg \n"
     ]
    },
    {
     "name": "stdout",
     "output_type": "stream",
     "text": [
      "================================================================================\n"
     ]
    },
    {
     "name": "stdin",
     "output_type": "stream",
     "text": [
      "RT @concejalflower: Aprovechemos este encuentro hoy y saquemos adelante  iniciativas con los diversos sectores aquí presentes, que requiere…: https://twitter.com/twitter/status/1394743650098221056 → [pos]/neg \n"
     ]
    },
    {
     "name": "stdout",
     "output_type": "stream",
     "text": [
      "================================================================================\n",
      "================================================================================\n"
     ]
    },
    {
     "name": "stdin",
     "output_type": "stream",
     "text": [
      "RT @concejalflower: Así damos cierre a un periodo de sesiones ordinarias muy positivas para #Cali donde pudimos dar debates de control a va…: https://twitter.com/twitter/status/1394743595064758281 → [pos]/neg \n"
     ]
    },
    {
     "name": "stdout",
     "output_type": "stream",
     "text": [
      "================================================================================\n",
      "================================================================================\n",
      "================================================================================\n",
      "================================================================================\n",
      "================================================================================\n"
     ]
    },
    {
     "name": "stdin",
     "output_type": "stream",
     "text": [
      "RT @JH_Cauca: Seguimos con las Asambleas Populares Barriales, porque este país se construye con la voz de todas y todos, ¡El Paro Continúa!…: https://twitter.com/twitter/status/1394743555281805320 → [pos]/neg \n"
     ]
    },
    {
     "name": "stdout",
     "output_type": "stream",
     "text": [
      "================================================================================\n",
      "================================================================================\n",
      "================================================================================\n",
      "================================================================================\n",
      "================================================================================\n",
      "================================================================================\n",
      "================================================================================\n",
      "================================================================================\n"
     ]
    },
    {
     "name": "stdin",
     "output_type": "stream",
     "text": [
      "Los jóvenes luchando por lo que se dejaron quitar los adultos y los adultos criticando. 🤡\n",
      "#ParoNacional: https://twitter.com/twitter/status/1394743428186050561 → [pos]/neg \n"
     ]
    },
    {
     "name": "stdout",
     "output_type": "stream",
     "text": [
      "================================================================================\n"
     ]
    },
    {
     "name": "stdin",
     "output_type": "stream",
     "text": [
      "@rcnradio Donde están los derechos del ciudadano que quiere trabajar, donde están los derechos de los colombianos qué necesitan abastecersen, donde están los derechos de la salud, no sólo son para defender vándalos están a favor del lado equivocado #NoMasParo #LevantenBloqueosYA: https://twitter.com/twitter/status/1394743427372290049 → [pos]/neg n\n"
     ]
    },
    {
     "name": "stdout",
     "output_type": "stream",
     "text": [
      "================================================================================\n",
      "================================================================================\n",
      "================================================================================\n",
      "================================================================================\n",
      "================================================================================\n"
     ]
    },
    {
     "name": "stdin",
     "output_type": "stream",
     "text": [
      "RT @CrisYsusJuanes: En #Cali el #M19 gobierna desde la @AlcaldiaDeCali: https://twitter.com/twitter/status/1394743358933938178 → [pos]/neg n\n"
     ]
    },
    {
     "name": "stdout",
     "output_type": "stream",
     "text": [
      "================================================================================\n",
      "================================================================================\n"
     ]
    },
    {
     "name": "stdin",
     "output_type": "stream",
     "text": [
      "El alcalde de Cali, #Colombia🇨🇴, #JorgeIvánOspina, pidió la renuncia a todos los miembros de su gabinete en medio de las protestas del #ParoNacional, así mismo anunció la inversión en programas de inclusión social \n",
      "\n",
      "https://t.co/PsdYsH28Um: https://twitter.com/twitter/status/1394743340994756608 → [pos]/neg \n"
     ]
    },
    {
     "name": "stdout",
     "output_type": "stream",
     "text": [
      "================================================================================\n",
      "================================================================================\n",
      "================================================================================\n"
     ]
    },
    {
     "name": "stdin",
     "output_type": "stream",
     "text": [
      "RT @KarmenMorales19: @heidy_up @PoliciaBogota @Bogota Y es que el derecho a la protesta es mas importante que el derecho al  trabajo, a la…: https://twitter.com/twitter/status/1394743333617033223 → [pos]/neg n\n"
     ]
    },
    {
     "name": "stdout",
     "output_type": "stream",
     "text": [
      "================================================================================\n"
     ]
    },
    {
     "name": "stdin",
     "output_type": "stream",
     "text": [
      "RT @CesarPachonAgro: #URGENTE Mientras nosotros estamos en #CALI. Me comentan que en Buga la situación está descontrolada. La fuerza públic…: https://twitter.com/twitter/status/1394743306815483911 → [pos]/neg \n"
     ]
    },
    {
     "name": "stdout",
     "output_type": "stream",
     "text": [
      "================================================================================\n"
     ]
    },
    {
     "name": "stdin",
     "output_type": "stream",
     "text": [
      "RT @FLIP_org: Durante este #ParoNacional se ha evidenciado que no existen garantías para el cubrimiento periodístico de manifestaciones.\n",
      "Es…: https://twitter.com/twitter/status/1394743295251828736 → [pos]/neg p\n"
     ]
    },
    {
     "name": "stdout",
     "output_type": "stream",
     "text": [
      "================================================================================\n",
      "================================================================================\n"
     ]
    },
    {
     "name": "stdin",
     "output_type": "stream",
     "text": [
      "RT @marthaperaltae: #ATENCIÓN \n",
      "\n",
      "Hace minutos atentaron contra el Consejero Jhoe Suaca líder de la Minga indígena en el Cuaca. Se encontraba…: https://twitter.com/twitter/status/1394743269196771332 → [pos]/neg \n"
     ]
    },
    {
     "name": "stdout",
     "output_type": "stream",
     "text": [
      "================================================================================\n",
      "================================================================================\n",
      "================================================================================\n"
     ]
    },
    {
     "name": "stdin",
     "output_type": "stream",
     "text": [
      "@velascoluisf @JorgeIvanOspina @elpaiscali @TwiterosCali @djwildcali Senador En Lugar de Jugarle Al Alcalde a Votar Plata en Un Proyecto que NO Va a Terminar,  Exijale que Invierta en La @UNIAJC que es Pública NO Tiene Presupuesto del Estado y Atiende a 8.000 Jóvenes y No Tiene Sede Propia en el Norte de #Cali: https://twitter.com/twitter/status/1394743199915257859 → [pos]/neg \n"
     ]
    },
    {
     "name": "stdout",
     "output_type": "stream",
     "text": [
      "================================================================================\n",
      "================================================================================\n",
      "================================================================================\n"
     ]
    },
    {
     "name": "stdin",
     "output_type": "stream",
     "text": [
      "#Cali se prepara para realizar procesos pedagógicos en todos los puntos de resistencia #UniversidadPalBarrio .\n",
      "#CaliResiste #soscolombia #GobiernoAsesino #soscolombia  #DuqueMandóAMatarnos https://t.co/ytvGS1jM5r: https://twitter.com/twitter/status/1394743150594465798 → [pos]/neg \n"
     ]
    },
    {
     "name": "stdout",
     "output_type": "stream",
     "text": [
      "================================================================================\n",
      "================================================================================\n",
      "================================================================================\n",
      "================================================================================\n",
      "================================================================================\n",
      "================================================================================\n",
      "================================================================================\n",
      "================================================================================\n",
      "================================================================================\n"
     ]
    },
    {
     "name": "stdin",
     "output_type": "stream",
     "text": [
      "RT @cutcolombia: 📹 Video ⏯️\n",
      "\n",
      "\" @IvanDuque le declara la guerra al paro, cuando ordena desplegar el máximo de las fuerzas militares y de pol…: https://twitter.com/twitter/status/1394742989189263361 → [pos]/neg \n"
     ]
    },
    {
     "name": "stdout",
     "output_type": "stream",
     "text": [
      "================================================================================\n"
     ]
    },
    {
     "name": "stdin",
     "output_type": "stream",
     "text": [
      "RT @CantorWerner: Escuchemos las voces excluidas de los jóvenes. \" Es el momento del cambio\". \" Sólo queremos oportunidades\" parte 1 \n",
      "\n",
      "#Par…: https://twitter.com/twitter/status/1394742979953311746 → [pos]/neg p\n"
     ]
    },
    {
     "name": "stdout",
     "output_type": "stream",
     "text": [
      "================================================================================\n"
     ]
    },
    {
     "name": "stdin",
     "output_type": "stream",
     "text": [
      "@ClaudiaLopez ni mi ex me decepcionó tanto como usted.\n",
      "#Claudia\n",
      "#ParoNacional: https://twitter.com/twitter/status/1394742976182689792 → [pos]/neg \n"
     ]
    },
    {
     "name": "stdout",
     "output_type": "stream",
     "text": [
      "================================================================================\n"
     ]
    },
    {
     "name": "stdin",
     "output_type": "stream",
     "text": [
      "Amablemente, comparto con ustedes estas líneas, desde @ELTIEMPO @eltiempoblogs .\n",
      "\n",
      "@ramirezjohan @AitorSaez10 @dw_espanol\n",
      "\n",
      "Con tinta sangre - Blogs El Tiempo https://t.co/cBiBTYpxXG a través de @eltiempoblogs \n",
      "\n",
      "#ColombiaSOS \n",
      "#COLOMBIA \n",
      "#NoMásParo \n",
      "#NoMásViolencia \n",
      "#SOSColombiaDDHH: https://twitter.com/twitter/status/1394742963528474626 → [pos]/neg \n"
     ]
    },
    {
     "name": "stdout",
     "output_type": "stream",
     "text": [
      "================================================================================\n"
     ]
    },
    {
     "name": "stdin",
     "output_type": "stream",
     "text": [
      "Algunos se molestan, pero hay que decirll:\n",
      "\n",
      "— El pueblo no salió a la calle\n",
      "— Bloqueas una calle, sos un delincuente\n",
      "— Los de 1ra línea, los de 2da... No tienen remota idea de por qué el paro\n",
      "— El pueblo quiere, apoya y ánima su fuerza pública \n",
      "— Petro jamás será Pdte\n",
      "#NoMasParo: https://twitter.com/twitter/status/1394742961234227211 → [pos]/neg n\n"
     ]
    },
    {
     "name": "stdout",
     "output_type": "stream",
     "text": [
      "================================================================================\n"
     ]
    },
    {
     "name": "stdin",
     "output_type": "stream",
     "text": [
      "RT @latribunac: Mario Mendoza da su punto de vista acerca del #ParoNacional y las acciones a futuro. 🧵🎥 (Tomado de Facebook de \"Proyecto Fr…: https://twitter.com/twitter/status/1394742922684387328 → [pos]/neg \n"
     ]
    },
    {
     "name": "stdout",
     "output_type": "stream",
     "text": [
      "================================================================================\n",
      "================================================================================\n"
     ]
    },
    {
     "name": "stdin",
     "output_type": "stream",
     "text": [
      "Quieren que se acabe el paro??? Paren la violencia y escuchen a los protestantes, así se acaba el paro, con mesas de diálogo y sin violencia\n",
      "#ParoNacional\n",
      "#ParoNacional18M\n",
      "#salariominimoatodosloscongresistas https://t.co/5dCcYdvSgG: https://twitter.com/twitter/status/1394742876878385152 → [pos]/neg p\n"
     ]
    },
    {
     "name": "stdout",
     "output_type": "stream",
     "text": [
      "================================================================================\n"
     ]
    },
    {
     "name": "stdin",
     "output_type": "stream",
     "text": [
      "RT @ToroDeArena: Habían unas 7000 a 10.000 personas ayer en el monumento de los héroes en Bogota\n",
      "\n",
      "Exageremos pues: 20.000 \n",
      "\n",
      "En Bogota hay c…: https://twitter.com/twitter/status/1394742857546838021 → [pos]/neg \n"
     ]
    },
    {
     "name": "stdout",
     "output_type": "stream",
     "text": [
      "================================================================================\n",
      "================================================================================\n",
      "================================================================================\n",
      "================================================================================\n",
      "================================================================================\n",
      "================================================================================\n",
      "================================================================================\n",
      "================================================================================\n",
      "================================================================================\n",
      "================================================================================\n",
      "================================================================================\n"
     ]
    },
    {
     "name": "stdin",
     "output_type": "stream",
     "text": [
      "RT @jaarreaza: ¿Recuerdan al @IvanDuque que en febrero 2019 arengaba a los \"valientes\" que fabricaban bombas molotov bajo el puente interna…: https://twitter.com/twitter/status/1394742726978154511 → [pos]/neg \n"
     ]
    },
    {
     "name": "stdout",
     "output_type": "stream",
     "text": [
      "================================================================================\n",
      "================================================================================\n",
      "================================================================================\n",
      "================================================================================\n"
     ]
    },
    {
     "name": "stdin",
     "output_type": "stream",
     "text": [
      "RT @radiounopereira: #Regiones | El ministro de Defensa @Diego_Molano aseguró desde #Pereira, que la fuerza pública solo ha intervenido en…: https://twitter.com/twitter/status/1394742701992579075 → [pos]/neg \n"
     ]
    },
    {
     "name": "stdout",
     "output_type": "stream",
     "text": [
      "================================================================================\n",
      "================================================================================\n",
      "================================================================================\n",
      "================================================================================\n",
      "================================================================================\n"
     ]
    },
    {
     "name": "stdin",
     "output_type": "stream",
     "text": [
      "RT @JuanSLopezM: La entrevista a Duque en @NoticiasCaracol ratifica las razones del descontento. Por darle tratamiento de orden público al…: https://twitter.com/twitter/status/1394742662931132434 → [pos]/neg \n"
     ]
    },
    {
     "name": "stdout",
     "output_type": "stream",
     "text": [
      "================================================================================\n",
      "================================================================================\n",
      "================================================================================\n",
      "================================================================================\n",
      "================================================================================\n",
      "================================================================================\n",
      "================================================================================\n",
      "================================================================================\n",
      "================================================================================\n",
      "================================================================================\n",
      "================================================================================\n"
     ]
    },
    {
     "name": "stdin",
     "output_type": "stream",
     "text": [
      "RT @Campesinocol2: @BluRadioCo Somos millones los que NO estamos de acuerdo con los bloqueos, con el vandalismo, con la destrucción de las…: https://twitter.com/twitter/status/1394742473159811076 → [pos]/neg n\n"
     ]
    },
    {
     "name": "stdout",
     "output_type": "stream",
     "text": [
      "================================================================================\n",
      "================================================================================\n",
      "================================================================================\n",
      "================================================================================\n"
     ]
    },
    {
     "name": "stdin",
     "output_type": "stream",
     "text": [
      "@anyelito_snow @R_Dsconfiado_ #NosEstanMantando #JesusSantrichLibre #QuienDioLaOrden #ParoNacional \n",
      "\n",
      "Mamertos: https://t.co/gBIgzq5h8m: https://twitter.com/twitter/status/1394742370604834821 → [pos]/neg \n"
     ]
    },
    {
     "name": "stdout",
     "output_type": "stream",
     "text": [
      "================================================================================\n"
     ]
    },
    {
     "name": "stdin",
     "output_type": "stream",
     "text": [
      "@TwiterosCali @velascoluisf @JorgeIvanOspina @PartidoLiberal @JaggerDavid @CaucaLiberales @ojldelvalle Con La Plata que Vulgarmente El Alcalde Voto en la Feria Virtual y En El Pauperrimo Alumbrado Móvil Hubiera Fortalecido La Educación Pública en #Cali ... 20 Millones de Pesos NO Son Cualquier Cosa... Eso Es Una Fortuna: https://twitter.com/twitter/status/1394742360941137930 → [pos]/neg \n"
     ]
    },
    {
     "name": "stdout",
     "output_type": "stream",
     "text": [
      "================================================================================\n"
     ]
    },
    {
     "name": "stdin",
     "output_type": "stream",
     "text": [
      "@ClaudiaLopez ¿Por qué mete a @petrogustavo? Solo alimenta la idea poco informada de los #uribestias de que es el dueño del #ParoNacional que es de todos.: https://twitter.com/twitter/status/1394742346265268225 → [pos]/neg \n"
     ]
    },
    {
     "name": "stdout",
     "output_type": "stream",
     "text": [
      "================================================================================\n",
      "================================================================================\n",
      "================================================================================\n"
     ]
    },
    {
     "name": "stdin",
     "output_type": "stream",
     "text": [
      "#ReporteCiudadano | \"Desde el Colectivo Popular Esperanza Barrio remitimos imágenes del platón que se lleva a cabo frente a la sede de la Federación Colombiana de Fútbol rechazando la celebración en nuestro país de la Copa América en el marco del #ParoNacional\". https://t.co/bcKfmpNUGd: https://twitter.com/twitter/status/1394742262052044800 → [pos]/neg p\n"
     ]
    },
    {
     "name": "stdout",
     "output_type": "stream",
     "text": [
      "================================================================================\n"
     ]
    },
    {
     "name": "stdin",
     "output_type": "stream",
     "text": [
      "RT @ArielAnaliza: #ParoNacional \n",
      "Yumbo Valle del Cauca \n",
      "Muy compleja la situación https://t.co/1z8TNxUXt3: https://twitter.com/twitter/status/1394742260693078021 → [pos]/neg \n"
     ]
    },
    {
     "name": "stdout",
     "output_type": "stream",
     "text": [
      "================================================================================\n"
     ]
    },
    {
     "name": "stdin",
     "output_type": "stream",
     "text": [
      "RT @LaAhuyamita: Después de la coronación 👑, lo realmente importante 🥳🔉🔉:\n",
      "\n",
      "✊🏿✊🏾✊🏽✊🏼✊🏻✊💛💛💙❤️\n",
      "#ColombiaResiste #ParoNacional https://t.co/RpC…: https://twitter.com/twitter/status/1394742246956732421 → [pos]/neg \n"
     ]
    },
    {
     "name": "stdout",
     "output_type": "stream",
     "text": [
      "================================================================================\n",
      "================================================================================\n"
     ]
    },
    {
     "name": "stdin",
     "output_type": "stream",
     "text": [
      "RT @labatichicaj: Y pretenden cocinar “acuerdos\" #YumboResiste\n",
      "#ParoNacional18M #ParoAsesino #ParoNacionalColombia #ParoNacionalIndefinido…: https://twitter.com/twitter/status/1394742231215575043 → [pos]/neg \n"
     ]
    },
    {
     "name": "stdout",
     "output_type": "stream",
     "text": [
      "================================================================================\n",
      "================================================================================\n",
      "================================================================================\n",
      "================================================================================\n",
      "================================================================================\n",
      "================================================================================\n"
     ]
    },
    {
     "name": "stdin",
     "output_type": "stream",
     "text": [
      "@ClaudiaLopez Solicito convoque una diálogo con los manifestantes y líderes políticos como @petrogustavo entre muchos otros sin importar sus diferencias, ya que como líder escogida por la ciudadanía, tiene el deber de buscar salidas en medio de esta crisis. \n",
      "#ParoNacional 🇨🇴: https://twitter.com/twitter/status/1394742141595922432 → [pos]/neg \n"
     ]
    },
    {
     "name": "stdout",
     "output_type": "stream",
     "text": [
      "================================================================================\n"
     ]
    },
    {
     "name": "stdin",
     "output_type": "stream",
     "text": [
      "RT @jen_vero: Definitivamente este #ParoNacional ha servido hasta para descubrir de clase de personas estamos rodeados.: https://twitter.com/twitter/status/1394742129344274439 → [pos]/neg \n"
     ]
    },
    {
     "name": "stdout",
     "output_type": "stream",
     "text": [
      "================================================================================\n"
     ]
    },
    {
     "name": "stdin",
     "output_type": "stream",
     "text": [
      "Presuntamente en medio del #ParoNacional muere Santrich en Venezuela, ahora, anuncian que habría un fallo en segunda instancia en el caso Colmenares. A este paso van a resolver el caso de Cervantes y sabremos quién le disparó a Pablo Escobar.: https://twitter.com/twitter/status/1394742100973981697 → [pos]/neg \n"
     ]
    },
    {
     "name": "stdout",
     "output_type": "stream",
     "text": [
      "================================================================================\n",
      "================================================================================\n",
      "================================================================================\n",
      "================================================================================\n",
      "================================================================================\n",
      "================================================================================\n",
      "================================================================================\n",
      "================================================================================\n"
     ]
    },
    {
     "name": "stdin",
     "output_type": "stream",
     "text": [
      "Aguante, la Primera Linea\n",
      "#PrimeraLinea #ParoNacional18M #ParoNacional https://t.co/N9n4yiKr0x: https://twitter.com/twitter/status/1394741972179505155 → [pos]/neg \n"
     ]
    },
    {
     "name": "stdout",
     "output_type": "stream",
     "text": [
      "================================================================================\n"
     ]
    },
    {
     "name": "stdin",
     "output_type": "stream",
     "text": [
      "Los seguros para el hogar son muy importante y ofrecen varias coberturas tanto para los propietarios como para arrendatarios de la vivienda. 🏠  \n",
      "\n",
      "#ayc #aycinmobiliarios #calico #cali #colombia #inmobiliaria #inmobiliariascali #fincaraiz #casa #apartamento #local #segurosdehogar https://t.co/Ap4kvV8xXS: https://twitter.com/twitter/status/1394741942714503169 → [pos]/neg \n"
     ]
    },
    {
     "name": "stdout",
     "output_type": "stream",
     "text": [
      "================================================================================\n",
      "================================================================================\n",
      "================================================================================\n"
     ]
    },
    {
     "name": "stdin",
     "output_type": "stream",
     "text": [
      "RT @JuvREBELDE: Vamos a continuar las asambleas populares y juveniles. \n",
      "Vamos a fortalecer nuestras estrategias de cuidado colectivo, derec…: https://twitter.com/twitter/status/1394741902998654988 → [pos]/neg \n"
     ]
    },
    {
     "name": "stdout",
     "output_type": "stream",
     "text": [
      "================================================================================\n",
      "================================================================================\n",
      "================================================================================\n",
      "================================================================================\n",
      "================================================================================\n",
      "================================================================================\n",
      "================================================================================\n",
      "================================================================================\n",
      "================================================================================\n",
      "================================================================================\n"
     ]
    },
    {
     "name": "stdin",
     "output_type": "stream",
     "text": [
      "Me parece terrible que la solución del #gobiernocolombiano al #ParoNacional sea matrículas gratis y pago de un porcentaje de trabajo a jóvenes solo un tiempito. Eso es como cuando un político paga el voto con 50mil, puros pañitos de agua tibia momentános y el problema sigue igual: https://twitter.com/twitter/status/1394741722060558339 → [pos]/neg \n"
     ]
    },
    {
     "name": "stdout",
     "output_type": "stream",
     "text": [
      "================================================================================\n",
      "================================================================================\n"
     ]
    },
    {
     "name": "stdin",
     "output_type": "stream",
     "text": [
      "Señores @FiscaliaCol @PGN_COL @infopresidencia @SenadoGovCo @CorteSupremaJ Quien y cuando van a parar a @petrogustavo de seguir convocando a paros, a salir millones en medio de pandemia, a difamar e infundir odios #NoMasPetro #NoMasParo y acciones legales a este delincuente! https://t.co/HKbNCbCBv8: https://twitter.com/twitter/status/1394741709033152513 → [pos]/neg n\n"
     ]
    },
    {
     "name": "stdout",
     "output_type": "stream",
     "text": [
      "================================================================================\n",
      "================================================================================\n",
      "================================================================================\n"
     ]
    },
    {
     "name": "stdin",
     "output_type": "stream",
     "text": [
      "RT @dafracaqui: @elpaiscali JAJAJA ESO BORREGOS CREAN LAS MENTIRAS QUE LES ESCUPEN ASI COMO LA #PLANDEMIA Y EL #PARONACIONAL TODAS SON CORT…: https://twitter.com/twitter/status/1394741634793971727 → [pos]/neg n\n"
     ]
    },
    {
     "name": "stdout",
     "output_type": "stream",
     "text": [
      "================================================================================\n"
     ]
    },
    {
     "name": "stdin",
     "output_type": "stream",
     "text": [
      "Panel de lujo hoy: 🔥🔥💪\n",
      "@CriteriumDep\n",
      "\n",
      "@Valerieef_, @juli_fernandez1, @lavozfemeninalo, @Fabri269, @AnaMaGarcia10,  @dani_rojas92, @0gafitas, @JuanPQuintero1, @valeocampov y @OscarMejiaLK\n",
      "\n",
      "#Bogota, #Cali, #Ibague, #Manizales y #Medellin\n",
      "\n",
      "Un programa para todos los gustos.🎶⚽️ https://t.co/JF4xdx4Jng: https://twitter.com/twitter/status/1394741616695447553 → [pos]/neg \n"
     ]
    },
    {
     "name": "stdout",
     "output_type": "stream",
     "text": [
      "================================================================================\n"
     ]
    },
    {
     "name": "stdin",
     "output_type": "stream",
     "text": [
      "Continúa el #ParoNacional en #Colombia🇨🇴, cientos de manifestantes se han congregado en las calles de #Bogotá en rechazo de abusos del #ESMAD y contra la indiferencia del Gobierno de @IvanDuque en las mesas de diálogo\n",
      "\n",
      "https://t.co/zzGfmUFqg2: https://twitter.com/twitter/status/1394741579512827905 → [pos]/neg p\n"
     ]
    },
    {
     "name": "stdout",
     "output_type": "stream",
     "text": [
      "================================================================================\n"
     ]
    },
    {
     "name": "stdin",
     "output_type": "stream",
     "text": [
      "RT @mariomojc: Mis más sentidas condolencias al @CeDemocratico en especial al doctor @AlvaroUribeVel por la muerte de su principal patrocin…: https://twitter.com/twitter/status/1394741564291825667 → [pos]/neg \n"
     ]
    },
    {
     "name": "stdout",
     "output_type": "stream",
     "text": [
      "================================================================================\n"
     ]
    },
    {
     "name": "stdin",
     "output_type": "stream",
     "text": [
      "RT @jeyson1919: La reducción del congreso no es una propuesta viable Denunciado #Colombia #DesbloquearEs #ParoNacional18M #ParoNacional htt…: https://twitter.com/twitter/status/1394741560219250690 → [pos]/neg \n"
     ]
    },
    {
     "name": "stdout",
     "output_type": "stream",
     "text": [
      "================================================================================\n"
     ]
    },
    {
     "name": "stdin",
     "output_type": "stream",
     "text": [
      "RT @marbelysmendoza: En #caucasia, #campesinos #mineros #MingaIndigena y #Jovenes, marchan de forma pacífica encontrá de las políticas absu…: https://twitter.com/twitter/status/1394741535208624137 → [pos]/neg p\n"
     ]
    },
    {
     "name": "stdout",
     "output_type": "stream",
     "text": [
      "================================================================================\n",
      "================================================================================\n",
      "================================================================================\n"
     ]
    },
    {
     "name": "stdin",
     "output_type": "stream",
     "text": [
      "Los Queremos Viva. How many people have been declared as missing during the #paronacional? @ Bogotá, Colombia https://t.co/qXNmXz44ak: https://twitter.com/twitter/status/1394741517391220736 → [pos]/neg \n"
     ]
    },
    {
     "name": "stdout",
     "output_type": "stream",
     "text": [
      "================================================================================\n"
     ]
    },
    {
     "name": "stdin",
     "output_type": "stream",
     "text": [
      "RT @CanalCapital: #Podcast🎙️Junto a @ItaliaSamudio, @Catalizate y @Fatsugardaddy hablamos de los museos y lugares de memoria, en el marco d…: https://twitter.com/twitter/status/1394741492879695882 → [pos]/neg \n"
     ]
    },
    {
     "name": "stdout",
     "output_type": "stream",
     "text": [
      "================================================================================\n",
      "================================================================================\n",
      "================================================================================\n"
     ]
    },
    {
     "name": "stdin",
     "output_type": "stream",
     "text": [
      "RT @nosupermario: Hilo musical corto con algunas de las bombas creativas que han surgido en este #ParoNacional\n",
      "Ojalá puedan ayudarme a reco…: https://twitter.com/twitter/status/1394741453117657091 → [pos]/neg \n"
     ]
    },
    {
     "name": "stdout",
     "output_type": "stream",
     "text": [
      "================================================================================\n",
      "================================================================================\n",
      "================================================================================\n",
      "================================================================================\n",
      "================================================================================\n",
      "================================================================================\n"
     ]
    },
    {
     "name": "stdin",
     "output_type": "stream",
     "text": [
      "Comparto amablemente con todos ustedes, estas líneas, desde @ELTIEMPO @eltiempoblogs \n",
      "\n",
      "\"CON TINTA SANGRE\"\n",
      "\n",
      "Con tinta sangre - Blogs El Tiempo https://t.co/cBiBTYpxXG a través de @eltiempoblogs \n",
      "\n",
      "#ColombiaSOSDDHH \n",
      "#ColombiaEnAlertaRoja \n",
      "#ParoNacional \n",
      "#ParoNacionalColombia \n",
      "#ESMAD: https://twitter.com/twitter/status/1394741305146814465 → [pos]/neg \n"
     ]
    },
    {
     "name": "stdout",
     "output_type": "stream",
     "text": [
      "================================================================================\n"
     ]
    },
    {
     "name": "stdin",
     "output_type": "stream",
     "text": [
      "RT @ComoLoImagino: Ya me comuniqué con un gran grupo de brigadistas de salud que vienen desde el Cauca, y con el que haremos posible el env…: https://twitter.com/twitter/status/1394741279423094785 → [pos]/neg \n"
     ]
    },
    {
     "name": "stdout",
     "output_type": "stream",
     "text": [
      "================================================================================\n",
      "================================================================================\n",
      "================================================================================\n",
      "================================================================================\n"
     ]
    },
    {
     "name": "stdin",
     "output_type": "stream",
     "text": [
      "@TembloresOng @ONUHumanRights @Indepaz @valeriasantosb @AdrianaLucia @JulianRoman @AlejandroRia @SoyAndresParra @PirryOficial @MisionONUCol @JBALVIN https://t.co/c5fLIHM77j #SOSColombiaDDHH #ParoNacional #sosbuga RT Guadalajara Buga Colombia: https://twitter.com/twitter/status/1394741152868413440 → [pos]/neg \n"
     ]
    },
    {
     "name": "stdout",
     "output_type": "stream",
     "text": [
      "================================================================================\n"
     ]
    },
    {
     "name": "stdin",
     "output_type": "stream",
     "text": [
      "RT @valeriacdgarcia: No dejen tomar Antioquia miren cómo está el Valle!! Acaban de explotar sub estación de Ecopetrol en Yumbo, ojo paisas…: https://twitter.com/twitter/status/1394741146929270792 → [pos]/neg n\n"
     ]
    },
    {
     "name": "stdout",
     "output_type": "stream",
     "text": [
      "================================================================================\n"
     ]
    },
    {
     "name": "stdin",
     "output_type": "stream",
     "text": [
      "RT @maferpradorubio: Está es mi #Cali alegre, bonita, amable, pacífica, resiliente, llena de fe y esperanza, unida en un solo clamor #NoALa…: https://twitter.com/twitter/status/1394741135617273864 → [pos]/neg p\n"
     ]
    },
    {
     "name": "stdout",
     "output_type": "stream",
     "text": [
      "================================================================================\n"
     ]
    },
    {
     "name": "stdin",
     "output_type": "stream",
     "text": [
      "@Franciscolombia @criticolombia @FiscaliaCol Que tristeza que estemos llegando a esto por la nula protección de nuestro derecho a la libre movilidad y al trabajo... @IvanDuque actúe Porfavor #NoMasParo #NoMasBloqueos.: https://twitter.com/twitter/status/1394741097901985798 → [pos]/neg n\n"
     ]
    },
    {
     "name": "stdout",
     "output_type": "stream",
     "text": [
      "================================================================================\n",
      "================================================================================\n"
     ]
    },
    {
     "name": "stdin",
     "output_type": "stream",
     "text": [
      "RT @FLazosDignidad: #ParoNacional #NoALaCopaAmerica \n",
      "\n",
      "En estos momentos empiezan a llegar jovenes de distintas barras a la sede de la Feder…: https://twitter.com/twitter/status/1394741094697652226 → [pos]/neg \n"
     ]
    },
    {
     "name": "stdout",
     "output_type": "stream",
     "text": [
      "================================================================================\n"
     ]
    },
    {
     "name": "stdin",
     "output_type": "stream",
     "text": [
      "RT @jatirado_oc: #Cali Cali: este el nuevo comandante de la Policía Metropolitana https://t.co/kE9nd2fNBj https://t.co/jWFj7yvDBP: https://twitter.com/twitter/status/1394741094240292865 → [pos]/neg \n"
     ]
    },
    {
     "name": "stdout",
     "output_type": "stream",
     "text": [
      "================================================================================\n",
      "================================================================================\n",
      "================================================================================\n",
      "================================================================================\n",
      "================================================================================\n",
      "================================================================================\n",
      "================================================================================\n"
     ]
    },
    {
     "name": "stdin",
     "output_type": "stream",
     "text": [
      "RT @TodosporCali_: #Cali 📣 ¿No encuentras #Gasolina ⛽️ cerca tu domicilio?  Estas son las estaciones de combustible habilitadas para presta…: https://twitter.com/twitter/status/1394740865902551045 → [pos]/neg \n"
     ]
    },
    {
     "name": "stdout",
     "output_type": "stream",
     "text": [
      "================================================================================\n",
      "================================================================================\n"
     ]
    },
    {
     "name": "stdin",
     "output_type": "stream",
     "text": [
      "Noticias RCN no muestra lo que ocurre con nuestro vendedores ambulantes de forma parcializada. \n",
      "\n",
      "@Maryaristizabal , aquí para su información. \n",
      "\n",
      "#ParoNacionalColombia\n",
      "#ParoNacional https://t.co/kgVqwRIV8Z: https://twitter.com/twitter/status/1394740853852319744 → [pos]/neg \n"
     ]
    },
    {
     "name": "stdout",
     "output_type": "stream",
     "text": [
      "================================================================================\n",
      "================================================================================\n",
      "================================================================================\n",
      "================================================================================\n"
     ]
    },
    {
     "name": "stdin",
     "output_type": "stream",
     "text": [
      "Mis más sentidas condolencias al @CeDemocratico en especial al doctor @AlvaroUribeVel por la muerte de su principal patrocinador, Seuxis Pausias alias “Jesús Santrich\".\n",
      "\n",
      "¡No te tocaba manito! 🥺\n",
      "\n",
      "#ParoNacional18M #ParoNacional\n",
      "#UribeParacoHpta #DuqueRenuncieYa https://t.co/upnE3ZKWPc: https://twitter.com/twitter/status/1394740762999463940 → [pos]/neg \n"
     ]
    },
    {
     "name": "stdout",
     "output_type": "stream",
     "text": [
      "================================================================================\n",
      "================================================================================\n",
      "================================================================================\n",
      "================================================================================\n"
     ]
    },
    {
     "name": "stdin",
     "output_type": "stream",
     "text": [
      "RT @UTCarlo: #URGENTE 🚨\n",
      "📍#Yumbo Valle del Cauca\n",
      "A esta hora se registra fuerte explosión. \n",
      "#ParoNacional\n",
      "#ParoNacionalColombia #ParoNaciona…: https://twitter.com/twitter/status/1394740651099664386 → [pos]/neg \n"
     ]
    },
    {
     "name": "stdout",
     "output_type": "stream",
     "text": [
      "================================================================================\n",
      "================================================================================\n",
      "================================================================================\n",
      "================================================================================\n"
     ]
    },
    {
     "name": "stdin",
     "output_type": "stream",
     "text": [
      "RT @AculcoMadrid: “Las marchas en Colombia son producto del desequilibrio y la injusticia social”: Entrevista al presidente de Aculco, Álva…: https://twitter.com/twitter/status/1394740575610540032 → [pos]/neg p\n"
     ]
    },
    {
     "name": "stdout",
     "output_type": "stream",
     "text": [
      "================================================================================\n",
      "================================================================================\n",
      "================================================================================\n",
      "================================================================================\n",
      "================================================================================\n",
      "================================================================================\n",
      "================================================================================\n"
     ]
    },
    {
     "name": "stdin",
     "output_type": "stream",
     "text": [
      "RT @DelMedallo: Mural realizado en la vía hacia el túnel de occidente\n",
      "- Narco estado. \n",
      "\n",
      "+ Arte - Guerra 🔥🔥 #DuqueRenuncieYa #ParoNacional #…: https://twitter.com/twitter/status/1394740383452696580 → [pos]/neg \n"
     ]
    },
    {
     "name": "stdout",
     "output_type": "stream",
     "text": [
      "================================================================================\n",
      "================================================================================\n",
      "================================================================================\n"
     ]
    },
    {
     "name": "stdin",
     "output_type": "stream",
     "text": [
      "RT @EsNoticia_tlSUR: 72% de los colombianos considera que @IvanDuque lleva al país por mal camino, percepción que aumentó en estos 20 días…: https://twitter.com/twitter/status/1394740262883274754 → [pos]/neg \n"
     ]
    },
    {
     "name": "stdout",
     "output_type": "stream",
     "text": [
      "================================================================================\n",
      "================================================================================\n"
     ]
    },
    {
     "name": "stdin",
     "output_type": "stream",
     "text": [
      "RT @labatichicaj: La vida pasa factura.....\n",
      "#ParoNacional18M #ParoAsesino #ParoNacionalColombia #ParoNacionalIndefinido #BogotaEnAlertaRoja…: https://twitter.com/twitter/status/1394740233351147525 → [pos]/neg \n"
     ]
    },
    {
     "name": "stdout",
     "output_type": "stream",
     "text": [
      "================================================================================\n",
      "================================================================================\n"
     ]
    },
    {
     "name": "stdin",
     "output_type": "stream",
     "text": [
      "RT @Camarada_com: El era Maicol Cano, no murió; lo asesinó el Estado en Yumbo Valle del Cauca.\n",
      "#SOSYumbo \n",
      "#SOSCARTAGO \n",
      "#ParoNacional \n",
      "@ONUH…: https://twitter.com/twitter/status/1394740206255943681 → [pos]/neg \n"
     ]
    },
    {
     "name": "stdout",
     "output_type": "stream",
     "text": [
      "================================================================================\n",
      "================================================================================\n",
      "================================================================================\n"
     ]
    },
    {
     "name": "stdin",
     "output_type": "stream",
     "text": [
      "RT @parescolombia: #ParesEnMedios 📰 | Esmad: la fuerza de Colombia para reprimir - @reforma / @reformainter.\n",
      "\n",
      "🧐 Lea la entrevista a @LeonVa…: https://twitter.com/twitter/status/1394740184521093122 → [pos]/neg \n"
     ]
    },
    {
     "name": "stdout",
     "output_type": "stream",
     "text": [
      "================================================================================\n"
     ]
    },
    {
     "name": "stdin",
     "output_type": "stream",
     "text": [
      "@hernancadavidma @ELTIEMPO Gracias @hernancadavidma por hablar por los millones de colombianos que generamos trabajo, aportamos y pareciera que nuestros derechos no tuvieran valor frente a los de los manifestantes que bloquean y generan terrorismo y destrucción #NoMasParo #NoMasBloqueos: https://twitter.com/twitter/status/1394740184101625856 → [pos]/neg n\n"
     ]
    },
    {
     "name": "stdout",
     "output_type": "stream",
     "text": [
      "================================================================================\n"
     ]
    },
    {
     "name": "stdin",
     "output_type": "stream",
     "text": [
      "#Cali vía #Jamundí y viceversa 18de MAYO2021 #VivaElParoNacional 🇦🇲✊🏼\n",
      "#fueraduque #Chaoduque #Uribeparaco #Colombia #ElParoSigue #CaliResiste #ResisteColombia #ColombiaSOS #EstadoAsesino #ParoNacional18M #ParoNacional #DuqueRenuncieYa https://t.co/XJ70o6Tmwq: https://twitter.com/twitter/status/1394740174442086403 → [pos]/neg \n"
     ]
    },
    {
     "name": "stdout",
     "output_type": "stream",
     "text": [
      "================================================================================\n",
      "================================================================================\n"
     ]
    },
    {
     "name": "stdin",
     "output_type": "stream",
     "text": [
      "RT @MCuayal: Insto a los juristas del país a seguir con la labor de ayudar a las victimas a denunciar las acciones criminales que se realiz…: https://twitter.com/twitter/status/1394740148273926147 → [pos]/neg p\n"
     ]
    },
    {
     "name": "stdout",
     "output_type": "stream",
     "text": [
      "================================================================================\n"
     ]
    },
    {
     "name": "stdin",
     "output_type": "stream",
     "text": [
      "RT @CaracolRadio: #Cali  | Según los testigos, tres personas resultaron heridas, una de ella de gravedad, luego de que unos sujetos que se…: https://twitter.com/twitter/status/1394740147120390147 → [pos]/neg \n"
     ]
    },
    {
     "name": "stdout",
     "output_type": "stream",
     "text": [
      "================================================================================\n"
     ]
    },
    {
     "name": "stdin",
     "output_type": "stream",
     "text": [
      "A 21 días del #ParoNacional en #Colombia el gobierno decide desplegar a todas las fuerzas del orden y supedita la garantía constitucional a la protesta ¿Por qué se niega a entablar un diálogo abierto, cuál es la estrategia del gobierno ante el descontento popular ? #Opine https://t.co/NS3fBhS1vl: https://twitter.com/twitter/status/1394740142187950081 → [pos]/neg \n"
     ]
    },
    {
     "name": "stdout",
     "output_type": "stream",
     "text": [
      "================================================================================\n"
     ]
    },
    {
     "name": "stdin",
     "output_type": "stream",
     "text": [
      "RT @Don_Goeth: ULTIMA HORA | El líder político, líder social y buen samaritano Jesús Santrich ha sido dado de baja #NosEstanMantando #Quien…: https://twitter.com/twitter/status/1394740110147694603 → [pos]/neg \n"
     ]
    },
    {
     "name": "stdout",
     "output_type": "stream",
     "text": [
      "================================================================================\n"
     ]
    },
    {
     "name": "stdin",
     "output_type": "stream",
     "text": [
      "#ParoNacional #Colombia mi mensaje (robado) para hoy es: \"NO VERÉ AL PUEBLO COLOBIANO, viviendo en Vano! ¡Tenemos el PODER de CAMBIAR y Romper el CICLO, de CAMBIAR la narrativa con CONOCIMIENTO Y AMOR\"!: https://twitter.com/twitter/status/1394740063003623425 → [pos]/neg \n"
     ]
    },
    {
     "name": "stdout",
     "output_type": "stream",
     "text": [
      "================================================================================\n",
      "================================================================================\n",
      "================================================================================\n"
     ]
    },
    {
     "name": "stdin",
     "output_type": "stream",
     "text": [
      "Gente, la #MingaIndigena está mas viva que nunca! Les contamos avances desde el suroccidente colombiano. Fuerza! #ParoNacional #ColombiaSOS https://t.co/obzQXnJOOH: https://twitter.com/twitter/status/1394740012932079623 → [pos]/neg \n"
     ]
    },
    {
     "name": "stdout",
     "output_type": "stream",
     "text": [
      "================================================================================\n"
     ]
    },
    {
     "name": "stdin",
     "output_type": "stream",
     "text": [
      "RT @CaliSosVos: Si la información que le llega, no es confirmada, no es verificable y no es de fuente confiable, NO la comparta, no contrib…: https://twitter.com/twitter/status/1394739999178907653 → [pos]/neg \n"
     ]
    },
    {
     "name": "stdout",
     "output_type": "stream",
     "text": [
      "================================================================================\n",
      "================================================================================\n",
      "================================================================================\n"
     ]
    },
    {
     "name": "stdin",
     "output_type": "stream",
     "text": [
      "@naranja_cali https://t.co/c5fLIHM77j #SOSColombiaDDHH en Guadalajara #buga #ParoNacional favor RT: https://twitter.com/twitter/status/1394739738695946247 → [pos]/neg \n"
     ]
    },
    {
     "name": "stdout",
     "output_type": "stream",
     "text": [
      "================================================================================\n",
      "================================================================================\n",
      "================================================================================\n"
     ]
    },
    {
     "name": "stdin",
     "output_type": "stream",
     "text": [
      "A todas estas donde estas las pruebas de la la muerte de él señor .......\n",
      "Como siempre haciendoles cortina de humo al gobierno, esa gente no piensa....\n",
      "#NoALaReformaTributaria\n",
      "#ParoNacional\n",
      "#SOSColombiaDDHH\n",
      "#FiscaliaCorrupta https://t.co/HzinTqzVXB: https://twitter.com/twitter/status/1394739566691725313 → [pos]/neg \n"
     ]
    },
    {
     "name": "stdout",
     "output_type": "stream",
     "text": [
      "================================================================================\n",
      "================================================================================\n"
     ]
    },
    {
     "name": "stdin",
     "output_type": "stream",
     "text": [
      "Para los que no creían, aquí los pillaron!!! Por favor compartir con los puntos de resistencia, revisen siempre las ambulancias!!! #ParoNacional18M #ParoNacionalColombia #ParoNacional #DuquePareLaMasacre #UribeDioLaOrden #UribeGenocidaElMundoYaLoSabe #ColombianLivesMatter #SOSCol https://t.co/d6VAz4U7is: https://twitter.com/twitter/status/1394739534546485248 → [pos]/neg \n"
     ]
    },
    {
     "name": "stdout",
     "output_type": "stream",
     "text": [
      "================================================================================\n",
      "================================================================================\n"
     ]
    },
    {
     "name": "stdin",
     "output_type": "stream",
     "text": [
      "RT @CarrillonavasG: https://t.co/tyYMdNWmMW\n",
      "Entonces Gustavo Petro y La Izquierda \n",
      "✍️incendiaran Medellín atacaran a los paisas\n",
      "✍️la Minga…: https://twitter.com/twitter/status/1394739507019325440 → [pos]/neg n\n"
     ]
    },
    {
     "name": "stdout",
     "output_type": "stream",
     "text": [
      "================================================================================\n",
      "================================================================================\n"
     ]
    },
    {
     "name": "stdin",
     "output_type": "stream",
     "text": [
      "Duque no va a ceder pronto, aun le falta mucho daño por hacer, si cede ahora y este #ParoNacionalIndefinido triunfa, sabe que las decisiones que tome mas adelante se le pueden caer gracias a un nuevo #ParoNacional. #Resistencia: https://twitter.com/twitter/status/1394739459598454787 → [pos]/neg \n"
     ]
    },
    {
     "name": "stdout",
     "output_type": "stream",
     "text": [
      "================================================================================\n",
      "================================================================================\n",
      "================================================================================\n"
     ]
    },
    {
     "name": "stdin",
     "output_type": "stream",
     "text": [
      "RT @Mariluza7: @santiagoangelp Los derechos son de todos, que protesten a un ladito, es que no valen más los derechos de unos que de otros.…: https://twitter.com/twitter/status/1394739427168198660 → [pos]/neg n\n"
     ]
    },
    {
     "name": "stdout",
     "output_type": "stream",
     "text": [
      "================================================================================\n",
      "================================================================================\n",
      "================================================================================\n",
      "================================================================================\n",
      "================================================================================\n",
      "================================================================================\n"
     ]
    },
    {
     "name": "stdin",
     "output_type": "stream",
     "text": [
      "RT @AngelicaP8205: Hey son 14k seguidores en serio necesitamos la ayuda urgente 🙏🏽 #UnidosporlaVida #VivaElParoNacional #ParoNacional: https://twitter.com/twitter/status/1394739313812951045 → [pos]/neg \n"
     ]
    },
    {
     "name": "stdout",
     "output_type": "stream",
     "text": [
      "================================================================================\n"
     ]
    },
    {
     "name": "stdin",
     "output_type": "stream",
     "text": [
      "Ahora un chiste \n",
      "#NoMasParo https://t.co/YkQ7Y1MJVK: https://twitter.com/twitter/status/1394739255130345475 → [pos]/neg \n"
     ]
    },
    {
     "name": "stdout",
     "output_type": "stream",
     "text": [
      "================================================================================\n",
      "================================================================================\n"
     ]
    },
    {
     "name": "stdin",
     "output_type": "stream",
     "text": [
      "RT @labatichicaj: Es un derecho que tenemos.\n",
      "#ParoNacional18M #ParoAsesino #ParoNacionalColombia #ParoNacionalIndefinido #BogotaEnAlertaRoj…: https://twitter.com/twitter/status/1394739169029672963 → [pos]/neg n\n"
     ]
    },
    {
     "name": "stdout",
     "output_type": "stream",
     "text": [
      "================================================================================\n",
      "================================================================================\n",
      "================================================================================\n",
      "================================================================================\n",
      "================================================================================\n"
     ]
    },
    {
     "name": "stdin",
     "output_type": "stream",
     "text": [
      "RT @BluRadioCo: Manifestantes se concentran en la plazoleta del Portal de Las Américas por #ParoNacional #MañanasBLU https://t.co/SyujreV20y: https://twitter.com/twitter/status/1394739064813797381 → [pos]/neg \n"
     ]
    },
    {
     "name": "stdout",
     "output_type": "stream",
     "text": [
      "================================================================================\n",
      "================================================================================\n"
     ]
    },
    {
     "name": "stdin",
     "output_type": "stream",
     "text": [
      "A estas alturas sería bueno no olvidar, que ciertas yerbas dijeron que daba lo mismo @IvanDuque que @petrogustavo y que la vida seguiría y el mundo no se acababa...\n",
      "\n",
      "#ParoNacional \n",
      "#ParoNacionalIndefinido: https://twitter.com/twitter/status/1394739044400214017 → [pos]/neg \n"
     ]
    },
    {
     "name": "stdout",
     "output_type": "stream",
     "text": [
      "================================================================================\n",
      "================================================================================\n",
      "================================================================================\n"
     ]
    },
    {
     "name": "stdin",
     "output_type": "stream",
     "text": [
      "ULTIMA HORA | El líder político, líder social y buen samaritano Jesús Santrich ha sido dado de baja #NosEstanMantando #QuienDioLaOrden #ParoNacional https://t.co/OtQeO0JqYY: https://twitter.com/twitter/status/1394739006131290120 → [pos]/neg \n"
     ]
    },
    {
     "name": "stdout",
     "output_type": "stream",
     "text": [
      "================================================================================\n",
      "================================================================================\n",
      "================================================================================\n"
     ]
    },
    {
     "name": "stdin",
     "output_type": "stream",
     "text": [
      "@IvanDuque @Minvivienda @FNGSA Despierte presidente los millones de colombianos que lo elegimos, pagamos impuestos, producimos y generamos empleo exigimos #NoMasBloqueos #NoMasParo esta del lado equivocado señor @IvanDuque mientras siga subsidiando vagos esta sociedad no tiene futuro: https://twitter.com/twitter/status/1394738948308717568 → [pos]/neg n\n"
     ]
    },
    {
     "name": "stdout",
     "output_type": "stream",
     "text": [
      "================================================================================\n"
     ]
    },
    {
     "name": "stdin",
     "output_type": "stream",
     "text": [
      "RT @MitterrandMoni: Cuándo le pide al presidente no utilizar más fuerza, \n",
      "es porque usted no está a cargo de nada, verdad ? \n",
      "#Colombia #Bog…: https://twitter.com/twitter/status/1394738932852695041 → [pos]/neg \n"
     ]
    },
    {
     "name": "stdout",
     "output_type": "stream",
     "text": [
      "================================================================================\n"
     ]
    },
    {
     "name": "stdin",
     "output_type": "stream",
     "text": [
      "RT @Cata9606: VAMOS POR EL MES MUCHACHOS‼️RESISTENCIA‼️ ORGULLOSA DE TODO LO QUE SE HA LOGRADO❤️ SOMOS LA NUEVA GENERACIÓN‼️\n",
      "#ParoNacional1…: https://twitter.com/twitter/status/1394738910249558022 → [pos]/neg p\n"
     ]
    },
    {
     "name": "stdout",
     "output_type": "stream",
     "text": [
      "================================================================================\n"
     ]
    },
    {
     "name": "stdin",
     "output_type": "stream",
     "text": [
      "RT @almayadeen_es: Represión policial contra manifestantes en Colombia https://t.co/4eMAwMFiqm \n",
      "\n",
      "#SOSColombiaNosEstanMatando #Colombia #Col…: https://twitter.com/twitter/status/1394738869791232002 → [pos]/neg \n"
     ]
    },
    {
     "name": "stdout",
     "output_type": "stream",
     "text": [
      "================================================================================\n",
      "================================================================================\n"
     ]
    },
    {
     "name": "stdin",
     "output_type": "stream",
     "text": [
      "En lugar de pagar por propaganda contra el #ParoNacional el @MinAgricultura debería entregar recursos a los pequeños agricultores que no superan aún crisis causada por pandemia y los TLC. #HipócritasManipuladores #GobiernoDeInutiles: https://twitter.com/twitter/status/1394738855291637766 → [pos]/neg \n"
     ]
    },
    {
     "name": "stdout",
     "output_type": "stream",
     "text": [
      "================================================================================\n"
     ]
    },
    {
     "name": "stdin",
     "output_type": "stream",
     "text": [
      "@ernestoyamhure De imagina mal, en éste momento están incluyendo la resurrección de #Santrich en el pliego de peticiones del #ParoNacional: https://twitter.com/twitter/status/1394738848932970496 → [pos]/neg \n"
     ]
    },
    {
     "name": "stdout",
     "output_type": "stream",
     "text": [
      "================================================================================\n",
      "================================================================================\n",
      "================================================================================\n"
     ]
    },
    {
     "name": "stdin",
     "output_type": "stream",
     "text": [
      "Hey son 14k seguidores en serio necesitamos la ayuda urgente 🙏🏽 #UnidosporlaVida #VivaElParoNacional #ParoNacional https://t.co/Q07rECphRi: https://twitter.com/twitter/status/1394738815370149896 → [pos]/neg \n"
     ]
    },
    {
     "name": "stdout",
     "output_type": "stream",
     "text": [
      "================================================================================\n"
     ]
    },
    {
     "name": "stdin",
     "output_type": "stream",
     "text": [
      "#HumanRightsViolations\n",
      "#ParoNacional18M\n",
      "#Buga #ParoNacional #SOSColombiaDDHH \n",
      "\n",
      "https://t.co/c5fLIHM77j\n",
      "\n",
      "Ayuda en Guadalajara Buga Colombia: https://twitter.com/twitter/status/1394738804167225346 → [pos]/neg \n"
     ]
    },
    {
     "name": "stdout",
     "output_type": "stream",
     "text": [
      "================================================================================\n",
      "================================================================================\n",
      "================================================================================\n",
      "================================================================================\n",
      "================================================================================\n",
      "================================================================================\n",
      "================================================================================\n",
      "================================================================================\n",
      "================================================================================\n",
      "================================================================================\n",
      "================================================================================\n",
      "================================================================================\n"
     ]
    },
    {
     "name": "stdin",
     "output_type": "stream",
     "text": [
      "#Alerta La Chiva #Antioquia:\n",
      "En Caldas hubo disturbios hasta altas horas de la noche\n",
      "#Caldas #manifestaciones #ParoNacional #Enfrentamientos #Bloqueos\n",
      "https://t.co/gQZBytaapv: https://twitter.com/twitter/status/1394738490131329027 → [pos]/neg \n"
     ]
    },
    {
     "name": "stdout",
     "output_type": "stream",
     "text": [
      "================================================================================\n",
      "================================================================================\n",
      "================================================================================\n"
     ]
    },
    {
     "name": "stdin",
     "output_type": "stream",
     "text": [
      "#Cali supuestamente la gonorrea hijueputa de @IvanDuque los visita mucho y ustedes le deben como un hijueputa.: https://twitter.com/twitter/status/1394738453330419714 → [pos]/neg \n"
     ]
    },
    {
     "name": "stdout",
     "output_type": "stream",
     "text": [
      "================================================================================\n",
      "================================================================================\n"
     ]
    },
    {
     "name": "stdin",
     "output_type": "stream",
     "text": [
      "RT @yoligrilla: Lo que sabemos del atentado #Cali #LaLuna La Guardia Indígena logró detener la camioneta que disparaba. Es una camioneta of…: https://twitter.com/twitter/status/1394738444685938696 → [pos]/neg \n"
     ]
    },
    {
     "name": "stdout",
     "output_type": "stream",
     "text": [
      "================================================================================\n",
      "================================================================================\n"
     ]
    },
    {
     "name": "stdin",
     "output_type": "stream",
     "text": [
      "RT @cutcolombia: #ParoNacional \n",
      "Miércoles 19 de mayo 2021. \n",
      "\n",
      "Por vida, paz, democracia y contra el nuevo paquetazo de Duque. \n",
      "\n",
      "No a la mili…: https://twitter.com/twitter/status/1394738412561764353 → [pos]/neg p\n"
     ]
    },
    {
     "name": "stdout",
     "output_type": "stream",
     "text": [
      "================================================================================\n"
     ]
    },
    {
     "name": "stdin",
     "output_type": "stream",
     "text": [
      "RT @Pata_Leo: “Gente de bien” \n",
      "\n",
      "#Cali #GenteDeBien #GenteDeBienEs #Para #paronacionalcolombia #ParoNacional #soscolombiaddhh🇨🇴 #soscolombia…: https://twitter.com/twitter/status/1394738381851172871 → [pos]/neg \n"
     ]
    },
    {
     "name": "stdout",
     "output_type": "stream",
     "text": [
      "================================================================================\n"
     ]
    },
    {
     "name": "stdin",
     "output_type": "stream",
     "text": [
      "El pasado sábado. 16 de mayo también hubo manifestaciones pacificas en el parque centarl de #Ramiriquí a favor del #ParoNacional.\n",
      "\n",
      "https://t.co/ZvsMlSFwNS: https://twitter.com/twitter/status/1394738366390886402 → [pos]/neg p\n"
     ]
    },
    {
     "name": "stdout",
     "output_type": "stream",
     "text": [
      "================================================================================\n",
      "================================================================================\n"
     ]
    },
    {
     "name": "stdin",
     "output_type": "stream",
     "text": [
      "RT @arandela16: La situación en #Cali  está fuera de control!!! Nos están masacrando!!!!  #DuqueMandoAMatarnos #NosEstanMasacrando \n",
      "@Altane…: https://twitter.com/twitter/status/1394738357146632194 → [pos]/neg \n"
     ]
    },
    {
     "name": "stdout",
     "output_type": "stream",
     "text": [
      "================================================================================\n",
      "================================================================================\n",
      "================================================================================\n"
     ]
    },
    {
     "name": "stdin",
     "output_type": "stream",
     "text": [
      "RT @DifusionNoticia: Escudos azules Bogotá en vivo bluradio vía facebook 12:42 18 mayo 2021 #PortalAmericas #suba #SubaResiste #portalnorte…: https://twitter.com/twitter/status/1394738310644486149 → [pos]/neg \n"
     ]
    },
    {
     "name": "stdout",
     "output_type": "stream",
     "text": [
      "================================================================================\n",
      "================================================================================\n"
     ]
    },
    {
     "name": "stdin",
     "output_type": "stream",
     "text": [
      "Muy importante #APararParaAvanzar #ParoNacional18M #ParoNacional #ParoNacionalColombia #ColombianLivesMatter #SOSColmbia #NosEstanMantando https://t.co/6XlWIp0Urp: https://twitter.com/twitter/status/1394738292290170882 → [pos]/neg \n"
     ]
    },
    {
     "name": "stdout",
     "output_type": "stream",
     "text": [
      "================================================================================\n",
      "================================================================================\n"
     ]
    },
    {
     "name": "stdin",
     "output_type": "stream",
     "text": [
      "@AlcaldiaDeCali @JorgeIvanOspina @Noti90Minutos La intranquilidad de la ciudadanía ya estaba presente desde hace tiempo. Que el alcalde, le dio por hacerse el de la vista gorda y no ver la cantidad denuncias que se le hacían respecto a como estaba #Cali es otra cosa. Más acciones y menos farándula posando pa fotos.: https://twitter.com/twitter/status/1394738281502412801 → [pos]/neg \n"
     ]
    },
    {
     "name": "stdout",
     "output_type": "stream",
     "text": [
      "================================================================================\n"
     ]
    },
    {
     "name": "stdin",
     "output_type": "stream",
     "text": [
      "RT @FuriaRojaTV: #Cali\n",
      "\n",
      "\"esperamos entregar las obras del Pascual Guerrero la primera semana de junio\" Carlos Diago secretario deportes. ht…: https://twitter.com/twitter/status/1394738254323322886 → [pos]/neg \n"
     ]
    },
    {
     "name": "stdout",
     "output_type": "stream",
     "text": [
      "================================================================================\n",
      "================================================================================\n",
      "================================================================================\n",
      "================================================================================\n",
      "================================================================================\n",
      "================================================================================\n",
      "================================================================================\n"
     ]
    },
    {
     "name": "stdin",
     "output_type": "stream",
     "text": [
      "RT @FuriaRojaTV: #Cali\n",
      "\n",
      "@JorgeIvanOspina Alcalde, si va hacer revolcon en las secretarías que sean funcionarios competentes que conozcan la…: https://twitter.com/twitter/status/1394738009325637634 → [pos]/neg \n"
     ]
    },
    {
     "name": "stdout",
     "output_type": "stream",
     "text": [
      "================================================================================\n",
      "================================================================================\n",
      "================================================================================\n"
     ]
    },
    {
     "name": "stdin",
     "output_type": "stream",
     "text": [
      "Las órdenes camufladas de Petro.\n",
      "#ParoNacional18M #ParoNacional https://t.co/fMFhmsE8lg: https://twitter.com/twitter/status/1394738002463690753 → [pos]/neg n\n"
     ]
    },
    {
     "name": "stdout",
     "output_type": "stream",
     "text": [
      "================================================================================\n",
      "================================================================================\n"
     ]
    },
    {
     "name": "stdin",
     "output_type": "stream",
     "text": [
      "RT @EliHQ: #UltimoMomento :Caucasia #Antioquia marcha de asociaciones de mineros, guardias indígenas y campesinas del Bajo Cauca y Nordeste…: https://twitter.com/twitter/status/1394737950257262605 → [pos]/neg \n"
     ]
    },
    {
     "name": "stdout",
     "output_type": "stream",
     "text": [
      "================================================================================\n"
     ]
    },
    {
     "name": "stdin",
     "output_type": "stream",
     "text": [
      "RT @_yo_opino: Las ciudades más destrozadas son donde sus alcaldes han apoyado las protestas. 🆘🇨🇴🆘🇨🇴🆘🇨🇴 #NoMasParo.  Álvaro Uribe acusó al…: https://twitter.com/twitter/status/1394737916270755842 → [pos]/neg n\n"
     ]
    },
    {
     "name": "stdout",
     "output_type": "stream",
     "text": [
      "================================================================================\n",
      "================================================================================\n",
      "================================================================================\n",
      "================================================================================\n",
      "================================================================================\n"
     ]
    },
    {
     "name": "stdin",
     "output_type": "stream",
     "text": [
      "@naranja_cali Y el que❓#Cali #CALIRESISTENCIA #SOSCaliDDHH: https://twitter.com/twitter/status/1394737820409946116 → [pos]/neg \n"
     ]
    },
    {
     "name": "stdout",
     "output_type": "stream",
     "text": [
      "================================================================================\n",
      "================================================================================\n",
      "================================================================================\n",
      "================================================================================\n",
      "================================================================================\n"
     ]
    },
    {
     "name": "stdin",
     "output_type": "stream",
     "text": [
      "@santiagoangelp INFAME la violacion de los derechos llevando a un desespero evidente en las personas que no están de acuerdo con este #ParoAsesino, apoyo total a esta valiente! No demoran en tildarla como paramilitar y exigir su captura, Solo por hacer respetar sus derechos! #NoMasParo: https://twitter.com/twitter/status/1394737754119053315 → [pos]/neg n\n"
     ]
    },
    {
     "name": "stdout",
     "output_type": "stream",
     "text": [
      "================================================================================\n"
     ]
    },
    {
     "name": "stdin",
     "output_type": "stream",
     "text": [
      "#ParoNacional\n",
      "#1deMayo\n",
      "#EsmadAsesinos\n",
      "#ReformaTributaria\n",
      "#ParoNacional1M\n",
      "#DuquePareLaViolencia\n",
      "#Bogota\n",
      "#UribeDioLaOrden\n",
      "#SOSColombiaDDHH\n",
      "#ATENCION\n",
      "#DDHH\n",
      " COLEGIO NUEVA COLOMBIA - ASAMBLEA INFORMATIVA https://t.co/LaXn95fX9K: https://twitter.com/twitter/status/1394737745604526084 → [pos]/neg \n"
     ]
    },
    {
     "name": "stdout",
     "output_type": "stream",
     "text": [
      "================================================================================\n",
      "================================================================================\n",
      "================================================================================\n"
     ]
    },
    {
     "name": "stdin",
     "output_type": "stream",
     "text": [
      "@RPPNOTICIAS\n",
      "@LAREPUBLICA_PE\n",
      "@RMAPALACIOS\n",
      "\n",
      "#ParoNacional1M \n",
      "#ParoIndefinido \n",
      "#ParoNacional \n",
      "#Paro1M \n",
      "#DiaDelTrabajador \n",
      "#RCNMiente \n",
      "#RCNMentiroso \n",
      "#ParoNacionalIndefinido \n",
      "#DiaDelTrabajo\n",
      "#NosEstanMasacrando\n",
      " COLEGIO NUEVA COLOMBIA - ASAMBLEA INFORMATIVA https://t.co/LaXn95fX9K: https://twitter.com/twitter/status/1394737674267897864 → [pos]/neg \n"
     ]
    },
    {
     "name": "stdout",
     "output_type": "stream",
     "text": [
      "================================================================================\n",
      "================================================================================\n",
      "================================================================================\n",
      "================================================================================\n"
     ]
    },
    {
     "name": "stdin",
     "output_type": "stream",
     "text": [
      "Se lo dijimos #ParoNacional #paroterrorista #Covidiotas el mismo PETRO se está RECORTANDO sus VOTANTES bueno allá ellos https://t.co/23Ql684evF: https://twitter.com/twitter/status/1394737529476296714 → [pos]/neg n\n"
     ]
    },
    {
     "name": "stdout",
     "output_type": "stream",
     "text": [
      "================================================================================\n"
     ]
    },
    {
     "name": "stdin",
     "output_type": "stream",
     "text": [
      "RESISTENCIA \n",
      "#UribeDioLaOrden #ElParoNOPara\n",
      " #ColombiaResiste #ColombiaSOS  #SOSOCOLOMBIA #PrimeraLinea #GraciasPrimeraLinea #SOSColombiaDDDHH #ParoNacional17M #ParoNacional18M #ParoNacional https://t.co/vcb3yTko1m: https://twitter.com/twitter/status/1394737514255167488 → [pos]/neg \n"
     ]
    },
    {
     "name": "stdout",
     "output_type": "stream",
     "text": [
      "================================================================================\n"
     ]
    },
    {
     "name": "stdin",
     "output_type": "stream",
     "text": [
      "Pero tranquilo pueblo querido, reprimido, dolido, masacrado, engañado y usado que llegara el deleite de todos la  #CopaAmerica2021 el pan para el pueblo, que en medio de la masacre que vivimos es un tranquilizante.\n",
      "#ParoNacional #ParoNacional18M: https://twitter.com/twitter/status/1394737486224580613 → [pos]/neg \n"
     ]
    },
    {
     "name": "stdout",
     "output_type": "stream",
     "text": [
      "================================================================================\n",
      "================================================================================\n"
     ]
    },
    {
     "name": "stdin",
     "output_type": "stream",
     "text": [
      "#ColombiaSOS\n",
      "El saldo que dejó esta nueva jornada represiva aún es incierto, pero los denunciantes hablan de decenas de heridos y varios más detenidos y desaparecidos. ONG han reportado alrededor de 50 muertos desde el comienzo del #ParoNacional, el 28 de abril pasado. https://t.co/5fn2yHuu1G: https://twitter.com/twitter/status/1394737464275841031 → [pos]/neg p\n"
     ]
    },
    {
     "name": "stdout",
     "output_type": "stream",
     "text": [
      "================================================================================\n",
      "================================================================================\n",
      "================================================================================\n",
      "================================================================================\n",
      "================================================================================\n"
     ]
    },
    {
     "name": "stdin",
     "output_type": "stream",
     "text": [
      "RT @jharolddavila: “Estuvimos ahora compartiendo cantos cerca a la estación San Javier, reflexionando sobre la importancia y valor civilist…: https://twitter.com/twitter/status/1394737409888247816 → [pos]/neg \n"
     ]
    },
    {
     "name": "stdout",
     "output_type": "stream",
     "text": [
      "================================================================================\n",
      "================================================================================\n",
      "================================================================================\n",
      "================================================================================\n",
      "================================================================================\n",
      "================================================================================\n",
      "================================================================================\n"
     ]
    },
    {
     "name": "stdin",
     "output_type": "stream",
     "text": [
      "RT @Vive_Politica: El Paro se Mantiene. Bogotá, monumento de los nuevos Héroes. #ParoNacional15M #ParoNacional #SOSColombiaNosEstanMatando…: https://twitter.com/twitter/status/1394737367257337860 → [pos]/neg p\n"
     ]
    },
    {
     "name": "stdout",
     "output_type": "stream",
     "text": [
      "================================================================================\n"
     ]
    },
    {
     "name": "stdin",
     "output_type": "stream",
     "text": [
      "#ParoNacional4M  #Colombia #ParoNacional #ColombiaResiste #Paro4M #DuqueChao  COLEGIO NUEVA COLOMBIA - ASAMBLEA INFORMATIVA https://t.co/LaXn95fX9K: https://twitter.com/twitter/status/1394737356498931715 → [pos]/neg \n"
     ]
    },
    {
     "name": "stdout",
     "output_type": "stream",
     "text": [
      "================================================================================\n",
      "================================================================================\n",
      "================================================================================\n"
     ]
    },
    {
     "name": "stdin",
     "output_type": "stream",
     "text": [
      "Oiga pendejo pseudo periodista!! Céntrese en El origen del paro. La reforma que detonó todo esto nos habría llevado a una peor situación!\n",
      "\n",
      "El #ParoNacional por lo menos es transitorio. \n",
      "Idiota!! 🙄 https://t.co/CfXA5p82Mb: https://twitter.com/twitter/status/1394737334571175943 → [pos]/neg \n"
     ]
    },
    {
     "name": "stdout",
     "output_type": "stream",
     "text": [
      "================================================================================\n"
     ]
    },
    {
     "name": "stdin",
     "output_type": "stream",
     "text": [
      "#ParoNacional ⭕ | Unas 50 volquetas están parqueadas en los alrededores de la Plaza Bolívar. Conozca los motivos de su protesta 👇\n",
      "Detalle: ▶️ https://t.co/FN7QeDRgu1: https://twitter.com/twitter/status/1394737323645063173 → [pos]/neg \n"
     ]
    },
    {
     "name": "stdout",
     "output_type": "stream",
     "text": [
      "================================================================================\n"
     ]
    },
    {
     "name": "stdin",
     "output_type": "stream",
     "text": [
      "RT @Agencia_API: #ParoNacional 🔴🇨🇴 Bucaramanga: convocan nueva jornada de protestas para este miércoles 👉 https://t.co/JTWQ6CI6BN https://t…: https://twitter.com/twitter/status/1394737319484301313 → [pos]/neg \n"
     ]
    },
    {
     "name": "stdout",
     "output_type": "stream",
     "text": [
      "================================================================================\n"
     ]
    },
    {
     "name": "stdin",
     "output_type": "stream",
     "text": [
      "Que poderoso ver que los pueblos originarios con sus lenguas ancestrales se unen al paro, que vean en la insistencia de los jóvenes un anhelo de país en el cual viva la diversidad #MingaNacional #MingaIndigena #ParoNacional: https://twitter.com/twitter/status/1394737307836637189 → [pos]/neg p\n"
     ]
    },
    {
     "name": "stdout",
     "output_type": "stream",
     "text": [
      "================================================================================\n",
      "================================================================================\n",
      "================================================================================\n",
      "================================================================================\n"
     ]
    },
    {
     "name": "stdin",
     "output_type": "stream",
     "text": [
      "RT @Dejusticia: El escalamiento de la violencia durante casi tres semanas de protestas en #Colombia por el #ParoNacional y el difícil diálo…: https://twitter.com/twitter/status/1394737274848432132 → [pos]/neg \n"
     ]
    },
    {
     "name": "stdout",
     "output_type": "stream",
     "text": [
      "================================================================================\n",
      "================================================================================\n"
     ]
    },
    {
     "name": "stdin",
     "output_type": "stream",
     "text": [
      "RT @Dejusticia: 2⃣ Ciudadanía y gobiernos locales de #Colombia activarían espacios de diálogo que se conecten con el orden nacional y les p…: https://twitter.com/twitter/status/1394737244011966468 → [pos]/neg \n"
     ]
    },
    {
     "name": "stdout",
     "output_type": "stream",
     "text": [
      "================================================================================\n",
      "================================================================================\n",
      "================================================================================\n",
      "================================================================================\n",
      "================================================================================\n",
      "================================================================================\n",
      "================================================================================\n",
      "================================================================================\n",
      "================================================================================\n",
      "================================================================================\n"
     ]
    },
    {
     "name": "stdin",
     "output_type": "stream",
     "text": [
      "#FueraPetro #Portal80 #ApoyoAlEsmad #SOSColombia #ParoNacional #ReporteCiudadano  COLEGIO NUEVA COLOMBIA - ASAMBLEA INFORMATIVA https://t.co/LaXn95fX9K: https://twitter.com/twitter/status/1394737074557886465 → [pos]/neg \n"
     ]
    },
    {
     "name": "stdout",
     "output_type": "stream",
     "text": [
      "================================================================================\n"
     ]
    },
    {
     "name": "stdin",
     "output_type": "stream",
     "text": [
      "RT @CAHUCOPANA: #ParoNacional\n",
      "\n",
      "A esta hora se adelanta una gran movilización pacífica  en el municipio de #Caucasia, en la que participan l…: https://twitter.com/twitter/status/1394737073928736768 → [pos]/neg \n"
     ]
    },
    {
     "name": "stdout",
     "output_type": "stream",
     "text": [
      "================================================================================\n"
     ]
    },
    {
     "name": "stdin",
     "output_type": "stream",
     "text": [
      "RT @jorgeguevarafz: Imposible no sentir emoción al ver esta fotografía, un pueblo de pie contra la injusticia y la corrupción, un pueblo ll…: https://twitter.com/twitter/status/1394737065166839817 → [pos]/neg \n"
     ]
    },
    {
     "name": "stdout",
     "output_type": "stream",
     "text": [
      "================================================================================\n",
      "================================================================================\n"
     ]
    },
    {
     "name": "stdin",
     "output_type": "stream",
     "text": [
      "El Convite ha preparado un cubrimiento especial de tres emisiones sobre el #ParoNacional\n",
      "\n",
      "Escucha hoy a las 7:00 p.m. el primer episodio: voces del Paro Nacional en https://t.co/Op8VxLxIs9 o desde la app TuneIn. https://t.co/AJSVBxQfaG: https://twitter.com/twitter/status/1394737050302169091 → [pos]/neg \n"
     ]
    },
    {
     "name": "stdout",
     "output_type": "stream",
     "text": [
      "================================================================================\n",
      "================================================================================\n",
      "================================================================================\n",
      "================================================================================\n",
      "================================================================================\n"
     ]
    },
    {
     "name": "stdin",
     "output_type": "stream",
     "text": [
      "Solo para conocedores! 🔥✊🏼\n",
      "\n",
      "#ParoNacional #ColombiaResiste https://t.co/lcD4mZlh0n: https://twitter.com/twitter/status/1394736942315675660 → [pos]/neg \n"
     ]
    },
    {
     "name": "stdout",
     "output_type": "stream",
     "text": [
      "================================================================================\n",
      "================================================================================\n",
      "================================================================================\n",
      "================================================================================\n"
     ]
    },
    {
     "name": "stdin",
     "output_type": "stream",
     "text": [
      "RT @INPEC_Colombia: En el Establecimiento Carcelario de #Cali se llevaron a cabo las eliminatorias de Ajedrez y ya cuentan con su represent…: https://twitter.com/twitter/status/1394736873461932040 → [pos]/neg \n"
     ]
    },
    {
     "name": "stdout",
     "output_type": "stream",
     "text": [
      "================================================================================\n",
      "================================================================================\n",
      "================================================================================\n",
      "================================================================================\n",
      "================================================================================\n",
      "================================================================================\n",
      "================================================================================\n",
      "================================================================================\n"
     ]
    },
    {
     "name": "stdin",
     "output_type": "stream",
     "text": [
      "RT @Movicecol: ⚠️#Atención desde la Mesa de Trabajo sobre Desaparición Forzada hemos dispuesto un correo para reportar víctimas de desapari…: https://twitter.com/twitter/status/1394736756310818817 → [pos]/neg \n"
     ]
    },
    {
     "name": "stdout",
     "output_type": "stream",
     "text": [
      "================================================================================\n"
     ]
    },
    {
     "name": "stdin",
     "output_type": "stream",
     "text": [
      "RT @ChalecosAmarill: 🎥🛑En #Colombia #ParoNacional16M\n",
      "\n",
      "🔻Desde el conjunto residencial Alamedas de San José II junto al Portal de las América…: https://twitter.com/twitter/status/1394736740879929346 → [pos]/neg \n"
     ]
    },
    {
     "name": "stdout",
     "output_type": "stream",
     "text": [
      "================================================================================\n"
     ]
    },
    {
     "name": "stdin",
     "output_type": "stream",
     "text": [
      "RT @Contagioradio1: Civiles disparando en el sur de #Cali al lado de la policía contra manifestante #SOSColombiaDDHH crece repulsa nacional…: https://twitter.com/twitter/status/1394736659875434503 → [pos]/neg \n"
     ]
    },
    {
     "name": "stdout",
     "output_type": "stream",
     "text": [
      "================================================================================\n",
      "================================================================================\n",
      "================================================================================\n",
      "================================================================================\n",
      "================================================================================\n",
      "================================================================================\n"
     ]
    },
    {
     "name": "stdin",
     "output_type": "stream",
     "text": [
      "#ParoNacional 🔴🇨🇴 Bucaramanga: convocan nueva jornada de protestas para este miércoles 👉 https://t.co/JTWQ6CI6BN https://t.co/ZogN7ChStA: https://twitter.com/twitter/status/1394736533782007808 → [pos]/neg \n"
     ]
    },
    {
     "name": "stdout",
     "output_type": "stream",
     "text": [
      "================================================================================\n",
      "================================================================================\n"
     ]
    },
    {
     "name": "stdin",
     "output_type": "stream",
     "text": [
      "RT @LaColaDeRata: ¡Atención!\n",
      "A esta hora en el sector de La Romelia, Dosquebradas, no se observan camioneros, pero sí varios de sus vehícul…: https://twitter.com/twitter/status/1394736488257105921 → [pos]/neg \n"
     ]
    },
    {
     "name": "stdout",
     "output_type": "stream",
     "text": [
      "================================================================================\n",
      "================================================================================\n"
     ]
    },
    {
     "name": "stdin",
     "output_type": "stream",
     "text": [
      "RT @DayerMc11: ¿Se confirman las marchas para el día de mañana? Quien tenga información sobre puntos de encuentro en #palmira valle, le agr…: https://twitter.com/twitter/status/1394736368807460864 → [pos]/neg \n"
     ]
    },
    {
     "name": "stdout",
     "output_type": "stream",
     "text": [
      "================================================================================\n"
     ]
    },
    {
     "name": "stdin",
     "output_type": "stream",
     "text": [
      "Envíos GRATIS a Colombia a los mejores precios, no te los pierdas en #Amazon  https://t.co/Vboi1Rytn2 #ParoNacional #ParoNacional18M #ventas #Internacional #gratis #ColombiaSomosTodos #comprasegura https://t.co/Yv44g5gbp8: https://twitter.com/twitter/status/1394736331725709318 → [pos]/neg \n"
     ]
    },
    {
     "name": "stdout",
     "output_type": "stream",
     "text": [
      "================================================================================\n"
     ]
    },
    {
     "name": "stdin",
     "output_type": "stream",
     "text": [
      "¿Será que Zapateiro también sale a lamentarse por la muerte de Santrich así como hizo con la de Popeye?\n",
      "\n",
      "#ParoNacional18M #ParoNacional: https://twitter.com/twitter/status/1394736317334970388 → [pos]/neg \n"
     ]
    },
    {
     "name": "stdout",
     "output_type": "stream",
     "text": [
      "================================================================================\n",
      "================================================================================\n"
     ]
    },
    {
     "name": "stdin",
     "output_type": "stream",
     "text": [
      "VAMOS POR EL MES MUCHACHOS‼️RESISTENCIA‼️ ORGULLOSA DE TODO LO QUE SE HA LOGRADO❤️ SOMOS LA NUEVA GENERACIÓN‼️\n",
      "#ParoNacional16M\n",
      "#ParoNacional18M\n",
      "#ParoNacional https://t.co/OQrK2J2uSJ: https://twitter.com/twitter/status/1394736277937922050 → [pos]/neg \n"
     ]
    },
    {
     "name": "stdout",
     "output_type": "stream",
     "text": [
      "================================================================================\n",
      "================================================================================\n",
      "================================================================================\n",
      "================================================================================\n",
      "================================================================================\n"
     ]
    },
    {
     "name": "stdin",
     "output_type": "stream",
     "text": [
      "RT @ldcm___: Kun mi verdadero ejemplo a seguir.\n",
      "\n",
      "#LevantenBloqueosYA #NoMasBloqueos \n",
      "#UribistaSigueUribista\n",
      "#NoMasParo https://t.co/SkOhhe8…: https://twitter.com/twitter/status/1394736202243317765 → [pos]/neg \n"
     ]
    },
    {
     "name": "stdout",
     "output_type": "stream",
     "text": [
      "================================================================================\n",
      "================================================================================\n",
      "================================================================================\n",
      "================================================================================\n",
      "================================================================================\n",
      "================================================================================\n"
     ]
    },
    {
     "name": "stdin",
     "output_type": "stream",
     "text": [
      "RT @RollingStoneCol: Resistiendo desde la cultura | @MamaEstoyAqui nos envía estas imágenes de cómo se ha vivido el #ParoNacional en Villav…: https://twitter.com/twitter/status/1394736061750861830 → [pos]/neg \n"
     ]
    },
    {
     "name": "stdout",
     "output_type": "stream",
     "text": [
      "================================================================================\n",
      "================================================================================\n",
      "================================================================================\n"
     ]
    },
    {
     "name": "stdin",
     "output_type": "stream",
     "text": [
      "RT @labatichicaj: HÁGAME EL 2021 HIJUEPUTA FAVOR.😡🤬👇🏽\n",
      "#ParoNacional18M #ParoAsesino #ParoNacionalColombia #ParoNacionalIndefinido #YumboRes…: https://twitter.com/twitter/status/1394736024425730050 → [pos]/neg \n"
     ]
    },
    {
     "name": "stdout",
     "output_type": "stream",
     "text": [
      "================================================================================\n",
      "================================================================================\n"
     ]
    },
    {
     "name": "stdin",
     "output_type": "stream",
     "text": [
      "@MamaPerruna_ Será que hay alguna forma de subir al mamerto @intiasprilla en una moto de esas para poder acariciarlo de la misma manera #NoMasParo #NoMasBloqueos #ElParoNoMeRepresenta #AtrabajarMamertos: https://twitter.com/twitter/status/1394735984550551553 → [pos]/neg n\n"
     ]
    },
    {
     "name": "stdout",
     "output_type": "stream",
     "text": [
      "================================================================================\n",
      "================================================================================\n"
     ]
    },
    {
     "name": "stdin",
     "output_type": "stream",
     "text": [
      "RT @ElFaroOficial2: Hoy 18 de mayo en el marco del #paronacional18m llega a Ibagué la minga indígena proveniente del sur del tolima para ac…: https://twitter.com/twitter/status/1394735980662374402 → [pos]/neg \n"
     ]
    },
    {
     "name": "stdout",
     "output_type": "stream",
     "text": [
      "================================================================================\n",
      "================================================================================\n"
     ]
    },
    {
     "name": "stdin",
     "output_type": "stream",
     "text": [
      "Muy tarde para evitar el daño material e inmaterial al nuestra ciudad... @nico_estupinan @ClaudiaLopez también son responsables de esto por asumir de manera negligente y discrecional sus funciones. #NoMasBloqueos #NoMasParo #VandalismoPuroYDuro #Bogota #colombia @PGN_COL https://t.co/pAg2U3sbG0: https://twitter.com/twitter/status/1394735947640713220 → [pos]/neg n\n"
     ]
    },
    {
     "name": "stdout",
     "output_type": "stream",
     "text": [
      "================================================================================\n"
     ]
    },
    {
     "name": "stdin",
     "output_type": "stream",
     "text": [
      "RT @TPU19J: 🔥 #AHORA 🔥 Pasa en #Colombia escuadrones de la muerte del ESMAD hacen explotar otra gasolinera en Yumbo, Valle del Cauca, las t…: https://twitter.com/twitter/status/1394735931710742529 → [pos]/neg p\n"
     ]
    },
    {
     "name": "stdout",
     "output_type": "stream",
     "text": [
      "================================================================================\n",
      "================================================================================\n"
     ]
    },
    {
     "name": "stdin",
     "output_type": "stream",
     "text": [
      "RT @NoticiasCartag: #Cartago #AEstaHora Continúan los enfrentamientos en el puente de bolívar #AHORA #ParoNacional #ParoNacional17M #Colomb…: https://twitter.com/twitter/status/1394735795458695173 → [pos]/neg \n"
     ]
    },
    {
     "name": "stdout",
     "output_type": "stream",
     "text": [
      "================================================================================\n",
      "================================================================================\n",
      "================================================================================\n",
      "================================================================================\n",
      "================================================================================\n",
      "================================================================================\n"
     ]
    },
    {
     "name": "stdin",
     "output_type": "stream",
     "text": [
      "RT @luciabastidasu: #desbloqueares necesario para garantizar derechos de mayoría de Colombianos.  Convirtieron los bloqueos en extorsiones…: https://twitter.com/twitter/status/1394735739800326153 → [pos]/neg n\n"
     ]
    },
    {
     "name": "stdout",
     "output_type": "stream",
     "text": [
      "================================================================================\n"
     ]
    },
    {
     "name": "stdin",
     "output_type": "stream",
     "text": [
      "Comedor 6 Puestos estilo rejas con base 4 patas Tapa madera Pintado en poliuretano. Para mayor información contactamos a nuestro Whatsapp 3007735769 o celular 3243892401 fijo 8803730 o visítanos en nuestra punto de venta en la calle11#7-48 #cali; También tenemos opción de pago https://t.co/ZgZqXw5ZkI: https://twitter.com/twitter/status/1394735693725896707 → [pos]/neg \n"
     ]
    },
    {
     "name": "stdout",
     "output_type": "stream",
     "text": [
      "================================================================================\n",
      "================================================================================\n"
     ]
    },
    {
     "name": "stdin",
     "output_type": "stream",
     "text": [
      "RT @PinoCalad: Hoy en @PublimetroCol... Todo lo que pasa en el #ParoNacional está en https://t.co/E68EvdZ6Nb https://t.co/RPeKsZG5VQ: https://twitter.com/twitter/status/1394735690223689748 → [pos]/neg \n"
     ]
    },
    {
     "name": "stdout",
     "output_type": "stream",
     "text": [
      "================================================================================\n"
     ]
    },
    {
     "name": "stdin",
     "output_type": "stream",
     "text": [
      "RT @angloc_za: 🚨 AYUDA: 🚨\n",
      "\n",
      "Eutimio Arango Duque requiere transfusión de sangre. \n",
      "El que pueda donar por favor acercarse a la clínica Valle…: https://twitter.com/twitter/status/1394735687598026752 → [pos]/neg \n"
     ]
    },
    {
     "name": "stdout",
     "output_type": "stream",
     "text": [
      "================================================================================\n",
      "================================================================================\n",
      "================================================================================\n"
     ]
    },
    {
     "name": "stdin",
     "output_type": "stream",
     "text": [
      "#PrimeraLinea al aire explica quienes son, sus razones dentro del #ParoNacional, y por qué no se sienten representados por nadie. \n",
      "\n",
      "Escúchenlos https://t.co/aV3SQN6tPu: https://twitter.com/twitter/status/1394735646418292739 → [pos]/neg \n"
     ]
    },
    {
     "name": "stdout",
     "output_type": "stream",
     "text": [
      "================================================================================\n",
      "================================================================================\n",
      "================================================================================\n",
      "================================================================================\n",
      "================================================================================\n",
      "================================================================================\n",
      "================================================================================\n",
      "================================================================================\n"
     ]
    },
    {
     "name": "stdin",
     "output_type": "stream",
     "text": [
      "RT @ContraPoder6: #ParoNacional #ATENCION \n",
      "⚽️ El fútbol es un bello deporte y su objetivo deber ser darle alegría a los corazones⚽️ Señores…: https://twitter.com/twitter/status/1394735548271636488 → [pos]/neg \n"
     ]
    },
    {
     "name": "stdout",
     "output_type": "stream",
     "text": [
      "================================================================================\n",
      "================================================================================\n",
      "================================================================================\n"
     ]
    },
    {
     "name": "stdin",
     "output_type": "stream",
     "text": [
      "RT @jflafaurie: ¡900 vándalos plenamente identificados en #Cali! ¿Quién les paga? ¿Quién los recluta? ¿De dónde vienen? ¿Los financian las…: https://twitter.com/twitter/status/1394735444034732033 → [pos]/neg n\n"
     ]
    },
    {
     "name": "stdout",
     "output_type": "stream",
     "text": [
      "================================================================================\n",
      "================================================================================\n",
      "================================================================================\n",
      "================================================================================\n",
      "================================================================================\n",
      "================================================================================\n",
      "================================================================================\n"
     ]
    },
    {
     "name": "stdin",
     "output_type": "stream",
     "text": [
      "RT @vanguardiacom: La alcaldesa de Bogotá, Claudia López, criticó fuertemente a Gustavo Petro y a Álvaro Uribe Vélez quienes, a su juicio,…: https://twitter.com/twitter/status/1394735342356402188 → [pos]/neg \n"
     ]
    },
    {
     "name": "stdout",
     "output_type": "stream",
     "text": [
      "================================================================================\n"
     ]
    },
    {
     "name": "stdin",
     "output_type": "stream",
     "text": [
      "En #Cali el #M19 gobierna desde la @AlcaldiaDeCali https://t.co/LqcCn6Q7KR: https://twitter.com/twitter/status/1394735340280242177 → [pos]/neg n\n"
     ]
    },
    {
     "name": "stdout",
     "output_type": "stream",
     "text": [
      "================================================================================\n",
      "================================================================================\n",
      "================================================================================\n",
      "================================================================================\n",
      "================================================================================\n",
      "================================================================================\n"
     ]
    },
    {
     "name": "stdin",
     "output_type": "stream",
     "text": [
      "2. Durante el #Paronacional 🆘🇨🇴, seguimos apoyando y compartiendo el #conocimiento que se genera cuando se invierte en la #investigación 👩🏽‍🔬👨🏻‍💻🔬🧪📈, y no en la #represión💣⚰️🚔🚁🥷🏼. ✊\n",
      "\n",
      "#SOSColombiaDDHH #Colombia #ColombiaResiste: https://twitter.com/twitter/status/1394735305677287433 → [pos]/neg \n"
     ]
    },
    {
     "name": "stdout",
     "output_type": "stream",
     "text": [
      "================================================================================\n",
      "================================================================================\n",
      "================================================================================\n"
     ]
    },
    {
     "name": "stdin",
     "output_type": "stream",
     "text": [
      "📌 Mineros, barequeros, cocaleros y comunidad indígena bloquean a esta hora la glorieta de entrada al municipio de Caucasia. Se suman al #ParoNacional y tienen sus propias exigencias al gobierno de @IvanDuque. https://t.co/tJ6OtSneqo: https://twitter.com/twitter/status/1394735255710576647 → [pos]/neg p\n"
     ]
    },
    {
     "name": "stdout",
     "output_type": "stream",
     "text": [
      "================================================================================\n",
      "================================================================================\n"
     ]
    },
    {
     "name": "stdin",
     "output_type": "stream",
     "text": [
      "🚨 AYUDA: 🚨\n",
      "\n",
      "Eutimio Arango Duque requiere transfusión de sangre. \n",
      "El que pueda donar por favor acercarse a la clínica Valle del Lili con la siguiente información:\n",
      "\n",
      "Hospitalizado clínica Valle del Lili área medicina prepagada. \n",
      "Donantes de sangre A+\n",
      "\n",
      "Agradezco RT #Cali: https://twitter.com/twitter/status/1394735187758551042 → [pos]/neg \n"
     ]
    },
    {
     "name": "stdout",
     "output_type": "stream",
     "text": [
      "================================================================================\n",
      "================================================================================\n",
      "================================================================================\n",
      "================================================================================\n",
      "================================================================================\n"
     ]
    },
    {
     "name": "stdin",
     "output_type": "stream",
     "text": [
      "BLOQUEO P. JUANCHITO 🇨🇴\n",
      "\n",
      "#Cali\n",
      "#Colombia\n",
      "#ParoNacional\n",
      "#ONUHumanRights\n",
      "@PoliciaColombia\n",
      "@COL_EJERCITO\n",
      "@infopresidencia\n",
      "@JorgeIvanOspina\n",
      "#NoMasParo\n",
      "#NoMasViolencia\n",
      "#Nosmasbloqueos\n",
      "@MovilidadCali https://t.co/ji0dwRaEcR: https://twitter.com/twitter/status/1394735111988465666 → [pos]/neg \n"
     ]
    },
    {
     "name": "stdout",
     "output_type": "stream",
     "text": [
      "================================================================================\n",
      "================================================================================\n"
     ]
    },
    {
     "name": "stdin",
     "output_type": "stream",
     "text": [
      "RT @izaelpuc12: Estas son las cifras oficiales de los 17 días de paro nacional en Colombia y posiblemente a día de hoy los números aumenten…: https://twitter.com/twitter/status/1394735073086386182 → [pos]/neg \n"
     ]
    },
    {
     "name": "stdout",
     "output_type": "stream",
     "text": [
      "================================================================================\n",
      "================================================================================\n",
      "================================================================================\n",
      "================================================================================\n"
     ]
    },
    {
     "name": "stdin",
     "output_type": "stream",
     "text": [
      "RT @ComandoJunglaRT: Esto debería abocar demandas masivas contra el comité del paro\n",
      "#NoMasBloqueos #NoMasParo https://t.co/fGyJekCdhr: https://twitter.com/twitter/status/1394734906639540228 → [pos]/neg n\n"
     ]
    },
    {
     "name": "stdout",
     "output_type": "stream",
     "text": [
      "================================================================================\n"
     ]
    },
    {
     "name": "stdin",
     "output_type": "stream",
     "text": [
      "RT @GloriaStellaEc2: @IvanDuque Así es Presidente @IvanDuque tiene mi apoyo #NoMasBloqueos. Mano dura con los VÁNDALOS. #NoMasParo Queremos…: https://twitter.com/twitter/status/1394734900977225728 → [pos]/neg n\n"
     ]
    },
    {
     "name": "stdout",
     "output_type": "stream",
     "text": [
      "================================================================================\n",
      "================================================================================\n",
      "================================================================================\n"
     ]
    },
    {
     "name": "stdin",
     "output_type": "stream",
     "text": [
      "RT @RobertN84304620: Los Falsos Positivos de @IvanDuque \n",
      "@CorteIDH  \n",
      "@MisionONUCol \n",
      "@hrw_espanol \n",
      "\n",
      "#ParoNacional \n",
      "#GraciasPrimeraLinea \n",
      "#Co…: https://twitter.com/twitter/status/1394734850398097421 → [pos]/neg \n"
     ]
    },
    {
     "name": "stdout",
     "output_type": "stream",
     "text": [
      "================================================================================\n",
      "================================================================================\n",
      "================================================================================\n"
     ]
    },
    {
     "name": "stdin",
     "output_type": "stream",
     "text": [
      "Hoy 18 de mayo en el marco del #paronacional18m llega a Ibagué la minga indígena proveniente del sur del tolima para acompañar a las asociaciones indigenas del municipio de Ibagué.\n",
      "#paronacionalcolombia #paronacional #elparonopara #minga #mingaindigena #soscolombia #elfaroinforma https://t.co/uDJRd2cJ6b: https://twitter.com/twitter/status/1394734818282381316 → [pos]/neg p\n"
     ]
    },
    {
     "name": "stdout",
     "output_type": "stream",
     "text": [
      "================================================================================\n",
      "================================================================================\n",
      "================================================================================\n",
      "================================================================================\n",
      "================================================================================\n",
      "================================================================================\n",
      "================================================================================\n",
      "================================================================================\n",
      "================================================================================\n",
      "================================================================================\n",
      "================================================================================\n",
      "================================================================================\n",
      "================================================================================\n",
      "================================================================================\n",
      "================================================================================\n",
      "================================================================================\n",
      "================================================================================\n"
     ]
    },
    {
     "name": "stdin",
     "output_type": "stream",
     "text": [
      "RT @UnivalleU: Importante #HILO del estallido social en #CALI 👇: https://twitter.com/twitter/status/1394734537318481924 → [pos]/neg \n"
     ]
    },
    {
     "name": "stdout",
     "output_type": "stream",
     "text": [
      "================================================================================\n",
      "================================================================================\n"
     ]
    },
    {
     "name": "stdin",
     "output_type": "stream",
     "text": [
      "Q tristeza lo q está pasando en Colombia, ahora los \"Manifestantes pacíficos y comite del paro\" están amenazando a los comerciantes para q no abran sus negocios, esto se llama vandalismos y crimen organizado x la izquierda. #NoMasBloqueos #NoMasParo: https://twitter.com/twitter/status/1394734515944316933 → [pos]/neg n\n"
     ]
    },
    {
     "name": "stdout",
     "output_type": "stream",
     "text": [
      "================================================================================\n"
     ]
    },
    {
     "name": "stdin",
     "output_type": "stream",
     "text": [
      "En nuestro más reciente episodio, @SergioBermuG nos contó lo que ha sido para él este #ParoNacional desde #Cali y cómo ve el panorama social en su ciudad.\n",
      "\n",
      "#Colombia #Podcast #18Mayo\n",
      "Para escucharlo, link 👇🏾 https://t.co/W66WiWxGUg: https://twitter.com/twitter/status/1394734513863942149 → [pos]/neg \n"
     ]
    },
    {
     "name": "stdout",
     "output_type": "stream",
     "text": [
      "================================================================================\n",
      "================================================================================\n"
     ]
    },
    {
     "name": "stdin",
     "output_type": "stream",
     "text": [
      "RT @jairoduarteh: Simple y sencillo!! #NoMasParo @ArgiroCasta58 @ghitis @silvioravel @chuchoagudelo1 @SANTIAGOLMB @jorgearteaga888 @RamnEdu…: https://twitter.com/twitter/status/1394734475905544195 → [pos]/neg \n"
     ]
    },
    {
     "name": "stdout",
     "output_type": "stream",
     "text": [
      "================================================================================\n",
      "================================================================================\n",
      "================================================================================\n",
      "================================================================================\n",
      "================================================================================\n",
      "================================================================================\n",
      "================================================================================\n",
      "================================================================================\n",
      "================================================================================\n",
      "================================================================================\n"
     ]
    },
    {
     "name": "stdin",
     "output_type": "stream",
     "text": [
      "RT @lavillanoticias: • Tres jóvenes de #Ubaté se unieron para crear un concurso en el que motivan la compra de leche a productores locales…: https://twitter.com/twitter/status/1394734318321389573 → [pos]/neg \n"
     ]
    },
    {
     "name": "stdout",
     "output_type": "stream",
     "text": [
      "================================================================================\n",
      "================================================================================\n"
     ]
    },
    {
     "name": "stdin",
     "output_type": "stream",
     "text": [
      "RT @GeoJoseJulxyz: Gracias al #ParoNacional no contratan a profesionales de la Universidad pública. Quien va querer contratar a un HDLGPT a…: https://twitter.com/twitter/status/1394734292656349193 → [pos]/neg \n"
     ]
    },
    {
     "name": "stdout",
     "output_type": "stream",
     "text": [
      "================================================================================\n",
      "================================================================================\n",
      "================================================================================\n",
      "================================================================================\n",
      "================================================================================\n",
      "================================================================================\n",
      "================================================================================\n"
     ]
    },
    {
     "name": "stdin",
     "output_type": "stream",
     "text": [
      "RT @Col_Informa: #ParoNacional16M🚨| Los habitantes del conjunto residencial Alamedas de San José II junto al Portal de las Américas, sitio…: https://twitter.com/twitter/status/1394734231251718152 → [pos]/neg \n"
     ]
    },
    {
     "name": "stdout",
     "output_type": "stream",
     "text": [
      "================================================================================\n",
      "================================================================================\n",
      "================================================================================\n"
     ]
    },
    {
     "name": "stdin",
     "output_type": "stream",
     "text": [
      "RT @MitterrandMoni: RESISTENCIA #GraciasPrimeraLinea #PrimeraLinea CENTRO DE TORTURAS #PortalAmericas   \n",
      "LA CAPITAL NO OLVIDA CLAUDIA, DEVU…: https://twitter.com/twitter/status/1394734180836249617 → [pos]/neg \n"
     ]
    },
    {
     "name": "stdout",
     "output_type": "stream",
     "text": [
      "================================================================================\n",
      "================================================================================\n"
     ]
    },
    {
     "name": "stdin",
     "output_type": "stream",
     "text": [
      "#ATENCIÓN #PARONACIONAL || ⚠🚫 ESMAD no podría actuar en el municipio de Mosquera ➡ https://t.co/EgOIHQ0eXM https://t.co/kg0mICh397: https://twitter.com/twitter/status/1394734162834337797 → [pos]/neg \n"
     ]
    },
    {
     "name": "stdout",
     "output_type": "stream",
     "text": [
      "================================================================================\n",
      "================================================================================\n",
      "================================================================================\n"
     ]
    },
    {
     "name": "stdin",
     "output_type": "stream",
     "text": [
      "⚡️ “Resistiendo desde la cultura | #ParoNacional” de @RollingStoneCol https://t.co/7hP7eF8hL8: https://twitter.com/twitter/status/1394734106752258056 → [pos]/neg \n"
     ]
    },
    {
     "name": "stdout",
     "output_type": "stream",
     "text": [
      "================================================================================\n",
      "================================================================================\n",
      "================================================================================\n"
     ]
    },
    {
     "name": "stdin",
     "output_type": "stream",
     "text": [
      "Cual Santrich? Viva el #ParoNacional: https://twitter.com/twitter/status/1394734035788836864 → [pos]/neg \n"
     ]
    },
    {
     "name": "stdout",
     "output_type": "stream",
     "text": [
      "================================================================================\n",
      "================================================================================\n"
     ]
    },
    {
     "name": "stdin",
     "output_type": "stream",
     "text": [
      "RT @AntoElizabethR: @natiibedoya Es increíble la desinformación de muchos “Voceros en Colombia”, que irresponsabilidad tan grande, necesita…: https://twitter.com/twitter/status/1394734016025305090 → [pos]/neg \n"
     ]
    },
    {
     "name": "stdout",
     "output_type": "stream",
     "text": [
      "================================================================================\n",
      "================================================================================\n",
      "================================================================================\n",
      "================================================================================\n",
      "================================================================================\n",
      "================================================================================\n",
      "================================================================================\n",
      "================================================================================\n"
     ]
    },
    {
     "name": "stdin",
     "output_type": "stream",
     "text": [
      "\"Duque ordenó a todos los niveles de fuerza pública retirar todos los bloqueos que se presenten en las vías del país.\"\n",
      "\n",
      "O sea, a sangre y fuego?????\n",
      "\n",
      "Esa es la solución que presenta este nefasto gobierno frente a las peticiones del #ParoNacional ???\n",
      "\n",
      "#SOSColombiaEnDictadura: https://twitter.com/twitter/status/1394733887075586052 → [pos]/neg \n"
     ]
    },
    {
     "name": "stdout",
     "output_type": "stream",
     "text": [
      "================================================================================\n"
     ]
    },
    {
     "name": "stdin",
     "output_type": "stream",
     "text": [
      "!Nosotros los jovenes somos la esperanza de Colombia, Apoyo total al paro! #paronacional #soscolombia #niunomás #jovenes #YoCreo #PasionDeGavilanes https://t.co/sqFTuVbkU0: https://twitter.com/twitter/status/1394733810084892684 → [pos]/neg p\n"
     ]
    },
    {
     "name": "stdout",
     "output_type": "stream",
     "text": [
      "================================================================================\n",
      "================================================================================\n",
      "================================================================================\n",
      "================================================================================\n",
      "================================================================================\n",
      "================================================================================\n",
      "================================================================================\n",
      "================================================================================\n",
      "================================================================================\n",
      "================================================================================\n",
      "================================================================================\n",
      "================================================================================\n",
      "================================================================================\n",
      "================================================================================\n"
     ]
    },
    {
     "name": "stdin",
     "output_type": "stream",
     "text": [
      "RT @luiscarrillo66: Alcalde de #Cali pide renuncia de su gabinete en pleno\n",
      "https://t.co/ZaGx6n7aTy\n",
      "\n",
      "#LiberenALosPatriotas \n",
      "\n",
      "#ColombiaEnAler…: https://twitter.com/twitter/status/1394733663842091011 → [pos]/neg \n"
     ]
    },
    {
     "name": "stdout",
     "output_type": "stream",
     "text": [
      "================================================================================\n",
      "================================================================================\n",
      "================================================================================\n",
      "================================================================================\n",
      "================================================================================\n",
      "================================================================================\n",
      "================================================================================\n",
      "================================================================================\n",
      "================================================================================\n",
      "================================================================================\n",
      "================================================================================\n",
      "================================================================================\n",
      "================================================================================\n",
      "================================================================================\n",
      "================================================================================\n"
     ]
    },
    {
     "name": "stdin",
     "output_type": "stream",
     "text": [
      "RT @PDACundinamarca: 💛Desde distintos municipios de #Cundinamarca nos la jugamos por apoyar todo tipo de movilizaciones del #ParoNacional.…: https://twitter.com/twitter/status/1394733389207543809 → [pos]/neg p\n"
     ]
    },
    {
     "name": "stdout",
     "output_type": "stream",
     "text": [
      "================================================================================\n",
      "================================================================================\n",
      "================================================================================\n",
      "================================================================================\n"
     ]
    },
    {
     "name": "stdin",
     "output_type": "stream",
     "text": [
      "Este gobierno es como la frase de Marx... Groucho: \"Partiendo de la nada hemos alcanzado las más altas cotas de miseria.\" \n",
      "#ParoNacional18M #ParoNacional #ParoNacionalIndefinido #ParoNacionalColombia: https://twitter.com/twitter/status/1394733327656095744 → [pos]/neg \n"
     ]
    },
    {
     "name": "stdout",
     "output_type": "stream",
     "text": [
      "================================================================================\n",
      "================================================================================\n",
      "================================================================================\n",
      "================================================================================\n",
      "================================================================================\n"
     ]
    },
    {
     "name": "stdin",
     "output_type": "stream",
     "text": [
      "¡Atención!\n",
      "A esta hora en el sector de La Romelia, Dosquebradas, no se observan camioneros, pero sí varios de sus vehículos cruzados en la vía. Hace presencia la primera línea.\n",
      "#ParoNacional \n",
      "Fotografía enviada por la comunidad. https://t.co/b5NZ3CuUtQ: https://twitter.com/twitter/status/1394733273725734923 → [pos]/neg \n"
     ]
    },
    {
     "name": "stdout",
     "output_type": "stream",
     "text": [
      "================================================================================\n",
      "================================================================================\n",
      "================================================================================\n",
      "================================================================================\n"
     ]
    },
    {
     "name": "stdin",
     "output_type": "stream",
     "text": [
      "RT @elespectador: A menos de 15 meses de concluir su mandato, el desgaste del presidente Duque es evidente. Urge encontrar caminos de conce…: https://twitter.com/twitter/status/1394733208676282368 → [pos]/neg \n"
     ]
    },
    {
     "name": "stdout",
     "output_type": "stream",
     "text": [
      "================================================================================\n",
      "================================================================================\n",
      "================================================================================\n",
      "================================================================================\n",
      "================================================================================\n",
      "================================================================================\n",
      "================================================================================\n",
      "================================================================================\n",
      "================================================================================\n",
      "================================================================================\n",
      "================================================================================\n"
     ]
    },
    {
     "name": "stdin",
     "output_type": "stream",
     "text": [
      "#ParoNacional | Desde Ecuador nos envían un pronunciamiento de Antropólogas y Antropólogos del país vecino. Rechazan la violencia estatal y apoyan el Paro Nacional colombiano: https://t.co/Te0Sk9FOCt: https://twitter.com/twitter/status/1394732899740569603 → [pos]/neg \n"
     ]
    },
    {
     "name": "stdout",
     "output_type": "stream",
     "text": [
      "================================================================================\n",
      "================================================================================\n",
      "================================================================================\n",
      "================================================================================\n",
      "================================================================================\n",
      "================================================================================\n"
     ]
    },
    {
     "name": "stdin",
     "output_type": "stream",
     "text": [
      "La reducción del congreso no es una propuesta viable Denunciado #Colombia #DesbloquearEs #ParoNacional18M #ParoNacional https://t.co/qvWLZOq15I: https://twitter.com/twitter/status/1394732787198988291 → [pos]/neg \n"
     ]
    },
    {
     "name": "stdout",
     "output_type": "stream",
     "text": [
      "================================================================================\n"
     ]
    },
    {
     "name": "stdin",
     "output_type": "stream",
     "text": [
      "RT @MejorAsi_: No podemos dejar que sigan atropellando los derechos de los demás. Cada bloqueo son millones de colombianos que pierden sus…: https://twitter.com/twitter/status/1394732757503336448 → [pos]/neg n\n"
     ]
    },
    {
     "name": "stdout",
     "output_type": "stream",
     "text": [
      "================================================================================\n",
      "================================================================================\n"
     ]
    },
    {
     "name": "stdin",
     "output_type": "stream",
     "text": [
      "RT @TodosporCali_: #Atención⚠️ #Buenaventura A esta hora el sector puente del SENA está  bloqueado por manifestantes.\n",
      "\n",
      "Vía: @mapias15 \n",
      "#Par…: https://twitter.com/twitter/status/1394732722476699648 → [pos]/neg \n"
     ]
    },
    {
     "name": "stdout",
     "output_type": "stream",
     "text": [
      "================================================================================\n",
      "================================================================================\n",
      "================================================================================\n",
      "================================================================================\n",
      "================================================================================\n",
      "================================================================================\n"
     ]
    },
    {
     "name": "stdin",
     "output_type": "stream",
     "text": [
      "@IvanDuque le sigue dando trato militar a la protesta social. \n",
      "Valoramos el actuar responsable del \n",
      "@GobCauca @LarrahondoElias en priorizar la vía del diálogo como respuesta a las demandas generadas por las comunidades en #ParoNacional\n",
      "\n",
      "@ONUHumanRights @CIDH @WOLA_org https://t.co/IGoK0pA9a0: https://twitter.com/twitter/status/1394732692667764741 → [pos]/neg p\n"
     ]
    },
    {
     "name": "stdout",
     "output_type": "stream",
     "text": [
      "================================================================================\n",
      "================================================================================\n"
     ]
    },
    {
     "name": "stdin",
     "output_type": "stream",
     "text": [
      "RT @eduardsarmiento: Es muy bonito cuando se suman más voluntades a los esfuerzos de la movilización social. Gracias al liderazgo de la pro…: https://twitter.com/twitter/status/1394732678239379456 → [pos]/neg \n"
     ]
    },
    {
     "name": "stdout",
     "output_type": "stream",
     "text": [
      "================================================================================\n",
      "================================================================================\n",
      "================================================================================\n",
      "================================================================================\n",
      "================================================================================\n",
      "================================================================================\n"
     ]
    },
    {
     "name": "stdin",
     "output_type": "stream",
     "text": [
      "RT @CBarrioAdentro: 📍 El barrio rebolo haciendo presencia por medio de actividades artísticas que se oponen a la reforma y a los abusos eje…: https://twitter.com/twitter/status/1394732617669435392 → [pos]/neg \n"
     ]
    },
    {
     "name": "stdout",
     "output_type": "stream",
     "text": [
      "================================================================================\n",
      "================================================================================\n",
      "================================================================================\n"
     ]
    },
    {
     "name": "stdin",
     "output_type": "stream",
     "text": [
      "RT @MitterrandMoni: #Buenaventura #BuenaventuraResiste #SOSBuenaventura \n",
      "TODOS SOMOS HIJOS DE LA PATRIA \n",
      "MENOS DUQUE, ESE ES UN  ... ??\n",
      "#Ur…: https://twitter.com/twitter/status/1394732543983951878 → [pos]/neg \n"
     ]
    },
    {
     "name": "stdout",
     "output_type": "stream",
     "text": [
      "================================================================================\n",
      "================================================================================\n",
      "================================================================================\n",
      "================================================================================\n"
     ]
    },
    {
     "name": "stdin",
     "output_type": "stream",
     "text": [
      "RT @erickzaraza: Siguen las agresiones del Esmad; lo he estado diciendo, los señores del comité del paro, deben ser enfáticos con el gobier…: https://twitter.com/twitter/status/1394732433979936777 → [pos]/neg \n"
     ]
    },
    {
     "name": "stdout",
     "output_type": "stream",
     "text": [
      "================================================================================\n",
      "================================================================================\n",
      "================================================================================\n"
     ]
    },
    {
     "name": "stdin",
     "output_type": "stream",
     "text": [
      "@JorgeIvanOspina Los microempresarios necesitamos ayudas reales, esta ola de protestas nos afectó casi tres veces más q la pandemia.\n",
      "\n",
      "Si no se le pone cuidado a esto, la crisis económica que se viene para #Cali va a ser catastrófica,  y créame que los de la \"primera linea\" no van a crear empresa: https://twitter.com/twitter/status/1394732358339805184 → [pos]/neg n\n"
     ]
    },
    {
     "name": "stdout",
     "output_type": "stream",
     "text": [
      "================================================================================\n"
     ]
    },
    {
     "name": "stdin",
     "output_type": "stream",
     "text": [
      "RT @LeucoAlf790: EL CAMPO CONVOCA A UN PARO. Por el cierre de exportación de Carne. El Gobierno y otra medida errada #GobiernoDeInutiles #P…: https://twitter.com/twitter/status/1394732314953981958 → [pos]/neg \n"
     ]
    },
    {
     "name": "stdout",
     "output_type": "stream",
     "text": [
      "================================================================================\n"
     ]
    },
    {
     "name": "stdin",
     "output_type": "stream",
     "text": [
      "Los Falsos Positivos de @IvanDuque \n",
      "@CorteIDH  \n",
      "@MisionONUCol \n",
      "@hrw_espanol \n",
      "\n",
      "#ParoNacional \n",
      "#GraciasPrimeraLinea \n",
      "#ColombiaResiste \n",
      "#ColombiaSOS \n",
      "#ColombiaEnDictadura \n",
      "#PoliciasAsesinos \n",
      "#DuqueAsesino #NarcoEstado \n",
      "#UribeGenocidaElMundoYaLoSabe https://t.co/SsG6xgjF4U: https://twitter.com/twitter/status/1394732269378719749 → [pos]/neg \n"
     ]
    },
    {
     "name": "stdout",
     "output_type": "stream",
     "text": [
      "================================================================================\n",
      "================================================================================\n",
      "================================================================================\n"
     ]
    },
    {
     "name": "stdin",
     "output_type": "stream",
     "text": [
      "RT @federicorios: JuanPablo, de 25 años, perdió su ojo por un disparo del ESMAD. Estudió cocina, trabajaba como asistente y sueña con ser c…: https://twitter.com/twitter/status/1394732226718359555 → [pos]/neg p\n"
     ]
    },
    {
     "name": "stdout",
     "output_type": "stream",
     "text": [
      "================================================================================\n",
      "================================================================================\n",
      "================================================================================\n"
     ]
    },
    {
     "name": "stdin",
     "output_type": "stream",
     "text": [
      "RT @OPoeticos: ¿Estas en #Cali y quieres dar un detalle🎁 lindo a #mamá? Te ayudamos🎊 🙋‍♀️\n",
      "\n",
      "Tenemos variados diseños para sorprenderla y lle…: https://twitter.com/twitter/status/1394732210331258880 → [pos]/neg \n"
     ]
    },
    {
     "name": "stdout",
     "output_type": "stream",
     "text": [
      "================================================================================\n",
      "================================================================================\n"
     ]
    },
    {
     "name": "stdin",
     "output_type": "stream",
     "text": [
      "RT @RaquelS_FlorezM: Educación de calidad para Colombia, el Agro, la Internacionalización y la Innovación #TemporalesSENAFormalizados No a…: https://twitter.com/twitter/status/1394732201451868161 → [pos]/neg \n"
     ]
    },
    {
     "name": "stdout",
     "output_type": "stream",
     "text": [
      "================================================================================\n",
      "================================================================================\n",
      "================================================================================\n",
      "================================================================================\n",
      "================================================================================\n",
      "================================================================================\n"
     ]
    },
    {
     "name": "stdin",
     "output_type": "stream",
     "text": [
      "RT @CurieAnti: Sin palabras. #DemandemosAlComiteDelParo #Medellín #PatriotaUribistaAsesino #ParoNacional17M #Yumbo #ParoNacional #UribistaS…: https://twitter.com/twitter/status/1394732126231269377 → [pos]/neg \n"
     ]
    },
    {
     "name": "stdout",
     "output_type": "stream",
     "text": [
      "================================================================================\n",
      "================================================================================\n"
     ]
    },
    {
     "name": "stdin",
     "output_type": "stream",
     "text": [
      "Es un derecho que tenemos.\n",
      "#ParoNacional18M #ParoAsesino #ParoNacionalColombia #ParoNacionalIndefinido #BogotaEnAlertaRoja #PopayanEsColombia #Cali #Medellin #Pereira #Bogota #Barranquilla #Valledupar #ValleDelCauca #Bucaramanga #Buga #siloecali #YumboResiste https://t.co/1KDQHMdcMW: https://twitter.com/twitter/status/1394732120313057282 → [pos]/neg \n"
     ]
    },
    {
     "name": "stdout",
     "output_type": "stream",
     "text": [
      "================================================================================\n",
      "================================================================================\n"
     ]
    },
    {
     "name": "stdin",
     "output_type": "stream",
     "text": [
      "RT @AtiQuigua: La noticia más importante del momento es la dificultad para la escucha y concertación del Gobierno, el irrespeto al derecho…: https://twitter.com/twitter/status/1394732083742969858 → [pos]/neg \n"
     ]
    },
    {
     "name": "stdout",
     "output_type": "stream",
     "text": [
      "================================================================================\n",
      "================================================================================\n",
      "================================================================================\n",
      "================================================================================\n"
     ]
    },
    {
     "name": "stdin",
     "output_type": "stream",
     "text": [
      "Petro quiere un Golpe de Estado a Colombia 🇨🇴\n",
      "#NoMasParo #PetroNuncaSeraPresidente #PetroGolpista #PetroEsUnHampon https://t.co/hdY9i7r1bt: https://twitter.com/twitter/status/1394732026973011973 → [pos]/neg n\n"
     ]
    },
    {
     "name": "stdout",
     "output_type": "stream",
     "text": [
      "================================================================================\n",
      "================================================================================\n",
      "================================================================================\n",
      "================================================================================\n",
      "================================================================================\n",
      "================================================================================\n",
      "================================================================================\n"
     ]
    },
    {
     "name": "stdin",
     "output_type": "stream",
     "text": [
      "RT @blastpdch: ahora si está el dibujo\n",
      "\n",
      "dibujo de @MarshallP1998 y su novia @Skarowl1 \n",
      "\n",
      "#ParoNacional #ParoNacional12Nov https://t.co/8V0S8…: https://twitter.com/twitter/status/1394731934073380868 → [pos]/neg \n"
     ]
    },
    {
     "name": "stdout",
     "output_type": "stream",
     "text": [
      "================================================================================\n",
      "================================================================================\n",
      "================================================================================\n",
      "================================================================================\n",
      "================================================================================\n"
     ]
    },
    {
     "name": "stdin",
     "output_type": "stream",
     "text": [
      "RT @vaneorama: @ONU_derechos @HRI_ONG  \n",
      "Nos siguen matando #Yumbo\n",
      "#Cali #colombia https://t.co/qtLy5y6yub: https://twitter.com/twitter/status/1394731874723979264 → [pos]/neg \n"
     ]
    },
    {
     "name": "stdout",
     "output_type": "stream",
     "text": [
      "================================================================================\n"
     ]
    },
    {
     "name": "stdin",
     "output_type": "stream",
     "text": [
      "@JorgeIvanOspina Dejé Tanta Carreta y El Discurso Trillado del Diálogo. A Esta Altura Se requieren es Acciones. La Economía de Toda La Ciudad está En Peligro. Ya No Se Aguanta 1 día Más de Bloqueos y No se Puede Perjudicar toda #Cali por unos Cuantos. Dialogue Pero Sin Bloqueos: https://twitter.com/twitter/status/1394731867673350145 → [pos]/neg n\n"
     ]
    },
    {
     "name": "stdout",
     "output_type": "stream",
     "text": [
      "================================================================================\n",
      "================================================================================\n",
      "================================================================================\n",
      "================================================================================\n",
      "================================================================================\n"
     ]
    },
    {
     "name": "stdin",
     "output_type": "stream",
     "text": [
      "Amigo capucha, gracias por tu lucha 🤩🤩🤩\n",
      "\n",
      "#ParoNacional18M \n",
      "#ParoNacional https://t.co/CYxgBvvviQ: https://twitter.com/twitter/status/1394731802162499593 → [pos]/neg p\n"
     ]
    },
    {
     "name": "stdout",
     "output_type": "stream",
     "text": [
      "================================================================================\n",
      "================================================================================\n",
      "================================================================================\n",
      "================================================================================\n",
      "================================================================================\n",
      "================================================================================\n",
      "================================================================================\n",
      "================================================================================\n"
     ]
    },
    {
     "name": "stdin",
     "output_type": "stream",
     "text": [
      "@NoticiasCaracol Petro quiere un Golpe de Estado \n",
      "#LevantenBloqueosYA #NoMasParo https://t.co/fDkcsv9Ijg: https://twitter.com/twitter/status/1394731720675663878 → [pos]/neg n\n"
     ]
    },
    {
     "name": "stdout",
     "output_type": "stream",
     "text": [
      "================================================================================\n",
      "================================================================================\n",
      "================================================================================\n"
     ]
    },
    {
     "name": "stdin",
     "output_type": "stream",
     "text": [
      "@JorgeIvanOspina #NoMasBloqueos \n",
      "#NoMasParo \n",
      "\n",
      "Apoyo al Presidente Duque y a las Fuerzas Armadas. https://t.co/aim7HxPbhz: https://twitter.com/twitter/status/1394731686705963011 → [pos]/neg n\n"
     ]
    },
    {
     "name": "stdout",
     "output_type": "stream",
     "text": [
      "================================================================================\n",
      "================================================================================\n",
      "================================================================================\n"
     ]
    },
    {
     "name": "stdin",
     "output_type": "stream",
     "text": [
      "La bandola @PoliciaColombia no tiene escrupulos \n",
      "@CIDH @ONUHumanRights \n",
      "\n",
      "#ParoNacional \n",
      "#GraciasPrimeraLinea \n",
      "\n",
      "#ColombiaResiste \n",
      "#ColombiaSOS \n",
      "#ColombiaEnDictadura \n",
      "#PoliciasAsesinos \n",
      "#DuqueAsesino #NarcoEstado \n",
      "#UribeGenocidaElMundoYaLoSabe https://t.co/hJ20X8F51v: https://twitter.com/twitter/status/1394731668196429824 → [pos]/neg \n"
     ]
    },
    {
     "name": "stdout",
     "output_type": "stream",
     "text": [
      "================================================================================\n",
      "================================================================================\n"
     ]
    },
    {
     "name": "stdin",
     "output_type": "stream",
     "text": [
      "RT @AccionSemillero: #Contraplano | ¡Ya está disponible! Presentamos nuestra nueva videocolumna en el marco del #ParoNacional y la represió…: https://twitter.com/twitter/status/1394731664430018561 → [pos]/neg \n"
     ]
    },
    {
     "name": "stdout",
     "output_type": "stream",
     "text": [
      "================================================================================\n",
      "================================================================================\n",
      "================================================================================\n",
      "================================================================================\n",
      "================================================================================\n",
      "================================================================================\n",
      "================================================================================\n",
      "================================================================================\n",
      "================================================================================\n",
      "================================================================================\n"
     ]
    },
    {
     "name": "stdin",
     "output_type": "stream",
     "text": [
      "RT @BenkosBiohoFarc: Campesinos y Campesinas de Linares, El Tambo, Sandona y El Peñol, hoy 17 de mayo se suman al #ParoNacional, desde la v…: https://twitter.com/twitter/status/1394731502865420290 → [pos]/neg p\n"
     ]
    },
    {
     "name": "stdout",
     "output_type": "stream",
     "text": [
      "================================================================================\n"
     ]
    },
    {
     "name": "stdin",
     "output_type": "stream",
     "text": [
      "RT @FabioCardozoM: Como asumirá usted @JorgeIvanOspina la orden presidencial de levantar los bloqueos en #Cali haciendo uso del mayor despl…: https://twitter.com/twitter/status/1394731462117711873 → [pos]/neg n\n"
     ]
    },
    {
     "name": "stdout",
     "output_type": "stream",
     "text": [
      "================================================================================\n"
     ]
    },
    {
     "name": "stdin",
     "output_type": "stream",
     "text": [
      "RT @TatyMunozO: Los bloqueos afectan al pueblo que dicen estar defendiendo. Empresas están a punto de cerrar para dejar muchos desempleados…: https://twitter.com/twitter/status/1394731346120093701 → [pos]/neg n\n"
     ]
    },
    {
     "name": "stdout",
     "output_type": "stream",
     "text": [
      "================================================================================\n",
      "================================================================================\n"
     ]
    },
    {
     "name": "stdin",
     "output_type": "stream",
     "text": [
      "RT @ManifiestaMedia: Esta es la mujer que está tiñendo de rojo los grandes medios del país, hace unos días hablamos con ella sobre el #Paro…: https://twitter.com/twitter/status/1394731321272975361 → [pos]/neg \n"
     ]
    },
    {
     "name": "stdout",
     "output_type": "stream",
     "text": [
      "================================================================================\n",
      "================================================================================\n",
      "================================================================================\n",
      "================================================================================\n",
      "================================================================================\n",
      "================================================================================\n",
      "================================================================================\n",
      "================================================================================\n",
      "================================================================================\n",
      "================================================================================\n",
      "================================================================================\n",
      "================================================================================\n"
     ]
    },
    {
     "name": "stdin",
     "output_type": "stream",
     "text": [
      "RT @PaolaPteleSUR: #ÚltimoMinuto El presidente de #Colombia, Iván Duque, ordena desplegar a la fuerza pública para desbloquear las vías en…: https://twitter.com/twitter/status/1394730962085466115 → [pos]/neg \n"
     ]
    },
    {
     "name": "stdout",
     "output_type": "stream",
     "text": [
      "================================================================================\n",
      "================================================================================\n",
      "================================================================================\n"
     ]
    },
    {
     "name": "stdin",
     "output_type": "stream",
     "text": [
      "RT @arturo2driguez: Compartan por favor sus carteles informativos sobre los puntos de manifestación de mañana #19M en todo el país.\n",
      "#ParoNa…: https://twitter.com/twitter/status/1394730886910857216 → [pos]/neg p\n"
     ]
    },
    {
     "name": "stdout",
     "output_type": "stream",
     "text": [
      "================================================================================\n",
      "================================================================================\n",
      "================================================================================\n",
      "================================================================================\n",
      "================================================================================\n",
      "================================================================================\n",
      "================================================================================\n"
     ]
    },
    {
     "name": "stdin",
     "output_type": "stream",
     "text": [
      "RT @NavarreteJuanF: @IvanDuque en entrevista en @NoticiasCaracol advierte que es un gobierno de consenso pero tambien con autoridad. La pro…: https://twitter.com/twitter/status/1394730801028341765 → [pos]/neg \n"
     ]
    },
    {
     "name": "stdout",
     "output_type": "stream",
     "text": [
      "================================================================================\n",
      "================================================================================\n"
     ]
    },
    {
     "name": "stdin",
     "output_type": "stream",
     "text": [
      "Conozca el mapa de la solidaridad caleña #ParoNacional #SOSCaliDDHH #SOSCali https://t.co/4Q0MMpgwJK @BienestarSociaI @chucho_gonzalez @AlcaldiaDeCali @JorgeIvanOspina @GSocialValle @Arqui_Cali @arzobispodecali @TICAlcaldiaCali @STransparencia @personeriacali @ConcejoCali: https://twitter.com/twitter/status/1394730783122890753 → [pos]/neg p\n"
     ]
    },
    {
     "name": "stdout",
     "output_type": "stream",
     "text": [
      "================================================================================\n",
      "================================================================================\n",
      "================================================================================\n"
     ]
    },
    {
     "name": "stdin",
     "output_type": "stream",
     "text": [
      "RT @eldiezoficial: “Los vivos bobos” #colombia #DDHH #DDHHColombia #desparecidos #cali #ColombiaSOSDDHH https://t.co/Nw2HmCmjwy: https://twitter.com/twitter/status/1394730749702594560 → [pos]/neg \n"
     ]
    },
    {
     "name": "stdout",
     "output_type": "stream",
     "text": [
      "================================================================================\n",
      "================================================================================\n",
      "================================================================================\n"
     ]
    },
    {
     "name": "stdin",
     "output_type": "stream",
     "text": [
      "RT @mindefensa: Más de 130 mujeres y hombres, entre oficiales y suboficiales del @COL_EJERCITO, están encargados de comandar y apoyar a las…: https://twitter.com/twitter/status/1394730607645708288 → [pos]/neg \n"
     ]
    },
    {
     "name": "stdout",
     "output_type": "stream",
     "text": [
      "================================================================================\n",
      "================================================================================\n",
      "================================================================================\n",
      "================================================================================\n"
     ]
    },
    {
     "name": "stdin",
     "output_type": "stream",
     "text": [
      "@JorgeIvanOspina Ya deje de hacerse el 🤡 y más bien renuncie, que lo único bien que ha hecho es robar las arcas del municipio y endeudarlo en medio de una pandemia para beneficiar los que aportaron a su campaña con contratos multimillonarios #RenuncieJorgeIvanOspina #Cali #CaliResiste #ATENCION: https://twitter.com/twitter/status/1394730555896369152 → [pos]/neg \n"
     ]
    },
    {
     "name": "stdout",
     "output_type": "stream",
     "text": [
      "================================================================================\n",
      "================================================================================\n",
      "================================================================================\n",
      "================================================================================\n"
     ]
    },
    {
     "name": "stdin",
     "output_type": "stream",
     "text": [
      "¡Bendita #lluvia la que moja a #Cali a esta hora! https://t.co/hNYbzQO4yu: https://twitter.com/twitter/status/1394730497612390402 → [pos]/neg \n"
     ]
    },
    {
     "name": "stdout",
     "output_type": "stream",
     "text": [
      "================================================================================\n",
      "================================================================================\n",
      "================================================================================\n",
      "================================================================================\n",
      "================================================================================\n",
      "================================================================================\n",
      "================================================================================\n",
      "================================================================================\n",
      "================================================================================\n"
     ]
    },
    {
     "name": "stdin",
     "output_type": "stream",
     "text": [
      "RT @personeriacali: #AEstaHora Continuamos realizando acompañamiento como garantes de derechos humanos en los diferentes puntos de #Cali do…: https://twitter.com/twitter/status/1394730272994770947 → [pos]/neg p\n"
     ]
    },
    {
     "name": "stdout",
     "output_type": "stream",
     "text": [
      "================================================================================\n"
     ]
    },
    {
     "name": "stdin",
     "output_type": "stream",
     "text": [
      "#ParoNacional18M #SOSColombiaDDHH  #ParoNacional #SOSColombia #ParoNacional \n",
      "\n",
      "\"Al igual que otros partidos populistas del mundo, el Centro Democrático de Uribe y Duque ejerce su poder mediante una estrategia que consiste en avivar agresivamente a su base:\"\n",
      "https://t.co/VwH4eg521c: https://twitter.com/twitter/status/1394730267999408128 → [pos]/neg p\n"
     ]
    },
    {
     "name": "stdout",
     "output_type": "stream",
     "text": [
      "================================================================================\n"
     ]
    },
    {
     "name": "stdin",
     "output_type": "stream",
     "text": [
      "#Colombia 🇨🇴 | Ciudadanos denunciaron este martes que el #Esmad de la Policía reprimió la noche del lunes a las personas que se manifestaban en varias ciudades del país, en el marco del #ParoNacional https://t.co/3rPldywItQ: https://twitter.com/twitter/status/1394730255043022849 → [pos]/neg p\n"
     ]
    },
    {
     "name": "stdout",
     "output_type": "stream",
     "text": [
      "================================================================================\n",
      "================================================================================\n",
      "================================================================================\n",
      "================================================================================\n"
     ]
    },
    {
     "name": "stdin",
     "output_type": "stream",
     "text": [
      "Este es el panorama en algunos sectores del Centro de Buenaventura a esta hora del medio dia de hoy 18 de mayo/21 \n",
      "#ParoNacional #SOS #soscolombia #SOSBuenaventura https://t.co/lI0dYg3sLU https://t.co/IQw96w0l5k: https://twitter.com/twitter/status/1394730191088410629 → [pos]/neg \n"
     ]
    },
    {
     "name": "stdout",
     "output_type": "stream",
     "text": [
      "================================================================================\n",
      "================================================================================\n",
      "================================================================================\n",
      "================================================================================\n",
      "================================================================================\n",
      "================================================================================\n",
      "================================================================================\n"
     ]
    },
    {
     "name": "stdin",
     "output_type": "stream",
     "text": [
      "RT @colfruits: En el valle empresas que hemos  tenido que sacar fruta de exportacion ya empacada para las calles por que no hay como enviar…: https://twitter.com/twitter/status/1394730040349298688 → [pos]/neg \n"
     ]
    },
    {
     "name": "stdout",
     "output_type": "stream",
     "text": [
      "================================================================================\n",
      "================================================================================\n",
      "================================================================================\n",
      "================================================================================\n",
      "================================================================================\n",
      "================================================================================\n"
     ]
    },
    {
     "name": "stdin",
     "output_type": "stream",
     "text": [
      "RT @personeriacali: Seguimos acompañando las movilizaciones y generando espacios de diálogo entre los diferentes actores. Hacemos seguimien…: https://twitter.com/twitter/status/1394729920660713476 → [pos]/neg \n"
     ]
    },
    {
     "name": "stdout",
     "output_type": "stream",
     "text": [
      "================================================================================\n"
     ]
    },
    {
     "name": "stdin",
     "output_type": "stream",
     "text": [
      "Entre @petrogustavo y @AlvaroUribeVel se están cagando lo que queda de país... PUEBLO PENDEJO ÚTIL E IGNORANTE. Despiertaaaaaaaa!!! #ParoNacional18M #paronacional #DesbloquearEs #DesbloqueosYA #PetroDelincuente #UribeHPTA https://t.co/EyZ1achPgA: https://twitter.com/twitter/status/1394729919897341955 → [pos]/neg \n"
     ]
    },
    {
     "name": "stdout",
     "output_type": "stream",
     "text": [
      "================================================================================\n"
     ]
    },
    {
     "name": "stdin",
     "output_type": "stream",
     "text": [
      "RT @BabiloniaMauro: El #ParoNacional continúa con más fuerza, desde el Portal de la Resistencia @ElParcheCritico @PrensaRural @intiasprilla…: https://twitter.com/twitter/status/1394729891556466693 → [pos]/neg \n"
     ]
    },
    {
     "name": "stdout",
     "output_type": "stream",
     "text": [
      "================================================================================\n",
      "================================================================================\n"
     ]
    },
    {
     "name": "stdin",
     "output_type": "stream",
     "text": [
      "RT @personeriacali: #AEstaHora las familias del sector de Siloé en #Cali, realizan acto simbólico para que cesen los actos violentos en la…: https://twitter.com/twitter/status/1394729872061308931 → [pos]/neg n\n"
     ]
    },
    {
     "name": "stdout",
     "output_type": "stream",
     "text": [
      "================================================================================\n",
      "================================================================================\n"
     ]
    },
    {
     "name": "stdin",
     "output_type": "stream",
     "text": [
      "RT @CiudadRegion: #Risaralda | Supermercado en sector de La Romelia fue saqueado.\n",
      "\n",
      "#ParoNacional #ParoNacional18M #ParoNacionalColombia htt…: https://twitter.com/twitter/status/1394729815811497984 → [pos]/neg \n"
     ]
    },
    {
     "name": "stdout",
     "output_type": "stream",
     "text": [
      "================================================================================\n"
     ]
    },
    {
     "name": "stdin",
     "output_type": "stream",
     "text": [
      "RT @andresecepeda: \"¿Señora, tiene un minuto para hablar sobre la palabra de nuestro señor #Matarife ? Dueño de todo el estado \" con estas…: https://twitter.com/twitter/status/1394729788305285124 → [pos]/neg \n"
     ]
    },
    {
     "name": "stdout",
     "output_type": "stream",
     "text": [
      "================================================================================\n",
      "================================================================================\n",
      "================================================================================\n",
      "================================================================================\n",
      "================================================================================\n",
      "================================================================================\n"
     ]
    },
    {
     "name": "stdin",
     "output_type": "stream",
     "text": [
      "#Alerta La Chiva #Antioquia:\n",
      "Supuestos disparos anoche en Caldas\n",
      "@PoliciaMedellin @CaldasAlcaldia #Disparos #Manifestaciones #Marchas #ParoNacional\n",
      "https://t.co/OPqOSg74MD: https://twitter.com/twitter/status/1394729693597868034 → [pos]/neg \n"
     ]
    },
    {
     "name": "stdout",
     "output_type": "stream",
     "text": [
      "================================================================================\n",
      "================================================================================\n"
     ]
    },
    {
     "name": "stdin",
     "output_type": "stream",
     "text": [
      "#lawradio chévere que los periodistas tuvieran la oportunidad de ser empleadores y empresarios, a ver si del otro lado opinan lo mismo... #NoMasParo: https://twitter.com/twitter/status/1394729661788217347 → [pos]/neg n\n"
     ]
    },
    {
     "name": "stdout",
     "output_type": "stream",
     "text": [
      "================================================================================\n",
      "================================================================================\n",
      "================================================================================\n",
      "================================================================================\n",
      "================================================================================\n",
      "================================================================================\n"
     ]
    },
    {
     "name": "stdin",
     "output_type": "stream",
     "text": [
      "¿Estas en #Cali y quieres dar un detalle🎁 lindo a #mamá? Te ayudamos🎊 🙋‍♀️\n",
      "\n",
      "Tenemos variados diseños para sorprenderla y llenarla de alegría 🥰  , pregúntanos!\n",
      "\n",
      "#regalosparamamá #colibrí #mesdelamadre #madres #regalos #cojines #individuales #monederos #cartucheras #Calico #aves https://t.co/RMb7nSQZAo: https://twitter.com/twitter/status/1394729549754257410 → [pos]/neg \n"
     ]
    },
    {
     "name": "stdout",
     "output_type": "stream",
     "text": [
      "================================================================================\n"
     ]
    },
    {
     "name": "stdin",
     "output_type": "stream",
     "text": [
      "RT @BluRadioCo: En Corabastos comerciantes aseguran que hace al menos dos  semanas no llegan alimentos como azúcar, granos, harina entre ot…: https://twitter.com/twitter/status/1394729541197832193 → [pos]/neg \n"
     ]
    },
    {
     "name": "stdout",
     "output_type": "stream",
     "text": [
      "================================================================================\n",
      "================================================================================\n",
      "================================================================================\n"
     ]
    },
    {
     "name": "stdin",
     "output_type": "stream",
     "text": [
      "RT @UnivalleU: ¿Se van a perder la movilización más grande en la historia de #CALI?\n",
      "\n",
      "Ayúdanos a compartir en todos los muros, grupos de Wha…: https://twitter.com/twitter/status/1394729484012728323 → [pos]/neg p\n"
     ]
    },
    {
     "name": "stdout",
     "output_type": "stream",
     "text": [
      "================================================================================\n"
     ]
    },
    {
     "name": "stdin",
     "output_type": "stream",
     "text": [
      "Alcalde genere nuevos puestos de empleo, llevo 3 meses y medio sin trabajar.\n",
      "\n",
      "¡NECESITAMOS MÁS EMPLEO Y MENOS \"SUBSIDIOS\"!\n",
      "\n",
      "#ParoNacional #18M\n",
      "@JorgeIvanOspina @AlcaldiaDeCali @DANE_Colombia @GobValle @GobiernoCali @ClaraLuzRoldan: https://twitter.com/twitter/status/1394729440035409921 → [pos]/neg p\n"
     ]
    },
    {
     "name": "stdout",
     "output_type": "stream",
     "text": [
      "================================================================================\n"
     ]
    },
    {
     "name": "stdin",
     "output_type": "stream",
     "text": [
      "@santiagoangelp @GustavoBolivar Solo quieren ganar con mentiras, la verdad no les sirve #NoMasBloqueos #NoMasParo: https://twitter.com/twitter/status/1394729431395094530 → [pos]/neg n\n"
     ]
    },
    {
     "name": "stdout",
     "output_type": "stream",
     "text": [
      "================================================================================\n",
      "================================================================================\n",
      "================================================================================\n",
      "================================================================================\n",
      "================================================================================\n",
      "================================================================================\n",
      "================================================================================\n",
      "================================================================================\n",
      "================================================================================\n"
     ]
    },
    {
     "name": "stdin",
     "output_type": "stream",
     "text": [
      "#ParoNacional EN PAZ!! Son un ejemplo para el país, espero que @PoliciaColombia no arremeta contra ellos. RESISTENCIA! https://t.co/553xxxql8U: https://twitter.com/twitter/status/1394729296233697280 → [pos]/neg p\n"
     ]
    },
    {
     "name": "stdout",
     "output_type": "stream",
     "text": [
      "================================================================================\n",
      "================================================================================\n",
      "================================================================================\n",
      "================================================================================\n",
      "================================================================================\n",
      "================================================================================\n"
     ]
    },
    {
     "name": "stdin",
     "output_type": "stream",
     "text": [
      "Sorprende que el excandidato Vargas Lleras no haya hecho una revisión juiciosa de su afirmación. ¿O es un mensaje para su precandidato Char, que ha brillado por su silencio durante el #ParoNacional? \n",
      "\n",
      "La ciudadanía no está reclamando campañas ni oportunismos políticos. https://t.co/RzXBHXLL1c: https://twitter.com/twitter/status/1394729113533943811 → [pos]/neg \n"
     ]
    },
    {
     "name": "stdout",
     "output_type": "stream",
     "text": [
      "================================================================================\n",
      "================================================================================\n",
      "================================================================================\n",
      "================================================================================\n"
     ]
    },
    {
     "name": "stdin",
     "output_type": "stream",
     "text": [
      "RT @ContraPoder6: #ParoNacional #NoALaCopaAmericaEnColombia \n",
      "@DR_Colombia \n",
      "⚽️ 🥁🎶 Que lo vengan a ver, que lo vengan ver, esto no es un gobi…: https://twitter.com/twitter/status/1394729029702455300 → [pos]/neg \n"
     ]
    },
    {
     "name": "stdout",
     "output_type": "stream",
     "text": [
      "================================================================================\n",
      "================================================================================\n",
      "================================================================================\n",
      "================================================================================\n",
      "================================================================================\n",
      "================================================================================\n",
      "================================================================================\n",
      "================================================================================\n",
      "================================================================================\n",
      "================================================================================\n"
     ]
    },
    {
     "name": "stdin",
     "output_type": "stream",
     "text": [
      "RT @robertbustam: Lamentamos la partida de un gran atleta de Yumbo.. solidaridad con la familia Calistenia #qepd #calistenia #SOSYumbo #Par…: https://twitter.com/twitter/status/1394728845392109568 → [pos]/neg \n"
     ]
    },
    {
     "name": "stdout",
     "output_type": "stream",
     "text": [
      "================================================================================\n"
     ]
    },
    {
     "name": "stdin",
     "output_type": "stream",
     "text": [
      "RT @pierrealee: La alcaldesa @ClaudiaLopez es ausente en el #ParoNacional, no se le ha visto ni se ha sentido, mientras la ciudad es tomada…: https://twitter.com/twitter/status/1394728844989501445 → [pos]/neg \n"
     ]
    },
    {
     "name": "stdout",
     "output_type": "stream",
     "text": [
      "================================================================================\n"
     ]
    },
    {
     "name": "stdin",
     "output_type": "stream",
     "text": [
      "RT @labatichicaj: La imagen habla Sola Colombia\n",
      "#YumboResiste\n",
      "#ParoNacional18M #ParoAsesino #ParoNacionalColombia #ParoNacionalIndefinido #…: https://twitter.com/twitter/status/1394728794376781829 → [pos]/neg \n"
     ]
    },
    {
     "name": "stdout",
     "output_type": "stream",
     "text": [
      "================================================================================\n",
      "================================================================================\n",
      "================================================================================\n"
     ]
    },
    {
     "name": "stdin",
     "output_type": "stream",
     "text": [
      "💛Desde distintos municipios de #Cundinamarca nos la jugamos por apoyar todo tipo de movilizaciones del #ParoNacional. \n",
      "Queremos que #DuquePareLaMasacre, que caiga la reforma a la salud, que renuncie el ministro Molano, que se escuche el clamor del pueblo que está en la calles. https://t.co/qpMQqgiTYf: https://twitter.com/twitter/status/1394728728996032516 → [pos]/neg \n"
     ]
    },
    {
     "name": "stdout",
     "output_type": "stream",
     "text": [
      "================================================================================\n",
      "================================================================================\n",
      "================================================================================\n",
      "================================================================================\n",
      "================================================================================\n",
      "================================================================================\n"
     ]
    },
    {
     "name": "stdin",
     "output_type": "stream",
     "text": [
      "A todas estas, donde está el alcalde de Ibagué @andresfhurtado?\n",
      "Se le vino la #NarcoMinga del Cauca junto con indígenas del Tolima, y no se ha dado cuenta?\n",
      "Dios lo libre de que no suceda lo mismo que en Cali!\n",
      "#IbagueSeRespeta\n",
      "#NarcoParo\n",
      "#NoMasParo: https://twitter.com/twitter/status/1394728639888084992 → [pos]/neg n\n"
     ]
    },
    {
     "name": "stdout",
     "output_type": "stream",
     "text": [
      "================================================================================\n",
      "================================================================================\n",
      "================================================================================\n"
     ]
    },
    {
     "name": "stdin",
     "output_type": "stream",
     "text": [
      "@NoticiasCaracol Ningún paro nacional, esto pura delincuencia, sed de poder escondida en las protestas sociales, para orquestado y organizado para volver a colombia más miserable de lo que estaba ! Paro guerrillero ! #NoMasParo #NoMasBloqueo: https://twitter.com/twitter/status/1394728634997411840 → [pos]/neg n\n"
     ]
    },
    {
     "name": "stdout",
     "output_type": "stream",
     "text": [
      "================================================================================\n",
      "================================================================================\n",
      "================================================================================\n",
      "================================================================================\n",
      "================================================================================\n",
      "================================================================================\n",
      "================================================================================\n",
      "================================================================================\n"
     ]
    },
    {
     "name": "stdin",
     "output_type": "stream",
     "text": [
      "RT @JuanMartin0211: La comisión de paz del Senado, realizó audiencia pública para escuchar a los jóvenes que han participado del #ParoNacio…: https://twitter.com/twitter/status/1394728572653342721 → [pos]/neg \n"
     ]
    },
    {
     "name": "stdout",
     "output_type": "stream",
     "text": [
      "================================================================================\n",
      "================================================================================\n",
      "================================================================================\n",
      "================================================================================\n",
      "================================================================================\n"
     ]
    },
    {
     "name": "stdin",
     "output_type": "stream",
     "text": [
      "#Buenaventura #BuenaventuraResiste #SOSBuenaventura \n",
      "EXPLOSIÓN PETARDOS \n",
      "RESISTENCIA \n",
      "#UribeDioLaOrden #ElParoNOPara\n",
      " #ColombiaResiste #ColombiaSOS  #SOSOCOLOMBIA #PrimeraLinea #GraciasPrimeraLinea #SOSColombiaDDDHH #ParoNacional17M  #ParoNacional https://t.co/3AA00H1OVk: https://twitter.com/twitter/status/1394728500968427523 → [pos]/neg \n"
     ]
    },
    {
     "name": "stdout",
     "output_type": "stream",
     "text": [
      "================================================================================\n"
     ]
    },
    {
     "name": "stdin",
     "output_type": "stream",
     "text": [
      "@navarrowolff #ParoNacional18M #ParoNacionalColombia #ParoNacional #SOSColombiaDDHH \n",
      "\n",
      "Levantamiento de bloqueos si, sin exceso del uso de la fuerza: https://twitter.com/twitter/status/1394728491921334275 → [pos]/neg \n"
     ]
    },
    {
     "name": "stdout",
     "output_type": "stream",
     "text": [
      "================================================================================\n"
     ]
    },
    {
     "name": "stdin",
     "output_type": "stream",
     "text": [
      "RT @DianaSalinasP: Gobierno caucano denuncia las medidas violentas del gobierno de @IvanDuque y del @mindefensa @Diego_Molano, que estigmat…: https://twitter.com/twitter/status/1394728468525506560 → [pos]/neg p\n"
     ]
    },
    {
     "name": "stdout",
     "output_type": "stream",
     "text": [
      "================================================================================\n"
     ]
    },
    {
     "name": "stdin",
     "output_type": "stream",
     "text": [
      "🚶‍♂️🚶🚶‍♀️#ParoNacional \n",
      "\n",
      "El gobierno de Duque no quiere negociar, se niega a brindar garantías. Le responderemos masivamente en las calles. #ParoNacional19M \n",
      "\n",
      "🔴 Video Promo\n",
      "https://t.co/etUxQKXMdG https://t.co/19fBG67TTu: https://twitter.com/twitter/status/1394728459352649730 → [pos]/neg p\n"
     ]
    },
    {
     "name": "stdout",
     "output_type": "stream",
     "text": [
      "================================================================================\n",
      "================================================================================\n",
      "================================================================================\n",
      "================================================================================\n"
     ]
    },
    {
     "name": "stdin",
     "output_type": "stream",
     "text": [
      "RT @julianpenaOC: Me parece que van a trasladar el #ParoNacional a Venezuela. Le bajaron al novio #CepedaLloraASantrich: https://twitter.com/twitter/status/1394728377345626121 → [pos]/neg \n"
     ]
    },
    {
     "name": "stdout",
     "output_type": "stream",
     "text": [
      "================================================================================\n",
      "================================================================================\n"
     ]
    },
    {
     "name": "stdin",
     "output_type": "stream",
     "text": [
      "@navarrowolff Los desbloqueos se deben hacer inmediatamente sin condicionantes. El diálogo en la mesa debe continuar y ser realista en la peticiones. #NoMasBloqueos #NoMasParo #NoMasCorrupcion: https://twitter.com/twitter/status/1394728323478134789 → [pos]/neg n\n"
     ]
    },
    {
     "name": "stdout",
     "output_type": "stream",
     "text": [
      "================================================================================\n"
     ]
    },
    {
     "name": "stdin",
     "output_type": "stream",
     "text": [
      "RT @ElProgresistaCo: La iban a violar en pleno día ?\n",
      "\n",
      "Juzguen\n",
      "\n",
      "#ParoNacional18M\n",
      "#ParoNacional19M \n",
      "#ParoNacional https://t.co/4F8JQhYT2G: https://twitter.com/twitter/status/1394728290854780930 → [pos]/neg \n"
     ]
    },
    {
     "name": "stdout",
     "output_type": "stream",
     "text": [
      "================================================================================\n",
      "================================================================================\n",
      "================================================================================\n",
      "================================================================================\n",
      "================================================================================\n"
     ]
    },
    {
     "name": "stdin",
     "output_type": "stream",
     "text": [
      "#Buenaventura #BuenaventuraResiste #SOSBuenaventura \n",
      "TODOS SOMOS HIJOS DE LA PATRIA \n",
      "MENOS DUQUE, ESE ES UN  ... ??\n",
      "#UribeDioLaOrden #ElParoNOPara\n",
      " #ColombiaResiste #ColombiaSOS  #SOSOCOLOMBIA #PrimeraLinea #GraciasPrimeraLinea #SOSColombiaDDDHH #ParoNacional18M #ParoNacional https://t.co/CZoEhGwEBW: https://twitter.com/twitter/status/1394728246860787719 → [pos]/neg \n"
     ]
    },
    {
     "name": "stdout",
     "output_type": "stream",
     "text": [
      "================================================================================\n"
     ]
    },
    {
     "name": "stdin",
     "output_type": "stream",
     "text": [
      "RT @labatichicaj: Y todo extremo es lesivo.\n",
      "#YumboResiste #Yumbovalle\n",
      "#ParoNacional18M #ParoAsesino #ParoNacionalColombia #ParoNacionalInde…: https://twitter.com/twitter/status/1394728218960220161 → [pos]/neg \n"
     ]
    },
    {
     "name": "stdout",
     "output_type": "stream",
     "text": [
      "================================================================================\n"
     ]
    },
    {
     "name": "stdin",
     "output_type": "stream",
     "text": [
      "RT @CAHUCOPANA: El día de ayer arribaron al municipio de Caucasia #Antioquia,para unirse al #ParoNacional,  organizaciones campesinas, miem…: https://twitter.com/twitter/status/1394728160932020235 → [pos]/neg \n"
     ]
    },
    {
     "name": "stdout",
     "output_type": "stream",
     "text": [
      "================================================================================\n",
      "================================================================================\n",
      "================================================================================\n",
      "================================================================================\n",
      "================================================================================\n",
      "================================================================================\n"
     ]
    },
    {
     "name": "stdin",
     "output_type": "stream",
     "text": [
      "RT @cmsg1517: \"Sr.\" @velezfutbol Si ud dice en su \"programa\" que la tricolor se usa para luchar, le comento que el pueblo que marcha y usa…: https://twitter.com/twitter/status/1394728054568669189 → [pos]/neg \n"
     ]
    },
    {
     "name": "stdout",
     "output_type": "stream",
     "text": [
      "================================================================================\n"
     ]
    },
    {
     "name": "stdin",
     "output_type": "stream",
     "text": [
      "Informe especial de @bbcmundo @bbcmundo_ultimo sobre #PuertoResistencia #Cali https://t.co/prj7zSIIHV: https://twitter.com/twitter/status/1394728036302471173 → [pos]/neg \n"
     ]
    },
    {
     "name": "stdout",
     "output_type": "stream",
     "text": [
      "================================================================================\n",
      "================================================================================\n"
     ]
    },
    {
     "name": "stdin",
     "output_type": "stream",
     "text": [
      "@CarolayMorales Las cifras apoyan el #ParoNacional, no es posible ocultar a quienes están con necesidades vitales como si fueran enseres\n",
      "Mucho menos a punta de bolillo y bota\n",
      "(lo echo por este unifornado se sale por completo del régimen policial actual. Ojalá y no lo sancionen o lo matoneen ) https://t.co/tGlji37SZe: https://twitter.com/twitter/status/1394727978190397443 → [pos]/neg p\n"
     ]
    },
    {
     "name": "stdout",
     "output_type": "stream",
     "text": [
      "================================================================================\n",
      "================================================================================\n"
     ]
    },
    {
     "name": "stdin",
     "output_type": "stream",
     "text": [
      "(7/N) La muestra, que representa a 4,4 millones de personas –de las cuales 48% trabaja y 22% estudia–, reveló, por ejemplo, que el 84% de los jóvenes se sienten representados por el #ParoNacional.: https://twitter.com/twitter/status/1394727920606883845 → [pos]/neg \n"
     ]
    },
    {
     "name": "stdout",
     "output_type": "stream",
     "text": [
      "================================================================================\n",
      "================================================================================\n",
      "================================================================================\n",
      "================================================================================\n",
      "================================================================================\n"
     ]
    },
    {
     "name": "stdin",
     "output_type": "stream",
     "text": [
      "RT @WNCOCali: Conozca el mapa de la solidaridad caleña #ParoNacional #SOSCaliDDHH #SOSCali https://t.co/4Q0MMpgwJK: https://twitter.com/twitter/status/1394727815430430729 → [pos]/neg \n"
     ]
    },
    {
     "name": "stdout",
     "output_type": "stream",
     "text": [
      "================================================================================\n",
      "================================================================================\n"
     ]
    },
    {
     "name": "stdin",
     "output_type": "stream",
     "text": [
      "RT @TMagisterialBog: La ceguera y sordera de @IvanDuque a cobrado la vida de miles de colombianos en el marco del #ParoNacional, insiste en…: https://twitter.com/twitter/status/1394727754030108674 → [pos]/neg \n"
     ]
    },
    {
     "name": "stdout",
     "output_type": "stream",
     "text": [
      "================================================================================\n",
      "================================================================================\n",
      "================================================================================\n"
     ]
    },
    {
     "name": "stdin",
     "output_type": "stream",
     "text": [
      "RT @asdrubal1963: #Colombia🇨🇴 \n",
      "18 05 2021\n",
      "#NoMásParo vagabundería, No más guachafita \n",
      "HAY QUE METERLE LA MANO AL CONGRESO\n",
      "¡¡¡Independiente…: https://twitter.com/twitter/status/1394727675282042890 → [pos]/neg n\n"
     ]
    },
    {
     "name": "stdout",
     "output_type": "stream",
     "text": [
      "================================================================================\n"
     ]
    },
    {
     "name": "stdin",
     "output_type": "stream",
     "text": [
      "RT @AdidaSindicato: #ElParoNoPara | Este miércoles 19 de mayo gran movilización y caravana por la ciudad de Medellín. Invitamos a toda la c…: https://twitter.com/twitter/status/1394727665689632774 → [pos]/neg p\n"
     ]
    },
    {
     "name": "stdout",
     "output_type": "stream",
     "text": [
      "================================================================================\n",
      "================================================================================\n"
     ]
    },
    {
     "name": "stdin",
     "output_type": "stream",
     "text": [
      "RT @MinDeporteCol: #UnidosTransformamos | Sigue la acción de la pelota naranja en #Cali. Estos serán los juegos de este martes en la Liga P…: https://twitter.com/twitter/status/1394727648920756224 → [pos]/neg \n"
     ]
    },
    {
     "name": "stdout",
     "output_type": "stream",
     "text": [
      "================================================================================\n",
      "================================================================================\n",
      "================================================================================\n"
     ]
    },
    {
     "name": "stdin",
     "output_type": "stream",
     "text": [
      "#Colombia🇨🇴 \n",
      "18 05 2021\n",
      "#NoMásParo vagabundería, No más guachafita \n",
      "HAY QUE METERLE LA MANO AL CONGRESO\n",
      "¡¡¡Independiente de su ideología, hay que respetar la libertad y los derechos de los demás!!!.\n",
      "ASDRUBAL OSORIO PELÁEZ ® \n",
      "#PENSAMIENTOSINFRONTERAS8️⃣AÑOS\n",
      "https://t.co/rCjSHI0LYV: https://twitter.com/twitter/status/1394727624530923520 → [pos]/neg \n"
     ]
    },
    {
     "name": "stdout",
     "output_type": "stream",
     "text": [
      "================================================================================\n",
      "================================================================================\n"
     ]
    },
    {
     "name": "stdin",
     "output_type": "stream",
     "text": [
      "La vida pasa factura.....\n",
      "#ParoNacional18M #ParoAsesino #ParoNacionalColombia #ParoNacionalIndefinido #BogotaEnAlertaRoja #PopayanEsColombia #Cali #Medellin #Pereira #Bogot #Barranquilla #Valledupar #ValleDelCauca #Bucaramanga #Buga #siloecali https://t.co/hUTA5M9a62: https://twitter.com/twitter/status/1394727593837043716 → [pos]/neg \n"
     ]
    },
    {
     "name": "stdout",
     "output_type": "stream",
     "text": [
      "================================================================================\n",
      "================================================================================\n"
     ]
    },
    {
     "name": "stdin",
     "output_type": "stream",
     "text": [
      "RT @PirryEnPelota: @IvanDuque @IvanDuque acusándo a @IvanDuque \n",
      "\n",
      "🐷🤡🐷🤡🐷🤡🐷🤡🐷🤡🐷🤡🐷\n",
      ".\n",
      ".\n",
      ".\n",
      "\n",
      "#ParoNacional #ParoNacional17M #ElParoNoLoParaNadie #…: https://twitter.com/twitter/status/1394727513239261187 → [pos]/neg \n"
     ]
    },
    {
     "name": "stdout",
     "output_type": "stream",
     "text": [
      "================================================================================\n",
      "================================================================================\n"
     ]
    },
    {
     "name": "stdin",
     "output_type": "stream",
     "text": [
      "#Buenaventura #BuenaventuraResiste #SOSBuenaventura \n",
      "TODOS SOMOS BUENAVENTURA HOY \n",
      "RESISTENCIA: Unidos\n",
      "#UribeDioLaOrden #ElParoNOPara\n",
      " #ColombiaResiste #ColombiaSOS  #SOSOCOLOMBIA #PrimeraLinea #GraciasPrimeraLinea #SOSColombiaDDDHH #ParoNacional17M #ParoNacional18M #ParoNacional https://t.co/1lrI4L7Pw1: https://twitter.com/twitter/status/1394727494385868801 → [pos]/neg \n"
     ]
    },
    {
     "name": "stdout",
     "output_type": "stream",
     "text": [
      "================================================================================\n",
      "================================================================================\n"
     ]
    },
    {
     "name": "stdin",
     "output_type": "stream",
     "text": [
      "RT @coeuropa: Les invitamos a que en unos minutos sintonicen el programa #ElLunes de @CanalCapital dirigido por @Rivas_Santiago en donde ab…: https://twitter.com/twitter/status/1394727440279384067 → [pos]/neg \n"
     ]
    },
    {
     "name": "stdout",
     "output_type": "stream",
     "text": [
      "================================================================================\n",
      "================================================================================\n",
      "================================================================================\n",
      "================================================================================\n"
     ]
    },
    {
     "name": "stdin",
     "output_type": "stream",
     "text": [
      "RT @Desinformemonos: En #Colombia, una niña decidió protestar con sus muñecas y unirse a la exigencia de vida digna, en el marco del #ParoN…: https://twitter.com/twitter/status/1394727379617058828 → [pos]/neg \n"
     ]
    },
    {
     "name": "stdout",
     "output_type": "stream",
     "text": [
      "================================================================================\n"
     ]
    },
    {
     "name": "stdin",
     "output_type": "stream",
     "text": [
      "RT @COL_EJERCITO: #FueNoticia | Cerca de 70 mujeres entre oficiales y suboficiales, están encargadas de apoyar a las diferentes patrullas q…: https://twitter.com/twitter/status/1394727350651215873 → [pos]/neg \n"
     ]
    },
    {
     "name": "stdout",
     "output_type": "stream",
     "text": [
      "================================================================================\n"
     ]
    },
    {
     "name": "stdin",
     "output_type": "stream",
     "text": [
      "RT @cedielmarin: Aaaa que bien, quedamos muy tranquilos alcalde.\n",
      "\n",
      "#ParoNacional\n",
      "#NoALaReformaALaSalud https://t.co/HYW3EKHZbE: https://twitter.com/twitter/status/1394727348164075520 → [pos]/neg \n"
     ]
    },
    {
     "name": "stdout",
     "output_type": "stream",
     "text": [
      "================================================================================\n",
      "================================================================================\n",
      "================================================================================\n",
      "================================================================================\n",
      "================================================================================\n",
      "================================================================================\n"
     ]
    },
    {
     "name": "stdin",
     "output_type": "stream",
     "text": [
      "Y pretenden cocinar “acuerdos\" #YumboResiste\n",
      "#ParoNacional18M #ParoAsesino #ParoNacionalColombia #ParoNacionalIndefinido #BogotaEnAlertaRoja #PopayanEsColombia #Cali #Medellin #Pereira #Bogota #Barranquilla #Valledupar #ValleDelCauca #Bucaramanga #Buga #siloecali https://t.co/zN7GljaMHn: https://twitter.com/twitter/status/1394727194597941250 → [pos]/neg \n"
     ]
    },
    {
     "name": "stdout",
     "output_type": "stream",
     "text": [
      "================================================================================\n"
     ]
    },
    {
     "name": "stdin",
     "output_type": "stream",
     "text": [
      "Las cuatro salidas que tiene Colombia: https://t.co/ZZXusRG0Rf a través de @YouTube #ParoNacional: https://twitter.com/twitter/status/1394727184628133889 → [pos]/neg \n"
     ]
    },
    {
     "name": "stdout",
     "output_type": "stream",
     "text": [
      "================================================================================\n",
      "================================================================================\n",
      "================================================================================\n",
      "================================================================================\n",
      "================================================================================\n",
      "================================================================================\n",
      "================================================================================\n",
      "================================================================================\n",
      "================================================================================\n",
      "================================================================================\n",
      "================================================================================\n",
      "================================================================================\n",
      "================================================================================\n"
     ]
    },
    {
     "name": "stdin",
     "output_type": "stream",
     "text": [
      "Difundan la estrategias cometidas por maduro para retener a los manifestantes se usa por el presidente Iván duque #SOSColmbia #Colombia #ColombiaSomosTodos #ParoNacional https://t.co/KWlQI1S8F2: https://twitter.com/twitter/status/1394726931011145730 → [pos]/neg \n"
     ]
    },
    {
     "name": "stdout",
     "output_type": "stream",
     "text": [
      "================================================================================\n",
      "================================================================================\n",
      "================================================================================\n",
      "================================================================================\n"
     ]
    },
    {
     "name": "stdin",
     "output_type": "stream",
     "text": [
      "RT @juancaleyva: @DiegoASantos TAL CUAL, ESA ES LA REALIDAD ACTUAL, no mas humo, que la gente trabajadora no como cuento #EstamosMamaosDelP…: https://twitter.com/twitter/status/1394726881971351557 → [pos]/neg n\n"
     ]
    },
    {
     "name": "stdout",
     "output_type": "stream",
     "text": [
      "================================================================================\n",
      "================================================================================\n",
      "================================================================================\n",
      "================================================================================\n"
     ]
    },
    {
     "name": "stdin",
     "output_type": "stream",
     "text": [
      "RT @ChicaJaneiro: Si saliéramos del colegio en 5º de primaria, tendríamos más astronautas que abogados.\n",
      ".\n",
      ".\n",
      ".\n",
      "\n",
      "#colegio #sueña #metoo #YoTe…: https://twitter.com/twitter/status/1394726797175136264 → [pos]/neg \n"
     ]
    },
    {
     "name": "stdout",
     "output_type": "stream",
     "text": [
      "================================================================================\n",
      "================================================================================\n",
      "================================================================================\n"
     ]
    },
    {
     "name": "stdin",
     "output_type": "stream",
     "text": [
      "Como me duele mi patria 😭😢😓😣😥\n",
      "#ParoNacional18M #ParoAsesino #ParoNacionalColombia #ParoNacionalIndefinido #BogotaEnAlertaRoja #PopayanEsColombia #Cali #Medellin #Pereira #Barranquilla #Valledupar #ValleDelCauca #Bucaramanga #Buga #siloecali #YumboResiste https://t.co/oqOtpsxVGK: https://twitter.com/twitter/status/1394726699556872198 → [pos]/neg \n"
     ]
    },
    {
     "name": "stdout",
     "output_type": "stream",
     "text": [
      "================================================================================\n",
      "================================================================================\n"
     ]
    },
    {
     "name": "stdin",
     "output_type": "stream",
     "text": [
      "RT @Paozroca1: Si si se murió! Bien por Colombia, ahora sigamos con lo nuestro lo realmente importante, no se me distraigan #ParoNacional #…: https://twitter.com/twitter/status/1394726637703417868 → [pos]/neg \n"
     ]
    },
    {
     "name": "stdout",
     "output_type": "stream",
     "text": [
      "================================================================================\n",
      "================================================================================\n",
      "================================================================================\n",
      "================================================================================\n",
      "================================================================================\n"
     ]
    },
    {
     "name": "stdin",
     "output_type": "stream",
     "text": [
      "@CNNEE @GiovanniPolanc1 Lo único que hay de verdad es que este es un paro guerrilero disfrazado de protesta social, problemáticas las tenemos todas en colombia pero estos bellacos han formado caos aprovechándose d los que salen a marchar y hoy se creen victimas. Es lo que buscaban ! #NoMasParo: https://twitter.com/twitter/status/1394726566731583490 → [pos]/neg n\n"
     ]
    },
    {
     "name": "stdout",
     "output_type": "stream",
     "text": [
      "================================================================================\n"
     ]
    },
    {
     "name": "stdin",
     "output_type": "stream",
     "text": [
      "RT @Jonathantudeccs: Colombia\n",
      "Comunicado del Comité Nacional de Paro\n",
      "#ElParoNOPara\n",
      "#SOSYumbo\n",
      "#SOSColombiaNosEstanMatando\n",
      "\n",
      "#ColombiaEnAlerta…: https://twitter.com/twitter/status/1394726529754669057 → [pos]/neg \n"
     ]
    },
    {
     "name": "stdout",
     "output_type": "stream",
     "text": [
      "================================================================================\n",
      "================================================================================\n"
     ]
    },
    {
     "name": "stdin",
     "output_type": "stream",
     "text": [
      "RT @Jeison_HeroeCNN: 1559 muertes por covid  el último fin de semana en Colombia y siguen convocando a paros, movilizaciónes y bloqueos\n",
      "no…: https://twitter.com/twitter/status/1394726514915225603 → [pos]/neg n\n"
     ]
    },
    {
     "name": "stdout",
     "output_type": "stream",
     "text": [
      "================================================================================\n"
     ]
    },
    {
     "name": "stdin",
     "output_type": "stream",
     "text": [
      "RT @Alejandro_9306: @ClaraLuzRoldan @COL_EJERCITO Estimada Gobernadora, Esta es la indignación de todo el pueblo #Vallecaucano que ha visto…: https://twitter.com/twitter/status/1394726497202675713 → [pos]/neg \n"
     ]
    },
    {
     "name": "stdout",
     "output_type": "stream",
     "text": [
      "================================================================================\n"
     ]
    },
    {
     "name": "stdin",
     "output_type": "stream",
     "text": [
      "RT @unakarent1214: Bueno, ahí está. Interesante Pincelazo de lo que sucede en Cali, en el marco del #ParoNacionalColombia \n",
      "#ParoNacional18M…: https://twitter.com/twitter/status/1394726471059525633 → [pos]/neg \n"
     ]
    },
    {
     "name": "stdout",
     "output_type": "stream",
     "text": [
      "================================================================================\n"
     ]
    },
    {
     "name": "stdin",
     "output_type": "stream",
     "text": [
      "RT @VoragineCo: Nuestra periodista y cofundadora @laiabu participó con @IbarraSocarras en este debate muy interesante sobre el papel de los…: https://twitter.com/twitter/status/1394726442643169280 → [pos]/neg \n"
     ]
    },
    {
     "name": "stdout",
     "output_type": "stream",
     "text": [
      "================================================================================\n",
      "================================================================================\n"
     ]
    },
    {
     "name": "stdin",
     "output_type": "stream",
     "text": [
      "RT @CastillaSenador: ⚠️ #ALERTA | Solicitamos a instituciones de control y organismos internacionales de DDHH a hacer presencia y seguimien…: https://twitter.com/twitter/status/1394726408988073986 → [pos]/neg p\n"
     ]
    },
    {
     "name": "stdout",
     "output_type": "stream",
     "text": [
      "================================================================================\n",
      "================================================================================\n"
     ]
    },
    {
     "name": "stdin",
     "output_type": "stream",
     "text": [
      "RT @laula_7: Si se murió Santrich, se murió, punto. Esta noticia no me va a quitar la vista de lo que hace el ESMAD con la primera línea en…: https://twitter.com/twitter/status/1394726319569637378 → [pos]/neg \n"
     ]
    },
    {
     "name": "stdout",
     "output_type": "stream",
     "text": [
      "================================================================================\n"
     ]
    },
    {
     "name": "stdin",
     "output_type": "stream",
     "text": [
      "RT @JotaGomez8: @petrogustavo Esto es un asunto de familias, esposas, esposos, no solo de hijos e hijas. Toda la sociedad Colombiana a la c…: https://twitter.com/twitter/status/1394726310774251524 → [pos]/neg \n"
     ]
    },
    {
     "name": "stdout",
     "output_type": "stream",
     "text": [
      "================================================================================\n",
      "================================================================================\n"
     ]
    },
    {
     "name": "stdin",
     "output_type": "stream",
     "text": [
      "RT @MalaMMujer: Mis chinos fuerza carajo !!!! #ParoNacional #ParoNacionalIndefinido #ColombiaResiste #ColombiaAlertaRoja https://t.co/2JqWH…: https://twitter.com/twitter/status/1394726264028663813 → [pos]/neg \n"
     ]
    },
    {
     "name": "stdout",
     "output_type": "stream",
     "text": [
      "================================================================================\n",
      "================================================================================\n",
      "================================================================================\n",
      "================================================================================\n",
      "================================================================================\n"
     ]
    },
    {
     "name": "stdin",
     "output_type": "stream",
     "text": [
      "RT @taticas32841353: Alucinando, comparto porque creía que era imposible que existieran personas que pensaran así, esto nos abre los ojos,…: https://twitter.com/twitter/status/1394726241249472522 → [pos]/neg \n"
     ]
    },
    {
     "name": "stdout",
     "output_type": "stream",
     "text": [
      "================================================================================\n"
     ]
    },
    {
     "name": "stdin",
     "output_type": "stream",
     "text": [
      "RT @pierrealee: Espero que @MargaritaRepo sea llamada a juicio por compra de votos, con dineros del narco “Popeye”. #ParoNacional: https://twitter.com/twitter/status/1394726231795449859 → [pos]/neg \n"
     ]
    },
    {
     "name": "stdout",
     "output_type": "stream",
     "text": [
      "================================================================================\n",
      "================================================================================\n",
      "================================================================================\n",
      "================================================================================\n",
      "================================================================================\n",
      "================================================================================\n",
      "================================================================================\n"
     ]
    },
    {
     "name": "stdin",
     "output_type": "stream",
     "text": [
      "RT @soldado_wilson: Gracias por tan valiosa información yo creo q ni @infopresidencia sabe de esto están lejos de la realidad y gobierno lo…: https://twitter.com/twitter/status/1394726187918893059 → [pos]/neg \n"
     ]
    },
    {
     "name": "stdout",
     "output_type": "stream",
     "text": [
      "================================================================================\n"
     ]
    },
    {
     "name": "stdin",
     "output_type": "stream",
     "text": [
      "RT @Declaracion: #Colombia🇨🇴 Continúa el goteo de víctimas de ataques a los derechos humanos en Bogotá, Cali, Barranquilla, Pereira, Medell…: https://twitter.com/twitter/status/1394726149603971074 → [pos]/neg \n"
     ]
    },
    {
     "name": "stdout",
     "output_type": "stream",
     "text": [
      "================================================================================\n",
      "================================================================================\n"
     ]
    },
    {
     "name": "stdin",
     "output_type": "stream",
     "text": [
      "#SOSColmbia #SOSCali #Anonymous #cali #siloe \n",
      "#siloecali #Bogota #CaliEnAlertaRoja #CaliSeRespeta #CaliEnPeligro #SiloeSOS #buga #Buga #CALIESTACENSURADO #BogotaEnAlerta #SOSColombiaDDHH #Pasto\n",
      "\n",
      "Las cuatro salidas que tiene Colombia: https://t.co/Wb4tE8GLud a través de @YouTube: https://twitter.com/twitter/status/1394726108424179712 → [pos]/neg \n"
     ]
    },
    {
     "name": "stdout",
     "output_type": "stream",
     "text": [
      "================================================================================\n",
      "================================================================================\n"
     ]
    },
    {
     "name": "stdin",
     "output_type": "stream",
     "text": [
      "17/ mayo / 2021 Yumbo fuerza del ejército pidió negociar contra las fuerzas de esmard y fueron rociados  base de gases, ellos no aceptan negociaciones #SOSColmbia #Colombia #ColombiaSomosTodos #ParoNacional https://t.co/bo8v6mZdAD: https://twitter.com/twitter/status/1394726043769085954 → [pos]/neg \n"
     ]
    },
    {
     "name": "stdout",
     "output_type": "stream",
     "text": [
      "================================================================================\n",
      "================================================================================\n",
      "================================================================================\n",
      "================================================================================\n",
      "================================================================================\n",
      "================================================================================\n",
      "================================================================================\n",
      "================================================================================\n",
      "================================================================================\n",
      "================================================================================\n",
      "================================================================================\n",
      "================================================================================\n",
      "================================================================================\n",
      "================================================================================\n"
     ]
    },
    {
     "name": "stdin",
     "output_type": "stream",
     "text": [
      "RT @diazflorezjohn: #ParoNacional en colombia no paran las masacres y asesinatos a líderes sociales #MilMinutos @TuMuevesCol\n",
      "@uniamericas @…: https://twitter.com/twitter/status/1394725790076620800 → [pos]/neg p\n"
     ]
    },
    {
     "name": "stdout",
     "output_type": "stream",
     "text": [
      "================================================================================\n",
      "================================================================================\n"
     ]
    },
    {
     "name": "stdin",
     "output_type": "stream",
     "text": [
      "RT @svarga10: Una pregunta muy seria.\n",
      "Cuanta gente se siente representada por las centrales obreras?  #ParoNacional: https://twitter.com/twitter/status/1394725773127397376 → [pos]/neg \n"
     ]
    },
    {
     "name": "stdout",
     "output_type": "stream",
     "text": [
      "================================================================================\n",
      "================================================================================\n",
      "================================================================================\n",
      "================================================================================\n",
      "================================================================================\n"
     ]
    },
    {
     "name": "stdin",
     "output_type": "stream",
     "text": [
      "Ansío el momento en el que los medios podamos titular “Se levanta el paro nacional en Colombia”. \n",
      "\n",
      "#ParoNacional18M #ParoNacionalColombia #ParoNacional\n",
      "#ParoNacionalIndefinido: https://twitter.com/twitter/status/1394725704219172874 → [pos]/neg \n"
     ]
    },
    {
     "name": "stdout",
     "output_type": "stream",
     "text": [
      "================================================================================\n",
      "================================================================================\n",
      "================================================================================\n"
     ]
    },
    {
     "name": "stdin",
     "output_type": "stream",
     "text": [
      "Esto pasó en Yumbo quienes lo policías destrozaron todo el lugar puesto por los pueblos indígenas en dónde se cuidaban a civiles heridos por la policía y fuerzas esmard #SOSColmbia #Colombia #ColombiaSomosTodos #ParoNacional https://t.co/zw9ubyQD58: https://twitter.com/twitter/status/1394725684279382017 → [pos]/neg \n"
     ]
    },
    {
     "name": "stdout",
     "output_type": "stream",
     "text": [
      "================================================================================\n"
     ]
    },
    {
     "name": "stdin",
     "output_type": "stream",
     "text": [
      "RT @LinaLeo73908100: Ahora o nunca.\n",
      "#ParoNacional \n",
      "#ParoIndefinido \n",
      "#ParoNacional19M \n",
      "#NosEstanMantando \n",
      "#DuqueAsesino \n",
      "#DuqueDictador \n",
      "#Ur…: https://twitter.com/twitter/status/1394725657234522112 → [pos]/neg \n"
     ]
    },
    {
     "name": "stdout",
     "output_type": "stream",
     "text": [
      "================================================================================\n"
     ]
    },
    {
     "name": "stdin",
     "output_type": "stream",
     "text": [
      "@lcvelez @lafm Si a colombia la volvieron una nada en 1 mes estos bellacos con este paro criminal, cómo sería que subieran al poder los dueños de estos movimientos. #NoMasParo #NoMasBloqueos: https://twitter.com/twitter/status/1394725635763937284 → [pos]/neg n\n"
     ]
    },
    {
     "name": "stdout",
     "output_type": "stream",
     "text": [
      "================================================================================\n",
      "================================================================================\n",
      "================================================================================\n",
      "================================================================================\n"
     ]
    },
    {
     "name": "stdin",
     "output_type": "stream",
     "text": [
      "RT @PizarroMariaJo: Se le acabó el librero al Presidente. Muy grave que no responda por los muertos y desaparecidos en las marchas del #Par…: https://twitter.com/twitter/status/1394725574816452615 → [pos]/neg p\n"
     ]
    },
    {
     "name": "stdout",
     "output_type": "stream",
     "text": [
      "================================================================================\n",
      "================================================================================\n",
      "================================================================================\n",
      "================================================================================\n",
      "================================================================================\n",
      "================================================================================\n",
      "================================================================================\n",
      "================================================================================\n",
      "================================================================================\n"
     ]
    },
    {
     "name": "stdin",
     "output_type": "stream",
     "text": [
      "RT @Orlando14285774: #ParoNacional18M \n",
      "#yosoyguardiaindigena \n",
      "#ParoNacionalIndefinido \n",
      "El #ParoNacional no lo para nada ni nadie. Ni el tít…: https://twitter.com/twitter/status/1394725371266875394 → [pos]/neg \n"
     ]
    },
    {
     "name": "stdout",
     "output_type": "stream",
     "text": [
      "================================================================================\n",
      "================================================================================\n",
      "================================================================================\n",
      "================================================================================\n"
     ]
    },
    {
     "name": "stdin",
     "output_type": "stream",
     "text": [
      "RT @PacoApostol: Jóvenes, los verdaderos HÉROES.\n",
      "Respaldo total #ParoNacional https://t.co/LFoyGN1juQ: https://twitter.com/twitter/status/1394725307194691590 → [pos]/neg \n"
     ]
    },
    {
     "name": "stdout",
     "output_type": "stream",
     "text": [
      "================================================================================\n"
     ]
    },
    {
     "name": "stdin",
     "output_type": "stream",
     "text": [
      "RT @pierrealee: Esto sucede desde la @PoliciaColombia contra el #ParoNacional: La más grave violación de DDHH.\n",
      "@CIDH #SOSColombiaDDHH https…: https://twitter.com/twitter/status/1394725295819788292 → [pos]/neg \n"
     ]
    },
    {
     "name": "stdout",
     "output_type": "stream",
     "text": [
      "================================================================================\n",
      "================================================================================\n",
      "================================================================================\n"
     ]
    },
    {
     "name": "stdin",
     "output_type": "stream",
     "text": [
      "Fuerza médica es llevada por la policía, estás personas de servicio médico fueron arrestadas sin justificación, si no se sabe nada de ellas la policía es responsable #SOSColmbia #Colombia #ColombiaSomosTodos #ParoNacional https://t.co/Rg9WuIJWih: https://twitter.com/twitter/status/1394725271715131399 → [pos]/neg \n"
     ]
    },
    {
     "name": "stdout",
     "output_type": "stream",
     "text": [
      "================================================================================\n",
      "================================================================================\n",
      "================================================================================\n"
     ]
    },
    {
     "name": "stdin",
     "output_type": "stream",
     "text": [
      "@WRadioColombia @IvanDuque @Laurasanchez83 @lfzambranos Hoy más que nunca hay q apoyar la institucionalidad, para estos bellacos del paro no existe respeto alguno solo creen en su única verdad y su sed de poder! Paro guerrillero y criminal disfrazado de protesta social. #NoMasBloqueos #NoMasParo: https://twitter.com/twitter/status/1394725196418924552 → [pos]/neg n\n"
     ]
    },
    {
     "name": "stdout",
     "output_type": "stream",
     "text": [
      "================================================================================\n"
     ]
    },
    {
     "name": "stdin",
     "output_type": "stream",
     "text": [
      "RT @pierrealee: Las armas que acompañan a los jóvenes en la protesta, los libros, es por eso que la @PoliciaColombia que no lee, no entiend…: https://twitter.com/twitter/status/1394725103364157444 → [pos]/neg p\n"
     ]
    },
    {
     "name": "stdout",
     "output_type": "stream",
     "text": [
      "================================================================================\n"
     ]
    },
    {
     "name": "stdin",
     "output_type": "stream",
     "text": [
      "Estas son las cifras oficiales de los 17 días de paro nacional en Colombia y posiblemente a día de hoy los números aumenten #SOSColmbia #SOSColombiaEnDictadura #ColombiaSomosTodos #ParoNacional https://t.co/QeXYnwU0jW: https://twitter.com/twitter/status/1394725081654480899 → [pos]/neg \n"
     ]
    },
    {
     "name": "stdout",
     "output_type": "stream",
     "text": [
      "================================================================================\n",
      "================================================================================\n",
      "================================================================================\n"
     ]
    },
    {
     "name": "stdin",
     "output_type": "stream",
     "text": [
      "@BluRadioCo #NoMasParo son criminales, pueden decir lo que sea, los hechos hablan por si solos, muchos marchantes son criminales y los otros son cómplices y deben ser tratados como tal. El derecho a la marcha no es derecho a destruir, ni generar miedo y pobreza.: https://twitter.com/twitter/status/1394725009839505415 → [pos]/neg n\n"
     ]
    },
    {
     "name": "stdout",
     "output_type": "stream",
     "text": [
      "================================================================================\n"
     ]
    },
    {
     "name": "stdin",
     "output_type": "stream",
     "text": [
      "RT @LMmartinez: @VickyDavilaH Gracias a Dios. Siiiii ya era hora. No más vándalos. #NoMasBloqueos #NoMasParo   Con toda presidente @IvanDuq…: https://twitter.com/twitter/status/1394724980106174466 → [pos]/neg n\n"
     ]
    },
    {
     "name": "stdout",
     "output_type": "stream",
     "text": [
      "================================================================================\n",
      "================================================================================\n",
      "================================================================================\n",
      "================================================================================\n",
      "================================================================================\n",
      "================================================================================\n",
      "================================================================================\n"
     ]
    },
    {
     "name": "stdin",
     "output_type": "stream",
     "text": [
      "RT @FelipeDRojas: La Guardia Indígena acompañando la mesa de concertación amplia y democrática en el municipio de Pradera en el Valle del C…: https://twitter.com/twitter/status/1394724831615139850 → [pos]/neg p\n"
     ]
    },
    {
     "name": "stdout",
     "output_type": "stream",
     "text": [
      "================================================================================\n",
      "================================================================================\n",
      "================================================================================\n"
     ]
    },
    {
     "name": "stdin",
     "output_type": "stream",
     "text": [
      "RT @castiliae: Uno para todos y todos para uno. Resistencia!! #ParoNacional18M #ParoNacional #SOSColombiaNosEstanMatando @Betocoralg @MeDic…: https://twitter.com/twitter/status/1394724799977508866 → [pos]/neg p\n"
     ]
    },
    {
     "name": "stdout",
     "output_type": "stream",
     "text": [
      "================================================================================\n"
     ]
    },
    {
     "name": "stdin",
     "output_type": "stream",
     "text": [
      "@Susanadeleonc @oscar_concha Par de buitres con sed de poder, solo Dios los castigará por tanto incendio y división que han creado en el país. #NoMasParo #NoMasBloqueos: https://twitter.com/twitter/status/1394724788371873793 → [pos]/neg \n"
     ]
    },
    {
     "name": "stdout",
     "output_type": "stream",
     "text": [
      "================================================================================\n"
     ]
    },
    {
     "name": "stdin",
     "output_type": "stream",
     "text": [
      "RT @Agencia_API: #ParoNacional18M #ParoNacional #Colombia \n",
      "📍🇨🇴 #18Mayo  Puntos de concentración en Bogotá\n",
      "\n",
      "👉 https://t.co/LHbyn8CR44 https:…: https://twitter.com/twitter/status/1394724774488821760 → [pos]/neg \n"
     ]
    },
    {
     "name": "stdout",
     "output_type": "stream",
     "text": [
      "================================================================================\n",
      "================================================================================\n",
      "================================================================================\n",
      "================================================================================\n",
      "================================================================================\n",
      "================================================================================\n",
      "================================================================================\n",
      "================================================================================\n"
     ]
    },
    {
     "name": "stdin",
     "output_type": "stream",
     "text": [
      "RT @DiegoHD42501510: La fórmula para  20 días a #ParoNacional  NO es la militarización ni la violencia represiva. La respuesta es dar garan…: https://twitter.com/twitter/status/1394724641428606978 → [pos]/neg \n"
     ]
    },
    {
     "name": "stdout",
     "output_type": "stream",
     "text": [
      "================================================================================\n",
      "================================================================================\n",
      "================================================================================\n",
      "================================================================================\n"
     ]
    },
    {
     "name": "stdin",
     "output_type": "stream",
     "text": [
      "Estados unidos y reino unido han firmado para que la venta de material antidisturbios sea revocada a Colombia esto después de el abuso de poder que los policías cometen #SOSColmbia #Colombia  #ColombiaSomosTodos #ParoNacional https://t.co/h5nc0DqwER: https://twitter.com/twitter/status/1394724566409400332 → [pos]/neg \n"
     ]
    },
    {
     "name": "stdout",
     "output_type": "stream",
     "text": [
      "================================================================================\n",
      "================================================================================\n"
     ]
    },
    {
     "name": "stdin",
     "output_type": "stream",
     "text": [
      "Si @petrogustavo toma el liderazgo de las protestas, dirán que es oportunista; si no lo toma, que es incendiario y no promueve el diálogo. Complicado así. Duque debe sentarse con los jóvenes que están en las calles. #ParoNacional #ParoNacional19M: https://twitter.com/twitter/status/1394724565419446273 → [pos]/neg \n"
     ]
    },
    {
     "name": "stdout",
     "output_type": "stream",
     "text": [
      "================================================================================\n"
     ]
    },
    {
     "name": "stdin",
     "output_type": "stream",
     "text": [
      "El alcalde de #Cali , de la crisis de los bloqueos a la crisis política. \n",
      "https://t.co/8xcBrDpJ89: https://twitter.com/twitter/status/1394724527083593729 → [pos]/neg \n"
     ]
    },
    {
     "name": "stdout",
     "output_type": "stream",
     "text": [
      "================================================================================\n",
      "================================================================================\n",
      "================================================================================\n",
      "================================================================================\n",
      "================================================================================\n",
      "================================================================================\n",
      "================================================================================\n",
      "================================================================================\n",
      "================================================================================\n",
      "================================================================================\n",
      "================================================================================\n",
      "================================================================================\n",
      "================================================================================\n",
      "================================================================================\n",
      "================================================================================\n",
      "================================================================================\n",
      "================================================================================\n",
      "================================================================================\n"
     ]
    },
    {
     "name": "stdin",
     "output_type": "stream",
     "text": [
      "@DiegoASantos TAL CUAL, ESA ES LA REALIDAD ACTUAL, no mas humo, que la gente trabajadora no como cuento #EstamosMamaosDelParo #NoMasBloqueos #NoMasParo #NoMasPetro #NoMasViolencia: https://twitter.com/twitter/status/1394724264201363463 → [pos]/neg \n"
     ]
    },
    {
     "name": "stdout",
     "output_type": "stream",
     "text": [
      "================================================================================\n"
     ]
    },
    {
     "name": "stdin",
     "output_type": "stream",
     "text": [
      "RT @LaVueltaMed: Mañana vamos a estrenar los 'Espacios' de twitter para hablar de las peleas familiares que muchos hemos tenido de cuenta d…: https://twitter.com/twitter/status/1394724258727796739 → [pos]/neg \n"
     ]
    },
    {
     "name": "stdout",
     "output_type": "stream",
     "text": [
      "================================================================================\n",
      "================================================================================\n"
     ]
    },
    {
     "name": "stdin",
     "output_type": "stream",
     "text": [
      "RT @MoviceValle: 🆘 CALI 🆘\n",
      "\n",
      "@IvanDuque militarizó #Cali muchos barrios están fuertemente militarizado.\n",
      "\n",
      "#duquemandóamatarnos https://t.co/4I…: https://twitter.com/twitter/status/1394724251475795969 → [pos]/neg \n"
     ]
    },
    {
     "name": "stdout",
     "output_type": "stream",
     "text": [
      "================================================================================\n",
      "================================================================================\n"
     ]
    },
    {
     "name": "stdin",
     "output_type": "stream",
     "text": [
      "Uno para todos y todos para uno. Resistencia!! #ParoNacional18M #ParoNacional #SOSColombiaNosEstanMatando @Betocoralg @MeDicenWally @LevyRincon https://t.co/43eN4ZKqEB: https://twitter.com/twitter/status/1394724235441065986 → [pos]/neg \n"
     ]
    },
    {
     "name": "stdout",
     "output_type": "stream",
     "text": [
      "================================================================================\n",
      "================================================================================\n"
     ]
    },
    {
     "name": "stdin",
     "output_type": "stream",
     "text": [
      "RT @ClaudiaDHoy: #empatía #escucharelclamordelpueblo eso es lo que debe hacer un VERDADERO líder nacional. #sintonía #empatia #dejelasoberb…: https://twitter.com/twitter/status/1394724219573915649 → [pos]/neg \n"
     ]
    },
    {
     "name": "stdout",
     "output_type": "stream",
     "text": [
      "================================================================================\n",
      "================================================================================\n",
      "================================================================================\n"
     ]
    },
    {
     "name": "stdin",
     "output_type": "stream",
     "text": [
      "RT @FIANColombia: Dentro de las exigencias del Grupo de ONG -LAC en Ginebra esta que el Estado colombiano responda por las personas desapar…: https://twitter.com/twitter/status/1394724176485879814 → [pos]/neg \n"
     ]
    },
    {
     "name": "stdout",
     "output_type": "stream",
     "text": [
      "================================================================================\n"
     ]
    },
    {
     "name": "stdin",
     "output_type": "stream",
     "text": [
      "RT @CRIC_Cauca: Después de las declaraciones del Presidente Duque, el Consejo Regional #Indígena del Cauca-#CRIC refuerza con 3mil guardias…: https://twitter.com/twitter/status/1394724167505825793 → [pos]/neg \n"
     ]
    },
    {
     "name": "stdout",
     "output_type": "stream",
     "text": [
      "================================================================================\n"
     ]
    },
    {
     "name": "stdin",
     "output_type": "stream",
     "text": [
      "Además, extendimos la invitación a respetar la movilización indígena como expresión ciudadana y no violenta de los pueblos ancestrales que buscan ser escuchados en el marco del #ParoNacional a través del arte, la cultura y el deporte 🏳️💙. #SinViolencia https://t.co/ngz3pm8aqt: https://twitter.com/twitter/status/1394724160430088195 → [pos]/neg \n"
     ]
    },
    {
     "name": "stdout",
     "output_type": "stream",
     "text": [
      "================================================================================\n"
     ]
    },
    {
     "name": "stdin",
     "output_type": "stream",
     "text": [
      "@WRadioColombia Excelente, pero es lo q quieren estos vagos q los enfrenten para que digan “nos están matando “ !!! Paro guerrillero y político disfrazado de protesta social! Si así volvieron a Colombia en 1 mes, que tal que suban al poder alguno de estos bellacos #NoMasParo #NoMasBloqueos: https://twitter.com/twitter/status/1394724159503147009 → [pos]/neg n\n"
     ]
    },
    {
     "name": "stdout",
     "output_type": "stream",
     "text": [
      "================================================================================\n"
     ]
    },
    {
     "name": "stdin",
     "output_type": "stream",
     "text": [
      "RT @Vidales2Luis: En Huila encapuchados acaban con biblioteca, se nota que estos señores son unos ignorantes. \n",
      "#ParoNacional18M #ParoNacion…: https://twitter.com/twitter/status/1394724145963929602 → [pos]/neg n\n"
     ]
    },
    {
     "name": "stdout",
     "output_type": "stream",
     "text": [
      "================================================================================\n",
      "================================================================================\n",
      "================================================================================\n"
     ]
    },
    {
     "name": "stdin",
     "output_type": "stream",
     "text": [
      "RT @BRS_COL: El Barón Rojo Sur estará presente en la marcha más grande de Colombia, nos vemos este 19 de mayo a la 1p.m. en el parque de la…: https://twitter.com/twitter/status/1394724065139695619 → [pos]/neg \n"
     ]
    },
    {
     "name": "stdout",
     "output_type": "stream",
     "text": [
      "================================================================================\n",
      "================================================================================\n"
     ]
    },
    {
     "name": "stdin",
     "output_type": "stream",
     "text": [
      "#Buenaventura #BuenaventuraResiste #SOSBuenaventura \n",
      "EL ARTE COMO LA EXPRESIÓN DEL ALMA\n",
      "#UribeDioLaOrden #ElParoNOPara\n",
      " #ColombiaResiste #ColombiaSOS  #SOSOCOLOMBIA #PrimeraLinea #GraciasPrimeraLinea #SOSColombiaDDDHH #ParoNacional17M #ParoNacional18M #ParoNacional https://t.co/XbJ7YVjbok: https://twitter.com/twitter/status/1394724057011179527 → [pos]/neg \n"
     ]
    },
    {
     "name": "stdout",
     "output_type": "stream",
     "text": [
      "================================================================================\n",
      "================================================================================\n",
      "================================================================================\n"
     ]
    },
    {
     "name": "stdin",
     "output_type": "stream",
     "text": [
      "RT @Agencia_API: #Colombia #Bogota #ParoNacional \n",
      "🔴🇨🇴 Crítica situación de @TransMilenio \n",
      "\n",
      "⭕️ 139 estaciones 61 están afectadas\n",
      "⭕️53 estaci…: https://twitter.com/twitter/status/1394724041127350274 → [pos]/neg \n"
     ]
    },
    {
     "name": "stdout",
     "output_type": "stream",
     "text": [
      "================================================================================\n",
      "================================================================================\n"
     ]
    },
    {
     "name": "stdin",
     "output_type": "stream",
     "text": [
      "#LeCuentoEl18M📍Medellín, Antioquia\n",
      "\n",
      "Hoy al medio día comienza la movilización de la Minga indígena de Antioquia desde Punto Clave.\n",
      "\n",
      "Abro hilo ⛓⬇️\n",
      "\n",
      "#SOSColombia #ParoNacional ✊ https://t.co/yizChQPZWv: https://twitter.com/twitter/status/1394724012425613317 → [pos]/neg p\n"
     ]
    },
    {
     "name": "stdout",
     "output_type": "stream",
     "text": [
      "================================================================================\n"
     ]
    },
    {
     "name": "stdin",
     "output_type": "stream",
     "text": [
      "RT @Tercer_Canal: #ATENCION\n",
      "\n",
      "A partir de las 12:30pm toda la información en el día 21 de #ParoNacional\n",
      "\n",
      "Toda la información aquí ⬇️\n",
      "https:/…: https://twitter.com/twitter/status/1394723987859681282 → [pos]/neg \n"
     ]
    },
    {
     "name": "stdout",
     "output_type": "stream",
     "text": [
      "================================================================================\n"
     ]
    },
    {
     "name": "stdin",
     "output_type": "stream",
     "text": [
      "Mujer es atacada dejando heridas graves por parte de la policía, estás personas corren de la policía quienes tienen ordenes de matar o capturar a estas personas #SOSColmbia #Colombia #ColombiaSomosTodos #SOSColmbia #ParoNacional https://t.co/ZtIXwxtTPa: https://twitter.com/twitter/status/1394723954028425218 → [pos]/neg \n"
     ]
    },
    {
     "name": "stdout",
     "output_type": "stream",
     "text": [
      "================================================================================\n",
      "================================================================================\n",
      "================================================================================\n",
      "================================================================================\n",
      "================================================================================\n",
      "================================================================================\n",
      "================================================================================\n"
     ]
    },
    {
     "name": "stdin",
     "output_type": "stream",
     "text": [
      "RT @InnopoliticaRev: Hoy a las 5pm en el Instagram de @innopolitica analizaremos la situación del #ParoNacional desde la perspectiva de 2 l…: https://twitter.com/twitter/status/1394723850621964291 → [pos]/neg \n"
     ]
    },
    {
     "name": "stdout",
     "output_type": "stream",
     "text": [
      "================================================================================\n",
      "================================================================================\n",
      "================================================================================\n",
      "================================================================================\n",
      "================================================================================\n",
      "================================================================================\n",
      "================================================================================\n"
     ]
    },
    {
     "name": "stdin",
     "output_type": "stream",
     "text": [
      "Ahora no se vayan a pegar de la noticia de la muerte de Santrich para tapar el #ParoNacional 🇨🇴 y todo lo que sucede en el país!\n",
      "Sí es con uds periodismo carechimba que tenemos en Colombia... \n",
      "Cortina de humo que le llamamos.: https://twitter.com/twitter/status/1394723729905750017 → [pos]/neg \n"
     ]
    },
    {
     "name": "stdout",
     "output_type": "stream",
     "text": [
      "================================================================================\n",
      "================================================================================\n"
     ]
    },
    {
     "name": "stdin",
     "output_type": "stream",
     "text": [
      "#Buenaventura #BuenaventuraResiste #SOSBuenaventura UNA IMAGEN DICE MÁS QUE..💜🫂\n",
      "#UribeDioLaOrden #ElParoNOPara #Caldas #Antioquia \n",
      " #ColombiaResiste #ColombiaSOS  #SOSOCOLOMBIA #PrimeraLinea #GraciasPrimeraLinea #SOSColombiaDDDHH #ParoNacional17M #ParoNacional18M #ParoNacional https://t.co/tDbmQ8h0Tv: https://twitter.com/twitter/status/1394723693906038784 → [pos]/neg \n"
     ]
    },
    {
     "name": "stdout",
     "output_type": "stream",
     "text": [
      "================================================================================\n"
     ]
    },
    {
     "name": "stdin",
     "output_type": "stream",
     "text": [
      "@VickyDavilaH #NoMasParo #NoMasBloqueos no son bienvenidos #MingaIndigena son los terratenientes y coqueros del país.: https://twitter.com/twitter/status/1394723639048687619 → [pos]/neg n\n"
     ]
    },
    {
     "name": "stdout",
     "output_type": "stream",
     "text": [
      "================================================================================\n",
      "================================================================================\n",
      "================================================================================\n"
     ]
    },
    {
     "name": "stdin",
     "output_type": "stream",
     "text": [
      "RT @Agencia_API: 🇨🇴⭕️ #ParoNacional Extinción de dominio de vehículos por actividades ilicitas\n",
      "\n",
      "📢  Los pasajeros fueron señalados como los…: https://twitter.com/twitter/status/1394723532928688129 → [pos]/neg n\n"
     ]
    },
    {
     "name": "stdout",
     "output_type": "stream",
     "text": [
      "================================================================================\n"
     ]
    },
    {
     "name": "stdin",
     "output_type": "stream",
     "text": [
      "RT @DifusionNoticia: 21mayo Engativá resisye  2:30 pm Portal80.   Llevar vela blanca 2021  !! Difundir #Bogota #engativa #PortalAmericas #p…: https://twitter.com/twitter/status/1394723531221610503 → [pos]/neg \n"
     ]
    },
    {
     "name": "stdout",
     "output_type": "stream",
     "text": [
      "================================================================================\n",
      "================================================================================\n"
     ]
    },
    {
     "name": "stdin",
     "output_type": "stream",
     "text": [
      "@BluRadioCo Una gran fuente de empleo reactivación de hotelería negocios comerciales y hasta con eso quieren acabar y se rasgan vestiduras que isque luchan por el pueblo #NoMasParo: https://twitter.com/twitter/status/1394723474741080066 → [pos]/neg n\n"
     ]
    },
    {
     "name": "stdout",
     "output_type": "stream",
     "text": [
      "================================================================================\n",
      "================================================================================\n",
      "================================================================================\n",
      "================================================================================\n"
     ]
    },
    {
     "name": "stdin",
     "output_type": "stream",
     "text": [
      "Esta cuenta ama los michis y la lucha del pueblo.\n",
      "\n",
      "Arte de @NegraCalaca 🔥\n",
      "\n",
      "#ParoNacional #Gatos https://t.co/svuP7DGbxO: https://twitter.com/twitter/status/1394723406227066880 → [pos]/neg \n"
     ]
    },
    {
     "name": "stdout",
     "output_type": "stream",
     "text": [
      "================================================================================\n",
      "================================================================================\n",
      "================================================================================\n",
      "================================================================================\n",
      "================================================================================\n",
      "================================================================================\n"
     ]
    },
    {
     "name": "stdin",
     "output_type": "stream",
     "text": [
      "Si saliéramos del colegio en 5º de primaria, tendríamos más astronautas que abogados.\n",
      ".\n",
      ".\n",
      ".\n",
      "\n",
      "#colegio #sueña #metoo #YoTeCreo #poesia #ParoNacional #Colombia #ParoNacional18M #ColombiaResiste: https://twitter.com/twitter/status/1394723255882235908 → [pos]/neg \n"
     ]
    },
    {
     "name": "stdout",
     "output_type": "stream",
     "text": [
      "================================================================================\n",
      "================================================================================\n"
     ]
    },
    {
     "name": "stdin",
     "output_type": "stream",
     "text": [
      "#Congreso #ParoNacional Audiencia especial convocada por las Comisiones Segunda conjuntas del Congreso y cuerpo diplomático acreditado en Colombia. https://t.co/T45GkRMmp8 vía@SenadoGovCo https://t.co/hcZ0XZOa5y: https://twitter.com/twitter/status/1394723218112630796 → [pos]/neg \n"
     ]
    },
    {
     "name": "stdout",
     "output_type": "stream",
     "text": [
      "================================================================================\n",
      "================================================================================\n",
      "================================================================================\n",
      "================================================================================\n",
      "================================================================================\n"
     ]
    },
    {
     "name": "stdin",
     "output_type": "stream",
     "text": [
      "Mi nueva cuenta de YouTube, https://t.co/LVe2VN2uIF vamos creciendo de nuevo. \n",
      "#fabiansantacruz #musica #musico #cantante #youtube #compositor #musician #music #singer #canciones #song #songwriter #colombia #cali #bogota #medellin #españa #spain #madrid #escritor #videos #Video https://t.co/gC2IJ5rCjI: https://twitter.com/twitter/status/1394723158780006401 → [pos]/neg \n"
     ]
    },
    {
     "name": "stdout",
     "output_type": "stream",
     "text": [
      "================================================================================\n"
     ]
    },
    {
     "name": "stdin",
     "output_type": "stream",
     "text": [
      "RT @BluRadioCo: #Bogotá Estos son los dos puntos de bloqueo a esta hora frente al Portal Américas. \n",
      "\n",
      "En el momento no hay servicio de Trans…: https://twitter.com/twitter/status/1394723155290333187 → [pos]/neg \n"
     ]
    },
    {
     "name": "stdout",
     "output_type": "stream",
     "text": [
      "================================================================================\n",
      "================================================================================\n",
      "================================================================================\n"
     ]
    },
    {
     "name": "stdin",
     "output_type": "stream",
     "text": [
      "Las #MadresContraLaImpunidad se mantienen en las calles. ¡Vamos con todas, con todos, vamos con ellas! #ParoNacional #ParoNacional19M https://t.co/WwCCiWC5qF: https://twitter.com/twitter/status/1394723107508731908 → [pos]/neg p\n"
     ]
    },
    {
     "name": "stdout",
     "output_type": "stream",
     "text": [
      "================================================================================\n"
     ]
    },
    {
     "name": "stdin",
     "output_type": "stream",
     "text": [
      "RT @BluRadioCo: Panorama a esta hora en inmediaciones al Portal Américas.\n",
      "\n",
      "Esmad impide que la movilización pase a la Avenida Ciudad De Cal…: https://twitter.com/twitter/status/1394723080870797313 → [pos]/neg \n"
     ]
    },
    {
     "name": "stdout",
     "output_type": "stream",
     "text": [
      "================================================================================\n"
     ]
    },
    {
     "name": "stdin",
     "output_type": "stream",
     "text": [
      "Agresión a la libertad de prensa para dejar de ser vistos por sus inmorales conductas, el comportamiento de este policía al arrebatar la cámara del sujeto de prensa muestra todo #Colombia #ColombiaSomosTodos #ParoNacional #SOSColmbia #Cali https://t.co/jBgDQyJ0Un: https://twitter.com/twitter/status/1394723070871543808 → [pos]/neg \n"
     ]
    },
    {
     "name": "stdout",
     "output_type": "stream",
     "text": [
      "================================================================================\n"
     ]
    },
    {
     "name": "stdin",
     "output_type": "stream",
     "text": [
      "RT @fgvitola: Mataron a Santrich justo cuando el uribismo necesita que no se hable del #ParoNacional.: https://twitter.com/twitter/status/1394723033177223171 → [pos]/neg \n"
     ]
    },
    {
     "name": "stdout",
     "output_type": "stream",
     "text": [
      "================================================================================\n",
      "================================================================================\n"
     ]
    },
    {
     "name": "stdin",
     "output_type": "stream",
     "text": [
      "RT @SweFORColombia: Según @TembloresOng, se han reportado 15 casos de violencia sexual por parte de fuerza pública en las protestas del #Pa…: https://twitter.com/twitter/status/1394723011077582849 → [pos]/neg \n"
     ]
    },
    {
     "name": "stdout",
     "output_type": "stream",
     "text": [
      "================================================================================\n",
      "================================================================================\n"
     ]
    },
    {
     "name": "stdin",
     "output_type": "stream",
     "text": [
      "#ParoNacional en colombia no paran las masacres y asesinatos a líderes sociales #MilMinutos @TuMuevesCol\n",
      "@uniamericas @acebnacional \n",
      "🎙️Pedimos la presencia de la @CIDH en Colombia @ONU_es @hectordaer @RitaBerlofa @guimaffeo @ctccolombia @CorteIDH @Declaracion https://t.co/0j5K9fMl9R: https://twitter.com/twitter/status/1394722960330661893 → [pos]/neg \n"
     ]
    },
    {
     "name": "stdout",
     "output_type": "stream",
     "text": [
      "================================================================================\n",
      "================================================================================\n",
      "================================================================================\n",
      "================================================================================\n",
      "================================================================================\n",
      "================================================================================\n"
     ]
    },
    {
     "name": "stdin",
     "output_type": "stream",
     "text": [
      "@navarrowolff Como sea..ya no mas...#nomasparo: https://twitter.com/twitter/status/1394722744680468482 → [pos]/neg n\n"
     ]
    },
    {
     "name": "stdout",
     "output_type": "stream",
     "text": [
      "================================================================================\n",
      "================================================================================\n",
      "================================================================================\n",
      "================================================================================\n",
      "================================================================================\n",
      "================================================================================\n"
     ]
    },
    {
     "name": "stdin",
     "output_type": "stream",
     "text": [
      "#ParoNacional #ColombiaResiste @JuanManSantos @ONU_es @UnionEuropeaRD @el_pais   ..la enorme equivocación de este régimen fue haber IGNORADO + de 8 millones de votos y haberlos convertido en MUERTE..  si lo que quiere el DESPOTA neonazi @IvanDuque es guerra..  estamos LISTOS..: https://twitter.com/twitter/status/1394722596617326595 → [pos]/neg p\n"
     ]
    },
    {
     "name": "stdout",
     "output_type": "stream",
     "text": [
      "================================================================================\n",
      "================================================================================\n"
     ]
    },
    {
     "name": "stdin",
     "output_type": "stream",
     "text": [
      "RT @donadolforivas: Duque ordena a la fuerza pública desbloquear las vías sin dialogar ni concertar con la ciudadanía, inmediatamente los d…: https://twitter.com/twitter/status/1394722588904075270 → [pos]/neg \n"
     ]
    },
    {
     "name": "stdout",
     "output_type": "stream",
     "text": [
      "================================================================================\n"
     ]
    },
    {
     "name": "stdin",
     "output_type": "stream",
     "text": [
      "RT @AmorATiempo1: Nos merecemos una Colombia distinta. 🇨🇴\n",
      "\n",
      "#Bogotá, monumento a los héroes, en jornada 18 del #ParoNacional https://t.co/v3…: https://twitter.com/twitter/status/1394722571669680132 → [pos]/neg \n"
     ]
    },
    {
     "name": "stdout",
     "output_type": "stream",
     "text": [
      "================================================================================\n",
      "================================================================================\n",
      "================================================================================\n",
      "================================================================================\n"
     ]
    },
    {
     "name": "stdin",
     "output_type": "stream",
     "text": [
      "RT @jflafaurie: Gracias a la Fuerza Pública se logró reestablecer el orden en #Cali. El vandalismo pulula en esta zona del país. Quieren de…: https://twitter.com/twitter/status/1394722491675860998 → [pos]/neg n\n"
     ]
    },
    {
     "name": "stdout",
     "output_type": "stream",
     "text": [
      "================================================================================\n",
      "================================================================================\n"
     ]
    },
    {
     "name": "stdin",
     "output_type": "stream",
     "text": [
      "Nuestra periodista y cofundadora @laiabu participó con @IbarraSocarras en este debate muy interesante sobre el papel de los medios de comunicación y de los periodistas en el cubrimiento de este #ParoNacional. \n",
      "Con la moderación de @Villegasalejo 👇 \n",
      "https://t.co/ul2Nrdi2Rf: https://twitter.com/twitter/status/1394722458134065152 → [pos]/neg \n"
     ]
    },
    {
     "name": "stdout",
     "output_type": "stream",
     "text": [
      "================================================================================\n",
      "================================================================================\n",
      "================================================================================\n",
      "================================================================================\n"
     ]
    },
    {
     "name": "stdin",
     "output_type": "stream",
     "text": [
      "RT @KevinMaOficial: Quedan cordialmente invitados. #ParoNacional18M #ParoNacional19M #ParoNacional #SOSColombiaDDHH #SOSBuenaventura #SOSYu…: https://twitter.com/twitter/status/1394722370607149057 → [pos]/neg \n"
     ]
    },
    {
     "name": "stdout",
     "output_type": "stream",
     "text": [
      "================================================================================\n"
     ]
    },
    {
     "name": "stdin",
     "output_type": "stream",
     "text": [
      "#ParoNacional #NoALaCopaAmericaEnColombia \n",
      "@DR_Colombia \n",
      "⚽️ 🥁🎶 Que lo vengan a ver, que lo vengan ver, esto no es un gobierno son los paracos en el poder⚽️🎶🥁 https://t.co/D9l3UlBk13: https://twitter.com/twitter/status/1394722349858045958 → [pos]/neg \n"
     ]
    },
    {
     "name": "stdout",
     "output_type": "stream",
     "text": [
      "================================================================================\n",
      "================================================================================\n",
      "================================================================================\n"
     ]
    },
    {
     "name": "stdin",
     "output_type": "stream",
     "text": [
      "RT @sebastianfest: ¿Sos atleta americano, vas a @Tokyo2020es o al Panamericano de #Cali y no te vacunaste aún? @PanamSports tiene 4.000 vac…: https://twitter.com/twitter/status/1394722315049504780 → [pos]/neg \n"
     ]
    },
    {
     "name": "stdout",
     "output_type": "stream",
     "text": [
      "================================================================================\n"
     ]
    },
    {
     "name": "stdin",
     "output_type": "stream",
     "text": [
      "#ParoNacional4M  #Colombia #ParoNacional #ColombiaResiste #Paro4M  [VIDEO. URGENTE COLOMBIA] – Paro Nacional - Asamblea informativa de maestros. I.E.D. Colegio Nueva Colombia de Suba - Bogotá, jornada tarde. https://t.co/WiT7jn67Uh: https://twitter.com/twitter/status/1394722297924235272 → [pos]/neg \n"
     ]
    },
    {
     "name": "stdout",
     "output_type": "stream",
     "text": [
      "================================================================================\n"
     ]
    },
    {
     "name": "stdin",
     "output_type": "stream",
     "text": [
      "@KevinMaOficial Esto no lo detiene nadie. #SOSBogota #SOSCartago #sospasto #SOSColombiaNosEstanMatando  #ParoNacional18M #ParoNacional19M #ParoNacional #ParoNacionalIndefinido #ParoNacionalColombia #DesbloquearEs: https://twitter.com/twitter/status/1394722293193056258 → [pos]/neg \n"
     ]
    },
    {
     "name": "stdout",
     "output_type": "stream",
     "text": [
      "================================================================================\n",
      "================================================================================\n",
      "================================================================================\n",
      "================================================================================\n"
     ]
    },
    {
     "name": "stdin",
     "output_type": "stream",
     "text": [
      "Ahora no se vayan a pegar de la noticia de un ciego hijueputa para tapar el #ParoNacional 🇨🇴: https://twitter.com/twitter/status/1394722249538777092 → [pos]/neg \n"
     ]
    },
    {
     "name": "stdout",
     "output_type": "stream",
     "text": [
      "================================================================================\n",
      "================================================================================\n"
     ]
    },
    {
     "name": "stdin",
     "output_type": "stream",
     "text": [
      "RT @FLazosDignidad: ¿Vamos a dejar nuestro futuro en manos de aquellos que vulneran nuestros Derechos Humanos?\n",
      "\n",
      " #ParoNacional https://t.co…: https://twitter.com/twitter/status/1394722168588718093 → [pos]/neg p\n"
     ]
    },
    {
     "name": "stdout",
     "output_type": "stream",
     "text": [
      "================================================================================\n",
      "================================================================================\n"
     ]
    },
    {
     "name": "stdin",
     "output_type": "stream",
     "text": [
      "Y todo extremo es lesivo.\n",
      "#YumboResiste #Yumbovalle\n",
      "#ParoNacional18M #ParoAsesino #ParoNacionalColombia #ParoNacionalIndefinido #BogotaEnAlertaRoja #PopayanEsColombia #Cali #Medellin #Pereira #Bogot #Barranquilla #Valledupar #ValleDelCauca #Bucaramanga #Buga #siloecali https://t.co/CadP598fji: https://twitter.com/twitter/status/1394722146790912003 → [pos]/neg \n"
     ]
    },
    {
     "name": "stdout",
     "output_type": "stream",
     "text": [
      "================================================================================\n",
      "================================================================================\n",
      "================================================================================\n",
      "================================================================================\n",
      "================================================================================\n"
     ]
    },
    {
     "name": "stdin",
     "output_type": "stream",
     "text": [
      "El bloqueo que hay en Colombia se llama Duque, o es un impedido mentalmente o es un hdp, o las dos. #ParoNacional: https://twitter.com/twitter/status/1394722002775195648 → [pos]/neg \n"
     ]
    },
    {
     "name": "stdout",
     "output_type": "stream",
     "text": [
      "================================================================================\n",
      "================================================================================\n"
     ]
    },
    {
     "name": "stdin",
     "output_type": "stream",
     "text": [
      "@VickyDavilaH #NoMasViolencia #NoMasParo #NoMasBloqueos Eso es propio de criminales y así deben ser tratados.: https://twitter.com/twitter/status/1394721981111619589 → [pos]/neg n\n"
     ]
    },
    {
     "name": "stdout",
     "output_type": "stream",
     "text": [
      "================================================================================\n"
     ]
    },
    {
     "name": "stdin",
     "output_type": "stream",
     "text": [
      "El Alcalde de #Cali pidió la renuncia de todos sus secretarios y directores de su gabinete, con el fin de reconstruir y consolidar nuevos equipos. https://t.co/pXL3SQGlnY: https://twitter.com/twitter/status/1394721951281786880 → [pos]/neg \n"
     ]
    },
    {
     "name": "stdout",
     "output_type": "stream",
     "text": [
      "================================================================================\n",
      "================================================================================\n"
     ]
    },
    {
     "name": "stdin",
     "output_type": "stream",
     "text": [
      "RT @Patrici76463579: \"Toma de #Cali plan criminal de #FARC, #ELN\"   \n",
      "\n",
      "Fueron usadas armas, subversivos contra autoridades, infraestructura…: https://twitter.com/twitter/status/1394721893425504261 → [pos]/neg n\n"
     ]
    },
    {
     "name": "stdout",
     "output_type": "stream",
     "text": [
      "================================================================================\n",
      "================================================================================\n",
      "================================================================================\n"
     ]
    },
    {
     "name": "stdin",
     "output_type": "stream",
     "text": [
      "Venida de Europa de Iván duque es recibida por fuertes palabras, la reputación de Iván esta por lo suelos #SOSColmbia #Colombia #ColombiaSomosTodos #Cali #ParoNacional https://t.co/gCPcTYILEe: https://twitter.com/twitter/status/1394721831660269575 → [pos]/neg \n"
     ]
    },
    {
     "name": "stdout",
     "output_type": "stream",
     "text": [
      "================================================================================\n",
      "================================================================================\n",
      "================================================================================\n"
     ]
    },
    {
     "name": "stdin",
     "output_type": "stream",
     "text": [
      "#ParoNacional⛔ | El Mandatario reiteró que el Gobierno ha venido trabajando con los gobernadores y los alcaldes en su función de orden público, con el fin de apoyarlos en el desbloqueo de vías.\n",
      "\n",
      "https://t.co/ZsyTJ3SLsW\n",
      "\n",
      "@AcaciasWeb🎙\n",
      "#UnidosPorAcacías💛🤍💚 https://t.co/i8dgk4PCSp: https://twitter.com/twitter/status/1394721765901967361 → [pos]/neg \n"
     ]
    },
    {
     "name": "stdout",
     "output_type": "stream",
     "text": [
      "================================================================================\n",
      "================================================================================\n"
     ]
    },
    {
     "name": "stdin",
     "output_type": "stream",
     "text": [
      "RT @JorgeMaichel: @RevistaSemana El comité del paró al criticar decisión del Presidente Duque por usar la fuerza legítima del Estado para a…: https://twitter.com/twitter/status/1394721746515812357 → [pos]/neg n\n"
     ]
    },
    {
     "name": "stdout",
     "output_type": "stream",
     "text": [
      "================================================================================\n",
      "================================================================================\n",
      "================================================================================\n",
      "================================================================================\n"
     ]
    },
    {
     "name": "stdin",
     "output_type": "stream",
     "text": [
      "RT @policarpa50: Ahora la angustia es otra y el juego ha cambiado, el pitaje del arbitraje es el sonido de la venom reprimiendo al pueblo.…: https://twitter.com/twitter/status/1394721660079640579 → [pos]/neg \n"
     ]
    },
    {
     "name": "stdout",
     "output_type": "stream",
     "text": [
      "================================================================================\n"
     ]
    },
    {
     "name": "stdin",
     "output_type": "stream",
     "text": [
      "El comandante de la Policía de Cali, Juan Carlos Rodríguez, presentó la renuncia a su cargo este lunes, tras recibir amenazas de muerte. https://t.co/HHtzE7S0Jk  #Cali #Colombia #Protestas #18may #Últimahora #IvánDuque #Amenazas: https://twitter.com/twitter/status/1394721582271041547 → [pos]/neg \n"
     ]
    },
    {
     "name": "stdout",
     "output_type": "stream",
     "text": [
      "================================================================================\n"
     ]
    },
    {
     "name": "stdin",
     "output_type": "stream",
     "text": [
      "HÁGAME EL 2021 HIJUEPUTA FAVOR.😡🤬👇🏽\n",
      "#ParoNacional18M #ParoAsesino #ParoNacionalColombia #ParoNacionalIndefinido #YumboResiste #PopayanEsColombia #Cali #Medellin #Pereira #Bogota #Barranquilla #Valledupar #ValleDelCauca #Bucaramanga #Buga #siloecali https://t.co/vVNVh9vqBs: https://twitter.com/twitter/status/1394721555398205449 → [pos]/neg \n"
     ]
    },
    {
     "name": "stdout",
     "output_type": "stream",
     "text": [
      "================================================================================\n"
     ]
    },
    {
     "name": "stdin",
     "output_type": "stream",
     "text": [
      "Quedan cordialmente invitados. #ParoNacional18M #ParoNacional19M #ParoNacional #SOSColombiaDDHH #SOSBuenaventura #SOSYumbo #SOSCaliDDHH #SOSBuga #SOSMedellin #SOSPEREIRA #SOSPopayán #SOSCaldasAntioquia #DesbloquearEs: https://twitter.com/twitter/status/1394721534288273413 → [pos]/neg \n"
     ]
    },
    {
     "name": "stdout",
     "output_type": "stream",
     "text": [
      "================================================================================\n"
     ]
    },
    {
     "name": "stdin",
     "output_type": "stream",
     "text": [
      "RT @maestropandx: No hay ningún derecho a tener un presidente como usted.\n",
      "\n",
      "#ParoNacional18M \n",
      "#ParoNacional18M \n",
      "#ParoNacional: https://twitter.com/twitter/status/1394721530119065600 → [pos]/neg p\n"
     ]
    }
   ],
   "source": [
    "df['label']=None\n",
    "ii=0\n",
    "similarity=[]\n",
    "for i in df.index:\n",
    "    print(\"=\"*80)\n",
    "    tweet=df.loc[i,'text']\n",
    "    if similarity:\n",
    "        if process.extractOne(tweet,similarity,scorer=fuzz.ratio)[-1]<90:\n",
    "            similarity.append(tweet)\n",
    "            posneg=input(f\"{tweet}: https://twitter.com/twitter/status/{df.loc[i,'id']} → [pos]/neg\")\n",
    "            if posneg=='n':\n",
    "                posneg='neg'\n",
    "            elif posneg=='p':\n",
    "                posneg='pos'\n",
    "            else:\n",
    "                continue\n",
    "            df.loc[i,'label']=posneg\n",
    "            ii=ii+1\n",
    "    else:\n",
    "        similarity.append(tweet)\n",
    "\n",
    "    if ii==150:\n",
    "        break"
   ]
  },
  {
   "cell_type": "code",
   "execution_count": 256,
   "metadata": {},
   "outputs": [],
   "source": [
    "tmp=df[~df['label'].isna()].reset_index(drop=True)"
   ]
  },
  {
   "cell_type": "code",
   "execution_count": 257,
   "metadata": {},
   "outputs": [
    {
     "data": {
      "text/plain": [
       "(149, 10)"
      ]
     },
     "execution_count": 257,
     "metadata": {},
     "output_type": "execute_result"
    }
   ],
   "source": [
    "tmp.shape"
   ]
  },
  {
   "cell_type": "code",
   "execution_count": 258,
   "metadata": {},
   "outputs": [],
   "source": [
    "train=tmp[:100][['text','label']]"
   ]
  },
  {
   "cell_type": "code",
   "execution_count": 259,
   "metadata": {},
   "outputs": [],
   "source": [
    "from textblob.classifiers import NaiveBayesClassifier"
   ]
  },
  {
   "cell_type": "code",
   "execution_count": 260,
   "metadata": {},
   "outputs": [],
   "source": [
    "train.to_json('train.json',orient='records')"
   ]
  },
  {
   "cell_type": "code",
   "execution_count": 261,
   "metadata": {},
   "outputs": [
    {
     "name": "stderr",
     "output_type": "stream",
     "text": [
      "[nltk_data] Downloading package punkt to /home/restrepo/nltk_data...\n",
      "[nltk_data]   Package punkt is already up-to-date!\n"
     ]
    },
    {
     "data": {
      "text/plain": [
       "True"
      ]
     },
     "execution_count": 261,
     "metadata": {},
     "output_type": "execute_result"
    }
   ],
   "source": [
    "import nltk\n",
    "nltk.download('punkt')  "
   ]
  },
  {
   "cell_type": "code",
   "execution_count": 262,
   "metadata": {},
   "outputs": [],
   "source": [
    "with open('train.json', 'r') as fp:\n",
    "     cl = NaiveBayesClassifier(fp, format=\"json\")"
   ]
  },
  {
   "cell_type": "code",
   "execution_count": 263,
   "metadata": {},
   "outputs": [],
   "source": [
    "test=tmp[100:].reset_index(drop=True)"
   ]
  },
  {
   "cell_type": "code",
   "execution_count": 267,
   "metadata": {},
   "outputs": [],
   "source": [
    "test.to_json('test.json',orient='records')"
   ]
  },
  {
   "cell_type": "code",
   "execution_count": 265,
   "metadata": {},
   "outputs": [],
   "source": [
    "test['test']=test['text'].apply(cl.classify)"
   ]
  },
  {
   "cell_type": "code",
   "execution_count": 266,
   "metadata": {},
   "outputs": [
    {
     "data": {
      "text/html": [
       "<div>\n",
       "<style scoped>\n",
       "    .dataframe tbody tr th:only-of-type {\n",
       "        vertical-align: middle;\n",
       "    }\n",
       "\n",
       "    .dataframe tbody tr th {\n",
       "        vertical-align: top;\n",
       "    }\n",
       "\n",
       "    .dataframe thead th {\n",
       "        text-align: right;\n",
       "    }\n",
       "</style>\n",
       "<table border=\"1\" class=\"dataframe\">\n",
       "  <thead>\n",
       "    <tr style=\"text-align: right;\">\n",
       "      <th></th>\n",
       "      <th>text</th>\n",
       "      <th>label</th>\n",
       "      <th>test</th>\n",
       "    </tr>\n",
       "  </thead>\n",
       "  <tbody>\n",
       "    <tr>\n",
       "      <th>0</th>\n",
       "      <td>RT @FabioCardozoM: Como asumirá usted @JorgeIvanOspina la orden presidencial de levantar los bloqueos en #Cali haciendo uso del mayor despl…</td>\n",
       "      <td>neg</td>\n",
       "      <td>neg</td>\n",
       "    </tr>\n",
       "    <tr>\n",
       "      <th>1</th>\n",
       "      <td>RT @TatyMunozO: Los bloqueos afectan al pueblo que dicen estar defendiendo. Empresas están a punto de cerrar para dejar muchos desempleados…</td>\n",
       "      <td>neg</td>\n",
       "      <td>neg</td>\n",
       "    </tr>\n",
       "    <tr>\n",
       "      <th>2</th>\n",
       "      <td>RT @arturo2driguez: Compartan por favor sus carteles informativos sobre los puntos de manifestación de mañana #19M en todo el país.\\n#ParoNa…</td>\n",
       "      <td>pos</td>\n",
       "      <td>pos</td>\n",
       "    </tr>\n",
       "    <tr>\n",
       "      <th>3</th>\n",
       "      <td>Conozca el mapa de la solidaridad caleña #ParoNacional #SOSCaliDDHH #SOSCali https://t.co/4Q0MMpgwJK @BienestarSociaI @chucho_gonzalez @AlcaldiaDeCali @JorgeIvanOspina @GSocialValle @Arqui_Cali @arzobispodecali @TICAlcaldiaCali @STransparencia @personeriacali @ConcejoCali</td>\n",
       "      <td>pos</td>\n",
       "      <td>neg</td>\n",
       "    </tr>\n",
       "    <tr>\n",
       "      <th>4</th>\n",
       "      <td>RT @personeriacali: #AEstaHora Continuamos realizando acompañamiento como garantes de derechos humanos en los diferentes puntos de #Cali do…</td>\n",
       "      <td>pos</td>\n",
       "      <td>neg</td>\n",
       "    </tr>\n",
       "    <tr>\n",
       "      <th>5</th>\n",
       "      <td>#ParoNacional18M #SOSColombiaDDHH  #ParoNacional #SOSColombia #ParoNacional \\n\\n\"Al igual que otros partidos populistas del mundo, el Centro Democrático de Uribe y Duque ejerce su poder mediante una estrategia que consiste en avivar agresivamente a su base:\"\\nhttps://t.co/VwH4eg521c</td>\n",
       "      <td>pos</td>\n",
       "      <td>pos</td>\n",
       "    </tr>\n",
       "    <tr>\n",
       "      <th>6</th>\n",
       "      <td>#Colombia 🇨🇴 | Ciudadanos denunciaron este martes que el #Esmad de la Policía reprimió la noche del lunes a las personas que se manifestaban en varias ciudades del país, en el marco del #ParoNacional https://t.co/3rPldywItQ</td>\n",
       "      <td>pos</td>\n",
       "      <td>pos</td>\n",
       "    </tr>\n",
       "    <tr>\n",
       "      <th>7</th>\n",
       "      <td>RT @personeriacali: #AEstaHora las familias del sector de Siloé en #Cali, realizan acto simbólico para que cesen los actos violentos en la…</td>\n",
       "      <td>neg</td>\n",
       "      <td>neg</td>\n",
       "    </tr>\n",
       "    <tr>\n",
       "      <th>8</th>\n",
       "      <td>#lawradio chévere que los periodistas tuvieran la oportunidad de ser empleadores y empresarios, a ver si del otro lado opinan lo mismo... #NoMasParo</td>\n",
       "      <td>neg</td>\n",
       "      <td>neg</td>\n",
       "    </tr>\n",
       "    <tr>\n",
       "      <th>9</th>\n",
       "      <td>RT @UnivalleU: ¿Se van a perder la movilización más grande en la historia de #CALI?\\n\\nAyúdanos a compartir en todos los muros, grupos de Wha…</td>\n",
       "      <td>pos</td>\n",
       "      <td>neg</td>\n",
       "    </tr>\n",
       "    <tr>\n",
       "      <th>10</th>\n",
       "      <td>Alcalde genere nuevos puestos de empleo, llevo 3 meses y medio sin trabajar.\\n\\n¡NECESITAMOS MÁS EMPLEO Y MENOS \"SUBSIDIOS\"!\\n\\n#ParoNacional #18M\\n@JorgeIvanOspina @AlcaldiaDeCali @DANE_Colombia @GobValle @GobiernoCali @ClaraLuzRoldan</td>\n",
       "      <td>pos</td>\n",
       "      <td>neg</td>\n",
       "    </tr>\n",
       "    <tr>\n",
       "      <th>11</th>\n",
       "      <td>@santiagoangelp @GustavoBolivar Solo quieren ganar con mentiras, la verdad no les sirve #NoMasBloqueos #NoMasParo</td>\n",
       "      <td>neg</td>\n",
       "      <td>neg</td>\n",
       "    </tr>\n",
       "    <tr>\n",
       "      <th>12</th>\n",
       "      <td>#ParoNacional EN PAZ!! Son un ejemplo para el país, espero que @PoliciaColombia no arremeta contra ellos. RESISTENCIA! https://t.co/553xxxql8U</td>\n",
       "      <td>pos</td>\n",
       "      <td>pos</td>\n",
       "    </tr>\n",
       "    <tr>\n",
       "      <th>13</th>\n",
       "      <td>A todas estas, donde está el alcalde de Ibagué @andresfhurtado?\\nSe le vino la #NarcoMinga del Cauca junto con indígenas del Tolima, y no se ha dado cuenta?\\nDios lo libre de que no suceda lo mismo que en Cali!\\n#IbagueSeRespeta\\n#NarcoParo\\n#NoMasParo</td>\n",
       "      <td>neg</td>\n",
       "      <td>neg</td>\n",
       "    </tr>\n",
       "    <tr>\n",
       "      <th>14</th>\n",
       "      <td>@NoticiasCaracol Ningún paro nacional, esto pura delincuencia, sed de poder escondida en las protestas sociales, para orquestado y organizado para volver a colombia más miserable de lo que estaba ! Paro guerrillero ! #NoMasParo #NoMasBloqueo</td>\n",
       "      <td>neg</td>\n",
       "      <td>neg</td>\n",
       "    </tr>\n",
       "    <tr>\n",
       "      <th>15</th>\n",
       "      <td>RT @DianaSalinasP: Gobierno caucano denuncia las medidas violentas del gobierno de @IvanDuque y del @mindefensa @Diego_Molano, que estigmat…</td>\n",
       "      <td>pos</td>\n",
       "      <td>pos</td>\n",
       "    </tr>\n",
       "    <tr>\n",
       "      <th>16</th>\n",
       "      <td>🚶‍♂️🚶🚶‍♀️#ParoNacional \\n\\nEl gobierno de Duque no quiere negociar, se niega a brindar garantías. Le responderemos masivamente en las calles. #ParoNacional19M \\n\\n🔴 Video Promo\\nhttps://t.co/etUxQKXMdG https://t.co/19fBG67TTu</td>\n",
       "      <td>pos</td>\n",
       "      <td>pos</td>\n",
       "    </tr>\n",
       "    <tr>\n",
       "      <th>17</th>\n",
       "      <td>@navarrowolff Los desbloqueos se deben hacer inmediatamente sin condicionantes. El diálogo en la mesa debe continuar y ser realista en la peticiones. #NoMasBloqueos #NoMasParo #NoMasCorrupcion</td>\n",
       "      <td>neg</td>\n",
       "      <td>neg</td>\n",
       "    </tr>\n",
       "    <tr>\n",
       "      <th>18</th>\n",
       "      <td>@CarolayMorales Las cifras apoyan el #ParoNacional, no es posible ocultar a quienes están con necesidades vitales como si fueran enseres\\nMucho menos a punta de bolillo y bota\\n(lo echo por este unifornado se sale por completo del régimen policial actual. Ojalá y no lo sancionen o lo matoneen ) https://t.co/tGlji37SZe</td>\n",
       "      <td>pos</td>\n",
       "      <td>neg</td>\n",
       "    </tr>\n",
       "    <tr>\n",
       "      <th>19</th>\n",
       "      <td>RT @asdrubal1963: #Colombia🇨🇴 \\n18 05 2021\\n#NoMásParo vagabundería, No más guachafita \\nHAY QUE METERLE LA MANO AL CONGRESO\\n¡¡¡Independiente…</td>\n",
       "      <td>neg</td>\n",
       "      <td>pos</td>\n",
       "    </tr>\n",
       "    <tr>\n",
       "      <th>20</th>\n",
       "      <td>RT @AdidaSindicato: #ElParoNoPara | Este miércoles 19 de mayo gran movilización y caravana por la ciudad de Medellín. Invitamos a toda la c…</td>\n",
       "      <td>pos</td>\n",
       "      <td>pos</td>\n",
       "    </tr>\n",
       "    <tr>\n",
       "      <th>21</th>\n",
       "      <td>RT @juancaleyva: @DiegoASantos TAL CUAL, ESA ES LA REALIDAD ACTUAL, no mas humo, que la gente trabajadora no como cuento #EstamosMamaosDelP…</td>\n",
       "      <td>neg</td>\n",
       "      <td>neg</td>\n",
       "    </tr>\n",
       "    <tr>\n",
       "      <th>22</th>\n",
       "      <td>@CNNEE @GiovanniPolanc1 Lo único que hay de verdad es que este es un paro guerrilero disfrazado de protesta social, problemáticas las tenemos todas en colombia pero estos bellacos han formado caos aprovechándose d los que salen a marchar y hoy se creen victimas. Es lo que buscaban ! #NoMasParo</td>\n",
       "      <td>neg</td>\n",
       "      <td>neg</td>\n",
       "    </tr>\n",
       "    <tr>\n",
       "      <th>23</th>\n",
       "      <td>RT @Jeison_HeroeCNN: 1559 muertes por covid  el último fin de semana en Colombia y siguen convocando a paros, movilizaciónes y bloqueos\\nno…</td>\n",
       "      <td>neg</td>\n",
       "      <td>neg</td>\n",
       "    </tr>\n",
       "    <tr>\n",
       "      <th>24</th>\n",
       "      <td>RT @CastillaSenador: ⚠️ #ALERTA | Solicitamos a instituciones de control y organismos internacionales de DDHH a hacer presencia y seguimien…</td>\n",
       "      <td>pos</td>\n",
       "      <td>neg</td>\n",
       "    </tr>\n",
       "    <tr>\n",
       "      <th>25</th>\n",
       "      <td>RT @diazflorezjohn: #ParoNacional en colombia no paran las masacres y asesinatos a líderes sociales #MilMinutos @TuMuevesCol\\n@uniamericas @…</td>\n",
       "      <td>pos</td>\n",
       "      <td>neg</td>\n",
       "    </tr>\n",
       "    <tr>\n",
       "      <th>26</th>\n",
       "      <td>@lcvelez @lafm Si a colombia la volvieron una nada en 1 mes estos bellacos con este paro criminal, cómo sería que subieran al poder los dueños de estos movimientos. #NoMasParo #NoMasBloqueos</td>\n",
       "      <td>neg</td>\n",
       "      <td>neg</td>\n",
       "    </tr>\n",
       "    <tr>\n",
       "      <th>27</th>\n",
       "      <td>RT @PizarroMariaJo: Se le acabó el librero al Presidente. Muy grave que no responda por los muertos y desaparecidos en las marchas del #Par…</td>\n",
       "      <td>pos</td>\n",
       "      <td>pos</td>\n",
       "    </tr>\n",
       "    <tr>\n",
       "      <th>28</th>\n",
       "      <td>@WRadioColombia @IvanDuque @Laurasanchez83 @lfzambranos Hoy más que nunca hay q apoyar la institucionalidad, para estos bellacos del paro no existe respeto alguno solo creen en su única verdad y su sed de poder! Paro guerrillero y criminal disfrazado de protesta social. #NoMasBloqueos #NoMasParo</td>\n",
       "      <td>neg</td>\n",
       "      <td>neg</td>\n",
       "    </tr>\n",
       "    <tr>\n",
       "      <th>29</th>\n",
       "      <td>RT @pierrealee: Las armas que acompañan a los jóvenes en la protesta, los libros, es por eso que la @PoliciaColombia que no lee, no entiend…</td>\n",
       "      <td>pos</td>\n",
       "      <td>pos</td>\n",
       "    </tr>\n",
       "    <tr>\n",
       "      <th>30</th>\n",
       "      <td>@BluRadioCo #NoMasParo son criminales, pueden decir lo que sea, los hechos hablan por si solos, muchos marchantes son criminales y los otros son cómplices y deben ser tratados como tal. El derecho a la marcha no es derecho a destruir, ni generar miedo y pobreza.</td>\n",
       "      <td>neg</td>\n",
       "      <td>neg</td>\n",
       "    </tr>\n",
       "    <tr>\n",
       "      <th>31</th>\n",
       "      <td>RT @LMmartinez: @VickyDavilaH Gracias a Dios. Siiiii ya era hora. No más vándalos. #NoMasBloqueos #NoMasParo   Con toda presidente @IvanDuq…</td>\n",
       "      <td>neg</td>\n",
       "      <td>neg</td>\n",
       "    </tr>\n",
       "    <tr>\n",
       "      <th>32</th>\n",
       "      <td>RT @FelipeDRojas: La Guardia Indígena acompañando la mesa de concertación amplia y democrática en el municipio de Pradera en el Valle del C…</td>\n",
       "      <td>pos</td>\n",
       "      <td>pos</td>\n",
       "    </tr>\n",
       "    <tr>\n",
       "      <th>33</th>\n",
       "      <td>RT @castiliae: Uno para todos y todos para uno. Resistencia!! #ParoNacional18M #ParoNacional #SOSColombiaNosEstanMatando @Betocoralg @MeDic…</td>\n",
       "      <td>pos</td>\n",
       "      <td>neg</td>\n",
       "    </tr>\n",
       "    <tr>\n",
       "      <th>34</th>\n",
       "      <td>@WRadioColombia Excelente, pero es lo q quieren estos vagos q los enfrenten para que digan “nos están matando “ !!! Paro guerrillero y político disfrazado de protesta social! Si así volvieron a Colombia en 1 mes, que tal que suban al poder alguno de estos bellacos #NoMasParo #NoMasBloqueos</td>\n",
       "      <td>neg</td>\n",
       "      <td>neg</td>\n",
       "    </tr>\n",
       "    <tr>\n",
       "      <th>35</th>\n",
       "      <td>RT @Vidales2Luis: En Huila encapuchados acaban con biblioteca, se nota que estos señores son unos ignorantes. \\n#ParoNacional18M #ParoNacion…</td>\n",
       "      <td>neg</td>\n",
       "      <td>neg</td>\n",
       "    </tr>\n",
       "    <tr>\n",
       "      <th>36</th>\n",
       "      <td>#LeCuentoEl18M📍Medellín, Antioquia\\n\\nHoy al medio día comienza la movilización de la Minga indígena de Antioquia desde Punto Clave.\\n\\nAbro hilo ⛓⬇️\\n\\n#SOSColombia #ParoNacional ✊ https://t.co/yizChQPZWv</td>\n",
       "      <td>pos</td>\n",
       "      <td>pos</td>\n",
       "    </tr>\n",
       "    <tr>\n",
       "      <th>37</th>\n",
       "      <td>@VickyDavilaH #NoMasParo #NoMasBloqueos no son bienvenidos #MingaIndigena son los terratenientes y coqueros del país.</td>\n",
       "      <td>neg</td>\n",
       "      <td>neg</td>\n",
       "    </tr>\n",
       "    <tr>\n",
       "      <th>38</th>\n",
       "      <td>RT @Agencia_API: 🇨🇴⭕️ #ParoNacional Extinción de dominio de vehículos por actividades ilicitas\\n\\n📢  Los pasajeros fueron señalados como los…</td>\n",
       "      <td>neg</td>\n",
       "      <td>neg</td>\n",
       "    </tr>\n",
       "    <tr>\n",
       "      <th>39</th>\n",
       "      <td>@BluRadioCo Una gran fuente de empleo reactivación de hotelería negocios comerciales y hasta con eso quieren acabar y se rasgan vestiduras que isque luchan por el pueblo #NoMasParo</td>\n",
       "      <td>neg</td>\n",
       "      <td>neg</td>\n",
       "    </tr>\n",
       "    <tr>\n",
       "      <th>40</th>\n",
       "      <td>Las #MadresContraLaImpunidad se mantienen en las calles. ¡Vamos con todas, con todos, vamos con ellas! #ParoNacional #ParoNacional19M https://t.co/WwCCiWC5qF</td>\n",
       "      <td>pos</td>\n",
       "      <td>pos</td>\n",
       "    </tr>\n",
       "    <tr>\n",
       "      <th>41</th>\n",
       "      <td>@navarrowolff Como sea..ya no mas...#nomasparo</td>\n",
       "      <td>neg</td>\n",
       "      <td>neg</td>\n",
       "    </tr>\n",
       "    <tr>\n",
       "      <th>42</th>\n",
       "      <td>#ParoNacional #ColombiaResiste @JuanManSantos @ONU_es @UnionEuropeaRD @el_pais   ..la enorme equivocación de este régimen fue haber IGNORADO + de 8 millones de votos y haberlos convertido en MUERTE..  si lo que quiere el DESPOTA neonazi @IvanDuque es guerra..  estamos LISTOS..</td>\n",
       "      <td>pos</td>\n",
       "      <td>neg</td>\n",
       "    </tr>\n",
       "    <tr>\n",
       "      <th>43</th>\n",
       "      <td>RT @jflafaurie: Gracias a la Fuerza Pública se logró reestablecer el orden en #Cali. El vandalismo pulula en esta zona del país. Quieren de…</td>\n",
       "      <td>neg</td>\n",
       "      <td>neg</td>\n",
       "    </tr>\n",
       "    <tr>\n",
       "      <th>44</th>\n",
       "      <td>RT @FLazosDignidad: ¿Vamos a dejar nuestro futuro en manos de aquellos que vulneran nuestros Derechos Humanos?\\n\\n #ParoNacional https://t.co…</td>\n",
       "      <td>pos</td>\n",
       "      <td>neg</td>\n",
       "    </tr>\n",
       "    <tr>\n",
       "      <th>45</th>\n",
       "      <td>@VickyDavilaH #NoMasViolencia #NoMasParo #NoMasBloqueos Eso es propio de criminales y así deben ser tratados.</td>\n",
       "      <td>neg</td>\n",
       "      <td>neg</td>\n",
       "    </tr>\n",
       "    <tr>\n",
       "      <th>46</th>\n",
       "      <td>RT @Patrici76463579: \"Toma de #Cali plan criminal de #FARC, #ELN\"   \\n\\nFueron usadas armas, subversivos contra autoridades, infraestructura…</td>\n",
       "      <td>neg</td>\n",
       "      <td>neg</td>\n",
       "    </tr>\n",
       "    <tr>\n",
       "      <th>47</th>\n",
       "      <td>RT @JorgeMaichel: @RevistaSemana El comité del paró al criticar decisión del Presidente Duque por usar la fuerza legítima del Estado para a…</td>\n",
       "      <td>neg</td>\n",
       "      <td>neg</td>\n",
       "    </tr>\n",
       "    <tr>\n",
       "      <th>48</th>\n",
       "      <td>RT @maestropandx: No hay ningún derecho a tener un presidente como usted.\\n\\n#ParoNacional18M \\n#ParoNacional18M \\n#ParoNacional</td>\n",
       "      <td>pos</td>\n",
       "      <td>neg</td>\n",
       "    </tr>\n",
       "  </tbody>\n",
       "</table>\n",
       "</div>"
      ],
      "text/plain": [
       "                                                                                                                                                                                                                                                                                                                               text  \\\n",
       "0                                                                                                                                                                                      RT @FabioCardozoM: Como asumirá usted @JorgeIvanOspina la orden presidencial de levantar los bloqueos en #Cali haciendo uso del mayor despl…   \n",
       "1                                                                                                                                                                                      RT @TatyMunozO: Los bloqueos afectan al pueblo que dicen estar defendiendo. Empresas están a punto de cerrar para dejar muchos desempleados…   \n",
       "2                                                                                                                                                                                     RT @arturo2driguez: Compartan por favor sus carteles informativos sobre los puntos de manifestación de mañana #19M en todo el país.\\n#ParoNa…   \n",
       "3                                                  Conozca el mapa de la solidaridad caleña #ParoNacional #SOSCaliDDHH #SOSCali https://t.co/4Q0MMpgwJK @BienestarSociaI @chucho_gonzalez @AlcaldiaDeCali @JorgeIvanOspina @GSocialValle @Arqui_Cali @arzobispodecali @TICAlcaldiaCali @STransparencia @personeriacali @ConcejoCali   \n",
       "4                                                                                                                                                                                      RT @personeriacali: #AEstaHora Continuamos realizando acompañamiento como garantes de derechos humanos en los diferentes puntos de #Cali do…   \n",
       "5                                       #ParoNacional18M #SOSColombiaDDHH  #ParoNacional #SOSColombia #ParoNacional \\n\\n\"Al igual que otros partidos populistas del mundo, el Centro Democrático de Uribe y Duque ejerce su poder mediante una estrategia que consiste en avivar agresivamente a su base:\"\\nhttps://t.co/VwH4eg521c   \n",
       "6                                                                                                   #Colombia 🇨🇴 | Ciudadanos denunciaron este martes que el #Esmad de la Policía reprimió la noche del lunes a las personas que se manifestaban en varias ciudades del país, en el marco del #ParoNacional https://t.co/3rPldywItQ   \n",
       "7                                                                                                                                                                                       RT @personeriacali: #AEstaHora las familias del sector de Siloé en #Cali, realizan acto simbólico para que cesen los actos violentos en la…   \n",
       "8                                                                                                                                                                              #lawradio chévere que los periodistas tuvieran la oportunidad de ser empleadores y empresarios, a ver si del otro lado opinan lo mismo... #NoMasParo   \n",
       "9                                                                                                                                                                                    RT @UnivalleU: ¿Se van a perder la movilización más grande en la historia de #CALI?\\n\\nAyúdanos a compartir en todos los muros, grupos de Wha…   \n",
       "10                                                                                      Alcalde genere nuevos puestos de empleo, llevo 3 meses y medio sin trabajar.\\n\\n¡NECESITAMOS MÁS EMPLEO Y MENOS \"SUBSIDIOS\"!\\n\\n#ParoNacional #18M\\n@JorgeIvanOspina @AlcaldiaDeCali @DANE_Colombia @GobValle @GobiernoCali @ClaraLuzRoldan   \n",
       "11                                                                                                                                                                                                                @santiagoangelp @GustavoBolivar Solo quieren ganar con mentiras, la verdad no les sirve #NoMasBloqueos #NoMasParo   \n",
       "12                                                                                                                                                                                   #ParoNacional EN PAZ!! Son un ejemplo para el país, espero que @PoliciaColombia no arremeta contra ellos. RESISTENCIA! https://t.co/553xxxql8U   \n",
       "13                                                                     A todas estas, donde está el alcalde de Ibagué @andresfhurtado?\\nSe le vino la #NarcoMinga del Cauca junto con indígenas del Tolima, y no se ha dado cuenta?\\nDios lo libre de que no suceda lo mismo que en Cali!\\n#IbagueSeRespeta\\n#NarcoParo\\n#NoMasParo   \n",
       "14                                                                                @NoticiasCaracol Ningún paro nacional, esto pura delincuencia, sed de poder escondida en las protestas sociales, para orquestado y organizado para volver a colombia más miserable de lo que estaba ! Paro guerrillero ! #NoMasParo #NoMasBloqueo   \n",
       "15                                                                                                                                                                                     RT @DianaSalinasP: Gobierno caucano denuncia las medidas violentas del gobierno de @IvanDuque y del @mindefensa @Diego_Molano, que estigmat…   \n",
       "16                                                                                                🚶‍♂️🚶🚶‍♀️#ParoNacional \\n\\nEl gobierno de Duque no quiere negociar, se niega a brindar garantías. Le responderemos masivamente en las calles. #ParoNacional19M \\n\\n🔴 Video Promo\\nhttps://t.co/etUxQKXMdG https://t.co/19fBG67TTu   \n",
       "17                                                                                                                                 @navarrowolff Los desbloqueos se deben hacer inmediatamente sin condicionantes. El diálogo en la mesa debe continuar y ser realista en la peticiones. #NoMasBloqueos #NoMasParo #NoMasCorrupcion   \n",
       "18  @CarolayMorales Las cifras apoyan el #ParoNacional, no es posible ocultar a quienes están con necesidades vitales como si fueran enseres\\nMucho menos a punta de bolillo y bota\\n(lo echo por este unifornado se sale por completo del régimen policial actual. Ojalá y no lo sancionen o lo matoneen ) https://t.co/tGlji37SZe   \n",
       "19                                                                                                                                                                                  RT @asdrubal1963: #Colombia🇨🇴 \\n18 05 2021\\n#NoMásParo vagabundería, No más guachafita \\nHAY QUE METERLE LA MANO AL CONGRESO\\n¡¡¡Independiente…   \n",
       "20                                                                                                                                                                                     RT @AdidaSindicato: #ElParoNoPara | Este miércoles 19 de mayo gran movilización y caravana por la ciudad de Medellín. Invitamos a toda la c…   \n",
       "21                                                                                                                                                                                     RT @juancaleyva: @DiegoASantos TAL CUAL, ESA ES LA REALIDAD ACTUAL, no mas humo, que la gente trabajadora no como cuento #EstamosMamaosDelP…   \n",
       "22                           @CNNEE @GiovanniPolanc1 Lo único que hay de verdad es que este es un paro guerrilero disfrazado de protesta social, problemáticas las tenemos todas en colombia pero estos bellacos han formado caos aprovechándose d los que salen a marchar y hoy se creen victimas. Es lo que buscaban ! #NoMasParo   \n",
       "23                                                                                                                                                                                     RT @Jeison_HeroeCNN: 1559 muertes por covid  el último fin de semana en Colombia y siguen convocando a paros, movilizaciónes y bloqueos\\nno…   \n",
       "24                                                                                                                                                                                     RT @CastillaSenador: ⚠️ #ALERTA | Solicitamos a instituciones de control y organismos internacionales de DDHH a hacer presencia y seguimien…   \n",
       "25                                                                                                                                                                                    RT @diazflorezjohn: #ParoNacional en colombia no paran las masacres y asesinatos a líderes sociales #MilMinutos @TuMuevesCol\\n@uniamericas @…   \n",
       "26                                                                                                                                   @lcvelez @lafm Si a colombia la volvieron una nada en 1 mes estos bellacos con este paro criminal, cómo sería que subieran al poder los dueños de estos movimientos. #NoMasParo #NoMasBloqueos   \n",
       "27                                                                                                                                                                                     RT @PizarroMariaJo: Se le acabó el librero al Presidente. Muy grave que no responda por los muertos y desaparecidos en las marchas del #Par…   \n",
       "28                         @WRadioColombia @IvanDuque @Laurasanchez83 @lfzambranos Hoy más que nunca hay q apoyar la institucionalidad, para estos bellacos del paro no existe respeto alguno solo creen en su única verdad y su sed de poder! Paro guerrillero y criminal disfrazado de protesta social. #NoMasBloqueos #NoMasParo   \n",
       "29                                                                                                                                                                                     RT @pierrealee: Las armas que acompañan a los jóvenes en la protesta, los libros, es por eso que la @PoliciaColombia que no lee, no entiend…   \n",
       "30                                                           @BluRadioCo #NoMasParo son criminales, pueden decir lo que sea, los hechos hablan por si solos, muchos marchantes son criminales y los otros son cómplices y deben ser tratados como tal. El derecho a la marcha no es derecho a destruir, ni generar miedo y pobreza.   \n",
       "31                                                                                                                                                                                     RT @LMmartinez: @VickyDavilaH Gracias a Dios. Siiiii ya era hora. No más vándalos. #NoMasBloqueos #NoMasParo   Con toda presidente @IvanDuq…   \n",
       "32                                                                                                                                                                                     RT @FelipeDRojas: La Guardia Indígena acompañando la mesa de concertación amplia y democrática en el municipio de Pradera en el Valle del C…   \n",
       "33                                                                                                                                                                                     RT @castiliae: Uno para todos y todos para uno. Resistencia!! #ParoNacional18M #ParoNacional #SOSColombiaNosEstanMatando @Betocoralg @MeDic…   \n",
       "34                               @WRadioColombia Excelente, pero es lo q quieren estos vagos q los enfrenten para que digan “nos están matando “ !!! Paro guerrillero y político disfrazado de protesta social! Si así volvieron a Colombia en 1 mes, que tal que suban al poder alguno de estos bellacos #NoMasParo #NoMasBloqueos   \n",
       "35                                                                                                                                                                                    RT @Vidales2Luis: En Huila encapuchados acaban con biblioteca, se nota que estos señores son unos ignorantes. \\n#ParoNacional18M #ParoNacion…   \n",
       "36                                                                                                                    #LeCuentoEl18M📍Medellín, Antioquia\\n\\nHoy al medio día comienza la movilización de la Minga indígena de Antioquia desde Punto Clave.\\n\\nAbro hilo ⛓⬇️\\n\\n#SOSColombia #ParoNacional ✊ https://t.co/yizChQPZWv   \n",
       "37                                                                                                                                                                                                            @VickyDavilaH #NoMasParo #NoMasBloqueos no son bienvenidos #MingaIndigena son los terratenientes y coqueros del país.   \n",
       "38                                                                                                                                                                                    RT @Agencia_API: 🇨🇴⭕️ #ParoNacional Extinción de dominio de vehículos por actividades ilicitas\\n\\n📢  Los pasajeros fueron señalados como los…   \n",
       "39                                                                                                                                             @BluRadioCo Una gran fuente de empleo reactivación de hotelería negocios comerciales y hasta con eso quieren acabar y se rasgan vestiduras que isque luchan por el pueblo #NoMasParo   \n",
       "40                                                                                                                                                                    Las #MadresContraLaImpunidad se mantienen en las calles. ¡Vamos con todas, con todos, vamos con ellas! #ParoNacional #ParoNacional19M https://t.co/WwCCiWC5qF   \n",
       "41                                                                                                                                                                                                                                                                                   @navarrowolff Como sea..ya no mas...#nomasparo   \n",
       "42                                            #ParoNacional #ColombiaResiste @JuanManSantos @ONU_es @UnionEuropeaRD @el_pais   ..la enorme equivocación de este régimen fue haber IGNORADO + de 8 millones de votos y haberlos convertido en MUERTE..  si lo que quiere el DESPOTA neonazi @IvanDuque es guerra..  estamos LISTOS..   \n",
       "43                                                                                                                                                                                     RT @jflafaurie: Gracias a la Fuerza Pública se logró reestablecer el orden en #Cali. El vandalismo pulula en esta zona del país. Quieren de…   \n",
       "44                                                                                                                                                                                   RT @FLazosDignidad: ¿Vamos a dejar nuestro futuro en manos de aquellos que vulneran nuestros Derechos Humanos?\\n\\n #ParoNacional https://t.co…   \n",
       "45                                                                                                                                                                                                                    @VickyDavilaH #NoMasViolencia #NoMasParo #NoMasBloqueos Eso es propio de criminales y así deben ser tratados.   \n",
       "46                                                                                                                                                                                    RT @Patrici76463579: \"Toma de #Cali plan criminal de #FARC, #ELN\"   \\n\\nFueron usadas armas, subversivos contra autoridades, infraestructura…   \n",
       "47                                                                                                                                                                                     RT @JorgeMaichel: @RevistaSemana El comité del paró al criticar decisión del Presidente Duque por usar la fuerza legítima del Estado para a…   \n",
       "48                                                                                                                                                                                                 RT @maestropandx: No hay ningún derecho a tener un presidente como usted.\\n\\n#ParoNacional18M \\n#ParoNacional18M \\n#ParoNacional   \n",
       "\n",
       "   label test  \n",
       "0    neg  neg  \n",
       "1    neg  neg  \n",
       "2    pos  pos  \n",
       "3    pos  neg  \n",
       "4    pos  neg  \n",
       "5    pos  pos  \n",
       "6    pos  pos  \n",
       "7    neg  neg  \n",
       "8    neg  neg  \n",
       "9    pos  neg  \n",
       "10   pos  neg  \n",
       "11   neg  neg  \n",
       "12   pos  pos  \n",
       "13   neg  neg  \n",
       "14   neg  neg  \n",
       "15   pos  pos  \n",
       "16   pos  pos  \n",
       "17   neg  neg  \n",
       "18   pos  neg  \n",
       "19   neg  pos  \n",
       "20   pos  pos  \n",
       "21   neg  neg  \n",
       "22   neg  neg  \n",
       "23   neg  neg  \n",
       "24   pos  neg  \n",
       "25   pos  neg  \n",
       "26   neg  neg  \n",
       "27   pos  pos  \n",
       "28   neg  neg  \n",
       "29   pos  pos  \n",
       "30   neg  neg  \n",
       "31   neg  neg  \n",
       "32   pos  pos  \n",
       "33   pos  neg  \n",
       "34   neg  neg  \n",
       "35   neg  neg  \n",
       "36   pos  pos  \n",
       "37   neg  neg  \n",
       "38   neg  neg  \n",
       "39   neg  neg  \n",
       "40   pos  pos  \n",
       "41   neg  neg  \n",
       "42   pos  neg  \n",
       "43   neg  neg  \n",
       "44   pos  neg  \n",
       "45   neg  neg  \n",
       "46   neg  neg  \n",
       "47   neg  neg  \n",
       "48   pos  neg  "
      ]
     },
     "execution_count": 266,
     "metadata": {},
     "output_type": "execute_result"
    }
   ],
   "source": [
    "test[['text','label','test']]"
   ]
  },
  {
   "cell_type": "code",
   "execution_count": null,
   "metadata": {},
   "outputs": [],
   "source": []
  }
 ],
 "metadata": {
  "kernelspec": {
   "display_name": "Python 3 (ipykernel)",
   "language": "python",
   "name": "python3"
  },
  "language_info": {
   "codemirror_mode": {
    "name": "ipython",
    "version": 3
   },
   "file_extension": ".py",
   "mimetype": "text/x-python",
   "name": "python",
   "nbconvert_exporter": "python",
   "pygments_lexer": "ipython3",
   "version": "3.7.3"
  }
 },
 "nbformat": 4,
 "nbformat_minor": 4
}
