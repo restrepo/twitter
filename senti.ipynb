{
 "cells": [
  {
   "cell_type": "markdown",
   "metadata": {},
   "source": [
    "## Análisis de sentimientos de Twitter con Python\n",
    "* https://platzi.com/tutoriales/1874-python-lenguaje-natural/5654-realiza-un-analisis-de-sentimiento-en-3-pasos-con-python/\n",
    "    * Ejemplo https://twitter.com/whaleandjaguar_?lang=en\n",
    "* https://towardsdatascience.com/my-absolute-go-to-for-sentiment-analysis-textblob-3ac3a11d524\n",
    "* https://www.justintodata.com/twitter-sentiment-analysis-python/\n",
    "* https://www.pluralsight.com/guides/building-a-twitter-sentiment-analysis-in-python"
   ]
  },
  {
   "cell_type": "markdown",
   "metadata": {},
   "source": [
    "### 1) Descargar tweets"
   ]
  },
  {
   "cell_type": "code",
   "execution_count": 183,
   "metadata": {},
   "outputs": [
    {
     "name": "stdout",
     "output_type": "stream",
     "text": [
      "Populating the interactive namespace from numpy and matplotlib\n"
     ]
    },
    {
     "name": "stderr",
     "output_type": "stream",
     "text": [
      "/usr/local/lib/python3.7/dist-packages/IPython/core/magics/pylab.py:160: UserWarning: pylab import has clobbered these variables: ['f', 'test']\n",
      "`%matplotlib` prevents importing * from pylab and numpy\n",
      "  \"\\n`%matplotlib` prevents importing * from pylab and numpy\"\n"
     ]
    }
   ],
   "source": [
    "%pylab inline"
   ]
  },
  {
   "cell_type": "code",
   "execution_count": 184,
   "metadata": {},
   "outputs": [],
   "source": [
    "import pandas as pd\n",
    "pd.set_option('display.max_colwidth',500)"
   ]
  },
  {
   "cell_type": "code",
   "execution_count": 215,
   "metadata": {},
   "outputs": [],
   "source": [
    "df=pd.read_json('https://raw.githubusercontent.com/restrepo/twitter/main/tweets_df.json')"
   ]
  },
  {
   "cell_type": "markdown",
   "metadata": {},
   "source": [
    "### 2) Análisis de sentimientos"
   ]
  },
  {
   "cell_type": "code",
   "execution_count": 186,
   "metadata": {},
   "outputs": [],
   "source": [
    "from textblob import TextBlob"
   ]
  },
  {
   "cell_type": "code",
   "execution_count": 187,
   "metadata": {},
   "outputs": [
    {
     "data": {
      "text/plain": [
       "0.7000000000000001"
      ]
     },
     "execution_count": 187,
     "metadata": {},
     "output_type": "execute_result"
    }
   ],
   "source": [
    "TextBlob('the day is bright').polarity"
   ]
  },
  {
   "cell_type": "code",
   "execution_count": 188,
   "metadata": {},
   "outputs": [
    {
     "data": {
      "text/plain": [
       "0.0"
      ]
     },
     "execution_count": 188,
     "metadata": {},
     "output_type": "execute_result"
    }
   ],
   "source": [
    "TextBlob('the day is gray').polarity"
   ]
  },
  {
   "cell_type": "code",
   "execution_count": 189,
   "metadata": {},
   "outputs": [
    {
     "data": {
      "text/plain": [
       "-0.15"
      ]
     },
     "execution_count": 189,
     "metadata": {},
     "output_type": "execute_result"
    }
   ],
   "source": [
    "TextBlob('the day is dark').polarity"
   ]
  },
  {
   "cell_type": "markdown",
   "metadata": {},
   "source": [
    "Pero sólo funciona en inglés"
   ]
  },
  {
   "cell_type": "code",
   "execution_count": 190,
   "metadata": {},
   "outputs": [
    {
     "data": {
      "text/plain": [
       "0.0"
      ]
     },
     "execution_count": 190,
     "metadata": {},
     "output_type": "execute_result"
    }
   ],
   "source": [
    "TextBlob('el día es oscuro').polarity"
   ]
  },
  {
   "cell_type": "markdown",
   "metadata": {},
   "source": [
    "Para usar algo similar en español, el texto debe traducirse primero"
   ]
  },
  {
   "cell_type": "code",
   "execution_count": null,
   "metadata": {},
   "outputs": [],
   "source": [
    "TextBlob('el día es oscuro').translate(from_lang='es',to='en')"
   ]
  },
  {
   "cell_type": "code",
   "execution_count": null,
   "metadata": {},
   "outputs": [],
   "source": [
    "TextBlob('el día es oscuro').translate(from_lang='es',to='en').polarity"
   ]
  },
  {
   "cell_type": "markdown",
   "metadata": {},
   "source": [
    "### 2. Limitar los tweets a 500 palabras\n",
    "Los apis de traducción tienen límites muy fuertes. Por lo que el análisis se puede hacer sólo de forma limitada"
   ]
  },
  {
   "cell_type": "code",
   "execution_count": 295,
   "metadata": {},
   "outputs": [],
   "source": [
    "data=df.sample(100).reset_index(drop=True)"
   ]
  },
  {
   "cell_type": "code",
   "execution_count": 296,
   "metadata": {},
   "outputs": [],
   "source": [
    "data['tweet']=data['text'].str.split(':').str[-1]"
   ]
  },
  {
   "cell_type": "code",
   "execution_count": 297,
   "metadata": {},
   "outputs": [
    {
     "data": {
      "text/plain": [
       "9979"
      ]
     },
     "execution_count": 297,
     "metadata": {},
     "output_type": "execute_result"
    }
   ],
   "source": [
    "len(data['tweet'].sum())"
   ]
  },
  {
   "cell_type": "code",
   "execution_count": 298,
   "metadata": {},
   "outputs": [
    {
     "data": {
      "text/html": [
       "<div>\n",
       "<style scoped>\n",
       "    .dataframe tbody tr th:only-of-type {\n",
       "        vertical-align: middle;\n",
       "    }\n",
       "\n",
       "    .dataframe tbody tr th {\n",
       "        vertical-align: top;\n",
       "    }\n",
       "\n",
       "    .dataframe thead th {\n",
       "        text-align: right;\n",
       "    }\n",
       "</style>\n",
       "<table border=\"1\" class=\"dataframe\">\n",
       "  <thead>\n",
       "    <tr style=\"text-align: right;\">\n",
       "      <th></th>\n",
       "      <th>user_name</th>\n",
       "      <th>user_location</th>\n",
       "      <th>user_description</th>\n",
       "      <th>user_verified</th>\n",
       "      <th>date</th>\n",
       "      <th>text</th>\n",
       "      <th>hashtags</th>\n",
       "      <th>source</th>\n",
       "      <th>id</th>\n",
       "      <th>label</th>\n",
       "      <th>tweet</th>\n",
       "    </tr>\n",
       "  </thead>\n",
       "  <tbody>\n",
       "    <tr>\n",
       "      <th>10</th>\n",
       "      <td>Maritza</td>\n",
       "      <td></td>\n",
       "      <td></td>\n",
       "      <td>False</td>\n",
       "      <td>2021-05-18 17:40:43</td>\n",
       "      <td>RT @RaquelS_FlorezM: Educación de calidad para Colombia, el Agro, la Internacionalización y la Innovación #TemporalesSENAFormalizados No a…</td>\n",
       "      <td>[TemporalesSENAFormalizados]</td>\n",
       "      <td>Twitter for Android</td>\n",
       "      <td>1394709547588202500</td>\n",
       "      <td>None</td>\n",
       "      <td>Educación de calidad para Colombia, el Agro, la Internacionalización y la Innovación #TemporalesSENAFormalizados No a…</td>\n",
       "    </tr>\n",
       "  </tbody>\n",
       "</table>\n",
       "</div>"
      ],
      "text/plain": [
       "   user_name user_location user_description  user_verified  \\\n",
       "10   Maritza                                         False   \n",
       "\n",
       "                  date  \\\n",
       "10 2021-05-18 17:40:43   \n",
       "\n",
       "                                                                                                                                           text  \\\n",
       "10  RT @RaquelS_FlorezM: Educación de calidad para Colombia, el Agro, la Internacionalización y la Innovación #TemporalesSENAFormalizados No a…   \n",
       "\n",
       "                        hashtags               source                   id  \\\n",
       "10  [TemporalesSENAFormalizados]  Twitter for Android  1394709547588202500   \n",
       "\n",
       "   label  \\\n",
       "10  None   \n",
       "\n",
       "                                                                                                                      tweet  \n",
       "10   Educación de calidad para Colombia, el Agro, la Internacionalización y la Innovación #TemporalesSENAFormalizados No a…  "
      ]
     },
     "execution_count": 298,
     "metadata": {},
     "output_type": "execute_result"
    }
   ],
   "source": [
    "data.loc[[10]]"
   ]
  },
  {
   "cell_type": "code",
   "execution_count": 302,
   "metadata": {},
   "outputs": [],
   "source": [
    "from textblob.exceptions import *"
   ]
  },
  {
   "cell_type": "code",
   "execution_count": 303,
   "metadata": {},
   "outputs": [],
   "source": [
    "polarity=[]\n",
    "for tweet in data['tweet']:\n",
    "    #print(tweet)\n",
    "    try:\n",
    "        analysis=TextBlob(tweet).translate(from_lang='es',to='en')\n",
    "    except NotTranslated:\n",
    "         pass\n",
    "    #    analysis=TextBlob(tweet)\n",
    "    polarity.append(analysis.polarity)"
   ]
  },
  {
   "cell_type": "code",
   "execution_count": 305,
   "metadata": {},
   "outputs": [],
   "source": [
    "data['polarity']=polarity"
   ]
  },
  {
   "cell_type": "code",
   "execution_count": 306,
   "metadata": {},
   "outputs": [
    {
     "data": {
      "text/html": [
       "<div>\n",
       "<style scoped>\n",
       "    .dataframe tbody tr th:only-of-type {\n",
       "        vertical-align: middle;\n",
       "    }\n",
       "\n",
       "    .dataframe tbody tr th {\n",
       "        vertical-align: top;\n",
       "    }\n",
       "\n",
       "    .dataframe thead th {\n",
       "        text-align: right;\n",
       "    }\n",
       "</style>\n",
       "<table border=\"1\" class=\"dataframe\">\n",
       "  <thead>\n",
       "    <tr style=\"text-align: right;\">\n",
       "      <th></th>\n",
       "      <th>text</th>\n",
       "      <th>polarity</th>\n",
       "    </tr>\n",
       "  </thead>\n",
       "  <tbody>\n",
       "    <tr>\n",
       "      <th>0</th>\n",
       "      <td>RT @WilsonP725: Pasando el tema de Petro y Nany Pardo, les recuerdo que estamos en Paro y que mañana las movilizaciones deben ser masivas.…</td>\n",
       "      <td>0.000000</td>\n",
       "    </tr>\n",
       "    <tr>\n",
       "      <th>1</th>\n",
       "      <td>RT @NotiBAdentro: #ParoNacional #18M\\n\\nEl sector de los trabajadores de los cárnicos, se suma al gran paro nacional. https://t.co/YcHce1Oqdt</td>\n",
       "      <td>0.000000</td>\n",
       "    </tr>\n",
       "    <tr>\n",
       "      <th>2</th>\n",
       "      <td>RT @Pata_Leo: “Gente de bien” \\n\\n#Cali #GenteDeBien #GenteDeBienEs #Para #paronacionalcolombia #ParoNacional #soscolombiaddhh🇨🇴 #soscolombia…</td>\n",
       "      <td>0.700000</td>\n",
       "    </tr>\n",
       "    <tr>\n",
       "      <th>3</th>\n",
       "      <td>RT @CRIC_Cauca: Después de las declaraciones del Presidente Duque, el Consejo Regional #Indígena del Cauca-#CRIC refuerza con 3mil guardias…</td>\n",
       "      <td>0.000000</td>\n",
       "    </tr>\n",
       "    <tr>\n",
       "      <th>4</th>\n",
       "      <td>RT @TPU19J: 🔥 #AHORA 🔥 Pasa en #Colombia escuadrones de la muerte del ESMAD hacen explotar otra gasolinera en Yumbo, Valle del Cauca, las t…</td>\n",
       "      <td>0.000000</td>\n",
       "    </tr>\n",
       "    <tr>\n",
       "      <th>...</th>\n",
       "      <td>...</td>\n",
       "      <td>...</td>\n",
       "    </tr>\n",
       "    <tr>\n",
       "      <th>95</th>\n",
       "      <td>#Hoy 18 de mayo es el #DiaInternacionalDeLosMuseos y #Cali tiene el museo de salsa más antiguo del mundo @MuseoDeLaSalsa te invito para que lo visites en el barrio obrero. Cali - Colombia🇨🇴 ¡FELICITACIONES! #museodelasalsa  \\n\\nhttps://t.co/0iZNao61pw https://t.co/08TWuxN6Iv</td>\n",
       "      <td>0.000000</td>\n",
       "    </tr>\n",
       "    <tr>\n",
       "      <th>96</th>\n",
       "      <td>RT @FIANColombia: Los mercados campesinos, una alternativa desde la Colombia rural que garantizan el Derecho a una Alimentación y Nutrición…</td>\n",
       "      <td>0.142857</td>\n",
       "    </tr>\n",
       "    <tr>\n",
       "      <th>97</th>\n",
       "      <td>@lafm Les faltó denunciarlos por violación al derecho a la salud pública, los cientos de contagios sus correspondientes muertes no pueden quedar impunes ante este desprecio a la vida del comité de paro.\\n#NoMasParo #NoMasParo #NoMasParo #NoMasParo #NoMasParo #NoMasParo #NoMasParo</td>\n",
       "      <td>0.142857</td>\n",
       "    </tr>\n",
       "    <tr>\n",
       "      <th>98</th>\n",
       "      <td>RT @CMILANOTICIA: Nombran nuevo comandante de la Policía Metropolitana de #Cali https://t.co/qHvrSyAIe1</td>\n",
       "      <td>0.142857</td>\n",
       "    </tr>\n",
       "    <tr>\n",
       "      <th>99</th>\n",
       "      <td>RT @BluRadioCo: Panorama a esta hora en inmediaciones al Portal Américas.\\n\\nEsmad impide que la movilización pase a la Avenida Ciudad De Cal…</td>\n",
       "      <td>0.000000</td>\n",
       "    </tr>\n",
       "  </tbody>\n",
       "</table>\n",
       "<p>100 rows × 2 columns</p>\n",
       "</div>"
      ],
      "text/plain": [
       "                                                                                                                                                                                                                                                                                        text  \\\n",
       "0                                                                                                                                                RT @WilsonP725: Pasando el tema de Petro y Nany Pardo, les recuerdo que estamos en Paro y que mañana las movilizaciones deben ser masivas.…   \n",
       "1                                                                                                                                              RT @NotiBAdentro: #ParoNacional #18M\\n\\nEl sector de los trabajadores de los cárnicos, se suma al gran paro nacional. https://t.co/YcHce1Oqdt   \n",
       "2                                                                                                                                             RT @Pata_Leo: “Gente de bien” \\n\\n#Cali #GenteDeBien #GenteDeBienEs #Para #paronacionalcolombia #ParoNacional #soscolombiaddhh🇨🇴 #soscolombia…   \n",
       "3                                                                                                                                               RT @CRIC_Cauca: Después de las declaraciones del Presidente Duque, el Consejo Regional #Indígena del Cauca-#CRIC refuerza con 3mil guardias…   \n",
       "4                                                                                                                                               RT @TPU19J: 🔥 #AHORA 🔥 Pasa en #Colombia escuadrones de la muerte del ESMAD hacen explotar otra gasolinera en Yumbo, Valle del Cauca, las t…   \n",
       "..                                                                                                                                                                                                                                                                                       ...   \n",
       "95       #Hoy 18 de mayo es el #DiaInternacionalDeLosMuseos y #Cali tiene el museo de salsa más antiguo del mundo @MuseoDeLaSalsa te invito para que lo visites en el barrio obrero. Cali - Colombia🇨🇴 ¡FELICITACIONES! #museodelasalsa  \\n\\nhttps://t.co/0iZNao61pw https://t.co/08TWuxN6Iv   \n",
       "96                                                                                                                                              RT @FIANColombia: Los mercados campesinos, una alternativa desde la Colombia rural que garantizan el Derecho a una Alimentación y Nutrición…   \n",
       "97  @lafm Les faltó denunciarlos por violación al derecho a la salud pública, los cientos de contagios sus correspondientes muertes no pueden quedar impunes ante este desprecio a la vida del comité de paro.\\n#NoMasParo #NoMasParo #NoMasParo #NoMasParo #NoMasParo #NoMasParo #NoMasParo   \n",
       "98                                                                                                                                                                                   RT @CMILANOTICIA: Nombran nuevo comandante de la Policía Metropolitana de #Cali https://t.co/qHvrSyAIe1   \n",
       "99                                                                                                                                            RT @BluRadioCo: Panorama a esta hora en inmediaciones al Portal Américas.\\n\\nEsmad impide que la movilización pase a la Avenida Ciudad De Cal…   \n",
       "\n",
       "    polarity  \n",
       "0   0.000000  \n",
       "1   0.000000  \n",
       "2   0.700000  \n",
       "3   0.000000  \n",
       "4   0.000000  \n",
       "..       ...  \n",
       "95  0.000000  \n",
       "96  0.142857  \n",
       "97  0.142857  \n",
       "98  0.142857  \n",
       "99  0.000000  \n",
       "\n",
       "[100 rows x 2 columns]"
      ]
     },
     "execution_count": 306,
     "metadata": {},
     "output_type": "execute_result"
    }
   ],
   "source": [
    "data[['text','polarity']]"
   ]
  },
  {
   "cell_type": "code",
   "execution_count": 307,
   "metadata": {},
   "outputs": [
    {
     "data": {
      "text/plain": [
       "<matplotlib.collections.PathCollection at 0x7ff9692f1da0>"
      ]
     },
     "execution_count": 307,
     "metadata": {},
     "output_type": "execute_result"
    },
    {
     "data": {
      "image/png": "[encoded data removed]",
      "text/plain": [
       "<Figure size 720x360 with 1 Axes>"
      ]
     },
     "metadata": {
      "needs_background": "light"
     },
     "output_type": "display_data"
    }
   ],
   "source": [
    "plt.figure(figsize=(10,5))\n",
    "plt.scatter(data['date'].apply(lambda d: d.hour),data['polarity'])"
   ]
  },
  {
   "cell_type": "markdown",
   "metadata": {},
   "source": [
    "### Cree un nuevo clasificador\n",
    "Vamos \n",
    "https://textblob.readthedocs.io/en/dev/classifiers.html#classifiers"
   ]
  },
  {
   "cell_type": "markdown",
   "metadata": {},
   "source": [
    "* A favor del Paro → `'fav'`\n",
    "* En contra del Paro→ `'con'`"
   ]
  },
  {
   "cell_type": "markdown",
   "metadata": {},
   "source": [
    "Para crear los conjutos de datos para training y para test debemos clasisificar un conjunto suficientemente grande de textos de tweets en las dos categorias en números similares para cada una de las dos categorias\n",
    "\n",
    "Crearemos un algoritmo que nos permite clasificar algunos tweets del DataFrame en una nueva columna `'label'`, la cual tendrá un valor nulo cuando el tweet no este clasificado. Una vez un tweet sea clasificado, se añadirá a una lista de similaridad y sólo se clasificarán nuevos tweets que no sean similares a los previamente clasificados.  Para ello se usará el método `extractOne` del módulo `process` de `fuzzywuzzy` con scorer `fuzz.ratio` basado en la distancia Levenshtein entre dos textos."
   ]
  },
  {
   "cell_type": "code",
   "execution_count": null,
   "metadata": {},
   "outputs": [],
   "source": [
    "from fuzzywuzzy import process\n",
    "from fuzzywuzzy import  fuzz"
   ]
  },
  {
   "cell_type": "code",
   "execution_count": 206,
   "metadata": {},
   "outputs": [
    {
     "data": {
      "text/plain": [
       "22"
      ]
     },
     "execution_count": 206,
     "metadata": {},
     "output_type": "execute_result"
    }
   ],
   "source": [
    "process.extractOne('hola',['mundo'],scorer=fuzz.ratio)[-1]"
   ]
  },
  {
   "cell_type": "code",
   "execution_count": 214,
   "metadata": {},
   "outputs": [
    {
     "data": {
      "text/html": [
       "<div>\n",
       "<style scoped>\n",
       "    .dataframe tbody tr th:only-of-type {\n",
       "        vertical-align: middle;\n",
       "    }\n",
       "\n",
       "    .dataframe tbody tr th {\n",
       "        vertical-align: top;\n",
       "    }\n",
       "\n",
       "    .dataframe thead th {\n",
       "        text-align: right;\n",
       "    }\n",
       "</style>\n",
       "<table border=\"1\" class=\"dataframe\">\n",
       "  <thead>\n",
       "    <tr style=\"text-align: right;\">\n",
       "      <th></th>\n",
       "      <th>user_name</th>\n",
       "      <th>user_location</th>\n",
       "      <th>user_description</th>\n",
       "      <th>user_verified</th>\n",
       "      <th>date</th>\n",
       "      <th>text</th>\n",
       "      <th>hashtags</th>\n",
       "      <th>source</th>\n",
       "      <th>label</th>\n",
       "    </tr>\n",
       "  </thead>\n",
       "  <tbody>\n",
       "    <tr>\n",
       "      <th>0</th>\n",
       "      <td>Aníbal Cano</td>\n",
       "      <td></td>\n",
       "      <td>Optimista alegre de esta maravillosa vida que Dios Todopoderoso nos entregó . . .</td>\n",
       "      <td>False</td>\n",
       "      <td>2021-05-18 20:35:32</td>\n",
       "      <td>RT @UnivalleU: #Movilización ✊ Gran Marcha del Millón ¡#Cali Despertó!\\n\\nMovilización familiar, artística y cultural de un millón de persona…</td>\n",
       "      <td>[Movilización, Cali]</td>\n",
       "      <td>Twitter for Android</td>\n",
       "      <td>None</td>\n",
       "    </tr>\n",
       "  </tbody>\n",
       "</table>\n",
       "</div>"
      ],
      "text/plain": [
       "     user_name user_location  \\\n",
       "0  Aníbal Cano                 \n",
       "\n",
       "                                                                    user_description  \\\n",
       "0  Optimista alegre de esta maravillosa vida que Dios Todopoderoso nos entregó . . .   \n",
       "\n",
       "   user_verified                date  \\\n",
       "0          False 2021-05-18 20:35:32   \n",
       "\n",
       "                                                                                                                                             text  \\\n",
       "0  RT @UnivalleU: #Movilización ✊ Gran Marcha del Millón ¡#Cali Despertó!\\n\\nMovilización familiar, artística y cultural de un millón de persona…   \n",
       "\n",
       "               hashtags               source label  \n",
       "0  [Movilización, Cali]  Twitter for Android  None  "
      ]
     },
     "execution_count": 214,
     "metadata": {},
     "output_type": "execute_result"
    }
   ],
   "source": [
    "df[:1]"
   ]
  },
  {
   "cell_type": "code",
   "execution_count": 353,
   "metadata": {},
   "outputs": [],
   "source": [
    "tweet=df.loc[0,'text']"
   ]
  },
  {
   "cell_type": "code",
   "execution_count": null,
   "metadata": {},
   "outputs": [],
   "source": [
    "n_train=100\n",
    "n_test=50\n",
    "n_traintest=n_train+n_test\n",
    "df['label']=None\n",
    "ii=0\n",
    "similarity=[]\n",
    "for i in df.index:\n",
    "    print(\"=\"*80)\n",
    "    tweet=df.loc[i,'text']\n",
    "    if similarity:\n",
    "        if process.extractOne(tweet,similarity,scorer=fuzz.ratio)[-1]<90:\n",
    "            similarity.append(tweet)\n",
    "            posneg=input(f\"{tweet}: https://twitter.com/twitter/status/{df.loc[i,'id']}\\n → f/c para 'a favor'/'en contra' or <Enter> para continuar:\\n\")\n",
    "            if posneg=='c':\n",
    "                posneg='con'\n",
    "            elif posneg=='f':\n",
    "                posneg='fav'\n",
    "            else:\n",
    "                continue\n",
    "            df.loc[i,'label']=posneg\n",
    "            ii=ii+1\n",
    "    else:\n",
    "        similarity.append(tweet)\n",
    "\n",
    "    if ii==n_traintest:\n",
    "        break"
   ]
  },
  {
   "cell_type": "markdown",
   "metadata": {},
   "source": [
    "Select the train/test filtered DataFrame"
   ]
  },
  {
   "cell_type": "code",
   "execution_count": 256,
   "metadata": {},
   "outputs": [],
   "source": [
    "tmp=df[~df['label'].isna()].reset_index(drop=True)"
   ]
  },
  {
   "cell_type": "code",
   "execution_count": 360,
   "metadata": {},
   "outputs": [
    {
     "data": {
      "text/html": [
       "<div>\n",
       "<style scoped>\n",
       "    .dataframe tbody tr th:only-of-type {\n",
       "        vertical-align: middle;\n",
       "    }\n",
       "\n",
       "    .dataframe tbody tr th {\n",
       "        vertical-align: top;\n",
       "    }\n",
       "\n",
       "    .dataframe thead th {\n",
       "        text-align: right;\n",
       "    }\n",
       "</style>\n",
       "<table border=\"1\" class=\"dataframe\">\n",
       "  <thead>\n",
       "    <tr style=\"text-align: right;\">\n",
       "      <th></th>\n",
       "      <th>user_name</th>\n",
       "      <th>user_location</th>\n",
       "      <th>user_description</th>\n",
       "      <th>user_verified</th>\n",
       "      <th>date</th>\n",
       "      <th>text</th>\n",
       "      <th>hashtags</th>\n",
       "      <th>source</th>\n",
       "      <th>id</th>\n",
       "      <th>label</th>\n",
       "    </tr>\n",
       "  </thead>\n",
       "  <tbody>\n",
       "    <tr>\n",
       "      <th>0</th>\n",
       "      <td>¡#55/86 en 2022!🦍🦍💪💎💎👏👏🚀🚀🌕</td>\n",
       "      <td></td>\n",
       "      <td>#sigamonoslosbuenos #movimientoantiuribista</td>\n",
       "      <td>False</td>\n",
       "      <td>2021-05-18 20:35:29</td>\n",
       "      <td>RT @PoloDemocratico: El #ParoNacional es la manifestación del pueblo por la inconformidad qué hay con el gobierno de @IvanDuque, queremos q…</td>\n",
       "      <td>[ParoNacional]</td>\n",
       "      <td>Twitter for iPhone</td>\n",
       "      <td>1394753529844219907</td>\n",
       "      <td>fav</td>\n",
       "    </tr>\n",
       "    <tr>\n",
       "      <th>1</th>\n",
       "      <td>💤#Dreamer👀🧠💓 🇨🇴🇪🇸</td>\n",
       "      <td>Barcelona, España</td>\n",
       "      <td>Hasta los🥚🥚de la #DESinformación y #MIEDO que generan la Prensa y el Gobierno😡\\n\\nNo creas NADA de lo que leas, escuches o veas #Investiga #Lee #Cuestiona 🧠♥️</td>\n",
       "      <td>False</td>\n",
       "      <td>2021-05-18 20:31:51</td>\n",
       "      <td>@clarincom Estos son los del entierro del Diego?\\nO más de la mentira diaria del #GobiernoDeInutiles \\n\\n#Covidiano🐑😷💉Evita las aglomeraciones, #VirusChino sabe cuándo sales a protestar y NO ATACA\\nAún crees que #FalsaPandemia se trata de Salud Pública?😂🤣\\n#Argentina #Colombia #ParoNacional https://t.co/6jAXYRVEQ4</td>\n",
       "      <td>[GobiernoDeInutiles, Covidiano]</td>\n",
       "      <td>Twitter for Android</td>\n",
       "      <td>1394752616765198338</td>\n",
       "      <td>con</td>\n",
       "    </tr>\n",
       "    <tr>\n",
       "      <th>2</th>\n",
       "      <td>ingrid tatiana</td>\n",
       "      <td>colombia</td>\n",
       "      <td>Soy Una Idiota Por Pensar Que Por Una Vez En La Vida Podía Contar Contigo ...</td>\n",
       "      <td>False</td>\n",
       "      <td>2021-05-18 20:31:42</td>\n",
       "      <td>RT @JorgeOvalleB: #DesempleoJuvenil Para el 2020 el desempleo juvenil en #CALI fue de 29,1% con 112.929 jóvenes desempleados/as, con 26 mil…</td>\n",
       "      <td>[DesempleoJuvenil, CALI]</td>\n",
       "      <td>Twitter for Android</td>\n",
       "      <td>1394752578718773256</td>\n",
       "      <td>fav</td>\n",
       "    </tr>\n",
       "  </tbody>\n",
       "</table>\n",
       "</div>"
      ],
      "text/plain": [
       "                    user_name      user_location  \\\n",
       "0  ¡#55/86 en 2022!🦍🦍💪💎💎👏👏🚀🚀🌕                      \n",
       "1           💤#Dreamer👀🧠💓 🇨🇴🇪🇸  Barcelona, España   \n",
       "2              ingrid tatiana           colombia   \n",
       "\n",
       "                                                                                                                                                 user_description  \\\n",
       "0                                                                                                                     #sigamonoslosbuenos #movimientoantiuribista   \n",
       "1  Hasta los🥚🥚de la #DESinformación y #MIEDO que generan la Prensa y el Gobierno😡\\n\\nNo creas NADA de lo que leas, escuches o veas #Investiga #Lee #Cuestiona 🧠♥️   \n",
       "2                                                                                   Soy Una Idiota Por Pensar Que Por Una Vez En La Vida Podía Contar Contigo ...   \n",
       "\n",
       "   user_verified                date  \\\n",
       "0          False 2021-05-18 20:35:29   \n",
       "1          False 2021-05-18 20:31:51   \n",
       "2          False 2021-05-18 20:31:42   \n",
       "\n",
       "                                                                                                                                                                                                                                                                                                                          text  \\\n",
       "0                                                                                                                                                                                 RT @PoloDemocratico: El #ParoNacional es la manifestación del pueblo por la inconformidad qué hay con el gobierno de @IvanDuque, queremos q…   \n",
       "1  @clarincom Estos son los del entierro del Diego?\\nO más de la mentira diaria del #GobiernoDeInutiles \\n\\n#Covidiano🐑😷💉Evita las aglomeraciones, #VirusChino sabe cuándo sales a protestar y NO ATACA\\nAún crees que #FalsaPandemia se trata de Salud Pública?😂🤣\\n#Argentina #Colombia #ParoNacional https://t.co/6jAXYRVEQ4   \n",
       "2                                                                                                                                                                                 RT @JorgeOvalleB: #DesempleoJuvenil Para el 2020 el desempleo juvenil en #CALI fue de 29,1% con 112.929 jóvenes desempleados/as, con 26 mil…   \n",
       "\n",
       "                          hashtags               source                   id  \\\n",
       "0                   [ParoNacional]   Twitter for iPhone  1394753529844219907   \n",
       "1  [GobiernoDeInutiles, Covidiano]  Twitter for Android  1394752616765198338   \n",
       "2         [DesempleoJuvenil, CALI]  Twitter for Android  1394752578718773256   \n",
       "\n",
       "  label  \n",
       "0   fav  \n",
       "1   con  \n",
       "2   fav  "
      ]
     },
     "execution_count": 360,
     "metadata": {},
     "output_type": "execute_result"
    }
   ],
   "source": [
    "tmp[:3]"
   ]
  },
  {
   "cell_type": "code",
   "execution_count": 257,
   "metadata": {},
   "outputs": [
    {
     "data": {
      "text/plain": [
       "(149, 10)"
      ]
     },
     "execution_count": 257,
     "metadata": {},
     "output_type": "execute_result"
    }
   ],
   "source": [
    "tmp.shape"
   ]
  },
  {
   "cell_type": "code",
   "execution_count": 258,
   "metadata": {},
   "outputs": [],
   "source": [
    "train=tmp[:n_train][['text','label']]"
   ]
  },
  {
   "cell_type": "code",
   "execution_count": 259,
   "metadata": {},
   "outputs": [],
   "source": [
    "from textblob.classifiers import NaiveBayesClassifier"
   ]
  },
  {
   "cell_type": "code",
   "execution_count": 260,
   "metadata": {},
   "outputs": [],
   "source": [
    "train.to_json('train.json',orient='records')"
   ]
  },
  {
   "cell_type": "code",
   "execution_count": 261,
   "metadata": {},
   "outputs": [
    {
     "name": "stderr",
     "output_type": "stream",
     "text": [
      "[nltk_data] Downloading package punkt to /home/restrepo/nltk_data...\n",
      "[nltk_data]   Package punkt is already up-to-date!\n"
     ]
    },
    {
     "data": {
      "text/plain": [
       "True"
      ]
     },
     "execution_count": 261,
     "metadata": {},
     "output_type": "execute_result"
    }
   ],
   "source": [
    "import nltk\n",
    "nltk.download('punkt')  "
   ]
  },
  {
   "cell_type": "code",
   "execution_count": 262,
   "metadata": {},
   "outputs": [],
   "source": [
    "with open('train.json', 'r') as fp:\n",
    "     cl = NaiveBayesClassifier(fp, format=\"json\")"
   ]
  },
  {
   "cell_type": "code",
   "execution_count": 311,
   "metadata": {},
   "outputs": [],
   "source": [
    "test=tmp[n_train:][['text','label']].reset_index(drop=True)"
   ]
  },
  {
   "cell_type": "code",
   "execution_count": 312,
   "metadata": {},
   "outputs": [],
   "source": [
    "test.to_json('test.json',orient='records')"
   ]
  },
  {
   "cell_type": "code",
   "execution_count": 313,
   "metadata": {},
   "outputs": [],
   "source": [
    "fulltest=test.copy()\n",
    "fulltest['test']=fulltest['text'].apply(cl.classify)"
   ]
  },
  {
   "cell_type": "code",
   "execution_count": 362,
   "metadata": {},
   "outputs": [
    {
     "data": {
      "text/html": [
       "<div>\n",
       "<style scoped>\n",
       "    .dataframe tbody tr th:only-of-type {\n",
       "        vertical-align: middle;\n",
       "    }\n",
       "\n",
       "    .dataframe tbody tr th {\n",
       "        vertical-align: top;\n",
       "    }\n",
       "\n",
       "    .dataframe thead th {\n",
       "        text-align: right;\n",
       "    }\n",
       "</style>\n",
       "<table border=\"1\" class=\"dataframe\">\n",
       "  <thead>\n",
       "    <tr style=\"text-align: right;\">\n",
       "      <th></th>\n",
       "      <th>text</th>\n",
       "      <th>label</th>\n",
       "      <th>test</th>\n",
       "    </tr>\n",
       "  </thead>\n",
       "  <tbody>\n",
       "    <tr>\n",
       "      <th>0</th>\n",
       "      <td>RT @FabioCardozoM: Como asumirá usted @JorgeIvanOspina la orden presidencial de levantar los bloqueos en #Cali haciendo uso del mayor despl…</td>\n",
       "      <td>con</td>\n",
       "      <td>con</td>\n",
       "    </tr>\n",
       "    <tr>\n",
       "      <th>1</th>\n",
       "      <td>RT @TatyMunozO: Los bloqueos afectan al pueblo que dicen estar defendiendo. Empresas están a punto de cerrar para dejar muchos desempleados…</td>\n",
       "      <td>con</td>\n",
       "      <td>con</td>\n",
       "    </tr>\n",
       "    <tr>\n",
       "      <th>2</th>\n",
       "      <td>RT @arturo2driguez: Compartan por favor sus carteles informativos sobre los puntos de manifestación de mañana #19M en todo el país.\\n#ParoNa…</td>\n",
       "      <td>fav</td>\n",
       "      <td>fav</td>\n",
       "    </tr>\n",
       "  </tbody>\n",
       "</table>\n",
       "</div>"
      ],
      "text/plain": [
       "                                                                                                                                            text  \\\n",
       "0   RT @FabioCardozoM: Como asumirá usted @JorgeIvanOspina la orden presidencial de levantar los bloqueos en #Cali haciendo uso del mayor despl…   \n",
       "1   RT @TatyMunozO: Los bloqueos afectan al pueblo que dicen estar defendiendo. Empresas están a punto de cerrar para dejar muchos desempleados…   \n",
       "2  RT @arturo2driguez: Compartan por favor sus carteles informativos sobre los puntos de manifestación de mañana #19M en todo el país.\\n#ParoNa…   \n",
       "\n",
       "  label test  \n",
       "0   con  con  \n",
       "1   con  con  \n",
       "2   fav  fav  "
      ]
     },
     "execution_count": 362,
     "metadata": {},
     "output_type": "execute_result"
    }
   ],
   "source": [
    "fulltest[['text','label','test']][:3]"
   ]
  },
  {
   "cell_type": "code",
   "execution_count": 363,
   "metadata": {},
   "outputs": [
    {
     "data": {
      "text/plain": [
       "0.7551020408163265"
      ]
     },
     "execution_count": 363,
     "metadata": {},
     "output_type": "execute_result"
    }
   ],
   "source": [
    "cl.accuracy( [ (d.get('text'),d.get('label')) for d in test.to_dict(orient='records')] )"
   ]
  },
  {
   "cell_type": "code",
   "execution_count": 326,
   "metadata": {},
   "outputs": [],
   "source": [
    "fulltest['prob']=fulltest['text'].apply(lambda t:   \n",
    "                                cl.prob_classify( t ).prob(   cl.classify( t  )  ) ).round(2)"
   ]
  },
  {
   "cell_type": "code",
   "execution_count": 364,
   "metadata": {},
   "outputs": [
    {
     "data": {
      "text/html": [
       "<div>\n",
       "<style scoped>\n",
       "    .dataframe tbody tr th:only-of-type {\n",
       "        vertical-align: middle;\n",
       "    }\n",
       "\n",
       "    .dataframe tbody tr th {\n",
       "        vertical-align: top;\n",
       "    }\n",
       "\n",
       "    .dataframe thead th {\n",
       "        text-align: right;\n",
       "    }\n",
       "</style>\n",
       "<table border=\"1\" class=\"dataframe\">\n",
       "  <thead>\n",
       "    <tr style=\"text-align: right;\">\n",
       "      <th></th>\n",
       "      <th>text</th>\n",
       "      <th>label</th>\n",
       "      <th>test</th>\n",
       "      <th>prob</th>\n",
       "    </tr>\n",
       "  </thead>\n",
       "  <tbody>\n",
       "    <tr>\n",
       "      <th>0</th>\n",
       "      <td>RT @FabioCardozoM: Como asumirá usted @JorgeIvanOspina la orden presidencial de levantar los bloqueos en #Cali haciendo uso del mayor despl…</td>\n",
       "      <td>con</td>\n",
       "      <td>con</td>\n",
       "      <td>0.98</td>\n",
       "    </tr>\n",
       "    <tr>\n",
       "      <th>1</th>\n",
       "      <td>RT @TatyMunozO: Los bloqueos afectan al pueblo que dicen estar defendiendo. Empresas están a punto de cerrar para dejar muchos desempleados…</td>\n",
       "      <td>con</td>\n",
       "      <td>con</td>\n",
       "      <td>1.00</td>\n",
       "    </tr>\n",
       "    <tr>\n",
       "      <th>2</th>\n",
       "      <td>RT @arturo2driguez: Compartan por favor sus carteles informativos sobre los puntos de manifestación de mañana #19M en todo el país.\\n#ParoNa…</td>\n",
       "      <td>fav</td>\n",
       "      <td>fav</td>\n",
       "      <td>1.00</td>\n",
       "    </tr>\n",
       "    <tr>\n",
       "      <th>3</th>\n",
       "      <td>Conozca el mapa de la solidaridad caleña #ParoNacional #SOSCaliDDHH #SOSCali https://t.co/4Q0MMpgwJK @BienestarSociaI @chucho_gonzalez @AlcaldiaDeCali @JorgeIvanOspina @GSocialValle @Arqui_Cali @arzobispodecali @TICAlcaldiaCali @STransparencia @personeriacali @ConcejoCali</td>\n",
       "      <td>fav</td>\n",
       "      <td>con</td>\n",
       "      <td>0.85</td>\n",
       "    </tr>\n",
       "    <tr>\n",
       "      <th>4</th>\n",
       "      <td>RT @personeriacali: #AEstaHora Continuamos realizando acompañamiento como garantes de derechos humanos en los diferentes puntos de #Cali do…</td>\n",
       "      <td>fav</td>\n",
       "      <td>con</td>\n",
       "      <td>1.00</td>\n",
       "    </tr>\n",
       "    <tr>\n",
       "      <th>5</th>\n",
       "      <td>#ParoNacional18M #SOSColombiaDDHH  #ParoNacional #SOSColombia #ParoNacional \\n\\n\"Al igual que otros partidos populistas del mundo, el Centro Democrático de Uribe y Duque ejerce su poder mediante una estrategia que consiste en avivar agresivamente a su base:\"\\nhttps://t.co/VwH4eg521c</td>\n",
       "      <td>fav</td>\n",
       "      <td>fav</td>\n",
       "      <td>0.99</td>\n",
       "    </tr>\n",
       "    <tr>\n",
       "      <th>6</th>\n",
       "      <td>#Colombia 🇨🇴 | Ciudadanos denunciaron este martes que el #Esmad de la Policía reprimió la noche del lunes a las personas que se manifestaban en varias ciudades del país, en el marco del #ParoNacional https://t.co/3rPldywItQ</td>\n",
       "      <td>fav</td>\n",
       "      <td>fav</td>\n",
       "      <td>1.00</td>\n",
       "    </tr>\n",
       "  </tbody>\n",
       "</table>\n",
       "</div>"
      ],
      "text/plain": [
       "                                                                                                                                                                                                                                                                                          text  \\\n",
       "0                                                                                                                                                 RT @FabioCardozoM: Como asumirá usted @JorgeIvanOspina la orden presidencial de levantar los bloqueos en #Cali haciendo uso del mayor despl…   \n",
       "1                                                                                                                                                 RT @TatyMunozO: Los bloqueos afectan al pueblo que dicen estar defendiendo. Empresas están a punto de cerrar para dejar muchos desempleados…   \n",
       "2                                                                                                                                                RT @arturo2driguez: Compartan por favor sus carteles informativos sobre los puntos de manifestación de mañana #19M en todo el país.\\n#ParoNa…   \n",
       "3             Conozca el mapa de la solidaridad caleña #ParoNacional #SOSCaliDDHH #SOSCali https://t.co/4Q0MMpgwJK @BienestarSociaI @chucho_gonzalez @AlcaldiaDeCali @JorgeIvanOspina @GSocialValle @Arqui_Cali @arzobispodecali @TICAlcaldiaCali @STransparencia @personeriacali @ConcejoCali   \n",
       "4                                                                                                                                                 RT @personeriacali: #AEstaHora Continuamos realizando acompañamiento como garantes de derechos humanos en los diferentes puntos de #Cali do…   \n",
       "5  #ParoNacional18M #SOSColombiaDDHH  #ParoNacional #SOSColombia #ParoNacional \\n\\n\"Al igual que otros partidos populistas del mundo, el Centro Democrático de Uribe y Duque ejerce su poder mediante una estrategia que consiste en avivar agresivamente a su base:\"\\nhttps://t.co/VwH4eg521c   \n",
       "6                                                              #Colombia 🇨🇴 | Ciudadanos denunciaron este martes que el #Esmad de la Policía reprimió la noche del lunes a las personas que se manifestaban en varias ciudades del país, en el marco del #ParoNacional https://t.co/3rPldywItQ   \n",
       "\n",
       "  label test  prob  \n",
       "0   con  con  0.98  \n",
       "1   con  con  1.00  \n",
       "2   fav  fav  1.00  \n",
       "3   fav  con  0.85  \n",
       "4   fav  con  1.00  \n",
       "5   fav  fav  0.99  \n",
       "6   fav  fav  1.00  "
      ]
     },
     "execution_count": 364,
     "metadata": {},
     "output_type": "execute_result"
    }
   ],
   "source": [
    "fulltest[:7]"
   ]
  },
  {
   "cell_type": "markdown",
   "metadata": {},
   "source": [
    "Aplicar al DataFrame Completo"
   ]
  },
  {
   "cell_type": "code",
   "execution_count": null,
   "metadata": {},
   "outputs": [],
   "source": [
    "df['test']=df['text'].apply(cl.classify)\n",
    "df['prob']=df['text'].apply(lambda t:   \n",
    "                                cl.prob_classify( t ).prob(   cl.classify( t  )  ) ).round(2)"
   ]
  },
  {
   "cell_type": "code",
   "execution_count": 389,
   "metadata": {},
   "outputs": [],
   "source": [
    "dfp=df.drop_duplicates('text').reset_index(drop=True)"
   ]
  },
  {
   "cell_type": "code",
   "execution_count": 390,
   "metadata": {},
   "outputs": [
    {
     "data": {
      "text/html": [
       "<div>\n",
       "<style scoped>\n",
       "    .dataframe tbody tr th:only-of-type {\n",
       "        vertical-align: middle;\n",
       "    }\n",
       "\n",
       "    .dataframe tbody tr th {\n",
       "        vertical-align: top;\n",
       "    }\n",
       "\n",
       "    .dataframe thead th {\n",
       "        text-align: right;\n",
       "    }\n",
       "</style>\n",
       "<table border=\"1\" class=\"dataframe\">\n",
       "  <thead>\n",
       "    <tr style=\"text-align: right;\">\n",
       "      <th></th>\n",
       "      <th>text</th>\n",
       "      <th>test</th>\n",
       "      <th>prob</th>\n",
       "    </tr>\n",
       "  </thead>\n",
       "  <tbody>\n",
       "    <tr>\n",
       "      <th>1345</th>\n",
       "      <td>@rcnradio Primer vez en #Colombia que un #ParoNacional dura 21 días adornado con infames bloqueos y vandalismo! Duque permite la dictadura de bloqueos y vandalismo! #Duquedespierte @CNNEE</td>\n",
       "      <td>con</td>\n",
       "      <td>0.78</td>\n",
       "    </tr>\n",
       "    <tr>\n",
       "      <th>222</th>\n",
       "      <td>RT @CABLENOTICIAS: #EnVideo | Centenar de cristianos llegan a esta hora a la Plaza de Bolívar para orar por la paz de Colombia en medio de…</td>\n",
       "      <td>con</td>\n",
       "      <td>1.00</td>\n",
       "    </tr>\n",
       "    <tr>\n",
       "      <th>1258</th>\n",
       "      <td>@IvanDuque Este y sus asesores son unos payasos y unos títeres, utilizando la fuerza como dice el asesino de Uribe, le recuerdo que tampoco existe derecho a matar, a robar al pueblo, si existe el derecho a una vida digna y todo lo que conlleva #NoMasUribe #ParoNacional #NosEstanMantando</td>\n",
       "      <td>con</td>\n",
       "      <td>1.00</td>\n",
       "    </tr>\n",
       "    <tr>\n",
       "      <th>1453</th>\n",
       "      <td>@IvanDuque No existe en colombia ningun derecho a desaparecer persona, a asesinar personas en paro, a que civiles les disparen, no existe ningun derecho a asesinar lideres civiles. No existe en colombia ningun  derecho a ser elegido con votos del narcotrafico\\n#ParoNacional</td>\n",
       "      <td>con</td>\n",
       "      <td>0.79</td>\n",
       "    </tr>\n",
       "    <tr>\n",
       "      <th>465</th>\n",
       "      <td>RT @erickzaraza: Siguen las agresiones del Esmad; lo he estado diciendo, los señores del comité del paro, deben ser enfáticos con el gobier…</td>\n",
       "      <td>con</td>\n",
       "      <td>0.77</td>\n",
       "    </tr>\n",
       "    <tr>\n",
       "      <th>1711</th>\n",
       "      <td>Para Colombia, el Agro, la Internacionalización y la Innovación No a la #MasacreLaboralTemporalesSENA #TemporalesSENAFormalizados #ProrrogaYa los \\n@TemporalesSENA piden apoyo @ESAPOficial @wilsonariasc @dnp_colombia @MintrabajoCol @cutcolombia #ParoNacional https://t.co/ix0pkpNK07</td>\n",
       "      <td>fav</td>\n",
       "      <td>0.85</td>\n",
       "    </tr>\n",
       "    <tr>\n",
       "      <th>1632</th>\n",
       "      <td>RT @anasil33: Lo que sucede en Colombia  es un ATAQUE TERRORISTA , dejen de decirle protesta social, las cosas por su nombre!\\n#ParoAsesino…</td>\n",
       "      <td>con</td>\n",
       "      <td>0.65</td>\n",
       "    </tr>\n",
       "    <tr>\n",
       "      <th>896</th>\n",
       "      <td>RT @GABRIELAP_ORTIZ: La gente que dice: \"acepto el paro, pero no los bloqueos\", ¿sabrán que paro significa PARAR y que parar significa dete…</td>\n",
       "      <td>con</td>\n",
       "      <td>1.00</td>\n",
       "    </tr>\n",
       "    <tr>\n",
       "      <th>1412</th>\n",
       "      <td>RT @Dejusticia: #ParoNacional #Colombia Tenemos una propuesta para salir de la espiral de violencia que ha causado el uso desproporcionado…</td>\n",
       "      <td>fav</td>\n",
       "      <td>0.60</td>\n",
       "    </tr>\n",
       "    <tr>\n",
       "      <th>836</th>\n",
       "      <td>🔴 Ayúdanos a compartir la transmisión de toda la información en esta jornada 21 de #ParoNacional. \\n\\nAcompañamos a la ciudadanía en el Concejo de Bogotá y en el Portal Américas \\n\\nEmisión en Directo aquí ⬇️\\nhttps://t.co/yzbXckJbfu</td>\n",
       "      <td>fav</td>\n",
       "      <td>0.97</td>\n",
       "    </tr>\n",
       "  </tbody>\n",
       "</table>\n",
       "</div>"
      ],
      "text/plain": [
       "                                                                                                                                                                                                                                                                                                 text  \\\n",
       "1345                                                                                                      @rcnradio Primer vez en #Colombia que un #ParoNacional dura 21 días adornado con infames bloqueos y vandalismo! Duque permite la dictadura de bloqueos y vandalismo! #Duquedespierte @CNNEE   \n",
       "222                                                                                                                                                       RT @CABLENOTICIAS: #EnVideo | Centenar de cristianos llegan a esta hora a la Plaza de Bolívar para orar por la paz de Colombia en medio de…   \n",
       "1258  @IvanDuque Este y sus asesores son unos payasos y unos títeres, utilizando la fuerza como dice el asesino de Uribe, le recuerdo que tampoco existe derecho a matar, a robar al pueblo, si existe el derecho a una vida digna y todo lo que conlleva #NoMasUribe #ParoNacional #NosEstanMantando   \n",
       "1453               @IvanDuque No existe en colombia ningun derecho a desaparecer persona, a asesinar personas en paro, a que civiles les disparen, no existe ningun derecho a asesinar lideres civiles. No existe en colombia ningun  derecho a ser elegido con votos del narcotrafico\\n#ParoNacional   \n",
       "465                                                                                                                                                      RT @erickzaraza: Siguen las agresiones del Esmad; lo he estado diciendo, los señores del comité del paro, deben ser enfáticos con el gobier…   \n",
       "1711       Para Colombia, el Agro, la Internacionalización y la Innovación No a la #MasacreLaboralTemporalesSENA #TemporalesSENAFormalizados #ProrrogaYa los \\n@TemporalesSENA piden apoyo @ESAPOficial @wilsonariasc @dnp_colombia @MintrabajoCol @cutcolombia #ParoNacional https://t.co/ix0pkpNK07   \n",
       "1632                                                                                                                                                     RT @anasil33: Lo que sucede en Colombia  es un ATAQUE TERRORISTA , dejen de decirle protesta social, las cosas por su nombre!\\n#ParoAsesino…   \n",
       "896                                                                                                                                                      RT @GABRIELAP_ORTIZ: La gente que dice: \"acepto el paro, pero no los bloqueos\", ¿sabrán que paro significa PARAR y que parar significa dete…   \n",
       "1412                                                                                                                                                      RT @Dejusticia: #ParoNacional #Colombia Tenemos una propuesta para salir de la espiral de violencia que ha causado el uso desproporcionado…   \n",
       "836                                                         🔴 Ayúdanos a compartir la transmisión de toda la información en esta jornada 21 de #ParoNacional. \\n\\nAcompañamos a la ciudadanía en el Concejo de Bogotá y en el Portal Américas \\n\\nEmisión en Directo aquí ⬇️\\nhttps://t.co/yzbXckJbfu   \n",
       "\n",
       "     test  prob  \n",
       "1345  con  0.78  \n",
       "222   con  1.00  \n",
       "1258  con  1.00  \n",
       "1453  con  0.79  \n",
       "465   con  0.77  \n",
       "1711  fav  0.85  \n",
       "1632  con  0.65  \n",
       "896   con  1.00  \n",
       "1412  fav  0.60  \n",
       "836   fav  0.97  "
      ]
     },
     "execution_count": 390,
     "metadata": {},
     "output_type": "execute_result"
    }
   ],
   "source": [
    "dfp[['text','test','prob']].sample(10)"
   ]
  },
  {
   "cell_type": "code",
   "execution_count": 391,
   "metadata": {},
   "outputs": [
    {
     "data": {
      "text/plain": [
       "test\n",
       "con    882\n",
       "fav    871\n",
       "Name: test, dtype: int64"
      ]
     },
     "execution_count": 391,
     "metadata": {},
     "output_type": "execute_result"
    }
   ],
   "source": [
    "dfp.groupby('test')['test'].count()"
   ]
  },
  {
   "cell_type": "markdown",
   "metadata": {},
   "source": [
    "Sin quitar RT"
   ]
  },
  {
   "cell_type": "code",
   "execution_count": 392,
   "metadata": {},
   "outputs": [
    {
     "data": {
      "text/plain": [
       "test\n",
       "con    1881\n",
       "fav    3119\n",
       "Name: test, dtype: int64"
      ]
     },
     "execution_count": 392,
     "metadata": {},
     "output_type": "execute_result"
    }
   ],
   "source": [
    "df.groupby('test')['test'].count()"
   ]
  },
  {
   "cell_type": "markdown",
   "metadata": {},
   "source": [
    "### Mejorar la precisión preprocesando los tweets"
   ]
  },
  {
   "cell_type": "code",
   "execution_count": 192,
   "metadata": {},
   "outputs": [
    {
     "name": "stderr",
     "output_type": "stream",
     "text": [
      "[nltk_data] Downloading package stopwords to\n",
      "[nltk_data]     /home/restrepo/nltk_data...\n",
      "[nltk_data]   Package stopwords is already up-to-date!\n"
     ]
    },
    {
     "data": {
      "text/plain": [
       "True"
      ]
     },
     "execution_count": 192,
     "metadata": {},
     "output_type": "execute_result"
    }
   ],
   "source": [
    "import nltk\n",
    "from nltk.corpus import stopwords\n",
    "nltk.download('stopwords')"
   ]
  },
  {
   "cell_type": "markdown",
   "metadata": {},
   "source": [
    "See:\n",
    "* https://www.pluralsight.com/guides/building-a-twitter-sentiment-analysis-in-python"
   ]
  },
  {
   "cell_type": "code",
   "execution_count": 193,
   "metadata": {},
   "outputs": [],
   "source": [
    "import re\n",
    "stop_words=['rt',':']#+stopwords.words('spanish')\n",
    "def preprocess_tweet_text(tweet):\n",
    "    tweet=tweet.lower()\n",
    "    # Remove urls\n",
    "    tweet = re.sub(r\"http\\S+|www\\S+|https\\S+\", '', tweet, re.UNICODE ,flags=re.MULTILINE)\n",
    "    # Remove user @ references and '#' from tweet\n",
    "    tweet = re.sub(r'\\@\\w+|\\#','', tweet)\n",
    "    # Remove punctuations\n",
    "    #tweet = tweet.translate(str.maketrans('', '', string.punctuation))\n",
    "    # Remove stopwords\n",
    "    tweet_tokens = tweet.replace(\"  \",\" \").split()\n",
    "    filtered_words = [w for w in tweet_tokens if not w in stop_words]\n",
    "    \n",
    "    #ps = PorterStemmer()\n",
    "    #stemmed_words = [ps.stem(w) for w in filtered_words]\n",
    "    #lemmatizer = WordNetLemmatizer()\n",
    "    #lemma_words = [lemmatizer.lemmatize(w, pos='a') for w in stemmed_words]\n",
    "    \n",
    "    return \" \".join(filtered_words)"
   ]
  }
 ],
 "metadata": {
  "kernelspec": {
   "display_name": "Python 3 (ipykernel)",
   "language": "python",
   "name": "python3"
  },
  "language_info": {
   "codemirror_mode": {
    "name": "ipython",
    "version": 3
   },
   "file_extension": ".py",
   "mimetype": "text/x-python",
   "name": "python",
   "nbconvert_exporter": "python",
   "pygments_lexer": "ipython3",
   "version": "3.7.3"
  }
 },
 "nbformat": 4,
 "nbformat_minor": 4
}
