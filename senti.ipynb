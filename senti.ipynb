{
 "cells": [
  {
   "cell_type": "markdown",
   "metadata": {},
   "source": [
    "## Análisis de sentimientos de Twitter con Python\n",
    "* https://platzi.com/tutoriales/1874-python-lenguaje-natural/5654-realiza-un-analisis-de-sentimiento-en-3-pasos-con-python/\n",
    "    * Ejemplo https://twitter.com/whaleandjaguar_?lang=en\n",
    "* https://towardsdatascience.com/my-absolute-go-to-for-sentiment-analysis-textblob-3ac3a11d524\n",
    "* https://www.justintodata.com/twitter-sentiment-analysis-python/\n",
    "* https://www.pluralsight.com/guides/building-a-twitter-sentiment-analysis-in-python"
   ]
  },
  {
   "cell_type": "markdown",
   "metadata": {},
   "source": [
    "### 1) Descargar tweets"
   ]
  },
  {
   "cell_type": "code",
   "execution_count": 183,
   "metadata": {},
   "outputs": [
    {
     "name": "stdout",
     "output_type": "stream",
     "text": [
      "Populating the interactive namespace from numpy and matplotlib\n"
     ]
    },
    {
     "name": "stderr",
     "output_type": "stream",
     "text": [
      "/usr/local/lib/python3.7/dist-packages/IPython/core/magics/pylab.py:160: UserWarning: pylab import has clobbered these variables: ['f', 'test']\n",
      "`%matplotlib` prevents importing * from pylab and numpy\n",
      "  \"\\n`%matplotlib` prevents importing * from pylab and numpy\"\n"
     ]
    }
   ],
   "source": [
    "%pylab inline"
   ]
  },
  {
   "cell_type": "code",
   "execution_count": 184,
   "metadata": {},
   "outputs": [],
   "source": [
    "import pandas as pd\n",
    "pd.set_option('display.max_colwidth',500)"
   ]
  },
  {
   "cell_type": "code",
   "execution_count": 215,
   "metadata": {},
   "outputs": [],
   "source": [
    "df=pd.read_json('https://raw.githubusercontent.com/restrepo/twitter/main/tweets_df.json')"
   ]
  },
  {
   "cell_type": "markdown",
   "metadata": {},
   "source": [
    "### 2) Análisis de sentimientos"
   ]
  },
  {
   "cell_type": "code",
   "execution_count": 186,
   "metadata": {},
   "outputs": [],
   "source": [
    "from textblob import TextBlob"
   ]
  },
  {
   "cell_type": "code",
   "execution_count": 187,
   "metadata": {},
   "outputs": [
    {
     "data": {
      "text/plain": [
       "0.7000000000000001"
      ]
     },
     "execution_count": 187,
     "metadata": {},
     "output_type": "execute_result"
    }
   ],
   "source": [
    "TextBlob('the day is bright').polarity"
   ]
  },
  {
   "cell_type": "code",
   "execution_count": 188,
   "metadata": {},
   "outputs": [
    {
     "data": {
      "text/plain": [
       "0.0"
      ]
     },
     "execution_count": 188,
     "metadata": {},
     "output_type": "execute_result"
    }
   ],
   "source": [
    "TextBlob('the day is gray').polarity"
   ]
  },
  {
   "cell_type": "code",
   "execution_count": 189,
   "metadata": {},
   "outputs": [
    {
     "data": {
      "text/plain": [
       "-0.15"
      ]
     },
     "execution_count": 189,
     "metadata": {},
     "output_type": "execute_result"
    }
   ],
   "source": [
    "TextBlob('the day is dark').polarity"
   ]
  },
  {
   "cell_type": "code",
   "execution_count": 190,
   "metadata": {},
   "outputs": [
    {
     "data": {
      "text/plain": [
       "0.0"
      ]
     },
     "execution_count": 190,
     "metadata": {},
     "output_type": "execute_result"
    }
   ],
   "source": [
    "TextBlob('el día es oscuro').polarity"
   ]
  },
  {
   "cell_type": "code",
   "execution_count": null,
   "metadata": {},
   "outputs": [],
   "source": [
    "TextBlob('el día es oscuro').translate(from_lang='es',to='en')"
   ]
  },
  {
   "cell_type": "code",
   "execution_count": null,
   "metadata": {},
   "outputs": [],
   "source": [
    "TextBlob('el día es oscuro').translate(from_lang='es',to='en').polarity"
   ]
  },
  {
   "cell_type": "markdown",
   "metadata": {},
   "source": [
    "### 2. Limitar los tweet a 500 palabras"
   ]
  },
  {
   "cell_type": "code",
   "execution_count": 103,
   "metadata": {},
   "outputs": [],
   "source": [
    "data=df.sample(100).reset_index(drop=True)"
   ]
  },
  {
   "cell_type": "code",
   "execution_count": 104,
   "metadata": {},
   "outputs": [],
   "source": [
    "data['tweet']=data['text'].str.split(':').str[-1]"
   ]
  },
  {
   "cell_type": "code",
   "execution_count": 105,
   "metadata": {},
   "outputs": [
    {
     "data": {
      "text/plain": [
       "22631"
      ]
     },
     "execution_count": 105,
     "metadata": {},
     "output_type": "execute_result"
    }
   ],
   "source": [
    "len(data['tweet'].sum())"
   ]
  },
  {
   "cell_type": "code",
   "execution_count": 106,
   "metadata": {},
   "outputs": [
    {
     "data": {
      "text/html": [
       "<div>\n",
       "<style scoped>\n",
       "    .dataframe tbody tr th:only-of-type {\n",
       "        vertical-align: middle;\n",
       "    }\n",
       "\n",
       "    .dataframe tbody tr th {\n",
       "        vertical-align: top;\n",
       "    }\n",
       "\n",
       "    .dataframe thead th {\n",
       "        text-align: right;\n",
       "    }\n",
       "</style>\n",
       "<table border=\"1\" class=\"dataframe\">\n",
       "  <thead>\n",
       "    <tr style=\"text-align: right;\">\n",
       "      <th></th>\n",
       "      <th>user_name</th>\n",
       "      <th>user_location</th>\n",
       "      <th>user_description</th>\n",
       "      <th>user_verified</th>\n",
       "      <th>date</th>\n",
       "      <th>text</th>\n",
       "      <th>hashtags</th>\n",
       "      <th>source</th>\n",
       "      <th>tweet</th>\n",
       "    </tr>\n",
       "  </thead>\n",
       "  <tbody>\n",
       "    <tr>\n",
       "      <th>10</th>\n",
       "      <td>Oscar Carvajal</td>\n",
       "      <td></td>\n",
       "      <td></td>\n",
       "      <td>False</td>\n",
       "      <td>2021-05-12 03:26:44</td>\n",
       "      <td>RT @intiasprilla: Desde #Cali en compañía de @wilsonariasc y @FabianDiazPlata les cuento que a la gente la quieren confundir, quieren llama…</td>\n",
       "      <td>[Cali]</td>\n",
       "      <td>Twitter for Android</td>\n",
       "      <td>Desde #Cali en compañía de @wilsonariasc y @FabianDiazPlata les cuento que a la gente la quieren confundir, quieren llama…</td>\n",
       "    </tr>\n",
       "  </tbody>\n",
       "</table>\n",
       "</div>"
      ],
      "text/plain": [
       "         user_name user_location user_description  user_verified  \\\n",
       "10  Oscar Carvajal                                         False   \n",
       "\n",
       "                  date  \\\n",
       "10 2021-05-12 03:26:44   \n",
       "\n",
       "                                                                                                                                            text  \\\n",
       "10  RT @intiasprilla: Desde #Cali en compañía de @wilsonariasc y @FabianDiazPlata les cuento que a la gente la quieren confundir, quieren llama…   \n",
       "\n",
       "   hashtags               source  \\\n",
       "10   [Cali]  Twitter for Android   \n",
       "\n",
       "                                                                                                                          tweet  \n",
       "10   Desde #Cali en compañía de @wilsonariasc y @FabianDiazPlata les cuento que a la gente la quieren confundir, quieren llama…  "
      ]
     },
     "execution_count": 106,
     "metadata": {},
     "output_type": "execute_result"
    }
   ],
   "source": [
    "data.loc[[10]]"
   ]
  },
  {
   "cell_type": "code",
   "execution_count": 112,
   "metadata": {},
   "outputs": [],
   "source": [
    "polarity=[]\n",
    "for tweet in data['tweet']:\n",
    "    #print(tweet)\n",
    "    #try:\n",
    "    analysis=TextBlob(tweet)#.translate(from_lang='es',to='en')\n",
    "    #except:\n",
    "    #    analysis=TextBlob(tweet)\n",
    "    polarity.append(analysis.polarity)"
   ]
  },
  {
   "cell_type": "code",
   "execution_count": null,
   "metadata": {},
   "outputs": [],
   "source": [
    "TextBlob."
   ]
  },
  {
   "cell_type": "code",
   "execution_count": 113,
   "metadata": {},
   "outputs": [],
   "source": [
    "data['polarity']=polarity"
   ]
  },
  {
   "cell_type": "code",
   "execution_count": 114,
   "metadata": {},
   "outputs": [
    {
     "data": {
      "text/html": [
       "<div>\n",
       "<style scoped>\n",
       "    .dataframe tbody tr th:only-of-type {\n",
       "        vertical-align: middle;\n",
       "    }\n",
       "\n",
       "    .dataframe tbody tr th {\n",
       "        vertical-align: top;\n",
       "    }\n",
       "\n",
       "    .dataframe thead th {\n",
       "        text-align: right;\n",
       "    }\n",
       "</style>\n",
       "<table border=\"1\" class=\"dataframe\">\n",
       "  <thead>\n",
       "    <tr style=\"text-align: right;\">\n",
       "      <th></th>\n",
       "      <th>text</th>\n",
       "      <th>polarity</th>\n",
       "    </tr>\n",
       "  </thead>\n",
       "  <tbody>\n",
       "    <tr>\n",
       "      <th>0</th>\n",
       "      <td>RT @ACVCRAN: #ParoNacional \"El campesinado del Valle del Río Cimitarra paran en contra del asesinato a líderes y lideresas defensoras de lo…</td>\n",
       "      <td>0.0</td>\n",
       "    </tr>\n",
       "    <tr>\n",
       "      <th>1</th>\n",
       "      <td>RT @elespectador: Los mensajes contradictorios del Gobierno frente al #ParoNacional. \\nhttps://t.co/AfQc2fih3q https://t.co/SGd8NqzNTp</td>\n",
       "      <td>0.0</td>\n",
       "    </tr>\n",
       "    <tr>\n",
       "      <th>2</th>\n",
       "      <td>RT @CSPP_: #IMPORTANTE 🆘🗣️ Es importante que tengamos en cuenta que la defensa de los DDHH en Colombia en el marco del #ParoNacional 🇨🇴 pue…</td>\n",
       "      <td>0.0</td>\n",
       "    </tr>\n",
       "    <tr>\n",
       "      <th>3</th>\n",
       "      <td>RT @dw_espanol: En la primera línea de las protestas en #Colombia\\n\\nEste \"instagramer\" y activista grabó de primera mano lo ocurrido durante…</td>\n",
       "      <td>0.0</td>\n",
       "    </tr>\n",
       "    <tr>\n",
       "      <th>4</th>\n",
       "      <td>RT @GiovanniCelisS: Ciudadanos de #Cali aplauden a @PoliciaColombia luego de levantamiento de bloqueos ilegales y disturbios en esa ciudad…</td>\n",
       "      <td>0.0</td>\n",
       "    </tr>\n",
       "    <tr>\n",
       "      <th>...</th>\n",
       "      <td>...</td>\n",
       "      <td>...</td>\n",
       "    </tr>\n",
       "    <tr>\n",
       "      <th>195</th>\n",
       "      <td>RT @COMANDANTE_EJC: En #Cali, mi mensaje hacia ellos fue contarles que nuestro trabajo es por el bienestar, la estabilidad  y seguridad de…</td>\n",
       "      <td>0.0</td>\n",
       "    </tr>\n",
       "    <tr>\n",
       "      <th>196</th>\n",
       "      <td>RT @DanielPalam: En #Cali acompañamos al Pdte @IvanDuque en diálogo con diferentes instituciones y sectores  del #ValleDelCauca, quienes se…</td>\n",
       "      <td>0.0</td>\n",
       "    </tr>\n",
       "    <tr>\n",
       "      <th>197</th>\n",
       "      <td>RT @KevinMaOficial: Hace unos momentos en Siloé, Cali.  Protesta pacífica, sostenida, pero sobre todo en paz.  #ParoNacional11M #ParoNacion…</td>\n",
       "      <td>0.0</td>\n",
       "    </tr>\n",
       "    <tr>\n",
       "      <th>198</th>\n",
       "      <td>Art. 374 de la Constitución Política de Colombia! Es lo que hay q exigir #ParoNacionalColombia #ParoNacional12M #momentosdecambios #colombia #Cali #referendoya #nomascorruptos @CongresoCol @infopresidencia https://t.co/t9KIqrIcT5</td>\n",
       "      <td>0.0</td>\n",
       "    </tr>\n",
       "    <tr>\n",
       "      <th>199</th>\n",
       "      <td>RT @N0S3S74NM474ND0: Y los desaparecidos?\\nY los muertos?\\nQuien responde?\\n✊🇨🇴\\n #ParoNacional11M #ParoNacional #ResistenciaColombia https://t…</td>\n",
       "      <td>0.0</td>\n",
       "    </tr>\n",
       "  </tbody>\n",
       "</table>\n",
       "<p>200 rows × 2 columns</p>\n",
       "</div>"
      ],
      "text/plain": [
       "                                                                                                                                                                                                                                      text  \\\n",
       "0                                                                                             RT @ACVCRAN: #ParoNacional \"El campesinado del Valle del Río Cimitarra paran en contra del asesinato a líderes y lideresas defensoras de lo…   \n",
       "1                                                                                                   RT @elespectador: Los mensajes contradictorios del Gobierno frente al #ParoNacional. \\nhttps://t.co/AfQc2fih3q https://t.co/SGd8NqzNTp   \n",
       "2                                                                                             RT @CSPP_: #IMPORTANTE 🆘🗣️ Es importante que tengamos en cuenta que la defensa de los DDHH en Colombia en el marco del #ParoNacional 🇨🇴 pue…   \n",
       "3                                                                                           RT @dw_espanol: En la primera línea de las protestas en #Colombia\\n\\nEste \"instagramer\" y activista grabó de primera mano lo ocurrido durante…   \n",
       "4                                                                                              RT @GiovanniCelisS: Ciudadanos de #Cali aplauden a @PoliciaColombia luego de levantamiento de bloqueos ilegales y disturbios en esa ciudad…   \n",
       "..                                                                                                                                                                                                                                     ...   \n",
       "195                                                                                            RT @COMANDANTE_EJC: En #Cali, mi mensaje hacia ellos fue contarles que nuestro trabajo es por el bienestar, la estabilidad  y seguridad de…   \n",
       "196                                                                                           RT @DanielPalam: En #Cali acompañamos al Pdte @IvanDuque en diálogo con diferentes instituciones y sectores  del #ValleDelCauca, quienes se…   \n",
       "197                                                                                           RT @KevinMaOficial: Hace unos momentos en Siloé, Cali.  Protesta pacífica, sostenida, pero sobre todo en paz.  #ParoNacional11M #ParoNacion…   \n",
       "198  Art. 374 de la Constitución Política de Colombia! Es lo que hay q exigir #ParoNacionalColombia #ParoNacional12M #momentosdecambios #colombia #Cali #referendoya #nomascorruptos @CongresoCol @infopresidencia https://t.co/t9KIqrIcT5   \n",
       "199                                                                                       RT @N0S3S74NM474ND0: Y los desaparecidos?\\nY los muertos?\\nQuien responde?\\n✊🇨🇴\\n #ParoNacional11M #ParoNacional #ResistenciaColombia https://t…   \n",
       "\n",
       "     polarity  \n",
       "0         0.0  \n",
       "1         0.0  \n",
       "2         0.0  \n",
       "3         0.0  \n",
       "4         0.0  \n",
       "..        ...  \n",
       "195       0.0  \n",
       "196       0.0  \n",
       "197       0.0  \n",
       "198       0.0  \n",
       "199       0.0  \n",
       "\n",
       "[200 rows x 2 columns]"
      ]
     },
     "execution_count": 114,
     "metadata": {},
     "output_type": "execute_result"
    }
   ],
   "source": [
    "data[['text','polarity']]"
   ]
  },
  {
   "cell_type": "code",
   "execution_count": 115,
   "metadata": {},
   "outputs": [
    {
     "data": {
      "text/plain": [
       "<matplotlib.collections.PathCollection at 0x7ff9268bcef0>"
      ]
     },
     "execution_count": 115,
     "metadata": {},
     "output_type": "execute_result"
    },
    {
     "data": {
      "image/png": "[encoded data removed]",
      "text/plain": [
       "<Figure size 720x360 with 1 Axes>"
      ]
     },
     "metadata": {
      "needs_background": "light"
     },
     "output_type": "display_data"
    }
   ],
   "source": [
    "plt.figure(figsize=(10,5))\n",
    "plt.scatter(data['date'].apply(lambda d: d.hour),data['polarity'])"
   ]
  },
  {
   "cell_type": "markdown",
   "metadata": {},
   "source": [
    "### Cree un nuevo clasificador\n",
    "https://textblob.readthedocs.io/en/dev/classifiers.html#classifiers"
   ]
  },
  {
   "cell_type": "code",
   "execution_count": 192,
   "metadata": {},
   "outputs": [
    {
     "name": "stderr",
     "output_type": "stream",
     "text": [
      "[nltk_data] Downloading package stopwords to\n",
      "[nltk_data]     /home/restrepo/nltk_data...\n",
      "[nltk_data]   Package stopwords is already up-to-date!\n"
     ]
    },
    {
     "data": {
      "text/plain": [
       "True"
      ]
     },
     "execution_count": 192,
     "metadata": {},
     "output_type": "execute_result"
    }
   ],
   "source": [
    "import nltk\n",
    "from nltk.corpus import stopwords\n",
    "nltk.download('stopwords')"
   ]
  },
  {
   "cell_type": "markdown",
   "metadata": {},
   "source": [
    "See:\n",
    "* https://www.pluralsight.com/guides/building-a-twitter-sentiment-analysis-in-python"
   ]
  },
  {
   "cell_type": "code",
   "execution_count": 193,
   "metadata": {},
   "outputs": [],
   "source": [
    "import re\n",
    "stop_words=['rt',':']#+stopwords.words('spanish')\n",
    "def preprocess_tweet_text(tweet):\n",
    "    tweet=tweet.lower()\n",
    "    # Remove urls\n",
    "    tweet = re.sub(r\"http\\S+|www\\S+|https\\S+\", '', tweet, re.UNICODE ,flags=re.MULTILINE)\n",
    "    # Remove user @ references and '#' from tweet\n",
    "    tweet = re.sub(r'\\@\\w+|\\#','', tweet)\n",
    "    # Remove punctuations\n",
    "    #tweet = tweet.translate(str.maketrans('', '', string.punctuation))\n",
    "    # Remove stopwords\n",
    "    tweet_tokens = tweet.replace(\"  \",\" \").split()\n",
    "    filtered_words = [w for w in tweet_tokens if not w in stop_words]\n",
    "    \n",
    "    #ps = PorterStemmer()\n",
    "    #stemmed_words = [ps.stem(w) for w in filtered_words]\n",
    "    #lemmatizer = WordNetLemmatizer()\n",
    "    #lemma_words = [lemmatizer.lemmatize(w, pos='a') for w in stemmed_words]\n",
    "    \n",
    "    return \" \".join(filtered_words)"
   ]
  },
  {
   "cell_type": "code",
   "execution_count": 197,
   "metadata": {},
   "outputs": [
    {
     "ename": "AttributeError",
     "evalue": "'Series' object has no attribute 'lower'",
     "output_type": "error",
     "traceback": [
      "\u001b[0;31m---------------------------------------------------------------------------\u001b[0m",
      "\u001b[0;31mAttributeError\u001b[0m                            Traceback (most recent call last)",
      "\u001b[0;32m/tmp/ipykernel_10469/2352843957.py\u001b[0m in \u001b[0;36m<module>\u001b[0;34m\u001b[0m\n\u001b[0;32m----> 1\u001b[0;31m \u001b[0mpreprocess_tweet_text\u001b[0m\u001b[0;34m(\u001b[0m \u001b[0mdf\u001b[0m\u001b[0;34m[\u001b[0m\u001b[0;34m'text'\u001b[0m\u001b[0;34m]\u001b[0m \u001b[0;34m)\u001b[0m\u001b[0;34m\u001b[0m\u001b[0;34m\u001b[0m\u001b[0m\n\u001b[0m",
      "\u001b[0;32m/tmp/ipykernel_10469/4026354181.py\u001b[0m in \u001b[0;36mpreprocess_tweet_text\u001b[0;34m(tweet)\u001b[0m\n\u001b[1;32m      2\u001b[0m \u001b[0mstop_words\u001b[0m\u001b[0;34m=\u001b[0m\u001b[0;34m[\u001b[0m\u001b[0;34m'rt'\u001b[0m\u001b[0;34m,\u001b[0m\u001b[0;34m':'\u001b[0m\u001b[0;34m]\u001b[0m\u001b[0;31m#+stopwords.words('spanish')\u001b[0m\u001b[0;34m\u001b[0m\u001b[0;34m\u001b[0m\u001b[0m\n\u001b[1;32m      3\u001b[0m \u001b[0;32mdef\u001b[0m \u001b[0mpreprocess_tweet_text\u001b[0m\u001b[0;34m(\u001b[0m\u001b[0mtweet\u001b[0m\u001b[0;34m)\u001b[0m\u001b[0;34m:\u001b[0m\u001b[0;34m\u001b[0m\u001b[0;34m\u001b[0m\u001b[0m\n\u001b[0;32m----> 4\u001b[0;31m     \u001b[0mtweet\u001b[0m\u001b[0;34m=\u001b[0m\u001b[0mtweet\u001b[0m\u001b[0;34m.\u001b[0m\u001b[0mlower\u001b[0m\u001b[0;34m(\u001b[0m\u001b[0;34m)\u001b[0m\u001b[0;34m\u001b[0m\u001b[0;34m\u001b[0m\u001b[0m\n\u001b[0m\u001b[1;32m      5\u001b[0m     \u001b[0;31m# Remove urls\u001b[0m\u001b[0;34m\u001b[0m\u001b[0;34m\u001b[0m\u001b[0;34m\u001b[0m\u001b[0m\n\u001b[1;32m      6\u001b[0m     \u001b[0mtweet\u001b[0m \u001b[0;34m=\u001b[0m \u001b[0mre\u001b[0m\u001b[0;34m.\u001b[0m\u001b[0msub\u001b[0m\u001b[0;34m(\u001b[0m\u001b[0;34mr\"http\\S+|www\\S+|https\\S+\"\u001b[0m\u001b[0;34m,\u001b[0m \u001b[0;34m''\u001b[0m\u001b[0;34m,\u001b[0m \u001b[0mtweet\u001b[0m\u001b[0;34m,\u001b[0m \u001b[0mre\u001b[0m\u001b[0;34m.\u001b[0m\u001b[0mUNICODE\u001b[0m \u001b[0;34m,\u001b[0m\u001b[0mflags\u001b[0m\u001b[0;34m=\u001b[0m\u001b[0mre\u001b[0m\u001b[0;34m.\u001b[0m\u001b[0mMULTILINE\u001b[0m\u001b[0;34m)\u001b[0m\u001b[0;34m\u001b[0m\u001b[0;34m\u001b[0m\u001b[0m\n",
      "\u001b[0;32m/usr/local/lib/python3.7/dist-packages/pandas/core/generic.py\u001b[0m in \u001b[0;36m__getattr__\u001b[0;34m(self, name)\u001b[0m\n\u001b[1;32m   5137\u001b[0m             \u001b[0;32mif\u001b[0m \u001b[0mself\u001b[0m\u001b[0;34m.\u001b[0m\u001b[0m_info_axis\u001b[0m\u001b[0;34m.\u001b[0m\u001b[0m_can_hold_identifiers_and_holds_name\u001b[0m\u001b[0;34m(\u001b[0m\u001b[0mname\u001b[0m\u001b[0;34m)\u001b[0m\u001b[0;34m:\u001b[0m\u001b[0;34m\u001b[0m\u001b[0;34m\u001b[0m\u001b[0m\n\u001b[1;32m   5138\u001b[0m                 \u001b[0;32mreturn\u001b[0m \u001b[0mself\u001b[0m\u001b[0;34m[\u001b[0m\u001b[0mname\u001b[0m\u001b[0;34m]\u001b[0m\u001b[0;34m\u001b[0m\u001b[0;34m\u001b[0m\u001b[0m\n\u001b[0;32m-> 5139\u001b[0;31m             \u001b[0;32mreturn\u001b[0m \u001b[0mobject\u001b[0m\u001b[0;34m.\u001b[0m\u001b[0m__getattribute__\u001b[0m\u001b[0;34m(\u001b[0m\u001b[0mself\u001b[0m\u001b[0;34m,\u001b[0m \u001b[0mname\u001b[0m\u001b[0;34m)\u001b[0m\u001b[0;34m\u001b[0m\u001b[0;34m\u001b[0m\u001b[0m\n\u001b[0m\u001b[1;32m   5140\u001b[0m \u001b[0;34m\u001b[0m\u001b[0m\n\u001b[1;32m   5141\u001b[0m     \u001b[0;32mdef\u001b[0m \u001b[0m__setattr__\u001b[0m\u001b[0;34m(\u001b[0m\u001b[0mself\u001b[0m\u001b[0;34m,\u001b[0m \u001b[0mname\u001b[0m\u001b[0;34m:\u001b[0m \u001b[0mstr\u001b[0m\u001b[0;34m,\u001b[0m \u001b[0mvalue\u001b[0m\u001b[0;34m)\u001b[0m \u001b[0;34m->\u001b[0m \u001b[0;32mNone\u001b[0m\u001b[0;34m:\u001b[0m\u001b[0;34m\u001b[0m\u001b[0;34m\u001b[0m\u001b[0m\n",
      "\u001b[0;31mAttributeError\u001b[0m: 'Series' object has no attribute 'lower'"
     ]
    }
   ],
   "source": [
    "df['text'].apply(preprocess_tweet_text)"
   ]
  },
  {
   "cell_type": "code",
   "execution_count": 159,
   "metadata": {},
   "outputs": [
    {
     "data": {
      "text/plain": [
       "'el semanario voz recalca su apoyo a la minga indígena. nos cuida el movimiento popular, no las fuerzas militares. ✊ par…'"
      ]
     },
     "execution_count": 159,
     "metadata": {},
     "output_type": "execute_result"
    }
   ],
   "source": [
    "preprocess_tweet_text( .loc[0] "
   ]
  },
  {
   "cell_type": "markdown",
   "metadata": {},
   "source": [
    "A favor → pos\n",
    "En contra → neg"
   ]
  },
  {
   "cell_type": "code",
   "execution_count": 202,
   "metadata": {},
   "outputs": [],
   "source": [
    "from fuzzywuzzy import process\n",
    "from fuzzywuzzy import  fuzz"
   ]
  },
  {
   "cell_type": "code",
   "execution_count": 206,
   "metadata": {},
   "outputs": [
    {
     "data": {
      "text/plain": [
       "22"
      ]
     },
     "execution_count": 206,
     "metadata": {},
     "output_type": "execute_result"
    }
   ],
   "source": [
    "process.extractOne('hola',['mundo'],scorer=fuzz.ratio)[-1]"
   ]
  },
  {
   "cell_type": "code",
   "execution_count": 214,
   "metadata": {},
   "outputs": [
    {
     "data": {
      "text/html": [
       "<div>\n",
       "<style scoped>\n",
       "    .dataframe tbody tr th:only-of-type {\n",
       "        vertical-align: middle;\n",
       "    }\n",
       "\n",
       "    .dataframe tbody tr th {\n",
       "        vertical-align: top;\n",
       "    }\n",
       "\n",
       "    .dataframe thead th {\n",
       "        text-align: right;\n",
       "    }\n",
       "</style>\n",
       "<table border=\"1\" class=\"dataframe\">\n",
       "  <thead>\n",
       "    <tr style=\"text-align: right;\">\n",
       "      <th></th>\n",
       "      <th>user_name</th>\n",
       "      <th>user_location</th>\n",
       "      <th>user_description</th>\n",
       "      <th>user_verified</th>\n",
       "      <th>date</th>\n",
       "      <th>text</th>\n",
       "      <th>hashtags</th>\n",
       "      <th>source</th>\n",
       "      <th>label</th>\n",
       "    </tr>\n",
       "  </thead>\n",
       "  <tbody>\n",
       "    <tr>\n",
       "      <th>0</th>\n",
       "      <td>Aníbal Cano</td>\n",
       "      <td></td>\n",
       "      <td>Optimista alegre de esta maravillosa vida que Dios Todopoderoso nos entregó . . .</td>\n",
       "      <td>False</td>\n",
       "      <td>2021-05-18 20:35:32</td>\n",
       "      <td>RT @UnivalleU: #Movilización ✊ Gran Marcha del Millón ¡#Cali Despertó!\\n\\nMovilización familiar, artística y cultural de un millón de persona…</td>\n",
       "      <td>[Movilización, Cali]</td>\n",
       "      <td>Twitter for Android</td>\n",
       "      <td>None</td>\n",
       "    </tr>\n",
       "  </tbody>\n",
       "</table>\n",
       "</div>"
      ],
      "text/plain": [
       "     user_name user_location  \\\n",
       "0  Aníbal Cano                 \n",
       "\n",
       "                                                                    user_description  \\\n",
       "0  Optimista alegre de esta maravillosa vida que Dios Todopoderoso nos entregó . . .   \n",
       "\n",
       "   user_verified                date  \\\n",
       "0          False 2021-05-18 20:35:32   \n",
       "\n",
       "                                                                                                                                             text  \\\n",
       "0  RT @UnivalleU: #Movilización ✊ Gran Marcha del Millón ¡#Cali Despertó!\\n\\nMovilización familiar, artística y cultural de un millón de persona…   \n",
       "\n",
       "               hashtags               source label  \n",
       "0  [Movilización, Cali]  Twitter for Android  None  "
      ]
     },
     "execution_count": 214,
     "metadata": {},
     "output_type": "execute_result"
    }
   ],
   "source": [
    "df[:1]"
   ]
  },
  {
   "cell_type": "code",
   "execution_count": null,
   "metadata": {},
   "outputs": [],
   "source": [
    "df['label']=None\n",
    "ii=0\n",
    "similarity=[]\n",
    "for i in df.index:\n",
    "    print(\"=\"*80)\n",
    "    tweet=df.loc[i,'text']\n",
    "    if similarity:\n",
    "        if process.extractOne(tweet,similarity,scorer=fuzz.ratio)[-1]<90:\n",
    "            similarity.append(tweet)\n",
    "            posneg=input(f\"{tweet}: https://twitter.com/twitter/status/{df.loc[i,'id']} → [pos]/neg\")\n",
    "            if posneg=='n':\n",
    "                posneg='neg'\n",
    "            elif posneg=='p':\n",
    "                posneg='pos'\n",
    "            else:\n",
    "                continue\n",
    "            df.loc[i,'label']=posneg\n",
    "            ii=ii+1\n",
    "    else:\n",
    "        similarity.append(tweet)\n",
    "\n",
    "    if ii==150:\n",
    "        break"
   ]
  },
  {
   "cell_type": "code",
   "execution_count": 294,
   "metadata": {},
   "outputs": [
    {
     "data": {
      "text/html": [
       "<div>\n",
       "<style scoped>\n",
       "    .dataframe tbody tr th:only-of-type {\n",
       "        vertical-align: middle;\n",
       "    }\n",
       "\n",
       "    .dataframe tbody tr th {\n",
       "        vertical-align: top;\n",
       "    }\n",
       "\n",
       "    .dataframe thead th {\n",
       "        text-align: right;\n",
       "    }\n",
       "</style>\n",
       "<table border=\"1\" class=\"dataframe\">\n",
       "  <thead>\n",
       "    <tr style=\"text-align: right;\">\n",
       "      <th></th>\n",
       "      <th>user_name</th>\n",
       "      <th>user_location</th>\n",
       "      <th>user_description</th>\n",
       "      <th>user_verified</th>\n",
       "      <th>date</th>\n",
       "      <th>text</th>\n",
       "      <th>hashtags</th>\n",
       "      <th>source</th>\n",
       "      <th>id</th>\n",
       "      <th>label</th>\n",
       "    </tr>\n",
       "  </thead>\n",
       "  <tbody>\n",
       "    <tr>\n",
       "      <th>0</th>\n",
       "      <td>¡#55/86 en 2022!🦍🦍💪💎💎👏👏🚀🚀🌕</td>\n",
       "      <td></td>\n",
       "      <td>#sigamonoslosbuenos #movimientoantiuribista</td>\n",
       "      <td>False</td>\n",
       "      <td>2021-05-18 20:35:29</td>\n",
       "      <td>RT @PoloDemocratico: El #ParoNacional es la manifestación del pueblo por la inconformidad qué hay con el gobierno de @IvanDuque, queremos q…</td>\n",
       "      <td>[ParoNacional]</td>\n",
       "      <td>Twitter for iPhone</td>\n",
       "      <td>1394753529844219907</td>\n",
       "      <td>pos</td>\n",
       "    </tr>\n",
       "    <tr>\n",
       "      <th>1</th>\n",
       "      <td>💤#Dreamer👀🧠💓 🇨🇴🇪🇸</td>\n",
       "      <td>Barcelona, España</td>\n",
       "      <td>Hasta los🥚🥚de la #DESinformación y #MIEDO que generan la Prensa y el Gobierno😡\\n\\nNo creas NADA de lo que leas, escuches o veas #Investiga #Lee #Cuestiona 🧠♥️</td>\n",
       "      <td>False</td>\n",
       "      <td>2021-05-18 20:31:51</td>\n",
       "      <td>@clarincom Estos son los del entierro del Diego?\\nO más de la mentira diaria del #GobiernoDeInutiles \\n\\n#Covidiano🐑😷💉Evita las aglomeraciones, #VirusChino sabe cuándo sales a protestar y NO ATACA\\nAún crees que #FalsaPandemia se trata de Salud Pública?😂🤣\\n#Argentina #Colombia #ParoNacional https://t.co/6jAXYRVEQ4</td>\n",
       "      <td>[GobiernoDeInutiles, Covidiano]</td>\n",
       "      <td>Twitter for Android</td>\n",
       "      <td>1394752616765198338</td>\n",
       "      <td>neg</td>\n",
       "    </tr>\n",
       "    <tr>\n",
       "      <th>2</th>\n",
       "      <td>ingrid tatiana</td>\n",
       "      <td>colombia</td>\n",
       "      <td>Soy Una Idiota Por Pensar Que Por Una Vez En La Vida Podía Contar Contigo ...</td>\n",
       "      <td>False</td>\n",
       "      <td>2021-05-18 20:31:42</td>\n",
       "      <td>RT @JorgeOvalleB: #DesempleoJuvenil Para el 2020 el desempleo juvenil en #CALI fue de 29,1% con 112.929 jóvenes desempleados/as, con 26 mil…</td>\n",
       "      <td>[DesempleoJuvenil, CALI]</td>\n",
       "      <td>Twitter for Android</td>\n",
       "      <td>1394752578718773256</td>\n",
       "      <td>pos</td>\n",
       "    </tr>\n",
       "    <tr>\n",
       "      <th>3</th>\n",
       "      <td>william martunel</td>\n",
       "      <td></td>\n",
       "      <td>Que vaina como esta todo!</td>\n",
       "      <td>False</td>\n",
       "      <td>2021-05-18 20:31:31</td>\n",
       "      <td>@ELTIEMPO Escucha estos sinvergüenzas, bloquean extorsionan cobrando peajes ilegales y cuando el ESMAD los rodea para impedir su avanze criminal, lloran como nenas, mirelos como dan quejas 😂😂 😂 😂 perdedores. #NoMasParo #NoMasBloqueos #NoMasBloqueos #NoMasBloqueos #NoMasBloqueos</td>\n",
       "      <td>None</td>\n",
       "      <td>Twitter for Android</td>\n",
       "      <td>1394752532430434307</td>\n",
       "      <td>neg</td>\n",
       "    </tr>\n",
       "    <tr>\n",
       "      <th>4</th>\n",
       "      <td>Iniciativa Interreligiosa Para Bosques Tropicales</td>\n",
       "      <td>Colombia</td>\n",
       "      <td>Somos una plataforma que une a los líderes religiosos y a las comunidades para trabajar por establecimiento de medidas que protegen los bosques tropicales.</td>\n",
       "      <td>False</td>\n",
       "      <td>2021-05-18 20:31:24</td>\n",
       "      <td>[IRI·Prensa·13/05/21] Diálogo sincero y constructivo ante crisis nacional. https://t.co/KvAqsgwfsS #ParoNacional #Colombia @CIDH @infopresidencia @MinInterior @faiths4forests @brasiliri  @gaiaamazonas @InstitutoSINCHI @cutcolombia</td>\n",
       "      <td>[ParoNacional]</td>\n",
       "      <td>Twitter Web App</td>\n",
       "      <td>1394752501631660036</td>\n",
       "      <td>pos</td>\n",
       "    </tr>\n",
       "    <tr>\n",
       "      <th>...</th>\n",
       "      <td>...</td>\n",
       "      <td>...</td>\n",
       "      <td>...</td>\n",
       "      <td>...</td>\n",
       "      <td>...</td>\n",
       "      <td>...</td>\n",
       "      <td>...</td>\n",
       "      <td>...</td>\n",
       "      <td>...</td>\n",
       "      <td>...</td>\n",
       "    </tr>\n",
       "    <tr>\n",
       "      <th>144</th>\n",
       "      <td>Alicia Lira Matus</td>\n",
       "      <td></td>\n",
       "      <td>Presidenta de la Agrupación de Familiares de Ejecutados Políticos @AFEPChile Verdad Justicia y Memoria para l@s mártires víctimas Dictadura Cívico-Militar #DDHH</td>\n",
       "      <td>False</td>\n",
       "      <td>2021-05-18 18:30:52</td>\n",
       "      <td>RT @FLazosDignidad: ¿Vamos a dejar nuestro futuro en manos de aquellos que vulneran nuestros Derechos Humanos?\\n\\n #ParoNacional https://t.co…</td>\n",
       "      <td>[ParoNacional]</td>\n",
       "      <td>Twitter for Android</td>\n",
       "      <td>1394722168588718093</td>\n",
       "      <td>pos</td>\n",
       "    </tr>\n",
       "    <tr>\n",
       "      <th>145</th>\n",
       "      <td>janeth eliana arango</td>\n",
       "      <td></td>\n",
       "      <td></td>\n",
       "      <td>False</td>\n",
       "      <td>2021-05-18 18:30:07</td>\n",
       "      <td>@VickyDavilaH #NoMasViolencia #NoMasParo #NoMasBloqueos Eso es propio de criminales y así deben ser tratados.</td>\n",
       "      <td>[NoMasViolencia, NoMasParo, NoMasBloqueos]</td>\n",
       "      <td>Twitter for Android</td>\n",
       "      <td>1394721981111619589</td>\n",
       "      <td>neg</td>\n",
       "    </tr>\n",
       "    <tr>\n",
       "      <th>146</th>\n",
       "      <td>Fernando Castaño</td>\n",
       "      <td></td>\n",
       "      <td>Nutre tu cuerpo con ejercicio, y tu mente con la verdad..!</td>\n",
       "      <td>False</td>\n",
       "      <td>2021-05-18 18:29:46</td>\n",
       "      <td>RT @Patrici76463579: \"Toma de #Cali plan criminal de #FARC, #ELN\"   \\n\\nFueron usadas armas, subversivos contra autoridades, infraestructura…</td>\n",
       "      <td>[Cali, FARC, ELN]</td>\n",
       "      <td>Twitter for Android</td>\n",
       "      <td>1394721893425504261</td>\n",
       "      <td>neg</td>\n",
       "    </tr>\n",
       "    <tr>\n",
       "      <th>147</th>\n",
       "      <td>Jim BraXar</td>\n",
       "      <td>El viejo oeste🐴</td>\n",
       "      <td>Sarcástico e intelectual. Alérgico al comunismo. Seguidor de mis convicciones y de la libre empresa para un mundo mejor. A Dios rogando y con el mazo dando💪🤓.</td>\n",
       "      <td>False</td>\n",
       "      <td>2021-05-18 18:29:11</td>\n",
       "      <td>RT @JorgeMaichel: @RevistaSemana El comité del paró al criticar decisión del Presidente Duque por usar la fuerza legítima del Estado para a…</td>\n",
       "      <td>None</td>\n",
       "      <td>Twitter for Android</td>\n",
       "      <td>1394721746515812357</td>\n",
       "      <td>neg</td>\n",
       "    </tr>\n",
       "    <tr>\n",
       "      <th>148</th>\n",
       "      <td>Claudia Ruiz</td>\n",
       "      <td>Bogota</td>\n",
       "      <td></td>\n",
       "      <td>False</td>\n",
       "      <td>2021-05-18 18:28:20</td>\n",
       "      <td>RT @maestropandx: No hay ningún derecho a tener un presidente como usted.\\n\\n#ParoNacional18M \\n#ParoNacional18M \\n#ParoNacional</td>\n",
       "      <td>[ParoNacional18M, ParoNacional18M, ParoNacional]</td>\n",
       "      <td>Twitter for iPhone</td>\n",
       "      <td>1394721530119065600</td>\n",
       "      <td>pos</td>\n",
       "    </tr>\n",
       "  </tbody>\n",
       "</table>\n",
       "<p>149 rows × 10 columns</p>\n",
       "</div>"
      ],
      "text/plain": [
       "                                             user_name      user_location  \\\n",
       "0                           ¡#55/86 en 2022!🦍🦍💪💎💎👏👏🚀🚀🌕                      \n",
       "1                                    💤#Dreamer👀🧠💓 🇨🇴🇪🇸  Barcelona, España   \n",
       "2                                       ingrid tatiana           colombia   \n",
       "3                                     william martunel                      \n",
       "4    Iniciativa Interreligiosa Para Bosques Tropicales          Colombia    \n",
       "..                                                 ...                ...   \n",
       "144                                  Alicia Lira Matus                      \n",
       "145                               janeth eliana arango                      \n",
       "146                                   Fernando Castaño                      \n",
       "147                                         Jim BraXar    El viejo oeste🐴   \n",
       "148                                       Claudia Ruiz             Bogota   \n",
       "\n",
       "                                                                                                                                                     user_description  \\\n",
       "0                                                                                                                         #sigamonoslosbuenos #movimientoantiuribista   \n",
       "1      Hasta los🥚🥚de la #DESinformación y #MIEDO que generan la Prensa y el Gobierno😡\\n\\nNo creas NADA de lo que leas, escuches o veas #Investiga #Lee #Cuestiona 🧠♥️   \n",
       "2                                                                                       Soy Una Idiota Por Pensar Que Por Una Vez En La Vida Podía Contar Contigo ...   \n",
       "3                                                                                                                                           Que vaina como esta todo!   \n",
       "4         Somos una plataforma que une a los líderes religiosos y a las comunidades para trabajar por establecimiento de medidas que protegen los bosques tropicales.   \n",
       "..                                                                                                                                                                ...   \n",
       "144  Presidenta de la Agrupación de Familiares de Ejecutados Políticos @AFEPChile Verdad Justicia y Memoria para l@s mártires víctimas Dictadura Cívico-Militar #DDHH   \n",
       "145                                                                                                                                                                     \n",
       "146                                                                                                        Nutre tu cuerpo con ejercicio, y tu mente con la verdad..!   \n",
       "147    Sarcástico e intelectual. Alérgico al comunismo. Seguidor de mis convicciones y de la libre empresa para un mundo mejor. A Dios rogando y con el mazo dando💪🤓.   \n",
       "148                                                                                                                                                                     \n",
       "\n",
       "     user_verified                date  \\\n",
       "0            False 2021-05-18 20:35:29   \n",
       "1            False 2021-05-18 20:31:51   \n",
       "2            False 2021-05-18 20:31:42   \n",
       "3            False 2021-05-18 20:31:31   \n",
       "4            False 2021-05-18 20:31:24   \n",
       "..             ...                 ...   \n",
       "144          False 2021-05-18 18:30:52   \n",
       "145          False 2021-05-18 18:30:07   \n",
       "146          False 2021-05-18 18:29:46   \n",
       "147          False 2021-05-18 18:29:11   \n",
       "148          False 2021-05-18 18:28:20   \n",
       "\n",
       "                                                                                                                                                                                                                                                                                                                            text  \\\n",
       "0                                                                                                                                                                                   RT @PoloDemocratico: El #ParoNacional es la manifestación del pueblo por la inconformidad qué hay con el gobierno de @IvanDuque, queremos q…   \n",
       "1    @clarincom Estos son los del entierro del Diego?\\nO más de la mentira diaria del #GobiernoDeInutiles \\n\\n#Covidiano🐑😷💉Evita las aglomeraciones, #VirusChino sabe cuándo sales a protestar y NO ATACA\\nAún crees que #FalsaPandemia se trata de Salud Pública?😂🤣\\n#Argentina #Colombia #ParoNacional https://t.co/6jAXYRVEQ4   \n",
       "2                                                                                                                                                                                   RT @JorgeOvalleB: #DesempleoJuvenil Para el 2020 el desempleo juvenil en #CALI fue de 29,1% con 112.929 jóvenes desempleados/as, con 26 mil…   \n",
       "3                                         @ELTIEMPO Escucha estos sinvergüenzas, bloquean extorsionan cobrando peajes ilegales y cuando el ESMAD los rodea para impedir su avanze criminal, lloran como nenas, mirelos como dan quejas 😂😂 😂 😂 perdedores. #NoMasParo #NoMasBloqueos #NoMasBloqueos #NoMasBloqueos #NoMasBloqueos   \n",
       "4                                                                                         [IRI·Prensa·13/05/21] Diálogo sincero y constructivo ante crisis nacional. https://t.co/KvAqsgwfsS #ParoNacional #Colombia @CIDH @infopresidencia @MinInterior @faiths4forests @brasiliri  @gaiaamazonas @InstitutoSINCHI @cutcolombia   \n",
       "..                                                                                                                                                                                                                                                                                                                           ...   \n",
       "144                                                                                                                                                                               RT @FLazosDignidad: ¿Vamos a dejar nuestro futuro en manos de aquellos que vulneran nuestros Derechos Humanos?\\n\\n #ParoNacional https://t.co…   \n",
       "145                                                                                                                                                                                                                @VickyDavilaH #NoMasViolencia #NoMasParo #NoMasBloqueos Eso es propio de criminales y así deben ser tratados.   \n",
       "146                                                                                                                                                                                RT @Patrici76463579: \"Toma de #Cali plan criminal de #FARC, #ELN\"   \\n\\nFueron usadas armas, subversivos contra autoridades, infraestructura…   \n",
       "147                                                                                                                                                                                 RT @JorgeMaichel: @RevistaSemana El comité del paró al criticar decisión del Presidente Duque por usar la fuerza legítima del Estado para a…   \n",
       "148                                                                                                                                                                                             RT @maestropandx: No hay ningún derecho a tener un presidente como usted.\\n\\n#ParoNacional18M \\n#ParoNacional18M \\n#ParoNacional   \n",
       "\n",
       "                                             hashtags               source  \\\n",
       "0                                      [ParoNacional]   Twitter for iPhone   \n",
       "1                     [GobiernoDeInutiles, Covidiano]  Twitter for Android   \n",
       "2                            [DesempleoJuvenil, CALI]  Twitter for Android   \n",
       "3                                                None  Twitter for Android   \n",
       "4                                      [ParoNacional]      Twitter Web App   \n",
       "..                                                ...                  ...   \n",
       "144                                    [ParoNacional]  Twitter for Android   \n",
       "145        [NoMasViolencia, NoMasParo, NoMasBloqueos]  Twitter for Android   \n",
       "146                                 [Cali, FARC, ELN]  Twitter for Android   \n",
       "147                                              None  Twitter for Android   \n",
       "148  [ParoNacional18M, ParoNacional18M, ParoNacional]   Twitter for iPhone   \n",
       "\n",
       "                      id label  \n",
       "0    1394753529844219907   pos  \n",
       "1    1394752616765198338   neg  \n",
       "2    1394752578718773256   pos  \n",
       "3    1394752532430434307   neg  \n",
       "4    1394752501631660036   pos  \n",
       "..                   ...   ...  \n",
       "144  1394722168588718093   pos  \n",
       "145  1394721981111619589   neg  \n",
       "146  1394721893425504261   neg  \n",
       "147  1394721746515812357   neg  \n",
       "148  1394721530119065600   pos  \n",
       "\n",
       "[149 rows x 10 columns]"
      ]
     },
     "execution_count": 294,
     "metadata": {},
     "output_type": "execute_result"
    }
   ],
   "source": [
    "tmp"
   ]
  },
  {
   "cell_type": "code",
   "execution_count": 256,
   "metadata": {},
   "outputs": [],
   "source": [
    "tmp=df[~df['label'].isna()].reset_index(drop=True)"
   ]
  },
  {
   "cell_type": "code",
   "execution_count": 257,
   "metadata": {},
   "outputs": [
    {
     "data": {
      "text/plain": [
       "(149, 10)"
      ]
     },
     "execution_count": 257,
     "metadata": {},
     "output_type": "execute_result"
    }
   ],
   "source": [
    "tmp.shape"
   ]
  },
  {
   "cell_type": "code",
   "execution_count": 258,
   "metadata": {},
   "outputs": [],
   "source": [
    "train=tmp[:100][['text','label']]"
   ]
  },
  {
   "cell_type": "code",
   "execution_count": 259,
   "metadata": {},
   "outputs": [],
   "source": [
    "from textblob.classifiers import NaiveBayesClassifier"
   ]
  },
  {
   "cell_type": "code",
   "execution_count": 260,
   "metadata": {},
   "outputs": [],
   "source": [
    "train.to_json('train.json',orient='records')"
   ]
  },
  {
   "cell_type": "code",
   "execution_count": 261,
   "metadata": {},
   "outputs": [
    {
     "name": "stderr",
     "output_type": "stream",
     "text": [
      "[nltk_data] Downloading package punkt to /home/restrepo/nltk_data...\n",
      "[nltk_data]   Package punkt is already up-to-date!\n"
     ]
    },
    {
     "data": {
      "text/plain": [
       "True"
      ]
     },
     "execution_count": 261,
     "metadata": {},
     "output_type": "execute_result"
    }
   ],
   "source": [
    "import nltk\n",
    "nltk.download('punkt')  "
   ]
  },
  {
   "cell_type": "code",
   "execution_count": 262,
   "metadata": {},
   "outputs": [],
   "source": [
    "with open('train.json', 'r') as fp:\n",
    "     cl = NaiveBayesClassifier(fp, format=\"json\")"
   ]
  },
  {
   "cell_type": "code",
   "execution_count": 269,
   "metadata": {},
   "outputs": [],
   "source": [
    "test=tmp[100:][['text','label']]"
   ]
  },
  {
   "cell_type": "code",
   "execution_count": 270,
   "metadata": {},
   "outputs": [],
   "source": [
    "test.to_json('test.json',orient='records')"
   ]
  },
  {
   "cell_type": "code",
   "execution_count": 271,
   "metadata": {},
   "outputs": [],
   "source": [
    "fulltest=test.copy()\n",
    "fulltest['test']=fulltest['text'].apply(cl.classify)"
   ]
  },
  {
   "cell_type": "code",
   "execution_count": 273,
   "metadata": {},
   "outputs": [
    {
     "data": {
      "text/html": [
       "<div>\n",
       "<style scoped>\n",
       "    .dataframe tbody tr th:only-of-type {\n",
       "        vertical-align: middle;\n",
       "    }\n",
       "\n",
       "    .dataframe tbody tr th {\n",
       "        vertical-align: top;\n",
       "    }\n",
       "\n",
       "    .dataframe thead th {\n",
       "        text-align: right;\n",
       "    }\n",
       "</style>\n",
       "<table border=\"1\" class=\"dataframe\">\n",
       "  <thead>\n",
       "    <tr style=\"text-align: right;\">\n",
       "      <th></th>\n",
       "      <th>text</th>\n",
       "      <th>label</th>\n",
       "      <th>test</th>\n",
       "    </tr>\n",
       "  </thead>\n",
       "  <tbody>\n",
       "    <tr>\n",
       "      <th>100</th>\n",
       "      <td>RT @FabioCardozoM: Como asumirá usted @JorgeIvanOspina la orden presidencial de levantar los bloqueos en #Cali haciendo uso del mayor despl…</td>\n",
       "      <td>neg</td>\n",
       "      <td>neg</td>\n",
       "    </tr>\n",
       "    <tr>\n",
       "      <th>101</th>\n",
       "      <td>RT @TatyMunozO: Los bloqueos afectan al pueblo que dicen estar defendiendo. Empresas están a punto de cerrar para dejar muchos desempleados…</td>\n",
       "      <td>neg</td>\n",
       "      <td>neg</td>\n",
       "    </tr>\n",
       "    <tr>\n",
       "      <th>102</th>\n",
       "      <td>RT @arturo2driguez: Compartan por favor sus carteles informativos sobre los puntos de manifestación de mañana #19M en todo el país.\\n#ParoNa…</td>\n",
       "      <td>pos</td>\n",
       "      <td>pos</td>\n",
       "    </tr>\n",
       "  </tbody>\n",
       "</table>\n",
       "</div>"
      ],
      "text/plain": [
       "                                                                                                                                              text  \\\n",
       "100   RT @FabioCardozoM: Como asumirá usted @JorgeIvanOspina la orden presidencial de levantar los bloqueos en #Cali haciendo uso del mayor despl…   \n",
       "101   RT @TatyMunozO: Los bloqueos afectan al pueblo que dicen estar defendiendo. Empresas están a punto de cerrar para dejar muchos desempleados…   \n",
       "102  RT @arturo2driguez: Compartan por favor sus carteles informativos sobre los puntos de manifestación de mañana #19M en todo el país.\\n#ParoNa…   \n",
       "\n",
       "    label test  \n",
       "100   neg  neg  \n",
       "101   neg  neg  \n",
       "102   pos  pos  "
      ]
     },
     "execution_count": 273,
     "metadata": {},
     "output_type": "execute_result"
    }
   ],
   "source": [
    "fulltest[['text','label','test']][:3]"
   ]
  },
  {
   "cell_type": "code",
   "execution_count": 286,
   "metadata": {},
   "outputs": [
    {
     "data": {
      "text/plain": [
       "0.0"
      ]
     },
     "execution_count": 286,
     "metadata": {},
     "output_type": "execute_result"
    }
   ],
   "source": [
    "cl.accuracy(test[:3].to_dict(orient='records') )"
   ]
  },
  {
   "cell_type": "code",
   "execution_count": 292,
   "metadata": {},
   "outputs": [
    {
     "data": {
      "text/plain": [
       "0.7551020408163265"
      ]
     },
     "execution_count": 292,
     "metadata": {},
     "output_type": "execute_result"
    }
   ],
   "source": [
    "cl.accuracy( [ (d.get('text'),d.get('label')) for d in test.to_dict(orient='records')] )"
   ]
  },
  {
   "cell_type": "code",
   "execution_count": null,
   "metadata": {},
   "outputs": [],
   "source": []
  }
 ],
 "metadata": {
  "kernelspec": {
   "display_name": "Python 3 (ipykernel)",
   "language": "python",
   "name": "python3"
  },
  "language_info": {
   "codemirror_mode": {
    "name": "ipython",
    "version": 3
   },
   "file_extension": ".py",
   "mimetype": "text/x-python",
   "name": "python",
   "nbconvert_exporter": "python",
   "pygments_lexer": "ipython3",
   "version": "3.7.3"
  }
 },
 "nbformat": 4,
 "nbformat_minor": 4
}
