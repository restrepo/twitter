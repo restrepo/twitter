{
 "cells": [
  {
   "cell_type": "markdown",
   "metadata": {},
   "source": [
    "# Api Twitter\n",
    "* https://datascienceparichay.com/article/get-data-from-twitter-api-in-python-step-by-step-guide/\n",
    "* https://developer.twitter.com/en/portal/projects/1391772372416532480/apps/20820453/keys\n",
    "\n",
    "Análisis de sentimiento en Español:\n",
    "* https://platzi.com/tutoriales/1874-python-lenguaje-natural/5654-realiza-un-analisis-de-sentimiento-en-3-pasos-con-python/\n",
    "    * Ejemplo https://twitter.com/whaleandjaguar_?lang=en"
   ]
  },
  {
   "cell_type": "code",
   "execution_count": 2,
   "metadata": {},
   "outputs": [],
   "source": [
    "import tweepy as tw\n",
    "import getpass"
   ]
  },
  {
   "cell_type": "code",
   "execution_count": 3,
   "metadata": {},
   "outputs": [
    {
     "name": "stdin",
     "output_type": "stream",
     "text": [
      " ·························\n"
     ]
    }
   ],
   "source": [
    "my_api_key=getpass.getpass()"
   ]
  },
  {
   "cell_type": "code",
   "execution_count": 4,
   "metadata": {},
   "outputs": [
    {
     "name": "stdin",
     "output_type": "stream",
     "text": [
      " ··················································\n"
     ]
    }
   ],
   "source": [
    "my_api_secret=getpass.getpass()"
   ]
  },
  {
   "cell_type": "code",
   "execution_count": 5,
   "metadata": {},
   "outputs": [],
   "source": [
    "auth = tw.OAuthHandler(my_api_key, my_api_secret)"
   ]
  },
  {
   "cell_type": "code",
   "execution_count": 6,
   "metadata": {},
   "outputs": [],
   "source": [
    "api = tw.API(auth, wait_on_rate_limit=True)"
   ]
  },
  {
   "cell_type": "code",
   "execution_count": 28,
   "metadata": {},
   "outputs": [],
   "source": [
    "search_query = \"#SOSColomia OR #ParoNacional OR #Cali\""
   ]
  },
  {
   "cell_type": "code",
   "execution_count": 31,
   "metadata": {},
   "outputs": [],
   "source": [
    "# get tweets from the API\n",
    "tweets = tw.Cursor(api.search,\n",
    "              q=search_query,\n",
    "              lang=\"es\",\n",
    "              since=\"2021-03-01\" #https://es.wikipedia.org/wiki/Protestas_en_Colombia_de_2021\n",
    "                  ).items(500) "
   ]
  },
  {
   "cell_type": "code",
   "execution_count": 32,
   "metadata": {},
   "outputs": [
    {
     "name": "stdout",
     "output_type": "stream",
     "text": [
      "Total Tweets fetched: 500\n"
     ]
    }
   ],
   "source": [
    "# store the API responses in a list\n",
    "tweets_copy = []\n",
    "for tweet in tweets:\n",
    "    tweets_copy.append(tweet)\n",
    "    \n",
    "print(\"Total Tweets fetched:\", len(tweets_copy))"
   ]
  },
  {
   "cell_type": "code",
   "execution_count": 27,
   "metadata": {},
   "outputs": [
    {
     "data": {
      "text/html": [
       "<div>\n",
       "<style scoped>\n",
       "    .dataframe tbody tr th:only-of-type {\n",
       "        vertical-align: middle;\n",
       "    }\n",
       "\n",
       "    .dataframe tbody tr th {\n",
       "        vertical-align: top;\n",
       "    }\n",
       "\n",
       "    .dataframe thead th {\n",
       "        text-align: right;\n",
       "    }\n",
       "</style>\n",
       "<table border=\"1\" class=\"dataframe\">\n",
       "  <thead>\n",
       "    <tr style=\"text-align: right;\">\n",
       "      <th></th>\n",
       "      <th>user_name</th>\n",
       "      <th>user_location</th>\n",
       "      <th>user_description</th>\n",
       "      <th>user_verified</th>\n",
       "      <th>date</th>\n",
       "      <th>text</th>\n",
       "      <th>hashtags</th>\n",
       "      <th>source</th>\n",
       "    </tr>\n",
       "  </thead>\n",
       "  <tbody>\n",
       "    <tr>\n",
       "      <th>0</th>\n",
       "      <td>Maria Paula Quiceno</td>\n",
       "      <td>Bogota</td>\n",
       "      <td>Pienso en innovación para los socioecosistemas...</td>\n",
       "      <td>False</td>\n",
       "      <td>2021-05-10 21:00:06</td>\n",
       "      <td>Dolor! @CacaoHatun\\n#comisioninteramericanaded...</td>\n",
       "      <td>[comisioninteramericanadederechoshumanos, Euro...</td>\n",
       "      <td>Twitter for Android</td>\n",
       "    </tr>\n",
       "    <tr>\n",
       "      <th>1</th>\n",
       "      <td>Nancy Ruiz-Uribe</td>\n",
       "      <td>Ithaca, NY</td>\n",
       "      <td>PhD candidate at @CornellBME studying Alzheime...</td>\n",
       "      <td>False</td>\n",
       "      <td>2021-05-10 20:50:58</td>\n",
       "      <td>If you would like to help #Colombians in need ...</td>\n",
       "      <td>[Colombians, ParoNacional]</td>\n",
       "      <td>Twitter Web App</td>\n",
       "    </tr>\n",
       "    <tr>\n",
       "      <th>2</th>\n",
       "      <td>AgnosioFronemos</td>\n",
       "      <td></td>\n",
       "      <td>Estimado mamerto me importa un qlo, si le alca...</td>\n",
       "      <td>False</td>\n",
       "      <td>2021-05-10 20:24:55</td>\n",
       "      <td>@BLUPacifico @IvanDuque On your face #ParoNaci...</td>\n",
       "      <td>[ParoNacional]</td>\n",
       "      <td>Twitter Web App</td>\n",
       "    </tr>\n",
       "    <tr>\n",
       "      <th>3</th>\n",
       "      <td>THE CITY PAPER</td>\n",
       "      <td>Bogotá, Colombia</td>\n",
       "      <td>Colombia's longest running English language ne...</td>\n",
       "      <td>False</td>\n",
       "      <td>2021-05-10 20:10:18</td>\n",
       "      <td>President Iván Duque calls on Mayors to left b...</td>\n",
       "      <td>None</td>\n",
       "      <td>Twitter Web App</td>\n",
       "    </tr>\n",
       "    <tr>\n",
       "      <th>4</th>\n",
       "      <td>Jairo Eduardo Castro</td>\n",
       "      <td>Mocoa-Putumayo-Colombia</td>\n",
       "      <td>Director de Proyectos TICs, Gerente Inmobiliar...</td>\n",
       "      <td>False</td>\n",
       "      <td>2021-05-10 20:08:52</td>\n",
       "      <td>Razonable #ParoNacional10M #ParoNacional #Paro...</td>\n",
       "      <td>[ParoNacional10M, ParoNacional, ParoMataBebes,...</td>\n",
       "      <td>Twitter for Android</td>\n",
       "    </tr>\n",
       "  </tbody>\n",
       "</table>\n",
       "</div>"
      ],
      "text/plain": [
       "              user_name            user_location  \\\n",
       "0   Maria Paula Quiceno                   Bogota   \n",
       "1      Nancy Ruiz-Uribe               Ithaca, NY   \n",
       "2       AgnosioFronemos                            \n",
       "3        THE CITY PAPER         Bogotá, Colombia   \n",
       "4  Jairo Eduardo Castro  Mocoa-Putumayo-Colombia   \n",
       "\n",
       "                                    user_description  user_verified  \\\n",
       "0  Pienso en innovación para los socioecosistemas...          False   \n",
       "1  PhD candidate at @CornellBME studying Alzheime...          False   \n",
       "2  Estimado mamerto me importa un qlo, si le alca...          False   \n",
       "3  Colombia's longest running English language ne...          False   \n",
       "4  Director de Proyectos TICs, Gerente Inmobiliar...          False   \n",
       "\n",
       "                 date                                               text  \\\n",
       "0 2021-05-10 21:00:06  Dolor! @CacaoHatun\\n#comisioninteramericanaded...   \n",
       "1 2021-05-10 20:50:58  If you would like to help #Colombians in need ...   \n",
       "2 2021-05-10 20:24:55  @BLUPacifico @IvanDuque On your face #ParoNaci...   \n",
       "3 2021-05-10 20:10:18  President Iván Duque calls on Mayors to left b...   \n",
       "4 2021-05-10 20:08:52  Razonable #ParoNacional10M #ParoNacional #Paro...   \n",
       "\n",
       "                                            hashtags               source  \n",
       "0  [comisioninteramericanadederechoshumanos, Euro...  Twitter for Android  \n",
       "1                         [Colombians, ParoNacional]      Twitter Web App  \n",
       "2                                     [ParoNacional]      Twitter Web App  \n",
       "3                                               None      Twitter Web App  \n",
       "4  [ParoNacional10M, ParoNacional, ParoMataBebes,...  Twitter for Android  "
      ]
     },
     "execution_count": 27,
     "metadata": {},
     "output_type": "execute_result"
    }
   ],
   "source": [
    "import pandas as pd\n",
    "\n",
    "# intialize the dataframe\n",
    "tweets_df = pd.DataFrame()\n",
    "\n",
    "# populate the dataframe\n",
    "for tweet in tweets_copy:\n",
    "    hashtags = []\n",
    "    try:\n",
    "        for hashtag in tweet.entities[\"hashtags\"]:\n",
    "            hashtags.append(hashtag[\"text\"])\n",
    "        text = api.get_status(id=tweet.id, tweet_mode='extended').full_text\n",
    "    except:\n",
    "        pass\n",
    "    tweets_df = tweets_df.append(pd.DataFrame({'user_name': tweet.user.name, \n",
    "                                               'user_location': tweet.user.location,\\\n",
    "                                               'user_description': tweet.user.description,\n",
    "                                               'user_verified': tweet.user.verified,\n",
    "                                               'date': tweet.created_at,\n",
    "                                               'text': text, \n",
    "                                               'hashtags': [hashtags if hashtags else None],\n",
    "                                               'source': tweet.source}))\n",
    "    tweets_df = tweets_df.reset_index(drop=True)\n",
    "\n",
    "# show the dataframe\n",
    "tweets_df.head()"
   ]
  },
  {
   "cell_type": "code",
   "execution_count": 18,
   "metadata": {},
   "outputs": [
    {
     "data": {
      "text/plain": [
       "'Twitter for Android'"
      ]
     },
     "execution_count": 18,
     "metadata": {},
     "output_type": "execute_result"
    }
   ],
   "source": [
    "import pandas as pd\n",
    "\n",
    "# intialize the dataframe\n",
    "tweets_df = pd.DataFrame()\n",
    "\n",
    "# populate the dataframe\n",
    "for tweet in tweets_copy:\n",
    "    hashtags = []\n",
    "    try:\n",
    "        for hashtag in tweet.entities[\"hashtags\"]:\n",
    "            hashtags.append(hashtag[\"text\"])\n",
    "        text = api.get_status(id=tweet.id, tweet_mode='extended').full_text\n",
    "    except:\n",
    "        pass\n",
    "    tweets_df = tweets_df.append(pd.DataFrame({'user_name': tweet.user.name, \n",
    "                                               'user_location': tweet.user.location,\\\n",
    "                                               'user_description': tweet.user.description,\n",
    "                                               'user_verified': tweet.user.verified,\n",
    "                                               'date': tweet.created_at,\n",
    "                                               'text': text, \n",
    "                                               'hashtags': [hashtags if hashtags else None],\n",
    "                                               'source': tweet.source}))\n",
    "    tweets_df = tweets_df.reset_index(drop=True)\n",
    "\n",
    "# show the dataframe\n",
    "tweets_df.head()"
   ]
  },
  {
   "cell_type": "code",
   "execution_count": 23,
   "metadata": {},
   "outputs": [
    {
     "data": {
      "text/plain": [
       "<bound method Status.favorite of Status(_api=<tweepy.api.API object at 0x7f68125b18d0>, _json={'created_at': 'Mon May 10 16:06:22 +0000 2021', 'id': 1391786701513576453, 'id_str': '1391786701513576453', 'text': 'In 365 days, India’s #COVID19 case tally has inflated by a factor of 514, up from 37,257 to 19,164,969, and a total… https://t.co/wTnOqsu3tn', 'truncated': True, 'entities': {'hashtags': [{'text': 'COVID19', 'indices': [21, 29]}], 'symbols': [], 'user_mentions': [], 'urls': [{'url': 'https://t.co/wTnOqsu3tn', 'expanded_url': 'https://twitter.com/i/web/status/1391786701513576453', 'display_url': 'twitter.com/i/web/status/1…', 'indices': [117, 140]}]}, 'metadata': {'iso_language_code': 'en', 'result_type': 'recent'}, 'source': '<a href=\"http://twitter.com/download/android\" rel=\"nofollow\">Twitter for Android</a>', 'in_reply_to_status_id': None, 'in_reply_to_status_id_str': None, 'in_reply_to_user_id': None, 'in_reply_to_user_id_str': None, 'in_reply_to_screen_name': None, 'user': {'id': 1083405188449198080, 'id_str': '1083405188449198080', 'name': 'DataLEADS', 'screen_name': 'data_LEADS', 'location': 'India', 'description': 'Award-winning data-driven multiplatform initiative building collaborations for data driven storytelling,fact-checking, media research and innovations.', 'url': 'https://t.co/N5QsLMPkbB', 'entities': {'url': {'urls': [{'url': 'https://t.co/N5QsLMPkbB', 'expanded_url': 'http://dataleads.co.in/', 'display_url': 'dataleads.co.in', 'indices': [0, 23]}]}, 'description': {'urls': []}}, 'protected': False, 'followers_count': 918, 'friends_count': 139, 'listed_count': 14, 'created_at': 'Thu Jan 10 16:48:20 +0000 2019', 'favourites_count': 754, 'utc_offset': None, 'time_zone': None, 'geo_enabled': True, 'verified': False, 'statuses_count': 1717, 'lang': None, 'contributors_enabled': False, 'is_translator': False, 'is_translation_enabled': False, 'profile_background_color': 'F5F8FA', 'profile_background_image_url': None, 'profile_background_image_url_https': None, 'profile_background_tile': False, 'profile_image_url': 'http://pbs.twimg.com/profile_images/1369338115140255746/SJ05kKOF_normal.jpg', 'profile_image_url_https': 'https://pbs.twimg.com/profile_images/1369338115140255746/SJ05kKOF_normal.jpg', 'profile_banner_url': 'https://pbs.twimg.com/profile_banners/1083405188449198080/1619154473', 'profile_link_color': '1DA1F2', 'profile_sidebar_border_color': 'C0DEED', 'profile_sidebar_fill_color': 'DDEEF6', 'profile_text_color': '333333', 'profile_use_background_image': True, 'has_extended_profile': False, 'default_profile': True, 'default_profile_image': False, 'following': None, 'follow_request_sent': None, 'notifications': None, 'translator_type': 'none', 'withheld_in_countries': []}, 'geo': None, 'coordinates': None, 'place': None, 'contributors': None, 'is_quote_status': False, 'retweet_count': 1, 'favorite_count': 0, 'favorited': False, 'retweeted': False, 'possibly_sensitive': False, 'lang': 'en'}, created_at=datetime.datetime(2021, 5, 10, 16, 6, 22), id=1391786701513576453, id_str='1391786701513576453', text='In 365 days, India’s #COVID19 case tally has inflated by a factor of 514, up from 37,257 to 19,164,969, and a total… https://t.co/wTnOqsu3tn', truncated=True, entities={'hashtags': [{'text': 'COVID19', 'indices': [21, 29]}], 'symbols': [], 'user_mentions': [], 'urls': [{'url': 'https://t.co/wTnOqsu3tn', 'expanded_url': 'https://twitter.com/i/web/status/1391786701513576453', 'display_url': 'twitter.com/i/web/status/1…', 'indices': [117, 140]}]}, metadata={'iso_language_code': 'en', 'result_type': 'recent'}, source='Twitter for Android', source_url='http://twitter.com/download/android', in_reply_to_status_id=None, in_reply_to_status_id_str=None, in_reply_to_user_id=None, in_reply_to_user_id_str=None, in_reply_to_screen_name=None, author=User(_api=<tweepy.api.API object at 0x7f68125b18d0>, _json={'id': 1083405188449198080, 'id_str': '1083405188449198080', 'name': 'DataLEADS', 'screen_name': 'data_LEADS', 'location': 'India', 'description': 'Award-winning data-driven multiplatform initiative building collaborations for data driven storytelling,fact-checking, media research and innovations.', 'url': 'https://t.co/N5QsLMPkbB', 'entities': {'url': {'urls': [{'url': 'https://t.co/N5QsLMPkbB', 'expanded_url': 'http://dataleads.co.in/', 'display_url': 'dataleads.co.in', 'indices': [0, 23]}]}, 'description': {'urls': []}}, 'protected': False, 'followers_count': 918, 'friends_count': 139, 'listed_count': 14, 'created_at': 'Thu Jan 10 16:48:20 +0000 2019', 'favourites_count': 754, 'utc_offset': None, 'time_zone': None, 'geo_enabled': True, 'verified': False, 'statuses_count': 1717, 'lang': None, 'contributors_enabled': False, 'is_translator': False, 'is_translation_enabled': False, 'profile_background_color': 'F5F8FA', 'profile_background_image_url': None, 'profile_background_image_url_https': None, 'profile_background_tile': False, 'profile_image_url': 'http://pbs.twimg.com/profile_images/1369338115140255746/SJ05kKOF_normal.jpg', 'profile_image_url_https': 'https://pbs.twimg.com/profile_images/1369338115140255746/SJ05kKOF_normal.jpg', 'profile_banner_url': 'https://pbs.twimg.com/profile_banners/1083405188449198080/1619154473', 'profile_link_color': '1DA1F2', 'profile_sidebar_border_color': 'C0DEED', 'profile_sidebar_fill_color': 'DDEEF6', 'profile_text_color': '333333', 'profile_use_background_image': True, 'has_extended_profile': False, 'default_profile': True, 'default_profile_image': False, 'following': None, 'follow_request_sent': None, 'notifications': None, 'translator_type': 'none', 'withheld_in_countries': []}, id=1083405188449198080, id_str='1083405188449198080', name='DataLEADS', screen_name='data_LEADS', location='India', description='Award-winning data-driven multiplatform initiative building collaborations for data driven storytelling,fact-checking, media research and innovations.', url='https://t.co/N5QsLMPkbB', entities={'url': {'urls': [{'url': 'https://t.co/N5QsLMPkbB', 'expanded_url': 'http://dataleads.co.in/', 'display_url': 'dataleads.co.in', 'indices': [0, 23]}]}, 'description': {'urls': []}}, protected=False, followers_count=918, friends_count=139, listed_count=14, created_at=datetime.datetime(2019, 1, 10, 16, 48, 20), favourites_count=754, utc_offset=None, time_zone=None, geo_enabled=True, verified=False, statuses_count=1717, lang=None, contributors_enabled=False, is_translator=False, is_translation_enabled=False, profile_background_color='F5F8FA', profile_background_image_url=None, profile_background_image_url_https=None, profile_background_tile=False, profile_image_url='http://pbs.twimg.com/profile_images/1369338115140255746/SJ05kKOF_normal.jpg', profile_image_url_https='https://pbs.twimg.com/profile_images/1369338115140255746/SJ05kKOF_normal.jpg', profile_banner_url='https://pbs.twimg.com/profile_banners/1083405188449198080/1619154473', profile_link_color='1DA1F2', profile_sidebar_border_color='C0DEED', profile_sidebar_fill_color='DDEEF6', profile_text_color='333333', profile_use_background_image=True, has_extended_profile=False, default_profile=True, default_profile_image=False, following=False, follow_request_sent=None, notifications=None, translator_type='none', withheld_in_countries=[]), user=User(_api=<tweepy.api.API object at 0x7f68125b18d0>, _json={'id': 1083405188449198080, 'id_str': '1083405188449198080', 'name': 'DataLEADS', 'screen_name': 'data_LEADS', 'location': 'India', 'description': 'Award-winning data-driven multiplatform initiative building collaborations for data driven storytelling,fact-checking, media research and innovations.', 'url': 'https://t.co/N5QsLMPkbB', 'entities': {'url': {'urls': [{'url': 'https://t.co/N5QsLMPkbB', 'expanded_url': 'http://dataleads.co.in/', 'display_url': 'dataleads.co.in', 'indices': [0, 23]}]}, 'description': {'urls': []}}, 'protected': False, 'followers_count': 918, 'friends_count': 139, 'listed_count': 14, 'created_at': 'Thu Jan 10 16:48:20 +0000 2019', 'favourites_count': 754, 'utc_offset': None, 'time_zone': None, 'geo_enabled': True, 'verified': False, 'statuses_count': 1717, 'lang': None, 'contributors_enabled': False, 'is_translator': False, 'is_translation_enabled': False, 'profile_background_color': 'F5F8FA', 'profile_background_image_url': None, 'profile_background_image_url_https': None, 'profile_background_tile': False, 'profile_image_url': 'http://pbs.twimg.com/profile_images/1369338115140255746/SJ05kKOF_normal.jpg', 'profile_image_url_https': 'https://pbs.twimg.com/profile_images/1369338115140255746/SJ05kKOF_normal.jpg', 'profile_banner_url': 'https://pbs.twimg.com/profile_banners/1083405188449198080/1619154473', 'profile_link_color': '1DA1F2', 'profile_sidebar_border_color': 'C0DEED', 'profile_sidebar_fill_color': 'DDEEF6', 'profile_text_color': '333333', 'profile_use_background_image': True, 'has_extended_profile': False, 'default_profile': True, 'default_profile_image': False, 'following': None, 'follow_request_sent': None, 'notifications': None, 'translator_type': 'none', 'withheld_in_countries': []}, id=1083405188449198080, id_str='1083405188449198080', name='DataLEADS', screen_name='data_LEADS', location='India', description='Award-winning data-driven multiplatform initiative building collaborations for data driven storytelling,fact-checking, media research and innovations.', url='https://t.co/N5QsLMPkbB', entities={'url': {'urls': [{'url': 'https://t.co/N5QsLMPkbB', 'expanded_url': 'http://dataleads.co.in/', 'display_url': 'dataleads.co.in', 'indices': [0, 23]}]}, 'description': {'urls': []}}, protected=False, followers_count=918, friends_count=139, listed_count=14, created_at=datetime.datetime(2019, 1, 10, 16, 48, 20), favourites_count=754, utc_offset=None, time_zone=None, geo_enabled=True, verified=False, statuses_count=1717, lang=None, contributors_enabled=False, is_translator=False, is_translation_enabled=False, profile_background_color='F5F8FA', profile_background_image_url=None, profile_background_image_url_https=None, profile_background_tile=False, profile_image_url='http://pbs.twimg.com/profile_images/1369338115140255746/SJ05kKOF_normal.jpg', profile_image_url_https='https://pbs.twimg.com/profile_images/1369338115140255746/SJ05kKOF_normal.jpg', profile_banner_url='https://pbs.twimg.com/profile_banners/1083405188449198080/1619154473', profile_link_color='1DA1F2', profile_sidebar_border_color='C0DEED', profile_sidebar_fill_color='DDEEF6', profile_text_color='333333', profile_use_background_image=True, has_extended_profile=False, default_profile=True, default_profile_image=False, following=False, follow_request_sent=None, notifications=None, translator_type='none', withheld_in_countries=[]), geo=None, coordinates=None, place=None, contributors=None, is_quote_status=False, retweet_count=1, favorite_count=0, favorited=False, retweeted=False, possibly_sensitive=False, lang='en')>"
      ]
     },
     "execution_count": 23,
     "metadata": {},
     "output_type": "execute_result"
    }
   ],
   "source": [
    "tweet.favorite."
   ]
  },
  {
   "cell_type": "code",
   "execution_count": null,
   "metadata": {},
   "outputs": [],
   "source": []
  }
 ],
 "metadata": {
  "kernelspec": {
   "display_name": "Python 3",
   "language": "python",
   "name": "python3"
  },
  "language_info": {
   "codemirror_mode": {
    "name": "ipython",
    "version": 3
   },
   "file_extension": ".py",
   "mimetype": "text/x-python",
   "name": "python",
   "nbconvert_exporter": "python",
   "pygments_lexer": "ipython3",
   "version": "3.7.3"
  }
 },
 "nbformat": 4,
 "nbformat_minor": 4
}
