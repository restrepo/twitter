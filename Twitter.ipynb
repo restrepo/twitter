{
 "cells": [
  {
   "cell_type": "markdown",
   "metadata": {},
   "source": [
    "# Api Twitter\n",
    "* https://datascienceparichay.com/article/get-data-from-twitter-api-in-python-step-by-step-guide/\n",
    "* https://developer.twitter.com/en/portal/projects/1391772372416532480/apps/20820453/keys\n",
    "\n",
    "Análisis de sentimiento en Español:\n",
    "* https://platzi.com/tutoriales/1874-python-lenguaje-natural/5654-realiza-un-analisis-de-sentimiento-en-3-pasos-con-python/\n",
    "    * Ejemplo https://twitter.com/whaleandjaguar_?lang=en"
   ]
  },
  {
   "cell_type": "markdown",
   "metadata": {},
   "source": [
    "## Tutorial de búsqueda\n",
    "### Acceso para búsqueda avanzada\n",
    "Para acceder como usario ver [aquí](https://www.geeksforgeeks.org/python-api-me-in-tweepy/)"
   ]
  },
  {
   "cell_type": "code",
   "execution_count": 1,
   "metadata": {},
   "outputs": [],
   "source": [
    "import tweepy as tw\n",
    "import getpass"
   ]
  },
  {
   "cell_type": "code",
   "execution_count": 2,
   "metadata": {},
   "outputs": [
    {
     "name": "stdin",
     "output_type": "stream",
     "text": [
      " ·························\n"
     ]
    }
   ],
   "source": [
    "my_api_key=getpass.getpass()"
   ]
  },
  {
   "cell_type": "code",
   "execution_count": 3,
   "metadata": {},
   "outputs": [
    {
     "name": "stdin",
     "output_type": "stream",
     "text": [
      " ··················································\n"
     ]
    }
   ],
   "source": [
    "my_api_secret=getpass.getpass()"
   ]
  },
  {
   "cell_type": "code",
   "execution_count": 4,
   "metadata": {},
   "outputs": [],
   "source": [
    "auth = tw.OAuthHandler(my_api_key, my_api_secret)"
   ]
  },
  {
   "cell_type": "code",
   "execution_count": 5,
   "metadata": {},
   "outputs": [],
   "source": [
    "api = tw.API(auth, wait_on_rate_limit=True)"
   ]
  },
  {
   "cell_type": "code",
   "execution_count": 6,
   "metadata": {},
   "outputs": [],
   "source": [
    "search_query = \"#SOSColomia OR #ParoNacional OR #Cali OR #UribeTieneLaRazón OR #YoApoyoAlEsmad OR #NoMasParo\""
   ]
  },
  {
   "cell_type": "code",
   "execution_count": 7,
   "metadata": {},
   "outputs": [],
   "source": [
    "# get tweets from the API\n",
    "tweets = tw.Cursor(api.search,\n",
    "              q=search_query,\n",
    "              lang=\"es\",\n",
    "              since=\"2021-03-01\" #https://es.wikipedia.org/wiki/Protestas_en_Colombia_de_2021\n",
    "                  ).items(50) #empty for all "
   ]
  },
  {
   "cell_type": "markdown",
   "metadata": {},
   "source": [
    "Cada tweet es un objeto con uun tweet completo desglosado en: https://developer.twitter.com/en/docs/twitter-api/v1/data-dictionary/object-model/tweet"
   ]
  },
  {
   "cell_type": "code",
   "execution_count": 8,
   "metadata": {},
   "outputs": [
    {
     "name": "stdout",
     "output_type": "stream",
     "text": [
      "Total Tweets fetched: 50\n"
     ]
    }
   ],
   "source": [
    "# store the API responses in a list\n",
    "tweets_copy = []\n",
    "for tweet in tweets:\n",
    "    tweets_copy.append(tweet)\n",
    "    \n",
    "print(\"Total Tweets fetched:\", len(tweets_copy))"
   ]
  },
  {
   "cell_type": "markdown",
   "metadata": {},
   "source": [
    "El módulo `pickle` permité salvar objetos en archivos binarios. De ésta manera podemos grabar la información completa sobre la búsqueda para un análisis posterior"
   ]
  },
  {
   "cell_type": "code",
   "execution_count": 9,
   "metadata": {},
   "outputs": [],
   "source": [
    "#Save the list of tweet objects as a pickle file\n",
    "import pickle\n",
    "f=open('tweets_copy.pickle','wb')\n",
    "pickle.dump(tweets_copy,f)\n",
    "f.close()"
   ]
  },
  {
   "cell_type": "code",
   "execution_count": 13,
   "metadata": {},
   "outputs": [
    {
     "name": "stdout",
     "output_type": "stream",
     "text": [
      "-rw-r--r-- 1 restrepo restrepo 26M May 22 05:24 tweets_copy.pickle\n"
     ]
    }
   ],
   "source": [
    "!ls -lh tweets_copy.pickle"
   ]
  },
  {
   "cell_type": "markdown",
   "metadata": {},
   "source": [
    "Cada elemento de la lista es un objeto tweet, que equivala a una fila de una base de datos no relacional. Su documentación está disponible [aquí](https://developer.twitter.com/en/docs/twitter-api/v1/data-dictionary/object-model/tweet).\n",
    "\n",
    "Para acceder al primer hastashg de un tweet debemos caminar la estructura:\n",
    "\n",
    "lista → diccionario → lista → diccionario"
   ]
  },
  {
   "cell_type": "code",
   "execution_count": 18,
   "metadata": {},
   "outputs": [
    {
     "data": {
      "text/plain": [
       "[]"
      ]
     },
     "execution_count": 18,
     "metadata": {},
     "output_type": "execute_result"
    }
   ],
   "source": [
    "tweets_copy[1].entities['hashtags']#[0]['text']"
   ]
  },
  {
   "cell_type": "markdown",
   "metadata": {},
   "source": [
    "## Ejemplo de DataFrame con información básica"
   ]
  },
  {
   "cell_type": "code",
   "execution_count": 19,
   "metadata": {},
   "outputs": [
    {
     "data": {
      "text/html": [
       "<div>\n",
       "<style scoped>\n",
       "    .dataframe tbody tr th:only-of-type {\n",
       "        vertical-align: middle;\n",
       "    }\n",
       "\n",
       "    .dataframe tbody tr th {\n",
       "        vertical-align: top;\n",
       "    }\n",
       "\n",
       "    .dataframe thead th {\n",
       "        text-align: right;\n",
       "    }\n",
       "</style>\n",
       "<table border=\"1\" class=\"dataframe\">\n",
       "  <thead>\n",
       "    <tr style=\"text-align: right;\">\n",
       "      <th></th>\n",
       "      <th>user_name</th>\n",
       "      <th>user_location</th>\n",
       "      <th>user_description</th>\n",
       "      <th>user_verified</th>\n",
       "      <th>date</th>\n",
       "      <th>text</th>\n",
       "      <th>hashtags</th>\n",
       "      <th>source</th>\n",
       "      <th>id</th>\n",
       "      <th>original_id</th>\n",
       "    </tr>\n",
       "  </thead>\n",
       "  <tbody>\n",
       "    <tr>\n",
       "      <th>0</th>\n",
       "      <td>Alonso</td>\n",
       "      <td>Asia</td>\n",
       "      <td>I ask the international community to help the ...</td>\n",
       "      <td>False</td>\n",
       "      <td>2021-05-22 10:17:25</td>\n",
       "      <td>RT @Blg1M: Cartago #VALLE 21de MAYO2021 🚨🆘 \\n#...</td>\n",
       "      <td>[VALLE, NosEstanMantando, Cartago, ParoNaciona...</td>\n",
       "      <td>Twitter for Android</td>\n",
       "      <td>1396047538369830918</td>\n",
       "      <td>1395961270948536322</td>\n",
       "    </tr>\n",
       "    <tr>\n",
       "      <th>1</th>\n",
       "      <td>Sandra Suarez - opiniones personales</td>\n",
       "      <td></td>\n",
       "      <td></td>\n",
       "      <td>False</td>\n",
       "      <td>2021-05-22 10:16:48</td>\n",
       "      <td>RT @CapitnColombia: Por su presente, por su fu...</td>\n",
       "      <td>None</td>\n",
       "      <td>Twitter for Android</td>\n",
       "      <td>1396047383784529920</td>\n",
       "      <td>1395886242731110417</td>\n",
       "    </tr>\n",
       "    <tr>\n",
       "      <th>2</th>\n",
       "      <td>@marioperico4</td>\n",
       "      <td></td>\n",
       "      <td>abajotwitter</td>\n",
       "      <td>False</td>\n",
       "      <td>2021-05-22 10:16:41</td>\n",
       "      <td>RT @martinquinco: @jflafaurie @UNPColombia Des...</td>\n",
       "      <td>[NoMasParo, NoMasBloqueos, YoApoyoALaFuerzaPub...</td>\n",
       "      <td>Twitter for Android</td>\n",
       "      <td>1396047356123041792</td>\n",
       "      <td>1395755520607334401</td>\n",
       "    </tr>\n",
       "    <tr>\n",
       "      <th>3</th>\n",
       "      <td>maravillamil</td>\n",
       "      <td></td>\n",
       "      <td>Diseñador, investigador, antiuribista y comuni...</td>\n",
       "      <td>False</td>\n",
       "      <td>2021-05-22 10:16:40</td>\n",
       "      <td>RT @martinquinco: @jflafaurie @UNPColombia Des...</td>\n",
       "      <td>[MuyParacoSi, UribeParacoHpta]</td>\n",
       "      <td>Twitter for Android</td>\n",
       "      <td>1396047352553689096</td>\n",
       "      <td>1396043260926337024</td>\n",
       "    </tr>\n",
       "    <tr>\n",
       "      <th>4</th>\n",
       "      <td>Mauro Gabriel Escalona Quiroz</td>\n",
       "      <td></td>\n",
       "      <td>Antiuribista 100% y 24/7, por que Colombia mer...</td>\n",
       "      <td>False</td>\n",
       "      <td>2021-05-22 10:16:36</td>\n",
       "      <td>RT @Contagioradio1: #Bogotá Chicos de la guard...</td>\n",
       "      <td>[Bogotá]</td>\n",
       "      <td>Twitter for Android</td>\n",
       "      <td>1396047336439259136</td>\n",
       "      <td>1395937231060230145</td>\n",
       "    </tr>\n",
       "  </tbody>\n",
       "</table>\n",
       "</div>"
      ],
      "text/plain": [
       "                              user_name user_location  \\\n",
       "0                                Alonso          Asia   \n",
       "1  Sandra Suarez - opiniones personales                 \n",
       "2                         @marioperico4                 \n",
       "3                          maravillamil                 \n",
       "4         Mauro Gabriel Escalona Quiroz                 \n",
       "\n",
       "                                    user_description  user_verified  \\\n",
       "0  I ask the international community to help the ...          False   \n",
       "1                                                             False   \n",
       "2                                       abajotwitter          False   \n",
       "3  Diseñador, investigador, antiuribista y comuni...          False   \n",
       "4  Antiuribista 100% y 24/7, por que Colombia mer...          False   \n",
       "\n",
       "                 date                                               text  \\\n",
       "0 2021-05-22 10:17:25  RT @Blg1M: Cartago #VALLE 21de MAYO2021 🚨🆘 \\n#...   \n",
       "1 2021-05-22 10:16:48  RT @CapitnColombia: Por su presente, por su fu...   \n",
       "2 2021-05-22 10:16:41  RT @martinquinco: @jflafaurie @UNPColombia Des...   \n",
       "3 2021-05-22 10:16:40  RT @martinquinco: @jflafaurie @UNPColombia Des...   \n",
       "4 2021-05-22 10:16:36  RT @Contagioradio1: #Bogotá Chicos de la guard...   \n",
       "\n",
       "                                            hashtags               source  \\\n",
       "0  [VALLE, NosEstanMantando, Cartago, ParoNaciona...  Twitter for Android   \n",
       "1                                               None  Twitter for Android   \n",
       "2  [NoMasParo, NoMasBloqueos, YoApoyoALaFuerzaPub...  Twitter for Android   \n",
       "3                     [MuyParacoSi, UribeParacoHpta]  Twitter for Android   \n",
       "4                                           [Bogotá]  Twitter for Android   \n",
       "\n",
       "                    id          original_id  \n",
       "0  1396047538369830918  1395961270948536322  \n",
       "1  1396047383784529920  1395886242731110417  \n",
       "2  1396047356123041792  1395755520607334401  \n",
       "3  1396047352553689096  1396043260926337024  \n",
       "4  1396047336439259136  1395937231060230145  "
      ]
     },
     "execution_count": 19,
     "metadata": {},
     "output_type": "execute_result"
    }
   ],
   "source": [
    "import pandas as pd\n",
    "\n",
    "# intialize the dataframe\n",
    "tweets_df = pd.DataFrame()\n",
    "\n",
    "# populate the dataframe\n",
    "for tweet in tweets_copy:\n",
    "    hashtags = []\n",
    "    try:\n",
    "        for hashtag in tweet.entities[\"hashtags\"]:\n",
    "            hashtags.append(hashtag[\"text\"])\n",
    "        text = api.get_status(id=tweet.id, tweet_mode='extended').full_text\n",
    "    except:\n",
    "        pass\n",
    "    \n",
    "    original=None\n",
    "    if tweet._json.get('retweeted_status'):\n",
    "        original=tweet.retweeted_status.id\n",
    "    tweets_df = tweets_df.append(pd.DataFrame({'user_name': tweet.user.name, \n",
    "                                               'user_location': tweet.user.location,\\\n",
    "                                               'user_description': tweet.user.description,\n",
    "                                               'user_verified': tweet.user.verified,\n",
    "                                               'date': tweet.created_at,\n",
    "                                               'text': text, \n",
    "                                               'hashtags': [hashtags if hashtags else None],\n",
    "                                               'source': tweet.source,\n",
    "                                               'id':tweet.id,\n",
    "                                               'original_id':original}))\n",
    "    tweets_df = tweets_df.reset_index(drop=True)\n",
    "\n",
    "# show the dataframe\n",
    "tweets_df.head()"
   ]
  },
  {
   "cell_type": "markdown",
   "metadata": {},
   "source": [
    "El url del tweet se obtiene a partir del 'id' poniendolo al final del siguiente link\n",
    "https://twitter.com/twitter/status/1394753543010230274. Si el 'text' comienza con RT, el tweet original estarìa en el 'original_id', por ejemplo https://twitter.com/twitter/status/1394277783040368641"
   ]
  },
  {
   "cell_type": "code",
   "execution_count": 20,
   "metadata": {},
   "outputs": [
    {
     "data": {
      "text/plain": [
       "(5000, 10)"
      ]
     },
     "execution_count": 20,
     "metadata": {},
     "output_type": "execute_result"
    }
   ],
   "source": [
    "tweets_df.shape"
   ]
  },
  {
   "cell_type": "code",
   "execution_count": 21,
   "metadata": {},
   "outputs": [],
   "source": [
    "#Save to standard JSON file\n",
    "tweets_df.to_json('tweets_df.json',orient='records')"
   ]
  },
  {
   "cell_type": "markdown",
   "metadata": {},
   "source": [
    "### Tweets with timelines"
   ]
  },
  {
   "cell_type": "markdown",
   "metadata": {},
   "source": [
    "We can use the `max_id` parameter to load all the tweets: See https://developer.twitter.com/en/docs/twitter-api/v1/tweets/timelines/guides/working-with-timelines"
   ]
  },
  {
   "cell_type": "code",
   "execution_count": 38,
   "metadata": {},
   "outputs": [
    {
     "name": "stdout",
     "output_type": "stream",
     "text": [
      "Total Tweets fetched: 5000\n",
      "\n",
      "Total Tweets fetched: 5000\n",
      "\n",
      "Total Tweets fetched: 5000\n",
      "\n",
      "Total Tweets fetched: 5000\n",
      "\n"
     ]
    }
   ],
   "source": [
    "import pandas as pd\n",
    "tweets_df = pd.DataFrame()\n",
    "max_items=5000\n",
    "steps=4\n",
    "#Get the first tweet\n",
    "tweets = tw.Cursor(api.search,\n",
    "              q=search_query,\n",
    "              lang=\"es\",\n",
    "              since=\"2021-03-01\"\n",
    "                  ).items(1) #empty for all\n",
    "max_id=[t._json.get('id') for t in tweets][0]\n",
    "\n",
    "#Get max_items*steps tweets\n",
    "for i in range(steps):\n",
    "    print(i,end='\\r')\n",
    "    tweets = tw.Cursor(api.search,\n",
    "                  q=search_query,\n",
    "                  lang=\"es\",\n",
    "                  since=\"2021-03-01\", #https://es.wikipedia.org/wiki/Protestas_en_Colombia_de_2021\n",
    "                  max_id=max_id\n",
    "                      ).items(max_items) #empty for all \n",
    "\n",
    "    tweets_copy = []\n",
    "    for tweet in tweets:\n",
    "        tweets_copy.append(tweet)\n",
    "\n",
    "    print(\"Total Tweets fetched:\", len(tweets_copy))\n",
    "    max_id=tweets_copy[-1]._json.get('id')\n",
    "    max_id=max_id-1\n",
    "\n",
    "    step_df=pd.DataFrame()\n",
    "    # populate the dataframe\n",
    "    for tweet in tweets_copy:\n",
    "        hashtags = []\n",
    "        try:\n",
    "            for hashtag in tweet.entities[\"hashtags\"]:\n",
    "                hashtags.append(hashtag[\"text\"])\n",
    "            text = api.get_status(id=tweet.id, tweet_mode='extended').full_text\n",
    "        except:\n",
    "            pass\n",
    "\n",
    "        original=None\n",
    "        if tweet._json.get('retweeted_status'):\n",
    "            original=tweet.retweeted_status.id\n",
    "        step_df = step_df.append({'user_name': tweet.user.name, \n",
    "                                                   'user_location': tweet.user.location,\\\n",
    "                                                   'user_description': tweet.user.description,\n",
    "                                                   'user_verified': tweet.user.verified,\n",
    "                                                   'date': tweet.created_at,\n",
    "                                                   'text': text, \n",
    "                                                   'hashtags': [hashtags if hashtags else None],\n",
    "                                                   'source': tweet.source,\n",
    "                                                   'id':tweet.id,\n",
    "                                                   'original_id':original},\n",
    "                                 ignore_index=True)\n",
    "        step_df = step_df.reset_index(drop=True)\n",
    "    tweets_df=tweets_df.append(step_df).reset_index(drop=True)\n",
    "    # show the dataframe\n",
    "    print('')"
   ]
  },
  {
   "cell_type": "code",
   "execution_count": 39,
   "metadata": {},
   "outputs": [
    {
     "data": {
      "text/plain": [
       "(19999,)"
      ]
     },
     "execution_count": 39,
     "metadata": {},
     "output_type": "execute_result"
    }
   ],
   "source": [
    "tweets_df['id'].unique().shape"
   ]
  },
  {
   "cell_type": "code",
   "execution_count": 41,
   "metadata": {},
   "outputs": [
    {
     "data": {
      "text/plain": [
       "(25000, 10)"
      ]
     },
     "execution_count": 41,
     "metadata": {},
     "output_type": "execute_result"
    }
   ],
   "source": [
    "tweets_df=tweets_df.append( pd.read_json('tweets_df.json')).reset_index(drop=True)\n",
    "tweets_df.shape"
   ]
  },
  {
   "cell_type": "markdown",
   "metadata": {},
   "source": [
    "### Ejemplo de análisis de datos\n",
    "Obtenga la lista de hashtags"
   ]
  },
  {
   "cell_type": "code",
   "execution_count": 26,
   "metadata": {},
   "outputs": [
    {
     "data": {
      "text/plain": [
       "\"['Movilización', 'Cali', 'ParoNacional', 'ParoNacional', 'Cali',...]\""
      ]
     },
     "execution_count": 26,
     "metadata": {},
     "output_type": "execute_result"
    }
   ],
   "source": [
    "hstgs=tweets_df[\"hashtags\"].dropna().sum()\n",
    "str(\n",
    "    #first five elements\n",
    "    hstgs[:5]\n",
    ").replace(\"]\",\",...]\")"
   ]
  },
  {
   "cell_type": "code",
   "execution_count": 27,
   "metadata": {},
   "outputs": [
    {
     "data": {
      "text/plain": [
       "6271"
      ]
     },
     "execution_count": 27,
     "metadata": {},
     "output_type": "execute_result"
    }
   ],
   "source": [
    "len(hstgs)"
   ]
  },
  {
   "cell_type": "markdown",
   "metadata": {},
   "source": [
    "veces"
   ]
  },
  {
   "cell_type": "markdown",
   "metadata": {},
   "source": [
    "Obtener lista de hashtags únicos"
   ]
  },
  {
   "cell_type": "code",
   "execution_count": 29,
   "metadata": {},
   "outputs": [
    {
     "data": {
      "text/plain": [
       "\"['DesconciertoNacional', 'Rechazo', 'AfroSoul', 'Ansiedad', 'JesúsSantrich',...]\""
      ]
     },
     "execution_count": 29,
     "metadata": {},
     "output_type": "execute_result"
    }
   ],
   "source": [
    "str(\n",
    " #first five elements\n",
    " list(set(hstgs))[:5]\n",
    ").replace(']',',...]')"
   ]
  },
  {
   "cell_type": "markdown",
   "metadata": {},
   "source": [
    "TOTAL:"
   ]
  },
  {
   "cell_type": "code",
   "execution_count": 30,
   "metadata": {},
   "outputs": [
    {
     "data": {
      "text/plain": [
       "604"
      ]
     },
     "execution_count": 30,
     "metadata": {},
     "output_type": "execute_result"
    }
   ],
   "source": [
    "len(set(hstgs))"
   ]
  },
  {
   "cell_type": "markdown",
   "metadata": {},
   "source": [
    "__Actividad__: Organizar los hashtags en orden decendiente de acuerdo al número de veces que aparecen en la lista completa de los mismos"
   ]
  },
  {
   "cell_type": "markdown",
   "metadata": {},
   "source": [
    "Hint:"
   ]
  },
  {
   "cell_type": "code",
   "execution_count": null,
   "metadata": {},
   "outputs": [],
   "source": [
    "l=[2,8,7,8,6,7,8]"
   ]
  },
  {
   "cell_type": "code",
   "execution_count": null,
   "metadata": {},
   "outputs": [],
   "source": [
    "l.count(8)"
   ]
  },
  {
   "cell_type": "code",
   "execution_count": 35,
   "metadata": {},
   "outputs": [],
   "source": [
    "hs=pd.DataFrame()"
   ]
  },
  {
   "cell_type": "code",
   "execution_count": 42,
   "metadata": {},
   "outputs": [
    {
     "data": {
      "text/html": [
       "<div>\n",
       "<style scoped>\n",
       "    .dataframe tbody tr th:only-of-type {\n",
       "        vertical-align: middle;\n",
       "    }\n",
       "\n",
       "    .dataframe tbody tr th {\n",
       "        vertical-align: top;\n",
       "    }\n",
       "\n",
       "    .dataframe thead th {\n",
       "        text-align: right;\n",
       "    }\n",
       "</style>\n",
       "<table border=\"1\" class=\"dataframe\">\n",
       "  <thead>\n",
       "    <tr style=\"text-align: right;\">\n",
       "      <th></th>\n",
       "      <th>hastags</th>\n",
       "      <th>count</th>\n",
       "    </tr>\n",
       "  </thead>\n",
       "  <tbody>\n",
       "    <tr>\n",
       "      <th>323</th>\n",
       "      <td>ParoNacional</td>\n",
       "      <td>1824</td>\n",
       "    </tr>\n",
       "    <tr>\n",
       "      <th>381</th>\n",
       "      <td>Colombia</td>\n",
       "      <td>420</td>\n",
       "    </tr>\n",
       "    <tr>\n",
       "      <th>67</th>\n",
       "      <td>CALI</td>\n",
       "      <td>382</td>\n",
       "    </tr>\n",
       "    <tr>\n",
       "      <th>452</th>\n",
       "      <td>Cali</td>\n",
       "      <td>293</td>\n",
       "    </tr>\n",
       "    <tr>\n",
       "      <th>156</th>\n",
       "      <td>ParoNacional18M</td>\n",
       "      <td>183</td>\n",
       "    </tr>\n",
       "    <tr>\n",
       "      <th>548</th>\n",
       "      <td>18M</td>\n",
       "      <td>101</td>\n",
       "    </tr>\n",
       "    <tr>\n",
       "      <th>441</th>\n",
       "      <td>PrimeraLínea</td>\n",
       "      <td>99</td>\n",
       "    </tr>\n",
       "    <tr>\n",
       "      <th>504</th>\n",
       "      <td>NoMasParo</td>\n",
       "      <td>91</td>\n",
       "    </tr>\n",
       "    <tr>\n",
       "      <th>278</th>\n",
       "      <td>Yumbo</td>\n",
       "      <td>77</td>\n",
       "    </tr>\n",
       "    <tr>\n",
       "      <th>261</th>\n",
       "      <td>Bogotá</td>\n",
       "      <td>64</td>\n",
       "    </tr>\n",
       "    <tr>\n",
       "      <th>33</th>\n",
       "      <td>DóndeEstán</td>\n",
       "      <td>58</td>\n",
       "    </tr>\n",
       "    <tr>\n",
       "      <th>89</th>\n",
       "      <td>Esmad</td>\n",
       "      <td>56</td>\n",
       "    </tr>\n",
       "    <tr>\n",
       "      <th>189</th>\n",
       "      <td>SOSColombiaDDHH</td>\n",
       "      <td>53</td>\n",
       "    </tr>\n",
       "    <tr>\n",
       "      <th>357</th>\n",
       "      <td>ParoNacionalIndefinido</td>\n",
       "      <td>53</td>\n",
       "    </tr>\n",
       "    <tr>\n",
       "      <th>276</th>\n",
       "      <td>MadresContraLaImpunidad</td>\n",
       "      <td>52</td>\n",
       "    </tr>\n",
       "    <tr>\n",
       "      <th>317</th>\n",
       "      <td>CRIC</td>\n",
       "      <td>45</td>\n",
       "    </tr>\n",
       "    <tr>\n",
       "      <th>233</th>\n",
       "      <td>Indígena</td>\n",
       "      <td>45</td>\n",
       "    </tr>\n",
       "    <tr>\n",
       "      <th>578</th>\n",
       "      <td>ParoNacionalColombia</td>\n",
       "      <td>45</td>\n",
       "    </tr>\n",
       "    <tr>\n",
       "      <th>244</th>\n",
       "      <td>NoMasBloqueos</td>\n",
       "      <td>44</td>\n",
       "    </tr>\n",
       "    <tr>\n",
       "      <th>482</th>\n",
       "      <td>JorgeIvánOspina</td>\n",
       "      <td>43</td>\n",
       "    </tr>\n",
       "    <tr>\n",
       "      <th>341</th>\n",
       "      <td>paronacional</td>\n",
       "      <td>42</td>\n",
       "    </tr>\n",
       "    <tr>\n",
       "      <th>68</th>\n",
       "      <td>ColombiaResiste</td>\n",
       "      <td>41</td>\n",
       "    </tr>\n",
       "    <tr>\n",
       "      <th>597</th>\n",
       "      <td>ParoAsesino</td>\n",
       "      <td>36</td>\n",
       "    </tr>\n",
       "    <tr>\n",
       "      <th>387</th>\n",
       "      <td>ReformaALaSalud</td>\n",
       "      <td>35</td>\n",
       "    </tr>\n",
       "    <tr>\n",
       "      <th>15</th>\n",
       "      <td>19M</td>\n",
       "      <td>34</td>\n",
       "    </tr>\n",
       "    <tr>\n",
       "      <th>396</th>\n",
       "      <td>MañanasBLU</td>\n",
       "      <td>32</td>\n",
       "    </tr>\n",
       "    <tr>\n",
       "      <th>342</th>\n",
       "      <td>Movilización</td>\n",
       "      <td>29</td>\n",
       "    </tr>\n",
       "    <tr>\n",
       "      <th>574</th>\n",
       "      <td>Santrich</td>\n",
       "      <td>28</td>\n",
       "    </tr>\n",
       "    <tr>\n",
       "      <th>432</th>\n",
       "      <td>JesusSantrich</td>\n",
       "      <td>28</td>\n",
       "    </tr>\n",
       "    <tr>\n",
       "      <th>439</th>\n",
       "      <td>ATENCIÓN</td>\n",
       "      <td>26</td>\n",
       "    </tr>\n",
       "    <tr>\n",
       "      <th>385</th>\n",
       "      <td>DuqueChao</td>\n",
       "      <td>25</td>\n",
       "    </tr>\n",
       "    <tr>\n",
       "      <th>512</th>\n",
       "      <td>EnVideo</td>\n",
       "      <td>25</td>\n",
       "    </tr>\n",
       "    <tr>\n",
       "      <th>49</th>\n",
       "      <td>AHORA</td>\n",
       "      <td>25</td>\n",
       "    </tr>\n",
       "    <tr>\n",
       "      <th>450</th>\n",
       "      <td>Bogota</td>\n",
       "      <td>24</td>\n",
       "    </tr>\n",
       "    <tr>\n",
       "      <th>58</th>\n",
       "      <td>Cartago</td>\n",
       "      <td>23</td>\n",
       "    </tr>\n",
       "    <tr>\n",
       "      <th>35</th>\n",
       "      <td>LeCuentoEl18M</td>\n",
       "      <td>23</td>\n",
       "    </tr>\n",
       "    <tr>\n",
       "      <th>497</th>\n",
       "      <td>Medellín</td>\n",
       "      <td>22</td>\n",
       "    </tr>\n",
       "    <tr>\n",
       "      <th>515</th>\n",
       "      <td>LevantenBloqueosYA</td>\n",
       "      <td>22</td>\n",
       "    </tr>\n",
       "    <tr>\n",
       "      <th>216</th>\n",
       "      <td>Farc</td>\n",
       "      <td>21</td>\n",
       "    </tr>\n",
       "    <tr>\n",
       "      <th>478</th>\n",
       "      <td>MingaIndígena</td>\n",
       "      <td>20</td>\n",
       "    </tr>\n",
       "    <tr>\n",
       "      <th>55</th>\n",
       "      <td>Video</td>\n",
       "      <td>19</td>\n",
       "    </tr>\n",
       "    <tr>\n",
       "      <th>266</th>\n",
       "      <td>18Mayo</td>\n",
       "      <td>19</td>\n",
       "    </tr>\n",
       "    <tr>\n",
       "      <th>369</th>\n",
       "      <td>DesbloquearEs</td>\n",
       "      <td>19</td>\n",
       "    </tr>\n",
       "    <tr>\n",
       "      <th>6</th>\n",
       "      <td>ATENCION</td>\n",
       "      <td>19</td>\n",
       "    </tr>\n",
       "    <tr>\n",
       "      <th>550</th>\n",
       "      <td>SOSColombiaNosEstanMatando</td>\n",
       "      <td>17</td>\n",
       "    </tr>\n",
       "    <tr>\n",
       "      <th>167</th>\n",
       "      <td>ElParoNOPara</td>\n",
       "      <td>17</td>\n",
       "    </tr>\n",
       "    <tr>\n",
       "      <th>259</th>\n",
       "      <td>AccionInternacionalPorColombia</td>\n",
       "      <td>17</td>\n",
       "    </tr>\n",
       "    <tr>\n",
       "      <th>553</th>\n",
       "      <td>SOSColombia</td>\n",
       "      <td>16</td>\n",
       "    </tr>\n",
       "    <tr>\n",
       "      <th>237</th>\n",
       "      <td>DemandemosAlComiteDelParo</td>\n",
       "      <td>16</td>\n",
       "    </tr>\n",
       "    <tr>\n",
       "      <th>148</th>\n",
       "      <td>Caucasia</td>\n",
       "      <td>16</td>\n",
       "    </tr>\n",
       "  </tbody>\n",
       "</table>\n",
       "</div>"
      ],
      "text/plain": [
       "                            hastags  count\n",
       "323                    ParoNacional   1824\n",
       "381                        Colombia    420\n",
       "67                             CALI    382\n",
       "452                            Cali    293\n",
       "156                 ParoNacional18M    183\n",
       "548                             18M    101\n",
       "441                    PrimeraLínea     99\n",
       "504                       NoMasParo     91\n",
       "278                           Yumbo     77\n",
       "261                          Bogotá     64\n",
       "33                       DóndeEstán     58\n",
       "89                            Esmad     56\n",
       "189                 SOSColombiaDDHH     53\n",
       "357          ParoNacionalIndefinido     53\n",
       "276         MadresContraLaImpunidad     52\n",
       "317                            CRIC     45\n",
       "233                        Indígena     45\n",
       "578            ParoNacionalColombia     45\n",
       "244                   NoMasBloqueos     44\n",
       "482                 JorgeIvánOspina     43\n",
       "341                    paronacional     42\n",
       "68                  ColombiaResiste     41\n",
       "597                     ParoAsesino     36\n",
       "387                 ReformaALaSalud     35\n",
       "15                              19M     34\n",
       "396                      MañanasBLU     32\n",
       "342                    Movilización     29\n",
       "574                        Santrich     28\n",
       "432                   JesusSantrich     28\n",
       "439                        ATENCIÓN     26\n",
       "385                       DuqueChao     25\n",
       "512                         EnVideo     25\n",
       "49                            AHORA     25\n",
       "450                          Bogota     24\n",
       "58                          Cartago     23\n",
       "35                    LeCuentoEl18M     23\n",
       "497                        Medellín     22\n",
       "515              LevantenBloqueosYA     22\n",
       "216                            Farc     21\n",
       "478                   MingaIndígena     20\n",
       "55                            Video     19\n",
       "266                          18Mayo     19\n",
       "369                   DesbloquearEs     19\n",
       "6                          ATENCION     19\n",
       "550      SOSColombiaNosEstanMatando     17\n",
       "167                    ElParoNOPara     17\n",
       "259  AccionInternacionalPorColombia     17\n",
       "553                     SOSColombia     16\n",
       "237       DemandemosAlComiteDelParo     16\n",
       "148                        Caucasia     16"
      ]
     },
     "execution_count": 42,
     "metadata": {},
     "output_type": "execute_result"
    }
   ],
   "source": [
    "pd.DataFrame( zip( set(hstgs) , [ hstgs.count(x) for x in set(hstgs)] ),columns=['hastags','count'] ).sort_values('count',ascending=False)[:50]"
   ]
  },
  {
   "cell_type": "markdown",
   "metadata": {},
   "source": [
    "### Grabar el objeto para análisis posteriores"
   ]
  },
  {
   "cell_type": "code",
   "execution_count": 48,
   "metadata": {},
   "outputs": [],
   "source": [
    "import pickle\n",
    "f=open('tweets_copy.pickle','rb')\n",
    "tw_cp=pickle.load(f)\n",
    "f.close()"
   ]
  },
  {
   "cell_type": "code",
   "execution_count": 95,
   "metadata": {},
   "outputs": [],
   "source": [
    "tweet=tw_cp[9]"
   ]
  },
  {
   "cell_type": "code",
   "execution_count": 96,
   "metadata": {},
   "outputs": [],
   "source": [
    "original=None\n",
    "if tweet._json.get('retweeted_status'):\n",
    "    original=tweet.retweeted_status.id\n",
    "original"
   ]
  },
  {
   "cell_type": "markdown",
   "metadata": {},
   "source": [
    "# Full DATA:\n",
    "El atributo `._json` nos permite acceder a la información no estructurado del objeto de tweet completo desglosado en: https://developer.twitter.com/en/docs/twitter-api/v1/data-dictionary/object-model/tweet\n"
   ]
  },
  {
   "cell_type": "code",
   "execution_count": 165,
   "metadata": {},
   "outputs": [
    {
     "name": "stdout",
     "output_type": "stream",
     "text": [
      "{'created_at': 'Wed May 12 05:52:23 +0000 2021', 'id': 1392356965578420225, ...\n"
     ]
    }
   ],
   "source": [
    "print(f'{str(tweet._json)[:76]}...')"
   ]
  },
  {
   "cell_type": "markdown",
   "metadata": {},
   "source": [
    "Si se adiciona como la fila de un DataFrame podremos visuzalizar la base de datos no estructurada completa"
   ]
  },
  {
   "cell_type": "code",
   "execution_count": 76,
   "metadata": {},
   "outputs": [],
   "source": [
    "full_df=pd.DataFrame()\n",
    "for tweet in tweets_copy:\n",
    "    full_df=full_df.append(tweet._json,ignore_index=True)"
   ]
  },
  {
   "cell_type": "code",
   "execution_count": 105,
   "metadata": {},
   "outputs": [],
   "source": [
    "pd.set_option('display.max_columns',50)"
   ]
  },
  {
   "cell_type": "code",
   "execution_count": 107,
   "metadata": {},
   "outputs": [
    {
     "data": {
      "text/html": [
       "<div>\n",
       "<style scoped>\n",
       "    .dataframe tbody tr th:only-of-type {\n",
       "        vertical-align: middle;\n",
       "    }\n",
       "\n",
       "    .dataframe tbody tr th {\n",
       "        vertical-align: top;\n",
       "    }\n",
       "\n",
       "    .dataframe thead th {\n",
       "        text-align: right;\n",
       "    }\n",
       "</style>\n",
       "<table border=\"1\" class=\"dataframe\">\n",
       "  <thead>\n",
       "    <tr style=\"text-align: right;\">\n",
       "      <th></th>\n",
       "      <th>contributors</th>\n",
       "      <th>coordinates</th>\n",
       "      <th>created_at</th>\n",
       "      <th>entities</th>\n",
       "      <th>favorite_count</th>\n",
       "      <th>favorited</th>\n",
       "      <th>geo</th>\n",
       "      <th>id</th>\n",
       "      <th>id_str</th>\n",
       "      <th>in_reply_to_screen_name</th>\n",
       "      <th>in_reply_to_status_id</th>\n",
       "      <th>in_reply_to_status_id_str</th>\n",
       "      <th>in_reply_to_user_id</th>\n",
       "      <th>in_reply_to_user_id_str</th>\n",
       "      <th>is_quote_status</th>\n",
       "      <th>lang</th>\n",
       "      <th>metadata</th>\n",
       "      <th>place</th>\n",
       "      <th>retweet_count</th>\n",
       "      <th>retweeted</th>\n",
       "      <th>retweeted_status</th>\n",
       "      <th>source</th>\n",
       "      <th>text</th>\n",
       "      <th>truncated</th>\n",
       "      <th>user</th>\n",
       "      <th>extended_entities</th>\n",
       "      <th>possibly_sensitive</th>\n",
       "      <th>quoted_status</th>\n",
       "      <th>quoted_status_id</th>\n",
       "      <th>quoted_status_id_str</th>\n",
       "    </tr>\n",
       "  </thead>\n",
       "  <tbody>\n",
       "    <tr>\n",
       "      <th>0</th>\n",
       "      <td>None</td>\n",
       "      <td>None</td>\n",
       "      <td>Wed May 12 05:52:23 +0000 2021</td>\n",
       "      <td>{'hashtags': [], 'symbols': [], 'user_mentions...</td>\n",
       "      <td>0.0</td>\n",
       "      <td>0.0</td>\n",
       "      <td>None</td>\n",
       "      <td>1392356965578420224</td>\n",
       "      <td>1392356965578420225</td>\n",
       "      <td>None</td>\n",
       "      <td>None</td>\n",
       "      <td>None</td>\n",
       "      <td>None</td>\n",
       "      <td>None</td>\n",
       "      <td>0.0</td>\n",
       "      <td>es</td>\n",
       "      <td>{'iso_language_code': 'es', 'result_type': 're...</td>\n",
       "      <td>None</td>\n",
       "      <td>77.0</td>\n",
       "      <td>0.0</td>\n",
       "      <td>{'created_at': 'Wed May 12 01:10:27 +0000 2021...</td>\n",
       "      <td>&lt;a href=\"http://twitter.com/download/android\" ...</td>\n",
       "      <td>RT @SemanarioVOZ: El Semanario VOZ recalca su ...</td>\n",
       "      <td>0.0</td>\n",
       "      <td>{'id': 1392150058087428102, 'id_str': '1392150...</td>\n",
       "      <td>NaN</td>\n",
       "      <td>NaN</td>\n",
       "      <td>NaN</td>\n",
       "      <td>NaN</td>\n",
       "      <td>NaN</td>\n",
       "    </tr>\n",
       "  </tbody>\n",
       "</table>\n",
       "</div>"
      ],
      "text/plain": [
       "  contributors coordinates                      created_at  \\\n",
       "0         None        None  Wed May 12 05:52:23 +0000 2021   \n",
       "\n",
       "                                            entities  favorite_count  \\\n",
       "0  {'hashtags': [], 'symbols': [], 'user_mentions...             0.0   \n",
       "\n",
       "   favorited   geo                   id               id_str  \\\n",
       "0        0.0  None  1392356965578420224  1392356965578420225   \n",
       "\n",
       "  in_reply_to_screen_name in_reply_to_status_id in_reply_to_status_id_str  \\\n",
       "0                    None                  None                      None   \n",
       "\n",
       "  in_reply_to_user_id in_reply_to_user_id_str  is_quote_status lang  \\\n",
       "0                None                    None              0.0   es   \n",
       "\n",
       "                                            metadata place  retweet_count  \\\n",
       "0  {'iso_language_code': 'es', 'result_type': 're...  None           77.0   \n",
       "\n",
       "   retweeted                                   retweeted_status  \\\n",
       "0        0.0  {'created_at': 'Wed May 12 01:10:27 +0000 2021...   \n",
       "\n",
       "                                              source  \\\n",
       "0  <a href=\"http://twitter.com/download/android\" ...   \n",
       "\n",
       "                                                text  truncated  \\\n",
       "0  RT @SemanarioVOZ: El Semanario VOZ recalca su ...        0.0   \n",
       "\n",
       "                                                user extended_entities  \\\n",
       "0  {'id': 1392150058087428102, 'id_str': '1392150...               NaN   \n",
       "\n",
       "   possibly_sensitive quoted_status  quoted_status_id quoted_status_id_str  \n",
       "0                 NaN           NaN               NaN                  NaN  "
      ]
     },
     "execution_count": 107,
     "metadata": {},
     "output_type": "execute_result"
    }
   ],
   "source": [
    "full_df[:1]"
   ]
  },
  {
   "cell_type": "code",
   "execution_count": 92,
   "metadata": {},
   "outputs": [],
   "source": [
    "full_df['id']=full_df['id'].astype(int)"
   ]
  },
  {
   "cell_type": "code",
   "execution_count": 95,
   "metadata": {},
   "outputs": [],
   "source": [
    "full_df.to_json('full_df.json',orient='records')"
   ]
  },
  {
   "cell_type": "code",
   "execution_count": 78,
   "metadata": {},
   "outputs": [],
   "source": [
    "full_df=pd.read_json('full_df.json')"
   ]
  },
  {
   "cell_type": "code",
   "execution_count": 81,
   "metadata": {},
   "outputs": [
    {
     "data": {
      "text/plain": [
       "0    {'created_at': 'Wed May 12 01:10:27 +0000 2021...\n",
       "1    {'created_at': 'Tue May 11 12:28:44 +0000 2021...\n",
       "2    {'created_at': 'Sat May 08 00:53:44 +0000 2021...\n",
       "3    {'created_at': 'Wed May 12 03:59:21 +0000 2021...\n",
       "4    {'created_at': 'Wed May 12 00:48:13 +0000 2021...\n",
       "5    {'created_at': 'Tue May 11 22:12:00 +0000 2021...\n",
       "6                                                 None\n",
       "7                                                 None\n",
       "8    {'created_at': 'Wed May 12 05:25:58 +0000 2021...\n",
       "9    {'created_at': 'Tue May 11 13:15:47 +0000 2021...\n",
       "Name: retweeted_status, dtype: object"
      ]
     },
     "execution_count": 81,
     "metadata": {},
     "output_type": "execute_result"
    }
   ],
   "source": [
    "full_df['retweeted_status']"
   ]
  },
  {
   "cell_type": "markdown",
   "metadata": {},
   "source": [
    "_________"
   ]
  }
 ],
 "metadata": {
  "kernelspec": {
   "display_name": "Python 3 (ipykernel)",
   "language": "python",
   "name": "python3"
  },
  "language_info": {
   "codemirror_mode": {
    "name": "ipython",
    "version": 3
   },
   "file_extension": ".py",
   "mimetype": "text/x-python",
   "name": "python",
   "nbconvert_exporter": "python",
   "pygments_lexer": "ipython3",
   "version": "3.7.3"
  }
 },
 "nbformat": 4,
 "nbformat_minor": 4
}
