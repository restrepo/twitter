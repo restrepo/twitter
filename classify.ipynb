{
 "cells": [
  {
   "cell_type": "markdown",
   "metadata": {},
   "source": [
    "## Análisis de sentimientos de Twitter con Python\n",
    "* https://platzi.com/tutoriales/1874-python-lenguaje-natural/5654-realiza-un-analisis-de-sentimiento-en-3-pasos-con-python/\n",
    "    * Ejemplo https://twitter.com/whaleandjaguar_?lang=en\n",
    "* https://towardsdatascience.com/my-absolute-go-to-for-sentiment-analysis-textblob-3ac3a11d524\n",
    "* https://www.justintodata.com/twitter-sentiment-analysis-python/\n",
    "* https://www.pluralsight.com/guides/building-a-twitter-sentiment-analysis-in-python"
   ]
  },
  {
   "cell_type": "markdown",
   "metadata": {},
   "source": [
    "### 1) Descargar tweets"
   ]
  },
  {
   "cell_type": "code",
   "execution_count": 1,
   "metadata": {},
   "outputs": [
    {
     "name": "stdout",
     "output_type": "stream",
     "text": [
      "Populating the interactive namespace from numpy and matplotlib\n"
     ]
    }
   ],
   "source": [
    "%pylab inline"
   ]
  },
  {
   "cell_type": "code",
   "execution_count": 2,
   "metadata": {},
   "outputs": [],
   "source": [
    "import pandas as pd\n",
    "pd.set_option('display.max_colwidth',500)"
   ]
  },
  {
   "cell_type": "code",
   "execution_count": 3,
   "metadata": {},
   "outputs": [],
   "source": [
    "df=pd.read_json('https://raw.githubusercontent.com/restrepo/twitter/main/tweets_df.json')"
   ]
  },
  {
   "cell_type": "markdown",
   "metadata": {},
   "source": [
    "### Cree un nuevo clasificador\n",
    "Vamos \n",
    "https://textblob.readthedocs.io/en/dev/classifiers.html#classifiers"
   ]
  },
  {
   "cell_type": "markdown",
   "metadata": {},
   "source": [
    "* A favor del Paro → `'fav'`\n",
    "* En contra del Paro→ `'con'`\n",
    "* Informativo or neutro → `'neu'`\n",
    "* Spam → `'spa'`"
   ]
  },
  {
   "cell_type": "markdown",
   "metadata": {},
   "source": [
    "Para crear los conjutos de datos para training y para test debemos clasisificar un conjunto suficientemente grande de textos de tweets en las dos categorias en números similares para cada una de las dos categorias\n",
    "\n",
    "Crearemos un algoritmo que nos permite clasificar algunos tweets del DataFrame en una nueva columna `'label'`, la cual tendrá un valor nulo cuando el tweet no este clasificado. Una vez un tweet sea clasificado, se añadirá a una lista de similaridad y sólo se clasificarán nuevos tweets que no sean similares a los previamente clasificados.  Para ello se usará el método `extractOne` del módulo `process` de `fuzzywuzzy` con scorer `fuzz.ratio` basado en la distancia Levenshtein entre dos textos."
   ]
  },
  {
   "cell_type": "code",
   "execution_count": 4,
   "metadata": {},
   "outputs": [],
   "source": [
    "from fuzzywuzzy import process\n",
    "from fuzzywuzzy import  fuzz"
   ]
  },
  {
   "cell_type": "code",
   "execution_count": 5,
   "metadata": {},
   "outputs": [
    {
     "name": "stdout",
     "output_type": "stream",
     "text": [
      "================================================================================\n",
      "================================================================================\n"
     ]
    },
    {
     "name": "stdin",
     "output_type": "stream",
     "text": [
      "RT @PoloDemocratico: El #ParoNacional es la manifestación del pueblo por la inconformidad qué hay con el gobierno de @IvanDuque, queremos q…: https://twitter.com/twitter/status/1394753529844219907\n",
      " → f/c/n/s para 'a favor'/'en contra'/'neutro'/'spam' or <Enter> para continuar:\n",
      " f\n"
     ]
    },
    {
     "name": "stdout",
     "output_type": "stream",
     "text": [
      "================================================================================\n"
     ]
    },
    {
     "name": "stdin",
     "output_type": "stream",
     "text": [
      "RT @PrensaRural: #ParoNacional, Campesinado del Catatumbo:\n",
      "\n",
      "En alerta máxima ante orden de Duque de tierra arrasada\n",
      "\n",
      "👉https://t.co/31jO1zLD…: https://twitter.com/twitter/status/1394753517546508288\n",
      " → f/c/n/s para 'a favor'/'en contra'/'neutro'/'spam' or <Enter> para continuar:\n",
      " f\n"
     ]
    },
    {
     "name": "stdout",
     "output_type": "stream",
     "text": [
      "================================================================================\n"
     ]
    },
    {
     "name": "stdin",
     "output_type": "stream",
     "text": [
      "RT @Tiradorsilencio: Como Ciudadano Colombiano me solidarizo y Apoyo d manera Absoluta y Total; la Carta d Ciudadanos d #Cali pidiendo d fo…: https://twitter.com/twitter/status/1394753499943079939\n",
      " → f/c/n/s para 'a favor'/'en contra'/'neutro'/'spam' or <Enter> para continuar:\n",
      " \n"
     ]
    },
    {
     "name": "stdout",
     "output_type": "stream",
     "text": [
      "================================================================================\n"
     ]
    },
    {
     "name": "stdin",
     "output_type": "stream",
     "text": [
      "RT @alertaroja234: @BluRadioCo Para aquellos que llaman a la guerra y al uso desproporcionado de la fuerza. Aquellos que bloquean son en la…: https://twitter.com/twitter/status/1394753497912942594\n",
      " → f/c/n/s para 'a favor'/'en contra'/'neutro'/'spam' or <Enter> para continuar:\n",
      " \n"
     ]
    },
    {
     "name": "stdout",
     "output_type": "stream",
     "text": [
      "================================================================================\n",
      "================================================================================\n"
     ]
    },
    {
     "name": "stdin",
     "output_type": "stream",
     "text": [
      "RT @madeleintlSUR: Un día de #ParoNacional #Medellin #Colombia de lee desde el aire anti #uribista https://t.co/cmX982EmFR: https://twitter.com/twitter/status/1394753451314253828\n",
      " → f/c/n/s para 'a favor'/'en contra'/'neutro'/'spam' or <Enter> para continuar:\n",
      " \n"
     ]
    },
    {
     "name": "stdout",
     "output_type": "stream",
     "text": [
      "================================================================================\n",
      "================================================================================\n",
      "================================================================================\n"
     ]
    },
    {
     "name": "stdin",
     "output_type": "stream",
     "text": [
      "Miércoles 19 de mayo Te esperamos \n",
      "A PARAR PARA AVANZAR \n",
      "#ParoNacional #Buga 🇱🇹 https://t.co/1twBnGpA0P: https://twitter.com/twitter/status/1394753400051490816\n",
      " → f/c/n/s para 'a favor'/'en contra'/'neutro'/'spam' or <Enter> para continuar:\n",
      " \n"
     ]
    },
    {
     "name": "stdout",
     "output_type": "stream",
     "text": [
      "================================================================================\n"
     ]
    },
    {
     "name": "stdin",
     "output_type": "stream",
     "text": [
      "RT @ClaraLopezObre: Presidente @IvanDuque se equivoca. @petrogustavo no es solo uno de 108 senadores. Representa 8 millones ciudadanos y es…: https://twitter.com/twitter/status/1394753376714362883\n",
      " → f/c/n/s para 'a favor'/'en contra'/'neutro'/'spam' or <Enter> para continuar:\n",
      " \n"
     ]
    },
    {
     "name": "stdout",
     "output_type": "stream",
     "text": [
      "================================================================================\n"
     ]
    },
    {
     "name": "stdin",
     "output_type": "stream",
     "text": [
      "RT @Nessnio: Me ausento un poco guerreros, pero les pido el favor de no olvidar, que mañana debemos marchar como un ejército multitudinario…: https://twitter.com/twitter/status/1394753338244091904\n",
      " → f/c/n/s para 'a favor'/'en contra'/'neutro'/'spam' or <Enter> para continuar:\n",
      " \n"
     ]
    },
    {
     "name": "stdout",
     "output_type": "stream",
     "text": [
      "================================================================================\n"
     ]
    },
    {
     "name": "stdin",
     "output_type": "stream",
     "text": [
      "@Emile1985 @elespectador No pues los \n",
      "much4chosdrogos y d3lincu3nt3s es lo que hay en ese #ParoNacional: https://twitter.com/twitter/status/1394753334536458242\n",
      " → f/c/n/s para 'a favor'/'en contra'/'neutro'/'spam' or <Enter> para continuar:\n",
      " c\n"
     ]
    },
    {
     "name": "stdout",
     "output_type": "stream",
     "text": [
      "================================================================================\n",
      "================================================================================\n"
     ]
    },
    {
     "name": "stdin",
     "output_type": "stream",
     "text": [
      "RT @aciprensa: El delegado especial del @episcopadocol, Mons. Héctor Henao, pidió que se excluya todo gesto de violencia en Colombia, de ta…: https://twitter.com/twitter/status/1394753319281778688\n",
      " → f/c/n/s para 'a favor'/'en contra'/'neutro'/'spam' or <Enter> para continuar:\n",
      " f\n"
     ]
    },
    {
     "name": "stdout",
     "output_type": "stream",
     "text": [
      "================================================================================\n"
     ]
    },
    {
     "name": "stdin",
     "output_type": "stream",
     "text": [
      "RT @PoloDemocratico: El Senador y presidente del @PoloDemocratico @AlexLopezMaya denuncia la infiltración de la fuerza pública entre los ma…: https://twitter.com/twitter/status/1394753316693946371\n",
      " → f/c/n/s para 'a favor'/'en contra'/'neutro'/'spam' or <Enter> para continuar:\n",
      " \n"
     ]
    },
    {
     "name": "stdout",
     "output_type": "stream",
     "text": [
      "================================================================================\n"
     ]
    },
    {
     "name": "stdin",
     "output_type": "stream",
     "text": [
      "RT @RedactoresNewsw: #redactoresinforma Por la Impunidad y la Injusticia, las Madres Colombianas 💞 siguen uniendo su voz de lucha en el #Pa…: https://twitter.com/twitter/status/1394753259156475904\n",
      " → f/c/n/s para 'a favor'/'en contra'/'neutro'/'spam' or <Enter> para continuar:\n",
      " \n"
     ]
    },
    {
     "name": "stdout",
     "output_type": "stream",
     "text": [
      "================================================================================\n"
     ]
    },
    {
     "name": "stdin",
     "output_type": "stream",
     "text": [
      "@RevistaSemana @VickyDavilaH Ni el asesinato de #JesusSantrich pudo ser tan fuerte, para opacar el #ParoNacional .\n",
      "\n",
      "En este Gobierno ya no sirven ni los agendamientos mediáticos, ni los espirales de silencio.\n",
      "\n",
      "#ColombiaSOS: https://twitter.com/twitter/status/1394753204328583171\n",
      " → f/c/n/s para 'a favor'/'en contra'/'neutro'/'spam' or <Enter> para continuar:\n",
      " \n"
     ]
    },
    {
     "name": "stdout",
     "output_type": "stream",
     "text": [
      "================================================================================\n",
      "================================================================================\n",
      "================================================================================\n"
     ]
    },
    {
     "name": "stdin",
     "output_type": "stream",
     "text": [
      "RT @WilsonP725: Pasando el tema de Petro y Nany Pardo, les recuerdo que estamos en Paro y que mañana las movilizaciones deben ser masivas.…: https://twitter.com/twitter/status/1394753123147816960\n",
      " → f/c/n/s para 'a favor'/'en contra'/'neutro'/'spam' or <Enter> para continuar:\n",
      " \n"
     ]
    },
    {
     "name": "stdout",
     "output_type": "stream",
     "text": [
      "================================================================================\n"
     ]
    },
    {
     "name": "stdin",
     "output_type": "stream",
     "text": [
      "Despilfarro, contratitis que en algún momento @Revista2caras denunció de la concejal. Recuerda que por eso apoyaba la alcaldía de @MauriceArmitage ? Es claro que @JorgeIvanOspina no le ha ayudado en nada y por eso insiste en atacar justo en esta coyuntura #Cali https://t.co/FJRwJcQa35: https://twitter.com/twitter/status/1394753104021577733\n",
      " → f/c/n/s para 'a favor'/'en contra'/'neutro'/'spam' or <Enter> para continuar:\n",
      " \n"
     ]
    },
    {
     "name": "stdout",
     "output_type": "stream",
     "text": [
      "================================================================================\n",
      "================================================================================\n",
      "================================================================================\n",
      "================================================================================\n"
     ]
    },
    {
     "name": "stdin",
     "output_type": "stream",
     "text": [
      "RT @cutcolombia: 🚶‍♂️🚶🚶‍♀️#ParoNacional \n",
      "\n",
      "El gobierno de Duque no quiere negociar, se niega a brindar garantías. Le responderemos masivamen…: https://twitter.com/twitter/status/1394753011281506309\n",
      " → f/c/n/s para 'a favor'/'en contra'/'neutro'/'spam' or <Enter> para continuar:\n",
      " \n"
     ]
    },
    {
     "name": "stdout",
     "output_type": "stream",
     "text": [
      "================================================================================\n"
     ]
    },
    {
     "name": "stdin",
     "output_type": "stream",
     "text": [
      "RT @JorgeOvalleB: ¿Porque el estallido social en #CALI? lejos de la idea miope de la infiltración insurgente del #ParoNacional que plantea…: https://twitter.com/twitter/status/1394753003903651841\n",
      " → f/c/n/s para 'a favor'/'en contra'/'neutro'/'spam' or <Enter> para continuar:\n",
      " \n"
     ]
    },
    {
     "name": "stdout",
     "output_type": "stream",
     "text": [
      "================================================================================\n"
     ]
    },
    {
     "name": "stdin",
     "output_type": "stream",
     "text": [
      "RT @NadieNa71747061: Así se resiste en Cali!!! \n",
      "Miren ese vandalismo!!!\n",
      "\n",
      "#ParoNacional #Cali #CaliResiste #MissUniverse2021 #ElParoSigue #S…: https://twitter.com/twitter/status/1394752977970376713\n",
      " → f/c/n/s para 'a favor'/'en contra'/'neutro'/'spam' or <Enter> para continuar:\n",
      " c\n"
     ]
    },
    {
     "name": "stdout",
     "output_type": "stream",
     "text": [
      "================================================================================\n"
     ]
    },
    {
     "name": "stdin",
     "output_type": "stream",
     "text": [
      "RT @MiluBites: Acabo de leer que @MayaAlcaldePei llegó tarde ayer a la Comisión de Paz del Senado porque su perrito estaba cumpliendo años…: https://twitter.com/twitter/status/1394752972199022596\n",
      " → f/c/n/s para 'a favor'/'en contra'/'neutro'/'spam' or <Enter> para continuar:\n",
      " \n"
     ]
    },
    {
     "name": "stdout",
     "output_type": "stream",
     "text": [
      "================================================================================\n"
     ]
    },
    {
     "name": "stdin",
     "output_type": "stream",
     "text": [
      "El #ParoNacional me ha servido para ver la calidad de seres humanos que me rodean y para sacar del llavero a unos cuantos “ciudadanos de bien”: https://twitter.com/twitter/status/1394752957602844673\n",
      " → f/c/n/s para 'a favor'/'en contra'/'neutro'/'spam' or <Enter> para continuar:\n",
      " \n"
     ]
    },
    {
     "name": "stdout",
     "output_type": "stream",
     "text": [
      "================================================================================\n"
     ]
    },
    {
     "name": "stdin",
     "output_type": "stream",
     "text": [
      "VIDEO COMPLETO CAPTURA EN FLAGRANCIA POLICIA JUDICIAL 🇨🇴\n",
      "\n",
      "#Cali\n",
      "#Colombia\n",
      "#DelincuenciaCali\n",
      "#ladronescali\n",
      "#gaminescali\n",
      "#ParoNacional\n",
      "#ONUHumanRights\n",
      "@amnistiaespana\n",
      "@hrw_espanol\n",
      "@amnistia\n",
      "@ONUHumanRights\n",
      "@elmundoes\n",
      "@nbc https://t.co/J1SJUrO5N9: https://twitter.com/twitter/status/1394752956944326659\n",
      " → f/c/n/s para 'a favor'/'en contra'/'neutro'/'spam' or <Enter> para continuar:\n",
      " \n"
     ]
    },
    {
     "name": "stdout",
     "output_type": "stream",
     "text": [
      "================================================================================\n",
      "================================================================================\n",
      "================================================================================\n"
     ]
    },
    {
     "name": "stdin",
     "output_type": "stream",
     "text": [
      "RT @WRadioColombia: #Cali Renunció el comandante de la Policía de Cali → https://t.co/XrVUmSTVj8 https://t.co/o7hzhfTYKm: https://twitter.com/twitter/status/1394752894893690881\n",
      " → f/c/n/s para 'a favor'/'en contra'/'neutro'/'spam' or <Enter> para continuar:\n",
      " n\n"
     ]
    },
    {
     "name": "stdout",
     "output_type": "stream",
     "text": [
      "================================================================================\n"
     ]
    },
    {
     "name": "stdin",
     "output_type": "stream",
     "text": [
      "RT @JorgeOvalleB: El índice GINI que mide la distribución de ingresos, muestra que en #CALI la desigualdad creció a nivel de 2012 al ubicar…: https://twitter.com/twitter/status/1394752892716859392\n",
      " → f/c/n/s para 'a favor'/'en contra'/'neutro'/'spam' or <Enter> para continuar:\n",
      " f\n"
     ]
    },
    {
     "name": "stdout",
     "output_type": "stream",
     "text": [
      "================================================================================\n",
      "================================================================================\n"
     ]
    },
    {
     "name": "stdin",
     "output_type": "stream",
     "text": [
      "RT @NoticiasCartag: #Cartago La situación es crítica en un sector de la comuna uno a esta hora, decenas de personas afectadas por los gases…: https://twitter.com/twitter/status/1394752854791970825\n",
      " → f/c/n/s para 'a favor'/'en contra'/'neutro'/'spam' or <Enter> para continuar:\n",
      " \n"
     ]
    },
    {
     "name": "stdout",
     "output_type": "stream",
     "text": [
      "================================================================================\n",
      "================================================================================\n"
     ]
    },
    {
     "name": "stdin",
     "output_type": "stream",
     "text": [
      "RT @JorgeOvalleB: La ñapa, en Colombia estamos en una dictadura y las dictaduras se derrotan con la democracia directa, con el derecho cons…: https://twitter.com/twitter/status/1394752765025558536\n",
      " → f/c/n/s para 'a favor'/'en contra'/'neutro'/'spam' or <Enter> para continuar:\n",
      " \n"
     ]
    },
    {
     "name": "stdout",
     "output_type": "stream",
     "text": [
      "================================================================================\n",
      "================================================================================\n"
     ]
    },
    {
     "name": "stdin",
     "output_type": "stream",
     "text": [
      "RT @Cambiamoscol: Nuestras únicas armas son la educación y las ganas de cambiar este país. 🔥✊🏽\n",
      "#ParoNacional #ParoNacional18M #SOSColombiaD…: https://twitter.com/twitter/status/1394752757710659585\n",
      " → f/c/n/s para 'a favor'/'en contra'/'neutro'/'spam' or <Enter> para continuar:\n",
      " \n"
     ]
    },
    {
     "name": "stdout",
     "output_type": "stream",
     "text": [
      "================================================================================\n",
      "================================================================================\n"
     ]
    },
    {
     "name": "stdin",
     "output_type": "stream",
     "text": [
      "RT @cutcolombia: 🚶‍♂️🚶🚶‍♀️#ParoNacional \n",
      "\n",
      "El Paro continúa. Por la Vida y la Paz. Ante un gobierno que no quiere negociar y se niega a brin…: https://twitter.com/twitter/status/1394752746801278976\n",
      " → f/c/n/s para 'a favor'/'en contra'/'neutro'/'spam' or <Enter> para continuar:\n",
      " \n"
     ]
    },
    {
     "name": "stdout",
     "output_type": "stream",
     "text": [
      "================================================================================\n",
      "================================================================================\n"
     ]
    },
    {
     "name": "stdin",
     "output_type": "stream",
     "text": [
      "RT @JorgeOvalleB: Resultado: la más grande movilización ciudadana en #CALI contra el uribismo e @IvanDuque, según el CNC en total 1.983.053…: https://twitter.com/twitter/status/1394752735946448896\n",
      " → f/c/n/s para 'a favor'/'en contra'/'neutro'/'spam' or <Enter> para continuar:\n",
      " \n"
     ]
    },
    {
     "name": "stdout",
     "output_type": "stream",
     "text": [
      "================================================================================\n"
     ]
    },
    {
     "name": "stdin",
     "output_type": "stream",
     "text": [
      "RT @JorgeOvalleB: Según el @DANE_Colombia para el  trimestre diciembre - febrero de 2021 los y las jóvenes en #CALI que ni estudian ni trab…: https://twitter.com/twitter/status/1394752688294879236\n",
      " → f/c/n/s para 'a favor'/'en contra'/'neutro'/'spam' or <Enter> para continuar:\n",
      " \n"
     ]
    },
    {
     "name": "stdout",
     "output_type": "stream",
     "text": [
      "================================================================================\n",
      "================================================================================\n",
      "================================================================================\n"
     ]
    },
    {
     "name": "stdin",
     "output_type": "stream",
     "text": [
      "RT @JorgeOvalleB: En 2020 los ingresos de los hombres jóvenes en Cali se redujo -16,8% respecto al 2019, el ingreso laboral promedio fue de…: https://twitter.com/twitter/status/1394752632196116480\n",
      " → f/c/n/s para 'a favor'/'en contra'/'neutro'/'spam' or <Enter> para continuar:\n",
      " \n"
     ]
    },
    {
     "name": "stdout",
     "output_type": "stream",
     "text": [
      "================================================================================\n"
     ]
    },
    {
     "name": "stdin",
     "output_type": "stream",
     "text": [
      "¿Porqué las #negociaciones se hacen a puerta cerrada?\n",
      "Deberían ser transmitidas, en vivito y directo. Así como tenemos que ver las babosadas que habla este tipo @IvanDuque. \n",
      "\n",
      "#Colombia \n",
      "#ParoNacional: https://twitter.com/twitter/status/1394752621639053313\n",
      " → f/c/n/s para 'a favor'/'en contra'/'neutro'/'spam' or <Enter> para continuar:\n",
      " \n"
     ]
    },
    {
     "name": "stdout",
     "output_type": "stream",
     "text": [
      "================================================================================\n"
     ]
    },
    {
     "name": "stdin",
     "output_type": "stream",
     "text": [
      "@clarincom Estos son los del entierro del Diego?\n",
      "O más de la mentira diaria del #GobiernoDeInutiles \n",
      "\n",
      "#Covidiano🐑😷💉Evita las aglomeraciones, #VirusChino sabe cuándo sales a protestar y NO ATACA\n",
      "Aún crees que #FalsaPandemia se trata de Salud Pública?😂🤣\n",
      "#Argentina #Colombia #ParoNacional https://t.co/6jAXYRVEQ4: https://twitter.com/twitter/status/1394752616765198338\n",
      " → f/c/n/s para 'a favor'/'en contra'/'neutro'/'spam' or <Enter> para continuar:\n",
      " \n"
     ]
    },
    {
     "name": "stdout",
     "output_type": "stream",
     "text": [
      "================================================================================\n"
     ]
    },
    {
     "name": "stdin",
     "output_type": "stream",
     "text": [
      "Acabo de leer que @MayaAlcaldePei llegó tarde ayer a la Comisión de Paz del Senado porque su perrito estaba cumpliendo años y le tenían que partir la torta primero a él antes de reunirse con las víctimas de la fuerza pública en el #paronacional ¿Será eso posible? #prioridades https://t.co/D1NPKKGoWn: https://twitter.com/twitter/status/1394752615670484996\n",
      " → f/c/n/s para 'a favor'/'en contra'/'neutro'/'spam' or <Enter> para continuar:\n",
      " \n"
     ]
    },
    {
     "name": "stdout",
     "output_type": "stream",
     "text": [
      "================================================================================\n",
      "================================================================================\n",
      "================================================================================\n"
     ]
    },
    {
     "name": "stdin",
     "output_type": "stream",
     "text": [
      "RT @JorgeOvalleB: #DesempleoJuvenil Para el 2020 el desempleo juvenil en #CALI fue de 29,1% con 112.929 jóvenes desempleados/as, con 26 mil…: https://twitter.com/twitter/status/1394752578718773256\n",
      " → f/c/n/s para 'a favor'/'en contra'/'neutro'/'spam' or <Enter> para continuar:\n",
      " \n"
     ]
    },
    {
     "name": "stdout",
     "output_type": "stream",
     "text": [
      "================================================================================\n"
     ]
    },
    {
     "name": "stdin",
     "output_type": "stream",
     "text": [
      "RT @MafeCarrascal: En Antioquia, Caldas, la de anoche fue una noche de horror. Disparos en medio de la oscuridad y sin señal de internet. ¿…: https://twitter.com/twitter/status/1394752552261066762\n",
      " → f/c/n/s para 'a favor'/'en contra'/'neutro'/'spam' or <Enter> para continuar:\n",
      " \n"
     ]
    },
    {
     "name": "stdout",
     "output_type": "stream",
     "text": [
      "================================================================================\n"
     ]
    },
    {
     "name": "stdin",
     "output_type": "stream",
     "text": [
      "@ELTIEMPO Escucha estos sinvergüenzas, bloquean extorsionan cobrando peajes ilegales y cuando el ESMAD los rodea para impedir su avanze criminal, lloran como nenas, mirelos como dan quejas 😂😂 😂 😂 perdedores. #NoMasParo #NoMasBloqueos #NoMasBloqueos #NoMasBloqueos #NoMasBloqueos: https://twitter.com/twitter/status/1394752532430434307\n",
      " → f/c/n/s para 'a favor'/'en contra'/'neutro'/'spam' or <Enter> para continuar:\n",
      " c\n"
     ]
    },
    {
     "name": "stdout",
     "output_type": "stream",
     "text": [
      "================================================================================\n",
      "================================================================================\n"
     ]
    },
    {
     "name": "stdin",
     "output_type": "stream",
     "text": [
      "[IRI·Prensa·13/05/21] Diálogo sincero y constructivo ante crisis nacional. https://t.co/KvAqsgwfsS #ParoNacional #Colombia @CIDH @infopresidencia @MinInterior @faiths4forests @brasiliri  @gaiaamazonas @InstitutoSINCHI @cutcolombia: https://twitter.com/twitter/status/1394752501631660036\n",
      " → f/c/n/s para 'a favor'/'en contra'/'neutro'/'spam' or <Enter> para continuar:\n",
      " \n"
     ]
    },
    {
     "name": "stdout",
     "output_type": "stream",
     "text": [
      "================================================================================\n"
     ]
    },
    {
     "name": "stdin",
     "output_type": "stream",
     "text": [
      "RT @boyacasietedias: El #Sondeo7días de hoy: Cuando ya se cumplen 21 días de #ParoNacional, a propósito de la medida anunciada por el Presi…: https://twitter.com/twitter/status/1394752478768508932\n",
      " → f/c/n/s para 'a favor'/'en contra'/'neutro'/'spam' or <Enter> para continuar:\n",
      " \n"
     ]
    },
    {
     "name": "stdout",
     "output_type": "stream",
     "text": [
      "================================================================================\n",
      "================================================================================\n",
      "================================================================================\n"
     ]
    },
    {
     "name": "stdin",
     "output_type": "stream",
     "text": [
      "RT @JorgeOvalleB: En #CALI para el año 2020 el 20% de hogares con menores ingresos registraron una reducción del 50,1% de sus ingresos real…: https://twitter.com/twitter/status/1394752447072067591\n",
      " → f/c/n/s para 'a favor'/'en contra'/'neutro'/'spam' or <Enter> para continuar:\n",
      " f\n"
     ]
    },
    {
     "name": "stdout",
     "output_type": "stream",
     "text": [
      "================================================================================\n"
     ]
    },
    {
     "name": "stdin",
     "output_type": "stream",
     "text": [
      "RT @teleSURtv: Continúa el #ParoNacional en #Colombia🇨🇴, cientos de manifestantes se han congregado en las calles de #Bogotá en rechazo de…: https://twitter.com/twitter/status/1394752443636977664\n",
      " → f/c/n/s para 'a favor'/'en contra'/'neutro'/'spam' or <Enter> para continuar:\n",
      " \n"
     ]
    },
    {
     "name": "stdout",
     "output_type": "stream",
     "text": [
      "================================================================================\n",
      "================================================================================\n",
      "================================================================================\n"
     ]
    },
    {
     "name": "stdin",
     "output_type": "stream",
     "text": [
      "RT @JorgeOvalleB: #ClasesSociales La clase pobre y vulnerable en #CALI fue del 62,5% de la población para 2020 y registró crecimiento de 10…: https://twitter.com/twitter/status/1394752392726450182\n",
      " → f/c/n/s para 'a favor'/'en contra'/'neutro'/'spam' or <Enter> para continuar:\n",
      " \n"
     ]
    },
    {
     "name": "stdout",
     "output_type": "stream",
     "text": [
      "================================================================================\n",
      "================================================================================\n",
      "================================================================================\n",
      "================================================================================\n",
      "================================================================================\n"
     ]
    },
    {
     "name": "stdin",
     "output_type": "stream",
     "text": [
      "RT @teleSURtv: El alcalde de Cali, #Colombia🇨🇴, #JorgeIvánOspina, pidió la renuncia a todos los miembros de su gabinete en medio de las pro…: https://twitter.com/twitter/status/1394752345192468484\n",
      " → f/c/n/s para 'a favor'/'en contra'/'neutro'/'spam' or <Enter> para continuar:\n",
      " n\n"
     ]
    },
    {
     "name": "stdout",
     "output_type": "stream",
     "text": [
      "================================================================================\n",
      "================================================================================\n",
      "================================================================================\n",
      "================================================================================\n",
      "================================================================================\n"
     ]
    },
    {
     "name": "stdin",
     "output_type": "stream",
     "text": [
      "RT @anabanana0nana: La verdadera razón de la #ReformaALaSalud y de porque nos están matando.  Es que esos milloncitos de don Satanás Sarmie…: https://twitter.com/twitter/status/1394752286778400771\n",
      " → f/c/n/s para 'a favor'/'en contra'/'neutro'/'spam' or <Enter> para continuar:\n",
      " \n"
     ]
    },
    {
     "name": "stdout",
     "output_type": "stream",
     "text": [
      "================================================================================\n"
     ]
    },
    {
     "name": "stdin",
     "output_type": "stream",
     "text": [
      "RT @NotiBAdentro: #ParoNacional #18M\n",
      "\n",
      "El sector de los trabajadores de los cárnicos, se suma al gran paro nacional. https://t.co/YcHce1Oqdt: https://twitter.com/twitter/status/1394752277253083139\n",
      " → f/c/n/s para 'a favor'/'en contra'/'neutro'/'spam' or <Enter> para continuar:\n",
      " \n"
     ]
    },
    {
     "name": "stdout",
     "output_type": "stream",
     "text": [
      "================================================================================\n"
     ]
    },
    {
     "name": "stdin",
     "output_type": "stream",
     "text": [
      "RT @mariomojc: @petrogustavo “Es que Colombia ya es como Venezuela\" 😎\n",
      "\n",
      "Esa visita de ayer acá en Barranquilla estuvo buena 😁\n",
      "\n",
      "#ParoNacional…: https://twitter.com/twitter/status/1394752269959184388\n",
      " → f/c/n/s para 'a favor'/'en contra'/'neutro'/'spam' or <Enter> para continuar:\n",
      " \n"
     ]
    },
    {
     "name": "stdout",
     "output_type": "stream",
     "text": [
      "================================================================================\n",
      "================================================================================\n",
      "================================================================================\n",
      "================================================================================\n",
      "================================================================================\n"
     ]
    },
    {
     "name": "stdin",
     "output_type": "stream",
     "text": [
      "RT @Iamthespeaker_: Atención Cali ¡La convocatoria de speakers del evento TEDxCali ‘Cali: Caminos de diálogo’ 2021 ya está abierta!. Este t…: https://twitter.com/twitter/status/1394752191991255046\n",
      " → f/c/n/s para 'a favor'/'en contra'/'neutro'/'spam' or <Enter> para continuar:\n",
      " s\n"
     ]
    },
    {
     "name": "stdout",
     "output_type": "stream",
     "text": [
      "================================================================================\n",
      "================================================================================\n"
     ]
    },
    {
     "name": "stdin",
     "output_type": "stream",
     "text": [
      "@BluRadioCo Por supuesto  que sí, más cuando quienes bloquean, saquean y violan derechos de las grandes mayorías de Colombia #NoMasParo #NoMasBloqueos #ElParoNoMeRepresenta #AtrabajarMamertos: https://twitter.com/twitter/status/1394752145082159112\n",
      " → f/c/n/s para 'a favor'/'en contra'/'neutro'/'spam' or <Enter> para continuar:\n",
      " c\n"
     ]
    },
    {
     "name": "stdout",
     "output_type": "stream",
     "text": [
      "================================================================================\n"
     ]
    },
    {
     "name": "stdin",
     "output_type": "stream",
     "text": [
      "RT @teleSURtv: Los primeros grupos de la #MingaIndígena llegaron este martes a la ciudad de #Medellín, #Colombia🇨🇴, para apoyar el #ParoNac…: https://twitter.com/twitter/status/1394752112328941571\n",
      " → f/c/n/s para 'a favor'/'en contra'/'neutro'/'spam' or <Enter> para continuar:\n",
      " f\n"
     ]
    },
    {
     "name": "stdout",
     "output_type": "stream",
     "text": [
      "================================================================================\n",
      "================================================================================\n"
     ]
    },
    {
     "name": "stdin",
     "output_type": "stream",
     "text": [
      "La élite que ha gobernado durante décadas jamás se ocupó de manera decisiva por la Seguridad Alimentaria. Pero tras 20 días de #ParoNacional ahí se les volvió (en apariencia) su mayor prioridad ¿No será que su preocupación es por los negocios de distribución de alimentos?: https://twitter.com/twitter/status/1394752010197536768\n",
      " → f/c/n/s para 'a favor'/'en contra'/'neutro'/'spam' or <Enter> para continuar:\n",
      " \n"
     ]
    },
    {
     "name": "stdout",
     "output_type": "stream",
     "text": [
      "================================================================================\n",
      "================================================================================\n"
     ]
    },
    {
     "name": "stdin",
     "output_type": "stream",
     "text": [
      "RT @viktorclop: @ClaudiaLopez La que parece haciendo campaña es ud Claudia, si hablamos de oportunismo porque no menciona a su partido que…: https://twitter.com/twitter/status/1394751963674419204\n",
      " → f/c/n/s para 'a favor'/'en contra'/'neutro'/'spam' or <Enter> para continuar:\n",
      " \n"
     ]
    },
    {
     "name": "stdout",
     "output_type": "stream",
     "text": [
      "================================================================================\n"
     ]
    },
    {
     "name": "stdin",
     "output_type": "stream",
     "text": [
      "Mañana 19 de mayo #ParoNacional #Valledupar #Colombia https://t.co/OaB4pD52am: https://twitter.com/twitter/status/1394751959656280064\n",
      " → f/c/n/s para 'a favor'/'en contra'/'neutro'/'spam' or <Enter> para continuar:\n",
      " \n"
     ]
    },
    {
     "name": "stdout",
     "output_type": "stream",
     "text": [
      "================================================================================\n",
      "================================================================================\n",
      "================================================================================\n",
      "================================================================================\n",
      "================================================================================\n"
     ]
    },
    {
     "name": "stdin",
     "output_type": "stream",
     "text": [
      "@IvanDuque Deberia estar regulando a los influences del pais que ganan bastante platica en un mes de 80 a 200 millones ..y no estar detras de la gente que exige mejoras economicas. Busque la plata donde es, no en gente del comun. #ParoNacional17M #ParoNacional: https://twitter.com/twitter/status/1394751913112084485\n",
      " → f/c/n/s para 'a favor'/'en contra'/'neutro'/'spam' or <Enter> para continuar:\n",
      " \n"
     ]
    },
    {
     "name": "stdout",
     "output_type": "stream",
     "text": [
      "================================================================================\n"
     ]
    },
    {
     "name": "stdin",
     "output_type": "stream",
     "text": [
      "@ingrodolfohdez #ParoNacional #ColombiaResiste  ..el congreso de este país no va a dejar de ser la misma HORDA de BUITRES de siempre: propongo #NoEleccionesEnColombia2022..  el sistema será el mismo sin importar que presidente suba: propongo #NuevaConstitución de los Pobres y para los POBRES..: https://twitter.com/twitter/status/1394751890366377986\n",
      " → f/c/n/s para 'a favor'/'en contra'/'neutro'/'spam' or <Enter> para continuar:\n",
      " \n"
     ]
    },
    {
     "name": "stdout",
     "output_type": "stream",
     "text": [
      "================================================================================\n"
     ]
    },
    {
     "name": "stdin",
     "output_type": "stream",
     "text": [
      "RT @AisoMovimiento: Mañana 19 de mayo nos movilizamos en la GRAN MARCHA DEL MILLÓN, porque solo el pueblo salva el pueblo \n",
      "#19M #ParoNacion…: https://twitter.com/twitter/status/1394751888181108740\n",
      " → f/c/n/s para 'a favor'/'en contra'/'neutro'/'spam' or <Enter> para continuar:\n",
      " \n"
     ]
    },
    {
     "name": "stdout",
     "output_type": "stream",
     "text": [
      "================================================================================\n"
     ]
    },
    {
     "name": "stdin",
     "output_type": "stream",
     "text": [
      "RT @teleSURtv: #Colombia 🇨🇴 | Ciudadanos denunciaron este martes que el #Esmad de la Policía reprimió la noche del lunes a las personas que…: https://twitter.com/twitter/status/1394751887992307713\n",
      " → f/c/n/s para 'a favor'/'en contra'/'neutro'/'spam' or <Enter> para continuar:\n",
      " \n"
     ]
    },
    {
     "name": "stdout",
     "output_type": "stream",
     "text": [
      "================================================================================\n",
      "================================================================================\n",
      "================================================================================\n",
      "================================================================================\n"
     ]
    },
    {
     "name": "stdin",
     "output_type": "stream",
     "text": [
      "RT @JorgeOvalleB: #LuchaDeClases Durante el 2020 la clase pobre y  vulnerable en #CALI aumento con 295.540 personas, para un total de 1.6 m…: https://twitter.com/twitter/status/1394751816412405765\n",
      " → f/c/n/s para 'a favor'/'en contra'/'neutro'/'spam' or <Enter> para continuar:\n",
      " \n"
     ]
    },
    {
     "name": "stdout",
     "output_type": "stream",
     "text": [
      "================================================================================\n"
     ]
    },
    {
     "name": "stdin",
     "output_type": "stream",
     "text": [
      "RT @Caprietto: Algunos se molestan, pero hay que decirll:\n",
      "\n",
      "— El pueblo no salió a la calle\n",
      "— Bloqueas una calle, sos un delincuente\n",
      "— Los d…: https://twitter.com/twitter/status/1394751796913090561\n",
      " → f/c/n/s para 'a favor'/'en contra'/'neutro'/'spam' or <Enter> para continuar:\n",
      " c\n"
     ]
    },
    {
     "name": "stdout",
     "output_type": "stream",
     "text": [
      "================================================================================\n",
      "================================================================================\n",
      "================================================================================\n",
      "================================================================================\n",
      "================================================================================\n"
     ]
    },
    {
     "name": "stdin",
     "output_type": "stream",
     "text": [
      "RT @ElDeLosTapaboca: Buenos días! \n",
      "\n",
      "Mi admiración, mi respeto y mis oraciones para los jóvenes que siguen dejando sus ojos y sus vidas en l…: https://twitter.com/twitter/status/1394751654721904642\n",
      " → f/c/n/s para 'a favor'/'en contra'/'neutro'/'spam' or <Enter> para continuar:\n",
      " f\n"
     ]
    }
   ],
   "source": [
    "n_train=10\n",
    "n_test=5\n",
    "n_traintest=n_train+n_test\n",
    "df['label']=None\n",
    "ii=0\n",
    "similarity=[]\n",
    "for i in df.index:\n",
    "    print(\"=\"*80)\n",
    "    tweet=df.loc[i,'text']\n",
    "    if similarity:\n",
    "        if process.extractOne(tweet,similarity,scorer=fuzz.ratio)[-1]<90:\n",
    "            similarity.append(tweet)\n",
    "            posneg=input(f\"{tweet}: https://twitter.com/twitter/status/{df.loc[i,'id']}\\n → f/c/n/s para 'a favor'/'en contra'/'neutro'/'spam' or <Enter> para continuar:\\n\")\n",
    "            if posneg=='c':\n",
    "                posneg='con'\n",
    "            elif posneg=='f':\n",
    "                posneg='fav'\n",
    "            elif posneg=='n':\n",
    "                posneg='neu'\n",
    "            elif posneg=='s':\n",
    "                posneg='spa'\n",
    "            else:\n",
    "                continue\n",
    "            df.loc[i,'label']=posneg\n",
    "            ii=ii+1\n",
    "    else:\n",
    "        similarity.append(tweet)\n",
    "\n",
    "    if ii==n_traintest:\n",
    "        break"
   ]
  },
  {
   "cell_type": "markdown",
   "metadata": {},
   "source": [
    "Select the train/test filtered DataFrame"
   ]
  },
  {
   "cell_type": "code",
   "execution_count": 6,
   "metadata": {},
   "outputs": [],
   "source": [
    "tmp=df[~df['label'].isna()].reset_index(drop=True)"
   ]
  },
  {
   "cell_type": "code",
   "execution_count": 7,
   "metadata": {},
   "outputs": [
    {
     "data": {
      "text/html": [
       "<div>\n",
       "<style scoped>\n",
       "    .dataframe tbody tr th:only-of-type {\n",
       "        vertical-align: middle;\n",
       "    }\n",
       "\n",
       "    .dataframe tbody tr th {\n",
       "        vertical-align: top;\n",
       "    }\n",
       "\n",
       "    .dataframe thead th {\n",
       "        text-align: right;\n",
       "    }\n",
       "</style>\n",
       "<table border=\"1\" class=\"dataframe\">\n",
       "  <thead>\n",
       "    <tr style=\"text-align: right;\">\n",
       "      <th></th>\n",
       "      <th>user_name</th>\n",
       "      <th>user_location</th>\n",
       "      <th>user_description</th>\n",
       "      <th>user_verified</th>\n",
       "      <th>date</th>\n",
       "      <th>text</th>\n",
       "      <th>hashtags</th>\n",
       "      <th>source</th>\n",
       "      <th>id</th>\n",
       "      <th>label</th>\n",
       "    </tr>\n",
       "  </thead>\n",
       "  <tbody>\n",
       "    <tr>\n",
       "      <th>0</th>\n",
       "      <td>¡#55/86 en 2022!🦍🦍💪💎💎👏👏🚀🚀🌕</td>\n",
       "      <td></td>\n",
       "      <td>#sigamonoslosbuenos #movimientoantiuribista</td>\n",
       "      <td>False</td>\n",
       "      <td>2021-05-18 20:35:29</td>\n",
       "      <td>RT @PoloDemocratico: El #ParoNacional es la manifestación del pueblo por la inconformidad qué hay con el gobierno de @IvanDuque, queremos q…</td>\n",
       "      <td>[ParoNacional]</td>\n",
       "      <td>Twitter for iPhone</td>\n",
       "      <td>1394753529844219907</td>\n",
       "      <td>fav</td>\n",
       "    </tr>\n",
       "    <tr>\n",
       "      <th>1</th>\n",
       "      <td>kalvin dexter</td>\n",
       "      <td></td>\n",
       "      <td>vivir</td>\n",
       "      <td>False</td>\n",
       "      <td>2021-05-18 20:35:26</td>\n",
       "      <td>RT @PrensaRural: #ParoNacional, Campesinado del Catatumbo:\\n\\nEn alerta máxima ante orden de Duque de tierra arrasada\\n\\n👉https://t.co/31jO1zLD…</td>\n",
       "      <td>[ParoNacional]</td>\n",
       "      <td>Twitter for Android</td>\n",
       "      <td>1394753517546508288</td>\n",
       "      <td>fav</td>\n",
       "    </tr>\n",
       "    <tr>\n",
       "      <th>2</th>\n",
       "      <td>YASSER AMIN® (turko amin)®</td>\n",
       "      <td>por ahi</td>\n",
       "      <td>cuenta nueva #12-\\npublicista\\nfotógrafo amateur\\nsoltero</td>\n",
       "      <td>False</td>\n",
       "      <td>2021-05-18 20:34:42</td>\n",
       "      <td>@Emile1985 @elespectador No pues los \\nmuch4chosdrogos y d3lincu3nt3s es lo que hay en ese #ParoNacional</td>\n",
       "      <td>[ParoNacional]</td>\n",
       "      <td>Twitter for Android</td>\n",
       "      <td>1394753334536458242</td>\n",
       "      <td>con</td>\n",
       "    </tr>\n",
       "  </tbody>\n",
       "</table>\n",
       "</div>"
      ],
      "text/plain": [
       "                    user_name user_location  \\\n",
       "0  ¡#55/86 en 2022!🦍🦍💪💎💎👏👏🚀🚀🌕                 \n",
       "1               kalvin dexter                 \n",
       "2  YASSER AMIN® (turko amin)®      por ahi    \n",
       "\n",
       "                                            user_description  user_verified  \\\n",
       "0                #sigamonoslosbuenos #movimientoantiuribista          False   \n",
       "1                                                      vivir          False   \n",
       "2  cuenta nueva #12-\\npublicista\\nfotógrafo amateur\\nsoltero          False   \n",
       "\n",
       "                 date  \\\n",
       "0 2021-05-18 20:35:29   \n",
       "1 2021-05-18 20:35:26   \n",
       "2 2021-05-18 20:34:42   \n",
       "\n",
       "                                                                                                                                               text  \\\n",
       "0      RT @PoloDemocratico: El #ParoNacional es la manifestación del pueblo por la inconformidad qué hay con el gobierno de @IvanDuque, queremos q…   \n",
       "1  RT @PrensaRural: #ParoNacional, Campesinado del Catatumbo:\\n\\nEn alerta máxima ante orden de Duque de tierra arrasada\\n\\n👉https://t.co/31jO1zLD…   \n",
       "2                                          @Emile1985 @elespectador No pues los \\nmuch4chosdrogos y d3lincu3nt3s es lo que hay en ese #ParoNacional   \n",
       "\n",
       "         hashtags               source                   id label  \n",
       "0  [ParoNacional]   Twitter for iPhone  1394753529844219907   fav  \n",
       "1  [ParoNacional]  Twitter for Android  1394753517546508288   fav  \n",
       "2  [ParoNacional]  Twitter for Android  1394753334536458242   con  "
      ]
     },
     "execution_count": 7,
     "metadata": {},
     "output_type": "execute_result"
    }
   ],
   "source": [
    "tmp[:3]"
   ]
  },
  {
   "cell_type": "code",
   "execution_count": 8,
   "metadata": {},
   "outputs": [
    {
     "data": {
      "text/plain": [
       "(15, 10)"
      ]
     },
     "execution_count": 8,
     "metadata": {},
     "output_type": "execute_result"
    }
   ],
   "source": [
    "tmp.shape"
   ]
  },
  {
   "cell_type": "code",
   "execution_count": 9,
   "metadata": {},
   "outputs": [],
   "source": [
    "train=tmp[:n_train][['text','label']].reset_index(drop=True)"
   ]
  },
  {
   "cell_type": "code",
   "execution_count": 10,
   "metadata": {},
   "outputs": [],
   "source": [
    "from textblob.classifiers import NaiveBayesClassifier"
   ]
  },
  {
   "cell_type": "code",
   "execution_count": 11,
   "metadata": {},
   "outputs": [
    {
     "name": "stderr",
     "output_type": "stream",
     "text": [
      "[nltk_data] Downloading package punkt to /home/restrepo/nltk_data...\n",
      "[nltk_data]   Package punkt is already up-to-date!\n"
     ]
    },
    {
     "data": {
      "text/plain": [
       "True"
      ]
     },
     "execution_count": 11,
     "metadata": {},
     "output_type": "execute_result"
    }
   ],
   "source": [
    "import nltk\n",
    "nltk.download('punkt')  "
   ]
  },
  {
   "cell_type": "code",
   "execution_count": 13,
   "metadata": {},
   "outputs": [],
   "source": [
    "cl = NaiveBayesClassifier(  \n",
    "    [ (d.get('text'),d.get('label')) for d in train.to_dict(orient='records')]  )"
   ]
  },
  {
   "cell_type": "code",
   "execution_count": 14,
   "metadata": {},
   "outputs": [],
   "source": [
    "test=tmp[n_train:][['text','label']].reset_index(drop=True)"
   ]
  },
  {
   "cell_type": "code",
   "execution_count": 15,
   "metadata": {},
   "outputs": [],
   "source": [
    "fulltest=test.copy()\n",
    "fulltest['test']=fulltest['text'].apply(cl.classify)"
   ]
  },
  {
   "cell_type": "code",
   "execution_count": 16,
   "metadata": {},
   "outputs": [
    {
     "data": {
      "text/html": [
       "<div>\n",
       "<style scoped>\n",
       "    .dataframe tbody tr th:only-of-type {\n",
       "        vertical-align: middle;\n",
       "    }\n",
       "\n",
       "    .dataframe tbody tr th {\n",
       "        vertical-align: top;\n",
       "    }\n",
       "\n",
       "    .dataframe thead th {\n",
       "        text-align: right;\n",
       "    }\n",
       "</style>\n",
       "<table border=\"1\" class=\"dataframe\">\n",
       "  <thead>\n",
       "    <tr style=\"text-align: right;\">\n",
       "      <th></th>\n",
       "      <th>text</th>\n",
       "      <th>label</th>\n",
       "      <th>test</th>\n",
       "    </tr>\n",
       "  </thead>\n",
       "  <tbody>\n",
       "    <tr>\n",
       "      <th>0</th>\n",
       "      <td>RT @Iamthespeaker_: Atención Cali ¡La convocatoria de speakers del evento TEDxCali ‘Cali: Caminos de diálogo’ 2021 ya está abierta!. Este t…</td>\n",
       "      <td>spa</td>\n",
       "      <td>fav</td>\n",
       "    </tr>\n",
       "    <tr>\n",
       "      <th>1</th>\n",
       "      <td>@BluRadioCo Por supuesto  que sí, más cuando quienes bloquean, saquean y violan derechos de las grandes mayorías de Colombia #NoMasParo #NoMasBloqueos #ElParoNoMeRepresenta #AtrabajarMamertos</td>\n",
       "      <td>con</td>\n",
       "      <td>con</td>\n",
       "    </tr>\n",
       "    <tr>\n",
       "      <th>2</th>\n",
       "      <td>RT @teleSURtv: Los primeros grupos de la #MingaIndígena llegaron este martes a la ciudad de #Medellín, #Colombia🇨🇴, para apoyar el #ParoNac…</td>\n",
       "      <td>fav</td>\n",
       "      <td>fav</td>\n",
       "    </tr>\n",
       "    <tr>\n",
       "      <th>3</th>\n",
       "      <td>RT @Caprietto: Algunos se molestan, pero hay que decirll:\\n\\n— El pueblo no salió a la calle\\n— Bloqueas una calle, sos un delincuente\\n— Los d…</td>\n",
       "      <td>con</td>\n",
       "      <td>fav</td>\n",
       "    </tr>\n",
       "    <tr>\n",
       "      <th>4</th>\n",
       "      <td>RT @ElDeLosTapaboca: Buenos días! \\n\\nMi admiración, mi respeto y mis oraciones para los jóvenes que siguen dejando sus ojos y sus vidas en l…</td>\n",
       "      <td>fav</td>\n",
       "      <td>fav</td>\n",
       "    </tr>\n",
       "  </tbody>\n",
       "</table>\n",
       "</div>"
      ],
      "text/plain": [
       "                                                                                                                                                                                              text  \\\n",
       "0                                                     RT @Iamthespeaker_: Atención Cali ¡La convocatoria de speakers del evento TEDxCali ‘Cali: Caminos de diálogo’ 2021 ya está abierta!. Este t…   \n",
       "1  @BluRadioCo Por supuesto  que sí, más cuando quienes bloquean, saquean y violan derechos de las grandes mayorías de Colombia #NoMasParo #NoMasBloqueos #ElParoNoMeRepresenta #AtrabajarMamertos   \n",
       "2                                                     RT @teleSURtv: Los primeros grupos de la #MingaIndígena llegaron este martes a la ciudad de #Medellín, #Colombia🇨🇴, para apoyar el #ParoNac…   \n",
       "3                                                 RT @Caprietto: Algunos se molestan, pero hay que decirll:\\n\\n— El pueblo no salió a la calle\\n— Bloqueas una calle, sos un delincuente\\n— Los d…   \n",
       "4                                                   RT @ElDeLosTapaboca: Buenos días! \\n\\nMi admiración, mi respeto y mis oraciones para los jóvenes que siguen dejando sus ojos y sus vidas en l…   \n",
       "\n",
       "  label test  \n",
       "0   spa  fav  \n",
       "1   con  con  \n",
       "2   fav  fav  \n",
       "3   con  fav  \n",
       "4   fav  fav  "
      ]
     },
     "execution_count": 16,
     "metadata": {},
     "output_type": "execute_result"
    }
   ],
   "source": [
    "fulltest[['text','label','test']]"
   ]
  },
  {
   "cell_type": "code",
   "execution_count": 17,
   "metadata": {},
   "outputs": [
    {
     "data": {
      "text/plain": [
       "0.6"
      ]
     },
     "execution_count": 17,
     "metadata": {},
     "output_type": "execute_result"
    }
   ],
   "source": [
    "cl.accuracy( [ (d.get('text'),d.get('label')) for d in test.to_dict(orient='records')] )"
   ]
  },
  {
   "cell_type": "code",
   "execution_count": 18,
   "metadata": {},
   "outputs": [],
   "source": [
    "fulltest['prob']=fulltest['text'].apply(lambda t:   \n",
    "                                cl.prob_classify( t ).prob(   cl.classify( t  )  ) ).round(2)"
   ]
  },
  {
   "cell_type": "code",
   "execution_count": 19,
   "metadata": {},
   "outputs": [
    {
     "data": {
      "text/html": [
       "<div>\n",
       "<style scoped>\n",
       "    .dataframe tbody tr th:only-of-type {\n",
       "        vertical-align: middle;\n",
       "    }\n",
       "\n",
       "    .dataframe tbody tr th {\n",
       "        vertical-align: top;\n",
       "    }\n",
       "\n",
       "    .dataframe thead th {\n",
       "        text-align: right;\n",
       "    }\n",
       "</style>\n",
       "<table border=\"1\" class=\"dataframe\">\n",
       "  <thead>\n",
       "    <tr style=\"text-align: right;\">\n",
       "      <th></th>\n",
       "      <th>text</th>\n",
       "      <th>label</th>\n",
       "      <th>test</th>\n",
       "      <th>prob</th>\n",
       "    </tr>\n",
       "  </thead>\n",
       "  <tbody>\n",
       "    <tr>\n",
       "      <th>0</th>\n",
       "      <td>RT @Iamthespeaker_: Atención Cali ¡La convocatoria de speakers del evento TEDxCali ‘Cali: Caminos de diálogo’ 2021 ya está abierta!. Este t…</td>\n",
       "      <td>spa</td>\n",
       "      <td>fav</td>\n",
       "      <td>1.00</td>\n",
       "    </tr>\n",
       "    <tr>\n",
       "      <th>1</th>\n",
       "      <td>@BluRadioCo Por supuesto  que sí, más cuando quienes bloquean, saquean y violan derechos de las grandes mayorías de Colombia #NoMasParo #NoMasBloqueos #ElParoNoMeRepresenta #AtrabajarMamertos</td>\n",
       "      <td>con</td>\n",
       "      <td>con</td>\n",
       "      <td>0.75</td>\n",
       "    </tr>\n",
       "    <tr>\n",
       "      <th>2</th>\n",
       "      <td>RT @teleSURtv: Los primeros grupos de la #MingaIndígena llegaron este martes a la ciudad de #Medellín, #Colombia🇨🇴, para apoyar el #ParoNac…</td>\n",
       "      <td>fav</td>\n",
       "      <td>fav</td>\n",
       "      <td>0.98</td>\n",
       "    </tr>\n",
       "    <tr>\n",
       "      <th>3</th>\n",
       "      <td>RT @Caprietto: Algunos se molestan, pero hay que decirll:\\n\\n— El pueblo no salió a la calle\\n— Bloqueas una calle, sos un delincuente\\n— Los d…</td>\n",
       "      <td>con</td>\n",
       "      <td>fav</td>\n",
       "      <td>1.00</td>\n",
       "    </tr>\n",
       "    <tr>\n",
       "      <th>4</th>\n",
       "      <td>RT @ElDeLosTapaboca: Buenos días! \\n\\nMi admiración, mi respeto y mis oraciones para los jóvenes que siguen dejando sus ojos y sus vidas en l…</td>\n",
       "      <td>fav</td>\n",
       "      <td>fav</td>\n",
       "      <td>0.76</td>\n",
       "    </tr>\n",
       "  </tbody>\n",
       "</table>\n",
       "</div>"
      ],
      "text/plain": [
       "                                                                                                                                                                                              text  \\\n",
       "0                                                     RT @Iamthespeaker_: Atención Cali ¡La convocatoria de speakers del evento TEDxCali ‘Cali: Caminos de diálogo’ 2021 ya está abierta!. Este t…   \n",
       "1  @BluRadioCo Por supuesto  que sí, más cuando quienes bloquean, saquean y violan derechos de las grandes mayorías de Colombia #NoMasParo #NoMasBloqueos #ElParoNoMeRepresenta #AtrabajarMamertos   \n",
       "2                                                     RT @teleSURtv: Los primeros grupos de la #MingaIndígena llegaron este martes a la ciudad de #Medellín, #Colombia🇨🇴, para apoyar el #ParoNac…   \n",
       "3                                                 RT @Caprietto: Algunos se molestan, pero hay que decirll:\\n\\n— El pueblo no salió a la calle\\n— Bloqueas una calle, sos un delincuente\\n— Los d…   \n",
       "4                                                   RT @ElDeLosTapaboca: Buenos días! \\n\\nMi admiración, mi respeto y mis oraciones para los jóvenes que siguen dejando sus ojos y sus vidas en l…   \n",
       "\n",
       "  label test  prob  \n",
       "0   spa  fav  1.00  \n",
       "1   con  con  0.75  \n",
       "2   fav  fav  0.98  \n",
       "3   con  fav  1.00  \n",
       "4   fav  fav  0.76  "
      ]
     },
     "execution_count": 19,
     "metadata": {},
     "output_type": "execute_result"
    }
   ],
   "source": [
    "fulltest"
   ]
  },
  {
   "cell_type": "markdown",
   "metadata": {},
   "source": [
    "Aplicar al DataFrame Completo"
   ]
  },
  {
   "cell_type": "code",
   "execution_count": 20,
   "metadata": {},
   "outputs": [],
   "source": [
    "df['test']=df['text'].apply(cl.classify)\n",
    "df['prob']=df['text'].apply(lambda t:   \n",
    "                                cl.prob_classify( t ).prob(   cl.classify( t  )  ) ).round(2)"
   ]
  },
  {
   "cell_type": "code",
   "execution_count": 21,
   "metadata": {},
   "outputs": [],
   "source": [
    "dfp=df.drop_duplicates('text').reset_index(drop=True)"
   ]
  },
  {
   "cell_type": "code",
   "execution_count": 22,
   "metadata": {},
   "outputs": [
    {
     "data": {
      "text/html": [
       "<div>\n",
       "<style scoped>\n",
       "    .dataframe tbody tr th:only-of-type {\n",
       "        vertical-align: middle;\n",
       "    }\n",
       "\n",
       "    .dataframe tbody tr th {\n",
       "        vertical-align: top;\n",
       "    }\n",
       "\n",
       "    .dataframe thead th {\n",
       "        text-align: right;\n",
       "    }\n",
       "</style>\n",
       "<table border=\"1\" class=\"dataframe\">\n",
       "  <thead>\n",
       "    <tr style=\"text-align: right;\">\n",
       "      <th></th>\n",
       "      <th>text</th>\n",
       "      <th>test</th>\n",
       "      <th>prob</th>\n",
       "    </tr>\n",
       "  </thead>\n",
       "  <tbody>\n",
       "    <tr>\n",
       "      <th>1577</th>\n",
       "      <td>RT @Sjukbor: Montería, 17 de mayo de 2021\\n🔥Velatón: sector social LGBTIQ+🔥\\n*\\nSemana de movilización.\\n#monteria #SOScolombia #lgbtq🌈 #lgbt…</td>\n",
       "      <td>fav</td>\n",
       "      <td>1.00</td>\n",
       "    </tr>\n",
       "    <tr>\n",
       "      <th>801</th>\n",
       "      <td>RT @Catalizate: Hoy por hoy todas las manifestaciones son de carácter cultural, por eso es tan importante incluir al sector de la cultura e…</td>\n",
       "      <td>fav</td>\n",
       "      <td>1.00</td>\n",
       "    </tr>\n",
       "    <tr>\n",
       "      <th>424</th>\n",
       "      <td>RT @vanguardiacom: La alcaldesa de Bogotá, Claudia López, criticó fuertemente a Gustavo Petro y a Álvaro Uribe Vélez quienes, a su juicio,…</td>\n",
       "      <td>fav</td>\n",
       "      <td>1.00</td>\n",
       "    </tr>\n",
       "    <tr>\n",
       "      <th>962</th>\n",
       "      <td>@tamayoricardo @CrisCisnerosH @JuanGZuluaga @harmanfelipe Es el colmo que debamos perdón permiso para transitar por las vías acaso es q estamos siendo secuestrados por los giros les señores del paro #NoMasParo #NoMasBloqueos</td>\n",
       "      <td>fav</td>\n",
       "      <td>0.60</td>\n",
       "    </tr>\n",
       "    <tr>\n",
       "      <th>1726</th>\n",
       "      <td>@WRadioColombia Que asii debe ser, no puede ser que nos sigan jodiendo el paso #NoMasBloqueos #NoMasParo</td>\n",
       "      <td>fav</td>\n",
       "      <td>0.64</td>\n",
       "    </tr>\n",
       "    <tr>\n",
       "      <th>538</th>\n",
       "      <td>(7/N) La muestra, que representa a 4,4 millones de personas –de las cuales 48% trabaja y 22% estudia–, reveló, por ejemplo, que el 84% de los jóvenes se sienten representados por el #ParoNacional.</td>\n",
       "      <td>fav</td>\n",
       "      <td>0.98</td>\n",
       "    </tr>\n",
       "    <tr>\n",
       "      <th>1405</th>\n",
       "      <td>#ParoNacional #18M\\n\\nEl sector de los trabajadores de los cárnicos, se suma al gran paro nacional. https://t.co/YcHce1Oqdt</td>\n",
       "      <td>fav</td>\n",
       "      <td>1.00</td>\n",
       "    </tr>\n",
       "    <tr>\n",
       "      <th>793</th>\n",
       "      <td>#ParoNacional pura delincuencia https://t.co/pX5170JN2g</td>\n",
       "      <td>fav</td>\n",
       "      <td>0.96</td>\n",
       "    </tr>\n",
       "    <tr>\n",
       "      <th>536</th>\n",
       "      <td>Informe especial de @bbcmundo @bbcmundo_ultimo sobre #PuertoResistencia #Cali https://t.co/prj7zSIIHV</td>\n",
       "      <td>fav</td>\n",
       "      <td>0.99</td>\n",
       "    </tr>\n",
       "    <tr>\n",
       "      <th>326</th>\n",
       "      <td>RT @UTCarlo: #URGENTE 🚨\\n📍#Yumbo Valle del Cauca\\nA esta hora se registra fuerte explosión. \\n#ParoNacional\\n#ParoNacionalColombia #ParoNaciona…</td>\n",
       "      <td>fav</td>\n",
       "      <td>1.00</td>\n",
       "    </tr>\n",
       "  </tbody>\n",
       "</table>\n",
       "</div>"
      ],
      "text/plain": [
       "                                                                                                                                                                                                                                  text  \\\n",
       "1577                                                                                    RT @Sjukbor: Montería, 17 de mayo de 2021\\n🔥Velatón: sector social LGBTIQ+🔥\\n*\\nSemana de movilización.\\n#monteria #SOScolombia #lgbtq🌈 #lgbt…   \n",
       "801                                                                                       RT @Catalizate: Hoy por hoy todas las manifestaciones son de carácter cultural, por eso es tan importante incluir al sector de la cultura e…   \n",
       "424                                                                                        RT @vanguardiacom: La alcaldesa de Bogotá, Claudia López, criticó fuertemente a Gustavo Petro y a Álvaro Uribe Vélez quienes, a su juicio,…   \n",
       "962   @tamayoricardo @CrisCisnerosH @JuanGZuluaga @harmanfelipe Es el colmo que debamos perdón permiso para transitar por las vías acaso es q estamos siendo secuestrados por los giros les señores del paro #NoMasParo #NoMasBloqueos   \n",
       "1726                                                                                                                          @WRadioColombia Que asii debe ser, no puede ser que nos sigan jodiendo el paso #NoMasBloqueos #NoMasParo   \n",
       "538                               (7/N) La muestra, que representa a 4,4 millones de personas –de las cuales 48% trabaja y 22% estudia–, reveló, por ejemplo, que el 84% de los jóvenes se sienten representados por el #ParoNacional.   \n",
       "1405                                                                                                       #ParoNacional #18M\\n\\nEl sector de los trabajadores de los cárnicos, se suma al gran paro nacional. https://t.co/YcHce1Oqdt   \n",
       "793                                                                                                                                                                            #ParoNacional pura delincuencia https://t.co/pX5170JN2g   \n",
       "536                                                                                                                              Informe especial de @bbcmundo @bbcmundo_ultimo sobre #PuertoResistencia #Cali https://t.co/prj7zSIIHV   \n",
       "326                                                                                   RT @UTCarlo: #URGENTE 🚨\\n📍#Yumbo Valle del Cauca\\nA esta hora se registra fuerte explosión. \\n#ParoNacional\\n#ParoNacionalColombia #ParoNaciona…   \n",
       "\n",
       "     test  prob  \n",
       "1577  fav  1.00  \n",
       "801   fav  1.00  \n",
       "424   fav  1.00  \n",
       "962   fav  0.60  \n",
       "1726  fav  0.64  \n",
       "538   fav  0.98  \n",
       "1405  fav  1.00  \n",
       "793   fav  0.96  \n",
       "536   fav  0.99  \n",
       "326   fav  1.00  "
      ]
     },
     "execution_count": 22,
     "metadata": {},
     "output_type": "execute_result"
    }
   ],
   "source": [
    "dfp[['text','test','prob']].sample(10)"
   ]
  },
  {
   "cell_type": "code",
   "execution_count": 23,
   "metadata": {},
   "outputs": [
    {
     "data": {
      "text/plain": [
       "test\n",
       "con      85\n",
       "fav    1636\n",
       "neu      32\n",
       "Name: test, dtype: int64"
      ]
     },
     "execution_count": 23,
     "metadata": {},
     "output_type": "execute_result"
    }
   ],
   "source": [
    "dfp.groupby('test')['test'].count()"
   ]
  },
  {
   "cell_type": "markdown",
   "metadata": {},
   "source": [
    "Sin quitar RT"
   ]
  },
  {
   "cell_type": "code",
   "execution_count": 24,
   "metadata": {},
   "outputs": [
    {
     "data": {
      "text/plain": [
       "test\n",
       "con      87\n",
       "fav    4803\n",
       "neu     110\n",
       "Name: test, dtype: int64"
      ]
     },
     "execution_count": 24,
     "metadata": {},
     "output_type": "execute_result"
    }
   ],
   "source": [
    "df.groupby('test')['test'].count()"
   ]
  },
  {
   "cell_type": "code",
   "execution_count": null,
   "metadata": {},
   "outputs": [],
   "source": []
  }
 ],
 "metadata": {
  "kernelspec": {
   "display_name": "Python 3 (ipykernel)",
   "language": "python",
   "name": "python3"
  },
  "language_info": {
   "codemirror_mode": {
    "name": "ipython",
    "version": 3
   },
   "file_extension": ".py",
   "mimetype": "text/x-python",
   "name": "python",
   "nbconvert_exporter": "python",
   "pygments_lexer": "ipython3",
   "version": "3.7.3"
  }
 },
 "nbformat": 4,
 "nbformat_minor": 4
}
