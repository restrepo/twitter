{
 "cells": [
  {
   "cell_type": "markdown",
   "metadata": {},
   "source": [
    "## Análisis de sentimientos de Twitter con Python\n",
    "* https://platzi.com/tutoriales/1874-python-lenguaje-natural/5654-realiza-un-analisis-de-sentimiento-en-3-pasos-con-python/\n",
    "    * Ejemplo https://twitter.com/whaleandjaguar_?lang=en\n",
    "* https://towardsdatascience.com/my-absolute-go-to-for-sentiment-analysis-textblob-3ac3a11d524\n",
    "* https://www.justintodata.com/twitter-sentiment-analysis-python/\n",
    "* https://www.pluralsight.com/guides/building-a-twitter-sentiment-analysis-in-python"
   ]
  },
  {
   "cell_type": "markdown",
   "metadata": {},
   "source": [
    "### 1) Descargar tweets"
   ]
  },
  {
   "cell_type": "code",
   "execution_count": 1,
   "metadata": {},
   "outputs": [
    {
     "name": "stdout",
     "output_type": "stream",
     "text": [
      "Populating the interactive namespace from numpy and matplotlib\n"
     ]
    }
   ],
   "source": [
    "%pylab inline"
   ]
  },
  {
   "cell_type": "code",
   "execution_count": 2,
   "metadata": {},
   "outputs": [],
   "source": [
    "import pandas as pd\n",
    "pd.set_option('display.max_colwidth',500)"
   ]
  },
  {
   "cell_type": "code",
   "execution_count": 3,
   "metadata": {},
   "outputs": [],
   "source": [
    "df=pd.read_json('https://raw.githubusercontent.com/restrepo/twitter/main/tweets_df.json')"
   ]
  },
  {
   "cell_type": "markdown",
   "metadata": {},
   "source": [
    "### Cree un nuevo clasificador\n",
    "Vamos \n",
    "https://textblob.readthedocs.io/en/dev/classifiers.html#classifiers"
   ]
  },
  {
   "cell_type": "markdown",
   "metadata": {},
   "source": [
    "* A favor del Paro → `'fav'`\n",
    "* En contra del Paro→ `'con'`\n",
    "* Informativo → `'new'`"
   ]
  },
  {
   "cell_type": "markdown",
   "metadata": {},
   "source": [
    "Para crear los conjutos de datos para training y para test debemos clasisificar un conjunto suficientemente grande de textos de tweets en las dos categorias en números similares para cada una de las dos categorias\n",
    "\n",
    "Crearemos un algoritmo que nos permite clasificar algunos tweets del DataFrame en una nueva columna `'label'`, la cual tendrá un valor nulo cuando el tweet no este clasificado. Una vez un tweet sea clasificado, se añadirá a una lista de similaridad y sólo se clasificarán nuevos tweets que no sean similares a los previamente clasificados.  Para ello se usará el método `extractOne` del módulo `process` de `fuzzywuzzy` con scorer `fuzz.ratio` basado en la distancia Levenshtein entre dos textos."
   ]
  },
  {
   "cell_type": "code",
   "execution_count": 5,
   "metadata": {},
   "outputs": [],
   "source": [
    "from fuzzywuzzy import process\n",
    "from fuzzywuzzy import  fuzz"
   ]
  },
  {
   "cell_type": "code",
   "execution_count": 38,
   "metadata": {},
   "outputs": [
    {
     "name": "stdout",
     "output_type": "stream",
     "text": [
      "================================================================================\n",
      "================================================================================\n"
     ]
    },
    {
     "name": "stdin",
     "output_type": "stream",
     "text": [
      "RT @PoloDemocratico: El #ParoNacional es la manifestación del pueblo por la inconformidad qué hay con el gobierno de @IvanDuque, queremos q…: https://twitter.com/twitter/status/1394753529844219907\n",
      " → f/c/n/s para 'a favor'/'en contra'/'neutro'/'spam' or <Enter> para continuar:\n",
      " f\n"
     ]
    },
    {
     "name": "stdout",
     "output_type": "stream",
     "text": [
      "================================================================================\n"
     ]
    },
    {
     "name": "stdin",
     "output_type": "stream",
     "text": [
      "RT @PrensaRural: #ParoNacional, Campesinado del Catatumbo:\n",
      "\n",
      "En alerta máxima ante orden de Duque de tierra arrasada\n",
      "\n",
      "👉https://t.co/31jO1zLD…: https://twitter.com/twitter/status/1394753517546508288\n",
      " → f/c/n/s para 'a favor'/'en contra'/'neutro'/'spam' or <Enter> para continuar:\n",
      " \n"
     ]
    },
    {
     "name": "stdout",
     "output_type": "stream",
     "text": [
      "================================================================================\n"
     ]
    },
    {
     "name": "stdin",
     "output_type": "stream",
     "text": [
      "RT @Tiradorsilencio: Como Ciudadano Colombiano me solidarizo y Apoyo d manera Absoluta y Total; la Carta d Ciudadanos d #Cali pidiendo d fo…: https://twitter.com/twitter/status/1394753499943079939\n",
      " → f/c/n/s para 'a favor'/'en contra'/'neutro'/'spam' or <Enter> para continuar:\n",
      " \n"
     ]
    },
    {
     "name": "stdout",
     "output_type": "stream",
     "text": [
      "================================================================================\n"
     ]
    },
    {
     "name": "stdin",
     "output_type": "stream",
     "text": [
      "RT @alertaroja234: @BluRadioCo Para aquellos que llaman a la guerra y al uso desproporcionado de la fuerza. Aquellos que bloquean son en la…: https://twitter.com/twitter/status/1394753497912942594\n",
      " → f/c/n/s para 'a favor'/'en contra'/'neutro'/'spam' or <Enter> para continuar:\n",
      " \n"
     ]
    },
    {
     "name": "stdout",
     "output_type": "stream",
     "text": [
      "================================================================================\n",
      "================================================================================\n"
     ]
    },
    {
     "name": "stdin",
     "output_type": "stream",
     "text": [
      "RT @madeleintlSUR: Un día de #ParoNacional #Medellin #Colombia de lee desde el aire anti #uribista https://t.co/cmX982EmFR: https://twitter.com/twitter/status/1394753451314253828\n",
      " → f/c/n/s para 'a favor'/'en contra'/'neutro'/'spam' or <Enter> para continuar:\n",
      " \n"
     ]
    },
    {
     "name": "stdout",
     "output_type": "stream",
     "text": [
      "================================================================================\n",
      "================================================================================\n",
      "================================================================================\n"
     ]
    },
    {
     "name": "stdin",
     "output_type": "stream",
     "text": [
      "Miércoles 19 de mayo Te esperamos \n",
      "A PARAR PARA AVANZAR \n",
      "#ParoNacional #Buga 🇱🇹 https://t.co/1twBnGpA0P: https://twitter.com/twitter/status/1394753400051490816\n",
      " → f/c/n/s para 'a favor'/'en contra'/'neutro'/'spam' or <Enter> para continuar:\n",
      " \n"
     ]
    },
    {
     "name": "stdout",
     "output_type": "stream",
     "text": [
      "================================================================================\n"
     ]
    },
    {
     "name": "stdin",
     "output_type": "stream",
     "text": [
      "RT @ClaraLopezObre: Presidente @IvanDuque se equivoca. @petrogustavo no es solo uno de 108 senadores. Representa 8 millones ciudadanos y es…: https://twitter.com/twitter/status/1394753376714362883\n",
      " → f/c/n/s para 'a favor'/'en contra'/'neutro'/'spam' or <Enter> para continuar:\n",
      " \n"
     ]
    },
    {
     "name": "stdout",
     "output_type": "stream",
     "text": [
      "================================================================================\n"
     ]
    },
    {
     "name": "stdin",
     "output_type": "stream",
     "text": [
      "RT @Nessnio: Me ausento un poco guerreros, pero les pido el favor de no olvidar, que mañana debemos marchar como un ejército multitudinario…: https://twitter.com/twitter/status/1394753338244091904\n",
      " → f/c/n/s para 'a favor'/'en contra'/'neutro'/'spam' or <Enter> para continuar:\n",
      " \n"
     ]
    },
    {
     "name": "stdout",
     "output_type": "stream",
     "text": [
      "================================================================================\n"
     ]
    },
    {
     "name": "stdin",
     "output_type": "stream",
     "text": [
      "@Emile1985 @elespectador No pues los \n",
      "much4chosdrogos y d3lincu3nt3s es lo que hay en ese #ParoNacional: https://twitter.com/twitter/status/1394753334536458242\n",
      " → f/c/n/s para 'a favor'/'en contra'/'neutro'/'spam' or <Enter> para continuar:\n",
      " c\n"
     ]
    },
    {
     "name": "stdout",
     "output_type": "stream",
     "text": [
      "================================================================================\n",
      "================================================================================\n"
     ]
    },
    {
     "name": "stdin",
     "output_type": "stream",
     "text": [
      "RT @aciprensa: El delegado especial del @episcopadocol, Mons. Héctor Henao, pidió que se excluya todo gesto de violencia en Colombia, de ta…: https://twitter.com/twitter/status/1394753319281778688\n",
      " → f/c/n/s para 'a favor'/'en contra'/'neutro'/'spam' or <Enter> para continuar:\n",
      " n\n"
     ]
    },
    {
     "name": "stdout",
     "output_type": "stream",
     "text": [
      "================================================================================\n"
     ]
    },
    {
     "name": "stdin",
     "output_type": "stream",
     "text": [
      "RT @PoloDemocratico: El Senador y presidente del @PoloDemocratico @AlexLopezMaya denuncia la infiltración de la fuerza pública entre los ma…: https://twitter.com/twitter/status/1394753316693946371\n",
      " → f/c/n/s para 'a favor'/'en contra'/'neutro'/'spam' or <Enter> para continuar:\n",
      " f\n"
     ]
    },
    {
     "name": "stdout",
     "output_type": "stream",
     "text": [
      "================================================================================\n"
     ]
    },
    {
     "name": "stdin",
     "output_type": "stream",
     "text": [
      "RT @RedactoresNewsw: #redactoresinforma Por la Impunidad y la Injusticia, las Madres Colombianas 💞 siguen uniendo su voz de lucha en el #Pa…: https://twitter.com/twitter/status/1394753259156475904\n",
      " → f/c/n/s para 'a favor'/'en contra'/'neutro'/'spam' or <Enter> para continuar:\n",
      " \n"
     ]
    },
    {
     "name": "stdout",
     "output_type": "stream",
     "text": [
      "================================================================================\n"
     ]
    },
    {
     "name": "stdin",
     "output_type": "stream",
     "text": [
      "@RevistaSemana @VickyDavilaH Ni el asesinato de #JesusSantrich pudo ser tan fuerte, para opacar el #ParoNacional .\n",
      "\n",
      "En este Gobierno ya no sirven ni los agendamientos mediáticos, ni los espirales de silencio.\n",
      "\n",
      "#ColombiaSOS: https://twitter.com/twitter/status/1394753204328583171\n",
      " → f/c/n/s para 'a favor'/'en contra'/'neutro'/'spam' or <Enter> para continuar:\n",
      " \n"
     ]
    },
    {
     "name": "stdout",
     "output_type": "stream",
     "text": [
      "================================================================================\n",
      "================================================================================\n",
      "================================================================================\n"
     ]
    },
    {
     "name": "stdin",
     "output_type": "stream",
     "text": [
      "RT @WilsonP725: Pasando el tema de Petro y Nany Pardo, les recuerdo que estamos en Paro y que mañana las movilizaciones deben ser masivas.…: https://twitter.com/twitter/status/1394753123147816960\n",
      " → f/c/n/s para 'a favor'/'en contra'/'neutro'/'spam' or <Enter> para continuar:\n",
      " \n"
     ]
    },
    {
     "name": "stdout",
     "output_type": "stream",
     "text": [
      "================================================================================\n"
     ]
    },
    {
     "name": "stdin",
     "output_type": "stream",
     "text": [
      "Despilfarro, contratitis que en algún momento @Revista2caras denunció de la concejal. Recuerda que por eso apoyaba la alcaldía de @MauriceArmitage ? Es claro que @JorgeIvanOspina no le ha ayudado en nada y por eso insiste en atacar justo en esta coyuntura #Cali https://t.co/FJRwJcQa35: https://twitter.com/twitter/status/1394753104021577733\n",
      " → f/c/n/s para 'a favor'/'en contra'/'neutro'/'spam' or <Enter> para continuar:\n",
      " \n"
     ]
    },
    {
     "name": "stdout",
     "output_type": "stream",
     "text": [
      "================================================================================\n",
      "================================================================================\n",
      "================================================================================\n",
      "================================================================================\n"
     ]
    },
    {
     "name": "stdin",
     "output_type": "stream",
     "text": [
      "RT @cutcolombia: 🚶‍♂️🚶🚶‍♀️#ParoNacional \n",
      "\n",
      "El gobierno de Duque no quiere negociar, se niega a brindar garantías. Le responderemos masivamen…: https://twitter.com/twitter/status/1394753011281506309\n",
      " → f/c/n/s para 'a favor'/'en contra'/'neutro'/'spam' or <Enter> para continuar:\n",
      " \n"
     ]
    },
    {
     "name": "stdout",
     "output_type": "stream",
     "text": [
      "================================================================================\n"
     ]
    },
    {
     "name": "stdin",
     "output_type": "stream",
     "text": [
      "RT @JorgeOvalleB: ¿Porque el estallido social en #CALI? lejos de la idea miope de la infiltración insurgente del #ParoNacional que plantea…: https://twitter.com/twitter/status/1394753003903651841\n",
      " → f/c/n/s para 'a favor'/'en contra'/'neutro'/'spam' or <Enter> para continuar:\n",
      " \n"
     ]
    },
    {
     "name": "stdout",
     "output_type": "stream",
     "text": [
      "================================================================================\n"
     ]
    },
    {
     "name": "stdin",
     "output_type": "stream",
     "text": [
      "RT @NadieNa71747061: Así se resiste en Cali!!! \n",
      "Miren ese vandalismo!!!\n",
      "\n",
      "#ParoNacional #Cali #CaliResiste #MissUniverse2021 #ElParoSigue #S…: https://twitter.com/twitter/status/1394752977970376713\n",
      " → f/c/n/s para 'a favor'/'en contra'/'neutro'/'spam' or <Enter> para continuar:\n",
      " \n"
     ]
    },
    {
     "name": "stdout",
     "output_type": "stream",
     "text": [
      "================================================================================\n"
     ]
    },
    {
     "name": "stdin",
     "output_type": "stream",
     "text": [
      "RT @MiluBites: Acabo de leer que @MayaAlcaldePei llegó tarde ayer a la Comisión de Paz del Senado porque su perrito estaba cumpliendo años…: https://twitter.com/twitter/status/1394752972199022596\n",
      " → f/c/n/s para 'a favor'/'en contra'/'neutro'/'spam' or <Enter> para continuar:\n",
      " \n"
     ]
    },
    {
     "name": "stdout",
     "output_type": "stream",
     "text": [
      "================================================================================\n"
     ]
    },
    {
     "name": "stdin",
     "output_type": "stream",
     "text": [
      "El #ParoNacional me ha servido para ver la calidad de seres humanos que me rodean y para sacar del llavero a unos cuantos “ciudadanos de bien”: https://twitter.com/twitter/status/1394752957602844673\n",
      " → f/c/n/s para 'a favor'/'en contra'/'neutro'/'spam' or <Enter> para continuar:\n",
      " \n"
     ]
    },
    {
     "name": "stdout",
     "output_type": "stream",
     "text": [
      "================================================================================\n"
     ]
    },
    {
     "name": "stdin",
     "output_type": "stream",
     "text": [
      "VIDEO COMPLETO CAPTURA EN FLAGRANCIA POLICIA JUDICIAL 🇨🇴\n",
      "\n",
      "#Cali\n",
      "#Colombia\n",
      "#DelincuenciaCali\n",
      "#ladronescali\n",
      "#gaminescali\n",
      "#ParoNacional\n",
      "#ONUHumanRights\n",
      "@amnistiaespana\n",
      "@hrw_espanol\n",
      "@amnistia\n",
      "@ONUHumanRights\n",
      "@elmundoes\n",
      "@nbc https://t.co/J1SJUrO5N9: https://twitter.com/twitter/status/1394752956944326659\n",
      " → f/c/n/s para 'a favor'/'en contra'/'neutro'/'spam' or <Enter> para continuar:\n",
      " \n"
     ]
    },
    {
     "name": "stdout",
     "output_type": "stream",
     "text": [
      "================================================================================\n",
      "================================================================================\n",
      "================================================================================\n"
     ]
    },
    {
     "name": "stdin",
     "output_type": "stream",
     "text": [
      "RT @WRadioColombia: #Cali Renunció el comandante de la Policía de Cali → https://t.co/XrVUmSTVj8 https://t.co/o7hzhfTYKm: https://twitter.com/twitter/status/1394752894893690881\n",
      " → f/c/n/s para 'a favor'/'en contra'/'neutro'/'spam' or <Enter> para continuar:\n",
      " n\n"
     ]
    },
    {
     "name": "stdout",
     "output_type": "stream",
     "text": [
      "================================================================================\n"
     ]
    },
    {
     "name": "stdin",
     "output_type": "stream",
     "text": [
      "RT @JorgeOvalleB: El índice GINI que mide la distribución de ingresos, muestra que en #CALI la desigualdad creció a nivel de 2012 al ubicar…: https://twitter.com/twitter/status/1394752892716859392\n",
      " → f/c/n/s para 'a favor'/'en contra'/'neutro'/'spam' or <Enter> para continuar:\n",
      " f\n"
     ]
    },
    {
     "name": "stdout",
     "output_type": "stream",
     "text": [
      "================================================================================\n",
      "================================================================================\n"
     ]
    },
    {
     "name": "stdin",
     "output_type": "stream",
     "text": [
      "RT @NoticiasCartag: #Cartago La situación es crítica en un sector de la comuna uno a esta hora, decenas de personas afectadas por los gases…: https://twitter.com/twitter/status/1394752854791970825\n",
      " → f/c/n/s para 'a favor'/'en contra'/'neutro'/'spam' or <Enter> para continuar:\n",
      " \n"
     ]
    },
    {
     "name": "stdout",
     "output_type": "stream",
     "text": [
      "================================================================================\n",
      "================================================================================\n"
     ]
    },
    {
     "name": "stdin",
     "output_type": "stream",
     "text": [
      "RT @JorgeOvalleB: La ñapa, en Colombia estamos en una dictadura y las dictaduras se derrotan con la democracia directa, con el derecho cons…: https://twitter.com/twitter/status/1394752765025558536\n",
      " → f/c/n/s para 'a favor'/'en contra'/'neutro'/'spam' or <Enter> para continuar:\n",
      " \n"
     ]
    },
    {
     "name": "stdout",
     "output_type": "stream",
     "text": [
      "================================================================================\n",
      "================================================================================\n"
     ]
    },
    {
     "name": "stdin",
     "output_type": "stream",
     "text": [
      "RT @Cambiamoscol: Nuestras únicas armas son la educación y las ganas de cambiar este país. 🔥✊🏽\n",
      "#ParoNacional #ParoNacional18M #SOSColombiaD…: https://twitter.com/twitter/status/1394752757710659585\n",
      " → f/c/n/s para 'a favor'/'en contra'/'neutro'/'spam' or <Enter> para continuar:\n",
      " \n"
     ]
    },
    {
     "name": "stdout",
     "output_type": "stream",
     "text": [
      "================================================================================\n",
      "================================================================================\n"
     ]
    },
    {
     "name": "stdin",
     "output_type": "stream",
     "text": [
      "RT @cutcolombia: 🚶‍♂️🚶🚶‍♀️#ParoNacional \n",
      "\n",
      "El Paro continúa. Por la Vida y la Paz. Ante un gobierno que no quiere negociar y se niega a brin…: https://twitter.com/twitter/status/1394752746801278976\n",
      " → f/c/n/s para 'a favor'/'en contra'/'neutro'/'spam' or <Enter> para continuar:\n",
      " \n"
     ]
    },
    {
     "name": "stdout",
     "output_type": "stream",
     "text": [
      "================================================================================\n",
      "================================================================================\n"
     ]
    },
    {
     "name": "stdin",
     "output_type": "stream",
     "text": [
      "RT @JorgeOvalleB: Resultado: la más grande movilización ciudadana en #CALI contra el uribismo e @IvanDuque, según el CNC en total 1.983.053…: https://twitter.com/twitter/status/1394752735946448896\n",
      " → f/c/n/s para 'a favor'/'en contra'/'neutro'/'spam' or <Enter> para continuar:\n",
      " \n"
     ]
    },
    {
     "name": "stdout",
     "output_type": "stream",
     "text": [
      "================================================================================\n"
     ]
    },
    {
     "name": "stdin",
     "output_type": "stream",
     "text": [
      "RT @JorgeOvalleB: Según el @DANE_Colombia para el  trimestre diciembre - febrero de 2021 los y las jóvenes en #CALI que ni estudian ni trab…: https://twitter.com/twitter/status/1394752688294879236\n",
      " → f/c/n/s para 'a favor'/'en contra'/'neutro'/'spam' or <Enter> para continuar:\n",
      " \n"
     ]
    },
    {
     "name": "stdout",
     "output_type": "stream",
     "text": [
      "================================================================================\n",
      "================================================================================\n",
      "================================================================================\n"
     ]
    },
    {
     "name": "stdin",
     "output_type": "stream",
     "text": [
      "RT @JorgeOvalleB: En 2020 los ingresos de los hombres jóvenes en Cali se redujo -16,8% respecto al 2019, el ingreso laboral promedio fue de…: https://twitter.com/twitter/status/1394752632196116480\n",
      " → f/c/n/s para 'a favor'/'en contra'/'neutro'/'spam' or <Enter> para continuar:\n",
      " \n"
     ]
    },
    {
     "name": "stdout",
     "output_type": "stream",
     "text": [
      "================================================================================\n"
     ]
    },
    {
     "name": "stdin",
     "output_type": "stream",
     "text": [
      "¿Porqué las #negociaciones se hacen a puerta cerrada?\n",
      "Deberían ser transmitidas, en vivito y directo. Así como tenemos que ver las babosadas que habla este tipo @IvanDuque. \n",
      "\n",
      "#Colombia \n",
      "#ParoNacional: https://twitter.com/twitter/status/1394752621639053313\n",
      " → f/c/n/s para 'a favor'/'en contra'/'neutro'/'spam' or <Enter> para continuar:\n",
      " \n"
     ]
    },
    {
     "name": "stdout",
     "output_type": "stream",
     "text": [
      "================================================================================\n"
     ]
    },
    {
     "name": "stdin",
     "output_type": "stream",
     "text": [
      "@clarincom Estos son los del entierro del Diego?\n",
      "O más de la mentira diaria del #GobiernoDeInutiles \n",
      "\n",
      "#Covidiano🐑😷💉Evita las aglomeraciones, #VirusChino sabe cuándo sales a protestar y NO ATACA\n",
      "Aún crees que #FalsaPandemia se trata de Salud Pública?😂🤣\n",
      "#Argentina #Colombia #ParoNacional https://t.co/6jAXYRVEQ4: https://twitter.com/twitter/status/1394752616765198338\n",
      " → f/c/n/s para 'a favor'/'en contra'/'neutro'/'spam' or <Enter> para continuar:\n",
      " c\n"
     ]
    },
    {
     "name": "stdout",
     "output_type": "stream",
     "text": [
      "================================================================================\n"
     ]
    },
    {
     "name": "stdin",
     "output_type": "stream",
     "text": [
      "Acabo de leer que @MayaAlcaldePei llegó tarde ayer a la Comisión de Paz del Senado porque su perrito estaba cumpliendo años y le tenían que partir la torta primero a él antes de reunirse con las víctimas de la fuerza pública en el #paronacional ¿Será eso posible? #prioridades https://t.co/D1NPKKGoWn: https://twitter.com/twitter/status/1394752615670484996\n",
      " → f/c/n/s para 'a favor'/'en contra'/'neutro'/'spam' or <Enter> para continuar:\n",
      " \n"
     ]
    },
    {
     "name": "stdout",
     "output_type": "stream",
     "text": [
      "================================================================================\n",
      "================================================================================\n",
      "================================================================================\n"
     ]
    },
    {
     "name": "stdin",
     "output_type": "stream",
     "text": [
      "RT @JorgeOvalleB: #DesempleoJuvenil Para el 2020 el desempleo juvenil en #CALI fue de 29,1% con 112.929 jóvenes desempleados/as, con 26 mil…: https://twitter.com/twitter/status/1394752578718773256\n",
      " → f/c/n/s para 'a favor'/'en contra'/'neutro'/'spam' or <Enter> para continuar:\n",
      " f\n"
     ]
    },
    {
     "name": "stdout",
     "output_type": "stream",
     "text": [
      "================================================================================\n"
     ]
    },
    {
     "name": "stdin",
     "output_type": "stream",
     "text": [
      "RT @MafeCarrascal: En Antioquia, Caldas, la de anoche fue una noche de horror. Disparos en medio de la oscuridad y sin señal de internet. ¿…: https://twitter.com/twitter/status/1394752552261066762\n",
      " → f/c/n/s para 'a favor'/'en contra'/'neutro'/'spam' or <Enter> para continuar:\n",
      " \n"
     ]
    },
    {
     "name": "stdout",
     "output_type": "stream",
     "text": [
      "================================================================================\n"
     ]
    },
    {
     "name": "stdin",
     "output_type": "stream",
     "text": [
      "@ELTIEMPO Escucha estos sinvergüenzas, bloquean extorsionan cobrando peajes ilegales y cuando el ESMAD los rodea para impedir su avanze criminal, lloran como nenas, mirelos como dan quejas 😂😂 😂 😂 perdedores. #NoMasParo #NoMasBloqueos #NoMasBloqueos #NoMasBloqueos #NoMasBloqueos: https://twitter.com/twitter/status/1394752532430434307\n",
      " → f/c/n/s para 'a favor'/'en contra'/'neutro'/'spam' or <Enter> para continuar:\n",
      " c\n"
     ]
    },
    {
     "name": "stdout",
     "output_type": "stream",
     "text": [
      "================================================================================\n",
      "================================================================================\n"
     ]
    },
    {
     "name": "stdin",
     "output_type": "stream",
     "text": [
      "[IRI·Prensa·13/05/21] Diálogo sincero y constructivo ante crisis nacional. https://t.co/KvAqsgwfsS #ParoNacional #Colombia @CIDH @infopresidencia @MinInterior @faiths4forests @brasiliri  @gaiaamazonas @InstitutoSINCHI @cutcolombia: https://twitter.com/twitter/status/1394752501631660036\n",
      " → f/c/n/s para 'a favor'/'en contra'/'neutro'/'spam' or <Enter> para continuar:\n",
      " \n"
     ]
    },
    {
     "name": "stdout",
     "output_type": "stream",
     "text": [
      "================================================================================\n"
     ]
    },
    {
     "name": "stdin",
     "output_type": "stream",
     "text": [
      "RT @boyacasietedias: El #Sondeo7días de hoy: Cuando ya se cumplen 21 días de #ParoNacional, a propósito de la medida anunciada por el Presi…: https://twitter.com/twitter/status/1394752478768508932\n",
      " → f/c/n/s para 'a favor'/'en contra'/'neutro'/'spam' or <Enter> para continuar:\n",
      " n\n"
     ]
    },
    {
     "name": "stdout",
     "output_type": "stream",
     "text": [
      "================================================================================\n",
      "================================================================================\n",
      "================================================================================\n"
     ]
    },
    {
     "name": "stdin",
     "output_type": "stream",
     "text": [
      "RT @JorgeOvalleB: En #CALI para el año 2020 el 20% de hogares con menores ingresos registraron una reducción del 50,1% de sus ingresos real…: https://twitter.com/twitter/status/1394752447072067591\n",
      " → f/c/n/s para 'a favor'/'en contra'/'neutro'/'spam' or <Enter> para continuar:\n",
      " \n"
     ]
    },
    {
     "name": "stdout",
     "output_type": "stream",
     "text": [
      "================================================================================\n"
     ]
    },
    {
     "name": "stdin",
     "output_type": "stream",
     "text": [
      "RT @teleSURtv: Continúa el #ParoNacional en #Colombia🇨🇴, cientos de manifestantes se han congregado en las calles de #Bogotá en rechazo de…: https://twitter.com/twitter/status/1394752443636977664\n",
      " → f/c/n/s para 'a favor'/'en contra'/'neutro'/'spam' or <Enter> para continuar:\n",
      " \n"
     ]
    },
    {
     "name": "stdout",
     "output_type": "stream",
     "text": [
      "================================================================================\n",
      "================================================================================\n",
      "================================================================================\n"
     ]
    },
    {
     "name": "stdin",
     "output_type": "stream",
     "text": [
      "RT @JorgeOvalleB: #ClasesSociales La clase pobre y vulnerable en #CALI fue del 62,5% de la población para 2020 y registró crecimiento de 10…: https://twitter.com/twitter/status/1394752392726450182\n",
      " → f/c/n/s para 'a favor'/'en contra'/'neutro'/'spam' or <Enter> para continuar:\n",
      " \n"
     ]
    },
    {
     "name": "stdout",
     "output_type": "stream",
     "text": [
      "================================================================================\n",
      "================================================================================\n",
      "================================================================================\n",
      "================================================================================\n",
      "================================================================================\n"
     ]
    },
    {
     "name": "stdin",
     "output_type": "stream",
     "text": [
      "RT @teleSURtv: El alcalde de Cali, #Colombia🇨🇴, #JorgeIvánOspina, pidió la renuncia a todos los miembros de su gabinete en medio de las pro…: https://twitter.com/twitter/status/1394752345192468484\n",
      " → f/c/n/s para 'a favor'/'en contra'/'neutro'/'spam' or <Enter> para continuar:\n",
      " \n"
     ]
    },
    {
     "name": "stdout",
     "output_type": "stream",
     "text": [
      "================================================================================\n",
      "================================================================================\n",
      "================================================================================\n",
      "================================================================================\n",
      "================================================================================\n"
     ]
    },
    {
     "name": "stdin",
     "output_type": "stream",
     "text": [
      "RT @anabanana0nana: La verdadera razón de la #ReformaALaSalud y de porque nos están matando.  Es que esos milloncitos de don Satanás Sarmie…: https://twitter.com/twitter/status/1394752286778400771\n",
      " → f/c/n/s para 'a favor'/'en contra'/'neutro'/'spam' or <Enter> para continuar:\n",
      " \n"
     ]
    },
    {
     "name": "stdout",
     "output_type": "stream",
     "text": [
      "================================================================================\n"
     ]
    },
    {
     "name": "stdin",
     "output_type": "stream",
     "text": [
      "RT @NotiBAdentro: #ParoNacional #18M\n",
      "\n",
      "El sector de los trabajadores de los cárnicos, se suma al gran paro nacional. https://t.co/YcHce1Oqdt: https://twitter.com/twitter/status/1394752277253083139\n",
      " → f/c/n/s para 'a favor'/'en contra'/'neutro'/'spam' or <Enter> para continuar:\n",
      " \n"
     ]
    },
    {
     "name": "stdout",
     "output_type": "stream",
     "text": [
      "================================================================================\n"
     ]
    },
    {
     "name": "stdin",
     "output_type": "stream",
     "text": [
      "RT @mariomojc: @petrogustavo “Es que Colombia ya es como Venezuela\" 😎\n",
      "\n",
      "Esa visita de ayer acá en Barranquilla estuvo buena 😁\n",
      "\n",
      "#ParoNacional…: https://twitter.com/twitter/status/1394752269959184388\n",
      " → f/c/n/s para 'a favor'/'en contra'/'neutro'/'spam' or <Enter> para continuar:\n",
      " \n"
     ]
    },
    {
     "name": "stdout",
     "output_type": "stream",
     "text": [
      "================================================================================\n",
      "================================================================================\n",
      "================================================================================\n",
      "================================================================================\n",
      "================================================================================\n"
     ]
    },
    {
     "name": "stdin",
     "output_type": "stream",
     "text": [
      "RT @Iamthespeaker_: Atención Cali ¡La convocatoria de speakers del evento TEDxCali ‘Cali: Caminos de diálogo’ 2021 ya está abierta!. Este t…: https://twitter.com/twitter/status/1394752191991255046\n",
      " → f/c/n/s para 'a favor'/'en contra'/'neutro'/'spam' or <Enter> para continuar:\n",
      " \n"
     ]
    },
    {
     "name": "stdout",
     "output_type": "stream",
     "text": [
      "================================================================================\n",
      "================================================================================\n"
     ]
    },
    {
     "name": "stdin",
     "output_type": "stream",
     "text": [
      "@BluRadioCo Por supuesto  que sí, más cuando quienes bloquean, saquean y violan derechos de las grandes mayorías de Colombia #NoMasParo #NoMasBloqueos #ElParoNoMeRepresenta #AtrabajarMamertos: https://twitter.com/twitter/status/1394752145082159112\n",
      " → f/c/n/s para 'a favor'/'en contra'/'neutro'/'spam' or <Enter> para continuar:\n",
      " c\n"
     ]
    },
    {
     "name": "stdout",
     "output_type": "stream",
     "text": [
      "================================================================================\n"
     ]
    },
    {
     "name": "stdin",
     "output_type": "stream",
     "text": [
      "RT @teleSURtv: Los primeros grupos de la #MingaIndígena llegaron este martes a la ciudad de #Medellín, #Colombia🇨🇴, para apoyar el #ParoNac…: https://twitter.com/twitter/status/1394752112328941571\n",
      " → f/c/n/s para 'a favor'/'en contra'/'neutro'/'spam' or <Enter> para continuar:\n",
      " n\n"
     ]
    },
    {
     "name": "stdout",
     "output_type": "stream",
     "text": [
      "================================================================================\n",
      "================================================================================\n"
     ]
    },
    {
     "name": "stdin",
     "output_type": "stream",
     "text": [
      "La élite que ha gobernado durante décadas jamás se ocupó de manera decisiva por la Seguridad Alimentaria. Pero tras 20 días de #ParoNacional ahí se les volvió (en apariencia) su mayor prioridad ¿No será que su preocupación es por los negocios de distribución de alimentos?: https://twitter.com/twitter/status/1394752010197536768\n",
      " → f/c/n/s para 'a favor'/'en contra'/'neutro'/'spam' or <Enter> para continuar:\n",
      " f\n"
     ]
    },
    {
     "name": "stdout",
     "output_type": "stream",
     "text": [
      "================================================================================\n",
      "================================================================================\n"
     ]
    },
    {
     "name": "stdin",
     "output_type": "stream",
     "text": [
      "RT @viktorclop: @ClaudiaLopez La que parece haciendo campaña es ud Claudia, si hablamos de oportunismo porque no menciona a su partido que…: https://twitter.com/twitter/status/1394751963674419204\n",
      " → f/c/n/s para 'a favor'/'en contra'/'neutro'/'spam' or <Enter> para continuar:\n",
      " \n"
     ]
    },
    {
     "name": "stdout",
     "output_type": "stream",
     "text": [
      "================================================================================\n"
     ]
    },
    {
     "name": "stdin",
     "output_type": "stream",
     "text": [
      "Mañana 19 de mayo #ParoNacional #Valledupar #Colombia https://t.co/OaB4pD52am: https://twitter.com/twitter/status/1394751959656280064\n",
      " → f/c/n/s para 'a favor'/'en contra'/'neutro'/'spam' or <Enter> para continuar:\n",
      " \n"
     ]
    },
    {
     "name": "stdout",
     "output_type": "stream",
     "text": [
      "================================================================================\n",
      "================================================================================\n",
      "================================================================================\n",
      "================================================================================\n",
      "================================================================================\n"
     ]
    },
    {
     "name": "stdin",
     "output_type": "stream",
     "text": [
      "@IvanDuque Deberia estar regulando a los influences del pais que ganan bastante platica en un mes de 80 a 200 millones ..y no estar detras de la gente que exige mejoras economicas. Busque la plata donde es, no en gente del comun. #ParoNacional17M #ParoNacional: https://twitter.com/twitter/status/1394751913112084485\n",
      " → f/c/n/s para 'a favor'/'en contra'/'neutro'/'spam' or <Enter> para continuar:\n",
      " \n"
     ]
    },
    {
     "name": "stdout",
     "output_type": "stream",
     "text": [
      "================================================================================\n"
     ]
    },
    {
     "name": "stdin",
     "output_type": "stream",
     "text": [
      "@ingrodolfohdez #ParoNacional #ColombiaResiste  ..el congreso de este país no va a dejar de ser la misma HORDA de BUITRES de siempre: propongo #NoEleccionesEnColombia2022..  el sistema será el mismo sin importar que presidente suba: propongo #NuevaConstitución de los Pobres y para los POBRES..: https://twitter.com/twitter/status/1394751890366377986\n",
      " → f/c/n/s para 'a favor'/'en contra'/'neutro'/'spam' or <Enter> para continuar:\n",
      " \n"
     ]
    },
    {
     "name": "stdout",
     "output_type": "stream",
     "text": [
      "================================================================================\n"
     ]
    },
    {
     "name": "stdin",
     "output_type": "stream",
     "text": [
      "RT @AisoMovimiento: Mañana 19 de mayo nos movilizamos en la GRAN MARCHA DEL MILLÓN, porque solo el pueblo salva el pueblo \n",
      "#19M #ParoNacion…: https://twitter.com/twitter/status/1394751888181108740\n",
      " → f/c/n/s para 'a favor'/'en contra'/'neutro'/'spam' or <Enter> para continuar:\n",
      " \n"
     ]
    },
    {
     "name": "stdout",
     "output_type": "stream",
     "text": [
      "================================================================================\n"
     ]
    },
    {
     "name": "stdin",
     "output_type": "stream",
     "text": [
      "RT @teleSURtv: #Colombia 🇨🇴 | Ciudadanos denunciaron este martes que el #Esmad de la Policía reprimió la noche del lunes a las personas que…: https://twitter.com/twitter/status/1394751887992307713\n",
      " → f/c/n/s para 'a favor'/'en contra'/'neutro'/'spam' or <Enter> para continuar:\n",
      " \n"
     ]
    },
    {
     "name": "stdout",
     "output_type": "stream",
     "text": [
      "================================================================================\n",
      "================================================================================\n",
      "================================================================================\n",
      "================================================================================\n"
     ]
    },
    {
     "name": "stdin",
     "output_type": "stream",
     "text": [
      "RT @JorgeOvalleB: #LuchaDeClases Durante el 2020 la clase pobre y  vulnerable en #CALI aumento con 295.540 personas, para un total de 1.6 m…: https://twitter.com/twitter/status/1394751816412405765\n",
      " → f/c/n/s para 'a favor'/'en contra'/'neutro'/'spam' or <Enter> para continuar:\n",
      " \n"
     ]
    },
    {
     "name": "stdout",
     "output_type": "stream",
     "text": [
      "================================================================================\n"
     ]
    },
    {
     "name": "stdin",
     "output_type": "stream",
     "text": [
      "RT @Caprietto: Algunos se molestan, pero hay que decirll:\n",
      "\n",
      "— El pueblo no salió a la calle\n",
      "— Bloqueas una calle, sos un delincuente\n",
      "— Los d…: https://twitter.com/twitter/status/1394751796913090561\n",
      " → f/c/n/s para 'a favor'/'en contra'/'neutro'/'spam' or <Enter> para continuar:\n",
      " c\n"
     ]
    },
    {
     "name": "stdout",
     "output_type": "stream",
     "text": [
      "================================================================================\n",
      "================================================================================\n",
      "================================================================================\n",
      "================================================================================\n",
      "================================================================================\n"
     ]
    },
    {
     "name": "stdin",
     "output_type": "stream",
     "text": [
      "RT @ElDeLosTapaboca: Buenos días! \n",
      "\n",
      "Mi admiración, mi respeto y mis oraciones para los jóvenes que siguen dejando sus ojos y sus vidas en l…: https://twitter.com/twitter/status/1394751654721904642\n",
      " → f/c/n/s para 'a favor'/'en contra'/'neutro'/'spam' or <Enter> para continuar:\n",
      " \n"
     ]
    },
    {
     "name": "stdout",
     "output_type": "stream",
     "text": [
      "================================================================================\n"
     ]
    },
    {
     "name": "stdin",
     "output_type": "stream",
     "text": [
      "RT @FdoQuijano: #ParoNacional 🇨🇴😁 #NosRecuerda @HELIODOPTERO \"El paro nacional despierta emoción y simpatía en Miss Universo.\" https://t.co…: https://twitter.com/twitter/status/1394751617845637120\n",
      " → f/c/n/s para 'a favor'/'en contra'/'neutro'/'spam' or <Enter> para continuar:\n",
      " \n"
     ]
    },
    {
     "name": "stdout",
     "output_type": "stream",
     "text": [
      "================================================================================\n"
     ]
    },
    {
     "name": "stdin",
     "output_type": "stream",
     "text": [
      "RT @NSimpsombia: Como realmente abatieron a Jesús Santrich\n",
      "- Sr Thompson \n",
      "\n",
      "#JesusSantrich #Santrich #Farc #Colombia #paronacional https://t…: https://twitter.com/twitter/status/1394751593522868230\n",
      " → f/c/n/s para 'a favor'/'en contra'/'neutro'/'spam' or <Enter> para continuar:\n",
      " \n"
     ]
    },
    {
     "name": "stdout",
     "output_type": "stream",
     "text": [
      "================================================================================\n"
     ]
    },
    {
     "name": "stdin",
     "output_type": "stream",
     "text": [
      "RT @alejzuluaga: .@juanpisrules, @AlejandroRia, hicimos una breve adaptación de su maravilloso video. Escena protagonizada por el alcalde d…: https://twitter.com/twitter/status/1394751585582977025\n",
      " → f/c/n/s para 'a favor'/'en contra'/'neutro'/'spam' or <Enter> para continuar:\n",
      " \n"
     ]
    },
    {
     "name": "stdout",
     "output_type": "stream",
     "text": [
      "================================================================================\n",
      "================================================================================\n"
     ]
    },
    {
     "name": "stdin",
     "output_type": "stream",
     "text": [
      "RT @PBIcanada: Este es un vehículo de fabricación canadiense que fue vendido a la policía nacional de Colombia. Estamos monitoreando las pu…: https://twitter.com/twitter/status/1394751572157116423\n",
      " → f/c/n/s para 'a favor'/'en contra'/'neutro'/'spam' or <Enter> para continuar:\n",
      " \n"
     ]
    },
    {
     "name": "stdout",
     "output_type": "stream",
     "text": [
      "================================================================================\n"
     ]
    },
    {
     "name": "stdin",
     "output_type": "stream",
     "text": [
      "Inicia tu carrera con nosotros, sé parte de nuestras capacitaciones y déjate asesorar y guiar por nuestros expertos. \n",
      "\n",
      "Abrimos nuevos #cupos Escríbenos 322 8864081\n",
      "\n",
      "#cali #colombia #trabajoencali #trabajocali #modelaje #aumentatusingresos #martes #empleo #empleoencali #elempleo https://t.co/eXKrz5Lv2z: https://twitter.com/twitter/status/1394751568608649218\n",
      " → f/c/n/s para 'a favor'/'en contra'/'neutro'/'spam' or <Enter> para continuar:\n",
      " s\n"
     ]
    }
   ],
   "source": [
    "n_train=10\n",
    "n_test=5\n",
    "n_traintest=n_train+n_test\n",
    "df['label']=None\n",
    "ii=0\n",
    "similarity=[]\n",
    "for i in df.index:\n",
    "    print(\"=\"*80)\n",
    "    tweet=df.loc[i,'text']\n",
    "    if similarity:\n",
    "        if process.extractOne(tweet,similarity,scorer=fuzz.ratio)[-1]<90:\n",
    "            similarity.append(tweet)\n",
    "            posneg=input(f\"{tweet}: https://twitter.com/twitter/status/{df.loc[i,'id']}\\n → f/c/n/s para 'a favor'/'en contra'/'neutro'/'spam' or <Enter> para continuar:\\n\")\n",
    "            if posneg=='c':\n",
    "                posneg='con'\n",
    "            elif posneg=='f':\n",
    "                posneg='fav'\n",
    "            elif posneg=='n':\n",
    "                posneg='neu'\n",
    "            elif posneg=='s':\n",
    "                posneg='spa'\n",
    "            else:\n",
    "                continue\n",
    "            df.loc[i,'label']=posneg\n",
    "            ii=ii+1\n",
    "    else:\n",
    "        similarity.append(tweet)\n",
    "\n",
    "    if ii==n_traintest:\n",
    "        break"
   ]
  },
  {
   "cell_type": "markdown",
   "metadata": {},
   "source": [
    "Select the train/test filtered DataFrame"
   ]
  },
  {
   "cell_type": "code",
   "execution_count": 39,
   "metadata": {},
   "outputs": [],
   "source": [
    "tmp=df[~df['label'].isna()].reset_index(drop=True)"
   ]
  },
  {
   "cell_type": "code",
   "execution_count": 40,
   "metadata": {},
   "outputs": [
    {
     "data": {
      "text/html": [
       "<div>\n",
       "<style scoped>\n",
       "    .dataframe tbody tr th:only-of-type {\n",
       "        vertical-align: middle;\n",
       "    }\n",
       "\n",
       "    .dataframe tbody tr th {\n",
       "        vertical-align: top;\n",
       "    }\n",
       "\n",
       "    .dataframe thead th {\n",
       "        text-align: right;\n",
       "    }\n",
       "</style>\n",
       "<table border=\"1\" class=\"dataframe\">\n",
       "  <thead>\n",
       "    <tr style=\"text-align: right;\">\n",
       "      <th></th>\n",
       "      <th>user_name</th>\n",
       "      <th>user_location</th>\n",
       "      <th>user_description</th>\n",
       "      <th>user_verified</th>\n",
       "      <th>date</th>\n",
       "      <th>text</th>\n",
       "      <th>hashtags</th>\n",
       "      <th>source</th>\n",
       "      <th>id</th>\n",
       "      <th>label</th>\n",
       "      <th>test</th>\n",
       "      <th>prob</th>\n",
       "    </tr>\n",
       "  </thead>\n",
       "  <tbody>\n",
       "    <tr>\n",
       "      <th>0</th>\n",
       "      <td>¡#55/86 en 2022!🦍🦍💪💎💎👏👏🚀🚀🌕</td>\n",
       "      <td></td>\n",
       "      <td>#sigamonoslosbuenos #movimientoantiuribista</td>\n",
       "      <td>False</td>\n",
       "      <td>2021-05-18 20:35:29</td>\n",
       "      <td>RT @PoloDemocratico: El #ParoNacional es la manifestación del pueblo por la inconformidad qué hay con el gobierno de @IvanDuque, queremos q…</td>\n",
       "      <td>[ParoNacional]</td>\n",
       "      <td>Twitter for iPhone</td>\n",
       "      <td>1394753529844219907</td>\n",
       "      <td>fav</td>\n",
       "      <td>fav</td>\n",
       "      <td>0.73</td>\n",
       "    </tr>\n",
       "    <tr>\n",
       "      <th>1</th>\n",
       "      <td>YASSER AMIN® (turko amin)®</td>\n",
       "      <td>por ahi</td>\n",
       "      <td>cuenta nueva #12-\\npublicista\\nfotógrafo amateur\\nsoltero</td>\n",
       "      <td>False</td>\n",
       "      <td>2021-05-18 20:34:42</td>\n",
       "      <td>@Emile1985 @elespectador No pues los \\nmuch4chosdrogos y d3lincu3nt3s es lo que hay en ese #ParoNacional</td>\n",
       "      <td>[ParoNacional]</td>\n",
       "      <td>Twitter for Android</td>\n",
       "      <td>1394753334536458242</td>\n",
       "      <td>con</td>\n",
       "      <td>fav</td>\n",
       "      <td>0.72</td>\n",
       "    </tr>\n",
       "    <tr>\n",
       "      <th>2</th>\n",
       "      <td>Carlos Guerrero</td>\n",
       "      <td></td>\n",
       "      <td></td>\n",
       "      <td>False</td>\n",
       "      <td>2021-05-18 20:34:39</td>\n",
       "      <td>RT @aciprensa: El delegado especial del @episcopadocol, Mons. Héctor Henao, pidió que se excluya todo gesto de violencia en Colombia, de ta…</td>\n",
       "      <td>None</td>\n",
       "      <td>Twitter for Android</td>\n",
       "      <td>1394753319281778688</td>\n",
       "      <td>neu</td>\n",
       "      <td>con</td>\n",
       "      <td>0.91</td>\n",
       "    </tr>\n",
       "  </tbody>\n",
       "</table>\n",
       "</div>"
      ],
      "text/plain": [
       "                    user_name user_location  \\\n",
       "0  ¡#55/86 en 2022!🦍🦍💪💎💎👏👏🚀🚀🌕                 \n",
       "1  YASSER AMIN® (turko amin)®      por ahi    \n",
       "2             Carlos Guerrero                 \n",
       "\n",
       "                                            user_description  user_verified  \\\n",
       "0                #sigamonoslosbuenos #movimientoantiuribista          False   \n",
       "1  cuenta nueva #12-\\npublicista\\nfotógrafo amateur\\nsoltero          False   \n",
       "2                                                                     False   \n",
       "\n",
       "                 date  \\\n",
       "0 2021-05-18 20:35:29   \n",
       "1 2021-05-18 20:34:42   \n",
       "2 2021-05-18 20:34:39   \n",
       "\n",
       "                                                                                                                                           text  \\\n",
       "0  RT @PoloDemocratico: El #ParoNacional es la manifestación del pueblo por la inconformidad qué hay con el gobierno de @IvanDuque, queremos q…   \n",
       "1                                      @Emile1985 @elespectador No pues los \\nmuch4chosdrogos y d3lincu3nt3s es lo que hay en ese #ParoNacional   \n",
       "2  RT @aciprensa: El delegado especial del @episcopadocol, Mons. Héctor Henao, pidió que se excluya todo gesto de violencia en Colombia, de ta…   \n",
       "\n",
       "         hashtags               source                   id label test  prob  \n",
       "0  [ParoNacional]   Twitter for iPhone  1394753529844219907   fav  fav  0.73  \n",
       "1  [ParoNacional]  Twitter for Android  1394753334536458242   con  fav  0.72  \n",
       "2            None  Twitter for Android  1394753319281778688   neu  con  0.91  "
      ]
     },
     "execution_count": 40,
     "metadata": {},
     "output_type": "execute_result"
    }
   ],
   "source": [
    "tmp[:3]"
   ]
  },
  {
   "cell_type": "code",
   "execution_count": 41,
   "metadata": {},
   "outputs": [
    {
     "data": {
      "text/plain": [
       "(15, 12)"
      ]
     },
     "execution_count": 41,
     "metadata": {},
     "output_type": "execute_result"
    }
   ],
   "source": [
    "tmp.shape"
   ]
  },
  {
   "cell_type": "code",
   "execution_count": 42,
   "metadata": {},
   "outputs": [],
   "source": [
    "train=tmp[:n_train][['text','label']].reset_index(drop=True)"
   ]
  },
  {
   "cell_type": "code",
   "execution_count": 43,
   "metadata": {},
   "outputs": [],
   "source": [
    "from textblob.classifiers import NaiveBayesClassifier"
   ]
  },
  {
   "cell_type": "code",
   "execution_count": 44,
   "metadata": {},
   "outputs": [
    {
     "name": "stderr",
     "output_type": "stream",
     "text": [
      "[nltk_data] Downloading package punkt to /home/restrepo/nltk_data...\n",
      "[nltk_data]   Package punkt is already up-to-date!\n"
     ]
    },
    {
     "data": {
      "text/plain": [
       "True"
      ]
     },
     "execution_count": 44,
     "metadata": {},
     "output_type": "execute_result"
    }
   ],
   "source": [
    "import nltk\n",
    "nltk.download('punkt')  "
   ]
  },
  {
   "cell_type": "code",
   "execution_count": 45,
   "metadata": {},
   "outputs": [],
   "source": [
    "cl = NaiveBayesClassifier(  [ (d.get('text'),d.get('label')) for d in test.to_dict(orient='records')]  )"
   ]
  },
  {
   "cell_type": "code",
   "execution_count": 46,
   "metadata": {},
   "outputs": [],
   "source": [
    "fulltest=test.copy()\n",
    "fulltest['test']=fulltest['text'].apply(cl.classify)"
   ]
  },
  {
   "cell_type": "code",
   "execution_count": 47,
   "metadata": {},
   "outputs": [
    {
     "data": {
      "text/html": [
       "<div>\n",
       "<style scoped>\n",
       "    .dataframe tbody tr th:only-of-type {\n",
       "        vertical-align: middle;\n",
       "    }\n",
       "\n",
       "    .dataframe tbody tr th {\n",
       "        vertical-align: top;\n",
       "    }\n",
       "\n",
       "    .dataframe thead th {\n",
       "        text-align: right;\n",
       "    }\n",
       "</style>\n",
       "<table border=\"1\" class=\"dataframe\">\n",
       "  <thead>\n",
       "    <tr style=\"text-align: right;\">\n",
       "      <th></th>\n",
       "      <th>text</th>\n",
       "      <th>label</th>\n",
       "      <th>test</th>\n",
       "    </tr>\n",
       "  </thead>\n",
       "  <tbody>\n",
       "    <tr>\n",
       "      <th>0</th>\n",
       "      <td>[IRI·Prensa·13/05/21] Diálogo sincero y constructivo ante crisis nacional. https://t.co/KvAqsgwfsS #ParoNacional #Colombia @CIDH @infopresidencia @MinInterior @faiths4forests @brasiliri  @gaiaamazonas @InstitutoSINCHI @cutcolombia</td>\n",
       "      <td>fav</td>\n",
       "      <td>fav</td>\n",
       "    </tr>\n",
       "    <tr>\n",
       "      <th>1</th>\n",
       "      <td>RT @boyacasietedias: El #Sondeo7días de hoy: Cuando ya se cumplen 21 días de #ParoNacional, a propósito de la medida anunciada por el Presi…</td>\n",
       "      <td>neu</td>\n",
       "      <td>neu</td>\n",
       "    </tr>\n",
       "    <tr>\n",
       "      <th>2</th>\n",
       "      <td>@BluRadioCo Por supuesto  que sí, más cuando quienes bloquean, saquean y violan derechos de las grandes mayorías de Colombia #NoMasParo #NoMasBloqueos #ElParoNoMeRepresenta #AtrabajarMamertos</td>\n",
       "      <td>con</td>\n",
       "      <td>con</td>\n",
       "    </tr>\n",
       "    <tr>\n",
       "      <th>3</th>\n",
       "      <td>RT @teleSURtv: Los primeros grupos de la #MingaIndígena llegaron este martes a la ciudad de #Medellín, #Colombia🇨🇴, para apoyar el #ParoNac…</td>\n",
       "      <td>fav</td>\n",
       "      <td>fav</td>\n",
       "    </tr>\n",
       "    <tr>\n",
       "      <th>4</th>\n",
       "      <td>RT @Caprietto: Algunos se molestan, pero hay que decirll:\\n\\n— El pueblo no salió a la calle\\n— Bloqueas una calle, sos un delincuente\\n— Los d…</td>\n",
       "      <td>con</td>\n",
       "      <td>con</td>\n",
       "    </tr>\n",
       "  </tbody>\n",
       "</table>\n",
       "</div>"
      ],
      "text/plain": [
       "                                                                                                                                                                                                                                     text  \\\n",
       "0  [IRI·Prensa·13/05/21] Diálogo sincero y constructivo ante crisis nacional. https://t.co/KvAqsgwfsS #ParoNacional #Colombia @CIDH @infopresidencia @MinInterior @faiths4forests @brasiliri  @gaiaamazonas @InstitutoSINCHI @cutcolombia   \n",
       "1                                                                                            RT @boyacasietedias: El #Sondeo7días de hoy: Cuando ya se cumplen 21 días de #ParoNacional, a propósito de la medida anunciada por el Presi…   \n",
       "2                                         @BluRadioCo Por supuesto  que sí, más cuando quienes bloquean, saquean y violan derechos de las grandes mayorías de Colombia #NoMasParo #NoMasBloqueos #ElParoNoMeRepresenta #AtrabajarMamertos   \n",
       "3                                                                                            RT @teleSURtv: Los primeros grupos de la #MingaIndígena llegaron este martes a la ciudad de #Medellín, #Colombia🇨🇴, para apoyar el #ParoNac…   \n",
       "4                                                                                        RT @Caprietto: Algunos se molestan, pero hay que decirll:\\n\\n— El pueblo no salió a la calle\\n— Bloqueas una calle, sos un delincuente\\n— Los d…   \n",
       "\n",
       "  label test  \n",
       "0   fav  fav  \n",
       "1   neu  neu  \n",
       "2   con  con  \n",
       "3   fav  fav  \n",
       "4   con  con  "
      ]
     },
     "execution_count": 47,
     "metadata": {},
     "output_type": "execute_result"
    }
   ],
   "source": [
    "fulltest[['text','label','test']]"
   ]
  },
  {
   "cell_type": "code",
   "execution_count": 48,
   "metadata": {},
   "outputs": [
    {
     "data": {
      "text/plain": [
       "1.0"
      ]
     },
     "execution_count": 48,
     "metadata": {},
     "output_type": "execute_result"
    }
   ],
   "source": [
    "cl.accuracy( [ (d.get('text'),d.get('label')) for d in test.to_dict(orient='records')] )"
   ]
  },
  {
   "cell_type": "code",
   "execution_count": 49,
   "metadata": {},
   "outputs": [],
   "source": [
    "fulltest['prob']=fulltest['text'].apply(lambda t:   \n",
    "                                cl.prob_classify( t ).prob(   cl.classify( t  )  ) ).round(2)"
   ]
  },
  {
   "cell_type": "code",
   "execution_count": 50,
   "metadata": {},
   "outputs": [
    {
     "data": {
      "text/html": [
       "<div>\n",
       "<style scoped>\n",
       "    .dataframe tbody tr th:only-of-type {\n",
       "        vertical-align: middle;\n",
       "    }\n",
       "\n",
       "    .dataframe tbody tr th {\n",
       "        vertical-align: top;\n",
       "    }\n",
       "\n",
       "    .dataframe thead th {\n",
       "        text-align: right;\n",
       "    }\n",
       "</style>\n",
       "<table border=\"1\" class=\"dataframe\">\n",
       "  <thead>\n",
       "    <tr style=\"text-align: right;\">\n",
       "      <th></th>\n",
       "      <th>text</th>\n",
       "      <th>label</th>\n",
       "      <th>test</th>\n",
       "      <th>prob</th>\n",
       "    </tr>\n",
       "  </thead>\n",
       "  <tbody>\n",
       "    <tr>\n",
       "      <th>0</th>\n",
       "      <td>[IRI·Prensa·13/05/21] Diálogo sincero y constructivo ante crisis nacional. https://t.co/KvAqsgwfsS #ParoNacional #Colombia @CIDH @infopresidencia @MinInterior @faiths4forests @brasiliri  @gaiaamazonas @InstitutoSINCHI @cutcolombia</td>\n",
       "      <td>fav</td>\n",
       "      <td>fav</td>\n",
       "      <td>1.0</td>\n",
       "    </tr>\n",
       "    <tr>\n",
       "      <th>1</th>\n",
       "      <td>RT @boyacasietedias: El #Sondeo7días de hoy: Cuando ya se cumplen 21 días de #ParoNacional, a propósito de la medida anunciada por el Presi…</td>\n",
       "      <td>neu</td>\n",
       "      <td>neu</td>\n",
       "      <td>1.0</td>\n",
       "    </tr>\n",
       "    <tr>\n",
       "      <th>2</th>\n",
       "      <td>@BluRadioCo Por supuesto  que sí, más cuando quienes bloquean, saquean y violan derechos de las grandes mayorías de Colombia #NoMasParo #NoMasBloqueos #ElParoNoMeRepresenta #AtrabajarMamertos</td>\n",
       "      <td>con</td>\n",
       "      <td>con</td>\n",
       "      <td>1.0</td>\n",
       "    </tr>\n",
       "    <tr>\n",
       "      <th>3</th>\n",
       "      <td>RT @teleSURtv: Los primeros grupos de la #MingaIndígena llegaron este martes a la ciudad de #Medellín, #Colombia🇨🇴, para apoyar el #ParoNac…</td>\n",
       "      <td>fav</td>\n",
       "      <td>fav</td>\n",
       "      <td>1.0</td>\n",
       "    </tr>\n",
       "    <tr>\n",
       "      <th>4</th>\n",
       "      <td>RT @Caprietto: Algunos se molestan, pero hay que decirll:\\n\\n— El pueblo no salió a la calle\\n— Bloqueas una calle, sos un delincuente\\n— Los d…</td>\n",
       "      <td>con</td>\n",
       "      <td>con</td>\n",
       "      <td>1.0</td>\n",
       "    </tr>\n",
       "  </tbody>\n",
       "</table>\n",
       "</div>"
      ],
      "text/plain": [
       "                                                                                                                                                                                                                                     text  \\\n",
       "0  [IRI·Prensa·13/05/21] Diálogo sincero y constructivo ante crisis nacional. https://t.co/KvAqsgwfsS #ParoNacional #Colombia @CIDH @infopresidencia @MinInterior @faiths4forests @brasiliri  @gaiaamazonas @InstitutoSINCHI @cutcolombia   \n",
       "1                                                                                            RT @boyacasietedias: El #Sondeo7días de hoy: Cuando ya se cumplen 21 días de #ParoNacional, a propósito de la medida anunciada por el Presi…   \n",
       "2                                         @BluRadioCo Por supuesto  que sí, más cuando quienes bloquean, saquean y violan derechos de las grandes mayorías de Colombia #NoMasParo #NoMasBloqueos #ElParoNoMeRepresenta #AtrabajarMamertos   \n",
       "3                                                                                            RT @teleSURtv: Los primeros grupos de la #MingaIndígena llegaron este martes a la ciudad de #Medellín, #Colombia🇨🇴, para apoyar el #ParoNac…   \n",
       "4                                                                                        RT @Caprietto: Algunos se molestan, pero hay que decirll:\\n\\n— El pueblo no salió a la calle\\n— Bloqueas una calle, sos un delincuente\\n— Los d…   \n",
       "\n",
       "  label test  prob  \n",
       "0   fav  fav   1.0  \n",
       "1   neu  neu   1.0  \n",
       "2   con  con   1.0  \n",
       "3   fav  fav   1.0  \n",
       "4   con  con   1.0  "
      ]
     },
     "execution_count": 50,
     "metadata": {},
     "output_type": "execute_result"
    }
   ],
   "source": [
    "fulltest"
   ]
  },
  {
   "cell_type": "markdown",
   "metadata": {},
   "source": [
    "Aplicar al DataFrame Completo"
   ]
  },
  {
   "cell_type": "code",
   "execution_count": 51,
   "metadata": {},
   "outputs": [],
   "source": [
    "df['test']=df['text'].apply(cl.classify)\n",
    "df['prob']=df['text'].apply(lambda t:   \n",
    "                                cl.prob_classify( t ).prob(   cl.classify( t  )  ) ).round(2)"
   ]
  },
  {
   "cell_type": "code",
   "execution_count": 52,
   "metadata": {},
   "outputs": [],
   "source": [
    "dfp=df.drop_duplicates('text').reset_index(drop=True)"
   ]
  },
  {
   "cell_type": "code",
   "execution_count": 53,
   "metadata": {},
   "outputs": [
    {
     "data": {
      "text/html": [
       "<div>\n",
       "<style scoped>\n",
       "    .dataframe tbody tr th:only-of-type {\n",
       "        vertical-align: middle;\n",
       "    }\n",
       "\n",
       "    .dataframe tbody tr th {\n",
       "        vertical-align: top;\n",
       "    }\n",
       "\n",
       "    .dataframe thead th {\n",
       "        text-align: right;\n",
       "    }\n",
       "</style>\n",
       "<table border=\"1\" class=\"dataframe\">\n",
       "  <thead>\n",
       "    <tr style=\"text-align: right;\">\n",
       "      <th></th>\n",
       "      <th>text</th>\n",
       "      <th>test</th>\n",
       "      <th>prob</th>\n",
       "    </tr>\n",
       "  </thead>\n",
       "  <tbody>\n",
       "    <tr>\n",
       "      <th>1245</th>\n",
       "      <td>https://t.co/m0sRyIqyvR \\nAyúdeme reportando el perfil de esta #Pendeja, que tiene aires de superioridad, creyéndose mexicana e insultando a los manifestantes. #18DeMayo #ParoNacional #ColombiaResiste</td>\n",
       "      <td>fav</td>\n",
       "      <td>1.00</td>\n",
       "    </tr>\n",
       "    <tr>\n",
       "      <th>1695</th>\n",
       "      <td>RT @Cali24Horas: #Movilidad | @MiTerminalCali informó que únicamente hay despachos activos con destino a #Jamundí, #Santander de Quilichao,…</td>\n",
       "      <td>con</td>\n",
       "      <td>0.66</td>\n",
       "    </tr>\n",
       "    <tr>\n",
       "      <th>89</th>\n",
       "      <td>El uribista promedio cree que la gente de a pie es igual de tonta y arrodillada que él, que sale a marchar porque sus dirigentes le dicen. Por eso es que salen a buscar el culpable, el lider de las marchas y del #ParoNacional.</td>\n",
       "      <td>con</td>\n",
       "      <td>0.66</td>\n",
       "    </tr>\n",
       "    <tr>\n",
       "      <th>1168</th>\n",
       "      <td>Quiere las vías libres, para ingresar armamento o pa putas #DuqueRenuncieYa #NoticiasCaracol #ParoNacional https://t.co/7EM7gO4Izz</td>\n",
       "      <td>fav</td>\n",
       "      <td>1.00</td>\n",
       "    </tr>\n",
       "    <tr>\n",
       "      <th>1345</th>\n",
       "      <td>@rcnradio Primer vez en #Colombia que un #ParoNacional dura 21 días adornado con infames bloqueos y vandalismo! Duque permite la dictadura de bloqueos y vandalismo! #Duquedespierte @CNNEE</td>\n",
       "      <td>fav</td>\n",
       "      <td>0.72</td>\n",
       "    </tr>\n",
       "    <tr>\n",
       "      <th>1312</th>\n",
       "      <td>@Nessnio @IvanDuque Esta es polombia.                                                          #ParoNacional \\n#SOSColombiaEnDictadura</td>\n",
       "      <td>fav</td>\n",
       "      <td>1.00</td>\n",
       "    </tr>\n",
       "    <tr>\n",
       "      <th>1666</th>\n",
       "      <td>#URGENTE A esta hora se presentan detenciones arbitrarias por parte de la fuerza pública hacia manifestantes y la Primera línea de Portal Américas. \\n\\n#bogota #Colombia #paronacional https://t.co/GiTSgSE30S</td>\n",
       "      <td>fav</td>\n",
       "      <td>0.98</td>\n",
       "    </tr>\n",
       "    <tr>\n",
       "      <th>1313</th>\n",
       "      <td>RT @juanfelipedelg8: @VickyDavilaH Nadie la interesa la notícia de su muerte porque el fue un traidor del proceso de paz y decidió seguir e…</td>\n",
       "      <td>fav</td>\n",
       "      <td>0.98</td>\n",
       "    </tr>\n",
       "    <tr>\n",
       "      <th>552</th>\n",
       "      <td>Y pretenden cocinar “acuerdos\" #YumboResiste\\n#ParoNacional18M #ParoAsesino #ParoNacionalColombia #ParoNacionalIndefinido #BogotaEnAlertaRoja #PopayanEsColombia #Cali #Medellin #Pereira #Bogota #Barranquilla #Valledupar #ValleDelCauca #Bucaramanga #Buga #siloecali https://t.co/zN7GljaMHn</td>\n",
       "      <td>fav</td>\n",
       "      <td>1.00</td>\n",
       "    </tr>\n",
       "    <tr>\n",
       "      <th>67</th>\n",
       "      <td>RT @wdelbar: Las #MadresContraLaImpunidad se mantienen en las calles. ¡Vamos con todas, con todos, vamos con ellas! #ParoNacional #ParoNaci…</td>\n",
       "      <td>fav</td>\n",
       "      <td>0.93</td>\n",
       "    </tr>\n",
       "  </tbody>\n",
       "</table>\n",
       "</div>"
      ],
      "text/plain": [
       "                                                                                                                                                                                                                                                                                                  text  \\\n",
       "1245                                                                                          https://t.co/m0sRyIqyvR \\nAyúdeme reportando el perfil de esta #Pendeja, que tiene aires de superioridad, creyéndose mexicana e insultando a los manifestantes. #18DeMayo #ParoNacional #ColombiaResiste   \n",
       "1695                                                                                                                                                      RT @Cali24Horas: #Movilidad | @MiTerminalCali informó que únicamente hay despachos activos con destino a #Jamundí, #Santander de Quilichao,…   \n",
       "89                                                                  El uribista promedio cree que la gente de a pie es igual de tonta y arrodillada que él, que sale a marchar porque sus dirigentes le dicen. Por eso es que salen a buscar el culpable, el lider de las marchas y del #ParoNacional.   \n",
       "1168                                                                                                                                                                Quiere las vías libres, para ingresar armamento o pa putas #DuqueRenuncieYa #NoticiasCaracol #ParoNacional https://t.co/7EM7gO4Izz   \n",
       "1345                                                                                                       @rcnradio Primer vez en #Colombia que un #ParoNacional dura 21 días adornado con infames bloqueos y vandalismo! Duque permite la dictadura de bloqueos y vandalismo! #Duquedespierte @CNNEE   \n",
       "1312                                                                                                                                                            @Nessnio @IvanDuque Esta es polombia.                                                          #ParoNacional \\n#SOSColombiaEnDictadura   \n",
       "1666                                                                                   #URGENTE A esta hora se presentan detenciones arbitrarias por parte de la fuerza pública hacia manifestantes y la Primera línea de Portal Américas. \\n\\n#bogota #Colombia #paronacional https://t.co/GiTSgSE30S   \n",
       "1313                                                                                                                                                      RT @juanfelipedelg8: @VickyDavilaH Nadie la interesa la notícia de su muerte porque el fue un traidor del proceso de paz y decidió seguir e…   \n",
       "552   Y pretenden cocinar “acuerdos\" #YumboResiste\\n#ParoNacional18M #ParoAsesino #ParoNacionalColombia #ParoNacionalIndefinido #BogotaEnAlertaRoja #PopayanEsColombia #Cali #Medellin #Pereira #Bogota #Barranquilla #Valledupar #ValleDelCauca #Bucaramanga #Buga #siloecali https://t.co/zN7GljaMHn   \n",
       "67                                                                                                                                                        RT @wdelbar: Las #MadresContraLaImpunidad se mantienen en las calles. ¡Vamos con todas, con todos, vamos con ellas! #ParoNacional #ParoNaci…   \n",
       "\n",
       "     test  prob  \n",
       "1245  fav  1.00  \n",
       "1695  con  0.66  \n",
       "89    con  0.66  \n",
       "1168  fav  1.00  \n",
       "1345  fav  0.72  \n",
       "1312  fav  1.00  \n",
       "1666  fav  0.98  \n",
       "1313  fav  0.98  \n",
       "552   fav  1.00  \n",
       "67    fav  0.93  "
      ]
     },
     "execution_count": 53,
     "metadata": {},
     "output_type": "execute_result"
    }
   ],
   "source": [
    "dfp[['text','test','prob']].sample(10)"
   ]
  },
  {
   "cell_type": "code",
   "execution_count": 54,
   "metadata": {},
   "outputs": [
    {
     "data": {
      "text/plain": [
       "test\n",
       "con     256\n",
       "fav    1495\n",
       "neu       2\n",
       "Name: test, dtype: int64"
      ]
     },
     "execution_count": 54,
     "metadata": {},
     "output_type": "execute_result"
    }
   ],
   "source": [
    "dfp.groupby('test')['test'].count()"
   ]
  },
  {
   "cell_type": "markdown",
   "metadata": {},
   "source": [
    "Sin quitar RT"
   ]
  },
  {
   "cell_type": "code",
   "execution_count": 55,
   "metadata": {},
   "outputs": [
    {
     "data": {
      "text/plain": [
       "test\n",
       "con     592\n",
       "fav    4404\n",
       "neu       4\n",
       "Name: test, dtype: int64"
      ]
     },
     "execution_count": 55,
     "metadata": {},
     "output_type": "execute_result"
    }
   ],
   "source": [
    "df.groupby('test')['test'].count()"
   ]
  }
 ],
 "metadata": {
  "kernelspec": {
   "display_name": "Python 3 (ipykernel)",
   "language": "python",
   "name": "python3"
  },
  "language_info": {
   "codemirror_mode": {
    "name": "ipython",
    "version": 3
   },
   "file_extension": ".py",
   "mimetype": "text/x-python",
   "name": "python",
   "nbconvert_exporter": "python",
   "pygments_lexer": "ipython3",
   "version": "3.7.3"
  }
 },
 "nbformat": 4,
 "nbformat_minor": 4
}
