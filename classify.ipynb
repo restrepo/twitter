{
 "cells": [
  {
   "cell_type": "markdown",
   "metadata": {},
   "source": [
    "## Análisis de sentimientos de Twitter con Python\n",
    "* https://platzi.com/tutoriales/1874-python-lenguaje-natural/5654-realiza-un-analisis-de-sentimiento-en-3-pasos-con-python/\n",
    "    * Ejemplo https://twitter.com/whaleandjaguar_?lang=en\n",
    "* https://towardsdatascience.com/my-absolute-go-to-for-sentiment-analysis-textblob-3ac3a11d524\n",
    "* https://www.justintodata.com/twitter-sentiment-analysis-python/\n",
    "* https://www.pluralsight.com/guides/building-a-twitter-sentiment-analysis-in-python"
   ]
  },
  {
   "cell_type": "markdown",
   "metadata": {},
   "source": [
    "### 1) Descargar tweets"
   ]
  },
  {
   "cell_type": "code",
   "execution_count": 1,
   "metadata": {},
   "outputs": [
    {
     "name": "stdout",
     "output_type": "stream",
     "text": [
      "Populating the interactive namespace from numpy and matplotlib\n"
     ]
    }
   ],
   "source": [
    "%pylab inline"
   ]
  },
  {
   "cell_type": "code",
   "execution_count": 2,
   "metadata": {},
   "outputs": [],
   "source": [
    "import pandas as pd\n",
    "pd.set_option('display.max_colwidth',500)"
   ]
  },
  {
   "cell_type": "code",
   "execution_count": 31,
   "metadata": {},
   "outputs": [],
   "source": [
    "df=pd.read_json('https://raw.githubusercontent.com/restrepo/twitter/main/tweets_df.json')"
   ]
  },
  {
   "cell_type": "code",
   "execution_count": 32,
   "metadata": {},
   "outputs": [],
   "source": [
    "df=df.append(df1).reset_index(drop=True)"
   ]
  },
  {
   "cell_type": "code",
   "execution_count": 33,
   "metadata": {},
   "outputs": [
    {
     "data": {
      "text/plain": [
       "(10000, 10)"
      ]
     },
     "execution_count": 33,
     "metadata": {},
     "output_type": "execute_result"
    }
   ],
   "source": [
    "df.shape"
   ]
  },
  {
   "cell_type": "code",
   "execution_count": 35,
   "metadata": {},
   "outputs": [
    {
     "data": {
      "text/plain": [
       "(2384, 10)"
      ]
     },
     "execution_count": 35,
     "metadata": {},
     "output_type": "execute_result"
    }
   ],
   "source": [
    "df.drop_duplicates(subset='text').shape"
   ]
  },
  {
   "cell_type": "markdown",
   "metadata": {},
   "source": [
    "### Cree un nuevo clasificador\n",
    "Vamos \n",
    "https://textblob.readthedocs.io/en/dev/classifiers.html#classifiers"
   ]
  },
  {
   "cell_type": "markdown",
   "metadata": {},
   "source": [
    "* A favor del Paro → `'fav'`\n",
    "* En contra del Paro→ `'con'`\n",
    "* Informativo or neutro → `'neu'`\n",
    "* Spam → `'spa'`"
   ]
  },
  {
   "cell_type": "markdown",
   "metadata": {},
   "source": [
    "Para crear los conjutos de datos para training y para test debemos clasisificar un conjunto suficientemente grande de textos de tweets en las dos categorias en números similares para cada una de las dos categorias\n",
    "\n",
    "Crearemos un algoritmo que nos permite clasificar algunos tweets del DataFrame en una nueva columna `'label'`, la cual tendrá un valor nulo cuando el tweet no este clasificado. Una vez un tweet sea clasificado, se añadirá a una lista de similaridad y sólo se clasificarán nuevos tweets que no sean similares a los previamente clasificados.  Para ello se usará el método `extractOne` del módulo `process` de `fuzzywuzzy` con scorer `fuzz.ratio` basado en la distancia Levenshtein entre dos textos."
   ]
  },
  {
   "cell_type": "code",
   "execution_count": 5,
   "metadata": {},
   "outputs": [],
   "source": [
    "from fuzzywuzzy import process\n",
    "from fuzzywuzzy import  fuzz"
   ]
  },
  {
   "cell_type": "code",
   "execution_count": null,
   "metadata": {},
   "outputs": [],
   "source": [
    "n_train=100\n",
    "n_test=50\n",
    "n_traintest=n_train+n_test\n",
    "df['label']=None\n",
    "ii=0\n",
    "similarity=[]\n",
    "for i in df.index:\n",
    "    print(\"=\"*80)\n",
    "    tweet=df.loc[i,'text']\n",
    "    if similarity:\n",
    "        if process.extractOne(tweet,similarity,scorer=fuzz.ratio)[-1]<90:\n",
    "            similarity.append(tweet)\n",
    "            posneg=input(f\"{tweet}: https://twitter.com/twitter/status/{df.loc[i,'id']}\\n → f/c/n/s para 'a favor'/'en contra'/'neutro'/'spam' or <Enter> para continuar:\\n\")\n",
    "            if posneg=='c':\n",
    "                posneg='con'\n",
    "            elif posneg=='f':\n",
    "                posneg='fav'\n",
    "            elif posneg=='n':\n",
    "                posneg='neu'\n",
    "            elif posneg=='s':\n",
    "                posneg='spa'\n",
    "            else:\n",
    "                continue\n",
    "            df.loc[i,'label']=posneg\n",
    "            ii=ii+1\n",
    "    else:\n",
    "        similarity.append(tweet)\n",
    "\n",
    "    if ii==n_traintest:\n",
    "        break"
   ]
  },
  {
   "cell_type": "markdown",
   "metadata": {},
   "source": [
    "Select the train/test filtered DataFrame"
   ]
  },
  {
   "cell_type": "code",
   "execution_count": 7,
   "metadata": {},
   "outputs": [],
   "source": [
    "tmp=df[~df['label'].isna()].reset_index(drop=True)"
   ]
  },
  {
   "cell_type": "code",
   "execution_count": 8,
   "metadata": {},
   "outputs": [
    {
     "data": {
      "text/plain": [
       "(143, 11)"
      ]
     },
     "execution_count": 8,
     "metadata": {},
     "output_type": "execute_result"
    }
   ],
   "source": [
    "tmp.shape"
   ]
  },
  {
   "cell_type": "code",
   "execution_count": 9,
   "metadata": {},
   "outputs": [
    {
     "data": {
      "text/html": [
       "<div>\n",
       "<style scoped>\n",
       "    .dataframe tbody tr th:only-of-type {\n",
       "        vertical-align: middle;\n",
       "    }\n",
       "\n",
       "    .dataframe tbody tr th {\n",
       "        vertical-align: top;\n",
       "    }\n",
       "\n",
       "    .dataframe thead th {\n",
       "        text-align: right;\n",
       "    }\n",
       "</style>\n",
       "<table border=\"1\" class=\"dataframe\">\n",
       "  <thead>\n",
       "    <tr style=\"text-align: right;\">\n",
       "      <th></th>\n",
       "      <th>user_name</th>\n",
       "      <th>user_location</th>\n",
       "      <th>user_description</th>\n",
       "      <th>user_verified</th>\n",
       "      <th>date</th>\n",
       "      <th>text</th>\n",
       "      <th>hashtags</th>\n",
       "      <th>source</th>\n",
       "      <th>id</th>\n",
       "      <th>original_id</th>\n",
       "      <th>label</th>\n",
       "    </tr>\n",
       "  </thead>\n",
       "  <tbody>\n",
       "    <tr>\n",
       "      <th>0</th>\n",
       "      <td>Sandra Suarez - opiniones personales</td>\n",
       "      <td></td>\n",
       "      <td></td>\n",
       "      <td>False</td>\n",
       "      <td>2021-05-22 10:16:48</td>\n",
       "      <td>RT @CapitnColombia: Por su presente, por su futuro, Construiremos un nuevo país. PRIMERA LINEA Y CAPITAN COLOMBIA!. \\n[ 📸Diego Cortes ]\\n#par…</td>\n",
       "      <td>None</td>\n",
       "      <td>Twitter for Android</td>\n",
       "      <td>1396047383784529920</td>\n",
       "      <td>1.395886e+18</td>\n",
       "      <td>fav</td>\n",
       "    </tr>\n",
       "    <tr>\n",
       "      <th>1</th>\n",
       "      <td>@marioperico4</td>\n",
       "      <td></td>\n",
       "      <td>abajotwitter</td>\n",
       "      <td>False</td>\n",
       "      <td>2021-05-22 10:16:41</td>\n",
       "      <td>RT @martinquinco: @jflafaurie @UNPColombia Desbloqueo de vías ya!\\n#NoMasParo \\n#NoMasBloqueos \\n#YoApoyoALaFuerzaPublica</td>\n",
       "      <td>[NoMasParo, NoMasBloqueos, YoApoyoALaFuerzaPublica]</td>\n",
       "      <td>Twitter for Android</td>\n",
       "      <td>1396047356123041792</td>\n",
       "      <td>1.395756e+18</td>\n",
       "      <td>con</td>\n",
       "    </tr>\n",
       "    <tr>\n",
       "      <th>2</th>\n",
       "      <td>Mauro Gabriel Escalona Quiroz</td>\n",
       "      <td></td>\n",
       "      <td>Antiuribista 100% y 24/7, por que Colombia merece vivir en paz. Venceremos al tirano!!</td>\n",
       "      <td>False</td>\n",
       "      <td>2021-05-22 10:16:36</td>\n",
       "      <td>RT @Contagioradio1: #Bogotá Chicos de la guardia comunitaria primera línea en el portal de la resistencia protegiendo a la comunidad #ParoN…</td>\n",
       "      <td>[Bogotá]</td>\n",
       "      <td>Twitter for Android</td>\n",
       "      <td>1396047336439259136</td>\n",
       "      <td>1.395937e+18</td>\n",
       "      <td>fav</td>\n",
       "    </tr>\n",
       "  </tbody>\n",
       "</table>\n",
       "</div>"
      ],
      "text/plain": [
       "                              user_name user_location  \\\n",
       "0  Sandra Suarez - opiniones personales                 \n",
       "1                         @marioperico4                 \n",
       "2         Mauro Gabriel Escalona Quiroz                 \n",
       "\n",
       "                                                                         user_description  \\\n",
       "0                                                                                           \n",
       "1                                                                            abajotwitter   \n",
       "2  Antiuribista 100% y 24/7, por que Colombia merece vivir en paz. Venceremos al tirano!!   \n",
       "\n",
       "   user_verified                date  \\\n",
       "0          False 2021-05-22 10:16:48   \n",
       "1          False 2021-05-22 10:16:41   \n",
       "2          False 2021-05-22 10:16:36   \n",
       "\n",
       "                                                                                                                                             text  \\\n",
       "0  RT @CapitnColombia: Por su presente, por su futuro, Construiremos un nuevo país. PRIMERA LINEA Y CAPITAN COLOMBIA!. \\n[ 📸Diego Cortes ]\\n#par…   \n",
       "1                       RT @martinquinco: @jflafaurie @UNPColombia Desbloqueo de vías ya!\\n#NoMasParo \\n#NoMasBloqueos \\n#YoApoyoALaFuerzaPublica   \n",
       "2    RT @Contagioradio1: #Bogotá Chicos de la guardia comunitaria primera línea en el portal de la resistencia protegiendo a la comunidad #ParoN…   \n",
       "\n",
       "                                              hashtags               source  \\\n",
       "0                                                 None  Twitter for Android   \n",
       "1  [NoMasParo, NoMasBloqueos, YoApoyoALaFuerzaPublica]  Twitter for Android   \n",
       "2                                             [Bogotá]  Twitter for Android   \n",
       "\n",
       "                    id   original_id label  \n",
       "0  1396047383784529920  1.395886e+18   fav  \n",
       "1  1396047356123041792  1.395756e+18   con  \n",
       "2  1396047336439259136  1.395937e+18   fav  "
      ]
     },
     "execution_count": 9,
     "metadata": {},
     "output_type": "execute_result"
    }
   ],
   "source": [
    "tmp[:3]"
   ]
  },
  {
   "cell_type": "code",
   "execution_count": 10,
   "metadata": {},
   "outputs": [
    {
     "data": {
      "text/plain": [
       "(143, 11)"
      ]
     },
     "execution_count": 10,
     "metadata": {},
     "output_type": "execute_result"
    }
   ],
   "source": [
    "tmp.shape"
   ]
  },
  {
   "cell_type": "code",
   "execution_count": 11,
   "metadata": {},
   "outputs": [],
   "source": [
    "train=tmp[:n_train][['text','label']].reset_index(drop=True)"
   ]
  },
  {
   "cell_type": "code",
   "execution_count": 12,
   "metadata": {},
   "outputs": [],
   "source": [
    "from textblob.classifiers import NaiveBayesClassifier"
   ]
  },
  {
   "cell_type": "code",
   "execution_count": 13,
   "metadata": {},
   "outputs": [
    {
     "name": "stderr",
     "output_type": "stream",
     "text": [
      "[nltk_data] Downloading package punkt to /home/restrepo/nltk_data...\n",
      "[nltk_data]   Package punkt is already up-to-date!\n"
     ]
    },
    {
     "data": {
      "text/plain": [
       "True"
      ]
     },
     "execution_count": 13,
     "metadata": {},
     "output_type": "execute_result"
    }
   ],
   "source": [
    "import nltk\n",
    "nltk.download('punkt')  "
   ]
  },
  {
   "cell_type": "code",
   "execution_count": 14,
   "metadata": {},
   "outputs": [],
   "source": [
    "cl = NaiveBayesClassifier(  \n",
    "    [ (d.get('text'),d.get('label')) for d in train.to_dict(orient='records')]  )"
   ]
  },
  {
   "cell_type": "code",
   "execution_count": 15,
   "metadata": {},
   "outputs": [],
   "source": [
    "test=tmp[n_train:][['text','label']].reset_index(drop=True)"
   ]
  },
  {
   "cell_type": "code",
   "execution_count": 24,
   "metadata": {},
   "outputs": [],
   "source": [
    "train.to_json('train.json',orient='records')\n",
    "test.to_json('train.json',orient='records')"
   ]
  },
  {
   "cell_type": "code",
   "execution_count": 16,
   "metadata": {},
   "outputs": [],
   "source": [
    "fulltest=test.copy()\n",
    "fulltest['test']=fulltest['text'].apply(cl.classify)"
   ]
  },
  {
   "cell_type": "code",
   "execution_count": 18,
   "metadata": {},
   "outputs": [
    {
     "data": {
      "text/html": [
       "<div>\n",
       "<style scoped>\n",
       "    .dataframe tbody tr th:only-of-type {\n",
       "        vertical-align: middle;\n",
       "    }\n",
       "\n",
       "    .dataframe tbody tr th {\n",
       "        vertical-align: top;\n",
       "    }\n",
       "\n",
       "    .dataframe thead th {\n",
       "        text-align: right;\n",
       "    }\n",
       "</style>\n",
       "<table border=\"1\" class=\"dataframe\">\n",
       "  <thead>\n",
       "    <tr style=\"text-align: right;\">\n",
       "      <th></th>\n",
       "      <th>text</th>\n",
       "      <th>label</th>\n",
       "      <th>test</th>\n",
       "    </tr>\n",
       "  </thead>\n",
       "  <tbody>\n",
       "    <tr>\n",
       "      <th>0</th>\n",
       "      <td>Grupo de WhatsApp: cambio y ventas de cuentas frefire COMPRAR Y VENDER CUENTAS DE FREFIRE... | #Cali #Amigos cali #Amigas cali #Amistad cali #Conocer gente cali #Gamers #Games #Videojuegos #Juegos #Jugadores #Gaming #Juegos online #Jugar online #Ps4 #P... https://t.co/GPwjZ42dW7</td>\n",
       "      <td>spa</td>\n",
       "      <td>con</td>\n",
       "    </tr>\n",
       "    <tr>\n",
       "      <th>1</th>\n",
       "      <td>RT @FRANCISCOLEALM: Bueno, ya‼️\\nTodo esto era un paro‼️\\nYa‼️ no más... \\n#ParoNacional21M #NoMasParo #CIDHEnColombia #BloqueoMental \\n@gusgom…</td>\n",
       "      <td>con</td>\n",
       "      <td>con</td>\n",
       "    </tr>\n",
       "    <tr>\n",
       "      <th>2</th>\n",
       "      <td>RT @Elolfato: #ParoNacional | \"Hay infiltrados que aprovechan las manifestaciones para cometer actos delictivos\": CGT\\n\\n@CGTCol \\n\\nMás detall…</td>\n",
       "      <td>con</td>\n",
       "      <td>con</td>\n",
       "    </tr>\n",
       "  </tbody>\n",
       "</table>\n",
       "</div>"
      ],
      "text/plain": [
       "                                                                                                                                                                                                                                                                                      text  \\\n",
       "0  Grupo de WhatsApp: cambio y ventas de cuentas frefire COMPRAR Y VENDER CUENTAS DE FREFIRE... | #Cali #Amigos cali #Amigas cali #Amistad cali #Conocer gente cali #Gamers #Games #Videojuegos #Juegos #Jugadores #Gaming #Juegos online #Jugar online #Ps4 #P... https://t.co/GPwjZ42dW7   \n",
       "1                                                                                                                                         RT @FRANCISCOLEALM: Bueno, ya‼️\\nTodo esto era un paro‼️\\nYa‼️ no más... \\n#ParoNacional21M #NoMasParo #CIDHEnColombia #BloqueoMental \\n@gusgom…   \n",
       "2                                                                                                                                         RT @Elolfato: #ParoNacional | \"Hay infiltrados que aprovechan las manifestaciones para cometer actos delictivos\": CGT\\n\\n@CGTCol \\n\\nMás detall…   \n",
       "\n",
       "  label test  \n",
       "0   spa  con  \n",
       "1   con  con  \n",
       "2   con  con  "
      ]
     },
     "execution_count": 18,
     "metadata": {},
     "output_type": "execute_result"
    }
   ],
   "source": [
    "fulltest[['text','label','test']][:3]"
   ]
  },
  {
   "cell_type": "code",
   "execution_count": 19,
   "metadata": {},
   "outputs": [
    {
     "data": {
      "text/plain": [
       "0.7441860465116279"
      ]
     },
     "execution_count": 19,
     "metadata": {},
     "output_type": "execute_result"
    }
   ],
   "source": [
    "cl.accuracy( [ (d.get('text'),d.get('label')) for d in test.to_dict(orient='records')] )"
   ]
  },
  {
   "cell_type": "code",
   "execution_count": 20,
   "metadata": {},
   "outputs": [],
   "source": [
    "fulltest['prob']=fulltest['text'].apply(lambda t:   \n",
    "                                cl.prob_classify( t ).prob(   cl.classify( t  )  ) ).round(2)"
   ]
  },
  {
   "cell_type": "code",
   "execution_count": 22,
   "metadata": {},
   "outputs": [
    {
     "data": {
      "text/html": [
       "<div>\n",
       "<style scoped>\n",
       "    .dataframe tbody tr th:only-of-type {\n",
       "        vertical-align: middle;\n",
       "    }\n",
       "\n",
       "    .dataframe tbody tr th {\n",
       "        vertical-align: top;\n",
       "    }\n",
       "\n",
       "    .dataframe thead th {\n",
       "        text-align: right;\n",
       "    }\n",
       "</style>\n",
       "<table border=\"1\" class=\"dataframe\">\n",
       "  <thead>\n",
       "    <tr style=\"text-align: right;\">\n",
       "      <th></th>\n",
       "      <th>text</th>\n",
       "      <th>label</th>\n",
       "      <th>test</th>\n",
       "      <th>prob</th>\n",
       "    </tr>\n",
       "  </thead>\n",
       "  <tbody>\n",
       "    <tr>\n",
       "      <th>0</th>\n",
       "      <td>Grupo de WhatsApp: cambio y ventas de cuentas frefire COMPRAR Y VENDER CUENTAS DE FREFIRE... | #Cali #Amigos cali #Amigas cali #Amistad cali #Conocer gente cali #Gamers #Games #Videojuegos #Juegos #Jugadores #Gaming #Juegos online #Jugar online #Ps4 #P... https://t.co/GPwjZ42dW7</td>\n",
       "      <td>spa</td>\n",
       "      <td>con</td>\n",
       "      <td>0.91</td>\n",
       "    </tr>\n",
       "    <tr>\n",
       "      <th>1</th>\n",
       "      <td>RT @FRANCISCOLEALM: Bueno, ya‼️\\nTodo esto era un paro‼️\\nYa‼️ no más... \\n#ParoNacional21M #NoMasParo #CIDHEnColombia #BloqueoMental \\n@gusgom…</td>\n",
       "      <td>con</td>\n",
       "      <td>con</td>\n",
       "      <td>0.98</td>\n",
       "    </tr>\n",
       "    <tr>\n",
       "      <th>2</th>\n",
       "      <td>RT @Elolfato: #ParoNacional | \"Hay infiltrados que aprovechan las manifestaciones para cometer actos delictivos\": CGT\\n\\n@CGTCol \\n\\nMás detall…</td>\n",
       "      <td>con</td>\n",
       "      <td>con</td>\n",
       "      <td>0.96</td>\n",
       "    </tr>\n",
       "  </tbody>\n",
       "</table>\n",
       "</div>"
      ],
      "text/plain": [
       "                                                                                                                                                                                                                                                                                      text  \\\n",
       "0  Grupo de WhatsApp: cambio y ventas de cuentas frefire COMPRAR Y VENDER CUENTAS DE FREFIRE... | #Cali #Amigos cali #Amigas cali #Amistad cali #Conocer gente cali #Gamers #Games #Videojuegos #Juegos #Jugadores #Gaming #Juegos online #Jugar online #Ps4 #P... https://t.co/GPwjZ42dW7   \n",
       "1                                                                                                                                         RT @FRANCISCOLEALM: Bueno, ya‼️\\nTodo esto era un paro‼️\\nYa‼️ no más... \\n#ParoNacional21M #NoMasParo #CIDHEnColombia #BloqueoMental \\n@gusgom…   \n",
       "2                                                                                                                                         RT @Elolfato: #ParoNacional | \"Hay infiltrados que aprovechan las manifestaciones para cometer actos delictivos\": CGT\\n\\n@CGTCol \\n\\nMás detall…   \n",
       "\n",
       "  label test  prob  \n",
       "0   spa  con  0.91  \n",
       "1   con  con  0.98  \n",
       "2   con  con  0.96  "
      ]
     },
     "execution_count": 22,
     "metadata": {},
     "output_type": "execute_result"
    }
   ],
   "source": [
    "fulltest[:3]"
   ]
  },
  {
   "cell_type": "markdown",
   "metadata": {},
   "source": [
    "Aplicar al DataFrame Completo"
   ]
  },
  {
   "cell_type": "code",
   "execution_count": 36,
   "metadata": {},
   "outputs": [],
   "source": [
    "df['test']=df['text'].apply(cl.classify)\n",
    "df['prob']=df['text'].apply(lambda t:   \n",
    "                                cl.prob_classify( t ).prob(   cl.classify( t  )  ) ).round(2)"
   ]
  },
  {
   "cell_type": "code",
   "execution_count": 37,
   "metadata": {},
   "outputs": [],
   "source": [
    "dfp=df.drop_duplicates('text').reset_index(drop=True)"
   ]
  },
  {
   "cell_type": "code",
   "execution_count": 38,
   "metadata": {},
   "outputs": [
    {
     "data": {
      "text/html": [
       "<div>\n",
       "<style scoped>\n",
       "    .dataframe tbody tr th:only-of-type {\n",
       "        vertical-align: middle;\n",
       "    }\n",
       "\n",
       "    .dataframe tbody tr th {\n",
       "        vertical-align: top;\n",
       "    }\n",
       "\n",
       "    .dataframe thead th {\n",
       "        text-align: right;\n",
       "    }\n",
       "</style>\n",
       "<table border=\"1\" class=\"dataframe\">\n",
       "  <thead>\n",
       "    <tr style=\"text-align: right;\">\n",
       "      <th></th>\n",
       "      <th>text</th>\n",
       "      <th>test</th>\n",
       "      <th>prob</th>\n",
       "    </tr>\n",
       "  </thead>\n",
       "  <tbody>\n",
       "    <tr>\n",
       "      <th>1408</th>\n",
       "      <td>#ParoNacional\\n#1deMayo\\n#EsmadAsesinos\\n#ReformaTributaria\\n#ParoNacional1M\\n#DuquePareLaViolencia\\n#Bogota\\n#UribeDioLaOrden\\n#SOSColombiaDDHH\\n#ATENCION\\n#DDHH\\n Bogotá, Colombia. Paro Nacional - Asamblea informativa de maestros I.E.D... https://t.co/mQalO9k2xQ a través de @YouTube</td>\n",
       "      <td>fav</td>\n",
       "      <td>0.65</td>\n",
       "    </tr>\n",
       "    <tr>\n",
       "      <th>689</th>\n",
       "      <td>RT @teleSURtv: #Colombia 🇨🇴 | Ciudadanos denunciaron este martes que el #Esmad de la Policía reprimió la noche del lunes a las personas que…</td>\n",
       "      <td>fav</td>\n",
       "      <td>0.59</td>\n",
       "    </tr>\n",
       "    <tr>\n",
       "      <th>1954</th>\n",
       "      <td>@IvanCepedaCast El derecho a la protesta entierra los demás derechos ciudadanos en #Colombia! El pueblo es sometido por la dictadura de bloqueos y vandalismo! #UribeTieneLaRazon #PetroNuncaSeraPresidente #PetroSeHaceODIAR</td>\n",
       "      <td>fav</td>\n",
       "      <td>0.80</td>\n",
       "    </tr>\n",
       "    <tr>\n",
       "      <th>1157</th>\n",
       "      <td>#Buenaventura #BuenaventuraResiste #SOSBuenaventura \\nEXPLOSIÓN PETARDOS \\nRESISTENCIA \\n#UribeDioLaOrden #ElParoNOPara\\n #ColombiaResiste #ColombiaSOS  #SOSOCOLOMBIA #PrimeraLinea #GraciasPrimeraLinea #SOSColombiaDDDHH #ParoNacional17M  #ParoNacional https://t.co/3AA00H1OVk</td>\n",
       "      <td>con</td>\n",
       "      <td>0.65</td>\n",
       "    </tr>\n",
       "    <tr>\n",
       "      <th>71</th>\n",
       "      <td>RT @MafeCarrascal: ¿Y mañana sábado?¿Monumento a Los Héroes en Bogotá? #ParoNacional</td>\n",
       "      <td>con</td>\n",
       "      <td>0.93</td>\n",
       "    </tr>\n",
       "    <tr>\n",
       "      <th>2255</th>\n",
       "      <td>@petrogustavo #NoMasParo #PetroEsUnHampon #PETRO DESTRUYE A COLOMBIA https://t.co/dpc2tZCder</td>\n",
       "      <td>con</td>\n",
       "      <td>1.00</td>\n",
       "    </tr>\n",
       "    <tr>\n",
       "      <th>1678</th>\n",
       "      <td>TRAIGA MENOR QUE SE LLEVARON AYER \\nPIDA PERDON X LAS VIOLACIONES A LA MUJER \\n#PortalAmericas RESISTE SIN NEGOCIACIONES #Colombia #Bogotá #bogotáenalertaroja #BogotáResiste\\n#PrimeraLinea #GraciasPrimeraLinea #ParoNacional18M  #ParoNacional18M #ParoNacional #ElParoNOPara https://t.co/4BR1i4KYAa</td>\n",
       "      <td>con</td>\n",
       "      <td>0.83</td>\n",
       "    </tr>\n",
       "    <tr>\n",
       "      <th>514</th>\n",
       "      <td>#Rusia rechaza declaraciones del Ministro de Defensa, Diego Molano de #Colombia, quien aseguró que, en un ejercicio de ciberseguridad, durante las protestas han salido 102 noticias falsas para desacreditar a la policía. #ParoNacional\\n\\nhttps://t.co/1S3fAuOnOi</td>\n",
       "      <td>fav</td>\n",
       "      <td>0.99</td>\n",
       "    </tr>\n",
       "    <tr>\n",
       "      <th>1701</th>\n",
       "      <td>Se me acaban las esperanzas... #NoMasParo #NoMasBloqueos #Rechazo #VandalismoPuroYDuro https://t.co/QCvB3o61Ar</td>\n",
       "      <td>con</td>\n",
       "      <td>1.00</td>\n",
       "    </tr>\n",
       "    <tr>\n",
       "      <th>104</th>\n",
       "      <td>RT @CesarJerezM: Esta mañana fue encontrada la cabeza de un muchacho en un contenedor de basura del Colegio Alfonso López,  cerca al @almac…</td>\n",
       "      <td>fav</td>\n",
       "      <td>0.97</td>\n",
       "    </tr>\n",
       "  </tbody>\n",
       "</table>\n",
       "</div>"
      ],
      "text/plain": [
       "                                                                                                                                                                                                                                                                                                          text  \\\n",
       "1408             #ParoNacional\\n#1deMayo\\n#EsmadAsesinos\\n#ReformaTributaria\\n#ParoNacional1M\\n#DuquePareLaViolencia\\n#Bogota\\n#UribeDioLaOrden\\n#SOSColombiaDDHH\\n#ATENCION\\n#DDHH\\n Bogotá, Colombia. Paro Nacional - Asamblea informativa de maestros I.E.D... https://t.co/mQalO9k2xQ a través de @YouTube   \n",
       "689                                                                                                                                                               RT @teleSURtv: #Colombia 🇨🇴 | Ciudadanos denunciaron este martes que el #Esmad de la Policía reprimió la noche del lunes a las personas que…   \n",
       "1954                                                                             @IvanCepedaCast El derecho a la protesta entierra los demás derechos ciudadanos en #Colombia! El pueblo es sometido por la dictadura de bloqueos y vandalismo! #UribeTieneLaRazon #PetroNuncaSeraPresidente #PetroSeHaceODIAR   \n",
       "1157                       #Buenaventura #BuenaventuraResiste #SOSBuenaventura \\nEXPLOSIÓN PETARDOS \\nRESISTENCIA \\n#UribeDioLaOrden #ElParoNOPara\\n #ColombiaResiste #ColombiaSOS  #SOSOCOLOMBIA #PrimeraLinea #GraciasPrimeraLinea #SOSColombiaDDDHH #ParoNacional17M  #ParoNacional https://t.co/3AA00H1OVk   \n",
       "71                                                                                                                                                                                                                        RT @MafeCarrascal: ¿Y mañana sábado?¿Monumento a Los Héroes en Bogotá? #ParoNacional   \n",
       "2255                                                                                                                                                                                                              @petrogustavo #NoMasParo #PetroEsUnHampon #PETRO DESTRUYE A COLOMBIA https://t.co/dpc2tZCder   \n",
       "1678  TRAIGA MENOR QUE SE LLEVARON AYER \\nPIDA PERDON X LAS VIOLACIONES A LA MUJER \\n#PortalAmericas RESISTE SIN NEGOCIACIONES #Colombia #Bogotá #bogotáenalertaroja #BogotáResiste\\n#PrimeraLinea #GraciasPrimeraLinea #ParoNacional18M  #ParoNacional18M #ParoNacional #ElParoNOPara https://t.co/4BR1i4KYAa   \n",
       "514                                       #Rusia rechaza declaraciones del Ministro de Defensa, Diego Molano de #Colombia, quien aseguró que, en un ejercicio de ciberseguridad, durante las protestas han salido 102 noticias falsas para desacreditar a la policía. #ParoNacional\\n\\nhttps://t.co/1S3fAuOnOi   \n",
       "1701                                                                                                                                                                                            Se me acaban las esperanzas... #NoMasParo #NoMasBloqueos #Rechazo #VandalismoPuroYDuro https://t.co/QCvB3o61Ar   \n",
       "104                                                                                                                                                               RT @CesarJerezM: Esta mañana fue encontrada la cabeza de un muchacho en un contenedor de basura del Colegio Alfonso López,  cerca al @almac…   \n",
       "\n",
       "     test  prob  \n",
       "1408  fav  0.65  \n",
       "689   fav  0.59  \n",
       "1954  fav  0.80  \n",
       "1157  con  0.65  \n",
       "71    con  0.93  \n",
       "2255  con  1.00  \n",
       "1678  con  0.83  \n",
       "514   fav  0.99  \n",
       "1701  con  1.00  \n",
       "104   fav  0.97  "
      ]
     },
     "execution_count": 38,
     "metadata": {},
     "output_type": "execute_result"
    }
   ],
   "source": [
    "dfp[['text','test','prob']].sample(10)"
   ]
  },
  {
   "cell_type": "code",
   "execution_count": 39,
   "metadata": {},
   "outputs": [
    {
     "data": {
      "text/plain": [
       "test\n",
       "con    1193\n",
       "fav    1191\n",
       "Name: test, dtype: int64"
      ]
     },
     "execution_count": 39,
     "metadata": {},
     "output_type": "execute_result"
    }
   ],
   "source": [
    "dfp.groupby('test')['test'].count()"
   ]
  },
  {
   "cell_type": "markdown",
   "metadata": {},
   "source": [
    "Sin quitar RT"
   ]
  },
  {
   "cell_type": "code",
   "execution_count": 40,
   "metadata": {},
   "outputs": [
    {
     "data": {
      "text/plain": [
       "test\n",
       "con    4008\n",
       "fav    5992\n",
       "Name: test, dtype: int64"
      ]
     },
     "execution_count": 40,
     "metadata": {},
     "output_type": "execute_result"
    }
   ],
   "source": [
    "df.groupby('test')['test'].count()"
   ]
  },
  {
   "cell_type": "code",
   "execution_count": null,
   "metadata": {},
   "outputs": [],
   "source": []
  }
 ],
 "metadata": {
  "kernelspec": {
   "display_name": "Python 3 (ipykernel)",
   "language": "python",
   "name": "python3"
  },
  "language_info": {
   "codemirror_mode": {
    "name": "ipython",
    "version": 3
   },
   "file_extension": ".py",
   "mimetype": "text/x-python",
   "name": "python",
   "nbconvert_exporter": "python",
   "pygments_lexer": "ipython3",
   "version": "3.7.3"
  }
 },
 "nbformat": 4,
 "nbformat_minor": 4
}
