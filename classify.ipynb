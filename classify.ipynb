{
 "cells": [
  {
   "cell_type": "markdown",
   "metadata": {
    "colab_type": "text",
    "id": "view-in-github"
   },
   "source": [
    "<a href=\"https://colab.research.google.com/github/restrepo/twitter/blob/main/classify.ipynb\" target=\"_parent\"><img src=\"https://colab.research.google.com/assets/colab-badge.svg\" alt=\"Open In Colab\"/></a>"
   ]
  },
  {
   "cell_type": "markdown",
   "metadata": {
    "id": "aJeZy9aInOrh"
   },
   "source": [
    "## Análisis de sentimientos de Twitter con Python\n",
    "* https://platzi.com/tutoriales/1874-python-lenguaje-natural/5654-realiza-un-analisis-de-sentimiento-en-3-pasos-con-python/\n",
    "    * Ejemplo https://twitter.com/whaleandjaguar_?lang=en\n",
    "* https://towardsdatascience.com/my-absolute-go-to-for-sentiment-analysis-textblob-3ac3a11d524\n",
    "* https://www.justintodata.com/twitter-sentiment-analysis-python/\n",
    "* https://www.pluralsight.com/guides/building-a-twitter-sentiment-analysis-in-python"
   ]
  },
  {
   "cell_type": "markdown",
   "metadata": {
    "id": "q0zeBLRCnOrl"
   },
   "source": [
    "### 1) Descargar tweets"
   ]
  },
  {
   "cell_type": "code",
   "execution_count": 1,
   "metadata": {
    "colab": {
     "base_uri": "https://localhost:8080/"
    },
    "id": "HjrvYNY1nOrm",
    "outputId": "dcb706bb-e1b9-4c61-c9fe-a88e16938edb"
   },
   "outputs": [
    {
     "name": "stdout",
     "output_type": "stream",
     "text": [
      "Populating the interactive namespace from numpy and matplotlib\n"
     ]
    }
   ],
   "source": [
    "%pylab inline"
   ]
  },
  {
   "cell_type": "code",
   "execution_count": 110,
   "metadata": {
    "id": "Pq9HCPJ9nOrp"
   },
   "outputs": [],
   "source": [
    "import pandas as pd\n",
    "pd.set_option('display.max_colwidth',500)"
   ]
  },
  {
   "cell_type": "code",
   "execution_count": 105,
   "metadata": {
    "id": "ZzOFFiEPnOrq"
   },
   "outputs": [],
   "source": [
    "df=pd.read_json('https://raw.githubusercontent.com/restrepo/twitter/main/tweets_df.json')"
   ]
  },
  {
   "cell_type": "code",
   "execution_count": 106,
   "metadata": {
    "colab": {
     "base_uri": "https://localhost:8080/"
    },
    "id": "SxAwoaUxnOrq",
    "outputId": "f777040a-a20b-4e57-bc04-c5c2c5351e57"
   },
   "outputs": [
    {
     "data": {
      "text/plain": [
       "(5000, 10)"
      ]
     },
     "execution_count": 106,
     "metadata": {},
     "output_type": "execute_result"
    }
   ],
   "source": [
    "df.shape"
   ]
  },
  {
   "cell_type": "code",
   "execution_count": null,
   "metadata": {
    "id": "rfJ3GrBinOrr",
    "outputId": "28ab882f-4d62-4436-ec95-b3e99d5ee512"
   },
   "outputs": [
    {
     "data": {
      "text/plain": [
       "(2384, 10)"
      ]
     },
     "execution_count": 35,
     "metadata": {
      "tags": []
     },
     "output_type": "execute_result"
    }
   ],
   "source": [
    "df.drop_duplicates(subset='text').shape"
   ]
  },
  {
   "cell_type": "markdown",
   "metadata": {
    "id": "4zCd-HT8nOrs"
   },
   "source": [
    "### Cree un nuevo clasificador\n",
    "Vamos \n",
    "https://textblob.readthedocs.io/en/dev/classifiers.html#classifiers"
   ]
  },
  {
   "cell_type": "markdown",
   "metadata": {
    "id": "Q8Suy60RnOrt"
   },
   "source": [
    "* A favor del Paro → `'fav'`\n",
    "* En contra del Paro→ `'con'`\n",
    "* Informativo or neutro → `'neu'`\n",
    "* Spam → `'spa'`"
   ]
  },
  {
   "cell_type": "markdown",
   "metadata": {
    "id": "gCEt993cnOru"
   },
   "source": [
    "Para crear los conjutos de datos para training y para test debemos clasisificar un conjunto suficientemente grande de textos de tweets en las dos categorias en números similares para cada una de las dos categorias\n",
    "\n",
    "Crearemos un algoritmo que nos permite clasificar algunos tweets del DataFrame en una nueva columna `'label'`, la cual tendrá un valor nulo cuando el tweet no este clasificado. Una vez un tweet sea clasificado, se añadirá a una lista de similaridad y sólo se clasificarán nuevos tweets que no sean similares a los previamente clasificados.  Para ello se usará el método `extractOne` del módulo `process` de `fuzzywuzzy` con scorer `fuzz.ratio` basado en la distancia Levenshtein entre dos textos."
   ]
  },
  {
   "cell_type": "code",
   "execution_count": null,
   "metadata": {
    "id": "IhwC5J1RnOrv"
   },
   "outputs": [],
   "source": [
    "from fuzzywuzzy import process\n",
    "from fuzzywuzzy import  fuzz"
   ]
  },
  {
   "cell_type": "code",
   "execution_count": null,
   "metadata": {
    "id": "GlrqiuTRnOrw"
   },
   "outputs": [],
   "source": [
    "n_train=50\n",
    "n_test=75\n",
    "n_traintest=n_train+n_test\n",
    "df['label']=None\n",
    "ii=0\n",
    "similarity=[]\n",
    "df=df.sample(df.shape[0])\n",
    "for i in df.index:\n",
    "    print(\"=\"*80)\n",
    "    tweet=df.loc[i,'text']\n",
    "    if similarity:\n",
    "        if process.extractOne(tweet,similarity,scorer=fuzz.ratio)[-1]<90:\n",
    "            similarity.append(tweet)\n",
    "            posneg=input(f\"{tweet}: https://twitter.com/twitter/status/{df.loc[i,'id']}\\n → f/c/n/s para 'a favor'/'en contra'/'neutro'/'spam' or <Enter> para continuar:\\n\")\n",
    "            if posneg=='c':\n",
    "                posneg='con'\n",
    "            elif posneg=='f':\n",
    "                posneg='fav'\n",
    "            elif posneg=='n':\n",
    "                posneg='neu'\n",
    "            elif posneg=='s':\n",
    "                posneg='spa'\n",
    "            else:\n",
    "                continue\n",
    "            df.loc[i,'label']=posneg\n",
    "            ii=ii+1\n",
    "    else:\n",
    "        similarity.append(tweet)\n",
    "\n",
    "    if ii==n_traintest:\n",
    "        break"
   ]
  },
  {
   "cell_type": "markdown",
   "metadata": {
    "id": "uFPFVyTWnOrx"
   },
   "source": [
    "Select the train/test filtered DataFrame"
   ]
  },
  {
   "cell_type": "code",
   "execution_count": null,
   "metadata": {
    "id": "X0a4h1m0nOrx"
   },
   "outputs": [],
   "source": [
    "tmp=df[~df['label'].isna()].reset_index(drop=True)"
   ]
  },
  {
   "cell_type": "code",
   "execution_count": null,
   "metadata": {
    "id": "d1HEE0KdnOrx",
    "outputId": "9b1c875b-a086-436f-d42f-56c88b38bfc7"
   },
   "outputs": [
    {
     "data": {
      "text/plain": [
       "(143, 11)"
      ]
     },
     "execution_count": 8,
     "metadata": {
      "tags": []
     },
     "output_type": "execute_result"
    }
   ],
   "source": [
    "tmp.shape"
   ]
  },
  {
   "cell_type": "code",
   "execution_count": null,
   "metadata": {
    "id": "LWu6PnBfnOry",
    "outputId": "c1c24621-2131-4e35-d154-83095fac0309"
   },
   "outputs": [
    {
     "data": {
      "text/html": [
       "<div>\n",
       "<style scoped>\n",
       "    .dataframe tbody tr th:only-of-type {\n",
       "        vertical-align: middle;\n",
       "    }\n",
       "\n",
       "    .dataframe tbody tr th {\n",
       "        vertical-align: top;\n",
       "    }\n",
       "\n",
       "    .dataframe thead th {\n",
       "        text-align: right;\n",
       "    }\n",
       "</style>\n",
       "<table border=\"1\" class=\"dataframe\">\n",
       "  <thead>\n",
       "    <tr style=\"text-align: right;\">\n",
       "      <th></th>\n",
       "      <th>user_name</th>\n",
       "      <th>user_location</th>\n",
       "      <th>user_description</th>\n",
       "      <th>user_verified</th>\n",
       "      <th>date</th>\n",
       "      <th>text</th>\n",
       "      <th>hashtags</th>\n",
       "      <th>source</th>\n",
       "      <th>id</th>\n",
       "      <th>original_id</th>\n",
       "      <th>label</th>\n",
       "    </tr>\n",
       "  </thead>\n",
       "  <tbody>\n",
       "    <tr>\n",
       "      <th>0</th>\n",
       "      <td>Sandra Suarez - opiniones personales</td>\n",
       "      <td></td>\n",
       "      <td></td>\n",
       "      <td>False</td>\n",
       "      <td>2021-05-22 10:16:48</td>\n",
       "      <td>RT @CapitnColombia: Por su presente, por su futuro, Construiremos un nuevo país. PRIMERA LINEA Y CAPITAN COLOMBIA!. \\n[ 📸Diego Cortes ]\\n#par…</td>\n",
       "      <td>None</td>\n",
       "      <td>Twitter for Android</td>\n",
       "      <td>1396047383784529920</td>\n",
       "      <td>1.395886e+18</td>\n",
       "      <td>fav</td>\n",
       "    </tr>\n",
       "    <tr>\n",
       "      <th>1</th>\n",
       "      <td>@marioperico4</td>\n",
       "      <td></td>\n",
       "      <td>abajotwitter</td>\n",
       "      <td>False</td>\n",
       "      <td>2021-05-22 10:16:41</td>\n",
       "      <td>RT @martinquinco: @jflafaurie @UNPColombia Desbloqueo de vías ya!\\n#NoMasParo \\n#NoMasBloqueos \\n#YoApoyoALaFuerzaPublica</td>\n",
       "      <td>[NoMasParo, NoMasBloqueos, YoApoyoALaFuerzaPublica]</td>\n",
       "      <td>Twitter for Android</td>\n",
       "      <td>1396047356123041792</td>\n",
       "      <td>1.395756e+18</td>\n",
       "      <td>con</td>\n",
       "    </tr>\n",
       "    <tr>\n",
       "      <th>2</th>\n",
       "      <td>Mauro Gabriel Escalona Quiroz</td>\n",
       "      <td></td>\n",
       "      <td>Antiuribista 100% y 24/7, por que Colombia merece vivir en paz. Venceremos al tirano!!</td>\n",
       "      <td>False</td>\n",
       "      <td>2021-05-22 10:16:36</td>\n",
       "      <td>RT @Contagioradio1: #Bogotá Chicos de la guardia comunitaria primera línea en el portal de la resistencia protegiendo a la comunidad #ParoN…</td>\n",
       "      <td>[Bogotá]</td>\n",
       "      <td>Twitter for Android</td>\n",
       "      <td>1396047336439259136</td>\n",
       "      <td>1.395937e+18</td>\n",
       "      <td>fav</td>\n",
       "    </tr>\n",
       "  </tbody>\n",
       "</table>\n",
       "</div>"
      ],
      "text/plain": [
       "                              user_name user_location  \\\n",
       "0  Sandra Suarez - opiniones personales                 \n",
       "1                         @marioperico4                 \n",
       "2         Mauro Gabriel Escalona Quiroz                 \n",
       "\n",
       "                                                                         user_description  \\\n",
       "0                                                                                           \n",
       "1                                                                            abajotwitter   \n",
       "2  Antiuribista 100% y 24/7, por que Colombia merece vivir en paz. Venceremos al tirano!!   \n",
       "\n",
       "   user_verified                date  \\\n",
       "0          False 2021-05-22 10:16:48   \n",
       "1          False 2021-05-22 10:16:41   \n",
       "2          False 2021-05-22 10:16:36   \n",
       "\n",
       "                                                                                                                                             text  \\\n",
       "0  RT @CapitnColombia: Por su presente, por su futuro, Construiremos un nuevo país. PRIMERA LINEA Y CAPITAN COLOMBIA!. \\n[ 📸Diego Cortes ]\\n#par…   \n",
       "1                       RT @martinquinco: @jflafaurie @UNPColombia Desbloqueo de vías ya!\\n#NoMasParo \\n#NoMasBloqueos \\n#YoApoyoALaFuerzaPublica   \n",
       "2    RT @Contagioradio1: #Bogotá Chicos de la guardia comunitaria primera línea en el portal de la resistencia protegiendo a la comunidad #ParoN…   \n",
       "\n",
       "                                              hashtags               source  \\\n",
       "0                                                 None  Twitter for Android   \n",
       "1  [NoMasParo, NoMasBloqueos, YoApoyoALaFuerzaPublica]  Twitter for Android   \n",
       "2                                             [Bogotá]  Twitter for Android   \n",
       "\n",
       "                    id   original_id label  \n",
       "0  1396047383784529920  1.395886e+18   fav  \n",
       "1  1396047356123041792  1.395756e+18   con  \n",
       "2  1396047336439259136  1.395937e+18   fav  "
      ]
     },
     "execution_count": 9,
     "metadata": {
      "tags": []
     },
     "output_type": "execute_result"
    }
   ],
   "source": [
    "tmp[:3]"
   ]
  },
  {
   "cell_type": "code",
   "execution_count": null,
   "metadata": {
    "id": "TebUPfmOnOry",
    "outputId": "da19f540-2591-49be-816c-df060455b363"
   },
   "outputs": [
    {
     "data": {
      "text/plain": [
       "(143, 11)"
      ]
     },
     "execution_count": 10,
     "metadata": {
      "tags": []
     },
     "output_type": "execute_result"
    }
   ],
   "source": [
    "tmp.shape"
   ]
  },
  {
   "cell_type": "code",
   "execution_count": null,
   "metadata": {
    "id": "DmpIawaMnOrz",
    "outputId": "95d8f561-2bc9-4df7-8865-188f4b737f2b"
   },
   "outputs": [
    {
     "name": "stderr",
     "output_type": "stream",
     "text": [
      "[nltk_data] Downloading package stopwords to\n",
      "[nltk_data]     /home/restrepo/nltk_data...\n",
      "[nltk_data]   Package stopwords is already up-to-date!\n"
     ]
    }
   ],
   "source": [
    "import nltk\n",
    "from nltk.corpus import stopwords\n",
    "nltk.download('stopwords')\n",
    "import re\n",
    "stop_words=['rt',':']+stopwords.words('spanish')\n",
    "def preprocess_tweet_text(tweet):\n",
    "    tweet=tweet.lower()\n",
    "    # Remove urls\n",
    "    tweet = re.sub(r\"http\\S+|www\\S+|https\\S+\", '', tweet, re.UNICODE ,flags=re.MULTILINE)\n",
    "    # Remove user @ references and '#' from tweet\n",
    "    tweet = re.sub(r'\\@\\w+|\\#','', tweet)\n",
    "    # Remove punctuations\n",
    "    #tweet = tweet.translate(str.maketrans('', '', string.punctuation))\n",
    "    # Remove stopwords\n",
    "    tweet_tokens = tweet.replace(\"  \",\" \").split()\n",
    "    filtered_words = [w for w in tweet_tokens if not w in stop_words]\n",
    "    \n",
    "    #ps = PorterStemmer()\n",
    "    #stemmed_words = [ps.stem(w) for w in filtered_words]\n",
    "    #lemmatizer = WordNetLemmatizer()\n",
    "    #lemma_words = [lemmatizer.lemmatize(w, pos='a') for w in stemmed_words]\n",
    "    \n",
    "    return \" \".join(filtered_words)"
   ]
  },
  {
   "cell_type": "code",
   "execution_count": null,
   "metadata": {
    "id": "9q04wXzBnOr0"
   },
   "outputs": [],
   "source": [
    "tweet=tmp.loc[0,'text']"
   ]
  },
  {
   "cell_type": "code",
   "execution_count": null,
   "metadata": {
    "id": "QOy-UV9LnOr0",
    "outputId": "d2e362a2-184c-48f0-fa18-f090d7305ee8"
   },
   "outputs": [
    {
     "data": {
      "text/plain": [
       "'presente, futuro, construiremos nuevo país. primera linea capitan colombia!. [ 📸diego cortes ] par…'"
      ]
     },
     "execution_count": 45,
     "metadata": {
      "tags": []
     },
     "output_type": "execute_result"
    }
   ],
   "source": [
    "preprocess_tweet_text(tweet)"
   ]
  },
  {
   "cell_type": "code",
   "execution_count": null,
   "metadata": {
    "id": "V2tW_e76nOr0"
   },
   "outputs": [],
   "source": [
    "UNNNECESSARY=True\n",
    "if not UNNNECESSARY:\n",
    "    tmp['text']=tmp['text'].apply(preprocess_tweet_text)"
   ]
  },
  {
   "cell_type": "code",
   "execution_count": 50,
   "metadata": {
    "id": "K4-PUq1gnOr0"
   },
   "outputs": [],
   "source": [
    "RELOAD=True\n",
    "if RELOAD:\n",
    "    train=pd.read_json('train.json')\n",
    "    test=pd.read_json('test.json')\n",
    "else:\n",
    "    train=tmp[:n_train][['text','label']].reset_index(drop=True)\n",
    "    test=tmp[n_train:][['text','label']].reset_index(drop=True)"
   ]
  },
  {
   "cell_type": "code",
   "execution_count": 51,
   "metadata": {
    "id": "pd2yweQgnOr1"
   },
   "outputs": [],
   "source": [
    "from textblob.classifiers import NaiveBayesClassifier"
   ]
  },
  {
   "cell_type": "code",
   "execution_count": 52,
   "metadata": {},
   "outputs": [],
   "source": [
    "import pandas as pd"
   ]
  },
  {
   "cell_type": "code",
   "execution_count": 53,
   "metadata": {},
   "outputs": [],
   "source": [
    "#"
   ]
  },
  {
   "cell_type": "code",
   "execution_count": 54,
   "metadata": {},
   "outputs": [],
   "source": [
    "RETRAIN=False\n",
    "if RETRAIN:\n",
    "    tmp=pd.read_json('/home/restrepo/Downloads/tmp.json')\n",
    "    n_train=50\n",
    "    train=train.append(tmp[:n_train]).reset_index(drop=True)\n",
    "    test =test.append(tmp[n_train:]).reset_index(drop=True)"
   ]
  },
  {
   "cell_type": "code",
   "execution_count": 55,
   "metadata": {
    "id": "ual2K-wpnOr1",
    "outputId": "c08fb568-518e-4082-89f0-62a490f08e51"
   },
   "outputs": [
    {
     "name": "stderr",
     "output_type": "stream",
     "text": [
      "[nltk_data] Downloading package punkt to /home/restrepo/nltk_data...\n",
      "[nltk_data]   Package punkt is already up-to-date!\n"
     ]
    },
    {
     "data": {
      "text/plain": [
       "True"
      ]
     },
     "execution_count": 55,
     "metadata": {},
     "output_type": "execute_result"
    }
   ],
   "source": [
    "import nltk\n",
    "nltk.download('punkt')  "
   ]
  },
  {
   "cell_type": "code",
   "execution_count": 56,
   "metadata": {
    "id": "suRqWWAznOr2"
   },
   "outputs": [],
   "source": [
    "cl = NaiveBayesClassifier(  \n",
    "    [ (d.get('text'),d.get('label')) for d in train.to_dict(orient='records')]  )"
   ]
  },
  {
   "cell_type": "code",
   "execution_count": null,
   "metadata": {},
   "outputs": [],
   "source": [
    "cl.accuracy( [ (d.get('text'),d.get('label')) for d in test.to_dict(orient='records')] )"
   ]
  },
  {
   "cell_type": "code",
   "execution_count": 57,
   "metadata": {
    "id": "cpd1lv3SnOr2"
   },
   "outputs": [],
   "source": [
    "SAVE=False\n",
    "if SAVE:\n",
    "    train.to_json('train.json',orient='records')\n",
    "    test.to_json('train.json',orient='records')"
   ]
  },
  {
   "cell_type": "code",
   "execution_count": 58,
   "metadata": {
    "id": "DwZt9d6LnOr2"
   },
   "outputs": [],
   "source": [
    "fulltest=test.copy()\n",
    "fulltest['test']=fulltest['text'].apply(cl.classify)"
   ]
  },
  {
   "cell_type": "code",
   "execution_count": 59,
   "metadata": {
    "id": "jTGdb5sInOr2",
    "outputId": "0100aa01-373d-4058-8b33-b3f641b4ba49"
   },
   "outputs": [
    {
     "data": {
      "text/html": [
       "<div>\n",
       "<style scoped>\n",
       "    .dataframe tbody tr th:only-of-type {\n",
       "        vertical-align: middle;\n",
       "    }\n",
       "\n",
       "    .dataframe tbody tr th {\n",
       "        vertical-align: top;\n",
       "    }\n",
       "\n",
       "    .dataframe thead th {\n",
       "        text-align: right;\n",
       "    }\n",
       "</style>\n",
       "<table border=\"1\" class=\"dataframe\">\n",
       "  <thead>\n",
       "    <tr style=\"text-align: right;\">\n",
       "      <th></th>\n",
       "      <th>text</th>\n",
       "      <th>label</th>\n",
       "      <th>test</th>\n",
       "    </tr>\n",
       "  </thead>\n",
       "  <tbody>\n",
       "    <tr>\n",
       "      <th>0</th>\n",
       "      <td>RT @FabioCardozoM: Como asumirá usted @JorgeIv...</td>\n",
       "      <td>con</td>\n",
       "      <td>con</td>\n",
       "    </tr>\n",
       "    <tr>\n",
       "      <th>1</th>\n",
       "      <td>RT @TatyMunozO: Los bloqueos afectan al pueblo...</td>\n",
       "      <td>con</td>\n",
       "      <td>con</td>\n",
       "    </tr>\n",
       "    <tr>\n",
       "      <th>2</th>\n",
       "      <td>RT @arturo2driguez: Compartan por favor sus ca...</td>\n",
       "      <td>fav</td>\n",
       "      <td>fav</td>\n",
       "    </tr>\n",
       "  </tbody>\n",
       "</table>\n",
       "</div>"
      ],
      "text/plain": [
       "                                                text label test\n",
       "0  RT @FabioCardozoM: Como asumirá usted @JorgeIv...   con  con\n",
       "1  RT @TatyMunozO: Los bloqueos afectan al pueblo...   con  con\n",
       "2  RT @arturo2driguez: Compartan por favor sus ca...   fav  fav"
      ]
     },
     "execution_count": 59,
     "metadata": {},
     "output_type": "execute_result"
    }
   ],
   "source": [
    "fulltest[['text','label','test']][:3]"
   ]
  },
  {
   "cell_type": "code",
   "execution_count": 67,
   "metadata": {},
   "outputs": [],
   "source": [
    "tmp=train.append(test).reset_index(drop=True)"
   ]
  },
  {
   "cell_type": "code",
   "execution_count": 69,
   "metadata": {},
   "outputs": [
    {
     "data": {
      "text/plain": [
       "[10, 30, 50, 70, 90, 110, 130]"
      ]
     },
     "execution_count": 69,
     "metadata": {},
     "output_type": "execute_result"
    }
   ],
   "source": [
    "list()[10, 30, 50, 70, 90, 110, "
   ]
  },
  {
   "cell_type": "code",
   "execution_count": 100,
   "metadata": {},
   "outputs": [
    {
     "name": "stdout",
     "output_type": "stream",
     "text": [
      "================================================================================\n",
      "================================================================================\n",
      "================================================================================\n",
      "================================================================================\n",
      "================================================================================\n",
      "================================================================================\n",
      "================================================================================\n",
      "================================================================================\n",
      "================================================================================\n",
      "================================================================================\n",
      "================================================================================\n",
      "================================================================================\n",
      "================================================================================\n",
      "================================================================================\n",
      "================================================================================\n",
      "================================================================================\n",
      "================================================================================\n",
      "================================================================================\n",
      "================================================================================\n",
      "================================================================================\n",
      "================================================================================\n",
      "================================================================================\n",
      "================================================================================\n",
      "================================================================================\n",
      "================================================================================\n",
      "================================================================================\n",
      "================================================================================\n",
      "================================================================================\n",
      "================================================================================\n",
      "================================================================================\n",
      "================================================================================\n",
      "================================================================================\n",
      "================================================================================\n",
      "================================================================================\n",
      "================================================================================\n",
      "================================================================================\n",
      "================================================================================\n",
      "================================================================================\n",
      "================================================================================\n",
      "================================================================================\n",
      "================================================================================\n",
      "================================================================================\n",
      "================================================================================\n",
      "================================================================================\n",
      "================================================================================\n",
      "================================================================================\n"
     ]
    }
   ],
   "source": [
    "#n_train=50 Seems O.K\n",
    "train=pd.read_json('train.json')\n",
    "test=pd.read_json('test.json')\n",
    "tmp=train.append(test).reset_index(drop=True)\n",
    "n_try=100\n",
    "clmax=0\n",
    "for i in range(n_try):\n",
    "    print('='*80)\n",
    "    if i>0:\n",
    "        tmp=tmp.sample(frac=1,random_state=i)\n",
    "    for n_train in [50]:#range(20,100,5):\n",
    "        train=tmp[n_train:]\n",
    "        test =tmp[:n_train].reset_index(drop=True)\n",
    "        cl = NaiveBayesClassifier(  \n",
    "            [ (d.get('text'),d.get('label')) for d in train.to_dict(orient='records')]  )\n",
    "        cln=cl.accuracy( [ (d.get('text'),d.get('label')) for d in test.to_dict(orient='records')] )\n",
    "        if cln>clmax:\n",
    "            imax=i\n",
    "            clmax=cln\n",
    "            if i==45:\n",
    "                break\n",
    "    if i==45:\n",
    "        break\n",
    "        #print(i,n_train, cln, imax,clmax )\n",
    "        "
   ]
  },
  {
   "cell_type": "code",
   "execution_count": 101,
   "metadata": {},
   "outputs": [
    {
     "data": {
      "text/plain": [
       "0.94"
      ]
     },
     "execution_count": 101,
     "metadata": {},
     "output_type": "execute_result"
    }
   ],
   "source": [
    "cln"
   ]
  },
  {
   "cell_type": "code",
   "execution_count": 95,
   "metadata": {},
   "outputs": [
    {
     "name": "stdout",
     "output_type": "stream",
     "text": [
      "================================================================================\n",
      "45 50 0.88 45 0.88\n"
     ]
    }
   ],
   "source": [
    "#n_train=50 Seems O.K\n",
    "train=pd.read_json('train.json')\n",
    "test=pd.read_json('test.json')\n",
    "tmp=train.append(test).reset_index(drop=True)\n",
    "n_try=50\n",
    "clmax=0\n",
    "for i in [45]:#range(n_try):\n",
    "    print('='*80)\n",
    "    if i>0:\n",
    "        tmp=tmp.sample(frac=1,random_state=i)\n",
    "    for n_train in [50]:#range(20,100,5):\n",
    "        train=tmp[n_train:]\n",
    "        test =tmp[:n_train].reset_index(drop=True)\n",
    "        cl = NaiveBayesClassifier(  \n",
    "            [ (d.get('text'),d.get('label')) for d in train.to_dict(orient='records')]  )\n",
    "        cln=cl.accuracy( [ (d.get('text'),d.get('label')) for d in test.to_dict(orient='records')] )\n",
    "        if cln>clmax:\n",
    "            imax=i\n",
    "            clmax=cln\n",
    "        print(i,n_train, cln, imax,clmax )"
   ]
  },
  {
   "cell_type": "code",
   "execution_count": 60,
   "metadata": {
    "id": "oz0GatwSnOr3",
    "outputId": "53cf20d6-2d7d-4f52-e722-fac95ed8943a"
   },
   "outputs": [
    {
     "data": {
      "text/plain": [
       "0.7551020408163265"
      ]
     },
     "execution_count": 60,
     "metadata": {},
     "output_type": "execute_result"
    }
   ],
   "source": [
    "cl.accuracy( [ (d.get('text'),d.get('label')) for d in test.to_dict(orient='records')] )"
   ]
  },
  {
   "cell_type": "code",
   "execution_count": 102,
   "metadata": {
    "id": "UoGt_vljnOr3"
   },
   "outputs": [],
   "source": [
    "fulltest['prob']=fulltest['text'].apply(lambda t:   \n",
    "                                cl.prob_classify( t ).prob(   cl.classify( t  )  ) ).round(2)"
   ]
  },
  {
   "cell_type": "code",
   "execution_count": 103,
   "metadata": {
    "id": "8_5id_wdnOr4",
    "outputId": "c8b96d35-4b31-46b8-fc47-1b707f733169"
   },
   "outputs": [
    {
     "data": {
      "text/html": [
       "<div>\n",
       "<style scoped>\n",
       "    .dataframe tbody tr th:only-of-type {\n",
       "        vertical-align: middle;\n",
       "    }\n",
       "\n",
       "    .dataframe tbody tr th {\n",
       "        vertical-align: top;\n",
       "    }\n",
       "\n",
       "    .dataframe thead th {\n",
       "        text-align: right;\n",
       "    }\n",
       "</style>\n",
       "<table border=\"1\" class=\"dataframe\">\n",
       "  <thead>\n",
       "    <tr style=\"text-align: right;\">\n",
       "      <th></th>\n",
       "      <th>text</th>\n",
       "      <th>label</th>\n",
       "      <th>test</th>\n",
       "      <th>prob</th>\n",
       "    </tr>\n",
       "  </thead>\n",
       "  <tbody>\n",
       "    <tr>\n",
       "      <th>0</th>\n",
       "      <td>RT @FabioCardozoM: Como asumirá usted @JorgeIv...</td>\n",
       "      <td>con</td>\n",
       "      <td>con</td>\n",
       "      <td>1.00</td>\n",
       "    </tr>\n",
       "    <tr>\n",
       "      <th>1</th>\n",
       "      <td>RT @TatyMunozO: Los bloqueos afectan al pueblo...</td>\n",
       "      <td>con</td>\n",
       "      <td>con</td>\n",
       "      <td>1.00</td>\n",
       "    </tr>\n",
       "    <tr>\n",
       "      <th>2</th>\n",
       "      <td>RT @arturo2driguez: Compartan por favor sus ca...</td>\n",
       "      <td>fav</td>\n",
       "      <td>fav</td>\n",
       "      <td>1.00</td>\n",
       "    </tr>\n",
       "    <tr>\n",
       "      <th>3</th>\n",
       "      <td>Conozca el mapa de la solidaridad caleña #Paro...</td>\n",
       "      <td>fav</td>\n",
       "      <td>con</td>\n",
       "      <td>1.00</td>\n",
       "    </tr>\n",
       "    <tr>\n",
       "      <th>4</th>\n",
       "      <td>RT @personeriacali: #AEstaHora Continuamos rea...</td>\n",
       "      <td>fav</td>\n",
       "      <td>con</td>\n",
       "      <td>1.00</td>\n",
       "    </tr>\n",
       "    <tr>\n",
       "      <th>5</th>\n",
       "      <td>#ParoNacional18M #SOSColombiaDDHH  #ParoNacion...</td>\n",
       "      <td>fav</td>\n",
       "      <td>fav</td>\n",
       "      <td>1.00</td>\n",
       "    </tr>\n",
       "    <tr>\n",
       "      <th>6</th>\n",
       "      <td>#Colombia 🇨🇴 | Ciudadanos denunciaron este mar...</td>\n",
       "      <td>fav</td>\n",
       "      <td>fav</td>\n",
       "      <td>1.00</td>\n",
       "    </tr>\n",
       "    <tr>\n",
       "      <th>7</th>\n",
       "      <td>RT @personeriacali: #AEstaHora las familias de...</td>\n",
       "      <td>con</td>\n",
       "      <td>con</td>\n",
       "      <td>1.00</td>\n",
       "    </tr>\n",
       "    <tr>\n",
       "      <th>8</th>\n",
       "      <td>#lawradio chévere que los periodistas tuvieran...</td>\n",
       "      <td>con</td>\n",
       "      <td>con</td>\n",
       "      <td>1.00</td>\n",
       "    </tr>\n",
       "    <tr>\n",
       "      <th>9</th>\n",
       "      <td>RT @UnivalleU: ¿Se van a perder la movilizació...</td>\n",
       "      <td>fav</td>\n",
       "      <td>con</td>\n",
       "      <td>1.00</td>\n",
       "    </tr>\n",
       "    <tr>\n",
       "      <th>10</th>\n",
       "      <td>Alcalde genere nuevos puestos de empleo, llevo...</td>\n",
       "      <td>fav</td>\n",
       "      <td>con</td>\n",
       "      <td>1.00</td>\n",
       "    </tr>\n",
       "    <tr>\n",
       "      <th>11</th>\n",
       "      <td>@santiagoangelp @GustavoBolivar Solo quieren g...</td>\n",
       "      <td>con</td>\n",
       "      <td>con</td>\n",
       "      <td>1.00</td>\n",
       "    </tr>\n",
       "    <tr>\n",
       "      <th>12</th>\n",
       "      <td>#ParoNacional EN PAZ!! Son un ejemplo para el ...</td>\n",
       "      <td>fav</td>\n",
       "      <td>fav</td>\n",
       "      <td>0.90</td>\n",
       "    </tr>\n",
       "    <tr>\n",
       "      <th>13</th>\n",
       "      <td>A todas estas, donde está el alcalde de Ibagué...</td>\n",
       "      <td>con</td>\n",
       "      <td>con</td>\n",
       "      <td>1.00</td>\n",
       "    </tr>\n",
       "    <tr>\n",
       "      <th>14</th>\n",
       "      <td>@NoticiasCaracol Ningún paro nacional, esto pu...</td>\n",
       "      <td>con</td>\n",
       "      <td>con</td>\n",
       "      <td>1.00</td>\n",
       "    </tr>\n",
       "    <tr>\n",
       "      <th>15</th>\n",
       "      <td>RT @DianaSalinasP: Gobierno caucano denuncia l...</td>\n",
       "      <td>fav</td>\n",
       "      <td>fav</td>\n",
       "      <td>0.98</td>\n",
       "    </tr>\n",
       "    <tr>\n",
       "      <th>16</th>\n",
       "      <td>🚶‍♂️🚶🚶‍♀️#ParoNacional \\n\\nEl gobierno de Duqu...</td>\n",
       "      <td>fav</td>\n",
       "      <td>fav</td>\n",
       "      <td>1.00</td>\n",
       "    </tr>\n",
       "    <tr>\n",
       "      <th>17</th>\n",
       "      <td>@navarrowolff Los desbloqueos se deben hacer i...</td>\n",
       "      <td>con</td>\n",
       "      <td>con</td>\n",
       "      <td>0.98</td>\n",
       "    </tr>\n",
       "    <tr>\n",
       "      <th>18</th>\n",
       "      <td>@CarolayMorales Las cifras apoyan el #ParoNaci...</td>\n",
       "      <td>fav</td>\n",
       "      <td>con</td>\n",
       "      <td>1.00</td>\n",
       "    </tr>\n",
       "    <tr>\n",
       "      <th>19</th>\n",
       "      <td>RT @asdrubal1963: #Colombia🇨🇴 \\n18 05 2021\\n#N...</td>\n",
       "      <td>con</td>\n",
       "      <td>fav</td>\n",
       "      <td>1.00</td>\n",
       "    </tr>\n",
       "    <tr>\n",
       "      <th>20</th>\n",
       "      <td>RT @AdidaSindicato: #ElParoNoPara | Este miérc...</td>\n",
       "      <td>fav</td>\n",
       "      <td>fav</td>\n",
       "      <td>1.00</td>\n",
       "    </tr>\n",
       "    <tr>\n",
       "      <th>21</th>\n",
       "      <td>RT @juancaleyva: @DiegoASantos TAL CUAL, ESA E...</td>\n",
       "      <td>con</td>\n",
       "      <td>con</td>\n",
       "      <td>0.97</td>\n",
       "    </tr>\n",
       "    <tr>\n",
       "      <th>22</th>\n",
       "      <td>@CNNEE @GiovanniPolanc1 Lo único que hay de ve...</td>\n",
       "      <td>con</td>\n",
       "      <td>con</td>\n",
       "      <td>1.00</td>\n",
       "    </tr>\n",
       "    <tr>\n",
       "      <th>23</th>\n",
       "      <td>RT @Jeison_HeroeCNN: 1559 muertes por covid  e...</td>\n",
       "      <td>con</td>\n",
       "      <td>con</td>\n",
       "      <td>0.61</td>\n",
       "    </tr>\n",
       "    <tr>\n",
       "      <th>24</th>\n",
       "      <td>RT @CastillaSenador: ⚠️ #ALERTA | Solicitamos ...</td>\n",
       "      <td>fav</td>\n",
       "      <td>con</td>\n",
       "      <td>1.00</td>\n",
       "    </tr>\n",
       "    <tr>\n",
       "      <th>25</th>\n",
       "      <td>RT @diazflorezjohn: #ParoNacional en colombia ...</td>\n",
       "      <td>fav</td>\n",
       "      <td>con</td>\n",
       "      <td>1.00</td>\n",
       "    </tr>\n",
       "    <tr>\n",
       "      <th>26</th>\n",
       "      <td>@lcvelez @lafm Si a colombia la volvieron una ...</td>\n",
       "      <td>con</td>\n",
       "      <td>con</td>\n",
       "      <td>1.00</td>\n",
       "    </tr>\n",
       "    <tr>\n",
       "      <th>27</th>\n",
       "      <td>RT @PizarroMariaJo: Se le acabó el librero al ...</td>\n",
       "      <td>fav</td>\n",
       "      <td>fav</td>\n",
       "      <td>1.00</td>\n",
       "    </tr>\n",
       "    <tr>\n",
       "      <th>28</th>\n",
       "      <td>@WRadioColombia @IvanDuque @Laurasanchez83 @lf...</td>\n",
       "      <td>con</td>\n",
       "      <td>con</td>\n",
       "      <td>1.00</td>\n",
       "    </tr>\n",
       "    <tr>\n",
       "      <th>29</th>\n",
       "      <td>RT @pierrealee: Las armas que acompañan a los ...</td>\n",
       "      <td>fav</td>\n",
       "      <td>fav</td>\n",
       "      <td>0.59</td>\n",
       "    </tr>\n",
       "    <tr>\n",
       "      <th>30</th>\n",
       "      <td>@BluRadioCo #NoMasParo son criminales, pueden ...</td>\n",
       "      <td>con</td>\n",
       "      <td>con</td>\n",
       "      <td>1.00</td>\n",
       "    </tr>\n",
       "    <tr>\n",
       "      <th>31</th>\n",
       "      <td>RT @LMmartinez: @VickyDavilaH Gracias a Dios. ...</td>\n",
       "      <td>con</td>\n",
       "      <td>con</td>\n",
       "      <td>1.00</td>\n",
       "    </tr>\n",
       "    <tr>\n",
       "      <th>32</th>\n",
       "      <td>RT @FelipeDRojas: La Guardia Indígena acompaña...</td>\n",
       "      <td>fav</td>\n",
       "      <td>fav</td>\n",
       "      <td>1.00</td>\n",
       "    </tr>\n",
       "    <tr>\n",
       "      <th>33</th>\n",
       "      <td>RT @castiliae: Uno para todos y todos para uno...</td>\n",
       "      <td>fav</td>\n",
       "      <td>con</td>\n",
       "      <td>1.00</td>\n",
       "    </tr>\n",
       "    <tr>\n",
       "      <th>34</th>\n",
       "      <td>@WRadioColombia Excelente, pero es lo q quiere...</td>\n",
       "      <td>con</td>\n",
       "      <td>con</td>\n",
       "      <td>1.00</td>\n",
       "    </tr>\n",
       "    <tr>\n",
       "      <th>35</th>\n",
       "      <td>RT @Vidales2Luis: En Huila encapuchados acaban...</td>\n",
       "      <td>con</td>\n",
       "      <td>con</td>\n",
       "      <td>0.96</td>\n",
       "    </tr>\n",
       "    <tr>\n",
       "      <th>36</th>\n",
       "      <td>#LeCuentoEl18M📍Medellín, Antioquia\\n\\nHoy al m...</td>\n",
       "      <td>fav</td>\n",
       "      <td>fav</td>\n",
       "      <td>1.00</td>\n",
       "    </tr>\n",
       "    <tr>\n",
       "      <th>37</th>\n",
       "      <td>@VickyDavilaH #NoMasParo #NoMasBloqueos no son...</td>\n",
       "      <td>con</td>\n",
       "      <td>con</td>\n",
       "      <td>1.00</td>\n",
       "    </tr>\n",
       "    <tr>\n",
       "      <th>38</th>\n",
       "      <td>RT @Agencia_API: 🇨🇴⭕️ #ParoNacional Extinción ...</td>\n",
       "      <td>con</td>\n",
       "      <td>con</td>\n",
       "      <td>1.00</td>\n",
       "    </tr>\n",
       "    <tr>\n",
       "      <th>39</th>\n",
       "      <td>@BluRadioCo Una gran fuente de empleo reactiva...</td>\n",
       "      <td>con</td>\n",
       "      <td>con</td>\n",
       "      <td>1.00</td>\n",
       "    </tr>\n",
       "    <tr>\n",
       "      <th>40</th>\n",
       "      <td>Las #MadresContraLaImpunidad se mantienen en l...</td>\n",
       "      <td>fav</td>\n",
       "      <td>fav</td>\n",
       "      <td>1.00</td>\n",
       "    </tr>\n",
       "    <tr>\n",
       "      <th>41</th>\n",
       "      <td>@navarrowolff Como sea..ya no mas...#nomasparo</td>\n",
       "      <td>con</td>\n",
       "      <td>con</td>\n",
       "      <td>0.97</td>\n",
       "    </tr>\n",
       "    <tr>\n",
       "      <th>42</th>\n",
       "      <td>#ParoNacional #ColombiaResiste @JuanManSantos ...</td>\n",
       "      <td>fav</td>\n",
       "      <td>con</td>\n",
       "      <td>1.00</td>\n",
       "    </tr>\n",
       "    <tr>\n",
       "      <th>43</th>\n",
       "      <td>RT @jflafaurie: Gracias a la Fuerza Pública se...</td>\n",
       "      <td>con</td>\n",
       "      <td>con</td>\n",
       "      <td>1.00</td>\n",
       "    </tr>\n",
       "    <tr>\n",
       "      <th>44</th>\n",
       "      <td>RT @FLazosDignidad: ¿Vamos a dejar nuestro fut...</td>\n",
       "      <td>fav</td>\n",
       "      <td>con</td>\n",
       "      <td>1.00</td>\n",
       "    </tr>\n",
       "    <tr>\n",
       "      <th>45</th>\n",
       "      <td>@VickyDavilaH #NoMasViolencia #NoMasParo #NoMa...</td>\n",
       "      <td>con</td>\n",
       "      <td>con</td>\n",
       "      <td>1.00</td>\n",
       "    </tr>\n",
       "    <tr>\n",
       "      <th>46</th>\n",
       "      <td>RT @Patrici76463579: \"Toma de #Cali plan crimi...</td>\n",
       "      <td>con</td>\n",
       "      <td>con</td>\n",
       "      <td>1.00</td>\n",
       "    </tr>\n",
       "    <tr>\n",
       "      <th>47</th>\n",
       "      <td>RT @JorgeMaichel: @RevistaSemana El comité del...</td>\n",
       "      <td>con</td>\n",
       "      <td>con</td>\n",
       "      <td>1.00</td>\n",
       "    </tr>\n",
       "    <tr>\n",
       "      <th>48</th>\n",
       "      <td>RT @maestropandx: No hay ningún derecho a tene...</td>\n",
       "      <td>fav</td>\n",
       "      <td>con</td>\n",
       "      <td>0.99</td>\n",
       "    </tr>\n",
       "  </tbody>\n",
       "</table>\n",
       "</div>"
      ],
      "text/plain": [
       "                                                 text label test  prob\n",
       "0   RT @FabioCardozoM: Como asumirá usted @JorgeIv...   con  con  1.00\n",
       "1   RT @TatyMunozO: Los bloqueos afectan al pueblo...   con  con  1.00\n",
       "2   RT @arturo2driguez: Compartan por favor sus ca...   fav  fav  1.00\n",
       "3   Conozca el mapa de la solidaridad caleña #Paro...   fav  con  1.00\n",
       "4   RT @personeriacali: #AEstaHora Continuamos rea...   fav  con  1.00\n",
       "5   #ParoNacional18M #SOSColombiaDDHH  #ParoNacion...   fav  fav  1.00\n",
       "6   #Colombia 🇨🇴 | Ciudadanos denunciaron este mar...   fav  fav  1.00\n",
       "7   RT @personeriacali: #AEstaHora las familias de...   con  con  1.00\n",
       "8   #lawradio chévere que los periodistas tuvieran...   con  con  1.00\n",
       "9   RT @UnivalleU: ¿Se van a perder la movilizació...   fav  con  1.00\n",
       "10  Alcalde genere nuevos puestos de empleo, llevo...   fav  con  1.00\n",
       "11  @santiagoangelp @GustavoBolivar Solo quieren g...   con  con  1.00\n",
       "12  #ParoNacional EN PAZ!! Son un ejemplo para el ...   fav  fav  0.90\n",
       "13  A todas estas, donde está el alcalde de Ibagué...   con  con  1.00\n",
       "14  @NoticiasCaracol Ningún paro nacional, esto pu...   con  con  1.00\n",
       "15  RT @DianaSalinasP: Gobierno caucano denuncia l...   fav  fav  0.98\n",
       "16  🚶‍♂️🚶🚶‍♀️#ParoNacional \\n\\nEl gobierno de Duqu...   fav  fav  1.00\n",
       "17  @navarrowolff Los desbloqueos se deben hacer i...   con  con  0.98\n",
       "18  @CarolayMorales Las cifras apoyan el #ParoNaci...   fav  con  1.00\n",
       "19  RT @asdrubal1963: #Colombia🇨🇴 \\n18 05 2021\\n#N...   con  fav  1.00\n",
       "20  RT @AdidaSindicato: #ElParoNoPara | Este miérc...   fav  fav  1.00\n",
       "21  RT @juancaleyva: @DiegoASantos TAL CUAL, ESA E...   con  con  0.97\n",
       "22  @CNNEE @GiovanniPolanc1 Lo único que hay de ve...   con  con  1.00\n",
       "23  RT @Jeison_HeroeCNN: 1559 muertes por covid  e...   con  con  0.61\n",
       "24  RT @CastillaSenador: ⚠️ #ALERTA | Solicitamos ...   fav  con  1.00\n",
       "25  RT @diazflorezjohn: #ParoNacional en colombia ...   fav  con  1.00\n",
       "26  @lcvelez @lafm Si a colombia la volvieron una ...   con  con  1.00\n",
       "27  RT @PizarroMariaJo: Se le acabó el librero al ...   fav  fav  1.00\n",
       "28  @WRadioColombia @IvanDuque @Laurasanchez83 @lf...   con  con  1.00\n",
       "29  RT @pierrealee: Las armas que acompañan a los ...   fav  fav  0.59\n",
       "30  @BluRadioCo #NoMasParo son criminales, pueden ...   con  con  1.00\n",
       "31  RT @LMmartinez: @VickyDavilaH Gracias a Dios. ...   con  con  1.00\n",
       "32  RT @FelipeDRojas: La Guardia Indígena acompaña...   fav  fav  1.00\n",
       "33  RT @castiliae: Uno para todos y todos para uno...   fav  con  1.00\n",
       "34  @WRadioColombia Excelente, pero es lo q quiere...   con  con  1.00\n",
       "35  RT @Vidales2Luis: En Huila encapuchados acaban...   con  con  0.96\n",
       "36  #LeCuentoEl18M📍Medellín, Antioquia\\n\\nHoy al m...   fav  fav  1.00\n",
       "37  @VickyDavilaH #NoMasParo #NoMasBloqueos no son...   con  con  1.00\n",
       "38  RT @Agencia_API: 🇨🇴⭕️ #ParoNacional Extinción ...   con  con  1.00\n",
       "39  @BluRadioCo Una gran fuente de empleo reactiva...   con  con  1.00\n",
       "40  Las #MadresContraLaImpunidad se mantienen en l...   fav  fav  1.00\n",
       "41     @navarrowolff Como sea..ya no mas...#nomasparo   con  con  0.97\n",
       "42  #ParoNacional #ColombiaResiste @JuanManSantos ...   fav  con  1.00\n",
       "43  RT @jflafaurie: Gracias a la Fuerza Pública se...   con  con  1.00\n",
       "44  RT @FLazosDignidad: ¿Vamos a dejar nuestro fut...   fav  con  1.00\n",
       "45  @VickyDavilaH #NoMasViolencia #NoMasParo #NoMa...   con  con  1.00\n",
       "46  RT @Patrici76463579: \"Toma de #Cali plan crimi...   con  con  1.00\n",
       "47  RT @JorgeMaichel: @RevistaSemana El comité del...   con  con  1.00\n",
       "48  RT @maestropandx: No hay ningún derecho a tene...   fav  con  0.99"
      ]
     },
     "execution_count": 103,
     "metadata": {},
     "output_type": "execute_result"
    }
   ],
   "source": [
    "fulltest"
   ]
  },
  {
   "cell_type": "markdown",
   "metadata": {
    "id": "7xkdrmCfnOr4"
   },
   "source": [
    "Aplicar al DataFrame Completo"
   ]
  },
  {
   "cell_type": "code",
   "execution_count": 107,
   "metadata": {
    "id": "es9aCIkxnOr4"
   },
   "outputs": [],
   "source": [
    "df['test']=df['text'].apply(cl.classify)\n",
    "df['prob']=df['text'].apply(lambda t:   \n",
    "                                cl.prob_classify( t ).prob(   cl.classify( t  )  ) ).round(2)"
   ]
  },
  {
   "cell_type": "code",
   "execution_count": 108,
   "metadata": {
    "id": "snZcembNnOr5"
   },
   "outputs": [],
   "source": [
    "dfp=df.drop_duplicates('text').reset_index(drop=True)"
   ]
  },
  {
   "cell_type": "code",
   "execution_count": 111,
   "metadata": {
    "id": "dWKcT0lKnOr5",
    "outputId": "d642c6dc-beba-43e0-c0f2-3207943787d4"
   },
   "outputs": [
    {
     "data": {
      "text/html": [
       "<div>\n",
       "<style scoped>\n",
       "    .dataframe tbody tr th:only-of-type {\n",
       "        vertical-align: middle;\n",
       "    }\n",
       "\n",
       "    .dataframe tbody tr th {\n",
       "        vertical-align: top;\n",
       "    }\n",
       "\n",
       "    .dataframe thead th {\n",
       "        text-align: right;\n",
       "    }\n",
       "</style>\n",
       "<table border=\"1\" class=\"dataframe\">\n",
       "  <thead>\n",
       "    <tr style=\"text-align: right;\">\n",
       "      <th></th>\n",
       "      <th>text</th>\n",
       "      <th>test</th>\n",
       "      <th>prob</th>\n",
       "    </tr>\n",
       "  </thead>\n",
       "  <tbody>\n",
       "    <tr>\n",
       "      <th>413</th>\n",
       "      <td>RT @MelSemerenah: ☝🤔💭 No MAME!!! Sr.\\nPues a QUÉ?? HUELE 🤣😂🤣😂🤣😂\\n#NoMasParo #SiempreFloresMoreno #animals #Oaxaca #Mexico #MewSuppasit #happy…</td>\n",
       "      <td>con</td>\n",
       "      <td>1.00</td>\n",
       "    </tr>\n",
       "    <tr>\n",
       "      <th>315</th>\n",
       "      <td>RT @claricegp: Cómo mujeres con @dignidad_col reiteramos nuestro rechazo al caso de violencia ejercido contra una agente de la Policía Naci…</td>\n",
       "      <td>fav</td>\n",
       "      <td>0.96</td>\n",
       "    </tr>\n",
       "    <tr>\n",
       "      <th>223</th>\n",
       "      <td>RT @CaracolRadio: #Cali  La Policía reveló que uno de sus atacantes ellos se subió encima de ella, empezó a tocarle todo el cuerpo, besarla…</td>\n",
       "      <td>fav</td>\n",
       "      <td>0.64</td>\n",
       "    </tr>\n",
       "    <tr>\n",
       "      <th>96</th>\n",
       "      <td>#Bogota Portal las Américas situación fue tensa en los enfrentamientos entre el #ESMAD y #manifedtantes #paronacional #Colombia en Bogotá-Colombia, D.C https://t.co/489LU34qFB</td>\n",
       "      <td>fav</td>\n",
       "      <td>1.00</td>\n",
       "    </tr>\n",
       "    <tr>\n",
       "      <th>574</th>\n",
       "      <td>RT @Villegasalejo: #Dato Está todo listo para instalar la mesa de negociación entre gobierno y comité del paro. Delegación de @IvanDuque tr…</td>\n",
       "      <td>fav</td>\n",
       "      <td>0.87</td>\n",
       "    </tr>\n",
       "    <tr>\n",
       "      <th>579</th>\n",
       "      <td>Lo dije hace casi un mes, estamos afrontando la realidad verdadera de un #ParoNacional que nos lleva de cabeza al caos https://t.co/irJCcCeQRn</td>\n",
       "      <td>con</td>\n",
       "      <td>0.77</td>\n",
       "    </tr>\n",
       "    <tr>\n",
       "      <th>393</th>\n",
       "      <td>RT @Justiciaypazcol: #ImagenHoy\\n379 desaparecidos #ParoNacional \\n¿Dónde están? https://t.co/VaS9y4PxPv</td>\n",
       "      <td>fav</td>\n",
       "      <td>0.96</td>\n",
       "    </tr>\n",
       "    <tr>\n",
       "      <th>234</th>\n",
       "      <td>RT @VCT_txt: Es posible que alguien de #DerechosHumanos se pueda desplazar hasta Almacén Éxito de #Calipso, en #cali. Urge presencia.\\nSolo…</td>\n",
       "      <td>fav</td>\n",
       "      <td>0.55</td>\n",
       "    </tr>\n",
       "    <tr>\n",
       "      <th>631</th>\n",
       "      <td>RT @Gabocolombia76: Ante la Crisis del neoliberalismo, la guerra y la corrupción que han conllevado al estallido juvenil y popular, y al ac…</td>\n",
       "      <td>fav</td>\n",
       "      <td>0.93</td>\n",
       "    </tr>\n",
       "    <tr>\n",
       "      <th>371</th>\n",
       "      <td>@IvanCepedaCast que pongan al hp ese de Molano en su tal protestodromo para que los colombianos podamos practicar con el los ddhh que tanto ejercen los que están bajo su mando #soscolombianosestanmatando #nosestanmatando #soscolombia #Colombia #paronacional #theyarekillingus tombos hps</td>\n",
       "      <td>con</td>\n",
       "      <td>0.97</td>\n",
       "    </tr>\n",
       "  </tbody>\n",
       "</table>\n",
       "</div>"
      ],
      "text/plain": [
       "                                                                                                                                                                                                                                                                                               text  \\\n",
       "413                                                                                                                                                  RT @MelSemerenah: ☝🤔💭 No MAME!!! Sr.\\nPues a QUÉ?? HUELE 🤣😂🤣😂🤣😂\\n#NoMasParo #SiempreFloresMoreno #animals #Oaxaca #Mexico #MewSuppasit #happy…   \n",
       "315                                                                                                                                                    RT @claricegp: Cómo mujeres con @dignidad_col reiteramos nuestro rechazo al caso de violencia ejercido contra una agente de la Policía Naci…   \n",
       "223                                                                                                                                                    RT @CaracolRadio: #Cali  La Policía reveló que uno de sus atacantes ellos se subió encima de ella, empezó a tocarle todo el cuerpo, besarla…   \n",
       "96                                                                                                                  #Bogota Portal las Américas situación fue tensa en los enfrentamientos entre el #ESMAD y #manifedtantes #paronacional #Colombia en Bogotá-Colombia, D.C https://t.co/489LU34qFB   \n",
       "574                                                                                                                                                    RT @Villegasalejo: #Dato Está todo listo para instalar la mesa de negociación entre gobierno y comité del paro. Delegación de @IvanDuque tr…   \n",
       "579                                                                                                                                                  Lo dije hace casi un mes, estamos afrontando la realidad verdadera de un #ParoNacional que nos lleva de cabeza al caos https://t.co/irJCcCeQRn   \n",
       "393                                                                                                                                                                                        RT @Justiciaypazcol: #ImagenHoy\\n379 desaparecidos #ParoNacional \\n¿Dónde están? https://t.co/VaS9y4PxPv   \n",
       "234                                                                                                                                                    RT @VCT_txt: Es posible que alguien de #DerechosHumanos se pueda desplazar hasta Almacén Éxito de #Calipso, en #cali. Urge presencia.\\nSolo…   \n",
       "631                                                                                                                                                    RT @Gabocolombia76: Ante la Crisis del neoliberalismo, la guerra y la corrupción que han conllevado al estallido juvenil y popular, y al ac…   \n",
       "371  @IvanCepedaCast que pongan al hp ese de Molano en su tal protestodromo para que los colombianos podamos practicar con el los ddhh que tanto ejercen los que están bajo su mando #soscolombianosestanmatando #nosestanmatando #soscolombia #Colombia #paronacional #theyarekillingus tombos hps   \n",
       "\n",
       "    test  prob  \n",
       "413  con  1.00  \n",
       "315  fav  0.96  \n",
       "223  fav  0.64  \n",
       "96   fav  1.00  \n",
       "574  fav  0.87  \n",
       "579  con  0.77  \n",
       "393  fav  0.96  \n",
       "234  fav  0.55  \n",
       "631  fav  0.93  \n",
       "371  con  0.97  "
      ]
     },
     "execution_count": 111,
     "metadata": {},
     "output_type": "execute_result"
    }
   ],
   "source": [
    "dfp[['text','test','prob']].sample(10)"
   ]
  },
  {
   "cell_type": "code",
   "execution_count": 112,
   "metadata": {
    "id": "e6Mu8NZanOr5",
    "outputId": "ecce1bca-78e3-4926-da3d-3dbc1a0d750b"
   },
   "outputs": [
    {
     "data": {
      "text/plain": [
       "test\n",
       "con    241\n",
       "fav    396\n",
       "Name: test, dtype: int64"
      ]
     },
     "execution_count": 112,
     "metadata": {},
     "output_type": "execute_result"
    }
   ],
   "source": [
    "dfp.groupby('test')['test'].count()"
   ]
  },
  {
   "cell_type": "markdown",
   "metadata": {
    "id": "Dbjd8WkInOr6"
   },
   "source": [
    "Sin quitar RT"
   ]
  },
  {
   "cell_type": "code",
   "execution_count": 113,
   "metadata": {
    "id": "-6LlP6YOnOr6",
    "outputId": "b923d06d-d75b-4fcf-ca98-515153b157e3"
   },
   "outputs": [
    {
     "data": {
      "text/plain": [
       "test\n",
       "con    1201\n",
       "fav    3799\n",
       "Name: test, dtype: int64"
      ]
     },
     "execution_count": 113,
     "metadata": {},
     "output_type": "execute_result"
    }
   ],
   "source": [
    "df.groupby('test')['test'].count()"
   ]
  },
  {
   "cell_type": "code",
   "execution_count": 114,
   "metadata": {
    "id": "ZUeD1fcVnOr6"
   },
   "outputs": [],
   "source": [
    "import pickle"
   ]
  },
  {
   "cell_type": "code",
   "execution_count": 115,
   "metadata": {},
   "outputs": [],
   "source": [
    "f=open('classifier.pickle','wb')\n",
    "pickle.dump(cl,f)\n",
    "f.close()"
   ]
  },
  {
   "cell_type": "code",
   "execution_count": 116,
   "metadata": {},
   "outputs": [],
   "source": [
    "f=open('classifier.pickle','rb')\n",
    "CL=pickle.load(f)\n",
    "f.close()"
   ]
  },
  {
   "cell_type": "code",
   "execution_count": null,
   "metadata": {},
   "outputs": [],
   "source": []
  }
 ],
 "metadata": {
  "colab": {
   "include_colab_link": true,
   "name": "classify.ipynb",
   "provenance": []
  },
  "kernelspec": {
   "display_name": "Python 3 (ipykernel)",
   "language": "python",
   "name": "python3"
  },
  "language_info": {
   "codemirror_mode": {
    "name": "ipython",
    "version": 3
   },
   "file_extension": ".py",
   "mimetype": "text/x-python",
   "name": "python",
   "nbconvert_exporter": "python",
   "pygments_lexer": "ipython3",
   "version": "3.7.3"
  }
 },
 "nbformat": 4,
 "nbformat_minor": 4
}
