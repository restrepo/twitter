{
 "cells": [
  {
   "cell_type": "markdown",
   "metadata": {},
   "source": [
    "## Análisis de sentimientos de Twitter con Python\n",
    "* https://platzi.com/tutoriales/1874-python-lenguaje-natural/5654-realiza-un-analisis-de-sentimiento-en-3-pasos-con-python/\n",
    "    * Ejemplo https://twitter.com/whaleandjaguar_?lang=en\n",
    "* https://towardsdatascience.com/my-absolute-go-to-for-sentiment-analysis-textblob-3ac3a11d524\n",
    "* https://www.justintodata.com/twitter-sentiment-analysis-python/\n",
    "* https://www.pluralsight.com/guides/building-a-twitter-sentiment-analysis-in-python"
   ]
  },
  {
   "cell_type": "markdown",
   "metadata": {},
   "source": [
    "### 1) Descargar tweets"
   ]
  },
  {
   "cell_type": "code",
   "execution_count": 1,
   "metadata": {},
   "outputs": [
    {
     "name": "stdout",
     "output_type": "stream",
     "text": [
      "Populating the interactive namespace from numpy and matplotlib\n"
     ]
    }
   ],
   "source": [
    "%pylab inline"
   ]
  },
  {
   "cell_type": "code",
   "execution_count": 2,
   "metadata": {},
   "outputs": [],
   "source": [
    "import pandas as pd\n",
    "pd.set_option('display.max_colwidth',500)"
   ]
  },
  {
   "cell_type": "code",
   "execution_count": 31,
   "metadata": {},
   "outputs": [],
   "source": [
    "df=pd.read_json('https://raw.githubusercontent.com/restrepo/twitter/main/tweets_df.json')"
   ]
  },
  {
   "cell_type": "code",
   "execution_count": 32,
   "metadata": {},
   "outputs": [],
   "source": [
    "df=df.append(df1).reset_index(drop=True)"
   ]
  },
  {
   "cell_type": "code",
   "execution_count": 33,
   "metadata": {},
   "outputs": [
    {
     "data": {
      "text/plain": [
       "(10000, 10)"
      ]
     },
     "execution_count": 33,
     "metadata": {},
     "output_type": "execute_result"
    }
   ],
   "source": [
    "df.shape"
   ]
  },
  {
   "cell_type": "code",
   "execution_count": 35,
   "metadata": {},
   "outputs": [
    {
     "data": {
      "text/plain": [
       "(2384, 10)"
      ]
     },
     "execution_count": 35,
     "metadata": {},
     "output_type": "execute_result"
    }
   ],
   "source": [
    "df.drop_duplicates(subset='text').shape"
   ]
  },
  {
   "cell_type": "markdown",
   "metadata": {},
   "source": [
    "### Cree un nuevo clasificador\n",
    "Vamos \n",
    "https://textblob.readthedocs.io/en/dev/classifiers.html#classifiers"
   ]
  },
  {
   "cell_type": "markdown",
   "metadata": {},
   "source": [
    "* A favor del Paro → `'fav'`\n",
    "* En contra del Paro→ `'con'`\n",
    "* Informativo or neutro → `'neu'`\n",
    "* Spam → `'spa'`"
   ]
  },
  {
   "cell_type": "markdown",
   "metadata": {},
   "source": [
    "Para crear los conjutos de datos para training y para test debemos clasisificar un conjunto suficientemente grande de textos de tweets en las dos categorias en números similares para cada una de las dos categorias\n",
    "\n",
    "Crearemos un algoritmo que nos permite clasificar algunos tweets del DataFrame en una nueva columna `'label'`, la cual tendrá un valor nulo cuando el tweet no este clasificado. Una vez un tweet sea clasificado, se añadirá a una lista de similaridad y sólo se clasificarán nuevos tweets que no sean similares a los previamente clasificados.  Para ello se usará el método `extractOne` del módulo `process` de `fuzzywuzzy` con scorer `fuzz.ratio` basado en la distancia Levenshtein entre dos textos."
   ]
  },
  {
   "cell_type": "code",
   "execution_count": 5,
   "metadata": {},
   "outputs": [],
   "source": [
    "from fuzzywuzzy import process\n",
    "from fuzzywuzzy import  fuzz"
   ]
  },
  {
   "cell_type": "code",
   "execution_count": null,
   "metadata": {},
   "outputs": [],
   "source": [
    "n_train=100\n",
    "n_test=50\n",
    "n_traintest=n_train+n_test\n",
    "df['label']=None\n",
    "ii=0\n",
    "similarity=[]\n",
    "for i in df.index:\n",
    "    print(\"=\"*80)\n",
    "    tweet=df.loc[i,'text']\n",
    "    if similarity:\n",
    "        if process.extractOne(tweet,similarity,scorer=fuzz.ratio)[-1]<90:\n",
    "            similarity.append(tweet)\n",
    "            posneg=input(f\"{tweet}: https://twitter.com/twitter/status/{df.loc[i,'id']}\\n → f/c/n/s para 'a favor'/'en contra'/'neutro'/'spam' or <Enter> para continuar:\\n\")\n",
    "            if posneg=='c':\n",
    "                posneg='con'\n",
    "            elif posneg=='f':\n",
    "                posneg='fav'\n",
    "            elif posneg=='n':\n",
    "                posneg='neu'\n",
    "            elif posneg=='s':\n",
    "                posneg='spa'\n",
    "            else:\n",
    "                continue\n",
    "            df.loc[i,'label']=posneg\n",
    "            ii=ii+1\n",
    "    else:\n",
    "        similarity.append(tweet)\n",
    "\n",
    "    if ii==n_traintest:\n",
    "        break"
   ]
  },
  {
   "cell_type": "markdown",
   "metadata": {},
   "source": [
    "Select the train/test filtered DataFrame"
   ]
  },
  {
   "cell_type": "code",
   "execution_count": 7,
   "metadata": {},
   "outputs": [],
   "source": [
    "tmp=df[~df['label'].isna()].reset_index(drop=True)"
   ]
  },
  {
   "cell_type": "code",
   "execution_count": 8,
   "metadata": {},
   "outputs": [
    {
     "data": {
      "text/plain": [
       "(143, 11)"
      ]
     },
     "execution_count": 8,
     "metadata": {},
     "output_type": "execute_result"
    }
   ],
   "source": [
    "tmp.shape"
   ]
  },
  {
   "cell_type": "code",
   "execution_count": 9,
   "metadata": {},
   "outputs": [
    {
     "data": {
      "text/html": [
       "<div>\n",
       "<style scoped>\n",
       "    .dataframe tbody tr th:only-of-type {\n",
       "        vertical-align: middle;\n",
       "    }\n",
       "\n",
       "    .dataframe tbody tr th {\n",
       "        vertical-align: top;\n",
       "    }\n",
       "\n",
       "    .dataframe thead th {\n",
       "        text-align: right;\n",
       "    }\n",
       "</style>\n",
       "<table border=\"1\" class=\"dataframe\">\n",
       "  <thead>\n",
       "    <tr style=\"text-align: right;\">\n",
       "      <th></th>\n",
       "      <th>user_name</th>\n",
       "      <th>user_location</th>\n",
       "      <th>user_description</th>\n",
       "      <th>user_verified</th>\n",
       "      <th>date</th>\n",
       "      <th>text</th>\n",
       "      <th>hashtags</th>\n",
       "      <th>source</th>\n",
       "      <th>id</th>\n",
       "      <th>original_id</th>\n",
       "      <th>label</th>\n",
       "    </tr>\n",
       "  </thead>\n",
       "  <tbody>\n",
       "    <tr>\n",
       "      <th>0</th>\n",
       "      <td>Sandra Suarez - opiniones personales</td>\n",
       "      <td></td>\n",
       "      <td></td>\n",
       "      <td>False</td>\n",
       "      <td>2021-05-22 10:16:48</td>\n",
       "      <td>RT @CapitnColombia: Por su presente, por su futuro, Construiremos un nuevo país. PRIMERA LINEA Y CAPITAN COLOMBIA!. \\n[ 📸Diego Cortes ]\\n#par…</td>\n",
       "      <td>None</td>\n",
       "      <td>Twitter for Android</td>\n",
       "      <td>1396047383784529920</td>\n",
       "      <td>1.395886e+18</td>\n",
       "      <td>fav</td>\n",
       "    </tr>\n",
       "    <tr>\n",
       "      <th>1</th>\n",
       "      <td>@marioperico4</td>\n",
       "      <td></td>\n",
       "      <td>abajotwitter</td>\n",
       "      <td>False</td>\n",
       "      <td>2021-05-22 10:16:41</td>\n",
       "      <td>RT @martinquinco: @jflafaurie @UNPColombia Desbloqueo de vías ya!\\n#NoMasParo \\n#NoMasBloqueos \\n#YoApoyoALaFuerzaPublica</td>\n",
       "      <td>[NoMasParo, NoMasBloqueos, YoApoyoALaFuerzaPublica]</td>\n",
       "      <td>Twitter for Android</td>\n",
       "      <td>1396047356123041792</td>\n",
       "      <td>1.395756e+18</td>\n",
       "      <td>con</td>\n",
       "    </tr>\n",
       "    <tr>\n",
       "      <th>2</th>\n",
       "      <td>Mauro Gabriel Escalona Quiroz</td>\n",
       "      <td></td>\n",
       "      <td>Antiuribista 100% y 24/7, por que Colombia merece vivir en paz. Venceremos al tirano!!</td>\n",
       "      <td>False</td>\n",
       "      <td>2021-05-22 10:16:36</td>\n",
       "      <td>RT @Contagioradio1: #Bogotá Chicos de la guardia comunitaria primera línea en el portal de la resistencia protegiendo a la comunidad #ParoN…</td>\n",
       "      <td>[Bogotá]</td>\n",
       "      <td>Twitter for Android</td>\n",
       "      <td>1396047336439259136</td>\n",
       "      <td>1.395937e+18</td>\n",
       "      <td>fav</td>\n",
       "    </tr>\n",
       "  </tbody>\n",
       "</table>\n",
       "</div>"
      ],
      "text/plain": [
       "                              user_name user_location  \\\n",
       "0  Sandra Suarez - opiniones personales                 \n",
       "1                         @marioperico4                 \n",
       "2         Mauro Gabriel Escalona Quiroz                 \n",
       "\n",
       "                                                                         user_description  \\\n",
       "0                                                                                           \n",
       "1                                                                            abajotwitter   \n",
       "2  Antiuribista 100% y 24/7, por que Colombia merece vivir en paz. Venceremos al tirano!!   \n",
       "\n",
       "   user_verified                date  \\\n",
       "0          False 2021-05-22 10:16:48   \n",
       "1          False 2021-05-22 10:16:41   \n",
       "2          False 2021-05-22 10:16:36   \n",
       "\n",
       "                                                                                                                                             text  \\\n",
       "0  RT @CapitnColombia: Por su presente, por su futuro, Construiremos un nuevo país. PRIMERA LINEA Y CAPITAN COLOMBIA!. \\n[ 📸Diego Cortes ]\\n#par…   \n",
       "1                       RT @martinquinco: @jflafaurie @UNPColombia Desbloqueo de vías ya!\\n#NoMasParo \\n#NoMasBloqueos \\n#YoApoyoALaFuerzaPublica   \n",
       "2    RT @Contagioradio1: #Bogotá Chicos de la guardia comunitaria primera línea en el portal de la resistencia protegiendo a la comunidad #ParoN…   \n",
       "\n",
       "                                              hashtags               source  \\\n",
       "0                                                 None  Twitter for Android   \n",
       "1  [NoMasParo, NoMasBloqueos, YoApoyoALaFuerzaPublica]  Twitter for Android   \n",
       "2                                             [Bogotá]  Twitter for Android   \n",
       "\n",
       "                    id   original_id label  \n",
       "0  1396047383784529920  1.395886e+18   fav  \n",
       "1  1396047356123041792  1.395756e+18   con  \n",
       "2  1396047336439259136  1.395937e+18   fav  "
      ]
     },
     "execution_count": 9,
     "metadata": {},
     "output_type": "execute_result"
    }
   ],
   "source": [
    "tmp[:3]"
   ]
  },
  {
   "cell_type": "code",
   "execution_count": 10,
   "metadata": {},
   "outputs": [
    {
     "data": {
      "text/plain": [
       "(143, 11)"
      ]
     },
     "execution_count": 10,
     "metadata": {},
     "output_type": "execute_result"
    }
   ],
   "source": [
    "tmp.shape"
   ]
  },
  {
   "cell_type": "code",
   "execution_count": 42,
   "metadata": {},
   "outputs": [
    {
     "name": "stderr",
     "output_type": "stream",
     "text": [
      "[nltk_data] Downloading package stopwords to\n",
      "[nltk_data]     /home/restrepo/nltk_data...\n",
      "[nltk_data]   Package stopwords is already up-to-date!\n"
     ]
    }
   ],
   "source": [
    "import nltk\n",
    "from nltk.corpus import stopwords\n",
    "nltk.download('stopwords')\n",
    "import re\n",
    "stop_words=['rt',':']+stopwords.words('spanish')\n",
    "def preprocess_tweet_text(tweet):\n",
    "    tweet=tweet.lower()\n",
    "    # Remove urls\n",
    "    tweet = re.sub(r\"http\\S+|www\\S+|https\\S+\", '', tweet, re.UNICODE ,flags=re.MULTILINE)\n",
    "    # Remove user @ references and '#' from tweet\n",
    "    tweet = re.sub(r'\\@\\w+|\\#','', tweet)\n",
    "    # Remove punctuations\n",
    "    #tweet = tweet.translate(str.maketrans('', '', string.punctuation))\n",
    "    # Remove stopwords\n",
    "    tweet_tokens = tweet.replace(\"  \",\" \").split()\n",
    "    filtered_words = [w for w in tweet_tokens if not w in stop_words]\n",
    "    \n",
    "    #ps = PorterStemmer()\n",
    "    #stemmed_words = [ps.stem(w) for w in filtered_words]\n",
    "    #lemmatizer = WordNetLemmatizer()\n",
    "    #lemma_words = [lemmatizer.lemmatize(w, pos='a') for w in stemmed_words]\n",
    "    \n",
    "    return \" \".join(filtered_words)"
   ]
  },
  {
   "cell_type": "code",
   "execution_count": 44,
   "metadata": {},
   "outputs": [],
   "source": [
    "tweet=tmp.loc[0,'text']"
   ]
  },
  {
   "cell_type": "code",
   "execution_count": 45,
   "metadata": {},
   "outputs": [
    {
     "data": {
      "text/plain": [
       "'presente, futuro, construiremos nuevo país. primera linea capitan colombia!. [ 📸diego cortes ] par…'"
      ]
     },
     "execution_count": 45,
     "metadata": {},
     "output_type": "execute_result"
    }
   ],
   "source": [
    "preprocess_tweet_text(tweet)"
   ]
  },
  {
   "cell_type": "code",
   "execution_count": 67,
   "metadata": {},
   "outputs": [],
   "source": [
    "UNNNECESSARY=True\n",
    "if not UNNNECESSARY:\n",
    "    tmp['text']=tmp['text'].apply(preprocess_tweet_text)"
   ]
  },
  {
   "cell_type": "code",
   "execution_count": 68,
   "metadata": {},
   "outputs": [],
   "source": [
    "RELOAD=True\n",
    "train=pd.read_json('train.json')\n",
    "test=pd.read_json('test.json')"
   ]
  },
  {
   "cell_type": "code",
   "execution_count": 69,
   "metadata": {},
   "outputs": [],
   "source": [
    "train=tmp[:n_train][['text','label']].reset_index(drop=True)"
   ]
  },
  {
   "cell_type": "code",
   "execution_count": 70,
   "metadata": {},
   "outputs": [],
   "source": [
    "from textblob.classifiers import NaiveBayesClassifier"
   ]
  },
  {
   "cell_type": "code",
   "execution_count": 71,
   "metadata": {},
   "outputs": [
    {
     "name": "stderr",
     "output_type": "stream",
     "text": [
      "[nltk_data] Downloading package punkt to /home/restrepo/nltk_data...\n",
      "[nltk_data]   Package punkt is already up-to-date!\n"
     ]
    },
    {
     "data": {
      "text/plain": [
       "True"
      ]
     },
     "execution_count": 71,
     "metadata": {},
     "output_type": "execute_result"
    }
   ],
   "source": [
    "import nltk\n",
    "nltk.download('punkt')  "
   ]
  },
  {
   "cell_type": "code",
   "execution_count": 72,
   "metadata": {},
   "outputs": [],
   "source": [
    "cl = NaiveBayesClassifier(  \n",
    "    [ (d.get('text'),d.get('label')) for d in train.to_dict(orient='records')]  )"
   ]
  },
  {
   "cell_type": "code",
   "execution_count": 73,
   "metadata": {},
   "outputs": [],
   "source": [
    "test=tmp[n_train:][['text','label']].reset_index(drop=True)"
   ]
  },
  {
   "cell_type": "code",
   "execution_count": 78,
   "metadata": {},
   "outputs": [],
   "source": [
    "SAVE=False\n",
    "if SAVE:\n",
    "    train.to_json('train.json',orient='records')\n",
    "    test.to_json('train.json',orient='records')"
   ]
  },
  {
   "cell_type": "code",
   "execution_count": 75,
   "metadata": {},
   "outputs": [],
   "source": [
    "fulltest=test.copy()\n",
    "fulltest['test']=fulltest['text'].apply(cl.classify)"
   ]
  },
  {
   "cell_type": "code",
   "execution_count": 76,
   "metadata": {},
   "outputs": [
    {
     "data": {
      "text/html": [
       "<div>\n",
       "<style scoped>\n",
       "    .dataframe tbody tr th:only-of-type {\n",
       "        vertical-align: middle;\n",
       "    }\n",
       "\n",
       "    .dataframe tbody tr th {\n",
       "        vertical-align: top;\n",
       "    }\n",
       "\n",
       "    .dataframe thead th {\n",
       "        text-align: right;\n",
       "    }\n",
       "</style>\n",
       "<table border=\"1\" class=\"dataframe\">\n",
       "  <thead>\n",
       "    <tr style=\"text-align: right;\">\n",
       "      <th></th>\n",
       "      <th>text</th>\n",
       "      <th>label</th>\n",
       "      <th>test</th>\n",
       "    </tr>\n",
       "  </thead>\n",
       "  <tbody>\n",
       "    <tr>\n",
       "      <th>0</th>\n",
       "      <td>grupo whatsapp: cambio ventas cuentas frefire comprar vender cuentas frefire... | cali amigos cali amigas cali amistad cali conocer gente cali gamers games videojuegos juegos jugadores gaming juegos online jugar online ps4 p...</td>\n",
       "      <td>spa</td>\n",
       "      <td>con</td>\n",
       "    </tr>\n",
       "    <tr>\n",
       "      <th>1</th>\n",
       "      <td>bueno, ya‼️ paro‼️ ya‼️ más... paronacional21m nomasparo cidhencolombia bloqueomental …</td>\n",
       "      <td>con</td>\n",
       "      <td>con</td>\n",
       "    </tr>\n",
       "    <tr>\n",
       "      <th>2</th>\n",
       "      <td>paronacional | \"hay infiltrados aprovechan manifestaciones cometer actos delictivos\": cgt detall…</td>\n",
       "      <td>con</td>\n",
       "      <td>con</td>\n",
       "    </tr>\n",
       "  </tbody>\n",
       "</table>\n",
       "</div>"
      ],
      "text/plain": [
       "                                                                                                                                                                                                                                  text  \\\n",
       "0  grupo whatsapp: cambio ventas cuentas frefire comprar vender cuentas frefire... | cali amigos cali amigas cali amistad cali conocer gente cali gamers games videojuegos juegos jugadores gaming juegos online jugar online ps4 p...   \n",
       "1                                                                                                                                              bueno, ya‼️ paro‼️ ya‼️ más... paronacional21m nomasparo cidhencolombia bloqueomental …   \n",
       "2                                                                                                                                    paronacional | \"hay infiltrados aprovechan manifestaciones cometer actos delictivos\": cgt detall…   \n",
       "\n",
       "  label test  \n",
       "0   spa  con  \n",
       "1   con  con  \n",
       "2   con  con  "
      ]
     },
     "execution_count": 76,
     "metadata": {},
     "output_type": "execute_result"
    }
   ],
   "source": [
    "fulltest[['text','label','test']][:3]"
   ]
  },
  {
   "cell_type": "code",
   "execution_count": 77,
   "metadata": {},
   "outputs": [
    {
     "data": {
      "text/plain": [
       "0.7674418604651163"
      ]
     },
     "execution_count": 77,
     "metadata": {},
     "output_type": "execute_result"
    }
   ],
   "source": [
    "cl.accuracy( [ (d.get('text'),d.get('label')) for d in test.to_dict(orient='records')] )"
   ]
  },
  {
   "cell_type": "code",
   "execution_count": 20,
   "metadata": {},
   "outputs": [],
   "source": [
    "fulltest['prob']=fulltest['text'].apply(lambda t:   \n",
    "                                cl.prob_classify( t ).prob(   cl.classify( t  )  ) ).round(2)"
   ]
  },
  {
   "cell_type": "code",
   "execution_count": 56,
   "metadata": {},
   "outputs": [
    {
     "data": {
      "text/html": [
       "<div>\n",
       "<style scoped>\n",
       "    .dataframe tbody tr th:only-of-type {\n",
       "        vertical-align: middle;\n",
       "    }\n",
       "\n",
       "    .dataframe tbody tr th {\n",
       "        vertical-align: top;\n",
       "    }\n",
       "\n",
       "    .dataframe thead th {\n",
       "        text-align: right;\n",
       "    }\n",
       "</style>\n",
       "<table border=\"1\" class=\"dataframe\">\n",
       "  <thead>\n",
       "    <tr style=\"text-align: right;\">\n",
       "      <th></th>\n",
       "      <th>text</th>\n",
       "      <th>label</th>\n",
       "      <th>test</th>\n",
       "    </tr>\n",
       "  </thead>\n",
       "  <tbody>\n",
       "    <tr>\n",
       "      <th>0</th>\n",
       "      <td>grupo whatsapp: cambio ventas cuentas frefire comprar vender cuentas frefire... | cali amigos cali amigas cali amistad cali conocer gente cali gamers games videojuegos juegos jugadores gaming juegos online jugar online ps4 p...</td>\n",
       "      <td>spa</td>\n",
       "      <td>con</td>\n",
       "    </tr>\n",
       "    <tr>\n",
       "      <th>1</th>\n",
       "      <td>bueno, ya‼️ paro‼️ ya‼️ más... paronacional21m nomasparo cidhencolombia bloqueomental …</td>\n",
       "      <td>con</td>\n",
       "      <td>con</td>\n",
       "    </tr>\n",
       "    <tr>\n",
       "      <th>2</th>\n",
       "      <td>paronacional | \"hay infiltrados aprovechan manifestaciones cometer actos delictivos\": cgt detall…</td>\n",
       "      <td>con</td>\n",
       "      <td>con</td>\n",
       "    </tr>\n",
       "    <tr>\n",
       "      <th>3</th>\n",
       "      <td>noticias tonito actual situación colombia medios comunicación cumplen papel fundamental mucha…</td>\n",
       "      <td>neu</td>\n",
       "      <td>fav</td>\n",
       "    </tr>\n",
       "    <tr>\n",
       "      <th>4</th>\n",
       "      <td>nomasparo nomasbloqueos si destruyen pequeñas, medianas grandes empresas empleo.</td>\n",
       "      <td>con</td>\n",
       "      <td>con</td>\n",
       "    </tr>\n",
       "    <tr>\n",
       "      <th>5</th>\n",
       "      <td>exito calipso fuerte operaciones policía nacional, ahi atacan manifestantes. aun gaseando barrios vecinos esmad disparando primeras lineas sector. paronacional exitocalipso soscali</td>\n",
       "      <td>fav</td>\n",
       "      <td>fav</td>\n",
       "    </tr>\n",
       "    <tr>\n",
       "      <th>6</th>\n",
       "      <td>¿qué hacer caso detención arbitraria?constitución colombia.art30.quien estuviere privado libertad, creyere estarlo ilegalmente, derecho invocar cualquier autoridad judicial hábeas corpus colombiaenalertaroja habeascorpus cali ddhhcolombia</td>\n",
       "      <td>fav</td>\n",
       "      <td>fav</td>\n",
       "    </tr>\n",
       "    <tr>\n",
       "      <th>7</th>\n",
       "      <td>valiente pueblo colombia debería tener alzar voz armas gases lacrimógenos. firmas unidas pueden hacer represión violencia policial manifiestan paronacional acabe 🇨🇴 📜🖊➡</td>\n",
       "      <td>fav</td>\n",
       "      <td>fav</td>\n",
       "    </tr>\n",
       "    <tr>\n",
       "      <th>8</th>\n",
       "      <td>alaire \"aquí obligación ambas partes, usar diálogo tan bloqueando obl…</td>\n",
       "      <td>neu</td>\n",
       "      <td>fav</td>\n",
       "    </tr>\n",
       "    <tr>\n",
       "      <th>9</th>\n",
       "      <td>echan plomo, puede ser. calman, civiles armamos enfrentamos tú. nomasparo nomaspetro nomasterrorismo</td>\n",
       "      <td>con</td>\n",
       "      <td>con</td>\n",
       "    </tr>\n",
       "    <tr>\n",
       "      <th>10</th>\n",
       "      <td>nomasparo nomasbloqueos realidad muchas empresas cerrar, paro acelerando todo. perdemos cierre.</td>\n",
       "      <td>con</td>\n",
       "      <td>con</td>\n",
       "    </tr>\n",
       "    <tr>\n",
       "      <th>11</th>\n",
       "      <td>viral. palabras aliento madre apoya jóvenes manifiestan marco paronacional.</td>\n",
       "      <td>fav</td>\n",
       "      <td>fav</td>\n",
       "    </tr>\n",
       "    <tr>\n",
       "      <th>12</th>\n",
       "      <td>proyecto independiente,que mete ganas cambie, 4 años intentando progresar aquí, ponen imposible gobierno mientras subsidian bancos billones ,pero firmes apoyando paro nacional dignidad paronacional</td>\n",
       "      <td>fav</td>\n",
       "      <td>fav</td>\n",
       "    </tr>\n",
       "    <tr>\n",
       "      <th>13</th>\n",
       "      <td>q paronacional pa sacar debacle familias uds pueblo. reformapolicialya paronacional21m duqueasesino</td>\n",
       "      <td>fav</td>\n",
       "      <td>fav</td>\n",
       "    </tr>\n",
       "    <tr>\n",
       "      <th>14</th>\n",
       "      <td>mano dura vándalos bloquean vias ministro favor nomasparo nomasbloqueo vandalosasesinos</td>\n",
       "      <td>con</td>\n",
       "      <td>con</td>\n",
       "    </tr>\n",
       "    <tr>\n",
       "      <th>15</th>\n",
       "      <td>colombianos aburridos bloqueos paro nomasparo nomasbloqueos</td>\n",
       "      <td>con</td>\n",
       "      <td>con</td>\n",
       "    </tr>\n",
       "    <tr>\n",
       "      <th>16</th>\n",
       "      <td>preocupante cacería brujas fuerzas armadas gobierno vender resultados idea una…</td>\n",
       "      <td>fav</td>\n",
       "      <td>fav</td>\n",
       "    </tr>\n",
       "    <tr>\n",
       "      <th>17</th>\n",
       "      <td>comunidad caleña expulsa fuerza pública barrios ciudad. sentir sectores caleños la…</td>\n",
       "      <td>fav</td>\n",
       "      <td>fav</td>\n",
       "    </tr>\n",
       "    <tr>\n",
       "      <th>18</th>\n",
       "      <td>ocho millones litros leche perdiendo valle debido bloqueos; afectación directa sustento d…</td>\n",
       "      <td>con</td>\n",
       "      <td>con</td>\n",
       "    </tr>\n",
       "    <tr>\n",
       "      <th>19</th>\n",
       "      <td>si diferencia bandidaje previsibilidad último, hace rato convirtió enfrentamiento bandidos soscolombiaddhh soldadoúnasealparo zapateiroasesino capturenazapateiro paronacional uribediolaorden</td>\n",
       "      <td>con</td>\n",
       "      <td>con</td>\n",
       "    </tr>\n",
       "    <tr>\n",
       "      <th>20</th>\n",
       "      <td>valentía izquierda, jóvenes, reconocer sector extremista quiere destruir violencia. sabe, hace juego. paronacional22m rusia alejandrogaviria cali cidhencolombia cauca bloqueos protestas paz</td>\n",
       "      <td>con</td>\n",
       "      <td>fav</td>\n",
       "    </tr>\n",
       "    <tr>\n",
       "      <th>21</th>\n",
       "      <td>colombianos bien, gran mayoría, vamos defender instituciones, policía, esmad, todas fuerzas armadas... 🇨🇴 yoapoyoalesmad yoapoyoalafuerzapublica</td>\n",
       "      <td>con</td>\n",
       "      <td>con</td>\n",
       "    </tr>\n",
       "    <tr>\n",
       "      <th>22</th>\n",
       "      <td>bandera debe respetar. nomasbloqueos nomasbloqueos nomasparo nomasparo</td>\n",
       "      <td>con</td>\n",
       "      <td>con</td>\n",
       "    </tr>\n",
       "    <tr>\n",
       "      <th>23</th>\n",
       "      <td>gente copia mayoria sabe q tal paronacional político, solo falta q se…</td>\n",
       "      <td>con</td>\n",
       "      <td>con</td>\n",
       "    </tr>\n",
       "    <tr>\n",
       "      <th>24</th>\n",
       "      <td>1,6 millones niños dejan recibir comida, 12 mil carreteras echo dinero paro miles d…</td>\n",
       "      <td>con</td>\n",
       "      <td>con</td>\n",
       "    </tr>\n",
       "    <tr>\n",
       "      <th>25</th>\n",
       "      <td>mañana vemos calles, ¡obvio! paronacional continúa falta conseguir. dijo joven acercó reconocer trabajo queremos, necesitamos, ¿qué?, país digno todxs.</td>\n",
       "      <td>fav</td>\n",
       "      <td>fav</td>\n",
       "    </tr>\n",
       "    <tr>\n",
       "      <th>26</th>\n",
       "      <td>🚨 alerta cali • mayo 21 • 10:30 p.m alertamos toda comunidad ataque hora hace esmad punto resistencia calipso gases lacrímogenos forma desmedida. manifestantes encuentran manera pacífica lugar. — caliresiste calipso</td>\n",
       "      <td>fav</td>\n",
       "      <td>fav</td>\n",
       "    </tr>\n",
       "    <tr>\n",
       "      <th>27</th>\n",
       "      <td>favor, situación caquetá llegó límite bloqueos municipios garzón altamira - huila. h…</td>\n",
       "      <td>con</td>\n",
       "      <td>con</td>\n",
       "    </tr>\n",
       "    <tr>\n",
       "      <th>28</th>\n",
       "      <td>cortando luz, internet señal masacrar. duqueasesino soscolombia soscolombiaddhh colombiasosddhh par…</td>\n",
       "      <td>fav</td>\n",
       "      <td>con</td>\n",
       "    </tr>\n",
       "    <tr>\n",
       "      <th>29</th>\n",
       "      <td>felizviernes sigamos calles labrando futuro. \"¡resiste palestina🇵🇸, lucha colombia🇨🇴!\" paro…</td>\n",
       "      <td>fav</td>\n",
       "      <td>fav</td>\n",
       "    </tr>\n",
       "    <tr>\n",
       "      <th>30</th>\n",
       "      <td>bandera jamás la.profanare. orgullocolombiano nomasparo nomasbloqueos</td>\n",
       "      <td>con</td>\n",
       "      <td>con</td>\n",
       "    </tr>\n",
       "    <tr>\n",
       "      <th>31</th>\n",
       "      <td>popayán actuaciones desbordadas esmad plazuela hospital san josé m19 paronacional</td>\n",
       "      <td>fav</td>\n",
       "      <td>fav</td>\n",
       "    </tr>\n",
       "    <tr>\n",
       "      <th>32</th>\n",
       "      <td>nomasparo quebrando empresas trabajan millones colombianos!</td>\n",
       "      <td>con</td>\n",
       "      <td>con</td>\n",
       "    </tr>\n",
       "    <tr>\n",
       "      <th>33</th>\n",
       "      <td>🔴 vivo 🔴 fondo cut juventud trabajadora paronacional 👤 lina maría montilla [], pre…</td>\n",
       "      <td>fav</td>\n",
       "      <td>con</td>\n",
       "    </tr>\n",
       "    <tr>\n",
       "      <th>34</th>\n",
       "      <td>sencillo necesitamos nomasbloqueos nomasparo</td>\n",
       "      <td>con</td>\n",
       "      <td>con</td>\n",
       "    </tr>\n",
       "    <tr>\n",
       "      <th>35</th>\n",
       "      <td>dije hace casi mes, afrontando realidad verdadera paronacional lleva cabeza caos</td>\n",
       "      <td>con</td>\n",
       "      <td>con</td>\n",
       "    </tr>\n",
       "    <tr>\n",
       "      <th>36</th>\n",
       "      <td>dolor alma ver kennedy situación resume debemos considerarlos, protestantes, vándalos; “terroristas”. paronacional</td>\n",
       "      <td>con</td>\n",
       "      <td>fav</td>\n",
       "    </tr>\n",
       "    <tr>\n",
       "      <th>37</th>\n",
       "      <td>montería pedalea derechos pueblo colombiano. ¡el paro para, paro continúa! paronacional12m paronacional…</td>\n",
       "      <td>fav</td>\n",
       "      <td>fav</td>\n",
       "    </tr>\n",
       "    <tr>\n",
       "      <th>38</th>\n",
       "      <td>tres años, tardaron tres años darse cuenta duque presidente mediocre malparido, sabíamos 2018 quisieron creer duquerenuncieya paronacional paronacional21m</td>\n",
       "      <td>fav</td>\n",
       "      <td>fav</td>\n",
       "    </tr>\n",
       "    <tr>\n",
       "      <th>39</th>\n",
       "      <td>doloroso capítulo violencia sexual paronacional.</td>\n",
       "      <td>neu</td>\n",
       "      <td>fav</td>\n",
       "    </tr>\n",
       "    <tr>\n",
       "      <th>40</th>\n",
       "      <td>nuevamente smad ataca ciudad cartagovalle porfavor difundir conmocioninteriorya soscartago soscolombia…</td>\n",
       "      <td>fav</td>\n",
       "      <td>con</td>\n",
       "    </tr>\n",
       "    <tr>\n",
       "      <th>41</th>\n",
       "      <td>nosestanmasacrando cali momento dónde gentedebien comportan presuntos paramilitares denigran lucha…</td>\n",
       "      <td>fav</td>\n",
       "      <td>con</td>\n",
       "    </tr>\n",
       "    <tr>\n",
       "      <th>42</th>\n",
       "      <td>si usted persona sensata, viera video escribiría nomasparo salud negocia.</td>\n",
       "      <td>con</td>\n",
       "      <td>con</td>\n",
       "    </tr>\n",
       "  </tbody>\n",
       "</table>\n",
       "</div>"
      ],
      "text/plain": [
       "                                                                                                                                                                                                                                              text  \\\n",
       "0              grupo whatsapp: cambio ventas cuentas frefire comprar vender cuentas frefire... | cali amigos cali amigas cali amistad cali conocer gente cali gamers games videojuegos juegos jugadores gaming juegos online jugar online ps4 p...   \n",
       "1                                                                                                                                                          bueno, ya‼️ paro‼️ ya‼️ más... paronacional21m nomasparo cidhencolombia bloqueomental …   \n",
       "2                                                                                                                                                paronacional | \"hay infiltrados aprovechan manifestaciones cometer actos delictivos\": cgt detall…   \n",
       "3                                                                                                                                                   noticias tonito actual situación colombia medios comunicación cumplen papel fundamental mucha…   \n",
       "4                                                                                                                                                                 nomasparo nomasbloqueos si destruyen pequeñas, medianas grandes empresas empleo.   \n",
       "5                                                             exito calipso fuerte operaciones policía nacional, ahi atacan manifestantes. aun gaseando barrios vecinos esmad disparando primeras lineas sector. paronacional exitocalipso soscali   \n",
       "6   ¿qué hacer caso detención arbitraria?constitución colombia.art30.quien estuviere privado libertad, creyere estarlo ilegalmente, derecho invocar cualquier autoridad judicial hábeas corpus colombiaenalertaroja habeascorpus cali ddhhcolombia   \n",
       "7                                                                         valiente pueblo colombia debería tener alzar voz armas gases lacrimógenos. firmas unidas pueden hacer represión violencia policial manifiestan paronacional acabe 🇨🇴 📜🖊➡   \n",
       "8                                                                                                                                                                           alaire \"aquí obligación ambas partes, usar diálogo tan bloqueando obl…   \n",
       "9                                                                                                                                             echan plomo, puede ser. calman, civiles armamos enfrentamos tú. nomasparo nomaspetro nomasterrorismo   \n",
       "10                                                                                                                                                 nomasparo nomasbloqueos realidad muchas empresas cerrar, paro acelerando todo. perdemos cierre.   \n",
       "11                                                                                                                                                                     viral. palabras aliento madre apoya jóvenes manifiestan marco paronacional.   \n",
       "12                                           proyecto independiente,que mete ganas cambie, 4 años intentando progresar aquí, ponen imposible gobierno mientras subsidian bancos billones ,pero firmes apoyando paro nacional dignidad paronacional   \n",
       "13                                                                                                                                             q paronacional pa sacar debacle familias uds pueblo. reformapolicialya paronacional21m duqueasesino   \n",
       "14                                                                                                                                                         mano dura vándalos bloquean vias ministro favor nomasparo nomasbloqueo vandalosasesinos   \n",
       "15                                                                                                                                                                                     colombianos aburridos bloqueos paro nomasparo nomasbloqueos   \n",
       "16                                                                                                                                                                 preocupante cacería brujas fuerzas armadas gobierno vender resultados idea una…   \n",
       "17                                                                                                                                                             comunidad caleña expulsa fuerza pública barrios ciudad. sentir sectores caleños la…   \n",
       "18                                                                                                                                                      ocho millones litros leche perdiendo valle debido bloqueos; afectación directa sustento d…   \n",
       "19                                                  si diferencia bandidaje previsibilidad último, hace rato convirtió enfrentamiento bandidos soscolombiaddhh soldadoúnasealparo zapateiroasesino capturenazapateiro paronacional uribediolaorden   \n",
       "20                                                   valentía izquierda, jóvenes, reconocer sector extremista quiere destruir violencia. sabe, hace juego. paronacional22m rusia alejandrogaviria cali cidhencolombia cauca bloqueos protestas paz   \n",
       "21                                                                                                colombianos bien, gran mayoría, vamos defender instituciones, policía, esmad, todas fuerzas armadas... 🇨🇴 yoapoyoalesmad yoapoyoalafuerzapublica   \n",
       "22                                                                                                                                                                          bandera debe respetar. nomasbloqueos nomasbloqueos nomasparo nomasparo   \n",
       "23                                                                                                                                                                          gente copia mayoria sabe q tal paronacional político, solo falta q se…   \n",
       "24                                                                                                                                                            1,6 millones niños dejan recibir comida, 12 mil carreteras echo dinero paro miles d…   \n",
       "25                                                                                         mañana vemos calles, ¡obvio! paronacional continúa falta conseguir. dijo joven acercó reconocer trabajo queremos, necesitamos, ¿qué?, país digno todxs.   \n",
       "26                         🚨 alerta cali • mayo 21 • 10:30 p.m alertamos toda comunidad ataque hora hace esmad punto resistencia calipso gases lacrímogenos forma desmedida. manifestantes encuentran manera pacífica lugar. — caliresiste calipso   \n",
       "27                                                                                                                                                           favor, situación caquetá llegó límite bloqueos municipios garzón altamira - huila. h…   \n",
       "28                                                                                                                                            cortando luz, internet señal masacrar. duqueasesino soscolombia soscolombiaddhh colombiasosddhh par…   \n",
       "29                                                                                                                                                    felizviernes sigamos calles labrando futuro. \"¡resiste palestina🇵🇸, lucha colombia🇨🇴!\" paro…   \n",
       "30                                                                                                                                                                           bandera jamás la.profanare. orgullocolombiano nomasparo nomasbloqueos   \n",
       "31                                                                                                                                                               popayán actuaciones desbordadas esmad plazuela hospital san josé m19 paronacional   \n",
       "32                                                                                                                                                                                     nomasparo quebrando empresas trabajan millones colombianos!   \n",
       "33                                                                                                                                                             🔴 vivo 🔴 fondo cut juventud trabajadora paronacional 👤 lina maría montilla [], pre…   \n",
       "34                                                                                                                                                                                                    sencillo necesitamos nomasbloqueos nomasparo   \n",
       "35                                                                                                                                                                dije hace casi mes, afrontando realidad verdadera paronacional lleva cabeza caos   \n",
       "36                                                                                                                              dolor alma ver kennedy situación resume debemos considerarlos, protestantes, vándalos; “terroristas”. paronacional   \n",
       "37                                                                                                                                        montería pedalea derechos pueblo colombiano. ¡el paro para, paro continúa! paronacional12m paronacional…   \n",
       "38                                                                                      tres años, tardaron tres años darse cuenta duque presidente mediocre malparido, sabíamos 2018 quisieron creer duquerenuncieya paronacional paronacional21m   \n",
       "39                                                                                                                                                                                                doloroso capítulo violencia sexual paronacional.   \n",
       "40                                                                                                                                         nuevamente smad ataca ciudad cartagovalle porfavor difundir conmocioninteriorya soscartago soscolombia…   \n",
       "41                                                                                                                                             nosestanmasacrando cali momento dónde gentedebien comportan presuntos paramilitares denigran lucha…   \n",
       "42                                                                                                                                                                       si usted persona sensata, viera video escribiría nomasparo salud negocia.   \n",
       "\n",
       "   label test  \n",
       "0    spa  con  \n",
       "1    con  con  \n",
       "2    con  con  \n",
       "3    neu  fav  \n",
       "4    con  con  \n",
       "5    fav  fav  \n",
       "6    fav  fav  \n",
       "7    fav  fav  \n",
       "8    neu  fav  \n",
       "9    con  con  \n",
       "10   con  con  \n",
       "11   fav  fav  \n",
       "12   fav  fav  \n",
       "13   fav  fav  \n",
       "14   con  con  \n",
       "15   con  con  \n",
       "16   fav  fav  \n",
       "17   fav  fav  \n",
       "18   con  con  \n",
       "19   con  con  \n",
       "20   con  fav  \n",
       "21   con  con  \n",
       "22   con  con  \n",
       "23   con  con  \n",
       "24   con  con  \n",
       "25   fav  fav  \n",
       "26   fav  fav  \n",
       "27   con  con  \n",
       "28   fav  con  \n",
       "29   fav  fav  \n",
       "30   con  con  \n",
       "31   fav  fav  \n",
       "32   con  con  \n",
       "33   fav  con  \n",
       "34   con  con  \n",
       "35   con  con  \n",
       "36   con  fav  \n",
       "37   fav  fav  \n",
       "38   fav  fav  \n",
       "39   neu  fav  \n",
       "40   fav  con  \n",
       "41   fav  con  \n",
       "42   con  con  "
      ]
     },
     "execution_count": 56,
     "metadata": {},
     "output_type": "execute_result"
    }
   ],
   "source": [
    "fulltest"
   ]
  },
  {
   "cell_type": "markdown",
   "metadata": {},
   "source": [
    "Aplicar al DataFrame Completo"
   ]
  },
  {
   "cell_type": "code",
   "execution_count": 36,
   "metadata": {},
   "outputs": [],
   "source": [
    "df['test']=df['text'].apply(cl.classify)\n",
    "df['prob']=df['text'].apply(lambda t:   \n",
    "                                cl.prob_classify( t ).prob(   cl.classify( t  )  ) ).round(2)"
   ]
  },
  {
   "cell_type": "code",
   "execution_count": 37,
   "metadata": {},
   "outputs": [],
   "source": [
    "dfp=df.drop_duplicates('text').reset_index(drop=True)"
   ]
  },
  {
   "cell_type": "code",
   "execution_count": 38,
   "metadata": {},
   "outputs": [
    {
     "data": {
      "text/html": [
       "<div>\n",
       "<style scoped>\n",
       "    .dataframe tbody tr th:only-of-type {\n",
       "        vertical-align: middle;\n",
       "    }\n",
       "\n",
       "    .dataframe tbody tr th {\n",
       "        vertical-align: top;\n",
       "    }\n",
       "\n",
       "    .dataframe thead th {\n",
       "        text-align: right;\n",
       "    }\n",
       "</style>\n",
       "<table border=\"1\" class=\"dataframe\">\n",
       "  <thead>\n",
       "    <tr style=\"text-align: right;\">\n",
       "      <th></th>\n",
       "      <th>text</th>\n",
       "      <th>test</th>\n",
       "      <th>prob</th>\n",
       "    </tr>\n",
       "  </thead>\n",
       "  <tbody>\n",
       "    <tr>\n",
       "      <th>1408</th>\n",
       "      <td>#ParoNacional\\n#1deMayo\\n#EsmadAsesinos\\n#ReformaTributaria\\n#ParoNacional1M\\n#DuquePareLaViolencia\\n#Bogota\\n#UribeDioLaOrden\\n#SOSColombiaDDHH\\n#ATENCION\\n#DDHH\\n Bogotá, Colombia. Paro Nacional - Asamblea informativa de maestros I.E.D... https://t.co/mQalO9k2xQ a través de @YouTube</td>\n",
       "      <td>fav</td>\n",
       "      <td>0.65</td>\n",
       "    </tr>\n",
       "    <tr>\n",
       "      <th>689</th>\n",
       "      <td>RT @teleSURtv: #Colombia 🇨🇴 | Ciudadanos denunciaron este martes que el #Esmad de la Policía reprimió la noche del lunes a las personas que…</td>\n",
       "      <td>fav</td>\n",
       "      <td>0.59</td>\n",
       "    </tr>\n",
       "    <tr>\n",
       "      <th>1954</th>\n",
       "      <td>@IvanCepedaCast El derecho a la protesta entierra los demás derechos ciudadanos en #Colombia! El pueblo es sometido por la dictadura de bloqueos y vandalismo! #UribeTieneLaRazon #PetroNuncaSeraPresidente #PetroSeHaceODIAR</td>\n",
       "      <td>fav</td>\n",
       "      <td>0.80</td>\n",
       "    </tr>\n",
       "    <tr>\n",
       "      <th>1157</th>\n",
       "      <td>#Buenaventura #BuenaventuraResiste #SOSBuenaventura \\nEXPLOSIÓN PETARDOS \\nRESISTENCIA \\n#UribeDioLaOrden #ElParoNOPara\\n #ColombiaResiste #ColombiaSOS  #SOSOCOLOMBIA #PrimeraLinea #GraciasPrimeraLinea #SOSColombiaDDDHH #ParoNacional17M  #ParoNacional https://t.co/3AA00H1OVk</td>\n",
       "      <td>con</td>\n",
       "      <td>0.65</td>\n",
       "    </tr>\n",
       "    <tr>\n",
       "      <th>71</th>\n",
       "      <td>RT @MafeCarrascal: ¿Y mañana sábado?¿Monumento a Los Héroes en Bogotá? #ParoNacional</td>\n",
       "      <td>con</td>\n",
       "      <td>0.93</td>\n",
       "    </tr>\n",
       "    <tr>\n",
       "      <th>2255</th>\n",
       "      <td>@petrogustavo #NoMasParo #PetroEsUnHampon #PETRO DESTRUYE A COLOMBIA https://t.co/dpc2tZCder</td>\n",
       "      <td>con</td>\n",
       "      <td>1.00</td>\n",
       "    </tr>\n",
       "    <tr>\n",
       "      <th>1678</th>\n",
       "      <td>TRAIGA MENOR QUE SE LLEVARON AYER \\nPIDA PERDON X LAS VIOLACIONES A LA MUJER \\n#PortalAmericas RESISTE SIN NEGOCIACIONES #Colombia #Bogotá #bogotáenalertaroja #BogotáResiste\\n#PrimeraLinea #GraciasPrimeraLinea #ParoNacional18M  #ParoNacional18M #ParoNacional #ElParoNOPara https://t.co/4BR1i4KYAa</td>\n",
       "      <td>con</td>\n",
       "      <td>0.83</td>\n",
       "    </tr>\n",
       "    <tr>\n",
       "      <th>514</th>\n",
       "      <td>#Rusia rechaza declaraciones del Ministro de Defensa, Diego Molano de #Colombia, quien aseguró que, en un ejercicio de ciberseguridad, durante las protestas han salido 102 noticias falsas para desacreditar a la policía. #ParoNacional\\n\\nhttps://t.co/1S3fAuOnOi</td>\n",
       "      <td>fav</td>\n",
       "      <td>0.99</td>\n",
       "    </tr>\n",
       "    <tr>\n",
       "      <th>1701</th>\n",
       "      <td>Se me acaban las esperanzas... #NoMasParo #NoMasBloqueos #Rechazo #VandalismoPuroYDuro https://t.co/QCvB3o61Ar</td>\n",
       "      <td>con</td>\n",
       "      <td>1.00</td>\n",
       "    </tr>\n",
       "    <tr>\n",
       "      <th>104</th>\n",
       "      <td>RT @CesarJerezM: Esta mañana fue encontrada la cabeza de un muchacho en un contenedor de basura del Colegio Alfonso López,  cerca al @almac…</td>\n",
       "      <td>fav</td>\n",
       "      <td>0.97</td>\n",
       "    </tr>\n",
       "  </tbody>\n",
       "</table>\n",
       "</div>"
      ],
      "text/plain": [
       "                                                                                                                                                                                                                                                                                                          text  \\\n",
       "1408             #ParoNacional\\n#1deMayo\\n#EsmadAsesinos\\n#ReformaTributaria\\n#ParoNacional1M\\n#DuquePareLaViolencia\\n#Bogota\\n#UribeDioLaOrden\\n#SOSColombiaDDHH\\n#ATENCION\\n#DDHH\\n Bogotá, Colombia. Paro Nacional - Asamblea informativa de maestros I.E.D... https://t.co/mQalO9k2xQ a través de @YouTube   \n",
       "689                                                                                                                                                               RT @teleSURtv: #Colombia 🇨🇴 | Ciudadanos denunciaron este martes que el #Esmad de la Policía reprimió la noche del lunes a las personas que…   \n",
       "1954                                                                             @IvanCepedaCast El derecho a la protesta entierra los demás derechos ciudadanos en #Colombia! El pueblo es sometido por la dictadura de bloqueos y vandalismo! #UribeTieneLaRazon #PetroNuncaSeraPresidente #PetroSeHaceODIAR   \n",
       "1157                       #Buenaventura #BuenaventuraResiste #SOSBuenaventura \\nEXPLOSIÓN PETARDOS \\nRESISTENCIA \\n#UribeDioLaOrden #ElParoNOPara\\n #ColombiaResiste #ColombiaSOS  #SOSOCOLOMBIA #PrimeraLinea #GraciasPrimeraLinea #SOSColombiaDDDHH #ParoNacional17M  #ParoNacional https://t.co/3AA00H1OVk   \n",
       "71                                                                                                                                                                                                                        RT @MafeCarrascal: ¿Y mañana sábado?¿Monumento a Los Héroes en Bogotá? #ParoNacional   \n",
       "2255                                                                                                                                                                                                              @petrogustavo #NoMasParo #PetroEsUnHampon #PETRO DESTRUYE A COLOMBIA https://t.co/dpc2tZCder   \n",
       "1678  TRAIGA MENOR QUE SE LLEVARON AYER \\nPIDA PERDON X LAS VIOLACIONES A LA MUJER \\n#PortalAmericas RESISTE SIN NEGOCIACIONES #Colombia #Bogotá #bogotáenalertaroja #BogotáResiste\\n#PrimeraLinea #GraciasPrimeraLinea #ParoNacional18M  #ParoNacional18M #ParoNacional #ElParoNOPara https://t.co/4BR1i4KYAa   \n",
       "514                                       #Rusia rechaza declaraciones del Ministro de Defensa, Diego Molano de #Colombia, quien aseguró que, en un ejercicio de ciberseguridad, durante las protestas han salido 102 noticias falsas para desacreditar a la policía. #ParoNacional\\n\\nhttps://t.co/1S3fAuOnOi   \n",
       "1701                                                                                                                                                                                            Se me acaban las esperanzas... #NoMasParo #NoMasBloqueos #Rechazo #VandalismoPuroYDuro https://t.co/QCvB3o61Ar   \n",
       "104                                                                                                                                                               RT @CesarJerezM: Esta mañana fue encontrada la cabeza de un muchacho en un contenedor de basura del Colegio Alfonso López,  cerca al @almac…   \n",
       "\n",
       "     test  prob  \n",
       "1408  fav  0.65  \n",
       "689   fav  0.59  \n",
       "1954  fav  0.80  \n",
       "1157  con  0.65  \n",
       "71    con  0.93  \n",
       "2255  con  1.00  \n",
       "1678  con  0.83  \n",
       "514   fav  0.99  \n",
       "1701  con  1.00  \n",
       "104   fav  0.97  "
      ]
     },
     "execution_count": 38,
     "metadata": {},
     "output_type": "execute_result"
    }
   ],
   "source": [
    "dfp[['text','test','prob']].sample(10)"
   ]
  },
  {
   "cell_type": "code",
   "execution_count": 39,
   "metadata": {},
   "outputs": [
    {
     "data": {
      "text/plain": [
       "test\n",
       "con    1193\n",
       "fav    1191\n",
       "Name: test, dtype: int64"
      ]
     },
     "execution_count": 39,
     "metadata": {},
     "output_type": "execute_result"
    }
   ],
   "source": [
    "dfp.groupby('test')['test'].count()"
   ]
  },
  {
   "cell_type": "markdown",
   "metadata": {},
   "source": [
    "Sin quitar RT"
   ]
  },
  {
   "cell_type": "code",
   "execution_count": 40,
   "metadata": {},
   "outputs": [
    {
     "data": {
      "text/plain": [
       "test\n",
       "con    4008\n",
       "fav    5992\n",
       "Name: test, dtype: int64"
      ]
     },
     "execution_count": 40,
     "metadata": {},
     "output_type": "execute_result"
    }
   ],
   "source": [
    "df.groupby('test')['test'].count()"
   ]
  },
  {
   "cell_type": "code",
   "execution_count": null,
   "metadata": {},
   "outputs": [],
   "source": []
  }
 ],
 "metadata": {
  "kernelspec": {
   "display_name": "Python 3 (ipykernel)",
   "language": "python",
   "name": "python3"
  },
  "language_info": {
   "codemirror_mode": {
    "name": "ipython",
    "version": 3
   },
   "file_extension": ".py",
   "mimetype": "text/x-python",
   "name": "python",
   "nbconvert_exporter": "python",
   "pygments_lexer": "ipython3",
   "version": "3.7.3"
  }
 },
 "nbformat": 4,
 "nbformat_minor": 4
}
